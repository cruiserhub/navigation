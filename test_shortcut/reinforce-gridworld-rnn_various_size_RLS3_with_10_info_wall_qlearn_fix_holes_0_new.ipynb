{
 "cells": [
  {
   "cell_type": "markdown",
   "metadata": {
    "toc": "true"
   },
   "source": [
    "<h1>Table of Contents<span class=\"tocSkip\"></span></h1>\n",
    "<div class=\"toc\"><ul class=\"toc-item\"><li><span><a href=\"#quick-start\" data-toc-modified-id=\"quick-start-1\"><span class=\"toc-item-num\">1&nbsp;&nbsp;</span>quick start</a></span><ul class=\"toc-item\"><li><span><a href=\"#Resources\" data-toc-modified-id=\"Resources-1.1\"><span class=\"toc-item-num\">1.1&nbsp;&nbsp;</span>Resources</a></span></li></ul></li><li><span><a href=\"#FULL-MODEL\" data-toc-modified-id=\"FULL-MODEL-2\"><span class=\"toc-item-num\">2&nbsp;&nbsp;</span>FULL MODEL</a></span><ul class=\"toc-item\"><li><span><a href=\"#Packages\" data-toc-modified-id=\"Packages-2.1\"><span class=\"toc-item-num\">2.1&nbsp;&nbsp;</span>Packages</a></span><ul class=\"toc-item\"><li><span><a href=\"#Qnetwork\" data-toc-modified-id=\"Qnetwork-2.1.1\"><span class=\"toc-item-num\">2.1.1&nbsp;&nbsp;</span>Qnetwork</a></span></li></ul></li><li><span><a href=\"#POMDP-RNN-Game\" data-toc-modified-id=\"POMDP-RNN-Game-2.2\"><span class=\"toc-item-num\">2.2&nbsp;&nbsp;</span>POMDP RNN Game</a></span></li><li><span><a href=\"#Results\" data-toc-modified-id=\"Results-2.3\"><span class=\"toc-item-num\">2.3&nbsp;&nbsp;</span>Results</a></span><ul class=\"toc-item\"><li><span><a href=\"#Standard-setting：-grid-=--(3,7)，-holes-=-0\" data-toc-modified-id=\"Standard-setting：-grid-=--(3,7)，-holes-=-0-2.3.1\"><span class=\"toc-item-num\">2.3.1&nbsp;&nbsp;</span>Standard setting： grid =  (3,7)， holes = 0</a></span></li><li><span><a href=\"#Model-Tranining\" data-toc-modified-id=\"Model-Tranining-2.3.2\"><span class=\"toc-item-num\">2.3.2&nbsp;&nbsp;</span>Model Tranining</a></span></li><li><span><a href=\"#decoding-vs-performance\" data-toc-modified-id=\"decoding-vs-performance-2.3.3\"><span class=\"toc-item-num\">2.3.3&nbsp;&nbsp;</span>decoding vs performance</a></span></li><li><span><a href=\"#learning-rate-vs-performance\" data-toc-modified-id=\"learning-rate-vs-performance-2.3.4\"><span class=\"toc-item-num\">2.3.4&nbsp;&nbsp;</span>learning rate vs performance</a></span></li><li><span><a href=\"#Summary\" data-toc-modified-id=\"Summary-2.3.5\"><span class=\"toc-item-num\">2.3.5&nbsp;&nbsp;</span>Summary</a></span></li><li><span><a href=\"#Anlytic-part-,-check-the-behaviour-correspond-to-each-decoding-level-and-explain-why\" data-toc-modified-id=\"Anlytic-part-,-check-the-behaviour-correspond-to-each-decoding-level-and-explain-why-2.3.6\"><span class=\"toc-item-num\">2.3.6&nbsp;&nbsp;</span>Anlytic part , check the behaviour correspond to each decoding level and explain why</a></span></li></ul></li><li><span><a href=\"#PCA\" data-toc-modified-id=\"PCA-2.4\"><span class=\"toc-item-num\">2.4&nbsp;&nbsp;</span>PCA</a></span></li></ul></li></ul></div>"
   ]
  },
  {
   "cell_type": "markdown",
   "metadata": {},
   "source": [
    "# quick start "
   ]
  },
  {
   "cell_type": "markdown",
   "metadata": {},
   "source": [
    "Test what is the decoding change for single size training "
   ]
  },
  {
   "cell_type": "markdown",
   "metadata": {},
   "source": [
    "## Resources\n",
    "\n",
    "* [*The* Reinforcement learning book from Sutton & Barto](http://incompleteideas.net/sutton/book/the-book-2nd.html)\n",
    "* [The REINFORCE paper from Ronald J. Williams (1992)](http://www-anw.cs.umass.edu/~barto/courses/cs687/williams92simple.pdf)\n"
   ]
  },
  {
   "cell_type": "markdown",
   "metadata": {},
   "source": [
    "# FULL MODEL"
   ]
  },
  {
   "cell_type": "markdown",
   "metadata": {},
   "source": [
    "## Packages"
   ]
  },
  {
   "cell_type": "code",
   "execution_count": 1,
   "metadata": {},
   "outputs": [
    {
     "name": "stdout",
     "output_type": "stream",
     "text": [
      "Populating the interactive namespace from numpy and matplotlib\n"
     ]
    },
    {
     "name": "stderr",
     "output_type": "stream",
     "text": [
      "/home/tie/anaconda3/lib/python3.6/site-packages/IPython/core/magics/pylab.py:160: UserWarning: pylab import has clobbered these variables: ['random']\n",
      "`%matplotlib` prevents importing * from pylab and numpy\n",
      "  \"\\n`%matplotlib` prevents importing * from pylab and numpy\"\n"
     ]
    }
   ],
   "source": [
    "%load_ext autoreload\n",
    "%autoreload 2\n",
    "\n",
    "import numpy as np\n",
    "from itertools import count\n",
    "import random\n",
    "\n",
    "import torch\n",
    "import torch.nn as nn\n",
    "import torch.nn.functional as F\n",
    "import torch.optim as optim\n",
    "import torch.autograd as autograd\n",
    "from torch.autograd import Variable\n",
    "from torch.nn import init\n",
    "from torch.nn import DataParallel\n",
    "from torch.utils.data import DataLoader\n",
    "\n",
    "import matplotlib.mlab as mlab\n",
    "import matplotlib.pyplot as plt\n",
    "import matplotlib.animation\n",
    "import seaborn as sns\n",
    "from IPython.display import HTML\n",
    "\n",
    "import pretrain\n",
    "from pretrain import *\n",
    "\n",
    "import Nets\n",
    "from Nets import*\n",
    "\n",
    "import navigation2\n",
    "from navigation2 import *\n",
    "\n",
    "%pylab inline\n",
    "import warnings\n",
    "warnings.filterwarnings('ignore')"
   ]
  },
  {
   "cell_type": "markdown",
   "metadata": {},
   "source": [
    "### Qnetwork\n",
    "\n",
    "To select actions we take maximum of Q value, corresponding to certain move."
   ]
  },
  {
   "cell_type": "markdown",
   "metadata": {},
   "source": [
    "For the liquid state approach to work, you need a lot of neurons as surplus or enough hidden to hidden connectivity to make it have an effect."
   ]
  },
  {
   "cell_type": "markdown",
   "metadata": {},
   "source": [
    "##  POMDP RNN Game\n",
    "\n",
    "In this game , we use a new reward function determined by game, if the agent achieves the goal before 50, reward is 1. If time pass 50 reward is 0.5, once time pass 100 agent gets a reward of -0.5 .  Practically, this is found to be easier to learn than the rewards as a continous function of time.  Tf the agent learns to search in a efficient way, the largest possible way for search is to firstly arrive at corner then goes to the goal, which, takes about 50 steps, it is reasonble to make 50 and 100 as milestone thing.  Also in principe as the game doesn't have a timer , it is not if it can use a reward as funtion of time"
   ]
  },
  {
   "cell_type": "markdown",
   "metadata": {},
   "source": [
    "3 condition for ending , when pass time limit, game over"
   ]
  },
  {
   "cell_type": "markdown",
   "metadata": {},
   "source": [
    "For weight update, it seems to be better do it after episode, as it makes non-sense evaluate strategy during episode, but a the end. Also, it is much quicker. "
   ]
  },
  {
   "cell_type": "markdown",
   "metadata": {},
   "source": [
    "A programming of MDP here, hidden state is as state of enviroment"
   ]
  },
  {
   "cell_type": "code",
   "execution_count": 2,
   "metadata": {},
   "outputs": [],
   "source": [
    "pregame = PretrainGame(grid_size = (15, 15), holes = 0, random_seed = 4 , set_reward = [(0.5, 0.25), (0.5, 0.75)])\n",
    "pregame.reset(set_agent=(2,2))\n",
    "# rls_q = RLS(1)\n",
    "# rls_sl = RLS(1)\n",
    "# for i in range(1):\n",
    "#     pregame.fulltrain(trials = 4)\n",
    "    "
   ]
  },
  {
   "cell_type": "code",
   "execution_count": 3,
   "metadata": {},
   "outputs": [],
   "source": [
    "game = ValueMaxGame(pregame.net, grid_size = (15, 15), holes = 50, random_seed = 4 , set_reward =  [(0.5, 0.25), (0.5, 0.75)])\n",
    "# game.experiment(rls_q, rls_sl, 20, epsilon = 0.5, lr = 1e-3, train_hidden = False, train_q = False) "
   ]
  },
  {
   "cell_type": "code",
   "execution_count": 4,
   "metadata": {},
   "outputs": [
    {
     "data": {
      "text/plain": [
       "<matplotlib.image.AxesImage at 0x7f03c8ead4e0>"
      ]
     },
     "execution_count": 4,
     "metadata": {},
     "output_type": "execute_result"
    },
    {
     "data": {
      "image/png": "[encoded data removed]",
      "text/plain": [
       "<matplotlib.figure.Figure at 0x7f043c12b278>"
      ]
     },
     "metadata": {},
     "output_type": "display_data"
    }
   ],
   "source": [
    "game.reset(size = 15, reward_control=0)\n",
    "plt.matshow(game.grid.grid)\n",
    "\n",
    "# plt.savefig('g16h3-map')"
   ]
  },
  {
   "cell_type": "markdown",
   "metadata": {},
   "source": [
    "Think of how to make this traning stable, adding exploration noise , intenral noise or environmental variability like multiple mazes  "
   ]
  },
  {
   "cell_type": "code",
   "execution_count": 5,
   "metadata": {},
   "outputs": [
    {
     "name": "stdout",
     "output_type": "stream",
     "text": [
      "clear session data 4 13286539264\n",
      "0 rewards -0.453125\n",
      "clear session data 4 13556736000\n",
      "1 rewards -0.328125\n",
      "clear session data 4 13557260288\n",
      "2 rewards -0.235703125\n",
      "clear session data 4 13556740096\n",
      "3 rewards -0.23585792824074076\n",
      "clear session data 4 13556740096\n",
      "4 rewards -0.17220315662955465\n",
      "clear session data 4 13557002240\n",
      "5 rewards -0.15645926339285715\n",
      "clear session data 4 13556744192\n",
      "6 rewards 0.014075969827586188\n",
      "clear session data 4 13557006336\n",
      "7 rewards -0.0322265625\n",
      "clear session data 4 13557268480\n",
      "8 rewards 0.07736073369565218\n",
      "clear session data 4 13557010432\n",
      "9 rewards 0.18341056034482758\n",
      "clear session data 4 13557272576\n",
      "10 rewards 0.09076450892857142\n",
      "clear session data 4 13557534720\n",
      "11 rewards 0.295654296875\n",
      "clear session data 4 13557272576\n",
      "12 rewards 0.23159947997541408\n",
      "clear session data 4 13557276672\n",
      "13 rewards 0.32505936701787996\n",
      "clear session data 4 13557538816\n",
      "14 rewards 0.2932582288401254\n",
      "clear session data 4 13557014528\n",
      "15 rewards 0.3415212943193582\n",
      "clear session data 4 13557018624\n",
      "16 rewards 0.32525038145323704\n",
      "clear session data 4 13557018624\n",
      "17 rewards 0.3123046875\n",
      "clear session data 4 13557018624\n",
      "18 rewards 0.33995327674655385\n",
      "clear session data 4 13557280768\n",
      "19 rewards 0.26003122853708793\n",
      "clear session data 4 13271703552\n",
      "0 rewards -0.4375\n",
      "clear session data 4 13753487360\n",
      "1 rewards -0.35058106859864674\n",
      "clear session data 4 13753483264\n",
      "2 rewards -0.20556994451992752\n",
      "clear session data 4 13815521280\n",
      "3 rewards -0.34577047413793105\n",
      "clear session data 4 13876912128\n",
      "4 rewards -0.265625\n",
      "clear session data 4 13753528320\n",
      "5 rewards -0.12722252155172414\n",
      "clear session data 4 13815087104\n",
      "6 rewards -0.07986248585972852\n",
      "clear session data 4 13814927360\n",
      "7 rewards -0.234375\n",
      "clear session data 4 13753581568\n",
      "8 rewards 0.07240327146170124\n",
      "clear session data 4 13814923264\n",
      "9 rewards 0.0293329548953202\n",
      "clear session data 4 13814976512\n",
      "10 rewards 0.054674133649416506\n",
      "clear session data 4 13753307136\n",
      "11 rewards 0.10329938616071428\n",
      "clear session data 4 13877063680\n",
      "12 rewards -0.001899038461538466\n",
      "clear session data 4 13753622528\n",
      "13 rewards 0.07516837284482757\n",
      "clear session data 4 13815443456\n",
      "14 rewards 0.0466796875\n",
      "clear session data 4 13815595008\n",
      "15 rewards 0.15625\n",
      "clear session data 4 13814804480\n",
      "16 rewards 0.13822115384615385\n",
      "clear session data 4 13814964224\n",
      "17 rewards 0.10531135257024266\n",
      "clear session data 4 13753872384\n",
      "18 rewards 0.13387313958939767\n",
      "clear session data 4 13815324672\n",
      "19 rewards 0.2442620494378307\n",
      "clear session data 4 13223878656\n",
      "0 rewards -0.421875\n",
      "clear session data 4 13585584128\n",
      "1 rewards -0.28125\n",
      "clear session data 4 13708279808\n",
      "2 rewards -0.3159505208333333\n",
      "clear session data 4 13646655488\n",
      "3 rewards -0.1775173611111111\n",
      "clear session data 4 13842563072\n",
      "4 rewards -0.1270652601808313\n",
      "clear session data 4 13842501632\n",
      "5 rewards -0.20435474537037038\n",
      "clear session data 4 13842022400\n",
      "6 rewards -0.11074218750000003\n",
      "clear session data 4 13781192704\n",
      "7 rewards -0.05035605344363073\n",
      "clear session data 4 13841960960\n",
      "8 rewards -0.12599609375\n",
      "clear session data 4 13842534400\n",
      "9 rewards 0.008812313988095233\n",
      "clear session data 4 13780914176\n",
      "10 rewards 0.07337084722927933\n",
      "clear session data 4 13842198528\n",
      "11 rewards 0.2125217013888889\n",
      "clear session data 4 13842518016\n",
      "12 rewards 0.09260856331168832\n",
      "clear session data 4 13780631552\n",
      "13 rewards 0.16203745332862415\n",
      "clear session data 4 13842190336\n",
      "14 rewards 0.3170294981549022\n",
      "clear session data 4 13842767872\n",
      "15 rewards 0.2778563606806468\n",
      "clear session data 4 13781139456\n",
      "16 rewards 0.4468823557758094\n",
      "clear session data 4 13842436096\n",
      "17 rewards 0.4188796518874644\n",
      "clear session data 4 13842485248\n",
      "18 rewards 0.3066116500686813\n",
      "clear session data 4 13781131264\n",
      "19 rewards 0.23318504050925926\n"
     ]
    }
   ],
   "source": [
    "# moving bar train\n",
    "for iters, noise in enumerate(3 * [0.0]):\n",
    "    for trial in [0]: \n",
    "        Pretest =  PretrainTest(holes = 0, weight_write = 'weights_cpu1/rnn_1515tanh512_checkpoint{}'.format(trial))\n",
    "        weight_read = Pretest.weight\n",
    "        weight_write = 'weights_fix3/weights3/rnn_1515tanh512_checkpoint{}_{}'.format(trial, iters)\n",
    "        rewards = Pretest.qlearn(weight_read,  weight_write, iterations = 20, noise = noise, size_train =[15], size_test=[15])\n",
    "        np.save('Rewards_{}_{}.npy'.format(iters, trial), rewards)"
   ]
  },
  {
   "cell_type": "code",
   "execution_count": null,
   "metadata": {},
   "outputs": [
    {
     "name": "stdout",
     "output_type": "stream",
     "text": [
      "clear session data 4 13211820032\n",
      "0 rewards -0.3766282894736842\n",
      "clear session data 4 13658816512\n",
      "1 rewards -0.2529658564814815\n",
      "clear session data 4 13598130176\n",
      "2 rewards -0.2073426085633117\n",
      "clear session data 4 13659201536\n",
      "3 rewards -0.2975260416666667\n",
      "clear session data 4 13597319168\n",
      "4 rewards -0.29725060096153844\n",
      "clear session data 4 13659512832\n",
      "5 rewards -0.2041015625\n",
      "clear session data 4 13597360128\n",
      "6 rewards -0.12698102678571427\n",
      "clear session data 4 13659766784\n",
      "7 rewards -0.20414663461538463\n",
      "clear session data 4 13668818944\n",
      "8 rewards -0.203125\n",
      "clear session data 4 13730172928\n",
      "9 rewards -0.23514441287878787\n",
      "clear session data 4 13668278272\n",
      "10 rewards -0.0029875578703703887\n",
      "clear session data 4 13729898496\n",
      "11 rewards -0.2665318080357143\n",
      "clear session data 4 13668536320\n",
      "12 rewards -0.11639782656081148\n",
      "clear session data 4 13649719296\n",
      "13 rewards -0.21875\n",
      "clear session data 4 13587828736\n",
      "14 rewards -0.3154494160353535\n",
      "clear session data 4 13649379328\n",
      "15 rewards -0.026274958069080534\n",
      "clear session data 4 13649915904\n",
      "16 rewards -0.12507812499999998\n",
      "clear session data 4 13649903616\n",
      "17 rewards 0.027845552884615384\n",
      "clear session data 4 13649887232\n",
      "18 rewards -0.05145917884199133\n",
      "clear session data 4 13649690624\n",
      "19 rewards -0.14189453125\n",
      "clear session data 4 13383532544\n",
      "0 rewards -0.41008738982371795\n",
      "clear session data 4 13421465600\n",
      "1 rewards -0.28125\n"
     ]
    }
   ],
   "source": [
    "# moving bar train, with strengthened action \n",
    "for iters, noise in enumerate(3 * [0.0]):\n",
    "    for trial in [0]: \n",
    "        Pretest =  PretrainTest(holes = 0, weight_write = 'weights_cpu1/rnn_1515tanh512_checkpoint{}'.format(trial))\n",
    "        weight_read = Pretest.weight\n",
    "        weight_write = 'weights_fix4/rnn_1515tanh512_checkpoint{}_{}'.format(trial, iters)\n",
    "        rewards = Pretest.qlearn(weight_read,  weight_write, iterations = 20, noise = noise, size_train =[15], size_test=[15],\\\n",
    "                                k_action = 5)\n"
   ]
  },
  {
   "cell_type": "code",
   "execution_count": null,
   "metadata": {},
   "outputs": [
    {
     "name": "stdout",
     "output_type": "stream",
     "text": [
      "clear session data 4 13462134784\n",
      "0 rewards -0.34556107954545456\n",
      "clear session data 4 13598126080\n",
      "1 rewards -0.207175898731203\n",
      "clear session data 4 13659889664\n",
      "2 rewards -0.3930338541666667\n",
      "clear session data 4 13748297728\n",
      "3 rewards -0.328125\n",
      "clear session data 4 13748412416\n",
      "4 rewards -0.2853348637040043\n",
      "clear session data 4 13748137984\n",
      "5 rewards -0.3491123803135522\n",
      "clear session data 4 13748932608\n",
      "6 rewards -0.23682288212864722\n",
      "clear session data 4 13748916224\n",
      "7 rewards -0.33501953125\n",
      "clear session data 4 13748645888\n",
      "8 rewards -0.19360668628246752\n",
      "clear session data 4 13748633600\n",
      "9 rewards -0.2840606007623894\n",
      "clear session data 4 13748903936\n",
      "10 rewards -0.2672526041666667\n",
      "clear session data 4 13748625408\n",
      "11 rewards -0.15970268338432403\n",
      "clear session data 4 13749145600\n",
      "12 rewards -0.27008688038793105\n",
      "clear session data 4 13748867072\n",
      "13 rewards -0.3349381738053613\n",
      "clear session data 4 13748604928\n",
      "14 rewards -0.2824497767857143\n",
      "clear session data 4 13748871168\n",
      "15 rewards -0.265625\n",
      "clear session data 4 13757804544\n",
      "16 rewards -0.1768893801510989\n",
      "clear session data 4 13757796352\n",
      "17 rewards -0.19063895089285715\n",
      "clear session data 4 13757530112\n",
      "18 rewards -0.23591162008281574\n",
      "clear session data 4 13758050304\n",
      "19 rewards -0.24031803777481026\n",
      "clear session data 4 13757251584\n",
      "20 rewards -0.20597330729166669\n",
      "clear session data 4 13757505536\n",
      "21 rewards -0.2733023425254702\n",
      "clear session data 4 13757227008\n",
      "22 rewards -0.3139670531674208\n",
      "clear session data 4 13758287872\n",
      "23 rewards -0.11595946371336996\n",
      "clear session data 4 13757485056\n",
      "24 rewards -0.22426364942528737\n",
      "clear session data 4 13757476864\n",
      "25 rewards -0.052605195547892086\n",
      "clear session data 4 13757734912\n",
      "26 rewards -0.265625\n",
      "clear session data 4 13757997056\n",
      "27 rewards -0.16163597470238095\n",
      "clear session data 4 13757730816\n",
      "28 rewards -0.08456405248397436\n",
      "clear session data 4 13757448192\n",
      "29 rewards -0.12633268785612536\n",
      "clear session data 4 13757968384\n",
      "30 rewards -0.1266595643939394\n",
      "clear session data 4 13757706240\n",
      "31 rewards -0.17631899462785777\n",
      "clear session data 4 13757960192\n",
      "32 rewards 0.03987862723214287\n",
      "clear session data 4 13482917888\n",
      "33 rewards 0.043181256939002086\n",
      "clear session data 4 13496528896\n",
      "34 rewards -0.03420758928571429\n",
      "clear session data 4 13496459264\n",
      "35 rewards -0.09799429086538461\n",
      "clear session data 4 13496721408\n",
      "36 rewards -0.050780487911092534\n",
      "clear session data 4 13496455168\n",
      "37 rewards -0.04972330729166666\n",
      "clear session data 4 13485854720\n",
      "38 rewards -0.06768246435676392\n",
      "clear session data 4 13483651072\n",
      "39 rewards -0.0046281030167748954\n",
      "clear session data 4 13488513024\n",
      "40 rewards -0.0625\n",
      "clear session data 4 13491785728\n",
      "41 rewards 0.08821266199832777\n",
      "clear session data 4 13482962944\n",
      "42 rewards 0.010823207311608622\n",
      "clear session data 4 13481566208\n",
      "43 rewards 0.08782201522435898\n",
      "clear session data 4 13483548672\n",
      "44 rewards 0.29171947843822843\n",
      "clear session data 4 13484670976\n",
      "45 rewards 0.041350983001373624\n",
      "clear session data 4 13484703744\n",
      "46 rewards 0.15413411458333334\n",
      "clear session data 4 13484175360\n",
      "47 rewards 0.1672644412878788\n",
      "clear session data 4 13484429312\n",
      "48 rewards 0.184292708683199\n",
      "clear session data 4 13483896832\n",
      "49 rewards 0.29445043103448276\n",
      "clear session data 4 13577564160\n",
      "0 rewards -0.22133091517857142\n",
      "clear session data 4 13576925184\n",
      "1 rewards -0.3017456255131363\n",
      "clear session data 4 13699887104\n",
      "2 rewards -0.14453125\n",
      "clear session data 4 13576716288\n",
      "3 rewards -0.25524042178129686\n",
      "clear session data 4 13638799360\n",
      "4 rewards -0.3286959134615385\n",
      "clear session data 4 13638328320\n",
      "5 rewards -0.265625\n",
      "clear session data 4 13577285632\n",
      "6 rewards -0.2061802455357143\n",
      "clear session data 4 13639012352\n",
      "7 rewards -0.20557127515135326\n",
      "clear session data 4 13638803456\n",
      "8 rewards -0.15987472813644688\n"
     ]
    }
   ],
   "source": [
    "# moving bar train, with strengthened action \n",
    "for iters, noise in enumerate(3 * [0.0]):\n",
    "    for trial in [0]: \n",
    "        Pretest =  PretrainTest(holes = 0, weight_write = 'weights_cpu1/rnn_1515tanh512_checkpoint{}'.format(trial))\n",
    "        weight_read = Pretest.weight\n",
    "        weight_write = 'weights_fix4/rnn_1515tanh512_checkpoint{}_{}'.format(trial, iters+1)\n",
    "        rewards = Pretest.qlearn(weight_read,  weight_write, iterations = 50, noise = noise, size_train =[15], size_test=[15],\\\n",
    "                                k_action = 5)\n"
   ]
  },
  {
   "cell_type": "markdown",
   "metadata": {},
   "source": [
    "### measure decoding "
   ]
  },
  {
   "cell_type": "markdown",
   "metadata": {},
   "source": [
    "Decoding accuracy decreases, there are two possible reasons: \n",
    "1, decoding has bias,  information of position is only refleted by decoding, if there is certain bias , it is not trustable\n",
    "2, it is the real measure of information, so there are less spatial information about space, or an effect decoupling/disentanglement of position. This can be due the network succeed at finding an even lower diemnsion object which gives successful performance.  The representation deceases its information to input in a sense. \n",
    "\n",
    "This can be linked to receptive field by looking at how space is represented. "
   ]
  },
  {
   "cell_type": "code",
   "execution_count": null,
   "metadata": {},
   "outputs": [],
   "source": []
  }
 ],
 "metadata": {
  "anaconda-cloud": {},
  "kernelspec": {
   "display_name": "Python 3",
   "language": "python",
   "name": "python3"
  },
  "language_info": {
   "codemirror_mode": {
    "name": "ipython",
    "version": 3
   },
   "file_extension": ".py",
   "mimetype": "text/x-python",
   "name": "python",
   "nbconvert_exporter": "python",
   "pygments_lexer": "ipython3",
   "version": "3.6.3"
  },
  "latex_envs": {
   "LaTeX_envs_menu_present": true,
   "autoclose": false,
   "autocomplete": true,
   "bibliofile": "biblio.bib",
   "cite_by": "apalike",
   "current_citInitial": 1,
   "eqLabelWithNumbers": true,
   "eqNumInitial": 1,
   "hotkeys": {
    "equation": "Ctrl-E",
    "itemize": "Ctrl-I"
   },
   "labels_anchors": false,
   "latex_user_defs": false,
   "report_style_numbering": false,
   "user_envs_cfg": false
  },
  "toc": {
   "nav_menu": {},
   "number_sections": true,
   "sideBar": true,
   "skip_h1_title": false,
   "title_cell": "Table of Contents",
   "title_sidebar": "Contents",
   "toc_cell": true,
   "toc_position": {
    "height": "759px",
    "left": "0px",
    "right": "1228px",
    "top": "67px",
    "width": "212px"
   },
   "toc_section_display": "block",
   "toc_window_display": true
  },
  "varInspector": {
   "cols": {
    "lenName": 16,
    "lenType": 16,
    "lenVar": 40
   },
   "kernels_config": {
    "python": {
     "delete_cmd_postfix": "",
     "delete_cmd_prefix": "del ",
     "library": "var_list.py",
     "varRefreshCmd": "print(var_dic_list())"
    },
    "r": {
     "delete_cmd_postfix": ") ",
     "delete_cmd_prefix": "rm(",
     "library": "var_list.r",
     "varRefreshCmd": "cat(var_dic_list()) "
    }
   },
   "types_to_exclude": [
    "module",
    "function",
    "builtin_function_or_method",
    "instance",
    "_Feature"
   ],
   "window_display": false
  }
 },
 "nbformat": 4,
 "nbformat_minor": 2
}
