{
 "cells": [
  {
   "cell_type": "markdown",
   "metadata": {
    "toc": "true"
   },
   "source": [
    "<h1>Table of Contents<span class=\"tocSkip\"></span></h1>\n",
    "<div class=\"toc\"><ul class=\"toc-item\"><li><span><a href=\"#quick-start\" data-toc-modified-id=\"quick-start-1\"><span class=\"toc-item-num\">1&nbsp;&nbsp;</span>quick start</a></span><ul class=\"toc-item\"><li><span><a href=\"#Resources\" data-toc-modified-id=\"Resources-1.1\"><span class=\"toc-item-num\">1.1&nbsp;&nbsp;</span>Resources</a></span></li></ul></li><li><span><a href=\"#FULL-MODEL\" data-toc-modified-id=\"FULL-MODEL-2\"><span class=\"toc-item-num\">2&nbsp;&nbsp;</span>FULL MODEL</a></span><ul class=\"toc-item\"><li><span><a href=\"#Packages\" data-toc-modified-id=\"Packages-2.1\"><span class=\"toc-item-num\">2.1&nbsp;&nbsp;</span>Packages</a></span><ul class=\"toc-item\"><li><span><a href=\"#Qnetwork\" data-toc-modified-id=\"Qnetwork-2.1.1\"><span class=\"toc-item-num\">2.1.1&nbsp;&nbsp;</span>Qnetwork</a></span></li></ul></li><li><span><a href=\"#POMDP-RNN-Game\" data-toc-modified-id=\"POMDP-RNN-Game-2.2\"><span class=\"toc-item-num\">2.2&nbsp;&nbsp;</span>POMDP RNN Game</a></span></li><li><span><a href=\"#Results\" data-toc-modified-id=\"Results-2.3\"><span class=\"toc-item-num\">2.3&nbsp;&nbsp;</span>Results</a></span><ul class=\"toc-item\"><li><span><a href=\"#Standard-setting：-grid-=--(3,7)，-holes-=-0\" data-toc-modified-id=\"Standard-setting：-grid-=--(3,7)，-holes-=-0-2.3.1\"><span class=\"toc-item-num\">2.3.1&nbsp;&nbsp;</span>Standard setting： grid =  (3,7)， holes = 0</a></span></li><li><span><a href=\"#Model-Tranining\" data-toc-modified-id=\"Model-Tranining-2.3.2\"><span class=\"toc-item-num\">2.3.2&nbsp;&nbsp;</span>Model Tranining</a></span></li><li><span><a href=\"#decoding-vs-performance\" data-toc-modified-id=\"decoding-vs-performance-2.3.3\"><span class=\"toc-item-num\">2.3.3&nbsp;&nbsp;</span>decoding vs performance</a></span></li><li><span><a href=\"#learning-rate-vs-performance\" data-toc-modified-id=\"learning-rate-vs-performance-2.3.4\"><span class=\"toc-item-num\">2.3.4&nbsp;&nbsp;</span>learning rate vs performance</a></span></li><li><span><a href=\"#Summary\" data-toc-modified-id=\"Summary-2.3.5\"><span class=\"toc-item-num\">2.3.5&nbsp;&nbsp;</span>Summary</a></span></li><li><span><a href=\"#Anlytic-part-,-check-the-behaviour-correspond-to-each-decoding-level-and-explain-why\" data-toc-modified-id=\"Anlytic-part-,-check-the-behaviour-correspond-to-each-decoding-level-and-explain-why-2.3.6\"><span class=\"toc-item-num\">2.3.6&nbsp;&nbsp;</span>Anlytic part , check the behaviour correspond to each decoding level and explain why</a></span></li></ul></li><li><span><a href=\"#PCA\" data-toc-modified-id=\"PCA-2.4\"><span class=\"toc-item-num\">2.4&nbsp;&nbsp;</span>PCA</a></span></li></ul></li></ul></div>"
   ]
  },
  {
   "cell_type": "markdown",
   "metadata": {},
   "source": [
    "# quick start "
   ]
  },
  {
   "cell_type": "markdown",
   "metadata": {},
   "source": [
    "**Check relation betweeen dynamics and generalization.   Hypothesis to make: generalization can only be understood in level of joint dynamical system, there is a clear link between the two**\n",
    "\n",
    "**Dynamnics determines generalization , not decoding , same decoding level can have very different dynamics , thus different generalization level.  Only when the dynamics of RNN forms object correspond to real relevant objects for game, the generalization can be good.   For instance , in a varying size game, you extend the size of game from 10 to 30, what will happen?  You can do a kind of dynamical programing , according to which wall you have seen and how many steps you have passed , you decide future action.    This can be achieved robustly by the dynamical system where fix points are correspond to walls**"
   ]
  },
  {
   "cell_type": "markdown",
   "metadata": {},
   "source": [
    "## Resources\n",
    "\n",
    "* [*The* Reinforcement learning book from Sutton & Barto](http://incompleteideas.net/sutton/book/the-book-2nd.html)\n",
    "* [The REINFORCE paper from Ronald J. Williams (1992)](http://www-anw.cs.umass.edu/~barto/courses/cs687/williams92simple.pdf)\n"
   ]
  },
  {
   "cell_type": "markdown",
   "metadata": {},
   "source": [
    "# FULL MODEL"
   ]
  },
  {
   "cell_type": "markdown",
   "metadata": {},
   "source": [
    "## Packages"
   ]
  },
  {
   "cell_type": "code",
   "execution_count": 1,
   "metadata": {},
   "outputs": [
    {
     "name": "stdout",
     "output_type": "stream",
     "text": [
      "Populating the interactive namespace from numpy and matplotlib\n"
     ]
    },
    {
     "name": "stderr",
     "output_type": "stream",
     "text": [
      "/home/tie/anaconda3/lib/python3.6/site-packages/IPython/core/magics/pylab.py:160: UserWarning: pylab import has clobbered these variables: ['random']\n",
      "`%matplotlib` prevents importing * from pylab and numpy\n",
      "  \"\\n`%matplotlib` prevents importing * from pylab and numpy\"\n"
     ]
    }
   ],
   "source": [
    "%load_ext autoreload\n",
    "%autoreload 2\n",
    "\n",
    "import numpy as np\n",
    "from itertools import count\n",
    "import random\n",
    "\n",
    "import torch\n",
    "import torch.nn as nn\n",
    "import torch.nn.functional as F\n",
    "import torch.optim as optim\n",
    "import torch.autograd as autograd\n",
    "from torch.autograd import Variable\n",
    "from torch.nn import init\n",
    "from torch.nn import DataParallel\n",
    "from torch.utils.data import DataLoader\n",
    "\n",
    "import matplotlib.mlab as mlab\n",
    "import matplotlib.pyplot as plt\n",
    "import matplotlib.animation\n",
    "import seaborn as sns\n",
    "from IPython.display import HTML\n",
    "\n",
    "import pretrain\n",
    "from pretrain import *\n",
    "\n",
    "import navigation2\n",
    "from navigation2 import *\n",
    "\n",
    "import Nets \n",
    "from Nets import *\n",
    "\n",
    "import GLM\n",
    "from GLM import *\n",
    "\n",
    "import sklearn\n",
    "from sklearn.svm import SVC\n",
    "from sklearn.model_selection import cross_validate\n",
    "\n",
    "import scipy\n",
    "from scipy.spatial import distance\n",
    "from scipy import signal\n",
    "\n",
    "%pylab inline\n",
    "import warnings\n",
    "warnings.filterwarnings('ignore')"
   ]
  },
  {
   "cell_type": "markdown",
   "metadata": {},
   "source": [
    "For the liquid state approach to work, you need a lot of neurons as surplus or enough hidden to hidden connectivity to make it have an effect."
   ]
  },
  {
   "cell_type": "markdown",
   "metadata": {},
   "source": [
    "##  POMDP RNN Game\n",
    "\n",
    "In this game , we use a new reward function determined by game, if the agent achieves the goal before 50, reward is 1. If time pass 50 reward is 0.5, once time pass 100 agent gets a reward of -0.5 .  Practically, this is found to be easier to learn than the rewards as a continous function of time.  Tf the agent learns to search in a efficient way, the largest possible way for search is to firstly arrive at corner then goes to the goal, which, takes about 50 steps, it is reasonble to make 50 and 100 as milestone thing.  Also in principe as the game doesn't have a timer , it is not if it can use a reward as funtion of time"
   ]
  },
  {
   "cell_type": "markdown",
   "metadata": {},
   "source": [
    "3 condition for ending , when pass time limit, game over"
   ]
  },
  {
   "cell_type": "markdown",
   "metadata": {},
   "source": [
    "For weight update, it seems to be better do it after episode, as it makes non-sense evaluate strategy during episode, but a the end. Also, it is much quicker. "
   ]
  },
  {
   "cell_type": "markdown",
   "metadata": {},
   "source": [
    "A programming of MDP here, hidden state is as state of enviroment"
   ]
  },
  {
   "cell_type": "markdown",
   "metadata": {},
   "source": [
    "Training from zero seems to be better because it will allow the agent to explore from new"
   ]
  },
  {
   "cell_type": "markdown",
   "metadata": {},
   "source": [
    "**A coherent result here is threhold kind behaviour of decode vs performance, after decode smaller than 10, the performance rises.  The resutls is showeing that the learning rate vs performance doesn't characterize the threshold kind behaviour of performance change.  It is only after lr = -5, the performance begins to rise , while the learning rate - performance curve creates a fake trends for first few points.  This is not shown by explaination factor calculated by covariance.  **"
   ]
  },
  {
   "cell_type": "markdown",
   "metadata": {},
   "source": [
    "If look carefully, the slow timescale here is a very long transient,  it will not return to baseline in a very long run of game, that is different from gru, which maintains a baseline.  If the system is a true integrator,  it should not loose the baseline, because there is no concept of return in this case. \n",
    "\n",
    "The very slow timescale could make the system harder to reset, except I use a strong input.  So reset upon input and remember is always contradictory.  If I design a task also need to pay attention to fast timescale , this will fail more throughly "
   ]
  },
  {
   "cell_type": "markdown",
   "metadata": {},
   "source": [
    "# Real Game Dynamics analysis  \n",
    "The real game dynamcis shows huge difference performance in speed, stability of results, and also statistics of strategy "
   ]
  },
  {
   "cell_type": "markdown",
   "metadata": {},
   "source": [
    "**What is the relation to head direction, this order kept in limit cycle**\n",
    "**Could we define the order parameter for behaviour and link it to dynamics?**"
   ]
  },
  {
   "cell_type": "code",
   "execution_count": 2,
   "metadata": {
    "scrolled": false
   },
   "outputs": [],
   "source": [
    "weight ='weights_fix/weights1/rnn_1515tanh512_checkpoint0_0_9'\n",
    "pregame = PretrainGame(grid_size = (15, 15), holes = 0, random_seed = 4 , set_reward = [(0.5, 0.25), (0.5, 0.75)], input_type = 1)\n",
    "pregame.net.load_state_dict(torch.load(weight))"
   ]
  },
  {
   "cell_type": "markdown",
   "metadata": {},
   "source": [
    "## Game Performance analysis"
   ]
  },
  {
   "cell_type": "markdown",
   "metadata": {},
   "source": [
    "## Real game analysis \n",
    "**The behaviour is best analyzed by pwd and methods in different sizes of arena, in order to see the strategy is mediated by which loop, the big enviromental feedback(low freq related to size) or small action feedbakd(high freq)**\n",
    "\n",
    "we take what shows good performance and send it for analysis \n"
   ]
  },
  {
   "cell_type": "code",
   "execution_count": 3,
   "metadata": {},
   "outputs": [],
   "source": [
    "PCAs = []\n",
    "weight = 'weights_fix/weights1/rnn_1515tanh512_checkpoint0_0_9'\n",
    "for size in [15]:\n",
    "    pca = PCA(weight = weight, size = size)\n",
    "    pca.pca()\n",
    "    PCAs.append(pca.vals[:10]/np.sum(pca.vals))\n",
    "# plt.plot(pca.vals[:10]/np.sum(pca.vals))"
   ]
  },
  {
   "cell_type": "code",
   "execution_count": 83,
   "metadata": {},
   "outputs": [
    {
     "name": "stdout",
     "output_type": "stream",
     "text": [
      "[0.7287387722391061]\n",
      "[0.8428814597659671]\n",
      "[0.8836343737188992]\n",
      "[0.8984871160812647]\n",
      "[0.9242744566018499]\n",
      "[0.9235924315831816]\n"
     ]
    }
   ],
   "source": [
    "for iters in np.arange(5, 16, 2):\n",
    "    weight ='weights_fix3/weights3/rnn_1515tanh512_checkpoint39_1_{}'.format(iters)\n",
    "    pregame = PretrainTest(weight_write = weight, holes = 0, inputs_type = (1, 0))\n",
    "    pregame.game.net.load_state_dict(torch.load(weight))\n",
    "#     pregame.game.grid.grid[ry : ry + 1, rx + 4 : rx + 6] = 0\n",
    "    grid =  pregame.game.grid.grid.copy()\n",
    "    pregame.TestAllSizes(size_range = [15], limit_set = 8, test_size = 0, grid = grid)\n",
    "    print (pregame.Performance)"
   ]
  },
  {
   "cell_type": "code",
   "execution_count": 18,
   "metadata": {},
   "outputs": [
    {
     "name": "stdout",
     "output_type": "stream",
     "text": [
      "[0.08068534655448718]\n",
      "[0.0908567808109834]\n",
      "[-0.08344790087785776]\n",
      "[-0.5178582974137931]\n",
      "[-0.4767783811240842]\n",
      "[-0.559845945083014]\n",
      "[-0.565640122718517]\n",
      "[-0.556392038665687]\n",
      "[-0.5499584056712963]\n",
      "[-0.44969224294722676]\n",
      "[-0.33732009529423324]\n",
      "[-0.1282208163863322]\n",
      "[0.0380483774038462]\n",
      "[0.21371144165020664]\n",
      "[0.2916413682526964]\n"
     ]
    }
   ],
   "source": [
    "for start in np.arange(2, 17):\n",
    "    weight ='weights_fix3/weights3/rnn_1515tanh512_checkpoint39_1_9'\n",
    "    pregame = PretrainTest(weight_write = weight, holes = 0, inputs_type = (1, 0))\n",
    "    pregame.game.net.load_state_dict(torch.load(weight))\n",
    "    grid =  pregame.game.grid.grid.copy()\n",
    "    pregame.TestAllSizes(size_range = [15], limit_set = 2, test_size = 0, grid = grid, start = (4, start))\n",
    "    print (pregame.Performance)"
   ]
  },
  {
   "cell_type": "code",
   "execution_count": 16,
   "metadata": {},
   "outputs": [
    {
     "data": {
      "image/png": "[encoded data removed]",
      "text/plain": [
       "<matplotlib.figure.Figure at 0x7ff56d087550>"
      ]
     },
     "metadata": {},
     "output_type": "display_data"
    }
   ],
   "source": [
    "size = 15\n",
    "PC_traces = []\n",
    "# torch.manual_seed(1)\n",
    "hidden = torch.randn(1, 512)\n",
    "for i in range(1):\n",
    "    start = (np.random.randint(2, size +2),  np.random.randint(2, size+2))\n",
    "    start = (2, 9)\n",
    "\n",
    "    weight = 'weights_fix4/rnn_1515tanh512_checkpoint39_1_32'\n",
    "    game = ValueMaxGame(grid_size = (size, size), holes = 50, random_seed = 4 , set_reward = [(0.5, 0.25), (0.5, 0.75)], input_type = 0, action_control = 1, discount = 0.9, alpha = 1, time_limit=8,\n",
    "                       lam = 0)\n",
    "    game.net.load_state_dict(torch.load(weight))\n",
    "  \n",
    "    start_w, stop_w = 6, 6\n",
    "#     Pos1, hidden1, dH1, Action, reward1 = trajectory(game, start, reward_control = 0, size = size, test = 0, hidden = hidden, wind = (start_w, stop_w))\n",
    "    Pos2, hidden2, dH2, Action, reward2 = trajectory(game, start, reward_control = 1, size = size, test = 0, hidden = hidden, wind = (start_w, stop_w))\n",
    "    grid = game.grid.grid.copy()\n",
    "    if i == 0:\n",
    "        plt.matshow(grid)\n",
    "        y1 = np.array([p[0] for p in Pos1])\n",
    "        x1 = np.array([p[1] for p in Pos1])\n",
    "        y2 = np.array([p[0] for p in Pos2])\n",
    "        x2 = np.array([p[1] for p in Pos2])\n",
    "\n",
    "        plt.plot(start[1], start[0], 'rs')\n",
    "#         plt.quiver(x1[:-1], y1[:-1], x1[1:]-x1[:-1], y1[1:]-y1[:-1], scale_units='xy', angles='xy', scale=1, color = 'b')\n",
    "        x_w, y_w = x1[start_w:stop_w], y1[start_w:stop_w]\n",
    "        plt.quiver(x_w[:-1], y_w[:-1], x_w[1:]-x_w[:-1], y_w[1:]-y_w[:-1], scale_units='xy', angles='xy', scale=1, color = 'r')\n",
    "        plt.quiver(x2[:-1], y2[:-1], x2[1:]-x2[:-1], y2[1:]-y2[:-1], scale_units='xy', angles='xy', scale=1, color = 'm')\n",
    "    # plt.quiver(x3[:-1], y3[:-1], x3[1:]-x3[:-1], y3[1:]-y3[:-1], scale_units='xy', angles='xy', scale=1, color = 'r')\n",
    "    # plt.quiver(x4[:-1], y4[:-1], x4[1:]-x4[:-1], y4[1:]-y4[:-1], scale_units='xy', angles='xy', scale=1, color = 'k')\n",
    "\n",
    "#     PC_traces1 = (pca.vect[:10] @ hidden1.T)\n",
    "#     PC_traces2 = (pca.vect[:10] @ hidden2.T)\n",
    "#     if reward1 == 1: \n",
    "#         PC_traces.extend(PC_traces1[0])\n",
    "#     if reward2 == 1:\n",
    "#         PC_traces.extend(PC_traces2[0])\n",
    "#     if i == 0:\n",
    "#         plt.figure()\n",
    "#         for pc in [0, 1, 2]:\n",
    "#             plt.plot(PC_traces2[pc], label = pc)\n",
    "#         plt.legend()\n",
    "#         plt.xlabel('time')\n",
    "#         plt.ylabel('pca')\n",
    "#         plt.figure()\n",
    "#         plt.plot(Action)\n",
    "# ff, pd = signal.periodogram(np.array(PC_traces), nfft = 100)\n",
    "# plt.figure()\n",
    "# plt.plot(ff, pd)\n",
    "# plt.xlim(0 , 0.1)\n"
   ]
  },
  {
   "cell_type": "code",
   "execution_count": 88,
   "metadata": {},
   "outputs": [
    {
     "data": {
      "image/png": "[encoded data removed]",
      "text/plain": [
       "<matplotlib.figure.Figure at 0x7f114d68c198>"
      ]
     },
     "metadata": {},
     "output_type": "display_data"
    }
   ],
   "source": [
    "size = 15\n",
    "PC_traces = []\n",
    "# torch.manual_seed(1)\n",
    "hidden = torch.randn(1, 512)\n",
    "for i in range(1):\n",
    "    start = (np.random.randint(2, size +2),  np.random.randint(2, size+2))\n",
    "    start = (2, 9)\n",
    "\n",
    "    weight = 'weights_fix4/rnn_1515tanh512_checkpoint39_3_42'\n",
    "    game = ValueMaxGame(grid_size = (size, size), holes = 50, random_seed = 4 , set_reward = [(0.5, 0.25), (0.5, 0.75)], input_type = 0, action_control = 1, discount = 0.9, alpha = 1, time_limit=8,\n",
    "                       lam = 0)\n",
    "    game.net.load_state_dict(torch.load(weight))\n",
    "  \n",
    "    start_w, stop_w = 6, 6\n",
    "#     Pos1, hidden1, dH1, Action, reward1 = trajectory(game, start, reward_control = 0, size = size, test = 0, hidden = hidden, wind = (start_w, stop_w))\n",
    "    Pos2, hidden2, dH2, State, Action, reward2 = trajectory(game, start, reward_control = 1, size = size, test = 0, hidden = hidden, wind = (start_w, stop_w))\n",
    "    grid = game.grid.grid.copy()\n",
    "    if i == 0:\n",
    "        plt.matshow(grid)\n",
    "        y1 = np.array([p[0] for p in Pos1])\n",
    "        x1 = np.array([p[1] for p in Pos1])\n",
    "        y2 = np.array([p[0] for p in Pos2])\n",
    "        x2 = np.array([p[1] for p in Pos2])\n",
    "\n",
    "        plt.plot(start[1], start[0], 'rs')\n",
    "#         plt.quiver(x1[:-1], y1[:-1], x1[1:]-x1[:-1], y1[1:]-y1[:-1], scale_units='xy', angles='xy', scale=1, color = 'b')\n",
    "        x_w, y_w = x1[start_w:stop_w], y1[start_w:stop_w]\n",
    "        plt.quiver(x_w[:-1], y_w[:-1], x_w[1:]-x_w[:-1], y_w[1:]-y_w[:-1], scale_units='xy', angles='xy', scale=1, color = 'r')\n",
    "        plt.quiver(x2[:-1], y2[:-1], x2[1:]-x2[:-1], y2[1:]-y2[:-1], scale_units='xy', angles='xy', scale=1, color = 'm')"
   ]
  },
  {
   "cell_type": "code",
   "execution_count": 41,
   "metadata": {},
   "outputs": [
    {
     "data": {
      "image/png": "[encoded data removed]",
      "text/plain": [
       "<matplotlib.figure.Figure at 0x7f114dac8ac8>"
      ]
     },
     "metadata": {},
     "output_type": "display_data"
    }
   ],
   "source": [
    "size = 15\n",
    "PC_traces = []\n",
    "# torch.manual_seed(1)\n",
    "hidden = torch.randn(1, 512)\n",
    "for i in range(1):\n",
    "    start = (np.random.randint(2, size +2),  np.random.randint(2, size+2))\n",
    "    start = (5, 9)\n",
    "\n",
    "    weight = 'weights_fix4/rnn_1515tanh512_checkpoint0_2_46'\n",
    "    game = ValueMaxGame(grid_size = (size, size), holes = 50, random_seed = 4 , set_reward = [(0.5, 0.25), (0.5, 0.75)], input_type = 0, action_control = 1, discount = 0.9, alpha = 1, time_limit=8,\n",
    "                       lam = 0)\n",
    "    game.net.load_state_dict(torch.load(weight))\n",
    "    game.net.k_action = 5\n",
    "    start_w, stop_w = 6, 6\n",
    "    Pos1, hidden1, dH1, Action, State, reward1 = trajectory(game, start, reward_control = 0, size = size, test = 0, hidden = hidden, wind = (start_w, stop_w))\n",
    "    Pos2, hidden2, dH2, Action, State, reward2 = trajectory(game, start, reward_control = 1, size = size, test = 0, hidden = hidden, wind = (start_w, stop_w))\n",
    "    grid = game.grid.grid.copy()\n",
    "    if i == 0:\n",
    "        plt.matshow(grid)\n",
    "        y1 = np.array([p[0] for p in Pos1])\n",
    "        x1 = np.array([p[1] for p in Pos1])\n",
    "        y2 = np.array([p[0] for p in Pos2])\n",
    "        x2 = np.array([p[1] for p in Pos2])\n",
    "\n",
    "        plt.plot(start[1], start[0], 'rs')\n",
    "#         plt.quiver(x1[:-1], y1[:-1], x1[1:]-x1[:-1], y1[1:]-y1[:-1], scale_units='xy', angles='xy', scale=1, color = 'b')\n",
    "        x_w, y_w = x1[start_w:stop_w], y1[start_w:stop_w]\n",
    "        plt.quiver(x_w[:-1], y_w[:-1], x_w[1:]-x_w[:-1], y_w[1:]-y_w[:-1], scale_units='xy', angles='xy', scale=1, color = 'r')\n",
    "        plt.quiver(x2[:-1], y2[:-1], x2[1:]-x2[:-1], y2[1:]-y2[:-1], scale_units='xy', angles='xy', scale=1, color = 'm')\n",
    "    # plt.quiver(x3[:-1], y3[:-1], x3[1:]-x3[:-1], y3[1:]-y3[:-1], scale_units='xy', angles='xy', scale=1, color = 'r')\n",
    "    # plt.quiver(x4[:-1], y4[:-1], x4[1:]-x4[:-1], y4[1:]-y4[:-1], scale_units='xy', angles='xy', scale=1, color = 'k')\n",
    "\n",
    "#     PC_traces1 = (pca.vect[:10] @ hidden1.T)\n",
    "#     PC_traces2 = (pca.vect[:10] @ hidden2.T)\n",
    "#     if reward1 == 1: \n",
    "#         PC_traces.extend(PC_traces1[0])\n",
    "#     if reward2 == 1:\n",
    "#         PC_traces.extend(PC_traces2[0])\n",
    "#     if i == 0:\n",
    "#         plt.figure()\n",
    "#         for pc in [0, 1, 2]:\n",
    "#             plt.plot(PC_traces2[pc], label = pc)\n",
    "#         plt.legend()\n",
    "#         plt.xlabel('time')\n",
    "#         plt.ylabel('pca')\n",
    "#         plt.figure()\n",
    "#         plt.plot(Action)\n",
    "# ff, pd = signal.periodogram(np.array(PC_traces), nfft = 100)\n",
    "# plt.figure()\n",
    "# plt.plot(ff, pd)\n",
    "# plt.xlim(0 , 0.1)"
   ]
  },
  {
   "cell_type": "code",
   "execution_count": 102,
   "metadata": {},
   "outputs": [
    {
     "data": {
      "image/png": "[encoded data removed]",
      "text/plain": [
       "<matplotlib.figure.Figure at 0x7f114d433b70>"
      ]
     },
     "metadata": {},
     "output_type": "display_data"
    }
   ],
   "source": [
    "size = 15\n",
    "PC_traces = []\n",
    "# torch.manual_seed(1)\n",
    "hidden = torch.randn(1, 512)\n",
    "for i in range(1):\n",
    "    start = (np.random.randint(2, size +2),  np.random.randint(2, size+2))\n",
    "    start = (4, 9)\n",
    "\n",
    "    weight = 'weights_fix4/rnn_1515tanh512_checkpoint0_3_47'\n",
    "    game = ValueMaxGame(grid_size = (size, size), holes = 50, random_seed = 4 , set_reward = [(0.5, 0.25), (0.5, 0.75)], input_type = 0, action_control = 1, discount = 0.9, alpha = 1, time_limit=8,\n",
    "                       lam = 0)\n",
    "    game.net.load_state_dict(torch.load(weight))\n",
    "    game.net.k_action = 5\n",
    "    start_w, stop_w = 6, 6\n",
    "    Pos1, hidden1, dH1, Action, State, reward1 = trajectory(game, start, reward_control = 0, size = size, test = 0, hidden = hidden, wind = (start_w, stop_w))\n",
    "    Pos2, hidden2, dH2, Action, State, reward2 = trajectory(game, start, reward_control = 1, size = size, test = 0, hidden = hidden, wind = (start_w, stop_w))\n",
    "    grid = game.grid.grid.copy()\n",
    "    if i == 0:\n",
    "        plt.matshow(grid)\n",
    "        y1 = np.array([p[0] for p in Pos1])\n",
    "        x1 = np.array([p[1] for p in Pos1])\n",
    "        y2 = np.array([p[0] for p in Pos2])\n",
    "        x2 = np.array([p[1] for p in Pos2])\n",
    "\n",
    "        plt.plot(start[1], start[0], 'rs')\n",
    "#         plt.quiver(x1[:-1], y1[:-1], x1[1:]-x1[:-1], y1[1:]-y1[:-1], scale_units='xy', angles='xy', scale=1, color = 'b')\n",
    "        x_w, y_w = x1[start_w:stop_w], y1[start_w:stop_w]\n",
    "        plt.quiver(x_w[:-1], y_w[:-1], x_w[1:]-x_w[:-1], y_w[1:]-y_w[:-1], scale_units='xy', angles='xy', scale=1, color = 'r')\n",
    "        plt.quiver(x2[:-1], y2[:-1], x2[1:]-x2[:-1], y2[1:]-y2[:-1], scale_units='xy', angles='xy', scale=1, color = 'm')\n",
    "    # plt.quiver(x3[:-1], y3[:-1], x3[1:]-x3[:-1], y3[1:]-y3[:-1], scale_units='xy', angles='xy', scale=1, color = 'r')\n",
    "    # plt.quiver(x4[:-1], y4[:-1], x4[1:]-x4[:-1], y4[1:]-y4[:-1], scale_units='xy', angles='xy', scale=1, color = 'k')\n",
    "\n",
    "#     PC_traces1 = (pca.vect[:10] @ hidden1.T)\n",
    "#     PC_traces2 = (pca.vect[:10] @ hidden2.T)\n",
    "#     if reward1 == 1: \n",
    "#         PC_traces.extend(PC_traces1[0])\n",
    "#     if reward2 == 1:\n",
    "#         PC_traces.extend(PC_traces2[0])\n",
    "#     if i == 0:\n",
    "#         plt.figure()\n",
    "#         for pc in [0, 1, 2]:\n",
    "#             plt.plot(PC_traces2[pc], label = pc)\n",
    "#         plt.legend()\n",
    "#         plt.xlabel('time')\n",
    "#         plt.ylabel('pca')\n",
    "#         plt.figure()"
   ]
  },
  {
   "cell_type": "code",
   "execution_count": null,
   "metadata": {},
   "outputs": [],
   "source": [
    "size = 15\n",
    "PC_traces = []\n",
    "# torch.manual_seed(1)\n",
    "hidden = torch.randn(1, 512)\n",
    "for i in range(1):\n",
    "    start = (np.random.randint(2, size +2),  np.random.randint(2, size+2))\n",
    "    start = (4, 9)\n",
    "\n",
    "    weight = 'weights_fix4/rnn_1515tanh512_checkpoint0_3_47'\n",
    "    game = ValueMaxGame(grid_size = (size, size), holes = 50, random_seed = 4 , set_reward = [(0.5, 0.25), (0.5, 0.75)], input_type = 0, action_control = 1, discount = 0.9, alpha = 1, time_limit=8,\n",
    "                       lam = 0)\n",
    "    game.net.load_state_dict(torch.load(weight))\n",
    "    game.net.k_action = 5\n",
    "    start_w, stop_w = 6, 6\n",
    "    Pos1, hidden1, dH1, Action, State, reward1 = trajectory(game, start, reward_control = 0, size = size, test = 0, hidden = hidden, wind = (start_w, stop_w))\n",
    "    Pos2, hidden2, dH2, Action, State, reward2 = trajectory(game, start, reward_control = 1, size = size, test = 0, hidden = hidden, wind = (start_w, stop_w))\n",
    "    grid = game.grid.grid.copy()\n",
    "    if i == 0:\n",
    "        plt.matshow(grid)\n",
    "        y1 = np.array([p[0] for p in Pos1])\n",
    "        x1 = np.array([p[1] for p in Pos1])\n",
    "        y2 = np.array([p[0] for p in Pos2])\n",
    "        x2 = np.array([p[1] for p in Pos2])\n",
    "\n",
    "        plt.plot(start[1], start[0], 'rs')\n",
    "#         plt.quiver(x1[:-1], y1[:-1], x1[1:]-x1[:-1], y1[1:]-y1[:-1], scale_units='xy', angles='xy', scale=1, color = 'b')\n",
    "        x_w, y_w = x1[start_w:stop_w], y1[start_w:stop_w]\n",
    "        plt.quiver(x_w[:-1], y_w[:-1], x_w[1:]-x_w[:-1], y_w[1:]-y_w[:-1], scale_units='xy', angles='xy', scale=1, color = 'r')\n",
    "        plt.quiver(x2[:-1], y2[:-1], x2[1:]-x2[:-1], y2[1:]-y2[:-1], scale_units='xy', angles='xy', scale=1, color = 'm')"
   ]
  },
  {
   "cell_type": "code",
   "execution_count": 113,
   "metadata": {},
   "outputs": [
    {
     "data": {
      "image/png": "[encoded data removed]",
      "text/plain": [
       "<matplotlib.figure.Figure at 0x7f114d93b080>"
      ]
     },
     "metadata": {},
     "output_type": "display_data"
    }
   ],
   "source": [
    "size = 15\n",
    "PC_traces = []\n",
    "# torch.manual_seed(2)\n",
    "hidden = torch.randn(1, 512)\n",
    "for i in range(1):\n",
    "    start = (np.random.randint(2, size +2),  np.random.randint(2, size+2))\n",
    "    start = (4, 8)\n",
    "    weight = 'weights_fix4/rnn_1515tanh512_checkpoint39_1_32'\n",
    "    \n",
    "    game = ValueMaxGame(grid_size = (size, size), holes = 0, random_seed = 4 , set_reward = [(0.5, 0.25), (0.5, 0.75)], input_type = 0, action_control = 1, discount = 0.9, alpha = 1, time_limit=8,\n",
    "                       lam = 0)\n",
    "    game.net.load_state_dict(torch.load(weight))\n",
    "    ry, rx = 5, 5\n",
    "    game.grid.grid[ry - 1 : ry + 3, rx + 3 : rx + 6] = 0\n",
    "    grid = game.grid.grid.copy()\n",
    "   \n",
    "    start_w, stop_w = 6, 6\n",
    "    Pos1, hidden1, dH1, Action, State, reward1 = trajectory(game, start, reward_control = 0, size = size, test = 0, hidden = hidden, wind = (start_w, stop_w), map_set=grid)\n",
    "    Pos2, hidden2, dH2, Action, State, reward2 = trajectory(game, start, reward_control = 1, size = size, test = 0, hidden = hidden, wind = (start_w, stop_w), map_set=grid)\n",
    "    grid = game.grid.grid.copy()\n",
    "    plt.matshow(grid)\n",
    "    if i == 0:\n",
    "#         plt.matshow(grid)\n",
    "        y1 = np.array([p[0] for p in Pos1])\n",
    "        x1 = np.array([p[1] for p in Pos1])\n",
    "        y2 = np.array([p[0] for p in Pos2])\n",
    "        x2 = np.array([p[1] for p in Pos2])\n",
    "        plt.plot(start[1], start[0], 'rs')\n",
    "#         plt.quiver(x1[:-1], y1[:-1], x1[1:]-x1[:-1], y1[1:]-y1[:-1], scale_units='xy', angles='xy', scale=1, color = 'b')\n",
    "        x_w, y_w = x1[start_w:stop_w], y1[start_w:stop_w]\n",
    "        plt.quiver(x_w[:-1], y_w[:-1], x_w[1:]-x_w[:-1], y_w[1:]-y_w[:-1], scale_units='xy', angles='xy', scale=1, color = 'r')\n",
    "#         plt.figure()\n",
    "#         plt.matshow(grid)\n",
    "        plt.quiver(x2[:-1], y2[:-1], x2[1:]-x2[:-1], y2[1:]-y2[:-1], scale_units='xy', angles='xy', scale=1, color = 'm')"
   ]
  },
  {
   "cell_type": "code",
   "execution_count": 200,
   "metadata": {},
   "outputs": [
    {
     "data": {
      "image/png": "[encoded data removed]",
      "text/plain": [
       "<matplotlib.figure.Figure at 0x7f114d8482b0>"
      ]
     },
     "metadata": {},
     "output_type": "display_data"
    }
   ],
   "source": [
    "size = 15\n",
    "PC_traces = []\n",
    "# torch.manual_seed(2)\n",
    "hidden = torch.randn(1, 512)\n",
    "for i in range(1):\n",
    "    start = (np.random.randint(2, size +2),  np.random.randint(2, size+2))\n",
    "    start = (14, 8)\n",
    "    weight = 'weights_fix4/rnn_1515tanh512_checkpoint39_1_39'\n",
    "    \n",
    "    game = ValueMaxGame(grid_size = (size, size), holes = 0, random_seed = 4 , set_reward = [(0.5, 0.25), (0.5, 0.75)], input_type = 0, action_control = 1, discount = 0.9, alpha = 1, time_limit=8,\n",
    "                       lam = 0)\n",
    "    game.net.load_state_dict(torch.load(weight))\n",
    "    ry, rx = 5, 5\n",
    "    game.grid.grid[ry + 8: ry + 9, rx  : rx + 11] = -1\n",
    "    game.grid.grid[ry + 8: ry + 9, rx+3  : rx + 7] = 0\n",
    "    grid = game.grid.grid.copy()\n",
    "   \n",
    "    start_w, stop_w = 6, 6\n",
    "    Pos1, hidden1, dH1, Action, State, reward1 = trajectory(game, start, reward_control = 0, size = size, test = 0, hidden = hidden, wind = (start_w, stop_w), map_set=grid)\n",
    "    Pos2, hidden2, dH2, Action, State, reward2 = trajectory(game, start, reward_control = 1, size = size, test = 0, hidden = hidden, wind = (start_w, stop_w), map_set=grid)\n",
    "    grid = game.grid.grid.copy()\n",
    "    plt.matshow(grid)\n",
    "    if i == 0:\n",
    "#         plt.matshow(grid)\n",
    "        y1 = np.array([p[0] for p in Pos1])\n",
    "        x1 = np.array([p[1] for p in Pos1])\n",
    "        y2 = np.array([p[0] for p in Pos2])\n",
    "        x2 = np.array([p[1] for p in Pos2])\n",
    "        plt.plot(start[1], start[0], 'rs')\n",
    "#         plt.quiver(x1[:-1], y1[:-1], x1[1:]-x1[:-1], y1[1:]-y1[:-1], scale_units='xy', angles='xy', scale=1, color = 'b')\n",
    "        x_w, y_w = x1[start_w:stop_w], y1[start_w:stop_w]\n",
    "        plt.quiver(x_w[:-1], y_w[:-1], x_w[1:]-x_w[:-1], y_w[1:]-y_w[:-1], scale_units='xy', angles='xy', scale=1, color = 'r')\n",
    "#         plt.figure()\n",
    "#         plt.matshow(grid)\n",
    "        plt.quiver(x2[:-1], y2[:-1], x2[1:]-x2[:-1], y2[1:]-y2[:-1], scale_units='xy', angles='xy', scale=1, color = 'm')"
   ]
  },
  {
   "cell_type": "code",
   "execution_count": 160,
   "metadata": {},
   "outputs": [
    {
     "data": {
      "image/png": "[encoded data removed]",
      "text/plain": [
       "<matplotlib.figure.Figure at 0x7f114d9ad208>"
      ]
     },
     "metadata": {},
     "output_type": "display_data"
    }
   ],
   "source": [
    "size = 15\n",
    "PC_traces = []\n",
    "# torch.manual_seed(2)\n",
    "hidden = torch.randn(1, 512)\n",
    "for i in range(1):\n",
    "    start = (np.random.randint(2, size +2),  np.random.randint(2, size+2))\n",
    "    start = (14, 8)\n",
    "    weight = 'weights_fix4/rnn_1515tanh512_checkpoint0_3_47'\n",
    "    \n",
    "    game = ValueMaxGame(grid_size = (size, size), holes = 0, random_seed = 4 , set_reward = [(0.5, 0.25), (0.5, 0.75)], input_type = 0, action_control = 1, discount = 0.9, alpha = 1, time_limit=8,\n",
    "                       lam = 0)\n",
    "    game.net.load_state_dict(torch.load(weight))\n",
    "    ry, rx = 5, 5\n",
    "    game.grid.grid[ry + 8: ry + 9, rx  : rx + 11] = -1\n",
    "    grid = game.grid.grid.copy()\n",
    "   \n",
    "    start_w, stop_w = 6, 6\n",
    "    Pos1, hidden1, dH1, Action, State, reward1 = trajectory(game, start, reward_control = 0, size = size, test = 0, hidden = hidden, wind = (start_w, stop_w), map_set=grid)\n",
    "    Pos2, hidden2, dH2, Action, State, reward2 = trajectory(game, start, reward_control = 1, size = size, test = 0, hidden = hidden, wind = (start_w, stop_w), map_set=grid)\n",
    "    grid = game.grid.grid.copy()\n",
    "    plt.matshow(grid)\n",
    "    if i == 0:\n",
    "#         plt.matshow(grid)\n",
    "        y1 = np.array([p[0] for p in Pos1])\n",
    "        x1 = np.array([p[1] for p in Pos1])\n",
    "        y2 = np.array([p[0] for p in Pos2])\n",
    "        x2 = np.array([p[1] for p in Pos2])\n",
    "        plt.plot(start[1], start[0], 'rs')\n",
    "#         plt.quiver(x1[:-1], y1[:-1], x1[1:]-x1[:-1], y1[1:]-y1[:-1], scale_units='xy', angles='xy', scale=1, color = 'b')\n",
    "        x_w, y_w = x1[start_w:stop_w], y1[start_w:stop_w]\n",
    "        plt.quiver(x_w[:-1], y_w[:-1], x_w[1:]-x_w[:-1], y_w[1:]-y_w[:-1], scale_units='xy', angles='xy', scale=1, color = 'r')\n",
    "#         plt.figure()\n",
    "#         plt.matshow(grid)\n",
    "        plt.quiver(x2[:-1], y2[:-1], x2[1:]-x2[:-1], y2[1:]-y2[:-1], scale_units='xy', angles='xy', scale=1, color = 'm')"
   ]
  },
  {
   "cell_type": "code",
   "execution_count": 151,
   "metadata": {},
   "outputs": [
    {
     "name": "stdout",
     "output_type": "stream",
     "text": [
      "[0.6202037195431302]\n",
      "[0.6151065944718448]\n",
      "[0.6675290005997581]\n",
      "[0.6167103491361735]\n",
      "[0.5815244996873651]\n"
     ]
    }
   ],
   "source": [
    "for iters in np.arange(5):\n",
    "    weight = 'weights_fix4/rnn_1515tanh512_checkpoint39_2_31'\n",
    "    pregame = PretrainTest(weight_write = weight, holes = 0, inputs_type = (1, 0))\n",
    "    pregame.game.net.load_state_dict(torch.load(weight))\n",
    "    pregame.game.grid.grid[ry : ry + 1, rx + 4 : rx + 6] = 0\n",
    "    grid =  pregame.game.grid.grid.copy()\n",
    "    pregame.TestAllSizes(size_range = [15], limit_set = 8, test_size = 0, grid = grid)\n",
    "    print (pregame.Performance)"
   ]
  },
  {
   "cell_type": "code",
   "execution_count": 6,
   "metadata": {},
   "outputs": [
    {
     "name": "stdout",
     "output_type": "stream",
     "text": [
      "[0.8235965304730692]\n",
      "[0.8263532555481614]\n",
      "[0.8014127789774104]\n",
      "[0.8335056548859805]\n",
      "[0.8126778353914886]\n"
     ]
    }
   ],
   "source": [
    "for iters in np.arange(5):\n",
    "    weight = 'weights_fix4/rnn_1515tanh512_checkpoint39_1_45'\n",
    "    pregame = PretrainTest(weight_write = weight, holes = 0, inputs_type = (1, 0))\n",
    "    pregame.game.net.load_state_dict(torch.load(weight))\n",
    "#     pregame.game.grid.grid[ry : ry + 1, rx + 4 : rx + 6] = 0\n",
    "    grid =  pregame.game.grid.grid.copy()\n",
    "    pregame.TestAllSizes(size_range = [15], limit_set = 16, test_size = 0, grid = grid)\n",
    "    print (pregame.Performance)\n"
   ]
  },
  {
   "cell_type": "code",
   "execution_count": 7,
   "metadata": {},
   "outputs": [
    {
     "name": "stdout",
     "output_type": "stream",
     "text": [
      "[0.726876537642942]\n",
      "[0.7303056601959653]\n",
      "[0.7073973849098758]\n",
      "[0.7620698892996522]\n",
      "[0.7582346864583486]\n"
     ]
    },
    {
     "data": {
      "text/plain": [
       "<matplotlib.image.AxesImage at 0x7f7dacfdeb00>"
      ]
     },
     "execution_count": 7,
     "metadata": {},
     "output_type": "execute_result"
    },
    {
     "data": {
      "image/png": "[encoded data removed]",
      "text/plain": [
       "<matplotlib.figure.Figure at 0x7f7dad08d240>"
      ]
     },
     "metadata": {},
     "output_type": "display_data"
    }
   ],
   "source": [
    "for iters in np.arange(5):\n",
    "    weight = 'weights_fix/rnn_1515tanh512_checkpoint0_0_49'\n",
    "    pregame = PretrainTest(weight_write = weight, holes = 0, inputs_type = (1, 0))\n",
    "    pregame.game.net.load_state_dict(torch.load(weight))\n",
    "    grid =  pregame.game.grid.grid.copy()\n",
    "    pregame.TestAllSizes(size_range = [15], limit_set = 16, test_size = 0, grid = grid)\n",
    "    print (pregame.Performance)\n",
    "plt.matshow(grid)"
   ]
  },
  {
   "cell_type": "code",
   "execution_count": 8,
   "metadata": {},
   "outputs": [
    {
     "name": "stdout",
     "output_type": "stream",
     "text": [
      "[0.7656592872309593]\n",
      "[0.6394977902644168]\n",
      "[0.7127901605669119]\n",
      "[0.6475551398244805]\n",
      "[0.7837192670833382]\n"
     ]
    },
    {
     "data": {
      "text/plain": [
       "<matplotlib.image.AxesImage at 0x7f7dacf4d8d0>"
      ]
     },
     "execution_count": 8,
     "metadata": {},
     "output_type": "execute_result"
    },
    {
     "data": {
      "image/png": "[encoded data removed]",
      "text/plain": [
       "<matplotlib.figure.Figure at 0x7f7dacf84320>"
      ]
     },
     "metadata": {},
     "output_type": "display_data"
    }
   ],
   "source": [
    "for iters in np.arange(5):\n",
    "    weight = 'weights_fix4/rnn_1515tanh512_checkpoint0_3_47'\n",
    "    pregame = PretrainTest(weight_write = weight, holes = 0, inputs_type = (1, 0))\n",
    "    pregame.game.net.load_state_dict(torch.load(weight))\n",
    "    grid =  pregame.game.grid.grid.copy()\n",
    "    pregame.TestAllSizes(size_range = [15], limit_set = 16, test_size = 0, grid = grid)\n",
    "    print (pregame.Performance)\n",
    "plt.matshow(grid)"
   ]
  },
  {
   "cell_type": "code",
   "execution_count": 50,
   "metadata": {},
   "outputs": [
    {
     "name": "stdout",
     "output_type": "stream",
     "text": [
      "[0.7642405114974716]\n",
      "[0.8054199367368772]\n",
      "[0.776494005730656]\n",
      "[0.7225167395202452]\n",
      "[0.5689323906592937]\n",
      "[0.5217872693291338]\n",
      "[0.4512738928830744]\n",
      "[0.5395222715813547]\n",
      "[0.43392116033295103]\n",
      "[0.4046997801229946]\n",
      "[0.4273996474293882]\n",
      "[0.4623324078321055]\n",
      "[0.47129513728585437]\n",
      "[0.4103721822322053]\n",
      "[0.4871749240062842]\n"
     ]
    }
   ],
   "source": [
    "Performance_block = []\n",
    "for x in np.arange(2, 17):\n",
    "    performance= []\n",
    "    for y in np.arange(4, 5):\n",
    "        weight = 'weights_fix4/rnn_1515tanh512_checkpoint39_1_32'\n",
    "        pregame = PretrainTest(weight_write = weight, holes = 0, inputs_type = (1, 0))\n",
    "        pregame.game.net.load_state_dict(torch.load(weight))\n",
    "        y = 4\n",
    "#         pregame.game.grid.grid[ry-1 : ry + 3, rx + 4 : rx + 6] = 0\n",
    "        grid =  pregame.game.grid.grid.copy()\n",
    "        pregame.TestAllSizes(size_range = [15], limit_set = 8, test_size = 0, grid = grid, start = (y, x))\n",
    "#         print (y, x, pregame.Performance)\n",
    "        performance.append(pregame.Performance)\n",
    "        print (pregame.Performance)\n",
    "    Performance_block.append(performance)\n",
    "np.save('Performance_block', Performance_block)"
   ]
  },
  {
   "cell_type": "code",
   "execution_count": 48,
   "metadata": {},
   "outputs": [
    {
     "name": "stdout",
     "output_type": "stream",
     "text": [
      "[0.768911457804851]\n",
      "[0.7559868381577259]\n",
      "[0.7656796389140587]\n",
      "[0.7123642096186984]\n",
      "[0.6906044292040643]\n",
      "[0.589995281928354]\n",
      "[0.6248485147064528]\n",
      "[0.646892474507694]\n",
      "[0.567698328881882]\n",
      "[0.558384595909089]\n",
      "[0.599342396994511]\n",
      "[0.5362445107033824]\n",
      "[0.49886908874265135]\n",
      "[0.5717227078442289]\n",
      "[0.5283624002977028]\n"
     ]
    }
   ],
   "source": [
    "Performance_block = []\n",
    "for x in np.arange(2, 17):\n",
    "    performance= []\n",
    "    for y in np.arange(4, 5):\n",
    "        weight = 'weights_fix4/rnn_1515tanh512_checkpoint39_1_32'\n",
    "        pregame = PretrainTest(weight_write = weight, holes = 0, inputs_type = (1, 0))\n",
    "        pregame.game.net.load_state_dict(torch.load(weight))\n",
    "        y = 4\n",
    "        pregame.game.grid.grid[ry-1 : ry + 3, rx + 4 : rx + 6] = 0\n",
    "        grid =  pregame.game.grid.grid.copy()\n",
    "        pregame.TestAllSizes(size_range = [15], limit_set = 8, test_size = 0, grid = grid, start = (y, x))\n",
    "#         print (y, x, pregame.Performance)\n",
    "        performance.append(pregame.Performance)\n",
    "        print (pregame.Performance)\n",
    "    Performance_block.append(performance)\n",
    "np.save('Performance_short', Performance_block)"
   ]
  },
  {
   "cell_type": "code",
   "execution_count": 37,
   "metadata": {},
   "outputs": [],
   "source": [
    "np.save('Performance_short.npy', Performance_short)"
   ]
  },
  {
   "cell_type": "code",
   "execution_count": 51,
   "metadata": {},
   "outputs": [
    {
     "data": {
      "text/plain": [
       "<matplotlib.legend.Legend at 0x7ff56c403cc0>"
      ]
     },
     "execution_count": 51,
     "metadata": {},
     "output_type": "execute_result"
    },
    {
     "data": {
      "image/png": "[encoded data removed]",
      "text/plain": [
       "<matplotlib.figure.Figure at 0x7ff55c493e80>"
      ]
     },
     "metadata": {},
     "output_type": "display_data"
    }
   ],
   "source": [
    "Performance_short = np.load('Performance_short.npy')\n",
    "Performance_block = np.load('Performance_block.npy')\n",
    "# Performance_block2 = np.load('Performance_block2.npy')\n",
    "plt.plot(np.mean(Performance_block, axis = 1), 'b.-', label = 'block')\n",
    "# plt.plot(np.mean(Performance_block2, axis = 1), 'g.-', label = 'short block')\n",
    "plt.plot(np.mean(Performance_short, axis = 1), 'r.-', label = 'short cut')\n",
    "plt.xlabel('x')\n",
    "plt.ylabel('performance')\n",
    "plt.legend()"
   ]
  },
  {
   "cell_type": "code",
   "execution_count": 93,
   "metadata": {},
   "outputs": [
    {
     "data": {
      "text/plain": [
       "<matplotlib.legend.Legend at 0x7f114d57c358>"
      ]
     },
     "execution_count": 93,
     "metadata": {},
     "output_type": "execute_result"
    },
    {
     "data": {
      "image/png": "[encoded data removed]",
      "text/plain": [
       "<matplotlib.figure.Figure at 0x7f114d4d1f28>"
      ]
     },
     "metadata": {},
     "output_type": "display_data"
    }
   ],
   "source": [
    "Performance_short = np.load('Performance_a5_short.npy')\n",
    "Performance_block = np.load('Performance_a5_block.npy')\n",
    "# Performance_block2 = np.load('Performance_block2.npy')\n",
    "plt.plot(np.mean(Performance_block, axis = 1), 'b.-', label = 'block')\n",
    "# plt.plot(np.mean(Performance_block2, axis = 1), 'g.-', label = 'short block')\n",
    "plt.plot(np.mean(Performance_short, axis = 1), 'r.-', label = 'short cut')\n",
    "plt.xlabel('x')\n",
    "plt.ylabel('performance')\n",
    "plt.legend()"
   ]
  },
  {
   "cell_type": "code",
   "execution_count": 91,
   "metadata": {},
   "outputs": [
    {
     "name": "stdout",
     "output_type": "stream",
     "text": [
      "[0.4653242792032555]\n",
      "[0.47191763298661105]\n",
      "[0.4963136450161745]\n",
      "[0.332014858747753]\n",
      "[0.31775541841729066]\n",
      "[0.2803761302979868]\n",
      "[0.30664994399935824]\n",
      "[0.28523208618938306]\n",
      "[0.29249944423609153]\n",
      "[0.23626424137458327]\n",
      "[0.2689124585139465]\n",
      "[0.2575047470060651]\n",
      "[0.18819202812291463]\n",
      "[0.17731303714298324]\n",
      "[0.23564478776564363]\n"
     ]
    }
   ],
   "source": [
    "Performance_block = []\n",
    "for x in np.arange(2, 17):\n",
    "    performance= []\n",
    "    for y in np.arange(4, 5):\n",
    "        weight = 'weights_fix4/rnn_1515tanh512_checkpoint0_3_48'\n",
    "        pregame = PretrainTest(weight_write = weight, holes = 0, inputs_type = (1, 0))\n",
    "        pregame.game.net.load_state_dict(torch.load(weight))\n",
    "        y = 4\n",
    "#         pregame.game.grid.grid[ry-1 : ry + 3, rx + 4 : rx + 6] = 0\n",
    "        grid =  pregame.game.grid.grid.copy()\n",
    "        pregame.TestAllSizes(size_range = [15], limit_set = 8, test_size = 0, grid = grid, start = (y, x))\n",
    "#         print (y, x, pregame.Performance)\n",
    "        performance.append(pregame.Performance)\n",
    "        print (pregame.Performance)\n",
    "    Performance_block.append(performance)\n",
    "np.save('Performance_a5_block', Performance_block)"
   ]
  },
  {
   "cell_type": "code",
   "execution_count": 92,
   "metadata": {},
   "outputs": [
    {
     "name": "stdout",
     "output_type": "stream",
     "text": [
      "[0.4784318346170161]\n",
      "[0.3873550117252258]\n",
      "[0.4837837334348595]\n",
      "[0.37975754028959935]\n",
      "[0.2161823570291649]\n",
      "[0.30889043717988063]\n",
      "[0.1048914617872298]\n",
      "[0.3866157823449461]\n",
      "[0.22371466125763206]\n",
      "[0.13559944217335868]\n",
      "[0.16030178836264072]\n",
      "[0.19826715555445695]\n",
      "[0.20228484214678877]\n",
      "[0.16964487180439977]\n",
      "[0.1958456983695715]\n"
     ]
    }
   ],
   "source": [
    "Performance_block = []\n",
    "for x in np.arange(2, 17):\n",
    "    performance= []\n",
    "    for y in np.arange(4, 5):\n",
    "        weight = 'weights_fix4/rnn_1515tanh512_checkpoint0_3_48'\n",
    "        pregame = PretrainTest(weight_write = weight, holes = 0, inputs_type = (1, 0))\n",
    "        pregame.game.net.load_state_dict(torch.load(weight))\n",
    "        y = 4\n",
    "        pregame.game.grid.grid[ry-1 : ry + 3, rx + 4 : rx + 6] = 0\n",
    "        grid =  pregame.game.grid.grid.copy()\n",
    "        pregame.TestAllSizes(size_range = [15], limit_set = 8, test_size = 0, grid = grid, start = (y, x))\n",
    "#         print (y, x, pregame.Performance)\n",
    "        performance.append(pregame.Performance)\n",
    "        print (pregame.Performance)\n",
    "    Performance_block.append(performance)\n",
    "np.save('Performance_a5_short', Performance_block)"
   ]
  },
  {
   "cell_type": "markdown",
   "metadata": {},
   "source": [
    "## GLM "
   ]
  },
  {
   "cell_type": "code",
   "execution_count": 59,
   "metadata": {},
   "outputs": [
    {
     "name": "stdout",
     "output_type": "stream",
     "text": [
      "total variance 0.28974023031550156 0.23307010783928503\n",
      "total variance 0.0195050702971315 0.018335666486177633\n",
      "total variance 0.02006667418641924 0.009662795306387185\n",
      "total variance 0.06451546712575826 0.05145692787444463\n",
      "total variance 0.03173207871152208 0.01677201517588403\n",
      "total variance 0.02980202726293869 0.03004485852027964\n",
      "total variance 0.022926422123106548 0.023371167891154853\n"
     ]
    }
   ],
   "source": [
    "weight = 'weights_fix4/rnn_1515tanh512_checkpoint39_1_32'\n",
    "States1, Poss1, Hiddens1, Actions1, Context1 = Data_record(weight)\n",
    "y, Features, Features_A, Features_Y, Features_X, Features_M, Features_S, Features_C = Feature_preprocessing(States1, Poss1, Hiddens1, Actions1,\\\n",
    "                                                                                                           Context1)\n",
    "clf = Lasso(alpha = 1e-3)\n",
    "cv_scores_all = cross_validate(clf, Features, y, cv = 5, scoring=('r2'), return_train_score = True)\n",
    "print ('total variance', np.mean(cv_scores_all['train_score']), np.mean(cv_scores_all['test_score']))\n",
    "importances = []\n",
    "importances_std = []\n",
    "for i, feature in enumerate([Features_A, Features_Y, Features_X, Features_M, Features_S, Features_C]):\n",
    "    clf = Lasso(alpha = 1e-3)\n",
    "    cv_scores = cross_validate(clf, feature, y, cv = 5, scoring=('r2'), return_train_score = True)\n",
    "    print ('total variance', np.mean(cv_scores_all['train_score'] -  cv_scores['train_score']), \\\n",
    "           np.mean(cv_scores_all['test_score'] - cv_scores['test_score']))\n",
    "    importances.append(np.mean(cv_scores_all['test_score'] - cv_scores['test_score']))\n",
    "    importances_std.append(np.std(cv_scores_all['test_score'] - cv_scores['test_score']))"
   ]
  },
  {
   "cell_type": "code",
   "execution_count": 61,
   "metadata": {},
   "outputs": [
    {
     "data": {
      "text/plain": [
       "([<matplotlib.axis.YTick at 0x7ff56c1a2e48>,\n",
       "  <matplotlib.axis.YTick at 0x7ff56c17d860>,\n",
       "  <matplotlib.axis.YTick at 0x7ff55c4b7128>,\n",
       "  <matplotlib.axis.YTick at 0x7ff56c23f940>,\n",
       "  <matplotlib.axis.YTick at 0x7ff56c23fef0>,\n",
       "  <matplotlib.axis.YTick at 0x7ff55c4cf5c0>,\n",
       "  <matplotlib.axis.YTick at 0x7ff55c4cfc50>],\n",
       " <a list of 7 Text yticklabel objects>)"
      ]
     },
     "execution_count": 61,
     "metadata": {},
     "output_type": "execute_result"
    },
    {
     "data": {
      "image/png": "[encoded data removed]",
      "text/plain": [
       "<matplotlib.figure.Figure at 0x7ff55c4bc978>"
      ]
     },
     "metadata": {},
     "output_type": "display_data"
    }
   ],
   "source": [
    "np.save('importance_39', importances)\n",
    "np.save('importance_39_std', importances_std)\n",
    "ax = subplot(1, 1, 1)\n",
    "ax.spines['top'].set_visible(False)\n",
    "ax.spines['right'].set_visible(False)\n",
    "imp = np.load('importance_39.npy')\n",
    "imp_std = np.load('importance_39_std.npy')\n",
    "plt.bar(np.arange(6), height = imp, yerr = imp_std)\n",
    "plt.xticks([0, 1, 2, 3, 4, 5], ['A', 'Y', 'X', 'M', 'S', 'C'], size = 15)\n",
    "plt.yticks([0, 0, 0.02, 0.04, 0.06, 0.08, 0.1], size = 15)"
   ]
  },
  {
   "cell_type": "code",
   "execution_count": 22,
   "metadata": {},
   "outputs": [
    {
     "name": "stdout",
     "output_type": "stream",
     "text": [
      "2 2 [0.6285764853635947]\n",
      "2 3 [0.7581464477685382]\n",
      "2 4 [0.7136380546536796]\n",
      "2 5 [0.6054134678578239]\n",
      "2 6 [0.5705894853844073]\n",
      "2 7 [0.5246113830020753]\n",
      "2 8 [0.617336943655303]\n",
      "2 9 [0.32331763991516144]\n",
      "2 10 [0.2893448998917749]\n",
      "2 11 [0.24146351086609474]\n",
      "2 12 [0.20689490724343906]\n",
      "2 13 [0.5195012172733078]\n",
      "2 14 [0.5241002270299145]\n",
      "2 15 [0.5748163565617533]\n",
      "2 16 [0.43445316077152013]\n",
      "3 2 [0.6437327674053598]\n",
      "3 3 [0.6075124374996412]\n",
      "3 4 [0.4417469644394073]\n",
      "3 5 [0.441236983863937]\n",
      "3 6 [0.45685751788664203]\n",
      "3 7 [0.3972603243111056]\n",
      "3 8 [0.30072732792829776]\n",
      "3 9 [0.27196812501201323]\n",
      "3 10 [0.18967255490558294]\n",
      "3 11 [0.11477413862179486]\n",
      "3 12 [0.08894742492059066]\n",
      "3 13 [0.321369353302947]\n",
      "3 14 [0.23975023028248657]\n",
      "3 15 [0.36530629201527637]\n",
      "3 16 [0.10287615740740741]\n",
      "4 2 [0.740933574888653]\n",
      "4 3 [0.6294491188707546]\n",
      "4 4 [0.5305660647945805]\n",
      "4 5 [0.5479474378014366]\n",
      "4 6 [0.4240337701989103]\n",
      "4 7 [0.28430444364610197]\n",
      "4 8 [0.43715781831016204]\n",
      "4 9 [0.31624948686371096]\n",
      "4 10 [0.2705306150767258]\n",
      "4 11 [0.19756824712643672]\n",
      "4 12 [0.3167769724662909]\n",
      "4 13 [0.22844889147833586]\n",
      "4 14 [0.3840541294642857]\n",
      "4 15 [0.6052633101851852]\n",
      "4 16 [0.6092852134844322]\n"
     ]
    }
   ],
   "source": [
    "Performance_short = []\n",
    "for y in np.arange(2, 5):\n",
    "    for x in np.arange(2, 17):\n",
    "        weight ='weights_fix3/weights5/rnn_1515tanh512_checkpoint39_0_19'\n",
    "        pregame = PretrainTest(weight_write = weight, holes = 0, inputs_type = (1, 0))\n",
    "        pregame.game.net.load_state_dict(torch.load(weight))\n",
    "        pregame.game.grid.grid[ry-1 : ry + 3, rx + 4 : rx + 6] = 0\n",
    "        grid =  pregame.game.grid.grid.copy()\n",
    "        pregame.TestAllSizes(size_range = [15], limit_set = 2, test_size = 0, grid = grid, start = (y, x))\n",
    "        print (y, x, pregame.Performance)\n",
    "        Performance_short.append(pregame.Performance)"
   ]
  },
  {
   "cell_type": "markdown",
   "metadata": {},
   "source": [
    "Performance_short2 = []\n",
    "for y in np.arange(2, 5):\n",
    "    for x in np.arange(2, 17):\n",
    "        weight ='weights_fix3/weights3/rnn_1515tanh512_checkpoint39_1_29'\n",
    "        pregame = PretrainTest(weight_write = weight, holes = 0, inputs_type = (1, 0))\n",
    "        pregame.game.net.load_state_dict(torch.load(weight))\n",
    "        pregame.game.grid.grid[ry-1 : ry + 3, rx + 4 : rx + 6] = 0\n",
    "        grid =  pregame.game.grid.grid.copy()\n",
    "        pregame.TestAllSizes(size_range = [15], limit_set = 2, test_size = 0, grid = grid, start = (y, x))\n",
    "        print (y, x, pregame.Performance)\n",
    "        Performance_short2.append(pregame.Performance)"
   ]
  },
  {
   "cell_type": "code",
   "execution_count": 24,
   "metadata": {},
   "outputs": [
    {
     "data": {
      "text/plain": [
       "(array([10.,  5.,  6.,  3.,  1.,  3.,  4.,  4.,  7.,  2.]),\n",
       " array([-0.08504456, -0.0117448 ,  0.06155496,  0.13485472,  0.20815448,\n",
       "         0.28145424,  0.354754  ,  0.42805376,  0.50135352,  0.57465328,\n",
       "         0.64795304]),\n",
       " <a list of 10 Patch objects>)"
      ]
     },
     "execution_count": 24,
     "metadata": {},
     "output_type": "execute_result"
    },
    {
     "data": {
      "image/png": "[encoded data removed]",
      "text/plain": [
       "<matplotlib.figure.Figure at 0x7f9c59f1cf28>"
      ]
     },
     "metadata": {},
     "output_type": "display_data"
    }
   ],
   "source": [
    "# new trained with bigger shift\n",
    "plt.hist(np.array(Performance_short).ravel(), color = 'b')\n",
    "plt.hist(np.array(Performance).ravel(), alpha = 0.5, color = 'g')\n",
    "plt.hist(np.array(Performance_block).ravel(), alpha = 0.5, color = 'r')"
   ]
  },
  {
   "cell_type": "code",
   "execution_count": 41,
   "metadata": {},
   "outputs": [
    {
     "data": {
      "text/plain": [
       "(array([ 3.,  3., 12.,  4.,  7.,  7.,  2.,  1.,  3.,  3.]),\n",
       " array([0.00720914, 0.08729314, 0.16737714, 0.24746114, 0.32754513,\n",
       "        0.40762913, 0.48771313, 0.56779713, 0.64788113, 0.72796513,\n",
       "        0.80804913]),\n",
       " <a list of 10 Patch objects>)"
      ]
     },
     "execution_count": 41,
     "metadata": {},
     "output_type": "execute_result"
    },
    {
     "data": {
      "image/png": "[encoded data removed]",
      "text/plain": [
       "<matplotlib.figure.Figure at 0x7fbf2854a320>"
      ]
     },
     "metadata": {},
     "output_type": "display_data"
    }
   ],
   "source": [
    "# old trained with small shift\n",
    "plt.hist(np.array(Performance_short).ravel(), color = 'b')\n",
    "plt.hist(np.array(Performance).ravel(), alpha = 0.5, color = 'g')\n",
    "plt.hist(np.array(Performance_block).ravel(), alpha = 0.5, color = 'r')"
   ]
  },
  {
   "cell_type": "code",
   "execution_count": 42,
   "metadata": {},
   "outputs": [],
   "source": [
    "Performance_block = []\n",
    "for y in np.arange(2, 5):\n",
    "    for x in np.arange(2, 17):\n",
    "        weight ='weights_fix3/weights3/rnn_1515tanh512_checkpoint39_1_15'\n",
    "        pregame = PretrainTest(weight_write = weight, holes = 0, inputs_type = (1, 0))\n",
    "        pregame.game.net.load_state_dict(torch.load(weight))\n",
    "#         pregame.game.grid.grid[ry-1 : ry + 3, rx + 4 : rx + 6] = 0\n",
    "        grid =  pregame.game.grid.grid.copy()\n",
    "        pregame.TestAllSizes(size_range = [15], limit_set = 2, test_size = 0, grid = grid, start = (y, x))\n",
    "#         print (y, x, pregame.Performance)\n",
    "        Performance_block.append(pregame.Performance)"
   ]
  },
  {
   "cell_type": "code",
   "execution_count": 43,
   "metadata": {},
   "outputs": [],
   "source": [
    "Performance = []\n",
    "for y in np.arange(2, 5):\n",
    "    for x in np.arange(2, 17):\n",
    "        weight ='weights_fix3/weights3/rnn_1515tanh512_checkpoint39_1_15'\n",
    "        pregame = PretrainTest(weight_write = weight, holes = 0, inputs_type = (1, 0))\n",
    "        pregame.game.net.load_state_dict(torch.load(weight))\n",
    "        pregame.game.grid.grid[ry-1 : ry + 3, rx + 1 : rx + 11] = 0\n",
    "        grid =  pregame.game.grid.grid.copy()\n",
    "        pregame.TestAllSizes(size_range = [15], limit_set = 2, test_size = 0, grid = grid, start = (y, x))\n",
    "#         print (y, x, pregame.Performance)\n",
    "        Performance.append(pregame.Performance)"
   ]
  },
  {
   "cell_type": "code",
   "execution_count": 44,
   "metadata": {},
   "outputs": [],
   "source": [
    "Performance_short = []\n",
    "for y in np.arange(2, 5):\n",
    "    for x in np.arange(2, 17):\n",
    "        weight ='weights_fix3/weights3/rnn_1515tanh512_checkpoint39_1_15'\n",
    "        pregame = PretrainTest(weight_write = weight, holes = 0, inputs_type = (1, 0))\n",
    "        pregame.game.net.load_state_dict(torch.load(weight))\n",
    "        pregame.game.grid.grid[ry-1 : ry + 3, rx + 4 : rx + 6] = 0\n",
    "        grid =  pregame.game.grid.grid.copy()\n",
    "        pregame.TestAllSizes(size_range = [15], limit_set = 2, test_size = 0, grid = grid, start = (y, x))\n",
    "#         print (y, x, pregame.Performance)\n",
    "        Performance_short.append(pregame.Performance)"
   ]
  },
  {
   "cell_type": "code",
   "execution_count": 45,
   "metadata": {},
   "outputs": [
    {
     "data": {
      "text/plain": [
       "(array([ 4., 10.,  9.,  9.,  4.,  2.,  1.,  2.,  3.,  1.]),\n",
       " array([-0.06973924,  0.00686071,  0.08346066,  0.16006061,  0.23666056,\n",
       "         0.31326051,  0.38986046,  0.46646041,  0.54306037,  0.61966032,\n",
       "         0.69626027]),\n",
       " <a list of 10 Patch objects>)"
      ]
     },
     "execution_count": 45,
     "metadata": {},
     "output_type": "execute_result"
    },
    {
     "data": {
      "image/png": "[encoded data removed]",
      "text/plain": [
       "<matplotlib.figure.Figure at 0x7fbf2854a6d8>"
      ]
     },
     "metadata": {},
     "output_type": "display_data"
    }
   ],
   "source": [
    "plt.hist(np.array(Performance_short).ravel(), color = 'b')\n",
    "plt.hist(np.array(Performance).ravel(), alpha = 0.5, color = 'g')\n",
    "plt.hist(np.array(Performance_block).ravel(), alpha = 0.5, color = 'r')"
   ]
  },
  {
   "cell_type": "markdown",
   "metadata": {},
   "source": [
    "# Conclusion\n",
    "**Internal dynamics rather than decoding performance influences more the performance in uncertain enviroments**\n",
    "\n",
    "**Consider to think in global loops rather than separated system, thus the coupled dynamical system.  This system, which has its genome on its internal weights, will have quite different different pheno-types from the global loops,  richness of internal dynamics turns into extenable phenotypes which supports behaviours across scales.   The different types of attractors, fix point, limit cycle becomes substrate of strategy in different size rooms.  Thus generalization can be done until certain size, which offers complicate behaviour with a \"simple mind\"**\n",
    "\n",
    "**The triangle between decoding, dynamics and navigation should be like: 1, dynamics coded by internal weight is most fundamental, it gives rise to different representations(phenotypes).   2,  The relation between decoding and navigation are reciprocal. not random behaviour gives better enviromental prediction(complement the free energy principle) 2,  we should distinguish internal dynamics and global dynamics**"
   ]
  },
  {
   "cell_type": "code",
   "execution_count": null,
   "metadata": {},
   "outputs": [],
   "source": []
  }
 ],
 "metadata": {
  "anaconda-cloud": {},
  "kernelspec": {
   "display_name": "Python 3",
   "language": "python",
   "name": "python3"
  },
  "language_info": {
   "codemirror_mode": {
    "name": "ipython",
    "version": 3
   },
   "file_extension": ".py",
   "mimetype": "text/x-python",
   "name": "python",
   "nbconvert_exporter": "python",
   "pygments_lexer": "ipython3",
   "version": "3.6.3"
  },
  "latex_envs": {
   "LaTeX_envs_menu_present": true,
   "autoclose": false,
   "autocomplete": true,
   "bibliofile": "biblio.bib",
   "cite_by": "apalike",
   "current_citInitial": 1,
   "eqLabelWithNumbers": true,
   "eqNumInitial": 1,
   "hotkeys": {
    "equation": "Ctrl-E",
    "itemize": "Ctrl-I"
   },
   "labels_anchors": false,
   "latex_user_defs": false,
   "report_style_numbering": false,
   "user_envs_cfg": false
  },
  "toc": {
   "nav_menu": {},
   "number_sections": true,
   "sideBar": true,
   "skip_h1_title": false,
   "title_cell": "Table of Contents",
   "title_sidebar": "Contents",
   "toc_cell": true,
   "toc_position": {
    "height": "759px",
    "left": "0px",
    "right": "1228px",
    "top": "67px",
    "width": "212px"
   },
   "toc_section_display": "block",
   "toc_window_display": true
  },
  "varInspector": {
   "cols": {
    "lenName": 16,
    "lenType": 16,
    "lenVar": 40
   },
   "kernels_config": {
    "python": {
     "delete_cmd_postfix": "",
     "delete_cmd_prefix": "del ",
     "library": "var_list.py",
     "varRefreshCmd": "print(var_dic_list())"
    },
    "r": {
     "delete_cmd_postfix": ") ",
     "delete_cmd_prefix": "rm(",
     "library": "var_list.r",
     "varRefreshCmd": "cat(var_dic_list()) "
    }
   },
   "types_to_exclude": [
    "module",
    "function",
    "builtin_function_or_method",
    "instance",
    "_Feature"
   ],
   "window_display": false
  }
 },
 "nbformat": 4,
 "nbformat_minor": 2
}
