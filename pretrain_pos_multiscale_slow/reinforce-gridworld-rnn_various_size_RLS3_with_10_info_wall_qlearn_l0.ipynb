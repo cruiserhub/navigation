{
 "cells": [
  {
   "cell_type": "markdown",
   "metadata": {
    "toc": "true"
   },
   "source": [
    "<h1>Table of Contents<span class=\"tocSkip\"></span></h1>\n",
    "<div class=\"toc\"><ul class=\"toc-item\"><li><span><a href=\"#quick-start\" data-toc-modified-id=\"quick-start-1\"><span class=\"toc-item-num\">1&nbsp;&nbsp;</span>quick start</a></span><ul class=\"toc-item\"><li><span><a href=\"#Resources\" data-toc-modified-id=\"Resources-1.1\"><span class=\"toc-item-num\">1.1&nbsp;&nbsp;</span>Resources</a></span></li></ul></li><li><span><a href=\"#FULL-MODEL\" data-toc-modified-id=\"FULL-MODEL-2\"><span class=\"toc-item-num\">2&nbsp;&nbsp;</span>FULL MODEL</a></span><ul class=\"toc-item\"><li><span><a href=\"#Packages\" data-toc-modified-id=\"Packages-2.1\"><span class=\"toc-item-num\">2.1&nbsp;&nbsp;</span>Packages</a></span><ul class=\"toc-item\"><li><span><a href=\"#Qnetwork\" data-toc-modified-id=\"Qnetwork-2.1.1\"><span class=\"toc-item-num\">2.1.1&nbsp;&nbsp;</span>Qnetwork</a></span></li></ul></li><li><span><a href=\"#POMDP-RNN-Game\" data-toc-modified-id=\"POMDP-RNN-Game-2.2\"><span class=\"toc-item-num\">2.2&nbsp;&nbsp;</span>POMDP RNN Game</a></span></li><li><span><a href=\"#Results\" data-toc-modified-id=\"Results-2.3\"><span class=\"toc-item-num\">2.3&nbsp;&nbsp;</span>Results</a></span><ul class=\"toc-item\"><li><span><a href=\"#Standard-setting：-grid-=--(3,7)，-holes-=-0\" data-toc-modified-id=\"Standard-setting：-grid-=--(3,7)，-holes-=-0-2.3.1\"><span class=\"toc-item-num\">2.3.1&nbsp;&nbsp;</span>Standard setting： grid =  (3,7)， holes = 0</a></span></li><li><span><a href=\"#Model-Tranining\" data-toc-modified-id=\"Model-Tranining-2.3.2\"><span class=\"toc-item-num\">2.3.2&nbsp;&nbsp;</span>Model Tranining</a></span></li><li><span><a href=\"#decoding-vs-performance\" data-toc-modified-id=\"decoding-vs-performance-2.3.3\"><span class=\"toc-item-num\">2.3.3&nbsp;&nbsp;</span>decoding vs performance</a></span></li><li><span><a href=\"#learning-rate-vs-performance\" data-toc-modified-id=\"learning-rate-vs-performance-2.3.4\"><span class=\"toc-item-num\">2.3.4&nbsp;&nbsp;</span>learning rate vs performance</a></span></li><li><span><a href=\"#Summary\" data-toc-modified-id=\"Summary-2.3.5\"><span class=\"toc-item-num\">2.3.5&nbsp;&nbsp;</span>Summary</a></span></li><li><span><a href=\"#Anlytic-part-,-check-the-behaviour-correspond-to-each-decoding-level-and-explain-why\" data-toc-modified-id=\"Anlytic-part-,-check-the-behaviour-correspond-to-each-decoding-level-and-explain-why-2.3.6\"><span class=\"toc-item-num\">2.3.6&nbsp;&nbsp;</span>Anlytic part , check the behaviour correspond to each decoding level and explain why</a></span></li></ul></li><li><span><a href=\"#PCA\" data-toc-modified-id=\"PCA-2.4\"><span class=\"toc-item-num\">2.4&nbsp;&nbsp;</span>PCA</a></span></li></ul></li></ul></div>"
   ]
  },
  {
   "cell_type": "markdown",
   "metadata": {},
   "source": [
    "# quick start "
   ]
  },
  {
   "cell_type": "markdown",
   "metadata": {},
   "source": [
    "No information on wall, this very nature case which needs the exploration, try to see its relation of generalization to performance "
   ]
  },
  {
   "cell_type": "markdown",
   "metadata": {},
   "source": [
    "## Resources\n",
    "\n",
    "* [*The* Reinforcement learning book from Sutton & Barto](http://incompleteideas.net/sutton/book/the-book-2nd.html)\n",
    "* [The REINFORCE paper from Ronald J. Williams (1992)](http://www-anw.cs.umass.edu/~barto/courses/cs687/williams92simple.pdf)\n"
   ]
  },
  {
   "cell_type": "markdown",
   "metadata": {},
   "source": [
    "# FULL MODEL"
   ]
  },
  {
   "cell_type": "markdown",
   "metadata": {},
   "source": [
    "## Packages"
   ]
  },
  {
   "cell_type": "code",
   "execution_count": 1,
   "metadata": {},
   "outputs": [
    {
     "name": "stdout",
     "output_type": "stream",
     "text": [
      "Populating the interactive namespace from numpy and matplotlib\n"
     ]
    },
    {
     "name": "stderr",
     "output_type": "stream",
     "text": [
      "/home/tie/anaconda3/lib/python3.6/site-packages/IPython/core/magics/pylab.py:160: UserWarning: pylab import has clobbered these variables: ['random']\n",
      "`%matplotlib` prevents importing * from pylab and numpy\n",
      "  \"\\n`%matplotlib` prevents importing * from pylab and numpy\"\n"
     ]
    }
   ],
   "source": [
    "%load_ext autoreload\n",
    "%autoreload 2\n",
    "\n",
    "import numpy as np\n",
    "from itertools import count\n",
    "import random\n",
    "\n",
    "import torch\n",
    "import torch.nn as nn\n",
    "import torch.nn.functional as F\n",
    "import torch.optim as optim\n",
    "import torch.autograd as autograd\n",
    "from torch.autograd import Variable\n",
    "from torch.nn import init\n",
    "from torch.nn import DataParallel\n",
    "from torch.utils.data import DataLoader\n",
    "\n",
    "import matplotlib.mlab as mlab\n",
    "import matplotlib.pyplot as plt\n",
    "import matplotlib.animation\n",
    "import seaborn as sns\n",
    "from IPython.display import HTML\n",
    "\n",
    "import pretrain\n",
    "from pretrain import *\n",
    "\n",
    "import navigation2\n",
    "from navigation2 import *\n",
    "\n",
    "import Nets \n",
    "from Nets import * \n",
    "\n",
    "%pylab inline\n",
    "import warnings\n",
    "warnings.filterwarnings('ignore')"
   ]
  },
  {
   "cell_type": "markdown",
   "metadata": {},
   "source": [
    "### Qnetwork\n",
    "\n",
    "To select actions we take maximum of Q value, corresponding to certain move."
   ]
  },
  {
   "cell_type": "markdown",
   "metadata": {},
   "source": [
    "For the liquid state approach to work, you need a lot of neurons as surplus or enough hidden to hidden connectivity to make it have an effect."
   ]
  },
  {
   "cell_type": "markdown",
   "metadata": {},
   "source": [
    "##  POMDP RNN Game\n",
    "\n",
    "In this game , we use a new reward function determined by game, if the agent achieves the goal before 50, reward is 1. If time pass 50 reward is 0.5, once time pass 100 agent gets a reward of -0.5 .  Practically, this is found to be easier to learn than the rewards as a continous function of time.  Tf the agent learns to search in a efficient way, the largest possible way for search is to firstly arrive at corner then goes to the goal, which, takes about 50 steps, it is reasonble to make 50 and 100 as milestone thing.  Also in principe as the game doesn't have a timer , it is not if it can use a reward as funtion of time"
   ]
  },
  {
   "cell_type": "markdown",
   "metadata": {},
   "source": [
    "3 condition for ending , when pass time limit, game over"
   ]
  },
  {
   "cell_type": "markdown",
   "metadata": {},
   "source": [
    "For weight update, it seems to be better do it after episode, as it makes non-sense evaluate strategy during episode, but a the end. Also, it is much quicker. "
   ]
  },
  {
   "cell_type": "markdown",
   "metadata": {},
   "source": [
    "A programming of MDP here, hidden state is as state of enviroment"
   ]
  },
  {
   "cell_type": "code",
   "execution_count": 2,
   "metadata": {},
   "outputs": [],
   "source": [
    "pregame = PretrainGame(grid_size = (15, 15), holes = 0, random_seed = 4 , set_reward = [(0.5, 0.25), (0.5, 0.75)])\n",
    "pregame.reset(set_agent=(2,2))\n",
    "# rls_q = RLS(1)\n",
    "# rls_sl = RLS(1)\n",
    "# for i in range(1):\n",
    "#     pregame.fulltrain(trials = 4)\n",
    "    "
   ]
  },
  {
   "cell_type": "code",
   "execution_count": 3,
   "metadata": {},
   "outputs": [],
   "source": [
    "game = ValueMaxGame(pregame.net, grid_size = (15, 15), holes = 0, random_seed = 4 , set_reward =  [(0.5, 0.25), (0.5, 0.75)])\n",
    "game.reset()\n",
    "# game.experiment(rls_q, rls_sl, 20, epsilon = 0.5, lr = 1e-3, train_hidden = False, train_q = False) "
   ]
  },
  {
   "cell_type": "code",
   "execution_count": 4,
   "metadata": {},
   "outputs": [
    {
     "data": {
      "text/plain": [
       "<matplotlib.image.AxesImage at 0x7f54e406e2b0>"
      ]
     },
     "execution_count": 4,
     "metadata": {},
     "output_type": "execute_result"
    },
    {
     "data": {
      "image/png": "[encoded data removed]",
      "text/plain": [
       "<matplotlib.figure.Figure at 0x7f555412a240>"
      ]
     },
     "metadata": {},
     "output_type": "display_data"
    }
   ],
   "source": [
    "plt.matshow(game.grid.grid)\n",
    "# plt.savefig('g16h3-map')"
   ]
  },
  {
   "cell_type": "markdown",
   "metadata": {},
   "source": [
    "## Model Tranining \n",
    "Pretranining is done with fixed size 15,  training is between 10 to 15, test on 19 "
   ]
  },
  {
   "cell_type": "markdown",
   "metadata": {},
   "source": [
    "Training from zero seems to be better because it will allow the agent to explore from new"
   ]
  },
  {
   "cell_type": "code",
   "execution_count": null,
   "metadata": {},
   "outputs": [
    {
     "name": "stdout",
     "output_type": "stream",
     "text": [
      "clear session data 49 8014520320\n",
      "0 rewards (0.70775816993464047, -0.58743632131773105)\n",
      "clear session data 49 8014782464\n",
      "1 rewards (0.84480729166666668, -0.47554287327577194)\n",
      "clear session data 49 8014856192\n",
      "2 rewards (0.85838815789473677, -0.57429482910252139)\n",
      "clear session data 49 8014856192\n",
      "3 rewards (0.94659763071895431, -0.46225049398009899)\n",
      "clear session data 49 8014856192\n",
      "4 rewards (0.88314413484692122, -0.46399090320433678)\n",
      "clear session data 49 8014856192\n",
      "5 rewards (0.94693850511695909, -0.42810030108906955)\n",
      "clear session data 49 8014856192\n",
      "6 rewards (0.92999999999999994, -0.52071005917159763)\n",
      "clear session data 49 8014856192\n",
      "7 rewards (0.90101231325863673, -0.43866298300845707)\n",
      "clear session data 49 8014856192\n",
      "8 rewards (0.98708639705882351, -0.6272189349112427)\n",
      "clear session data 49 8496320512\n",
      "9 rewards (0.9579791666666666, -0.32668934432246671)\n",
      "clear session data 49 8496418816\n",
      "0 rewards (0.47891466346153849, -0.61015073248711582)\n",
      "clear session data 49 8496422912\n",
      "1 rewards (0.56557783321662003, -0.69832100591715973)\n",
      "clear session data 49 8496422912\n",
      "2 rewards (0.75977941176470587, -0.73964497041420119)\n",
      "clear session data 49 8496422912\n",
      "3 rewards (0.79722314836865915, -0.64520679558348071)\n",
      "clear session data 49 8496685056\n",
      "4 rewards (0.91668969298245617, -0.47439434882582948)\n",
      "clear session data 49 8496685056\n",
      "5 rewards (0.8740410861713106, -0.69848901098901106)\n",
      "clear session data 49 8496685056\n",
      "6 rewards (0.92713304631062954, -0.72200786921246873)\n",
      "clear session data 49 8496685056\n",
      "7 rewards (0.92941666666666667, -0.71597633136094674)\n",
      "clear session data 49 8496685056\n",
      "8 rewards (0.92747395833333335, -0.71005917159763321)\n",
      "clear session data 49 8496685056\n",
      "9 rewards (0.92909926470588244, -0.70433665524758649)\n"
     ]
    }
   ],
   "source": [
    "for iters, noise in enumerate(3 * [0.0]):\n",
    "    for trial in [83]: \n",
    "        Pretest =  PretrainTest(holes = 0, weight_write = 'weights_cpu/rnn_1515tanh512_checkpoint{}'.format(trial))\n",
    "        weight_read = Pretest.weight\n",
    "        weight_write = 'weights2/rnn_1515tanh512_checkpoint{}_{}'.format(trial, iters)\n",
    "        rewards = Pretest.qlearn(weight_read,  weight_write, iterations = 10, noise = noise, size_train = np.arange(10, 51, 20), size_test=[10, 50])\n",
    "        np.save('Rewards_l_{}_{}.npy'.format(iters, trial), rewards)"
   ]
  },
  {
   "cell_type": "code",
   "execution_count": null,
   "metadata": {},
   "outputs": [
    {
     "name": "stdout",
     "output_type": "stream",
     "text": [
      "clear session data 49 6494257152\n",
      "0 rewards (0.65636478758169936, -0.60744100493960507)\n",
      "clear session data 49 6494359552\n",
      "1 rewards (0.78438996388028892, -0.68233885533788063)\n",
      "clear session data 49 8837349376\n",
      "2 rewards (0.86496527777777776, -0.62422073352750762)\n",
      "clear session data 49 8837775360\n",
      "3 rewards (0.93840277777777781, -0.67579832437450782)\n",
      "clear session data 49 8837775360\n",
      "4 rewards (0.92827083333333338, -0.63412211313180222)\n",
      "clear session data 49 8837513216\n",
      "5 rewards (0.80653618421052631, -0.59335437887788767)\n",
      "clear session data 49 8837775360\n",
      "6 rewards (0.95729961622807025, -0.58738728005862639)\n",
      "clear session data 49 8837775360\n",
      "7 rewards (0.98776315789473679, -0.63512413957125502)\n",
      "clear session data 49 8837775360\n",
      "8 rewards (0.89785197368421055, -0.66437639333376675)\n",
      "clear session data 49 8837775360\n",
      "9 rewards (0.90398326775885796, -0.65900525222640605)\n",
      "clear session data 49 8837775360\n",
      "0 rewards (0.85949107142857151, -0.64164788252517924)\n",
      "clear session data 49 8837775360\n",
      "1 rewards (0.91624908088235291, -0.64006851237151419)\n",
      "clear session data 49 8837775360\n",
      "2 rewards (0.8892916666666667, -0.66272189349112431)\n",
      "clear session data 49 8837775360\n",
      "3 rewards (0.89720680147058829, -0.66272189349112431)\n",
      "clear session data 49 8837775360\n",
      "4 rewards (0.99577322146807445, -0.72781065088757391)\n",
      "clear session data 49 8837775360\n",
      "5 rewards (0.89789522058823534, -0.63905325443786976)\n",
      "clear session data 49 8837775360\n",
      "6 rewards (0.80626096491228072, -0.74556213017751483)\n",
      "clear session data 49 8837775360\n",
      "7 rewards (0.90360135432378064, -0.66863905325443795)\n",
      "clear session data 49 8837775360\n",
      "8 rewards (0.95651219040247681, -0.81065088757396442)\n",
      "clear session data 49 8837775360\n",
      "9 rewards (0.94561805555555556, -0.70414201183431957)\n",
      "clear session data 49 8837775360\n",
      "0 rewards (0.90650483911513313, -0.75153158807004949)\n"
     ]
    }
   ],
   "source": [
    "for iters, noise in enumerate(3 * [0.0]):\n",
    "    for trial in [300]: \n",
    "        Pretest =  PretrainTest(holes = 0, weight_write = 'weights_cpu/rnn_1515tanh512_checkpoint{}'.format(trial))\n",
    "        weight_read = Pretest.weight\n",
    "        weight_write = 'weights2/rnn_1515tanh512_checkpoint{}_{}'.format(trial, iters)\n",
    "        rewards = Pretest.qlearn(weight_read,  weight_write, iterations = 10, noise = noise, size_train = np.arange(10, 51, 20), size_test=[10, 50])\n",
    "        np.save('Rewards_l_{}_{}.npy'.format(iters, trial), rewards)"
   ]
  },
  {
   "cell_type": "code",
   "execution_count": 3,
   "metadata": {},
   "outputs": [
    {
     "name": "stdout",
     "output_type": "stream",
     "text": [
      "clear session data 49 3544981504\n",
      "0 rewards (0.67881578947368426, -0.42000000000000004)\n",
      "clear session data 49 3545014272\n",
      "1 rewards (0.85294534206226347, -0.42000000000000004)\n",
      "clear session data 49 3545014272\n",
      "2 rewards (0.8577552083333333, -0.35113839285714288)\n",
      "clear session data 49 4291399680\n",
      "3 rewards (0.98908333333333331, -0.062053146376970569)\n",
      "clear session data 49 4291399680\n",
      "4 rewards (0.97919117647058829, 0.020718528033158136)\n",
      "clear session data 49 4291399680\n",
      "5 rewards (0.98895833333333338, -0.22017156862745096)\n",
      "clear session data 49 4291399680\n",
      "6 rewards (0.94848684210526313, -0.30016022727272729)\n",
      "clear session data 49 4291399680\n",
      "7 rewards (0.93812499999999999, -0.17090342925963492)\n",
      "clear session data 49 4291399680\n",
      "8 rewards (0.93840525191183088, -0.37)\n",
      "clear session data 49 4291399680\n",
      "9 rewards (0.88824479166666659, -0.38)\n",
      "clear session data 49 4440875008\n",
      "0 rewards (0.87243165204678363, -0.32212756467439785)\n",
      "clear session data 49 4440875008\n",
      "1 rewards (0.99635661764705885, -0.13)\n",
      "clear session data 49 4702019584\n",
      "2 rewards (0.99948214285714287, -0.1654194093252325)\n",
      "clear session data 49 4702019584\n",
      "3 rewards (0.98895833333333338, -0.28148901845675911)\n",
      "clear session data 49 4702019584\n",
      "4 rewards (0.97999999999999998, -0.15492155480713213)\n",
      "clear session data 49 4702019584\n",
      "5 rewards (0.99948529411764708, -0.19046610169491526)\n",
      "clear session data 49 4702019584\n",
      "6 rewards (0.98725548245614037, 0.097114174020424021)\n",
      "clear session data 49 4702019584\n",
      "7 rewards (0.93890196078431365, -0.070250000000000007)\n",
      "clear session data 49 4702019584\n",
      "8 rewards (0.97948529411764707, 0.054120075727722178)\n",
      "clear session data 49 4702019584\n",
      "9 rewards (0.99776838235294119, -0.061593084802830551)\n",
      "clear session data 49 4702019584\n",
      "0 rewards (0.47702027740920927, -0.39000000000000001)\n",
      "clear session data 49 4702019584\n",
      "1 rewards (0.96579160216718263, -0.40020833333333328)\n",
      "clear session data 49 4702019584\n",
      "2 rewards (0.96895833333333337, -0.43283007948986718)\n",
      "clear session data 49 4702019584\n",
      "3 rewards (0.98841094771241833, -0.11334851740262515)\n",
      "clear session data 49 4702019584\n",
      "4 rewards (0.99738075657894742, -0.080546568627450979)\n",
      "clear session data 49 4702019584\n",
      "5 rewards (0.99869618055555553, -0.16632517350599613)\n",
      "clear session data 49 4702019584\n",
      "6 rewards (0.97603737745098051, -0.013745689320032589)\n",
      "clear session data 49 4702019584\n",
      "7 rewards (1.0, 0.028728448275862063)\n",
      "clear session data 49 4702019584\n",
      "8 rewards (1.0, -0.18198892537784345)\n",
      "clear session data 49 4702019584\n",
      "9 rewards (0.9784714052287582, -0.16189120926243566)\n"
     ]
    }
   ],
   "source": [
    "for iters, noise in enumerate(3 * [0.0]):\n",
    "    for trial in [300]: \n",
    "        Pretest =  PretrainTest(holes = 0, weight_write = 'weights_cpu/rnn_1515tanh512_checkpoint{}'.format(trial))\n",
    "        weight_read = Pretest.weight\n",
    "        weight_write = 'weights2/rnn_1515tanh512_checkpoint{}_{}'.format(trial, iters+5)\n",
    "        rewards = Pretest.qlearn(weight_read,  weight_write, iterations = 10, noise = noise, size_train = np.arange(10, 31, 20), size_test=[10, 30])\n",
    "        np.save('Rewards_l_{}_{}.npy'.format(iters, trial), rewards)"
   ]
  },
  {
   "cell_type": "code",
   "execution_count": 5,
   "metadata": {},
   "outputs": [
    {
     "name": "stdout",
     "output_type": "stream",
     "text": [
      "clear session data 49 8250781696\n",
      "0 rewards (0.6309233101135191, -0.675271267194344)\n",
      "clear session data 49 8250810368\n",
      "1 rewards (0.9122847007223942, -0.6581683042639265)\n",
      "clear session data 49 8250810368\n",
      "2 rewards (0.9225667600373484, -0.6061513806706115)\n",
      "clear session data 49 8251072512\n",
      "3 rewards (0.956609768907563, -0.6439383943332321)\n",
      "clear session data 49 10367209472\n",
      "4 rewards (0.9971816801619433, -0.5968745932786497)\n",
      "clear session data 49 10367213568\n",
      "5 rewards (0.9614224664224664, -0.5753165663327136)\n",
      "clear session data 49 10367213568\n",
      "6 rewards (0.9389736842105263, -0.6344335520573494)\n",
      "clear session data 49 10367475712\n",
      "7 rewards (0.9526904761904762, -0.621792073635983)\n",
      "clear session data 49 10527510528\n",
      "8 rewards (0.9371236279200676, -0.6022487048160526)\n",
      "clear session data 49 10527510528\n",
      "9 rewards (0.9025329469507102, -0.6222311436231591)\n",
      "clear session data 49 9542733824\n",
      "0 rewards (0.710860036119711, -0.729402479113474)\n",
      "clear session data 49 10327109632\n",
      "1 rewards (0.8784970238095238, -0.5759481097841368)\n",
      "clear session data 49 10327183360\n",
      "2 rewards (0.9543656869446343, -0.5471312008213265)\n",
      "clear session data 49 10327183360\n",
      "3 rewards (0.9781818181818183, -0.6459702101611916)\n",
      "clear session data 49 10327183360\n",
      "4 rewards (0.9868157051282052, -0.6688302539950892)\n",
      "clear session data 49 10343833600\n",
      "5 rewards (0.9224811600078628, -0.650887573964497)\n",
      "clear session data 49 10343960576\n",
      "6 rewards (0.9836801470588237, -0.6349549006962159)\n",
      "clear session data 49 10343960576\n",
      "7 rewards (0.9296428571428572, -0.5644095299714182)\n",
      "clear session data 49 10386350080\n",
      "8 rewards (0.9433616452991453, -0.6750812862351323)\n",
      "clear session data 49 10324439040\n",
      "9 rewards (0.9230401616787065, -0.7284175390684267)\n",
      "clear session data 49 10269491200\n",
      "0 rewards (0.5636249140006879, -0.6260935831810897)\n",
      "clear session data 49 10269491200\n",
      "1 rewards (0.8949749987714384, -0.4870116044542191)\n",
      "clear session data 49 10269491200\n",
      "2 rewards (0.9397222222222221, -0.46111915032106143)\n",
      "clear session data 49 10269491200\n",
      "3 rewards (0.9372031733746129, -0.6708662987833256)\n",
      "clear session data 49 10269491200\n",
      "4 rewards (0.9888928571428571, -0.687149602534218)\n",
      "clear session data 49 10269491200\n",
      "5 rewards (0.9591666666666666, -0.6095628936820003)\n",
      "clear session data 49 10269491200\n",
      "6 rewards (0.9691795665634675, -0.5118614127489868)\n",
      "clear session data 49 10269491200\n",
      "7 rewards (0.9231256086105157, -0.5830971820650255)\n",
      "clear session data 49 10269491200\n",
      "8 rewards (0.9144346405228758, -0.5675444232143096)\n",
      "clear session data 49 10269491200\n",
      "9 rewards (0.9056895424836602, -0.5701729621533222)\n"
     ]
    }
   ],
   "source": [
    "for iters, noise in enumerate(3 * [0.0]):\n",
    "    for trial in [399]: \n",
    "        Pretest =  PretrainTest(holes = 0, weight_write = 'weights_cpu/rnn_1515tanh512_checkpoint{}'.format(trial))\n",
    "        weight_read = Pretest.weight\n",
    "        weight_write = 'weights2/rnn_1515tanh512_checkpoint{}_{}'.format(trial, iters)\n",
    "        rewards = Pretest.qlearn(weight_read,  weight_write, iterations = 10, noise = noise, size_train = np.arange(10, 51, 20), size_test=[10, 50])\n",
    "        np.save('Rewards_l_{}_{}.npy'.format(iters, trial), rewards)"
   ]
  },
  {
   "cell_type": "code",
   "execution_count": 4,
   "metadata": {},
   "outputs": [
    {
     "name": "stdout",
     "output_type": "stream",
     "text": [
      "clear session data 49 8442265600\n",
      "0 rewards (0.34380762134322507, -0.714302030726613)\n",
      "clear session data 49 8442265600\n",
      "1 rewards (0.535454312865497, -0.5435498459724682)\n",
      "clear session data 49 8442265600\n",
      "2 rewards (0.9108557231597092, -0.6781330201534338)\n",
      "clear session data 49 8442265600\n",
      "3 rewards (0.8964107757137942, -0.6175665155876322)\n",
      "clear session data 49 8442265600\n",
      "4 rewards (0.6963661297852474, -0.5390385572463812)\n",
      "clear session data 49 8442265600\n",
      "5 rewards (0.7460531045751633, -0.612857765918907)\n",
      "clear session data 49 8442265600\n",
      "6 rewards (0.8348869109047127, -0.5911873590241066)\n",
      "clear session data 49 8442265600\n",
      "7 rewards (0.7666639957264958, -0.5022461248989284)\n",
      "clear session data 49 8442265600\n",
      "8 rewards (0.6324115067079463, -0.4625683731294836)\n",
      "clear session data 49 8442265600\n",
      "9 rewards (0.8165708542188805, -0.7219274977895668)\n",
      "clear session data 49 8442265600\n",
      "0 rewards (0.571194701862465, -0.5766206612326794)\n",
      "clear session data 49 8442265600\n",
      "1 rewards (0.6232445820433437, -0.6503217621111859)\n",
      "clear session data 49 8442265600\n",
      "2 rewards (0.7775454545454545, -0.6800836162905128)\n",
      "clear session data 49 8442265600\n",
      "3 rewards (0.6339407894736842, -0.6335502958579882)\n",
      "clear session data 49 8442265600\n",
      "4 rewards (0.9237744360902256, -0.5550847802276208)\n",
      "clear session data 49 8443944960\n",
      "5 rewards (0.6683717105263158, -0.42403166385602453)\n",
      "clear session data 49 8444063744\n",
      "6 rewards (0.7319212246302029, -0.40310137486368447)\n",
      "clear session data 49 8444063744\n",
      "7 rewards (0.7654964806435394, -0.3913360572776152)\n",
      "clear session data 49 8444063744\n",
      "8 rewards (0.8942675438596491, -0.555755682084883)\n",
      "clear session data 49 8444063744\n",
      "9 rewards (0.8753556931544548, -0.6195079220509232)\n",
      "clear session data 49 8444063744\n",
      "0 rewards (0.2940423976608187, -0.6901617516312022)\n",
      "clear session data 49 8444063744\n",
      "1 rewards (0.49707294891640874, -0.6819412833683736)\n",
      "clear session data 49 8444063744\n",
      "2 rewards (0.7271388888888889, -0.6281999080013656)\n",
      "clear session data 49 8444063744\n",
      "3 rewards (0.7978637770897833, -0.6158067056553995)\n",
      "clear session data 49 8444063744\n",
      "4 rewards (0.9236264189886481, -0.681944217061274)\n",
      "clear session data 49 8444063744\n",
      "5 rewards (0.9026062030075188, -0.702538586432073)\n",
      "clear session data 49 8444325888\n",
      "6 rewards (0.7137554302422724, -0.4838618270862888)\n",
      "clear session data 49 8444325888\n",
      "7 rewards (0.5649871615312791, -0.6848657549651387)\n",
      "clear session data 49 8444325888\n",
      "8 rewards (0.6558125, -0.788859197250644)\n",
      "clear session data 49 8444325888\n",
      "9 rewards (0.7092236842105264, -0.5811792488947016)\n"
     ]
    }
   ],
   "source": [
    "for iters, noise in enumerate(3 * [0.0]):\n",
    "    for trial in [300]: \n",
    "        Pretest =  PretrainTest(holes = 0, weight_write = 'weights_cpu/rnn_1515tanh512_checkpoint{}'.format(trial))\n",
    "        weight_read = Pretest.weight\n",
    "        weight_write = 'weights2/rnn_1515tanh512_checkpoint{}_{}'.format(trial, iters+3)\n",
    "        rewards = Pretest.qlearn(weight_read,  weight_write, iterations = 10, noise = noise, size_train = np.arange(10, 51, 10), size_test=[10, 50])\n",
    "        np.save('Rewards_l_{}_{}.npy'.format(iters, trial), rewards)"
   ]
  },
  {
   "cell_type": "code",
   "execution_count": 3,
   "metadata": {},
   "outputs": [
    {
     "name": "stdout",
     "output_type": "stream",
     "text": [
      "clear session data 49 5990690816\n",
      "0 rewards (0.6081818181818182, -0.7520844540075309)\n",
      "clear session data 49 5990699008\n",
      "1 rewards (0.6027819548872181, -0.678880438441804)\n",
      "clear session data 49 5990699008\n",
      "2 rewards (0.23654464285714286, -0.7712908037282459)\n",
      "clear session data 49 6961606656\n",
      "3 rewards (0.10652266483516484, -0.8579881656804733)\n",
      "clear session data 49 6457372672\n",
      "4 rewards (0.5913655830753355, -0.8050859397013244)\n",
      "clear session data 49 8701165568\n",
      "5 rewards (0.8164407814407815, -0.688295038239801)\n",
      "clear session data 49 8533905408\n",
      "6 rewards (0.349842189608637, -0.834319526627219)\n",
      "clear session data 49 8533905408\n",
      "7 rewards (0.13223312323641265, -0.8461538461538461)\n",
      "clear session data 49 8533905408\n",
      "8 rewards (0.4890628636069812, -0.7515234478495099)\n",
      "clear session data 49 8533905408\n",
      "9 rewards (0.9593947921273773, -0.6810729142212092)\n",
      "clear session data 49 8442003456\n",
      "0 rewards (0.32743750000000005, -0.7209701541062488)\n",
      "clear session data 49 8442003456\n",
      "1 rewards (0.6335374957000344, -0.7172353015233539)\n",
      "clear session data 49 8442003456\n",
      "2 rewards (0.8478030303030304, -0.604413214990138)\n",
      "clear session data 49 8442003456\n",
      "3 rewards (0.9170661549707602, -0.6568047337278107)\n",
      "clear session data 49 8442003456\n",
      "4 rewards (0.9168898809523809, -0.4846850535806597)\n",
      "clear session data 49 8442003456\n",
      "5 rewards (0.8671597222222223, -0.5279691588218881)\n",
      "clear session data 49 8442003456\n",
      "6 rewards (0.8981809034618633, -0.43469920334791934)\n",
      "clear session data 49 8442003456\n",
      "7 rewards (0.7344195906432748, -0.6573503823187701)\n",
      "clear session data 49 8442003456\n",
      "8 rewards (0.8687499570003441, -0.533376420529351)\n",
      "clear session data 49 8442003456\n",
      "9 rewards (0.6997024756074679, -0.4326737094055759)\n",
      "clear session data 49 8442265600\n",
      "0 rewards (0.5276517887856897, -0.7401001365498407)\n",
      "clear session data 49 8442265600\n",
      "1 rewards (0.7950080741626795, -0.6729924031087536)\n",
      "clear session data 49 8442265600\n",
      "2 rewards (0.8563676470588235, -0.6678930380911843)\n",
      "clear session data 49 8442265600\n",
      "3 rewards (0.925986842105263, -0.5788901026385536)\n",
      "clear session data 49 8442265600\n",
      "4 rewards (0.8647499999999999, -0.6578871410015876)\n",
      "clear session data 49 8442265600\n",
      "5 rewards (0.916675844988345, -0.6685957389572639)\n",
      "clear session data 49 8442265600\n",
      "6 rewards (0.8884558823529412, -0.46288601455329703)\n",
      "clear session data 49 8442265600\n",
      "7 rewards (0.7835437736498108, -0.5041587839344074)\n",
      "clear session data 49 8442265600\n",
      "8 rewards (0.7962938596491228, -0.5033964815441643)\n",
      "clear session data 49 8442265600\n",
      "9 rewards (0.8880555555555556, -0.42877003955709675)\n"
     ]
    }
   ],
   "source": [
    "for iters, noise in enumerate(3 * [0.0]):\n",
    "    for trial in [399]: \n",
    "        Pretest =  PretrainTest(holes = 0, weight_write = 'weights_cpu/rnn_1515tanh512_checkpoint{}'.format(trial))\n",
    "        weight_read = Pretest.weight\n",
    "        weight_write = 'weights2/rnn_1515tanh512_checkpoint{}_{}'.format(trial, iters+3)\n",
    "        rewards = Pretest.qlearn(weight_read,  weight_write, iterations = 10, noise = noise, size_train = np.arange(10, 51, 10), size_test=[10, 50])\n",
    "        np.save('Rewards_l_{}_{}.npy'.format(iters, trial), rewards)"
   ]
  },
  {
   "cell_type": "markdown",
   "metadata": {},
   "source": [
    "## Model Test"
   ]
  }
 ],
 "metadata": {
  "anaconda-cloud": {},
  "kernelspec": {
   "display_name": "Python 3",
   "language": "python",
   "name": "python3"
  },
  "language_info": {
   "codemirror_mode": {
    "name": "ipython",
    "version": 3
   },
   "file_extension": ".py",
   "mimetype": "text/x-python",
   "name": "python",
   "nbconvert_exporter": "python",
   "pygments_lexer": "ipython3",
   "version": "3.7.3"
  },
  "latex_envs": {
   "LaTeX_envs_menu_present": true,
   "autoclose": false,
   "autocomplete": true,
   "bibliofile": "biblio.bib",
   "cite_by": "apalike",
   "current_citInitial": 1,
   "eqLabelWithNumbers": true,
   "eqNumInitial": 1,
   "hotkeys": {
    "equation": "Ctrl-E",
    "itemize": "Ctrl-I"
   },
   "labels_anchors": false,
   "latex_user_defs": false,
   "report_style_numbering": false,
   "user_envs_cfg": false
  },
  "toc": {
   "nav_menu": {},
   "number_sections": true,
   "sideBar": true,
   "skip_h1_title": false,
   "title_cell": "Table of Contents",
   "title_sidebar": "Contents",
   "toc_cell": true,
   "toc_position": {
    "height": "759px",
    "left": "0px",
    "right": "1228px",
    "top": "67px",
    "width": "212px"
   },
   "toc_section_display": "block",
   "toc_window_display": true
  },
  "varInspector": {
   "cols": {
    "lenName": 16,
    "lenType": 16,
    "lenVar": 40
   },
   "kernels_config": {
    "python": {
     "delete_cmd_postfix": "",
     "delete_cmd_prefix": "del ",
     "library": "var_list.py",
     "varRefreshCmd": "print(var_dic_list())"
    },
    "r": {
     "delete_cmd_postfix": ") ",
     "delete_cmd_prefix": "rm(",
     "library": "var_list.r",
     "varRefreshCmd": "cat(var_dic_list()) "
    }
   },
   "types_to_exclude": [
    "module",
    "function",
    "builtin_function_or_method",
    "instance",
    "_Feature"
   ],
   "window_display": false
  }
 },
 "nbformat": 4,
 "nbformat_minor": 4
}
