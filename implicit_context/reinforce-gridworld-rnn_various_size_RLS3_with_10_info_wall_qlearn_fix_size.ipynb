{
 "cells": [
  {
   "cell_type": "markdown",
   "metadata": {
    "toc": "true"
   },
   "source": [
    "<h1>Table of Contents<span class=\"tocSkip\"></span></h1>\n",
    "<div class=\"toc\"><ul class=\"toc-item\"><li><span><a href=\"#quick-start\" data-toc-modified-id=\"quick-start-1\"><span class=\"toc-item-num\">1&nbsp;&nbsp;</span>quick start</a></span><ul class=\"toc-item\"><li><span><a href=\"#Resources\" data-toc-modified-id=\"Resources-1.1\"><span class=\"toc-item-num\">1.1&nbsp;&nbsp;</span>Resources</a></span></li></ul></li><li><span><a href=\"#FULL-MODEL\" data-toc-modified-id=\"FULL-MODEL-2\"><span class=\"toc-item-num\">2&nbsp;&nbsp;</span>FULL MODEL</a></span><ul class=\"toc-item\"><li><span><a href=\"#Packages\" data-toc-modified-id=\"Packages-2.1\"><span class=\"toc-item-num\">2.1&nbsp;&nbsp;</span>Packages</a></span><ul class=\"toc-item\"><li><span><a href=\"#Qnetwork\" data-toc-modified-id=\"Qnetwork-2.1.1\"><span class=\"toc-item-num\">2.1.1&nbsp;&nbsp;</span>Qnetwork</a></span></li></ul></li><li><span><a href=\"#POMDP-RNN-Game\" data-toc-modified-id=\"POMDP-RNN-Game-2.2\"><span class=\"toc-item-num\">2.2&nbsp;&nbsp;</span>POMDP RNN Game</a></span></li><li><span><a href=\"#Results\" data-toc-modified-id=\"Results-2.3\"><span class=\"toc-item-num\">2.3&nbsp;&nbsp;</span>Results</a></span><ul class=\"toc-item\"><li><span><a href=\"#Standard-setting：-grid-=--(3,7)，-holes-=-0\" data-toc-modified-id=\"Standard-setting：-grid-=--(3,7)，-holes-=-0-2.3.1\"><span class=\"toc-item-num\">2.3.1&nbsp;&nbsp;</span>Standard setting： grid =  (3,7)， holes = 0</a></span></li><li><span><a href=\"#Model-Tranining\" data-toc-modified-id=\"Model-Tranining-2.3.2\"><span class=\"toc-item-num\">2.3.2&nbsp;&nbsp;</span>Model Tranining</a></span></li><li><span><a href=\"#decoding-vs-performance\" data-toc-modified-id=\"decoding-vs-performance-2.3.3\"><span class=\"toc-item-num\">2.3.3&nbsp;&nbsp;</span>decoding vs performance</a></span></li><li><span><a href=\"#learning-rate-vs-performance\" data-toc-modified-id=\"learning-rate-vs-performance-2.3.4\"><span class=\"toc-item-num\">2.3.4&nbsp;&nbsp;</span>learning rate vs performance</a></span></li><li><span><a href=\"#Summary\" data-toc-modified-id=\"Summary-2.3.5\"><span class=\"toc-item-num\">2.3.5&nbsp;&nbsp;</span>Summary</a></span></li><li><span><a href=\"#Anlytic-part-,-check-the-behaviour-correspond-to-each-decoding-level-and-explain-why\" data-toc-modified-id=\"Anlytic-part-,-check-the-behaviour-correspond-to-each-decoding-level-and-explain-why-2.3.6\"><span class=\"toc-item-num\">2.3.6&nbsp;&nbsp;</span>Anlytic part , check the behaviour correspond to each decoding level and explain why</a></span></li></ul></li><li><span><a href=\"#PCA\" data-toc-modified-id=\"PCA-2.4\"><span class=\"toc-item-num\">2.4&nbsp;&nbsp;</span>PCA</a></span></li></ul></li></ul></div>"
   ]
  },
  {
   "cell_type": "markdown",
   "metadata": {},
   "source": [
    "# quick start "
   ]
  },
  {
   "cell_type": "markdown",
   "metadata": {},
   "source": [
    "Test what is the decoding change for single size training "
   ]
  },
  {
   "cell_type": "markdown",
   "metadata": {},
   "source": [
    "## Resources\n",
    "\n",
    "* [*The* Reinforcement learning book from Sutton & Barto](http://incompleteideas.net/sutton/book/the-book-2nd.html)\n",
    "* [The REINFORCE paper from Ronald J. Williams (1992)](http://www-anw.cs.umass.edu/~barto/courses/cs687/williams92simple.pdf)\n"
   ]
  },
  {
   "cell_type": "markdown",
   "metadata": {},
   "source": [
    "# FULL MODEL"
   ]
  },
  {
   "cell_type": "markdown",
   "metadata": {},
   "source": [
    "## Packages"
   ]
  },
  {
   "cell_type": "code",
   "execution_count": 1,
   "metadata": {},
   "outputs": [
    {
     "name": "stdout",
     "output_type": "stream",
     "text": [
      "Populating the interactive namespace from numpy and matplotlib\n"
     ]
    },
    {
     "name": "stderr",
     "output_type": "stream",
     "text": [
      "/home/tie/anaconda3/lib/python3.6/site-packages/IPython/core/magics/pylab.py:160: UserWarning: pylab import has clobbered these variables: ['random']\n",
      "`%matplotlib` prevents importing * from pylab and numpy\n",
      "  \"\\n`%matplotlib` prevents importing * from pylab and numpy\"\n"
     ]
    }
   ],
   "source": [
    "%load_ext autoreload\n",
    "%autoreload 2\n",
    "\n",
    "import numpy as np\n",
    "from itertools import count\n",
    "import random\n",
    "\n",
    "import torch\n",
    "import torch.nn as nn\n",
    "import torch.nn.functional as F\n",
    "import torch.optim as optim\n",
    "import torch.autograd as autograd\n",
    "from torch.autograd import Variable\n",
    "from torch.nn import init\n",
    "from torch.nn import DataParallel\n",
    "from torch.utils.data import DataLoader\n",
    "\n",
    "import matplotlib.mlab as mlab\n",
    "import matplotlib.pyplot as plt\n",
    "import matplotlib.animation\n",
    "import seaborn as sns\n",
    "from IPython.display import HTML\n",
    "\n",
    "import pretrain\n",
    "from pretrain import *\n",
    "\n",
    "import Nets\n",
    "from Nets import*\n",
    "\n",
    "import navigation2\n",
    "from navigation2 import *\n",
    "\n",
    "%pylab inline\n",
    "import warnings\n",
    "warnings.filterwarnings('ignore')"
   ]
  },
  {
   "cell_type": "markdown",
   "metadata": {},
   "source": [
    "### Qnetwork\n",
    "\n",
    "To select actions we take maximum of Q value, corresponding to certain move."
   ]
  },
  {
   "cell_type": "markdown",
   "metadata": {},
   "source": [
    "For the liquid state approach to work, you need a lot of neurons as surplus or enough hidden to hidden connectivity to make it have an effect."
   ]
  },
  {
   "cell_type": "markdown",
   "metadata": {},
   "source": [
    "##  POMDP RNN Game\n",
    "\n",
    "In this game , we use a new reward function determined by game, if the agent achieves the goal before 50, reward is 1. If time pass 50 reward is 0.5, once time pass 100 agent gets a reward of -0.5 .  Practically, this is found to be easier to learn than the rewards as a continous function of time.  Tf the agent learns to search in a efficient way, the largest possible way for search is to firstly arrive at corner then goes to the goal, which, takes about 50 steps, it is reasonble to make 50 and 100 as milestone thing.  Also in principe as the game doesn't have a timer , it is not if it can use a reward as funtion of time"
   ]
  },
  {
   "cell_type": "markdown",
   "metadata": {},
   "source": [
    "3 condition for ending , when pass time limit, game over"
   ]
  },
  {
   "cell_type": "markdown",
   "metadata": {},
   "source": [
    "For weight update, it seems to be better do it after episode, as it makes non-sense evaluate strategy during episode, but a the end. Also, it is much quicker. "
   ]
  },
  {
   "cell_type": "markdown",
   "metadata": {},
   "source": [
    "A programming of MDP here, hidden state is as state of enviroment"
   ]
  },
  {
   "cell_type": "code",
   "execution_count": 2,
   "metadata": {},
   "outputs": [],
   "source": [
    "pregame = PretrainGame(grid_size = (15, 15), holes = 0, random_seed = 4 , set_reward = [(0.5, 0.25), (0.5, 0.75)])\n",
    "pregame.reset(set_agent=(2,2))\n",
    "# rls_q = RLS(1)\n",
    "# rls_sl = RLS(1)\n",
    "# for i in range(1):\n",
    "#     pregame.fulltrain(trials = 4)\n",
    "    "
   ]
  },
  {
   "cell_type": "code",
   "execution_count": 3,
   "metadata": {},
   "outputs": [],
   "source": [
    "game = ValueMaxGame(pregame.net, grid_size = (15, 15), holes = 0, random_seed = 4 , set_reward =  [(0.5, 0.25), (0.5, 0.75)])\n",
    "game.reset(set_agent = (2, 2), size = 15, reward_control = 1)\n",
    "# game.experiment(rls_q, rls_sl, 20, epsilon = 0.5, lr = 1e-3, train_hidden = False, train_q = False) "
   ]
  },
  {
   "cell_type": "code",
   "execution_count": 4,
   "metadata": {},
   "outputs": [
    {
     "name": "stdout",
     "output_type": "stream",
     "text": [
      "(9, 5)\n",
      "[-1. -1. -1.  0.  0. -1.  0.  0. -1.]\n"
     ]
    },
    {
     "data": {
      "image/png": "[encoded data removed]",
      "text/plain": [
       "<matplotlib.figure.Figure at 0x7fcc90a066a0>"
      ]
     },
     "metadata": {},
     "output_type": "display_data"
    }
   ],
   "source": [
    "plt.matshow(game.grid.grid)\n",
    "# plt.savefig('g16h3-map')\n",
    "print (game.pos_reward_)\n",
    "print (game.visible_state)"
   ]
  },
  {
   "cell_type": "markdown",
   "metadata": {},
   "source": [
    "## Model Tranining \n",
    "Pretranining is done with fixed size 15,  training is between 10 to 15, test on 19 "
   ]
  },
  {
   "cell_type": "markdown",
   "metadata": {},
   "source": [
    "Training from zero seems to be better because it will allow the agent to explore from new"
   ]
  },
  {
   "cell_type": "code",
   "execution_count": 5,
   "metadata": {},
   "outputs": [
    {
     "name": "stdout",
     "output_type": "stream",
     "text": [
      "clear session data 4 13753589760\n",
      "0 rewards -0.3606073288690476\n",
      "clear session data 4 14006919168\n",
      "1 rewards -0.2972237723214286\n",
      "clear session data 4 14012702720\n",
      "2 rewards -0.203125\n",
      "clear session data 4 14012960768\n",
      "3 rewards -0.23522135416666667\n",
      "clear session data 4 14012948480\n",
      "4 rewards -0.390625\n",
      "clear session data 4 14012678144\n",
      "5 rewards -0.53125\n",
      "clear session data 4 14012407808\n",
      "6 rewards -0.6563648897058824\n",
      "clear session data 4 14012661760\n",
      "7 rewards -0.6875\n",
      "clear session data 4 14012915712\n",
      "8 rewards -0.71875\n",
      "clear session data 4 14012645376\n",
      "9 rewards -0.7215294471153846\n",
      "clear session data 4 14012637184\n",
      "10 rewards -0.75\n",
      "clear session data 4 14012628992\n",
      "11 rewards -0.734375\n",
      "clear session data 4 14012620800\n",
      "12 rewards -0.734375\n",
      "clear session data 4 14013145088\n",
      "13 rewards -0.75\n",
      "clear session data 4 14012612608\n",
      "14 rewards -0.703125\n",
      "clear session data 4 14012612608\n",
      "15 rewards -0.703125\n",
      "clear session data 4 14012596224\n",
      "16 rewards -0.640625\n",
      "clear session data 4 14013124608\n",
      "17 rewards -0.515625\n",
      "clear session data 4 14012846080\n",
      "18 rewards -0.4375\n",
      "clear session data 4 14012579840\n",
      "19 rewards -0.29833984375\n",
      "clear session data 4 14013091840\n",
      "20 rewards -0.031693046335437\n",
      "clear session data 4 14013091840\n",
      "21 rewards -0.11336907524946319\n",
      "clear session data 4 14012551168\n",
      "22 rewards -0.06509021577380952\n",
      "clear session data 4 14013337600\n",
      "23 rewards -0.1269226866883117\n",
      "clear session data 4 14013071360\n",
      "24 rewards -0.11222511574074075\n",
      "clear session data 4 14013063168\n",
      "25 rewards -0.04791666666666666\n",
      "clear session data 4 14012792832\n",
      "26 rewards -0.10969336652930403\n",
      "clear session data 4 14012788736\n",
      "27 rewards -0.220654296875\n",
      "clear session data 4 14012780544\n",
      "28 rewards -0.0031863481570512803\n",
      "clear session data 4 14013038592\n",
      "29 rewards 0.042044820413961036\n",
      "clear session data 4 13591482368\n",
      "0 rewards -0.4864628232758621\n",
      "clear session data 4 14339198976\n",
      "1 rewards -0.4533203125\n",
      "clear session data 4 14277947392\n",
      "2 rewards -0.31611689814814814\n",
      "clear session data 4 14339772416\n",
      "3 rewards -0.2052317799388112\n",
      "clear session data 4 14339235840\n",
      "4 rewards -0.020636176749794746\n",
      "clear session data 4 14339604480\n",
      "5 rewards -0.007402042630249878\n",
      "clear session data 4 14277459968\n",
      "6 rewards -0.17477309283088238\n",
      "clear session data 4 14339551232\n",
      "7 rewards -0.42566230969551283\n",
      "clear session data 4 14339551232\n",
      "8 rewards -0.5177453243371213\n",
      "clear session data 4 14338592768\n",
      "9 rewards -0.671875\n",
      "clear session data 4 14276980736\n",
      "10 rewards -0.6875\n",
      "clear session data 4 14339067904\n",
      "11 rewards -0.734375\n",
      "clear session data 4 14339588096\n",
      "12 rewards -0.75\n",
      "clear session data 4 14339432448\n",
      "13 rewards -0.734375\n",
      "clear session data 4 14277554176\n",
      "14 rewards -0.3692308728448276\n",
      "clear session data 4 14338695168\n",
      "15 rewards -0.33024796195652173\n",
      "clear session data 4 14277812224\n",
      "16 rewards -0.256858476298805\n",
      "clear session data 4 14400299008\n",
      "17 rewards -0.2684289180871212\n",
      "clear session data 4 14277656576\n",
      "18 rewards -0.3320703125\n",
      "clear session data 4 14338953216\n",
      "19 rewards -0.09375\n",
      "clear session data 4 14338990080\n",
      "20 rewards -0.17292390046296297\n",
      "clear session data 4 14338465792\n",
      "21 rewards -0.05087353969964423\n",
      "clear session data 4 14338785280\n",
      "22 rewards -0.08169177827380952\n",
      "clear session data 4 14339571712\n",
      "23 rewards -0.11266276041666667\n",
      "clear session data 4 14338822144\n",
      "24 rewards 0.15095371538561075\n",
      "clear session data 4 14338822144\n",
      "25 rewards 0.13516615473646723\n",
      "clear session data 4 14338871296\n",
      "26 rewards 0.18237832255747127\n",
      "clear session data 4 14338871296\n",
      "27 rewards 0.1692336204944403\n",
      "clear session data 4 14338703360\n",
      "28 rewards 0.19991969910477456\n",
      "clear session data 4 14339497984\n",
      "29 rewards 0.18411959134615385\n",
      "clear session data 4 13591523328\n",
      "0 rewards -0.2970703125\n",
      "clear session data 4 13891272704\n",
      "1 rewards -0.34876917629974696\n",
      "clear session data 4 13951832064\n",
      "2 rewards -0.12749131944444445\n",
      "clear session data 4 13952086016\n",
      "3 rewards -0.09558711231203008\n",
      "clear session data 4 13952356352\n",
      "4 rewards -0.08451307806776556\n",
      "clear session data 4 13952618496\n",
      "5 rewards -0.0015234375000000022\n",
      "clear session data 4 13952339968\n",
      "6 rewards 0.040403284143518514\n",
      "clear session data 4 13952335872\n",
      "7 rewards 0.13613746279761904\n",
      "clear session data 4 13952081920\n",
      "8 rewards 0.13207424661731204\n",
      "clear session data 4 13952606208\n",
      "9 rewards 0.045313146997929606\n",
      "clear session data 4 13952065536\n",
      "10 rewards 0.07689267113095238\n",
      "clear session data 4 13952065536\n",
      "11 rewards 0.15345052083333333\n",
      "clear session data 4 13952335872\n",
      "12 rewards 0.078125\n",
      "clear session data 4 13952589824\n",
      "13 rewards 0.07196131234217172\n",
      "clear session data 4 13952585728\n",
      "14 rewards 0.16666666666666669\n",
      "clear session data 4 13952315392\n",
      "15 rewards 0.16929408482142858\n",
      "clear session data 4 13952581632\n",
      "16 rewards 0.15394810267857145\n",
      "clear session data 4 13952581632\n",
      "17 rewards 0.30970701521449095\n",
      "clear session data 4 13952311296\n",
      "18 rewards 0.18622925562888198\n",
      "clear session data 4 13952045056\n",
      "19 rewards 0.1821784578497161\n",
      "clear session data 4 13951778816\n",
      "20 rewards 0.24778645833333332\n",
      "clear session data 4 13952569344\n",
      "21 rewards 0.15086082175925924\n",
      "clear session data 4 13952622592\n",
      "22 rewards 0.1343179444253663\n",
      "clear session data 4 13952086016\n",
      "23 rewards 0.08869429086842738\n",
      "clear session data 4 13952868352\n",
      "24 rewards 0.18445316077152013\n",
      "clear session data 4 13952614400\n",
      "25 rewards 0.19663271803627408\n",
      "clear session data 4 13952606208\n",
      "26 rewards 0.26311232288431674\n",
      "clear session data 4 13952606208\n",
      "27 rewards 0.1689343848326659\n",
      "clear session data 4 13951803392\n",
      "28 rewards 0.16684820713141024\n",
      "clear session data 4 13952335872\n",
      "29 rewards 0.18498222155448718\n"
     ]
    }
   ],
   "source": [
    "for iters, noise in enumerate(3 * [0.0]):\n",
    "    for trial in [48]: \n",
    "        Pretest =  PretrainTest(holes = 0, weight_write = '/home/tie/Research/PhD/NavigationPaper_606/pretrain/pretrain_pos_origin2/weights_cpu/rnn_1515tanh512_checkpoint{}'.format(trial))\n",
    "        weight_read = Pretest.weight\n",
    "        weight_write = 'weights2/rnn_1515tanh512_checkpoint{}_{}'.format(trial, iters)\n",
    "        rewards = Pretest.qlearn(weight_read,  weight_write, iterations = 30, noise = noise, size_train =[15], size_test=[15])\n",
    "        np.save('Rewards_{}_{}.npy'.format(iters, trial), rewards)"
   ]
  },
  {
   "cell_type": "code",
   "execution_count": 6,
   "metadata": {},
   "outputs": [
    {
     "name": "stdout",
     "output_type": "stream",
     "text": [
      "clear session data 4 13317668864\n",
      "0 rewards -0.359375\n",
      "clear session data 4 13893173248\n",
      "1 rewards -0.28125\n",
      "clear session data 4 13895168000\n",
      "2 rewards -0.2214509185658942\n",
      "clear session data 4 14018658304\n",
      "3 rewards -0.16032088122605365\n",
      "clear session data 4 13895213056\n",
      "4 rewards 0.040886251335470095\n",
      "clear session data 4 13956153344\n",
      "5 rewards -0.10118176660296226\n",
      "clear session data 4 13894696960\n",
      "6 rewards -0.09671921031343572\n",
      "clear session data 4 13890850816\n",
      "7 rewards -0.001806522014170045\n",
      "clear session data 4 13952991232\n",
      "8 rewards -0.04710036057692307\n",
      "clear session data 4 13891149824\n",
      "9 rewards 0.13781514709249085\n",
      "clear session data 4 14012329984\n",
      "10 rewards 0.08940149066091954\n",
      "clear session data 4 13889363968\n",
      "11 rewards 0.09358465608465608\n",
      "clear session data 4 13951344640\n",
      "12 rewards 0.08997395833333333\n",
      "clear session data 4 14012469248\n",
      "13 rewards 0.17136375881661445\n",
      "clear session data 4 13889548288\n",
      "14 rewards 0.139453125\n",
      "clear session data 4 13950947328\n",
      "15 rewards 0.02749041323260073\n",
      "clear session data 4 13950738432\n",
      "16 rewards 0.09043433779761904\n",
      "clear session data 4 13889179648\n",
      "17 rewards 0.06081627155172414\n",
      "clear session data 4 13889642496\n",
      "18 rewards -0.09591238839285715\n",
      "clear session data 4 13950742528\n",
      "19 rewards -0.03125\n",
      "clear session data 4 13889179648\n",
      "20 rewards -0.109375\n",
      "clear session data 4 13888864256\n",
      "21 rewards -0.125\n",
      "clear session data 4 13950738432\n",
      "22 rewards -0.171875\n",
      "clear session data 4 13889028096\n",
      "23 rewards -0.234375\n",
      "clear session data 4 13888958464\n",
      "24 rewards -0.296875\n",
      "clear session data 4 13950836736\n",
      "25 rewards -0.34386488970588236\n",
      "clear session data 4 13888696320\n",
      "26 rewards -0.34823264215225563\n",
      "clear session data 4 13950312448\n",
      "27 rewards -0.328125\n",
      "clear session data 4 13889486848\n",
      "28 rewards -0.28125\n",
      "clear session data 4 13951631360\n",
      "29 rewards -0.171875\n",
      "clear session data 4 13283295232\n",
      "0 rewards -0.32172283192791007\n",
      "clear session data 4 13878730752\n",
      "1 rewards -0.2824041193181818\n",
      "clear session data 4 13882892288\n",
      "2 rewards -0.109375\n",
      "clear session data 4 14005571584\n",
      "3 rewards -0.04999499198717949\n",
      "clear session data 4 13882712064\n",
      "4 rewards -0.032958984375\n",
      "clear session data 4 13882761216\n",
      "5 rewards 0.029435168164488018\n",
      "clear session data 4 13882982400\n",
      "6 rewards -0.04915364583333334\n",
      "clear session data 4 13941104640\n",
      "7 rewards 0.013741629464285698\n",
      "clear session data 4 13940617216\n",
      "8 rewards 0.029322451636904764\n",
      "clear session data 4 13879263232\n",
      "9 rewards 0.14003057065217392\n",
      "clear session data 4 13941514240\n",
      "10 rewards 0.24572558168460412\n",
      "clear session data 4 13941035008\n",
      "11 rewards 0.10804966517857142\n",
      "clear session data 4 13879410688\n",
      "12 rewards 0.046790081521739135\n",
      "clear session data 4 13941080064\n",
      "13 rewards 0.2953434345885093\n",
      "clear session data 4 13879992320\n",
      "14 rewards 0.10693359375\n",
      "clear session data 4 13940772864\n",
      "15 rewards 0.18381799768518517\n",
      "clear session data 4 13941075968\n",
      "16 rewards 0.1839641702586207\n",
      "clear session data 4 13879517184\n",
      "17 rewards 0.2159249441964286\n",
      "clear session data 4 13879205888\n",
      "18 rewards 0.12137586805555554\n",
      "clear session data 4 13940817920\n",
      "19 rewards 0.21484375\n",
      "clear session data 4 13879783424\n",
      "20 rewards 0.10779854910714284\n",
      "clear session data 4 13879779328\n",
      "21 rewards 0.2628788059369438\n",
      "clear session data 4 13879394304\n",
      "22 rewards 0.24940557065217392\n",
      "clear session data 4 14002057216\n",
      "23 rewards 0.139453125\n",
      "clear session data 4 13882331136\n",
      "24 rewards 0.2155180431547619\n",
      "clear session data 4 13943787520\n",
      "25 rewards 0.3093567565247253\n",
      "clear session data 4 13882421248\n",
      "26 rewards 0.28116508152173914\n",
      "clear session data 4 13882372096\n",
      "27 rewards 0.234375\n",
      "clear session data 4 13943664640\n",
      "28 rewards 0.24791217672413793\n",
      "clear session data 4 13943717888\n",
      "29 rewards 0.185791015625\n",
      "clear session data 4 13285363712\n",
      "0 rewards -0.45524796195652173\n",
      "clear session data 4 14173536256\n",
      "1 rewards -0.4401157924107143\n",
      "clear session data 4 14178435072\n",
      "2 rewards -0.30216471354166663\n",
      "clear session data 4 14180962304\n",
      "3 rewards -0.3914713541666667\n",
      "clear session data 4 14177353728\n",
      "4 rewards -0.10986328125\n",
      "clear session data 4 14174916608\n",
      "5 rewards -0.12654810855263157\n",
      "clear session data 4 14172987392\n",
      "6 rewards -0.1750810552782819\n",
      "clear session data 4 14173523968\n",
      "7 rewards -0.3449041193181818\n",
      "clear session data 4 14173519872\n",
      "8 rewards -0.37548828125\n",
      "clear session data 4 14173245440\n",
      "9 rewards -0.47410300925925924\n",
      "clear session data 4 14172983296\n",
      "10 rewards -0.4375\n",
      "clear session data 4 14172962816\n",
      "11 rewards -0.4230291193181818\n",
      "clear session data 4 14173237248\n",
      "12 rewards -0.375\n",
      "clear session data 4 14172700672\n",
      "13 rewards -0.42198988970588236\n",
      "clear session data 4 14172692480\n",
      "14 rewards -0.40802690319548873\n",
      "clear session data 4 14172422144\n",
      "15 rewards -0.37511488970588236\n",
      "clear session data 4 14173212672\n",
      "16 rewards -0.34375\n",
      "clear session data 4 14172672000\n",
      "17 rewards -0.31294389204545453\n",
      "clear session data 4 14172680192\n",
      "18 rewards -0.34386488970588236\n",
      "clear session data 4 14172663808\n",
      "19 rewards -0.375\n",
      "clear session data 4 14172946432\n",
      "20 rewards -0.40636488970588236\n",
      "clear session data 4 14172938240\n",
      "21 rewards -0.28125\n",
      "clear session data 4 14172372992\n",
      "22 rewards -0.203125\n",
      "clear session data 4 14172585984\n",
      "23 rewards -0.20493344907407407\n",
      "clear session data 4 14172848128\n",
      "24 rewards -0.26751302083333334\n",
      "clear session data 4 14172844032\n",
      "25 rewards -0.141328125\n",
      "clear session data 4 14173089792\n",
      "26 rewards -0.21875\n",
      "clear session data 4 14172827648\n",
      "27 rewards -0.20363136574074076\n",
      "clear session data 4 14172561408\n",
      "28 rewards -0.26600060096153844\n",
      "clear session data 4 14173081600\n",
      "29 rewards -0.3125\n"
     ]
    }
   ],
   "source": [
    "for iters, noise in enumerate(3 * [0.0]):\n",
    "    for trial in [39]: \n",
    "        Pretest =  PretrainTest(holes = 0, weight_write = '/home/tie/Research/PhD/NavigationPaper_606/pretrain/pretrain_pos_origin2/weights_cpu/rnn_1515tanh512_checkpoint{}'.format(trial))\n",
    "        weight_read = Pretest.weight\n",
    "        weight_write = 'weights2/rnn_1515tanh512_checkpoint{}_{}'.format(trial, iters)\n",
    "        rewards = Pretest.qlearn(weight_read,  weight_write, iterations = 30, noise = noise, size_train =[15], size_test=[15])\n",
    "        np.save('Rewards_{}_{}.npy'.format(iters, trial), rewards)"
   ]
  },
  {
   "cell_type": "markdown",
   "metadata": {},
   "source": [
    "### measure decoding "
   ]
  },
  {
   "cell_type": "markdown",
   "metadata": {},
   "source": [
    "Decoding accuracy decreases, there are two possible reasons: \n",
    "1, decoding has bias,  information of position is only refleted by decoding, if there is certain bias , it is not trustable\n",
    "2, it is the real measure of information, so there are less spatial information about space, or an effect decoupling/disentanglement of position. This can be due the network succeed at finding an even lower diemnsion object which gives successful performance.  The representation deceases its information to input in a sense. \n",
    "\n",
    "This can be linked to receptive field by looking at how space is represented. "
   ]
  },
  {
   "cell_type": "code",
   "execution_count": null,
   "metadata": {},
   "outputs": [],
   "source": []
  }
 ],
 "metadata": {
  "anaconda-cloud": {},
  "kernelspec": {
   "display_name": "Python 3",
   "language": "python",
   "name": "python3"
  },
  "language_info": {
   "codemirror_mode": {
    "name": "ipython",
    "version": 3
   },
   "file_extension": ".py",
   "mimetype": "text/x-python",
   "name": "python",
   "nbconvert_exporter": "python",
   "pygments_lexer": "ipython3",
   "version": "3.6.3"
  },
  "latex_envs": {
   "LaTeX_envs_menu_present": true,
   "autoclose": false,
   "autocomplete": true,
   "bibliofile": "biblio.bib",
   "cite_by": "apalike",
   "current_citInitial": 1,
   "eqLabelWithNumbers": true,
   "eqNumInitial": 1,
   "hotkeys": {
    "equation": "Ctrl-E",
    "itemize": "Ctrl-I"
   },
   "labels_anchors": false,
   "latex_user_defs": false,
   "report_style_numbering": false,
   "user_envs_cfg": false
  },
  "toc": {
   "nav_menu": {},
   "number_sections": true,
   "sideBar": true,
   "skip_h1_title": false,
   "title_cell": "Table of Contents",
   "title_sidebar": "Contents",
   "toc_cell": true,
   "toc_position": {
    "height": "759px",
    "left": "0px",
    "right": "1228px",
    "top": "67px",
    "width": "212px"
   },
   "toc_section_display": "block",
   "toc_window_display": true
  },
  "varInspector": {
   "cols": {
    "lenName": 16,
    "lenType": 16,
    "lenVar": 40
   },
   "kernels_config": {
    "python": {
     "delete_cmd_postfix": "",
     "delete_cmd_prefix": "del ",
     "library": "var_list.py",
     "varRefreshCmd": "print(var_dic_list())"
    },
    "r": {
     "delete_cmd_postfix": ") ",
     "delete_cmd_prefix": "rm(",
     "library": "var_list.r",
     "varRefreshCmd": "cat(var_dic_list()) "
    }
   },
   "types_to_exclude": [
    "module",
    "function",
    "builtin_function_or_method",
    "instance",
    "_Feature"
   ],
   "window_display": false
  }
 },
 "nbformat": 4,
 "nbformat_minor": 2
}
