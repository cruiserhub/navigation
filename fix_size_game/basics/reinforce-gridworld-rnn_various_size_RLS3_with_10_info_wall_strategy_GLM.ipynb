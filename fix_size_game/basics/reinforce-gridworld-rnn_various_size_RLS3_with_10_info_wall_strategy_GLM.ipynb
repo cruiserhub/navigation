{
 "cells": [
  {
   "cell_type": "markdown",
   "metadata": {
    "toc": "true"
   },
   "source": [
    "<h1>Table of Contents<span class=\"tocSkip\"></span></h1>\n",
    "<div class=\"toc\"><ul class=\"toc-item\"><li><span><a href=\"#quick-start\" data-toc-modified-id=\"quick-start-1\"><span class=\"toc-item-num\">1&nbsp;&nbsp;</span>quick start</a></span><ul class=\"toc-item\"><li><span><a href=\"#Resources\" data-toc-modified-id=\"Resources-1.1\"><span class=\"toc-item-num\">1.1&nbsp;&nbsp;</span>Resources</a></span></li></ul></li><li><span><a href=\"#FULL-MODEL\" data-toc-modified-id=\"FULL-MODEL-2\"><span class=\"toc-item-num\">2&nbsp;&nbsp;</span>FULL MODEL</a></span><ul class=\"toc-item\"><li><span><a href=\"#Packages\" data-toc-modified-id=\"Packages-2.1\"><span class=\"toc-item-num\">2.1&nbsp;&nbsp;</span>Packages</a></span><ul class=\"toc-item\"><li><span><a href=\"#Qnetwork\" data-toc-modified-id=\"Qnetwork-2.1.1\"><span class=\"toc-item-num\">2.1.1&nbsp;&nbsp;</span>Qnetwork</a></span></li></ul></li><li><span><a href=\"#POMDP-RNN-Game\" data-toc-modified-id=\"POMDP-RNN-Game-2.2\"><span class=\"toc-item-num\">2.2&nbsp;&nbsp;</span>POMDP RNN Game</a></span></li><li><span><a href=\"#Results\" data-toc-modified-id=\"Results-2.3\"><span class=\"toc-item-num\">2.3&nbsp;&nbsp;</span>Results</a></span><ul class=\"toc-item\"><li><span><a href=\"#Standard-setting：-grid-=--(3,7)，-holes-=-0\" data-toc-modified-id=\"Standard-setting：-grid-=--(3,7)，-holes-=-0-2.3.1\"><span class=\"toc-item-num\">2.3.1&nbsp;&nbsp;</span>Standard setting： grid =  (3,7)， holes = 0</a></span></li><li><span><a href=\"#Model-Tranining\" data-toc-modified-id=\"Model-Tranining-2.3.2\"><span class=\"toc-item-num\">2.3.2&nbsp;&nbsp;</span>Model Tranining</a></span></li><li><span><a href=\"#decoding-vs-performance\" data-toc-modified-id=\"decoding-vs-performance-2.3.3\"><span class=\"toc-item-num\">2.3.3&nbsp;&nbsp;</span>decoding vs performance</a></span></li><li><span><a href=\"#learning-rate-vs-performance\" data-toc-modified-id=\"learning-rate-vs-performance-2.3.4\"><span class=\"toc-item-num\">2.3.4&nbsp;&nbsp;</span>learning rate vs performance</a></span></li><li><span><a href=\"#Summary\" data-toc-modified-id=\"Summary-2.3.5\"><span class=\"toc-item-num\">2.3.5&nbsp;&nbsp;</span>Summary</a></span></li><li><span><a href=\"#Anlytic-part-,-check-the-behaviour-correspond-to-each-decoding-level-and-explain-why\" data-toc-modified-id=\"Anlytic-part-,-check-the-behaviour-correspond-to-each-decoding-level-and-explain-why-2.3.6\"><span class=\"toc-item-num\">2.3.6&nbsp;&nbsp;</span>Anlytic part , check the behaviour correspond to each decoding level and explain why</a></span></li></ul></li><li><span><a href=\"#PCA\" data-toc-modified-id=\"PCA-2.4\"><span class=\"toc-item-num\">2.4&nbsp;&nbsp;</span>PCA</a></span></li></ul></li></ul></div>"
   ]
  },
  {
   "cell_type": "markdown",
   "metadata": {},
   "source": [
    "# quick start "
   ]
  },
  {
   "cell_type": "markdown",
   "metadata": {},
   "source": [
    "**Check relation betweeen dynamics and generalization.   Hypothesis to make: generalization can only be understood in level of joint dynamical system, there is a clear link between the two**\n",
    "\n",
    "**Dynamnics determines generalization , not decoding , same decoding level can have very different dynamics , thus different generalization level.  Only when the dynamics of RNN forms object correspond to real relevant objects for game, the generalization can be good.   For instance , in a varying size game, you extend the size of game from 10 to 30, what will happen?  You can do a kind of dynamical programing , according to which wall you have seen and how many steps you have passed , you decide future action.    This can be achieved robustly by the dynamical system where fix points are correspond to walls**"
   ]
  },
  {
   "cell_type": "markdown",
   "metadata": {},
   "source": [
    "## Resources\n",
    "\n",
    "* [*The* Reinforcement learning book from Sutton & Barto](http://incompleteideas.net/sutton/book/the-book-2nd.html)\n",
    "* [The REINFORCE paper from Ronald J. Williams (1992)](http://www-anw.cs.umass.edu/~barto/courses/cs687/williams92simple.pdf)\n"
   ]
  },
  {
   "cell_type": "markdown",
   "metadata": {},
   "source": [
    "## Packages"
   ]
  },
  {
   "cell_type": "code",
   "execution_count": 1,
   "metadata": {},
   "outputs": [
    {
     "name": "stdout",
     "output_type": "stream",
     "text": [
      "Populating the interactive namespace from numpy and matplotlib\n"
     ]
    },
    {
     "name": "stderr",
     "output_type": "stream",
     "text": [
      "/home/tie/anaconda3/lib/python3.6/site-packages/IPython/core/magics/pylab.py:160: UserWarning: pylab import has clobbered these variables: ['random']\n",
      "`%matplotlib` prevents importing * from pylab and numpy\n",
      "  \"\\n`%matplotlib` prevents importing * from pylab and numpy\"\n"
     ]
    }
   ],
   "source": [
    "%load_ext autoreload\n",
    "%autoreload 2\n",
    "\n",
    "import numpy as np\n",
    "from itertools import count\n",
    "import random\n",
    "\n",
    "import torch\n",
    "import torch.nn as nn\n",
    "import torch.nn.functional as F\n",
    "import torch.optim as optim\n",
    "import torch.autograd as autograd\n",
    "from torch.autograd import Variable\n",
    "from torch.nn import init\n",
    "from torch.nn import DataParallel\n",
    "from torch.utils.data import DataLoader\n",
    "\n",
    "import matplotlib.mlab as mlab\n",
    "import matplotlib.pyplot as plt\n",
    "import matplotlib.animation\n",
    "import seaborn as sns\n",
    "from IPython.display import HTML\n",
    "\n",
    "import pretrain\n",
    "from pretrain import *\n",
    "\n",
    "import navigation2\n",
    "from navigation2 import *\n",
    "\n",
    "import Nets \n",
    "from Nets import *\n",
    "\n",
    "import sklearn\n",
    "from sklearn.svm import SVC\n",
    "from sklearn.manifold import Isomap\n",
    "from sklearn.manifold import SpectralEmbedding\n",
    "from sklearn.manifold import TSNE\n",
    "from sklearn.linear_model import LinearRegression\n",
    "from sklearn.linear_model import Lasso\n",
    "from sklearn.metrics import r2_score\n",
    "from sklearn.model_selection import cross_validate\n",
    "\n",
    "import scipy\n",
    "from scipy.spatial import distance\n",
    "from scipy import signal\n",
    "\n",
    "\n",
    "%pylab inline\n",
    "import warnings\n",
    "warnings.filterwarnings('ignore')"
   ]
  },
  {
   "cell_type": "markdown",
   "metadata": {},
   "source": [
    "For the liquid state approach to work, you need a lot of neurons as surplus or enough hidden to hidden connectivity to make it have an effect."
   ]
  },
  {
   "cell_type": "markdown",
   "metadata": {},
   "source": [
    "**What is the relation to head direction, this order kept in limit cycle**\n",
    "**Could we define the order parameter for behaviour and link it to dynamics?**"
   ]
  },
  {
   "cell_type": "markdown",
   "metadata": {},
   "source": [
    "# The GLM analysis of variance for different variables\n",
    "The features include x, y, sensory,  action, last click memory , last twice click memory, the last twice click has a very strong contribution to features, but it inludes the last one click. In a sense, the integrated memory is not equalling to memroy 1 plus memory2 "
   ]
  },
  {
   "cell_type": "code",
   "execution_count": 2,
   "metadata": {},
   "outputs": [],
   "source": [
    "# Put the stimulus memory(status) and action base for memory and navigation  \n",
    "def Transform(States, Poss, Hiddens, Actions, Context, history = False, size = 15):\n",
    "    # last click state\n",
    "    Status = np.concatenate([State_transform(state, poss, size) for state, poss in zip(States, Poss)])\n",
    "    Hiddens = np.concatenate(Hiddens)\n",
    "    Poss = np.concatenate(Poss)\n",
    "    Actions = np.concatenate(Actions)\n",
    "    Context = np.concatenate(Context)\n",
    "    # transform state to stim　\n",
    "    States = np.concatenate(States)\n",
    "    # transform status to memory\n",
    "    Memory = history_summary(Status)\n",
    "    set_ = set([tuple(s) for s in States])\n",
    "    dict_ = {}\n",
    "    for i, s in enumerate(set_): \n",
    "        dict_.update({s:i})\n",
    "    Stim = [dict_[tuple(s)] for s in States] \n",
    "    set_ = set([tuple(m) for m in Memory])\n",
    "#     dict_ = {}\n",
    "#     for i, m in enumerate(set_): \n",
    "#         dict_.update({m:i})\n",
    "#     Mem = [dict_[tuple(m)] for m in Memory] \n",
    "    if history == False:\n",
    "        return States, Poss, Hiddens, Actions, Status, Context\n",
    "    else:\n",
    "        return States, Poss, Hiddens, Actions, Status, Context, Memory \n",
    "\n",
    "\n",
    "# histroy memory of two \n",
    "def history_summary(Status):\n",
    "#     S = [p[0]  for s, p in zip(State, Poss)]\n",
    "    M = np.zeros((len(Status), 2))\n",
    "    m2 = 0\n",
    "    for i, (s1, s2) in enumerate(zip(Status[:-1], Status[1:])): \n",
    "        # if next clicks changes, then store this click as a memory value registed in m2  \n",
    "        if s2 != s1:\n",
    "            m2 = s1\n",
    "        # sore memory,  m0 as memory of stimulus, m1 as memory of second click    \n",
    "        M[i+1, 0] = s2\n",
    "        M[i+1, 1] = m2   \n",
    "#         print (s1)\n",
    "    return M  \n",
    "# State_transform()\n",
    "\n",
    "# def Transform(States, Poss, Hiddens, Actions, Context):\n",
    "#     Status = np.concatenate([State_transform(state, poss) for state, poss in zip(States, Poss)])\n",
    "#     Hiddens = np.concatenate(Hiddens)\n",
    "#     Poss = np.concatenate(Poss)\n",
    "#     Actions = np.concatenate(Actions)\n",
    "#     Context = np.concatenate(Context)\n",
    "#     # transform state to stim　\n",
    "#     States = np.concatenate(States)\n",
    "#     return States, Poss, Hiddens, Actions, Status, Context\n",
    "\n",
    "# transform to time section\n",
    "def Stage_transform(State):\n",
    "    S = np.cumsum([np.sum(s1 != s2) for (s1, s2) in zip(State[:-1], State[1:])] + [1]) \n",
    "    return S\n",
    "\n",
    "# transform to space section\n",
    "def wall_detection(pos, size):\n",
    "    if pos[0] == 2:\n",
    "        Stim = 1\n",
    "    elif pos[0] == 2 + size - 1:\n",
    "        Stim = 2\n",
    "    elif pos[1] == 2:\n",
    "        Stim = 3\n",
    "    elif pos[1] == 2 + size - 1:\n",
    "        Stim = 4\n",
    "    else:\n",
    "        Stim = 0 \n",
    "    return Stim \n",
    "# for the memory feature, a Msimple one is just the last click, a most complicate one should be click sequence     \n",
    "def State_transform(State, Poss, size):\n",
    "#     S = [p[0]  for s, p in zip(State, Poss)]\n",
    "    S = [wall_detection(pos, size) for pos in Poss]\n",
    "    Status = []\n",
    "    s1 = 0\n",
    "    for s in S: \n",
    "        if s != 0: \n",
    "            s1 = s\n",
    "#         print (s1)\n",
    "        Status.append(s1)\n",
    "    return Status\n",
    "# histroy memory of two \n",
    "def history_summary(Status):\n",
    "#     S = [p[0]  for s, p in zip(State, Poss)]\n",
    "    M = np.zeros((len(Status), 2))\n",
    "    m2 = 0\n",
    "    for i, (s1, s2) in enumerate(zip(Status[:-1], Status[1:])): \n",
    "        # if next clicks changes, then store this click as a memory value registed in m2  \n",
    "        if s2 != s1:\n",
    "            m2 = s1\n",
    "        # sore memory,  m0 as memory of stimulus, m1 as memory of second click    \n",
    "        M[i+1, 0] = s2\n",
    "        M[i+1, 1] = m2   \n",
    "#         print (s1)\n",
    "    return M\n",
    "\n",
    "def Feature_preprocessing(States, Poss, Hiddens, Actions, Context, size = 15):\n",
    "    States, Poss, Hiddens, Actions, Status, Context = Transform(States, Poss, Hiddens, Actions, Context)\n",
    "    x =  Hiddens[:, :512]\n",
    "    z = (x - np.min(x))/(np.max(x) - np.min(x))\n",
    "    y = np.log(z/(1-z + 1e-3) + 1e-3)\n",
    "    A = np.array([np.eye(4)[a] for a in Actions]).reshape(-1, 4)\n",
    "    Y = np.array([np.eye(size)[y] for y in Poss[:,0] -2]).reshape(-1, size)\n",
    "    X = np.array([np.eye(size)[x] for x in Poss[:,1] - 2]).reshape(-1, size)\n",
    "    M = np.array([np.eye(5)[s] for s in Status]).reshape(-1, 5)\n",
    "    S = States.reshape(-1, 9)\n",
    "    C = np.array(Context).reshape(-1, 1)\n",
    "    # S_wall = np.array([np.eye(27)[s] for s in Stim_wall]).reshape(-1, 27)\n",
    "    Features = np.concatenate((A, Y, X, M, S, C), axis = 1)\n",
    "    Features_A = np.concatenate((Y, X, M, S, C), axis = 1)\n",
    "    Features_Y = np.concatenate((A, X, M, S, C), axis = 1)\n",
    "    Features_X = np.concatenate((A, Y, M, S, C), axis = 1)\n",
    "    Features_M = np.concatenate((A, Y, X, S, C), axis = 1)\n",
    "    Features_S = np.concatenate((A, Y, X, M, C), axis = 1)\n",
    "    Features_C = np.concatenate((A, Y, X, M, S), axis = 1)\n",
    "    return y, Features, Features_A, Features_Y, Features_X, Features_M, Features_S, Features_C\n",
    "# State_transform()\n",
    "\n",
    "# record sessions 100 for 2 different context, record the relevant variables \n",
    "def Data_record(weight, k_action = 1, epsilon = 0, size = 15, T = 500, seed_num = 1e3):\n",
    "    PC_traces = []\n",
    "    Hiddens = []\n",
    "    Poss = []\n",
    "    Actions = []\n",
    "    States = []\n",
    "    Context = []\n",
    "    for i in range(T):\n",
    "        torch.manual_seed(np.random.randint(seed_num))\n",
    "        hidden0 = torch.randn(1, 512)\n",
    "        c  = np.random.randint(2)\n",
    "        start = (np.random.randint(2, size +2),  np.random.randint(2, size+2))\n",
    "        game = ValueMaxGame(grid_size = (size, size), holes = 0, random_seed = 0 , set_reward = [(0.5, 0.25), (0.5, 0.75)], input_type = 0, discount = 0.9, alpha = 1\n",
    "                           ,lam = 0)\n",
    "        game.net.load_state_dict(torch.load(weight))\n",
    "        game.net.k_action = k_action \n",
    "        grid = game.grid.grid.copy()\n",
    "        Pos, hidden, dh, Action, State, reward = trajectory(game, start, reward_control = c, size = size, \\\n",
    "                                                                  test = 0, limit_set = 4, init_hidden = False, hidden = hidden0, epsilon = epsilon)\n",
    "        Hiddens.append(hidden)\n",
    "        Poss.append(Pos[1:])\n",
    "        Actions.append(Action)\n",
    "        States.append(State)\n",
    "        Context.append(c * np.ones(len(State)))\n",
    "    return States, Poss, Hiddens, Actions, Context"
   ]
  },
  {
   "cell_type": "markdown",
   "metadata": {},
   "source": [
    "## Echo Net"
   ]
  },
  {
   "cell_type": "code",
   "execution_count": 12,
   "metadata": {},
   "outputs": [
    {
     "name": "stdout",
     "output_type": "stream",
     "text": [
      "total variance 0.5336270047635198 0.5258583598207048\n",
      "total variance 0.003018779304621577 0.002366118268337725\n",
      "total variance 0.0017804987600531508 0.0011223110994322161\n",
      "total variance 0.005911400432568614 0.004308591821884522\n",
      "total variance 0.014671318078486161 0.014159507630620193\n",
      "total variance 0.05374836020304648 0.05420942217596281\n",
      "total variance 0.03954487925305729 0.04008925433572226\n"
     ]
    }
   ],
   "source": [
    "# record sessions 100 for 2 different context, record the relevant variables \n",
    "weight ='weights_fix/weights1/rnn_1515tanh512_checkpoint0_2_0'\n",
    "States1, Poss1, Hiddens1, Actions1, Context1 = Data_record(weight)\n",
    "y, Features, Features_A, Features_Y, Features_X, Features_M, Features_S, Features_C = Feature_preprocessing(States1, Poss1, Hiddens1, Actions1,\\\n",
    "                                                                                                           Context1)\n",
    "clf = Lasso(alpha = 1e-3)\n",
    "cv_scores_all = cross_validate(clf, Features, y, cv = 5, scoring=('r2'), return_train_score = True)\n",
    "print ('total variance', np.mean(cv_scores_all['train_score']), np.mean(cv_scores_all['test_score']))\n",
    "importances = []\n",
    "importances_std = []\n",
    "for i, feature in enumerate([Features_A, Features_Y, Features_X, Features_M, Features_S, Features_C]):\n",
    "    clf = Lasso(alpha = 1e-3)\n",
    "    cv_scores = cross_validate(clf, feature, y, cv = 5, scoring=('r2'), return_train_score = True)\n",
    "    print ('total variance', np.mean(cv_scores_all['train_score'] -  cv_scores['train_score']), \\\n",
    "           np.mean(cv_scores_all['test_score'] - cv_scores['test_score']))\n",
    "    importances.append(np.mean(cv_scores_all['test_score'] - cv_scores['test_score']))\n",
    "    importances_std.append(np.std(cv_scores_all['test_score'] - cv_scores['test_score']))"
   ]
  },
  {
   "cell_type": "code",
   "execution_count": 13,
   "metadata": {},
   "outputs": [],
   "source": [
    "np.save('importance_echo_early', importances)\n",
    "np.save('importance_echo_early_std', importances_std)"
   ]
  },
  {
   "cell_type": "code",
   "execution_count": 14,
   "metadata": {},
   "outputs": [
    {
     "data": {
      "text/plain": [
       "([<matplotlib.axis.YTick at 0x7f96a2395320>,\n",
       "  <matplotlib.axis.YTick at 0x7f96a2701630>,\n",
       "  <matplotlib.axis.YTick at 0x7f96a1bcee80>,\n",
       "  <matplotlib.axis.YTick at 0x7f96a23ef4a8>,\n",
       "  <matplotlib.axis.YTick at 0x7f96a1cfd588>,\n",
       "  <matplotlib.axis.YTick at 0x7f96a1cfdc18>,\n",
       "  <matplotlib.axis.YTick at 0x7f96a1d1c2e8>],\n",
       " <a list of 7 Text yticklabel objects>)"
      ]
     },
     "execution_count": 14,
     "metadata": {},
     "output_type": "execute_result"
    },
    {
     "data": {
      "image/png": "[encoded data removed]",
      "text/plain": [
       "<matplotlib.figure.Figure at 0x7f96a22df6d8>"
      ]
     },
     "metadata": {},
     "output_type": "display_data"
    }
   ],
   "source": [
    "# 009\n",
    "ax = subplot(1, 1, 1)\n",
    "ax.spines['top'].set_visible(False)\n",
    "ax.spines['right'].set_visible(False)\n",
    "imp = np.load('importance_echo_early.npy')\n",
    "imp_std = np.load('importance_echo_early_std.npy')\n",
    "plt.bar(np.arange(6), height = imp, yerr = imp_std)\n",
    "plt.xticks([0, 1, 2, 3, 4, 5], ['A', 'Y', 'X', 'M', 'S', 'C'], size = 15)\n",
    "plt.yticks([0, 0, 0.02, 0.04, 0.06, 0.08, 0.1], size = 15)"
   ]
  },
  {
   "cell_type": "code",
   "execution_count": 9,
   "metadata": {},
   "outputs": [
    {
     "name": "stdout",
     "output_type": "stream",
     "text": [
      "total variance 0.3900987683273135 0.3734116620426762\n",
      "total variance 0.007412913894201567 0.006524081372758017\n",
      "total variance 0.00871587652987571 0.003744449241153458\n",
      "total variance 0.019627994153965954 0.017682182678894633\n",
      "total variance 0.03783858737817891 0.03711714335277766\n",
      "total variance 0.05536294711007096 0.056180287701844675\n",
      "total variance 0.008143078767178147 0.007955799192881752\n"
     ]
    }
   ],
   "source": [
    "# record sessions 100 for 2 different context, record the relevant variables \n",
    "# record sessions 100 for 2 different context, record the relevant variables \n",
    "weight ='weights_fix/weights1/rnn_1515tanh512_checkpoint0_2_9'\n",
    "States1, Poss1, Hiddens1, Actions1, Context1 = Data_record(weight)\n",
    "y, Features, Features_A, Features_Y, Features_X, Features_M, Features_S, Features_C = Feature_preprocessing(States1, Poss1, Hiddens1, Actions1,\\\n",
    "                                                                                                           Context1)\n",
    "clf = Lasso(alpha = 1e-3)\n",
    "cv_scores_all = cross_validate(clf, Features, y, cv = 5, scoring=('r2'), return_train_score = True)\n",
    "print ('total variance', np.mean(cv_scores_all['train_score']), np.mean(cv_scores_all['test_score']))\n",
    "importances = []\n",
    "importances_std = []\n",
    "for i, feature in enumerate([Features_A, Features_Y, Features_X, Features_M, Features_S, Features_C]):\n",
    "    clf = Lasso(alpha = 1e-3)\n",
    "    cv_scores = cross_validate(clf, feature, y, cv = 5, scoring=('r2'), return_train_score = True)\n",
    "    print ('total variance', np.mean(cv_scores_all['train_score'] -  cv_scores['train_score']), \\\n",
    "           np.mean(cv_scores_all['test_score'] - cv_scores['test_score']))\n",
    "    importances.append(np.mean(cv_scores_all['test_score'] - cv_scores['test_score']))\n",
    "    importances_std.append(np.std(cv_scores_all['test_score'] - cv_scores['test_score']))"
   ]
  },
  {
   "cell_type": "code",
   "execution_count": 10,
   "metadata": {},
   "outputs": [],
   "source": [
    "np.save('importance_echo', importances)\n",
    "np.save('importance_echo_std', importances_std)"
   ]
  },
  {
   "cell_type": "code",
   "execution_count": 30,
   "metadata": {},
   "outputs": [
    {
     "data": {
      "text/plain": [
       "([<matplotlib.axis.YTick at 0x7f96a0e64128>,\n",
       "  <matplotlib.axis.YTick at 0x7f96a0e641d0>],\n",
       " <a list of 2 Text yticklabel objects>)"
      ]
     },
     "execution_count": 30,
     "metadata": {},
     "output_type": "execute_result"
    },
    {
     "data": {
      "image/png": "[encoded data removed]",
      "text/plain": [
       "<matplotlib.figure.Figure at 0x7f96a0e18400>"
      ]
     },
     "metadata": {},
     "output_type": "display_data"
    }
   ],
   "source": [
    "# 009\n",
    "ax = subplot(1, 1, 1)\n",
    "ax.spines['top'].set_visible(False)\n",
    "ax.spines['right'].set_visible(False)\n",
    "imp = np.load('importance_echo.npy')\n",
    "imp_std = np.load('importance_echo_std.npy')\n",
    "plt.bar(np.arange(6), height = imp, yerr = imp_std)\n",
    "plt.xticks([0, 1, 2, 3, 4, 5], ['A', 'Y', 'X', 'M', 'S', 'C'], size = 15)\n",
    "plt.yticks([0, 0.1], size = 15)\n",
    "# plt.yscale('log')"
   ]
  },
  {
   "cell_type": "markdown",
   "metadata": {},
   "source": [
    "## Pretrain late"
   ]
  },
  {
   "cell_type": "code",
   "execution_count": 36,
   "metadata": {},
   "outputs": [
    {
     "name": "stdout",
     "output_type": "stream",
     "text": [
      "total variance 0.48573512471582847 0.4760540102841452\n",
      "total variance 0.006462179396043999 0.005937664058737535\n",
      "total variance 0.017844784688296467 0.01568026495057735\n",
      "total variance 0.0137360988308718 0.012141880430233131\n",
      "total variance 0.19824898015596476 0.20164431620665604\n",
      "total variance 0.07569310612763996 0.07648974476504691\n",
      "total variance 0.02935466421408215 0.02974562872647508\n"
     ]
    }
   ],
   "source": [
    "weight0 ='weights_cpu1/rnn_1515tanh512_checkpoint39'\n",
    "States1, Poss1, Hiddens1, Actions1, Context1 = Data_record(weight, epsilon=0)\n",
    "y, Features, Features_A, Features_Y, Features_X, Features_M, Features_S, Features_C = Feature_preprocessing(States1, Poss1, Hiddens1, Actions1,\\\n",
    "                                                                                                           Context1)\n",
    "clf = Lasso(alpha = 1e-3)\n",
    "cv_scores_all = cross_validate(clf, Features, y, cv = 5, scoring=('r2'), return_train_score = True)\n",
    "print ('total variance', np.mean(cv_scores_all['train_score']), np.mean(cv_scores_all['test_score']))\n",
    "importances = []\n",
    "importances_std = []\n",
    "for i, feature in enumerate([Features_A, Features_Y, Features_X, Features_M, Features_S, Features_C]):\n",
    "    clf = Lasso(alpha = 1e-3)\n",
    "    cv_scores = cross_validate(clf, feature, y, cv = 5, scoring=('r2'), return_train_score = True)\n",
    "    print ('total variance', np.mean(cv_scores_all['train_score'] -  cv_scores['train_score']), \\\n",
    "           np.mean(cv_scores_all['test_score'] - cv_scores['test_score']))\n",
    "    importances.append(np.mean(cv_scores_all['test_score'] - cv_scores['test_score']))\n",
    "    importances_std.append(np.std(cv_scores_all['test_score'] - cv_scores['test_score']))"
   ]
  },
  {
   "cell_type": "code",
   "execution_count": 33,
   "metadata": {},
   "outputs": [
    {
     "name": "stdout",
     "output_type": "stream",
     "text": [
      "total variance 0.6199333086024569 0.616098696369416\n",
      "total variance 0.0002084292386299813 0.00017799360267927166\n",
      "total variance 0.005637816634458548 0.005200699670664855\n",
      "total variance 0.003856031573089469 0.00349963747524884\n",
      "total variance 0.24456735652920597 0.25001901446643426\n",
      "total variance 0.08419576398176423 0.08454351574639349\n",
      "total variance 0.03750032346686545 0.03856816138832022\n"
     ]
    }
   ],
   "source": [
    "weight0 ='weights_cpu1/rnn_1515tanh512_checkpoint39'\n",
    "States1, Poss1, Hiddens1, Actions1, Context1 = Data_record(weight, epsilon=1)\n",
    "y, Features, Features_A, Features_Y, Features_X, Features_M, Features_S, Features_C = Feature_preprocessing(States1, Poss1, Hiddens1, Actions1,\\\n",
    "                                                                                                           Context1)\n",
    "clf = Lasso(alpha = 1e-3)\n",
    "cv_scores_all = cross_validate(clf, Features, y, cv = 5, scoring=('r2'), return_train_score = True)\n",
    "print ('total variance', np.mean(cv_scores_all['train_score']), np.mean(cv_scores_all['test_score']))\n",
    "importances = []\n",
    "importances_std = []\n",
    "for i, feature in enumerate([Features_A, Features_Y, Features_X, Features_M, Features_S, Features_C]):\n",
    "    clf = Lasso(alpha = 1e-3)\n",
    "    cv_scores = cross_validate(clf, feature, y, cv = 5, scoring=('r2'), return_train_score = True)\n",
    "    print ('total variance', np.mean(cv_scores_all['train_score'] -  cv_scores['train_score']), \\\n",
    "           np.mean(cv_scores_all['test_score'] - cv_scores['test_score']))\n",
    "    importances.append(np.mean(cv_scores_all['test_score'] - cv_scores['test_score']))\n",
    "    importances_std.append(np.std(cv_scores_all['test_score'] - cv_scores['test_score']))"
   ]
  },
  {
   "cell_type": "code",
   "execution_count": 34,
   "metadata": {},
   "outputs": [],
   "source": [
    "np.save('importance_39_ran', importances)\n",
    "np.save('importance_39_ran_std', importances_std)"
   ]
  },
  {
   "cell_type": "code",
   "execution_count": 35,
   "metadata": {},
   "outputs": [
    {
     "data": {
      "text/plain": [
       "([<matplotlib.axis.YTick at 0x7f96a19c2f98>,\n",
       "  <matplotlib.axis.YTick at 0x7f96a1b6e240>,\n",
       "  <matplotlib.axis.YTick at 0x7f96a116d2e8>,\n",
       "  <matplotlib.axis.YTick at 0x7f96a1b27ac8>,\n",
       "  <matplotlib.axis.YTick at 0x7f96a12f1828>,\n",
       "  <matplotlib.axis.YTick at 0x7f96a1058240>,\n",
       "  <matplotlib.axis.YTick at 0x7f96a12c32b0>],\n",
       " <a list of 7 Text yticklabel objects>)"
      ]
     },
     "execution_count": 35,
     "metadata": {},
     "output_type": "execute_result"
    },
    {
     "data": {
      "image/png": "[encoded data removed]",
      "text/plain": [
       "<matplotlib.figure.Figure at 0x7f96a1b27208>"
      ]
     },
     "metadata": {},
     "output_type": "display_data"
    }
   ],
   "source": [
    "ax = subplot(1, 1, 1)\n",
    "ax.spines['top'].set_visible(False)\n",
    "ax.spines['right'].set_visible(False)\n",
    "imp = np.load('importance_39_ran.npy')\n",
    "imp_std = np.load('importance_39_ran_std.npy')\n",
    "plt.bar(np.arange(6), height = imp, yerr = imp_std)\n",
    "plt.xticks([0, 1, 2, 3, 4, 5], ['A', 'Y', 'X', 'M', 'S', 'C'], size = 15)\n",
    "plt.yticks([0, 0, 0.02, 0.04, 0.06, 0.08, 0.1], size = 15)"
   ]
  },
  {
   "cell_type": "code",
   "execution_count": 15,
   "metadata": {},
   "outputs": [
    {
     "name": "stdout",
     "output_type": "stream",
     "text": [
      "total variance 0.31721267690645655 0.2942473889825306\n",
      "total variance 0.027002631190721216 0.026514853996747596\n",
      "total variance 0.012149880899032994 0.006382254638992124\n",
      "total variance 0.061483550335101576 0.05719279277966778\n",
      "total variance 0.04440506871493353 0.043728727474883745\n",
      "total variance 0.02152842744217217 0.021326007147972975\n",
      "total variance 0.02176225992520271 0.02195953498579638\n"
     ]
    }
   ],
   "source": [
    "# record sessions 100 for 2 different context, record the relevant variables \n",
    "weight ='weights_fix/weights1/rnn_1515tanh512_checkpoint39_2_9'\n",
    "States1, Poss1, Hiddens1, Actions1, Context1 = Data_record(weight)\n",
    "y, Features, Features_A, Features_Y, Features_X, Features_M, Features_S, Features_C = Feature_preprocessing(States1, Poss1, Hiddens1, Actions1,\\\n",
    "                                                                                                           Context1)\n",
    "clf = Lasso(alpha = 1e-3)\n",
    "cv_scores_all = cross_validate(clf, Features, y, cv = 5, scoring=('r2'), return_train_score = True)\n",
    "print ('total variance', np.mean(cv_scores_all['train_score']), np.mean(cv_scores_all['test_score']))\n",
    "importances = []\n",
    "importances_std = []\n",
    "for i, feature in enumerate([Features_A, Features_Y, Features_X, Features_M, Features_S, Features_C]):\n",
    "    clf = Lasso(alpha = 1e-3)\n",
    "    cv_scores = cross_validate(clf, feature, y, cv = 5, scoring=('r2'), return_train_score = True)\n",
    "    print ('total variance', np.mean(cv_scores_all['train_score'] -  cv_scores['train_score']), \\\n",
    "           np.mean(cv_scores_all['test_score'] - cv_scores['test_score']))\n",
    "    importances.append(np.mean(cv_scores_all['test_score'] - cv_scores['test_score']))\n",
    "    importances_std.append(np.std(cv_scores_all['test_score'] - cv_scores['test_score']))"
   ]
  },
  {
   "cell_type": "code",
   "execution_count": 16,
   "metadata": {},
   "outputs": [],
   "source": [
    "np.save('importance_39_early', importances)\n",
    "np.save('importance_39_early_std', importances_std)"
   ]
  },
  {
   "cell_type": "code",
   "execution_count": 17,
   "metadata": {},
   "outputs": [
    {
     "data": {
      "text/plain": [
       "([<matplotlib.axis.YTick at 0x7f96a21ab320>,\n",
       "  <matplotlib.axis.YTick at 0x7f96a1740dd8>,\n",
       "  <matplotlib.axis.YTick at 0x7f96a2080b70>,\n",
       "  <matplotlib.axis.YTick at 0x7f96a2866470>,\n",
       "  <matplotlib.axis.YTick at 0x7f96a13f0780>,\n",
       "  <matplotlib.axis.YTick at 0x7f96a13f0e10>,\n",
       "  <matplotlib.axis.YTick at 0x7f96a1fb54e0>],\n",
       " <a list of 7 Text yticklabel objects>)"
      ]
     },
     "execution_count": 17,
     "metadata": {},
     "output_type": "execute_result"
    },
    {
     "data": {
      "image/png": "[encoded data removed]",
      "text/plain": [
       "<matplotlib.figure.Figure at 0x7f96a1d1c6a0>"
      ]
     },
     "metadata": {},
     "output_type": "display_data"
    }
   ],
   "source": [
    "ax = subplot(1, 1, 1)\n",
    "ax.spines['top'].set_visible(False)\n",
    "ax.spines['right'].set_visible(False)\n",
    "imp = np.load('importance_39_early.npy')\n",
    "imp_std = np.load('importance_39_early_std.npy')\n",
    "plt.bar(np.arange(6), height = imp, yerr = imp_std)\n",
    "plt.xticks([0, 1, 2, 3, 4, 5], ['A', 'Y', 'X', 'M', 'S', 'C'], size = 15)\n",
    "plt.yticks([0, 0, 0.02, 0.04, 0.06, 0.08, 0.1], size = 15)"
   ]
  },
  {
   "cell_type": "code",
   "execution_count": 6,
   "metadata": {},
   "outputs": [
    {
     "name": "stdout",
     "output_type": "stream",
     "text": [
      "total variance 0.3293548604588767 0.302178242437437\n",
      "total variance 0.023281584548012914 0.02268872299490212\n",
      "total variance 0.010922114970701613 0.006340058649743708\n",
      "total variance 0.06191556487930637 0.058104443962850395\n",
      "total variance 0.05568991566761493 0.05317901535938727\n",
      "total variance 0.021861688208954243 0.02155693360398636\n",
      "total variance 0.028074375152168464 0.027763299692792842\n"
     ]
    }
   ],
   "source": [
    "# record sessions 100 for 2 different context, record the relevant variables \n",
    "weight ='weights_fix/weights1/rnn_1515tanh512_checkpoint39_2_9'\n",
    "States1, Poss1, Hiddens1, Actions1, Context1 = Data_record(weight)\n",
    "y, Features, Features_A, Features_Y, Features_X, Features_M, Features_S, Features_C = Feature_preprocessing(States1, Poss1, Hiddens1, Actions1,\\\n",
    "                                                                                                           Context1)\n",
    "clf = Lasso(alpha = 1e-3)\n",
    "cv_scores_all = cross_validate(clf, Features, y, cv = 5, scoring=('r2'), return_train_score = True)\n",
    "print ('total variance', np.mean(cv_scores_all['train_score']), np.mean(cv_scores_all['test_score']))\n",
    "importances = []\n",
    "importances_std = []\n",
    "for i, feature in enumerate([Features_A, Features_Y, Features_X, Features_M, Features_S, Features_C]):\n",
    "    clf = Lasso(alpha = 1e-3)\n",
    "    cv_scores = cross_validate(clf, feature, y, cv = 5, scoring=('r2'), return_train_score = True)\n",
    "    print ('total variance', np.mean(cv_scores_all['train_score'] -  cv_scores['train_score']), \\\n",
    "           np.mean(cv_scores_all['test_score'] - cv_scores['test_score']))\n",
    "    importances.append(np.mean(cv_scores_all['test_score'] - cv_scores['test_score']))\n",
    "    importances_std.append(np.std(cv_scores_all['test_score'] - cv_scores['test_score']))"
   ]
  },
  {
   "cell_type": "code",
   "execution_count": 7,
   "metadata": {},
   "outputs": [],
   "source": [
    "np.save('importance_39', importances)\n",
    "np.save('importance_39_std', importances_std)"
   ]
  },
  {
   "cell_type": "code",
   "execution_count": 31,
   "metadata": {},
   "outputs": [
    {
     "data": {
      "text/plain": [
       "([<matplotlib.axis.YTick at 0x7f96a0da35c0>,\n",
       "  <matplotlib.axis.YTick at 0x7f96a0da3d68>],\n",
       " <a list of 2 Text yticklabel objects>)"
      ]
     },
     "execution_count": 31,
     "metadata": {},
     "output_type": "execute_result"
    },
    {
     "data": {
      "image/png": "[encoded data removed]",
      "text/plain": [
       "<matplotlib.figure.Figure at 0x7f96a0dfbb70>"
      ]
     },
     "metadata": {},
     "output_type": "display_data"
    }
   ],
   "source": [
    "ax = subplot(1, 1, 1)\n",
    "ax.spines['top'].set_visible(False)\n",
    "ax.spines['right'].set_visible(False)\n",
    "imp = np.load('importance_39.npy')\n",
    "imp_std = np.load('importance_39_std.npy')\n",
    "plt.bar(np.arange(6), height = imp, yerr = imp_std)\n",
    "plt.xticks([0, 1, 2, 3, 4, 5], ['A', 'Y', 'X', 'M', 'S', 'C'], size = 15)\n",
    "plt.yticks([0, 0.1], size = 15)"
   ]
  },
  {
   "cell_type": "markdown",
   "metadata": {},
   "source": [
    "plt.hist(np.array(entropy1))\n",
    "plt.figure()\n",
    "plt.hist(np.array(entropy2))"
   ]
  },
  {
   "cell_type": "markdown",
   "metadata": {},
   "source": [
    "## Pretrain Net2"
   ]
  },
  {
   "cell_type": "code",
   "execution_count": 20,
   "metadata": {},
   "outputs": [
    {
     "name": "stdout",
     "output_type": "stream",
     "text": [
      "total variance 0.48801937512183163 0.47862559380930403\n",
      "total variance 0.0054364210886023836 0.0049760003762125745\n",
      "total variance 0.017238618699956965 0.015518189510648095\n",
      "total variance 0.013729599098896428 0.012327570184542547\n",
      "total variance 0.2047673708895889 0.21098770605324338\n",
      "total variance 0.07701052149262691 0.07779149437159348\n",
      "total variance 0.028704327767368153 0.02912998770702563\n"
     ]
    }
   ],
   "source": [
    "weight = 'weights_fix_pre2/weights1/rnn_1515tanh512_checkpoint49_0_9'\n",
    "# loadweight(weight_load = 'weights_cpu8/rnn_1515tanh512_checkpoint{}'.format(trial))\n",
    "States1, Poss1, Hiddens1, Actions1, Context1 = Data_record(weight)\n",
    "y, Features, Features_A, Features_Y, Features_X, Features_M, Features_S, Features_C = Feature_preprocessing(States1, Poss1, Hiddens1, Actions1,\\\n",
    "                                                                                                           Context1)\n",
    "clf = Lasso(alpha = 1e-3)\n",
    "cv_scores_all = cross_validate(clf, Features, y, cv = 5, scoring=('r2'), return_train_score = True)\n",
    "print ('total variance', np.mean(cv_scores_all['train_score']), np.mean(cv_scores_all['test_score']))\n",
    "importances = []\n",
    "importances_std = []\n",
    "for i, feature in enumerate([Features_A, Features_Y, Features_X, Features_M, Features_S, Features_C]):\n",
    "    clf = Lasso(alpha = 1e-3)\n",
    "    cv_scores = cross_validate(clf, feature, y, cv = 5, scoring=('r2'), return_train_score = True)\n",
    "    print ('total variance', np.mean(cv_scores_all['train_score'] -  cv_scores['train_score']), \\\n",
    "           np.mean(cv_scores_all['test_score'] - cv_scores['test_score']))\n",
    "    importances.append(np.mean(cv_scores_all['test_score'] - cv_scores['test_score']))\n",
    "    importances_std.append(np.std(cv_scores_all['test_score'] - cv_scores['test_score']))"
   ]
  },
  {
   "cell_type": "code",
   "execution_count": 22,
   "metadata": {},
   "outputs": [],
   "source": [
    "np.save('importance_49', importances)\n",
    "np.save('importance_49_std', importances_std)"
   ]
  },
  {
   "cell_type": "code",
   "execution_count": 43,
   "metadata": {},
   "outputs": [
    {
     "data": {
      "text/plain": [
       "([<matplotlib.axis.YTick at 0x7f96a0f92710>,\n",
       "  <matplotlib.axis.YTick at 0x7f96a0e43b70>],\n",
       " <a list of 2 Text yticklabel objects>)"
      ]
     },
     "execution_count": 43,
     "metadata": {},
     "output_type": "execute_result"
    },
    {
     "data": {
      "image/png": "[encoded data removed]",
      "text/plain": [
       "<matplotlib.figure.Figure at 0x7f96a0dfb748>"
      ]
     },
     "metadata": {},
     "output_type": "display_data"
    }
   ],
   "source": [
    "ax = subplot(1, 1, 1)\n",
    "ax.spines['top'].set_visible(False)\n",
    "ax.spines['right'].set_visible(False)\n",
    "imp = np.load('importance_49.npy')\n",
    "imp_std = np.load('importance_49_std.npy')\n",
    "plt.bar(np.arange(6), height = imp, yerr = imp_std)\n",
    "plt.xticks([0, 1, 2, 3, 4, 5], ['A', 'Y', 'X', 'M', 'S', 'C'], size = 15)\n",
    "plt.yticks([0, 0.1], size = 15)\n",
    "# plt.ylim(0, 0.1)"
   ]
  },
  {
   "cell_type": "markdown",
   "metadata": {},
   "source": [
    "## Build a SVM decoder "
   ]
  },
  {
   "cell_type": "markdown",
   "metadata": {},
   "source": [
    "### position"
   ]
  },
  {
   "cell_type": "code",
   "execution_count": 20,
   "metadata": {},
   "outputs": [
    {
     "name": "stdout",
     "output_type": "stream",
     "text": [
      "0.06737138830162086\n"
     ]
    }
   ],
   "source": [
    "# increasing action 10 times will increase decoding efficientcy by 10 %\n",
    "weight ='weights_fix/weights1/rnn_1515tanh512_checkpoint0_0_9'\n",
    "# # change weights\n",
    "States, Poss, Hiddens, Actions, Context = Data_record(weight, k_action = 1, T = 800, seed_num = 1e6, epsilon = 1)\n",
    "States, Poss, Hiddens, Actions, Status, Context = Transform(States, Poss, Hiddens, Actions, Context)\n",
    "X = np.array(Hiddens[Status>0])\n",
    "Y = [p[1] + p[0] * 15 for p in Poss[Status>0]]\n",
    "from sklearn.model_selection import train_test_split\n",
    "from sklearn.metrics import f1_score\n",
    "X_train, X_test, y_train, y_test = train_test_split(X,Y,test_size=0.5, random_state=30)\n",
    " \n",
    "gammas = [1e-2]\n",
    "for gamma in gammas:\n",
    "    model = sklearn.svm.SVC(C = 1e5, gamma = gamma, kernel = 'linear')\n",
    "    model.fit(X_train, y_train)\n",
    "    print (f1_score(y_test, model.predict(X_test), average = 'micro'))"
   ]
  },
  {
   "cell_type": "code",
   "execution_count": null,
   "metadata": {},
   "outputs": [
    {
     "data": {
      "text/plain": [
       "3.2199999999999998"
      ]
     },
     "execution_count": 21,
     "metadata": {},
     "output_type": "execute_result"
    }
   ],
   "source": [
    "np.abs(np.array(y_test[:100])//15 - model.predict(X_test[:100])//15).mean() + np.abs(np.array(y_test[:100])%15 -  model.predict(X_test[:100])%15).mean()"
   ]
  },
  {
   "cell_type": "code",
   "execution_count": 6,
   "metadata": {},
   "outputs": [
    {
     "name": "stdout",
     "output_type": "stream",
     "text": [
      "0.05145665145665146\n"
     ]
    }
   ],
   "source": [
    "# increasing action 10 times will increase decoding efficientcy by 10 %\n",
    "weight ='weights_fix/weights1/rnn_1515tanh512_checkpoint0_0_9'\n",
    "# # change weights\n",
    "States, Poss, Hiddens, Actions, Context = Data_record(weight, k_action = 1, T = 800, seed_num = 1e6, epsilon = 1)\n",
    "States, Poss, Hiddens, Actions, Status, Context = Transform(States, Poss, Hiddens, Actions, Context)\n",
    "X = np.array(Hiddens[Status>0][:-2])\n",
    "Y = [p[1] + p[0] * 15 for p in Poss[Status>0][2:]]\n",
    "from sklearn.model_selection import train_test_split\n",
    "from sklearn.metrics import f1_score\n",
    "X_train, X_test, y_train, y_test = train_test_split(X,Y,test_size=0.5, random_state=30)\n",
    " \n",
    "gammas = [1e-2]\n",
    "for gamma in gammas:\n",
    "    model1 = sklearn.svm.SVC(C = 1e5, gamma = gamma, kernel = 'linear')\n",
    "    model1.fit(X_train, y_train)\n",
    "    print (f1_score(y_test, model1.predict(X_test), average = 'micro'))"
   ]
  },
  {
   "cell_type": "code",
   "execution_count": 7,
   "metadata": {},
   "outputs": [
    {
     "data": {
      "text/plain": [
       "3.56"
      ]
     },
     "execution_count": 7,
     "metadata": {},
     "output_type": "execute_result"
    }
   ],
   "source": [
    "np.abs(np.array(y_test[:100])//15 - model1.predict(X_test[:100])//15).mean() + np.abs(np.array(y_test[:100])%15 -  model1.predict(X_test[:100])%15).mean()"
   ]
  },
  {
   "cell_type": "code",
   "execution_count": 3,
   "metadata": {},
   "outputs": [
    {
     "name": "stdout",
     "output_type": "stream",
     "text": [
      "0.039778307843412374\n"
     ]
    }
   ],
   "source": [
    "# increasing action 10 times will increase decoding efficientcy by 10 %\n",
    "weight ='weights_fix/weights1/rnn_1515tanh512_checkpoint39_0_9'\n",
    "# # change weights\n",
    "States, Poss, Hiddens, Actions, Context = Data_record(weight, k_action = 1, T = 800, seed_num = 1e6, epsilon = 1)\n",
    "States, Poss, Hiddens, Actions, Status, Context = Transform(States, Poss, Hiddens, Actions, Context)\n",
    "X = np.array(Hiddens[Status>0][:-2])\n",
    "Y = [p[1] + p[0] * 15 for p in Poss[Status>0][2:]]\n",
    "from sklearn.model_selection import train_test_split\n",
    "from sklearn.metrics import f1_score\n",
    "X_train, X_test, y_train, y_test = train_test_split(X,Y,test_size=0.5, random_state=30)\n",
    " \n",
    "gammas = [1e-2]\n",
    "for gamma in gammas:\n",
    "    model1 = sklearn.svm.SVC(C = 1e5, gamma = gamma, kernel = 'linear')\n",
    "    model1.fit(X_train, y_train)\n",
    "    print (f1_score(y_test, model1.predict(X_test), average = 'micro'))"
   ]
  },
  {
   "cell_type": "code",
   "execution_count": 5,
   "metadata": {},
   "outputs": [
    {
     "data": {
      "text/plain": [
       "5.5"
      ]
     },
     "execution_count": 5,
     "metadata": {},
     "output_type": "execute_result"
    }
   ],
   "source": [
    "np.abs(np.array(y_test[:100])//15 - model1.predict(X_test[:100])//15).mean() + np.abs(np.array(y_test[:100])%15 -  model1.predict(X_test[:100])%15).mean()"
   ]
  },
  {
   "cell_type": "code",
   "execution_count": 8,
   "metadata": {},
   "outputs": [
    {
     "name": "stdout",
     "output_type": "stream",
     "text": [
      "0.0569691829233814\n"
     ]
    }
   ],
   "source": [
    "# increasing action 10 times will increase decoding efficientcy by 10 %\n",
    "weight ='weights_fix/weights1/rnn_1515tanh512_checkpoint39_0_9'\n",
    "# # change weights\n",
    "States, Poss, Hiddens, Actions, Context = Data_record(weight, k_action = 1, T = 800, seed_num = 1e6, epsilon = 1)\n",
    "States, Poss, Hiddens, Actions, Status, Context = Transform(States, Poss, Hiddens, Actions, Context)\n",
    "X = np.array(Hiddens[Status>0])\n",
    "Y = [p[1] + p[0] * 15 for p in Poss[Status>0]]\n",
    "from sklearn.model_selection import train_test_split\n",
    "from sklearn.metrics import f1_score\n",
    "X_train, X_test, y_train, y_test = train_test_split(X,Y,test_size=0.5, random_state=30)\n",
    " \n",
    "gammas = [1e-2]\n",
    "for gamma in gammas:\n",
    "    model1 = sklearn.svm.SVC(C = 1e5, gamma = gamma, kernel = 'linear')\n",
    "    model1.fit(X_train, y_train)\n",
    "    print (f1_score(y_test, model1.predict(X_test), average = 'micro'))"
   ]
  },
  {
   "cell_type": "code",
   "execution_count": 10,
   "metadata": {},
   "outputs": [
    {
     "data": {
      "text/plain": [
       "3.45"
      ]
     },
     "execution_count": 10,
     "metadata": {},
     "output_type": "execute_result"
    }
   ],
   "source": [
    "np.abs(np.array(y_test[:100])//15 - model1.predict(X_test[:100])//15).mean() + np.abs(np.array(y_test[:100])%15 -  model1.predict(X_test[:100])%15).mean()"
   ]
  },
  {
   "cell_type": "code",
   "execution_count": 17,
   "metadata": {},
   "outputs": [
    {
     "name": "stdout",
     "output_type": "stream",
     "text": [
      "0.06090251464002756\n"
     ]
    }
   ],
   "source": [
    "weight ='weights_fix_pre2/weights1/rnn_1515tanh512_checkpoint49_1_9'\n",
    "# # change weights\n",
    "States, Poss, Hiddens, Actions, Context = Data_record(weight, k_action = 1, epsilon = 1, T = 800, seed_num = 1e6)\n",
    "States, Poss, Hiddens, Actions, Status, Context = Transform(States, Poss, Hiddens, Actions, Context)\n",
    "X = np.array(Hiddens[Status>0])\n",
    "Y = [p[1] + p[0] * 15 for p in Poss[Status>0]]\n",
    "from sklearn.model_selection import train_test_split\n",
    "from sklearn.metrics import f1_score\n",
    "X_train, X_test, y_train, y_test = train_test_split(X,Y,test_size=0.5, random_state=30)\n",
    " \n",
    "gammas = [1e-2]\n",
    "for gamma in gammas:\n",
    "    model1 = sklearn.svm.SVC(C = 1e5, gamma = gamma, kernel = 'linear')\n",
    "    model1.fit(X_train, y_train)\n",
    "    print (f1_score(y_test, model1.predict(X_test), average = 'micro'))"
   ]
  },
  {
   "cell_type": "code",
   "execution_count": 18,
   "metadata": {},
   "outputs": [
    {
     "data": {
      "text/plain": [
       "4.43"
      ]
     },
     "execution_count": 18,
     "metadata": {},
     "output_type": "execute_result"
    }
   ],
   "source": [
    "np.abs(np.array(y_test[:100])//15 - model1.predict(X_test[:100])//15).mean() + np.abs(np.array(y_test[:100])%15 -  model1.predict(X_test[:100])%15).mean()"
   ]
  },
  {
   "cell_type": "code",
   "execution_count": null,
   "metadata": {},
   "outputs": [],
   "source": [
    "### memory "
   ]
  },
  {
   "cell_type": "code",
   "execution_count": 85,
   "metadata": {},
   "outputs": [
    {
     "name": "stdout",
     "output_type": "stream",
     "text": [
      "0.6783576308190717\n"
     ]
    }
   ],
   "source": [
    "weight ='weights_fix/weights1/rnn_1515tanh512_checkpoint0_0_9'\n",
    "# # change weights\n",
    "States, Poss, Hiddens, Actions, Context = Data_record(weight, k_action = 1, epsilon = 1, T = 800, seed_num = 1e6, size = 30)\n",
    "States, Poss, Hiddens, Actions, Status, Context = Transform(States, Poss, Hiddens, Actions, Context, size = 15)\n",
    "X = np.array(Hiddens[Status>0])\n",
    "Y = Status[Status>0]\n",
    "from sklearn.model_selection import train_test_split\n",
    "from sklearn.metrics import f1_score\n",
    "X_train, X_test, y_train, y_test = train_test_split(X,Y,test_size=0.5, random_state=30)\n",
    " \n",
    "model = sklearn.linear_model.LogisticRegression(C = 1e5)\n",
    "model.fit(X_train, y_train)\n",
    "print (f1_score(y_test, model.predict(X_test), average = 'micro'))"
   ]
  },
  {
   "cell_type": "code",
   "execution_count": 87,
   "metadata": {},
   "outputs": [
    {
     "name": "stdout",
     "output_type": "stream",
     "text": [
      "0.630360236150882\n"
     ]
    }
   ],
   "source": [
    "weight ='weights_fix/weights1/rnn_1515tanh512_checkpoint39_0_9'\n",
    "# # change weights\n",
    "States, Poss, Hiddens, Actions, Context = Data_record(weight, k_action = 1, epsilon = 1, T = 800, seed_num = 1e6, size = 30)\n",
    "States, Poss, Hiddens, Actions, Status, Context = Transform(States, Poss, Hiddens, Actions, Context, size = 15)\n",
    "X = np.array(Hiddens[Status>0])\n",
    "Y = Status[Status>0]\n",
    "from sklearn.model_selection import train_test_split\n",
    "from sklearn.metrics import f1_score\n",
    "X_train, X_test, y_train, y_test = train_test_split(X,Y,test_size=0.5, random_state=30)\n",
    " \n",
    "model = sklearn.linear_model.LogisticRegression(C = 1e5)\n",
    "model.fit(X_train, y_train)\n",
    "print (f1_score(y_test, model.predict(X_test), average = 'micro'))"
   ]
  },
  {
   "cell_type": "code",
   "execution_count": 89,
   "metadata": {},
   "outputs": [
    {
     "name": "stdout",
     "output_type": "stream",
     "text": [
      "0.7225123833271556\n"
     ]
    }
   ],
   "source": [
    "weight ='weights_fix_pre2/weights1/rnn_1515tanh512_checkpoint49_1_9'\n",
    "# # change weights\n",
    "States, Poss, Hiddens, Actions, Context = Data_record(weight, k_action = 1, epsilon = 1, T = 800, seed_num = 1e6, size = 30)\n",
    "States, Poss, Hiddens, Actions, Status, Context = Transform(States, Poss, Hiddens, Actions, Context, size = 15)\n",
    "X = np.array(Hiddens[Status>0])\n",
    "Y = Status[Status>0]\n",
    "from sklearn.model_selection import train_test_split\n",
    "from sklearn.metrics import f1_score\n",
    "X_train, X_test, y_train, y_test = train_test_split(X,Y,test_size=0.5, random_state=30)\n",
    " \n",
    "model = sklearn.linear_model.LogisticRegression(C = 1e5)\n",
    "model.fit(X_train, y_train)\n",
    "print (f1_score(y_test, model.predict(X_test), average = 'micro'))"
   ]
  },
  {
   "cell_type": "code",
   "execution_count": null,
   "metadata": {},
   "outputs": [],
   "source": [
    "### History "
   ]
  },
  {
   "cell_type": "code",
   "execution_count": 3,
   "metadata": {},
   "outputs": [
    {
     "name": "stdout",
     "output_type": "stream",
     "text": [
      "0.8517792098627066\n"
     ]
    }
   ],
   "source": [
    "weight ='weights_fix/weights1/rnn_1515tanh512_checkpoint0_0_9'\n",
    "# # change weights\n",
    "States, Poss, Hiddens, Actions, Context = Data_record(weight, epsilon = 1, k_action = 1, T = 400, seed_num = 1e6)\n",
    "States, Poss, Hiddens, Actions, Status, Context, Memory = Transform(States, Poss, Hiddens, Actions, Context, history = True)\n",
    "\n",
    "Mem = np.array([mem[1] + 4 * mem[0] for mem in Memory])\n",
    "\n",
    "X = np.array(Hiddens[Status>0])\n",
    "Y = Mem[Status>0]\n",
    "from sklearn.model_selection import train_test_split\n",
    "from sklearn.metrics import f1_score\n",
    "X_train, X_test, y_train, y_test = train_test_split(X,Y,test_size=0.5, random_state=30)\n",
    " \n",
    "gammas = [1e-2]\n",
    "for gamma in gammas:\n",
    "    model1 = sklearn.svm.SVC(C = 1e5, gamma = gamma, kernel = 'linear')\n",
    "    model1.fit(X_train, y_train)\n",
    "    print (f1_score(y_test, model1.predict(X_test), average = 'micro'))"
   ]
  },
  {
   "cell_type": "code",
   "execution_count": 4,
   "metadata": {},
   "outputs": [
    {
     "name": "stdout",
     "output_type": "stream",
     "text": [
      "0.6976256983240223\n"
     ]
    }
   ],
   "source": [
    "weight ='weights_fix/weights1/rnn_1515tanh512_checkpoint39_0_9'\n",
    "# # change weights\n",
    "States, Poss, Hiddens, Actions, Context = Data_record(weight, epsilon = 1, k_action = 1, T = 400, seed_num = 1e6)\n",
    "States, Poss, Hiddens, Actions, Status, Context, Memory = Transform(States, Poss, Hiddens, Actions, Context, history = True)\n",
    "\n",
    "Mem = np.array([mem[1] + 4 * mem[0] for mem in Memory])\n",
    "\n",
    "X = np.array(Hiddens[Status>0])\n",
    "Y = Mem[Status>0]\n",
    "from sklearn.model_selection import train_test_split\n",
    "from sklearn.metrics import f1_score\n",
    "X_train, X_test, y_train, y_test = train_test_split(X,Y,test_size=0.5, random_state=30)\n",
    " \n",
    "gammas = [1e-2]\n",
    "for gamma in gammas:\n",
    "    model1 = sklearn.svm.SVC(C = 1e5, gamma = gamma, kernel = 'linear')\n",
    "    model1.fit(X_train, y_train)\n",
    "    print (f1_score(y_test, model1.predict(X_test), average = 'micro'))"
   ]
  },
  {
   "cell_type": "code",
   "execution_count": 5,
   "metadata": {},
   "outputs": [
    {
     "name": "stdout",
     "output_type": "stream",
     "text": [
      "0.7255192878338279\n"
     ]
    }
   ],
   "source": [
    "weight ='weights_fix_pre2/weights1/rnn_1515tanh512_checkpoint49_1_9'\n",
    "# # change weights\n",
    "States, Poss, Hiddens, Actions, Context = Data_record(weight, epsilon = 1, k_action = 1, T = 400, seed_num = 1e6)\n",
    "States, Poss, Hiddens, Actions, Status, Context, Memory = Transform(States, Poss, Hiddens, Actions, Context, history = True)\n",
    "\n",
    "Mem = np.array([mem[1] + 4 * mem[0] for mem in Memory])\n",
    "\n",
    "X = np.array(Hiddens[Status>0])\n",
    "Y = Mem[Status>0]\n",
    "from sklearn.model_selection import train_test_split\n",
    "from sklearn.metrics import f1_score\n",
    "X_train, X_test, y_train, y_test = train_test_split(X,Y,test_size=0.5, random_state=30)\n",
    " \n",
    "gammas = [1e-2]\n",
    "for gamma in gammas:\n",
    "    model1 = sklearn.svm.SVC(C = 1e5, gamma = gamma, kernel = 'linear')\n",
    "    model1.fit(X_train, y_train)\n",
    "    print (f1_score(y_test, model1.predict(X_test), average = 'micro'))"
   ]
  },
  {
   "cell_type": "markdown",
   "metadata": {},
   "source": [
    "# Conclusion\n",
    "**The strongest property of pretrain net, no matter it is in the obstacle case or no hole case, is the strong presence of position/x signal in the code **"
   ]
  }
 ],
 "metadata": {
  "anaconda-cloud": {},
  "kernelspec": {
   "display_name": "Python 3",
   "language": "python",
   "name": "python3"
  },
  "language_info": {
   "codemirror_mode": {
    "name": "ipython",
    "version": 3
   },
   "file_extension": ".py",
   "mimetype": "text/x-python",
   "name": "python",
   "nbconvert_exporter": "python",
   "pygments_lexer": "ipython3",
   "version": "3.6.3"
  },
  "latex_envs": {
   "LaTeX_envs_menu_present": true,
   "autoclose": false,
   "autocomplete": true,
   "bibliofile": "biblio.bib",
   "cite_by": "apalike",
   "current_citInitial": 1,
   "eqLabelWithNumbers": true,
   "eqNumInitial": 1,
   "hotkeys": {
    "equation": "Ctrl-E",
    "itemize": "Ctrl-I"
   },
   "labels_anchors": false,
   "latex_user_defs": false,
   "report_style_numbering": false,
   "user_envs_cfg": false
  },
  "toc": {
   "nav_menu": {},
   "number_sections": true,
   "sideBar": true,
   "skip_h1_title": false,
   "title_cell": "Table of Contents",
   "title_sidebar": "Contents",
   "toc_cell": true,
   "toc_position": {
    "height": "759px",
    "left": "0px",
    "right": "1228px",
    "top": "67px",
    "width": "212px"
   },
   "toc_section_display": "block",
   "toc_window_display": true
  },
  "varInspector": {
   "cols": {
    "lenName": 16,
    "lenType": 16,
    "lenVar": 40
   },
   "kernels_config": {
    "python": {
     "delete_cmd_postfix": "",
     "delete_cmd_prefix": "del ",
     "library": "var_list.py",
     "varRefreshCmd": "print(var_dic_list())"
    },
    "r": {
     "delete_cmd_postfix": ") ",
     "delete_cmd_prefix": "rm(",
     "library": "var_list.r",
     "varRefreshCmd": "cat(var_dic_list()) "
    }
   },
   "types_to_exclude": [
    "module",
    "function",
    "builtin_function_or_method",
    "instance",
    "_Feature"
   ],
   "window_display": false
  }
 },
 "nbformat": 4,
 "nbformat_minor": 2
}
