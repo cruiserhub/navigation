{
 "cells": [
  {
   "cell_type": "markdown",
   "metadata": {
    "toc": "true"
   },
   "source": [
    "<h1>Table of Contents<span class=\"tocSkip\"></span></h1>\n",
    "<div class=\"toc\"><ul class=\"toc-item\"><li><span><a href=\"#quick-start\" data-toc-modified-id=\"quick-start-1\"><span class=\"toc-item-num\">1&nbsp;&nbsp;</span>quick start</a></span><ul class=\"toc-item\"><li><span><a href=\"#Resources\" data-toc-modified-id=\"Resources-1.1\"><span class=\"toc-item-num\">1.1&nbsp;&nbsp;</span>Resources</a></span></li></ul></li><li><span><a href=\"#FULL-MODEL\" data-toc-modified-id=\"FULL-MODEL-2\"><span class=\"toc-item-num\">2&nbsp;&nbsp;</span>FULL MODEL</a></span><ul class=\"toc-item\"><li><span><a href=\"#Packages\" data-toc-modified-id=\"Packages-2.1\"><span class=\"toc-item-num\">2.1&nbsp;&nbsp;</span>Packages</a></span><ul class=\"toc-item\"><li><span><a href=\"#Qnetwork\" data-toc-modified-id=\"Qnetwork-2.1.1\"><span class=\"toc-item-num\">2.1.1&nbsp;&nbsp;</span>Qnetwork</a></span></li></ul></li><li><span><a href=\"#POMDP-RNN-Game\" data-toc-modified-id=\"POMDP-RNN-Game-2.2\"><span class=\"toc-item-num\">2.2&nbsp;&nbsp;</span>POMDP RNN Game</a></span></li><li><span><a href=\"#Results\" data-toc-modified-id=\"Results-2.3\"><span class=\"toc-item-num\">2.3&nbsp;&nbsp;</span>Results</a></span><ul class=\"toc-item\"><li><span><a href=\"#Standard-setting：-grid-=--(3,7)，-holes-=-0\" data-toc-modified-id=\"Standard-setting：-grid-=--(3,7)，-holes-=-0-2.3.1\"><span class=\"toc-item-num\">2.3.1&nbsp;&nbsp;</span>Standard setting： grid =  (3,7)， holes = 0</a></span></li><li><span><a href=\"#Model-Tranining\" data-toc-modified-id=\"Model-Tranining-2.3.2\"><span class=\"toc-item-num\">2.3.2&nbsp;&nbsp;</span>Model Tranining</a></span></li><li><span><a href=\"#decoding-vs-performance\" data-toc-modified-id=\"decoding-vs-performance-2.3.3\"><span class=\"toc-item-num\">2.3.3&nbsp;&nbsp;</span>decoding vs performance</a></span></li><li><span><a href=\"#learning-rate-vs-performance\" data-toc-modified-id=\"learning-rate-vs-performance-2.3.4\"><span class=\"toc-item-num\">2.3.4&nbsp;&nbsp;</span>learning rate vs performance</a></span></li><li><span><a href=\"#Summary\" data-toc-modified-id=\"Summary-2.3.5\"><span class=\"toc-item-num\">2.3.5&nbsp;&nbsp;</span>Summary</a></span></li><li><span><a href=\"#Anlytic-part-,-check-the-behaviour-correspond-to-each-decoding-level-and-explain-why\" data-toc-modified-id=\"Anlytic-part-,-check-the-behaviour-correspond-to-each-decoding-level-and-explain-why-2.3.6\"><span class=\"toc-item-num\">2.3.6&nbsp;&nbsp;</span>Anlytic part , check the behaviour correspond to each decoding level and explain why</a></span></li></ul></li><li><span><a href=\"#PCA\" data-toc-modified-id=\"PCA-2.4\"><span class=\"toc-item-num\">2.4&nbsp;&nbsp;</span>PCA</a></span></li></ul></li></ul></div>"
   ]
  },
  {
   "cell_type": "markdown",
   "metadata": {},
   "source": [
    "# quick start "
   ]
  },
  {
   "cell_type": "markdown",
   "metadata": {},
   "source": [
    "Test what is the decoding change for single size training "
   ]
  },
  {
   "cell_type": "markdown",
   "metadata": {},
   "source": [
    "## Resources\n",
    "\n",
    "* [*The* Reinforcement learning book from Sutton & Barto](http://incompleteideas.net/sutton/book/the-book-2nd.html)\n",
    "* [The REINFORCE paper from Ronald J. Williams (1992)](http://www-anw.cs.umass.edu/~barto/courses/cs687/williams92simple.pdf)\n"
   ]
  },
  {
   "cell_type": "markdown",
   "metadata": {},
   "source": [
    "# FULL MODEL"
   ]
  },
  {
   "cell_type": "markdown",
   "metadata": {},
   "source": [
    "## Packages"
   ]
  },
  {
   "cell_type": "code",
   "execution_count": 3,
   "metadata": {},
   "outputs": [
    {
     "name": "stdout",
     "output_type": "stream",
     "text": [
      "The autoreload extension is already loaded. To reload it, use:\n",
      "  %reload_ext autoreload\n"
     ]
    }
   ],
   "source": [
    "%load_ext autoreload\n",
    "%autoreload 2\n",
    "\n",
    "import numpy as np\n",
    "from itertools import count\n",
    "import random\n",
    "\n",
    "import torch\n",
    "import torch.nn as nn\n",
    "import torch.nn.functional as F\n",
    "import torch.optim as optim\n",
    "import torch.autograd as autograd\n",
    "from torch.autograd import Variable\n",
    "from torch.nn import init\n",
    "from torch.nn import DataParallel\n",
    "\n",
    "import matplotlib.mlab as mlab\n",
    "import matplotlib.pyplot as plt\n",
    "import matplotlib.animation\n",
    "from IPython.display import HTML\n",
    "\n",
    "import POMDPgame_bars\n",
    "from POMDPgame_bars import*\n",
    "\n",
    "import POMDPgame_basic\n",
    "from POMDPgame_basic import*\n",
    "\n",
    "import POMDPgame_holes\n",
    "from POMDPgame_holes import*\n",
    "\n",
    "import RNN\n",
    "from RNN import *\n",
    "\n",
    "import navigation2\n",
    "from navigation2 import*\n",
    "\n",
    "import Nets\n",
    "from Nets import*\n",
    "\n",
    "import Tests\n",
    "from Tests import*\n",
    "\n",
    "\n",
    "%matplotlib inline"
   ]
  },
  {
   "cell_type": "markdown",
   "metadata": {},
   "source": [
    "### Qnetwork\n",
    "\n",
    "To select actions we take maximum of Q value, corresponding to certain move."
   ]
  },
  {
   "cell_type": "markdown",
   "metadata": {},
   "source": [
    "For the liquid state approach to work, you need a lot of neurons as surplus or enough hidden to hidden connectivity to make it have an effect."
   ]
  },
  {
   "cell_type": "markdown",
   "metadata": {},
   "source": [
    "##  POMDP RNN Game\n",
    "\n",
    "In this game , we use a new reward function determined by game, if the agent achieves the goal before 50, reward is 1. If time pass 50 reward is 0.5, once time pass 100 agent gets a reward of -0.5 .  Practically, this is found to be easier to learn than the rewards as a continous function of time.  Tf the agent learns to search in a efficient way, the largest possible way for search is to firstly arrive at corner then goes to the goal, which, takes about 50 steps, it is reasonble to make 50 and 100 as milestone thing.  Also in principe as the game doesn't have a timer , it is not if it can use a reward as funtion of time"
   ]
  },
  {
   "cell_type": "markdown",
   "metadata": {},
   "source": [
    "3 condition for ending , when pass time limit, game over"
   ]
  },
  {
   "cell_type": "markdown",
   "metadata": {},
   "source": [
    "For weight update, it seems to be better do it after episode, as it makes non-sense evaluate strategy during episode, but a the end. Also, it is much quicker. "
   ]
  },
  {
   "cell_type": "markdown",
   "metadata": {},
   "source": [
    "A programming of MDP here, hidden state is as state of enviroment"
   ]
  },
  {
   "cell_type": "code",
   "execution_count": 2,
   "metadata": {},
   "outputs": [
    {
     "name": "stdout",
     "output_type": "stream",
     "text": [
      "task <class 'POMDPgame_basic.GameBasic'>\n",
      "task <class 'POMDPgame_holes.GameHole'>\n",
      "task <class 'POMDPgame_bars.GameBar'>\n",
      "task <class 'POMDPgame_scale.GameScale'>\n",
      "task <class 'POMDPgame_scale_x.GameScale_x'>\n",
      "task <class 'POMDPgame_scale_y.GameScale_y'>\n",
      "task <class 'POMDPgame_implicit.GameImplicit'>\n"
     ]
    },
    {
     "data": {
      "text/plain": [
       "<matplotlib.image.AxesImage at 0x7f0ee5ad4850>"
      ]
     },
     "execution_count": 2,
     "metadata": {},
     "output_type": "execute_result"
    },
    {
     "data": {
      "image/png": "[encoded data removed]",
      "text/plain": [
       "<Figure size 288x288 with 1 Axes>"
      ]
     },
     "metadata": {
      "needs_background": "light"
     },
     "output_type": "display_data"
    },
    {
     "data": {
      "image/png": "[encoded data removed]",
      "text/plain": [
       "<Figure size 288x288 with 1 Axes>"
      ]
     },
     "metadata": {
      "needs_background": "light"
     },
     "output_type": "display_data"
    },
    {
     "data": {
      "image/png": "[encoded data removed]",
      "text/plain": [
       "<Figure size 288x288 with 1 Axes>"
      ]
     },
     "metadata": {
      "needs_background": "light"
     },
     "output_type": "display_data"
    },
    {
     "data": {
      "image/png": "[encoded data removed]",
      "text/plain": [
       "<Figure size 288x288 with 1 Axes>"
      ]
     },
     "metadata": {
      "needs_background": "light"
     },
     "output_type": "display_data"
    },
    {
     "data": {
      "image/png": "[encoded data removed]",
      "text/plain": [
       "<Figure size 288x288 with 1 Axes>"
      ]
     },
     "metadata": {
      "needs_background": "light"
     },
     "output_type": "display_data"
    },
    {
     "data": {
      "image/png": "[encoded data removed]",
      "text/plain": [
       "<Figure size 288x515.368 with 1 Axes>"
      ]
     },
     "metadata": {
      "needs_background": "light"
     },
     "output_type": "display_data"
    },
    {
     "data": {
      "image/png": "[encoded data removed]",
      "text/plain": [
       "<Figure size 288x288 with 1 Axes>"
      ]
     },
     "metadata": {
      "needs_background": "light"
     },
     "output_type": "display_data"
    }
   ],
   "source": [
    "basicgame = CreateGame(GameBasic, holes = 0)\n",
    "basicgame.reset(size = 15, reward_control=0)\n",
    "plt.matshow(basicgame.grid.grid)\n",
    "\n",
    "holegame = CreateGame(GameHole, holes = 50)\n",
    "holegame.reset(size = 15, reward_control=0)\n",
    "plt.matshow(holegame.grid.grid)\n",
    "\n",
    "bargame = CreateGame(GameBar, holes = 0)\n",
    "bargame.reset(size = 15, reward_control=0)\n",
    "plt.matshow(bargame.grid.grid)\n",
    "\n",
    "scalegame = CreateGame(GameScale, holes = 0)\n",
    "scalegame.reset(reward_control=0)\n",
    "plt.matshow(scalegame.grid.grid)\n",
    "\n",
    "scalegame_x = CreateGame(GameScale_x, holes = 0)\n",
    "scalegame_x.reset(reward_control=0)\n",
    "plt.matshow(scalegame_x.grid.grid)\n",
    "\n",
    "scalegame_y = CreateGame(GameScale_y, holes = 0)\n",
    "scalegame_y.reset(reward_control=0)\n",
    "plt.matshow(scalegame_y.grid.grid)\n",
    "\n",
    "Imp_game = CreateGame(GameImplicit, holes = 0)\n",
    "Imp_game.reset(size = 15, reward_control=0)\n",
    "plt.matshow(Imp_game.grid.grid)"
   ]
  },
  {
   "cell_type": "markdown",
   "metadata": {},
   "source": [
    "Think of how to make this traning stable, adding exploration noise , intenral noise or environmental variability like multiple mazes  "
   ]
  },
  {
   "cell_type": "code",
   "execution_count": 3,
   "metadata": {},
   "outputs": [
    {
     "name": "stdout",
     "output_type": "stream",
     "text": [
      "task <class 'POMDPgame_basic.GameBasic'>\n",
      "basic\n"
     ]
    },
    {
     "name": "stderr",
     "output_type": "stream",
     "text": [
      "/home/tie/.conda/envs/torch/lib/python3.7/site-packages/torch/tensor.py:293: UserWarning: non-inplace resize is deprecated\n",
      "  warnings.warn(\"non-inplace resize is deprecated\")\n"
     ]
    },
    {
     "name": "stdout",
     "output_type": "stream",
     "text": [
      "basic performance -0.8467881944444444\n",
      "task <class 'POMDPgame_basic.GameBasic'>\n",
      "basic\n",
      "basic performance -0.34816750091441423\n",
      "task <class 'POMDPgame_basic.GameBasic'>\n",
      "basic\n",
      "basic performance 0.3360090337439551\n",
      "task <class 'POMDPgame_basic.GameBasic'>\n",
      "basic\n",
      "basic performance -0.18740914593584185\n",
      "task <class 'POMDPgame_basic.GameBasic'>\n",
      "basic\n",
      "basic performance 0.47517783238552314\n",
      "task <class 'POMDPgame_basic.GameBasic'>\n",
      "basic\n",
      "basic performance 0.4716867265425413\n",
      "task <class 'POMDPgame_basic.GameBasic'>\n",
      "basic\n",
      "basic performance 0.41689868340479713\n",
      "task <class 'POMDPgame_basic.GameBasic'>\n",
      "basic\n",
      "basic performance 0.6452684747483546\n",
      "task <class 'POMDPgame_basic.GameBasic'>\n",
      "basic\n",
      "basic performance 0.6068241831470866\n",
      "task <class 'POMDPgame_basic.GameBasic'>\n",
      "basic\n",
      "basic performance 0.7910602801115226\n",
      "task <class 'POMDPgame_basic.GameBasic'>\n",
      "basic\n",
      "basic performance 0.7687269470503456\n",
      "task <class 'POMDPgame_basic.GameBasic'>\n",
      "basic\n",
      "basic performance 0.7477455394903201\n",
      "task <class 'POMDPgame_basic.GameBasic'>\n",
      "basic\n",
      "basic performance 0.6750963194939943\n",
      "task <class 'POMDPgame_basic.GameBasic'>\n",
      "basic\n",
      "basic performance 0.7285671668464755\n",
      "task <class 'POMDPgame_basic.GameBasic'>\n",
      "basic\n",
      "basic performance 0.7580571860359144\n",
      "task <class 'POMDPgame_basic.GameBasic'>\n",
      "basic\n",
      "basic performance 0.7182999638017714\n",
      "task <class 'POMDPgame_basic.GameBasic'>\n",
      "basic\n",
      "basic performance 0.6885164081370236\n",
      "task <class 'POMDPgame_basic.GameBasic'>\n",
      "basic\n",
      "basic performance 0.7493747133073649\n",
      "task <class 'POMDPgame_basic.GameBasic'>\n",
      "basic\n",
      "basic performance 0.7617852674555452\n",
      "task <class 'POMDPgame_basic.GameBasic'>\n",
      "basic\n",
      "basic performance 0.764553201756146\n",
      "task <class 'POMDPgame_basic.GameBasic'>\n",
      "basic\n",
      "basic performance 0.7395852306418544\n",
      "task <class 'POMDPgame_basic.GameBasic'>\n",
      "basic\n",
      "basic performance 0.7434977477948674\n",
      "task <class 'POMDPgame_basic.GameBasic'>\n",
      "basic\n",
      "basic performance 0.8328133596866067\n",
      "task <class 'POMDPgame_basic.GameBasic'>\n",
      "basic\n",
      "basic performance 0.8175644845187435\n",
      "task <class 'POMDPgame_basic.GameBasic'>\n",
      "basic\n",
      "basic performance 0.8477031639905324\n",
      "task <class 'POMDPgame_basic.GameBasic'>\n",
      "basic\n",
      "basic performance 0.8203106447387434\n",
      "task <class 'POMDPgame_basic.GameBasic'>\n",
      "basic\n",
      "basic performance 0.8335089566532619\n",
      "task <class 'POMDPgame_basic.GameBasic'>\n",
      "basic\n",
      "basic performance 0.7876355779816133\n",
      "task <class 'POMDPgame_basic.GameBasic'>\n",
      "basic\n",
      "basic performance 0.8205472312429645\n",
      "task <class 'POMDPgame_basic.GameBasic'>\n",
      "basic\n",
      "basic performance 0.8125941303151385\n",
      "task <class 'POMDPgame_basic.GameBasic'>\n",
      "basic\n",
      "basic performance 0.8272046373494844\n",
      "task <class 'POMDPgame_basic.GameBasic'>\n",
      "basic\n",
      "basic performance 0.8357002075035143\n",
      "task <class 'POMDPgame_basic.GameBasic'>\n",
      "basic\n",
      "basic performance 0.8686783906716138\n",
      "task <class 'POMDPgame_basic.GameBasic'>\n",
      "basic\n",
      "basic performance 0.849523510785575\n",
      "task <class 'POMDPgame_basic.GameBasic'>\n",
      "basic\n",
      "basic performance 0.8861887885139773\n",
      "task <class 'POMDPgame_basic.GameBasic'>\n",
      "basic\n",
      "basic performance 0.898454021021649\n",
      "task <class 'POMDPgame_basic.GameBasic'>\n",
      "basic\n",
      "basic performance 0.8718607602422521\n",
      "task <class 'POMDPgame_basic.GameBasic'>\n",
      "basic\n",
      "basic performance 0.8853666598621834\n"
     ]
    }
   ],
   "source": [
    "trial = 0\n",
    "# iterations = [1, 1, 1, 1, 1, 1, 1]trial = 559\n",
    "task = 'basic'\n",
    "iterations = np.arange(0, 190, 5)\n",
    "# iterations = [1, 1, 1, 1, 1, 1, 1]\n",
    "Scores = np.zeros(50)\n",
    "i = 0\n",
    "for i, iters in enumerate(iterations):\n",
    "        Task =  MultipleTasks(task = task, weight_write = 'weights_cpu/rnn_1515tanh512_checkpoint{}'.format(trial), gpu = 1)\n",
    "        weight_read = 'weights_' + task + '/rnn_1515tanh512_checkpoint{}_{}'.format(trial, iters)\n",
    "        if task == 'scale':\n",
    "            score = Test(task, Task.game, weight = weight_read, size = 50, test_size = 2, limit_set = 4)\n",
    "        elif (task == 'scale_x') or (task == 'scale_y'):\n",
    "            score = Test(task, Task.game, weight = weight_read, test_size = 1, limit_set = 4)\n",
    "        else:\n",
    "            score = Test(task, Task.game, weight = weight_read)\n",
    "        Scores[i]= score"
   ]
  },
  {
   "cell_type": "code",
   "execution_count": 3,
   "metadata": {},
   "outputs": [
    {
     "name": "stdout",
     "output_type": "stream",
     "text": [
      "task <class 'POMDPgame_bars.GameBar'>\n",
      "bar\n",
      "bar performance -0.9080167281464805\n",
      "task <class 'POMDPgame_bars.GameBar'>\n",
      "bar\n",
      "bar performance -0.9073445767195767\n",
      "task <class 'POMDPgame_bars.GameBar'>\n",
      "bar\n",
      "bar performance -0.5540848742728868\n",
      "task <class 'POMDPgame_bars.GameBar'>\n",
      "bar\n",
      "bar performance -0.30932482876326134\n",
      "task <class 'POMDPgame_bars.GameBar'>\n",
      "bar\n",
      "bar performance -0.37675980137649806\n",
      "task <class 'POMDPgame_bars.GameBar'>\n",
      "bar\n",
      "bar performance -0.42606768064690376\n",
      "task <class 'POMDPgame_bars.GameBar'>\n",
      "bar\n",
      "bar performance -0.559067083710157\n",
      "task <class 'POMDPgame_bars.GameBar'>\n",
      "bar\n",
      "bar performance 0.08519908819486563\n",
      "task <class 'POMDPgame_bars.GameBar'>\n",
      "bar\n",
      "bar performance -0.5779015696843623\n",
      "task <class 'POMDPgame_bars.GameBar'>\n",
      "bar\n",
      "bar performance -0.24554834735142883\n",
      "task <class 'POMDPgame_bars.GameBar'>\n",
      "bar\n",
      "bar performance -0.271726407684617\n",
      "task <class 'POMDPgame_bars.GameBar'>\n",
      "bar\n",
      "bar performance -0.03773876200901509\n",
      "task <class 'POMDPgame_bars.GameBar'>\n",
      "bar\n",
      "bar performance -0.3030317734494602\n",
      "task <class 'POMDPgame_bars.GameBar'>\n",
      "bar\n",
      "bar performance -0.4091913007525774\n",
      "task <class 'POMDPgame_bars.GameBar'>\n",
      "bar\n",
      "bar performance -0.12167279182621313\n",
      "task <class 'POMDPgame_bars.GameBar'>\n",
      "bar\n",
      "bar performance -0.06212568325039932\n",
      "task <class 'POMDPgame_bars.GameBar'>\n",
      "bar\n",
      "bar performance -0.16999473794866776\n",
      "task <class 'POMDPgame_bars.GameBar'>\n",
      "bar\n",
      "bar performance 0.11591233465310241\n",
      "task <class 'POMDPgame_bars.GameBar'>\n",
      "bar\n",
      "bar performance 0.04410582777975415\n",
      "task <class 'POMDPgame_bars.GameBar'>\n",
      "bar\n",
      "bar performance 0.00490853440778069\n",
      "task <class 'POMDPgame_bars.GameBar'>\n",
      "bar\n",
      "bar performance 0.1063948882521025\n",
      "task <class 'POMDPgame_bars.GameBar'>\n",
      "bar\n",
      "bar performance -0.00875063530506126\n",
      "task <class 'POMDPgame_bars.GameBar'>\n",
      "bar\n",
      "bar performance -0.00014757620258443183\n",
      "task <class 'POMDPgame_bars.GameBar'>\n",
      "bar\n",
      "bar performance 0.1654770243842104\n",
      "task <class 'POMDPgame_bars.GameBar'>\n",
      "bar\n",
      "bar performance 0.30219344498747197\n",
      "task <class 'POMDPgame_bars.GameBar'>\n",
      "bar\n",
      "bar performance 0.2667166098828086\n",
      "task <class 'POMDPgame_bars.GameBar'>\n",
      "bar\n",
      "bar performance 0.18116810673071582\n",
      "task <class 'POMDPgame_bars.GameBar'>\n",
      "bar\n",
      "bar performance 0.08286284460601501\n",
      "task <class 'POMDPgame_bars.GameBar'>\n",
      "bar\n",
      "bar performance 0.05908218994987467\n",
      "task <class 'POMDPgame_bars.GameBar'>\n",
      "bar\n",
      "bar performance 0.2942914649685865\n",
      "task <class 'POMDPgame_bars.GameBar'>\n",
      "bar\n",
      "bar performance 0.28456616547890906\n",
      "task <class 'POMDPgame_bars.GameBar'>\n",
      "bar\n",
      "bar performance 0.3513994018569825\n",
      "task <class 'POMDPgame_bars.GameBar'>\n",
      "bar\n",
      "bar performance 0.296614824879712\n",
      "task <class 'POMDPgame_bars.GameBar'>\n",
      "bar\n",
      "bar performance 0.3410391658662558\n",
      "task <class 'POMDPgame_bars.GameBar'>\n",
      "bar\n",
      "bar performance 0.254920537128669\n",
      "task <class 'POMDPgame_bars.GameBar'>\n",
      "bar\n",
      "bar performance 0.23943603089079832\n",
      "task <class 'POMDPgame_bars.GameBar'>\n",
      "bar\n",
      "bar performance 0.22607024787019864\n",
      "task <class 'POMDPgame_bars.GameBar'>\n",
      "bar\n",
      "bar performance 0.31234845456613397\n",
      "task <class 'POMDPgame_bars.GameBar'>\n",
      "bar\n",
      "bar performance 0.27764068966183464\n",
      "task <class 'POMDPgame_bars.GameBar'>\n",
      "bar\n",
      "bar performance 0.2065832792271069\n"
     ]
    }
   ],
   "source": [
    "# attention gpu number,  once load weight, the initialized gpu should fit the load gpu \n",
    "trial = 0\n",
    "# iterations = [1, 1, 1, 1, 1, 1, 1]trial = 559\n",
    "task = 'bar'\n",
    "iterations =  np.arange(0, 200, 5)\n",
    "# iterations = [1, 1, 1, 1, 1, 1, 1]\n",
    "Scores = np.zeros(50)\n",
    "i = 0\n",
    "for i, iters in enumerate(iterations):\n",
    "        Task =  MultipleTasks(task = task, weight_write = 'weights_cpu/rnn_1515tanh512_checkpoint{}'.format(trial), gpu = 0)\n",
    "        weight_read = 'weights_' + task + '/rnn_1515tanh512_checkpoint{}_{}'.format(trial, iters)\n",
    "        score = Test(task, Task.game, weight = weight_read)\n",
    "        Scores[i]= score"
   ]
  },
  {
   "cell_type": "code",
   "execution_count": null,
   "metadata": {},
   "outputs": [
    {
     "name": "stdout",
     "output_type": "stream",
     "text": [
      "task <class 'POMDPgame_holes.GameHole'>\n",
      "hole\n"
     ]
    },
    {
     "name": "stderr",
     "output_type": "stream",
     "text": [
      "/home/tie/.conda/envs/torch/lib/python3.7/site-packages/torch/tensor.py:293: UserWarning: non-inplace resize is deprecated\n",
      "  warnings.warn(\"non-inplace resize is deprecated\")\n"
     ]
    },
    {
     "name": "stdout",
     "output_type": "stream",
     "text": [
      "hole performance -0.8189462673687308\n",
      "task <class 'POMDPgame_holes.GameHole'>\n",
      "hole\n",
      "hole performance -0.7934678709680465\n",
      "task <class 'POMDPgame_holes.GameHole'>\n",
      "hole\n",
      "hole performance -0.6129074403040551\n",
      "task <class 'POMDPgame_holes.GameHole'>\n",
      "hole\n",
      "hole performance -0.2567525987315771\n",
      "task <class 'POMDPgame_holes.GameHole'>\n",
      "hole\n",
      "hole performance -0.32072987648490703\n",
      "task <class 'POMDPgame_holes.GameHole'>\n",
      "hole\n",
      "hole performance 0.069064902533893\n",
      "task <class 'POMDPgame_holes.GameHole'>\n",
      "hole\n",
      "hole performance 0.01531991200931869\n",
      "task <class 'POMDPgame_holes.GameHole'>\n",
      "hole\n",
      "hole performance -0.028088306519465783\n",
      "task <class 'POMDPgame_holes.GameHole'>\n",
      "hole\n",
      "hole performance -0.13036213945008127\n",
      "task <class 'POMDPgame_holes.GameHole'>\n",
      "hole\n",
      "hole performance 0.11651781139920961\n",
      "task <class 'POMDPgame_holes.GameHole'>\n",
      "hole\n",
      "hole performance 0.05242403630518379\n",
      "task <class 'POMDPgame_holes.GameHole'>\n",
      "hole\n",
      "hole performance -0.007086458302360488\n",
      "task <class 'POMDPgame_holes.GameHole'>\n",
      "hole\n",
      "hole performance 0.0067486203594899485\n",
      "task <class 'POMDPgame_holes.GameHole'>\n",
      "hole\n",
      "hole performance -0.05219157157937909\n",
      "task <class 'POMDPgame_holes.GameHole'>\n",
      "hole\n",
      "hole performance 0.14205944261611397\n",
      "task <class 'POMDPgame_holes.GameHole'>\n",
      "hole\n",
      "hole performance 0.1461501153857004\n",
      "task <class 'POMDPgame_holes.GameHole'>\n",
      "hole\n",
      "hole performance 0.1500160727968407\n",
      "task <class 'POMDPgame_holes.GameHole'>\n",
      "hole\n",
      "hole performance -0.014523501139367803\n",
      "task <class 'POMDPgame_holes.GameHole'>\n",
      "hole\n",
      "hole performance -0.04774719039276856\n",
      "task <class 'POMDPgame_holes.GameHole'>\n",
      "hole\n",
      "hole performance 0.04224629302599629\n",
      "task <class 'POMDPgame_holes.GameHole'>\n",
      "hole\n",
      "hole performance 0.008037825039308222\n",
      "task <class 'POMDPgame_holes.GameHole'>\n",
      "hole\n",
      "hole performance 0.005490279194247855\n",
      "task <class 'POMDPgame_holes.GameHole'>\n",
      "hole\n",
      "hole performance 0.09559776522972763\n",
      "task <class 'POMDPgame_holes.GameHole'>\n",
      "hole\n",
      "hole performance 0.0873568586272184\n",
      "task <class 'POMDPgame_holes.GameHole'>\n",
      "hole\n",
      "hole performance 0.21553020715692478\n",
      "task <class 'POMDPgame_holes.GameHole'>\n",
      "hole\n",
      "hole performance 0.3757640249495209\n",
      "task <class 'POMDPgame_holes.GameHole'>\n",
      "hole\n",
      "hole performance 0.4398911476717624\n",
      "task <class 'POMDPgame_holes.GameHole'>\n",
      "hole\n",
      "hole performance 0.4995265157255485\n",
      "task <class 'POMDPgame_holes.GameHole'>\n",
      "hole\n",
      "hole performance 0.4729838756088317\n",
      "task <class 'POMDPgame_holes.GameHole'>\n",
      "hole\n",
      "hole performance 0.5421501867226004\n",
      "task <class 'POMDPgame_holes.GameHole'>\n",
      "hole\n",
      "hole performance 0.5988958416827166\n",
      "task <class 'POMDPgame_holes.GameHole'>\n",
      "hole\n",
      "hole performance 0.5504247382792705\n",
      "task <class 'POMDPgame_holes.GameHole'>\n",
      "hole\n",
      "hole performance 0.5980430562265331\n",
      "task <class 'POMDPgame_holes.GameHole'>\n",
      "hole\n",
      "hole performance 0.602969910940226\n",
      "task <class 'POMDPgame_holes.GameHole'>\n",
      "hole\n",
      "hole performance 0.5630017098445363\n",
      "task <class 'POMDPgame_holes.GameHole'>\n",
      "hole\n",
      "hole performance 0.4753432584864028\n",
      "task <class 'POMDPgame_holes.GameHole'>\n",
      "hole\n",
      "hole performance 0.3890778884558149\n",
      "task <class 'POMDPgame_holes.GameHole'>\n",
      "hole\n",
      "hole performance 0.3578248066874064\n",
      "task <class 'POMDPgame_holes.GameHole'>\n",
      "hole\n"
     ]
    }
   ],
   "source": [
    "# attention gpu number,  once load weight, the initialized gpu should fit the load gpu \n",
    "trial = 0\n",
    "# iterations = [1, 1, 1, 1, 1, 1, 1]trial = 559\n",
    "task = 'hole'\n",
    "iterations =  np.arange(0, 201, 5)\n",
    "# iterations = [1, 1, 1, 1, 1, 1, 1]\n",
    "Scores = np.zeros(50)\n",
    "i = 0\n",
    "for i, iters in enumerate(iterations):\n",
    "        Task =  MultipleTasks(task = task, weight_write = 'weights_cpu/rnn_1515tanh512_checkpoint{}'.format(trial), gpu = 0)\n",
    "        weight_read = 'weights_' + task + '/rnn_1515tanh512_checkpoint{}_{}'.format(trial, iters)\n",
    "        score = Test(task, Task.game, weight = weight_read)\n",
    "        Scores[i]= score"
   ]
  },
  {
   "cell_type": "code",
   "execution_count": 4,
   "metadata": {},
   "outputs": [
    {
     "ename": "NameError",
     "evalue": "name 'Scores' is not defined",
     "output_type": "error",
     "traceback": [
      "\u001b[0;31m---------------------------------------------------------------------------\u001b[0m",
      "\u001b[0;31mNameError\u001b[0m                                 Traceback (most recent call last)",
      "\u001b[0;32m<ipython-input-4-6afe8df3ae5b>\u001b[0m in \u001b[0;36m<module>\u001b[0;34m\u001b[0m\n\u001b[0;32m----> 1\u001b[0;31m \u001b[0mScores\u001b[0m\u001b[0;34m\u001b[0m\u001b[0;34m\u001b[0m\u001b[0m\n\u001b[0m",
      "\u001b[0;31mNameError\u001b[0m: name 'Scores' is not defined"
     ]
    }
   ],
   "source": [
    "Scores"
   ]
  },
  {
   "cell_type": "markdown",
   "metadata": {},
   "source": [
    "task = 'bar'\n",
    "weight = torch.load('weights_' + task + '/rnn_1515tanh512_checkpoint{}_{}'.format(0, 0))\n",
    "Task =  MultipleTasks(task = task, weight_write = 'weights_cpu/rnn_1515tanh512_checkpoint{}'.format(0), gpu = 0)\n",
    "# Task.game.net.load_state_dict(weight)\n",
    "score = Test(task, Task.game, weight = 'weights_' + task + '/rnn_1515tanh512_checkpoint{}_{}'.format(0, 0))\n",
    "weight"
   ]
  },
  {
   "cell_type": "code",
   "execution_count": 4,
   "metadata": {},
   "outputs": [],
   "source": [
    "np.save('scores_bar_rls_full', Scores)"
   ]
  },
  {
   "cell_type": "markdown",
   "metadata": {},
   "source": [
    "### measure decoding "
   ]
  },
  {
   "cell_type": "markdown",
   "metadata": {},
   "source": [
    "Decoding accuracy decreases, there are two possible reasons: \n",
    "1, decoding has bias,  information of position is only refleted by decoding, if there is certain bias , it is not trustable\n",
    "2, it is the real measure of information, so there are less spatial information about space, or an effect decoupling/disentanglement of position. This can be due the network succeed at finding an even lower diemnsion object which gives successful performance.  The representation deceases its information to input in a sense. \n",
    "\n",
    "This can be linked to receptive field by looking at how space is represented. "
   ]
  },
  {
   "cell_type": "code",
   "execution_count": null,
   "metadata": {},
   "outputs": [],
   "source": []
  }
 ],
 "metadata": {
  "anaconda-cloud": {},
  "kernelspec": {
   "display_name": "Python 3",
   "language": "python",
   "name": "python3"
  },
  "language_info": {
   "codemirror_mode": {
    "name": "ipython",
    "version": 3
   },
   "file_extension": ".py",
   "mimetype": "text/x-python",
   "name": "python",
   "nbconvert_exporter": "python",
   "pygments_lexer": "ipython3",
   "version": "3.7.4"
  },
  "latex_envs": {
   "LaTeX_envs_menu_present": true,
   "autoclose": false,
   "autocomplete": true,
   "bibliofile": "biblio.bib",
   "cite_by": "apalike",
   "current_citInitial": 1,
   "eqLabelWithNumbers": true,
   "eqNumInitial": 1,
   "hotkeys": {
    "equation": "Ctrl-E",
    "itemize": "Ctrl-I"
   },
   "labels_anchors": false,
   "latex_user_defs": false,
   "report_style_numbering": false,
   "user_envs_cfg": false
  },
  "toc": {
   "nav_menu": {},
   "number_sections": true,
   "sideBar": true,
   "skip_h1_title": false,
   "title_cell": "Table of Contents",
   "title_sidebar": "Contents",
   "toc_cell": true,
   "toc_position": {
    "height": "759px",
    "left": "0px",
    "right": "1228px",
    "top": "67px",
    "width": "212px"
   },
   "toc_section_display": "block",
   "toc_window_display": true
  },
  "varInspector": {
   "cols": {
    "lenName": 16,
    "lenType": 16,
    "lenVar": 40
   },
   "kernels_config": {
    "python": {
     "delete_cmd_postfix": "",
     "delete_cmd_prefix": "del ",
     "library": "var_list.py",
     "varRefreshCmd": "print(var_dic_list())"
    },
    "r": {
     "delete_cmd_postfix": ") ",
     "delete_cmd_prefix": "rm(",
     "library": "var_list.r",
     "varRefreshCmd": "cat(var_dic_list()) "
    }
   },
   "types_to_exclude": [
    "module",
    "function",
    "builtin_function_or_method",
    "instance",
    "_Feature"
   ],
   "window_display": false
  }
 },
 "nbformat": 4,
 "nbformat_minor": 4
}
