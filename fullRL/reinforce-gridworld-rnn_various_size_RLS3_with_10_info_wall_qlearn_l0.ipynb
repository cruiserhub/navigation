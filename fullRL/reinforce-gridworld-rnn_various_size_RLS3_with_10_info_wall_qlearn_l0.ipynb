{
 "cells": [
  {
   "cell_type": "markdown",
   "metadata": {
    "toc": "true"
   },
   "source": [
    "<h1>Table of Contents<span class=\"tocSkip\"></span></h1>\n",
    "<div class=\"toc\"><ul class=\"toc-item\"><li><span><a href=\"#quick-start\" data-toc-modified-id=\"quick-start-1\"><span class=\"toc-item-num\">1&nbsp;&nbsp;</span>quick start</a></span><ul class=\"toc-item\"><li><span><a href=\"#Resources\" data-toc-modified-id=\"Resources-1.1\"><span class=\"toc-item-num\">1.1&nbsp;&nbsp;</span>Resources</a></span></li></ul></li><li><span><a href=\"#FULL-MODEL\" data-toc-modified-id=\"FULL-MODEL-2\"><span class=\"toc-item-num\">2&nbsp;&nbsp;</span>FULL MODEL</a></span><ul class=\"toc-item\"><li><span><a href=\"#Packages\" data-toc-modified-id=\"Packages-2.1\"><span class=\"toc-item-num\">2.1&nbsp;&nbsp;</span>Packages</a></span><ul class=\"toc-item\"><li><span><a href=\"#Qnetwork\" data-toc-modified-id=\"Qnetwork-2.1.1\"><span class=\"toc-item-num\">2.1.1&nbsp;&nbsp;</span>Qnetwork</a></span></li></ul></li><li><span><a href=\"#POMDP-RNN-Game\" data-toc-modified-id=\"POMDP-RNN-Game-2.2\"><span class=\"toc-item-num\">2.2&nbsp;&nbsp;</span>POMDP RNN Game</a></span></li><li><span><a href=\"#Results\" data-toc-modified-id=\"Results-2.3\"><span class=\"toc-item-num\">2.3&nbsp;&nbsp;</span>Results</a></span><ul class=\"toc-item\"><li><span><a href=\"#Standard-setting：-grid-=--(3,7)，-holes-=-0\" data-toc-modified-id=\"Standard-setting：-grid-=--(3,7)，-holes-=-0-2.3.1\"><span class=\"toc-item-num\">2.3.1&nbsp;&nbsp;</span>Standard setting： grid =  (3,7)， holes = 0</a></span></li><li><span><a href=\"#Model-Tranining\" data-toc-modified-id=\"Model-Tranining-2.3.2\"><span class=\"toc-item-num\">2.3.2&nbsp;&nbsp;</span>Model Tranining</a></span></li><li><span><a href=\"#decoding-vs-performance\" data-toc-modified-id=\"decoding-vs-performance-2.3.3\"><span class=\"toc-item-num\">2.3.3&nbsp;&nbsp;</span>decoding vs performance</a></span></li><li><span><a href=\"#learning-rate-vs-performance\" data-toc-modified-id=\"learning-rate-vs-performance-2.3.4\"><span class=\"toc-item-num\">2.3.4&nbsp;&nbsp;</span>learning rate vs performance</a></span></li><li><span><a href=\"#Summary\" data-toc-modified-id=\"Summary-2.3.5\"><span class=\"toc-item-num\">2.3.5&nbsp;&nbsp;</span>Summary</a></span></li><li><span><a href=\"#Anlytic-part-,-check-the-behaviour-correspond-to-each-decoding-level-and-explain-why\" data-toc-modified-id=\"Anlytic-part-,-check-the-behaviour-correspond-to-each-decoding-level-and-explain-why-2.3.6\"><span class=\"toc-item-num\">2.3.6&nbsp;&nbsp;</span>Anlytic part , check the behaviour correspond to each decoding level and explain why</a></span></li></ul></li><li><span><a href=\"#PCA\" data-toc-modified-id=\"PCA-2.4\"><span class=\"toc-item-num\">2.4&nbsp;&nbsp;</span>PCA</a></span></li></ul></li></ul></div>"
   ]
  },
  {
   "cell_type": "markdown",
   "metadata": {},
   "source": [
    "# quick start "
   ]
  },
  {
   "cell_type": "markdown",
   "metadata": {},
   "source": [
    "No information on wall, this very nature case which needs the exploration, try to see its relation of generalization to performance "
   ]
  },
  {
   "cell_type": "markdown",
   "metadata": {},
   "source": [
    "## Resources\n",
    "\n",
    "* [*The* Reinforcement learning book from Sutton & Barto](http://incompleteideas.net/sutton/book/the-book-2nd.html)\n",
    "* [The REINFORCE paper from Ronald J. Williams (1992)](http://www-anw.cs.umass.edu/~barto/courses/cs687/williams92simple.pdf)\n"
   ]
  },
  {
   "cell_type": "markdown",
   "metadata": {},
   "source": [
    "# FULL MODEL"
   ]
  },
  {
   "cell_type": "markdown",
   "metadata": {},
   "source": [
    "## Packages"
   ]
  },
  {
   "cell_type": "code",
   "execution_count": 2,
   "metadata": {},
   "outputs": [
    {
     "name": "stdout",
     "output_type": "stream",
     "text": [
      "The autoreload extension is already loaded. To reload it, use:\n",
      "  %reload_ext autoreload\n",
      "Populating the interactive namespace from numpy and matplotlib\n"
     ]
    },
    {
     "name": "stderr",
     "output_type": "stream",
     "text": [
      "/home/tie/anaconda3/lib/python3.6/site-packages/IPython/core/magics/pylab.py:160: UserWarning: pylab import has clobbered these variables: ['random']\n",
      "`%matplotlib` prevents importing * from pylab and numpy\n",
      "  \"\\n`%matplotlib` prevents importing * from pylab and numpy\"\n"
     ]
    }
   ],
   "source": [
    "%load_ext autoreload\n",
    "%autoreload 2\n",
    "\n",
    "import numpy as np\n",
    "from itertools import count\n",
    "import random\n",
    "\n",
    "import torch\n",
    "import torch.nn as nn\n",
    "import torch.nn.functional as F\n",
    "import torch.optim as optim\n",
    "import torch.autograd as autograd\n",
    "from torch.autograd import Variable\n",
    "from torch.nn import init\n",
    "from torch.nn import DataParallel\n",
    "from torch.utils.data import DataLoader\n",
    "\n",
    "import matplotlib.mlab as mlab\n",
    "import matplotlib.pyplot as plt\n",
    "import matplotlib.animation\n",
    "import seaborn as sns\n",
    "from IPython.display import HTML\n",
    "\n",
    "import pretrain\n",
    "from pretrain import *\n",
    "\n",
    "import navigation2\n",
    "from navigation2 import *\n",
    "\n",
    "import Nets \n",
    "from Nets import * \n",
    "\n",
    "%pylab inline\n",
    "import warnings\n",
    "warnings.filterwarnings('ignore')"
   ]
  },
  {
   "cell_type": "markdown",
   "metadata": {},
   "source": [
    "### Qnetwork\n",
    "\n",
    "To select actions we take maximum of Q value, corresponding to certain move."
   ]
  },
  {
   "cell_type": "markdown",
   "metadata": {},
   "source": [
    "For the liquid state approach to work, you need a lot of neurons as surplus or enough hidden to hidden connectivity to make it have an effect."
   ]
  },
  {
   "cell_type": "markdown",
   "metadata": {},
   "source": [
    "##  POMDP RNN Game\n",
    "\n",
    "In this game , we use a new reward function determined by game, if the agent achieves the goal before 50, reward is 1. If time pass 50 reward is 0.5, once time pass 100 agent gets a reward of -0.5 .  Practically, this is found to be easier to learn than the rewards as a continous function of time.  Tf the agent learns to search in a efficient way, the largest possible way for search is to firstly arrive at corner then goes to the goal, which, takes about 50 steps, it is reasonble to make 50 and 100 as milestone thing.  Also in principe as the game doesn't have a timer , it is not if it can use a reward as funtion of time"
   ]
  },
  {
   "cell_type": "markdown",
   "metadata": {},
   "source": [
    "3 condition for ending , when pass time limit, game over"
   ]
  },
  {
   "cell_type": "markdown",
   "metadata": {},
   "source": [
    "For weight update, it seems to be better do it after episode, as it makes non-sense evaluate strategy during episode, but a the end. Also, it is much quicker. "
   ]
  },
  {
   "cell_type": "markdown",
   "metadata": {},
   "source": [
    "A programming of MDP here, hidden state is as state of enviroment"
   ]
  },
  {
   "cell_type": "code",
   "execution_count": 3,
   "metadata": {},
   "outputs": [],
   "source": [
    "pregame = PretrainGame(grid_size = (15, 15), holes = 0, random_seed = 4 , set_reward = [(0.5, 0.25), (0.5, 0.75)])\n",
    "pregame.reset(set_agent=(2,2))\n",
    "# rls_q = RLS(1)\n",
    "# rls_sl = RLS(1)\n",
    "# for i in range(1):\n",
    "#     pregame.fulltrain(trials = 4)\n",
    "    "
   ]
  },
  {
   "cell_type": "code",
   "execution_count": 4,
   "metadata": {},
   "outputs": [],
   "source": [
    "game = ValueMaxGame(pregame.net, grid_size = (15, 15), holes = 0, random_seed = 4 , set_reward =  [(0.5, 0.25), (0.5, 0.75)])\n",
    "game.reset()\n",
    "# game.experiment(rls_q, rls_sl, 20, epsilon = 0.5, lr = 1e-3, train_hidden = False, train_q = False) "
   ]
  },
  {
   "cell_type": "code",
   "execution_count": 5,
   "metadata": {},
   "outputs": [
    {
     "data": {
      "text/plain": [
       "<matplotlib.image.AxesImage at 0x7fd65d902940>"
      ]
     },
     "execution_count": 5,
     "metadata": {},
     "output_type": "execute_result"
    },
    {
     "data": {
      "image/png": "[encoded data removed]",
      "text/plain": [
       "<matplotlib.figure.Figure at 0x7fd6d0be42b0>"
      ]
     },
     "metadata": {},
     "output_type": "display_data"
    }
   ],
   "source": [
    "plt.matshow(game.grid.grid)\n",
    "# plt.savefig('g16h3-map')"
   ]
  },
  {
   "cell_type": "markdown",
   "metadata": {},
   "source": [
    "## Model Tranining \n",
    "Pretranining is done with fixed size 15,  training is between 10 to 15, test on 19 "
   ]
  },
  {
   "cell_type": "markdown",
   "metadata": {},
   "source": [
    "Training from zero seems to be better because it will allow the agent to explore from new"
   ]
  },
  {
   "cell_type": "code",
   "execution_count": null,
   "metadata": {},
   "outputs": [
    {
     "name": "stdout",
     "output_type": "stream",
     "text": [
      "loss tensor(166.5045)\n",
      "loss tensor(163.5629)\n",
      "loss tensor(160.5409)\n",
      "loss tensor(157.9248)\n",
      "loss tensor(155.2760)\n",
      "loss tensor(152.9807)\n",
      "loss tensor(150.9620)\n",
      "loss tensor(149.0328)\n",
      "loss tensor(147.2031)\n",
      "loss tensor(145.5330)\n",
      "clear session data 3085627392\n",
      "0 rewards -0.6464285387519083\n",
      "loss tensor(49.2710)\n",
      "loss tensor(44.5480)\n",
      "loss tensor(40.3745)\n",
      "loss tensor(38.0230)\n",
      "loss tensor(36.7377)\n",
      "loss tensor(35.8545)\n",
      "loss tensor(35.3594)\n",
      "loss tensor(35.4481)\n",
      "loss tensor(35.9709)\n",
      "loss tensor(36.5631)\n",
      "clear session data 3085627392\n",
      "1 rewards -0.39123458759226215\n",
      "loss tensor(13.7637)\n",
      "loss tensor(12.1265)\n",
      "loss tensor(10.8914)\n",
      "loss tensor(11.2166)\n",
      "loss tensor(11.1819)\n",
      "loss tensor(10.8584)\n",
      "loss tensor(10.7007)\n",
      "loss tensor(10.6620)\n",
      "loss tensor(10.6088)\n",
      "loss tensor(10.5343)\n",
      "clear session data 3085627392\n",
      "2 rewards -0.75\n",
      "loss tensor(52.7344)\n",
      "loss tensor(44.8569)\n",
      "loss tensor(40.7082)\n",
      "loss tensor(38.3150)\n",
      "loss tensor(36.4892)\n",
      "loss tensor(34.6011)\n",
      "loss tensor(32.5401)\n",
      "loss tensor(30.4310)\n",
      "loss tensor(28.4546)\n",
      "loss tensor(26.7751)\n",
      "clear session data 3085627392\n",
      "3 rewards -0.671875\n",
      "loss tensor(28.9224)\n",
      "loss tensor(23.2903)\n",
      "loss tensor(20.4615)\n",
      "loss tensor(19.4464)\n",
      "loss tensor(18.7419)\n",
      "loss tensor(17.9242)\n",
      "loss tensor(17.1609)\n",
      "loss tensor(16.5325)\n",
      "loss tensor(16.0360)\n",
      "loss tensor(15.6984)\n",
      "clear session data 3085627392\n",
      "4 rewards -0.3891507339764462\n",
      "loss tensor(4.7019)\n",
      "loss tensor(5.2323)\n",
      "loss tensor(4.8866)\n",
      "loss tensor(4.6369)\n",
      "loss tensor(4.8584)\n",
      "loss tensor(4.7954)\n",
      "loss tensor(4.4555)\n",
      "loss tensor(4.4041)\n",
      "loss tensor(4.6590)\n",
      "loss tensor(4.6853)\n",
      "clear session data 3085627392\n",
      "5 rewards -0.40733902653149834\n",
      "loss tensor(4.9062)\n",
      "loss tensor(4.9396)\n",
      "loss tensor(4.5944)\n",
      "loss tensor(4.6209)\n",
      "loss tensor(4.6696)\n",
      "loss tensor(4.6061)\n",
      "loss tensor(4.5365)\n",
      "loss tensor(4.5010)\n",
      "loss tensor(4.4602)\n",
      "loss tensor(4.4165)\n",
      "clear session data 3085627392\n",
      "6 rewards -0.4854650337175008\n",
      "loss tensor(7.6980)\n",
      "loss tensor(7.1212)\n",
      "loss tensor(6.8049)\n",
      "loss tensor(6.7741)\n",
      "loss tensor(6.6815)\n",
      "loss tensor(6.5654)\n",
      "loss tensor(6.5292)\n",
      "loss tensor(6.4545)\n",
      "loss tensor(6.3267)\n",
      "loss tensor(6.2058)\n",
      "clear session data 3085627392\n",
      "7 rewards -0.5355731036777233\n",
      "loss tensor(8.0407)\n",
      "loss tensor(7.6036)\n",
      "loss tensor(7.4388)\n",
      "loss tensor(7.1290)\n",
      "loss tensor(6.8475)\n",
      "loss tensor(6.6629)\n",
      "loss tensor(6.5768)\n",
      "loss tensor(6.5399)\n",
      "loss tensor(6.4931)\n",
      "loss tensor(6.4475)\n",
      "clear session data 3085627392\n",
      "8 rewards -0.10121480809408329\n",
      "loss tensor(6.6242)\n",
      "loss tensor(6.1439)\n",
      "loss tensor(5.9361)\n",
      "loss tensor(5.9043)\n",
      "loss tensor(5.8442)\n",
      "loss tensor(5.7601)\n",
      "loss tensor(5.7067)\n",
      "loss tensor(5.6780)\n",
      "loss tensor(5.6440)\n",
      "loss tensor(5.5965)\n",
      "clear session data 3085627392\n",
      "9 rewards -0.04243473410768668\n",
      "loss tensor(9.3779)\n",
      "loss tensor(9.3323)\n",
      "loss tensor(9.1404)\n",
      "loss tensor(8.9775)\n",
      "loss tensor(8.8484)\n",
      "loss tensor(8.7297)\n",
      "loss tensor(8.6561)\n",
      "loss tensor(8.6151)\n",
      "loss tensor(8.5514)\n",
      "loss tensor(8.4373)\n",
      "clear session data 3085627392\n",
      "10 rewards 0.037307728971428394\n",
      "loss tensor(9.9788)\n",
      "loss tensor(9.6027)\n",
      "loss tensor(9.3089)\n",
      "loss tensor(9.1274)\n",
      "loss tensor(9.0014)\n",
      "loss tensor(8.9263)\n",
      "loss tensor(8.8972)\n",
      "loss tensor(8.8773)\n",
      "loss tensor(8.8282)\n",
      "loss tensor(8.7457)\n",
      "clear session data 3085627392\n",
      "11 rewards 0.21415455068402955\n",
      "loss tensor(6.5572)\n",
      "loss tensor(6.5138)\n",
      "loss tensor(6.3705)\n",
      "loss tensor(6.2441)\n",
      "loss tensor(6.1756)\n",
      "loss tensor(6.1161)\n",
      "loss tensor(6.0745)\n",
      "loss tensor(6.0175)\n",
      "loss tensor(5.9358)\n",
      "loss tensor(5.8624)\n",
      "clear session data 3085627392\n",
      "12 rewards 0.0881402835037346\n",
      "loss tensor(10.9585)\n",
      "loss tensor(10.5200)\n",
      "loss tensor(10.2534)\n",
      "loss tensor(10.0861)\n",
      "loss tensor(9.9711)\n",
      "loss tensor(9.8676)\n",
      "loss tensor(9.7746)\n",
      "loss tensor(9.6727)\n",
      "loss tensor(9.5632)\n",
      "loss tensor(9.4508)\n",
      "clear session data 3085627392\n",
      "13 rewards 0.09905719991458373\n",
      "loss tensor(7.8763)\n",
      "loss tensor(7.5470)\n",
      "loss tensor(7.2717)\n",
      "loss tensor(7.0971)\n",
      "loss tensor(6.9790)\n",
      "loss tensor(6.9014)\n",
      "loss tensor(6.8434)\n",
      "loss tensor(6.7848)\n",
      "loss tensor(6.7101)\n",
      "loss tensor(6.6317)\n",
      "clear session data 3085627392\n",
      "14 rewards 0.29836843382910194\n",
      "loss tensor(8.1983)\n"
     ]
    }
   ],
   "source": [
    "Pretest =  PretrainTest(holes = 0, weight_write = 'weights_cpu/rnn_1515tanh512_checkpoint{}'.format(0))\n",
    "weight_read = Pretest.weight\n",
    "weight_write = 'weights2/rnn_1515tanh512_checkpoint{}_{}'.format(0, 0)\n",
    "rewards = Pretest.qlearn(weight_write, iterations = 50, noise = 0.0, size_train = [15], size_test=[15])\n"
   ]
  },
  {
   "cell_type": "code",
   "execution_count": null,
   "metadata": {},
   "outputs": [
    {
     "name": "stdout",
     "output_type": "stream",
     "text": [
      "clear session data 49 6494257152\n",
      "0 rewards (0.65636478758169936, -0.60744100493960507)\n",
      "clear session data 49 6494359552\n",
      "1 rewards (0.78438996388028892, -0.68233885533788063)\n",
      "clear session data 49 8837349376\n",
      "2 rewards (0.86496527777777776, -0.62422073352750762)\n",
      "clear session data 49 8837775360\n",
      "3 rewards (0.93840277777777781, -0.67579832437450782)\n",
      "clear session data 49 8837775360\n",
      "4 rewards (0.92827083333333338, -0.63412211313180222)\n",
      "clear session data 49 8837513216\n",
      "5 rewards (0.80653618421052631, -0.59335437887788767)\n",
      "clear session data 49 8837775360\n",
      "6 rewards (0.95729961622807025, -0.58738728005862639)\n",
      "clear session data 49 8837775360\n",
      "7 rewards (0.98776315789473679, -0.63512413957125502)\n",
      "clear session data 49 8837775360\n",
      "8 rewards (0.89785197368421055, -0.66437639333376675)\n",
      "clear session data 49 8837775360\n",
      "9 rewards (0.90398326775885796, -0.65900525222640605)\n",
      "clear session data 49 8837775360\n",
      "0 rewards (0.85949107142857151, -0.64164788252517924)\n",
      "clear session data 49 8837775360\n",
      "1 rewards (0.91624908088235291, -0.64006851237151419)\n",
      "clear session data 49 8837775360\n",
      "2 rewards (0.8892916666666667, -0.66272189349112431)\n",
      "clear session data 49 8837775360\n",
      "3 rewards (0.89720680147058829, -0.66272189349112431)\n",
      "clear session data 49 8837775360\n",
      "4 rewards (0.99577322146807445, -0.72781065088757391)\n",
      "clear session data 49 8837775360\n",
      "5 rewards (0.89789522058823534, -0.63905325443786976)\n",
      "clear session data 49 8837775360\n",
      "6 rewards (0.80626096491228072, -0.74556213017751483)\n",
      "clear session data 49 8837775360\n",
      "7 rewards (0.90360135432378064, -0.66863905325443795)\n",
      "clear session data 49 8837775360\n",
      "8 rewards (0.95651219040247681, -0.81065088757396442)\n",
      "clear session data 49 8837775360\n",
      "9 rewards (0.94561805555555556, -0.70414201183431957)\n",
      "clear session data 49 8837775360\n",
      "0 rewards (0.90650483911513313, -0.75153158807004949)\n"
     ]
    }
   ],
   "source": [
    "for iters, noise in enumerate(3 * [0.0]):\n",
    "    for trial in [300]: \n",
    "        Pretest =  PretrainTest(holes = 0, weight_write = 'weights_cpu/rnn_1515tanh512_checkpoint{}'.format(trial))\n",
    "        weight_read = Pretest.weight\n",
    "        weight_write = 'weights2/rnn_1515tanh512_checkpoint{}_{}'.format(trial, iters)\n",
    "        rewards = Pretest.qlearn(weight_read,  weight_write, iterations = 10, noise = noise, size_train = np.arange(10, 51, 20), size_test=[10, 50])\n",
    "        np.save('Rewards_l_{}_{}.npy'.format(iters, trial), rewards)"
   ]
  },
  {
   "cell_type": "code",
   "execution_count": 3,
   "metadata": {},
   "outputs": [
    {
     "name": "stdout",
     "output_type": "stream",
     "text": [
      "clear session data 49 3544981504\n",
      "0 rewards (0.67881578947368426, -0.42000000000000004)\n",
      "clear session data 49 3545014272\n",
      "1 rewards (0.85294534206226347, -0.42000000000000004)\n",
      "clear session data 49 3545014272\n",
      "2 rewards (0.8577552083333333, -0.35113839285714288)\n",
      "clear session data 49 4291399680\n",
      "3 rewards (0.98908333333333331, -0.062053146376970569)\n",
      "clear session data 49 4291399680\n",
      "4 rewards (0.97919117647058829, 0.020718528033158136)\n",
      "clear session data 49 4291399680\n",
      "5 rewards (0.98895833333333338, -0.22017156862745096)\n",
      "clear session data 49 4291399680\n",
      "6 rewards (0.94848684210526313, -0.30016022727272729)\n",
      "clear session data 49 4291399680\n",
      "7 rewards (0.93812499999999999, -0.17090342925963492)\n",
      "clear session data 49 4291399680\n",
      "8 rewards (0.93840525191183088, -0.37)\n",
      "clear session data 49 4291399680\n",
      "9 rewards (0.88824479166666659, -0.38)\n",
      "clear session data 49 4440875008\n",
      "0 rewards (0.87243165204678363, -0.32212756467439785)\n",
      "clear session data 49 4440875008\n",
      "1 rewards (0.99635661764705885, -0.13)\n",
      "clear session data 49 4702019584\n",
      "2 rewards (0.99948214285714287, -0.1654194093252325)\n",
      "clear session data 49 4702019584\n",
      "3 rewards (0.98895833333333338, -0.28148901845675911)\n",
      "clear session data 49 4702019584\n",
      "4 rewards (0.97999999999999998, -0.15492155480713213)\n",
      "clear session data 49 4702019584\n",
      "5 rewards (0.99948529411764708, -0.19046610169491526)\n",
      "clear session data 49 4702019584\n",
      "6 rewards (0.98725548245614037, 0.097114174020424021)\n",
      "clear session data 49 4702019584\n",
      "7 rewards (0.93890196078431365, -0.070250000000000007)\n",
      "clear session data 49 4702019584\n",
      "8 rewards (0.97948529411764707, 0.054120075727722178)\n",
      "clear session data 49 4702019584\n",
      "9 rewards (0.99776838235294119, -0.061593084802830551)\n",
      "clear session data 49 4702019584\n",
      "0 rewards (0.47702027740920927, -0.39000000000000001)\n",
      "clear session data 49 4702019584\n",
      "1 rewards (0.96579160216718263, -0.40020833333333328)\n",
      "clear session data 49 4702019584\n",
      "2 rewards (0.96895833333333337, -0.43283007948986718)\n",
      "clear session data 49 4702019584\n",
      "3 rewards (0.98841094771241833, -0.11334851740262515)\n",
      "clear session data 49 4702019584\n",
      "4 rewards (0.99738075657894742, -0.080546568627450979)\n",
      "clear session data 49 4702019584\n",
      "5 rewards (0.99869618055555553, -0.16632517350599613)\n",
      "clear session data 49 4702019584\n",
      "6 rewards (0.97603737745098051, -0.013745689320032589)\n",
      "clear session data 49 4702019584\n",
      "7 rewards (1.0, 0.028728448275862063)\n",
      "clear session data 49 4702019584\n",
      "8 rewards (1.0, -0.18198892537784345)\n",
      "clear session data 49 4702019584\n",
      "9 rewards (0.9784714052287582, -0.16189120926243566)\n"
     ]
    }
   ],
   "source": [
    "for iters, noise in enumerate(3 * [0.0]):\n",
    "    for trial in [300]: \n",
    "        Pretest =  PretrainTest(holes = 0, weight_write = 'weights_cpu/rnn_1515tanh512_checkpoint{}'.format(trial))\n",
    "        weight_read = Pretest.weight\n",
    "        weight_write = 'weights2/rnn_1515tanh512_checkpoint{}_{}'.format(trial, iters+5)\n",
    "        rewards = Pretest.qlearn(weight_read,  weight_write, iterations = 10, noise = noise, size_train = np.arange(10, 31, 20), size_test=[10, 30])\n",
    "        np.save('Rewards_l_{}_{}.npy'.format(iters, trial), rewards)"
   ]
  },
  {
   "cell_type": "markdown",
   "metadata": {},
   "source": [
    "## Model Test"
   ]
  }
 ],
 "metadata": {
  "anaconda-cloud": {},
  "kernelspec": {
   "display_name": "Python 3",
   "language": "python",
   "name": "python3"
  },
  "language_info": {
   "codemirror_mode": {
    "name": "ipython",
    "version": 3
   },
   "file_extension": ".py",
   "mimetype": "text/x-python",
   "name": "python",
   "nbconvert_exporter": "python",
   "pygments_lexer": "ipython3",
   "version": "3.6.3"
  },
  "latex_envs": {
   "LaTeX_envs_menu_present": true,
   "autoclose": false,
   "autocomplete": true,
   "bibliofile": "biblio.bib",
   "cite_by": "apalike",
   "current_citInitial": 1,
   "eqLabelWithNumbers": true,
   "eqNumInitial": 1,
   "hotkeys": {
    "equation": "Ctrl-E",
    "itemize": "Ctrl-I"
   },
   "labels_anchors": false,
   "latex_user_defs": false,
   "report_style_numbering": false,
   "user_envs_cfg": false
  },
  "toc": {
   "nav_menu": {},
   "number_sections": true,
   "sideBar": true,
   "skip_h1_title": false,
   "title_cell": "Table of Contents",
   "title_sidebar": "Contents",
   "toc_cell": true,
   "toc_position": {
    "height": "759px",
    "left": "0px",
    "right": "1228px",
    "top": "67px",
    "width": "212px"
   },
   "toc_section_display": "block",
   "toc_window_display": true
  },
  "varInspector": {
   "cols": {
    "lenName": 16,
    "lenType": 16,
    "lenVar": 40
   },
   "kernels_config": {
    "python": {
     "delete_cmd_postfix": "",
     "delete_cmd_prefix": "del ",
     "library": "var_list.py",
     "varRefreshCmd": "print(var_dic_list())"
    },
    "r": {
     "delete_cmd_postfix": ") ",
     "delete_cmd_prefix": "rm(",
     "library": "var_list.r",
     "varRefreshCmd": "cat(var_dic_list()) "
    }
   },
   "types_to_exclude": [
    "module",
    "function",
    "builtin_function_or_method",
    "instance",
    "_Feature"
   ],
   "window_display": false
  }
 },
 "nbformat": 4,
 "nbformat_minor": 2
}
