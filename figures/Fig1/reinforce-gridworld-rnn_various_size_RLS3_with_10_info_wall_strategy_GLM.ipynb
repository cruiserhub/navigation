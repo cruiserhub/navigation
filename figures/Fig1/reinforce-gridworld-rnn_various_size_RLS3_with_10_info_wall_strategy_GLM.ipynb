{
 "cells": [
  {
   "cell_type": "markdown",
   "metadata": {
    "toc": "true"
   },
   "source": [
    "<h1>Table of Contents<span class=\"tocSkip\"></span></h1>\n",
    "<div class=\"toc\"><ul class=\"toc-item\"><li><span><a href=\"#quick-start\" data-toc-modified-id=\"quick-start-1\"><span class=\"toc-item-num\">1&nbsp;&nbsp;</span>quick start</a></span><ul class=\"toc-item\"><li><span><a href=\"#Resources\" data-toc-modified-id=\"Resources-1.1\"><span class=\"toc-item-num\">1.1&nbsp;&nbsp;</span>Resources</a></span></li></ul></li><li><span><a href=\"#FULL-MODEL\" data-toc-modified-id=\"FULL-MODEL-2\"><span class=\"toc-item-num\">2&nbsp;&nbsp;</span>FULL MODEL</a></span><ul class=\"toc-item\"><li><span><a href=\"#Packages\" data-toc-modified-id=\"Packages-2.1\"><span class=\"toc-item-num\">2.1&nbsp;&nbsp;</span>Packages</a></span><ul class=\"toc-item\"><li><span><a href=\"#Qnetwork\" data-toc-modified-id=\"Qnetwork-2.1.1\"><span class=\"toc-item-num\">2.1.1&nbsp;&nbsp;</span>Qnetwork</a></span></li></ul></li><li><span><a href=\"#POMDP-RNN-Game\" data-toc-modified-id=\"POMDP-RNN-Game-2.2\"><span class=\"toc-item-num\">2.2&nbsp;&nbsp;</span>POMDP RNN Game</a></span></li><li><span><a href=\"#Results\" data-toc-modified-id=\"Results-2.3\"><span class=\"toc-item-num\">2.3&nbsp;&nbsp;</span>Results</a></span><ul class=\"toc-item\"><li><span><a href=\"#Standard-setting：-grid-=--(3,7)，-holes-=-0\" data-toc-modified-id=\"Standard-setting：-grid-=--(3,7)，-holes-=-0-2.3.1\"><span class=\"toc-item-num\">2.3.1&nbsp;&nbsp;</span>Standard setting： grid =  (3,7)， holes = 0</a></span></li><li><span><a href=\"#Model-Tranining\" data-toc-modified-id=\"Model-Tranining-2.3.2\"><span class=\"toc-item-num\">2.3.2&nbsp;&nbsp;</span>Model Tranining</a></span></li><li><span><a href=\"#decoding-vs-performance\" data-toc-modified-id=\"decoding-vs-performance-2.3.3\"><span class=\"toc-item-num\">2.3.3&nbsp;&nbsp;</span>decoding vs performance</a></span></li><li><span><a href=\"#learning-rate-vs-performance\" data-toc-modified-id=\"learning-rate-vs-performance-2.3.4\"><span class=\"toc-item-num\">2.3.4&nbsp;&nbsp;</span>learning rate vs performance</a></span></li><li><span><a href=\"#Summary\" data-toc-modified-id=\"Summary-2.3.5\"><span class=\"toc-item-num\">2.3.5&nbsp;&nbsp;</span>Summary</a></span></li><li><span><a href=\"#Anlytic-part-,-check-the-behaviour-correspond-to-each-decoding-level-and-explain-why\" data-toc-modified-id=\"Anlytic-part-,-check-the-behaviour-correspond-to-each-decoding-level-and-explain-why-2.3.6\"><span class=\"toc-item-num\">2.3.6&nbsp;&nbsp;</span>Anlytic part , check the behaviour correspond to each decoding level and explain why</a></span></li></ul></li><li><span><a href=\"#PCA\" data-toc-modified-id=\"PCA-2.4\"><span class=\"toc-item-num\">2.4&nbsp;&nbsp;</span>PCA</a></span></li></ul></li></ul></div>"
   ]
  },
  {
   "cell_type": "markdown",
   "metadata": {},
   "source": [
    "# quick start "
   ]
  },
  {
   "cell_type": "markdown",
   "metadata": {},
   "source": [
    "**Check relation betweeen dynamics and generalization.   Hypothesis to make: generalization can only be understood in level of joint dynamical system, there is a clear link between the two**\n",
    "\n",
    "**Dynamnics determines generalization , not decoding , same decoding level can have very different dynamics , thus different generalization level.  Only when the dynamics of RNN forms object correspond to real relevant objects for game, the generalization can be good.   For instance , in a varying size game, you extend the size of game from 10 to 30, what will happen?  You can do a kind of dynamical programing , according to which wall you have seen and how many steps you have passed , you decide future action.    This can be achieved robustly by the dynamical system where fix points are correspond to walls**"
   ]
  },
  {
   "cell_type": "markdown",
   "metadata": {},
   "source": [
    "## Resources\n",
    "\n",
    "* [*The* Reinforcement learning book from Sutton & Barto](http://incompleteideas.net/sutton/book/the-book-2nd.html)\n",
    "* [The REINFORCE paper from Ronald J. Williams (1992)](http://www-anw.cs.umass.edu/~barto/courses/cs687/williams92simple.pdf)\n"
   ]
  },
  {
   "cell_type": "markdown",
   "metadata": {},
   "source": [
    "## Packages"
   ]
  },
  {
   "cell_type": "code",
   "execution_count": 1,
   "metadata": {},
   "outputs": [
    {
     "name": "stdout",
     "output_type": "stream",
     "text": [
      "Populating the interactive namespace from numpy and matplotlib\n"
     ]
    },
    {
     "name": "stderr",
     "output_type": "stream",
     "text": [
      "/home/tie/anaconda3/lib/python3.6/site-packages/IPython/core/magics/pylab.py:160: UserWarning: pylab import has clobbered these variables: ['random']\n",
      "`%matplotlib` prevents importing * from pylab and numpy\n",
      "  \"\\n`%matplotlib` prevents importing * from pylab and numpy\"\n"
     ]
    }
   ],
   "source": [
    "%load_ext autoreload\n",
    "%autoreload 2\n",
    "\n",
    "import numpy as np\n",
    "from itertools import count\n",
    "import random\n",
    "\n",
    "import torch\n",
    "import torch.nn as nn\n",
    "import torch.nn.functional as F\n",
    "import torch.optim as optim\n",
    "import torch.autograd as autograd\n",
    "from torch.autograd import Variable\n",
    "from torch.nn import init\n",
    "from torch.nn import DataParallel\n",
    "from torch.utils.data import DataLoader\n",
    "\n",
    "import matplotlib.mlab as mlab\n",
    "import matplotlib.pyplot as plt\n",
    "import matplotlib.animation\n",
    "import seaborn as sns\n",
    "from IPython.display import HTML\n",
    "\n",
    "import pretrain\n",
    "from pretrain import *\n",
    "\n",
    "import navigation2\n",
    "from navigation2 import *\n",
    "\n",
    "import Nets \n",
    "from Nets import *\n",
    "\n",
    "import sklearn\n",
    "from sklearn.svm import SVC\n",
    "from sklearn.manifold import Isomap\n",
    "from sklearn.manifold import SpectralEmbedding\n",
    "from sklearn.manifold import TSNE\n",
    "from sklearn.linear_model import LinearRegression\n",
    "from sklearn.linear_model import Lasso\n",
    "from sklearn.metrics import r2_score\n",
    "from sklearn.model_selection import cross_validate\n",
    "\n",
    "import scipy\n",
    "from scipy.spatial import distance\n",
    "from scipy import signal\n",
    "\n",
    "import dynamics \n",
    "from dynamics import * \n",
    "\n",
    "\n",
    "%pylab inline\n",
    "import warnings\n",
    "warnings.filterwarnings('ignore')"
   ]
  },
  {
   "cell_type": "markdown",
   "metadata": {},
   "source": [
    "For the liquid state approach to work, you need a lot of neurons as surplus or enough hidden to hidden connectivity to make it have an effect."
   ]
  },
  {
   "cell_type": "markdown",
   "metadata": {},
   "source": [
    "**What is the relation to head direction, this order kept in limit cycle**\n",
    "**Could we define the order parameter for behaviour and link it to dynamics?**"
   ]
  },
  {
   "cell_type": "markdown",
   "metadata": {},
   "source": [
    "# The GLM analysis of variance for different variables\n",
    "The features include x, y, sensory,  action, last click memory , last twice click memory, the last twice click has a very strong contribution to features, but it inludes the last one click. In a sense, the integrated memory is not equalling to memroy 1 plus memory2 "
   ]
  },
  {
   "cell_type": "code",
   "execution_count": 117,
   "metadata": {},
   "outputs": [],
   "source": [
    "# Put the stimulus memory(status) and action base for memory and navigation  \n",
    "def Transform(States, Poss, Hiddens, Actions, Context, Values, history = False, size = 15):\n",
    "    # last click state\n",
    "    Borders = np.concatenate([State_transform(state, poss, size)[0] for state, poss in zip(States, Poss)])\n",
    "    Status = np.concatenate([State_transform(state, poss, size)[1] for state, poss in zip(States, Poss)])\n",
    "    Hiddens = np.concatenate(Hiddens)\n",
    "    Poss = np.concatenate(Poss)\n",
    "    Actions = np.concatenate(Actions)\n",
    "    Context = np.concatenate(Context)\n",
    "    # transform state to stim　\n",
    "    States = np.concatenate(States)\n",
    "    Values = np.concatenate(Values)\n",
    "    # transform status to memory\n",
    "    return Borders[Status>0], Poss[Status>0], Hiddens[Status>0], \\\n",
    "Actions[Status>0], Status[Status>0], Context[Status>0], Values[Status>0]\n",
    " \n",
    "\n",
    "\n",
    "# histroy memory of two \n",
    "def history_summary(Status):\n",
    "#     S = [p[0]  for s, p in zip(State, Poss)]\n",
    "    M = np.zeros((len(Status), 2))\n",
    "    m2 = 0\n",
    "    for i, (s1, s2) in enumerate(zip(Status[:-1], Status[1:])): \n",
    "        # if next clicks changes, then store this click as a memory value registed in m2  \n",
    "        if s2 != s1:\n",
    "            m2 = s1\n",
    "        # sore memory,  m0 as memory of stimulus, m1 as memory of second click    \n",
    "        M[i+1, 0] = s2\n",
    "        M[i+1, 1] = m2   \n",
    "#         print (s1)\n",
    "    return M  \n",
    "\n",
    "# transform to time section\n",
    "def Stage_transform(State):\n",
    "    S = np.cumsum([np.sum(s1 != s2) for (s1, s2) in zip(State[:-1], State[1:])] + [1]) \n",
    "    return S"
   ]
  },
  {
   "cell_type": "code",
   "execution_count": 118,
   "metadata": {},
   "outputs": [],
   "source": [
    "# transform to space section\n",
    "def wall_detection(pos, size):\n",
    "    if pos[0] == 2:\n",
    "        Stim = 1\n",
    "    elif pos[0] == 2 + size - 1:\n",
    "        Stim = 2\n",
    "    elif pos[1] == 2:\n",
    "        Stim = 3\n",
    "    elif pos[1] == 2 + size - 1:\n",
    "        Stim = 4\n",
    "    else:\n",
    "        Stim = 0 \n",
    "    return Stim \n",
    "# for the memory feature, a Msimple one is just the last click, a most complicate one should be click sequence     \n",
    "def State_transform(State, Poss, size):\n",
    "#     S = [p[0]  for s, p in zip(State, Poss)]\n",
    "    S = [wall_detection(pos, size) for pos in Poss]\n",
    "    Status = []\n",
    "    s1 = 0\n",
    "    for s in S: \n",
    "        if s != 0: \n",
    "            s1 = s\n",
    "#         print (s1)\n",
    "        Status.append(s1)\n",
    "    return S, Status\n",
    "# histroy memory of two \n",
    "def history_summary(Status):\n",
    "#     S = [p[0]  for s, p in zip(State, Poss)]\n",
    "    M = np.zeros((len(Status), 2))\n",
    "    m2 = 0\n",
    "    for i, (s1, s2) in enumerate(zip(Status[:-1], Status[1:])): \n",
    "        # if next clicks changes, then store this click as a memory value registed in m2  \n",
    "        if s2 != s1:\n",
    "            m2 = s1\n",
    "        # sore memory,  m0 as memory of stimulus, m1 as memory of second click    \n",
    "        M[i+1, 0] = s2\n",
    "        M[i+1, 1] = m2   \n",
    "#         print (s1)\n",
    "    return M"
   ]
  },
  {
   "cell_type": "code",
   "execution_count": 119,
   "metadata": {},
   "outputs": [],
   "source": [
    "def Feature_preprocessing(States, Poss, Hiddens, Actions, Context, Values, size = 15):\n",
    "    States, Poss, Hiddens, Actions, Status, Context, Values = Transform(States, Poss, Hiddens, \\\n",
    "                                                                        Actions, Context, Values)\n",
    "    x =  Hiddens[:, :512]\n",
    "    z = (x - np.min(x))/(np.max(x) - np.min(x))\n",
    "    y = np.log(z/(1-z + 1e-3) + 1e-3)\n",
    "    A = np.array([np.eye(4)[a] for a in Actions]).reshape(-1, 4)\n",
    "    Y = np.array([(y - size/2.) for y in Poss[:, 0] -2]).reshape(-1, 1)\n",
    "    X = np.array([(x - size/2.) for x in Poss[:, 1] - 2]).reshape(-1, 1)\n",
    "    M = np.array([np.eye(5)[s] for s in Status]).reshape(-1, 5)\n",
    "    S = np.array([np.eye(5)[s] for s in States]).reshape(-1, 5)\n",
    "#     S = np.array(States).reshape(-1, 9)\n",
    "    C = np.array(Context).reshape(-1, 1)\n",
    "    # S_wall = np.array([np.eye(27)[s] for s in Stim_wall]).reshape(-1, 27)\n",
    "    Features = np.concatenate((A, Y, X, M, S, C), axis = 1)\n",
    "    Features_A = np.concatenate((Y, X, M, S, C), axis = 1)\n",
    "    Features_Y = np.concatenate((A, X, M, S, C), axis = 1)\n",
    "    Features_X = np.concatenate((A, Y, M, S, C), axis = 1)\n",
    "    Features_M = np.concatenate((A, Y, X, S, C), axis = 1)\n",
    "    Features_S = np.concatenate((A, Y, X, M, C), axis = 1)\n",
    "    Features_C = np.concatenate((A, Y, X, M, S), axis = 1)\n",
    "    return y, Features, Features_A, Features_Y, Features_X, Features_M, Features_S, Features_C, Values\n",
    "# State_transform()"
   ]
  },
  {
   "cell_type": "code",
   "execution_count": 120,
   "metadata": {},
   "outputs": [],
   "source": [
    "# record sessions 100 for 2 different context, record the relevant variables \n",
    "def Data_record(weight, k_action = 1, epsilon = 0, size = 15, T = 500, seed_num = 1e3):\n",
    "    PC_traces = []\n",
    "    Hiddens = []\n",
    "    Poss = []\n",
    "    Actions = []\n",
    "    States = []\n",
    "    Context = []\n",
    "    Values = []\n",
    "    for i in range(T):\n",
    "        torch.manual_seed(np.random.randint(seed_num))\n",
    "        hidden0 = torch.randn(1, 512)\n",
    "        c  = np.random.randint(2)\n",
    "        start = (np.random.randint(2, size +2),  np.random.randint(2, size+2))\n",
    "        game = ValueMaxGame(grid_size = (size, size), holes = 0, random_seed = 0 , set_reward = [(0.5, 0.25), (0.5, 0.75)], input_type = 0, discount = 0.9, alpha = 1\n",
    "                           ,lam = 0)\n",
    "        game.net.load_state_dict(torch.load(weight))\n",
    "        game.net.k_action = k_action \n",
    "        grid = game.grid.grid.copy()\n",
    "        Pos, hidden, dh, Action, State, values, reward = trajectory(game, start, reward_control = c, size = size, \\\n",
    "                                                                  test = 0, limit_set = 8, init_hidden = False, hidden = hidden0, epsilon = epsilon, reward = True)\n",
    "        Hiddens.append(hidden)\n",
    "        Poss.append(Pos[1:])\n",
    "        Actions.append(Action)\n",
    "        States.append(State)\n",
    "        Context.append(c * np.ones(len(State)))\n",
    "        Values.append(values)\n",
    "    return States, Poss, Hiddens, Actions, Context, Values"
   ]
  },
  {
   "cell_type": "markdown",
   "metadata": {},
   "source": [
    "## Echo Net"
   ]
  },
  {
   "cell_type": "markdown",
   "metadata": {},
   "source": [
    "# Variance\n",
    "More variance covered by low D variables, corresponding to low D representation shown by PCA "
   ]
  },
  {
   "cell_type": "code",
   "execution_count": 121,
   "metadata": {},
   "outputs": [
    {
     "name": "stdout",
     "output_type": "stream",
     "text": [
      "total variance 0.19699601003309092 0.19138872856537942\n",
      "total variance 0.03685350239950994 0.03658431167353781\n",
      "total variance 0.018545208015745766 0.018188594576731408\n",
      "total variance 0.03592005984599454 0.03498198686337241\n",
      "total variance 0.006659847681632786 0.006158765631426999\n",
      "total variance 0.01436981433928466 0.014356555266489362\n",
      "total variance 0.014207202728388551 0.014147252948814904\n"
     ]
    }
   ],
   "source": [
    "# record sessions 100 for 2 different context, record the relevant variables \n",
    "weight ='weights2/rnn_1515tanh512_checkpoint300_0_5'\n",
    "States1, Poss1, Hiddens1, Actions1, Context1, Values1 = Data_record(weight, T = 1000)\n",
    "y, Features, Features_A, Features_Y, Features_X, Features_M, Features_S, Features_C, Values1 = Feature_preprocessing(States1, Poss1, Hiddens1, Actions1,\\\n",
    "                                                                                                           Context1, Values1)\n",
    "clf0 = Lasso(alpha = 1e-2)\n",
    "clf0.fit(Features_A, y)\n",
    "cv_scores_all = cross_validate(clf0, Features, y, cv = 5, scoring=('r2'), return_train_score = True)\n",
    "print ('total variance', np.mean(cv_scores_all['train_score']), np.mean(cv_scores_all['test_score']))\n",
    "importances = []\n",
    "importances_std = []\n",
    "for i, feature in enumerate([Features_A, Features_Y, Features_X, Features_M, Features_S, Features_C]):\n",
    "    clf = Lasso(alpha = 1e-2)\n",
    "    cv_scores = cross_validate(clf, feature, y, cv = 5, scoring=('r2'), return_train_score = True)\n",
    "    print ('total variance', np.mean(cv_scores_all['train_score'] -  cv_scores['train_score']), \\\n",
    "           np.mean(cv_scores_all['test_score'] - cv_scores['test_score']))\n",
    "    importances.append(np.mean(cv_scores_all['test_score'] - cv_scores['test_score']))\n",
    "    importances_std.append(np.std(cv_scores_all['test_score'] - cv_scores['test_score']))"
   ]
  },
  {
   "cell_type": "code",
   "execution_count": 122,
   "metadata": {},
   "outputs": [
    {
     "data": {
      "text/plain": [
       "([<matplotlib.axis.YTick at 0x7fee2f104400>,\n",
       "  <matplotlib.axis.YTick at 0x7fee2fa6add8>],\n",
       " <a list of 2 Text yticklabel objects>)"
      ]
     },
     "execution_count": 122,
     "metadata": {},
     "output_type": "execute_result"
    },
    {
     "data": {
      "image/png": "[encoded data removed]",
      "text/plain": [
       "<matplotlib.figure.Figure at 0x7fee30300f28>"
      ]
     },
     "metadata": {},
     "output_type": "display_data"
    }
   ],
   "source": [
    "np.save('importance_pos', importances)\n",
    "np.save('importance_pos_std', importances_std)\n",
    "\n",
    "# 009\n",
    "ax = subplot(1, 1, 1)\n",
    "ax.spines['top'].set_visible(False)\n",
    "ax.spines['right'].set_visible(False)\n",
    "imp = np.load('importance_pos.npy')\n",
    "imp_std = np.load('importance_pos_std.npy')\n",
    "plt.bar(np.arange(6), height = imp, yerr = imp_std)\n",
    "plt.xticks([0, 1, 2, 3, 4, 5], ['A', 'Y', 'X', 'M', 'S', 'C'], size = 15)\n",
    "plt.yticks([0, 0.1], size = 15)"
   ]
  },
  {
   "cell_type": "code",
   "execution_count": 16,
   "metadata": {},
   "outputs": [
    {
     "name": "stdout",
     "output_type": "stream",
     "text": [
      "total variance 0.4203386298637537 0.4003893429038\n",
      "total variance 0.004446462476526391 0.004314739758487318\n",
      "total variance 0.05695286787772624 0.055289148518798945\n",
      "total variance 0.06209497705731639 0.06268480480353186\n",
      "total variance 0.03622384512776057 0.03283432304397101\n",
      "total variance 0.027929493174714538 0.028063619698886755\n",
      "total variance 0.03054550203971721 0.030158172404803497\n"
     ]
    }
   ],
   "source": [
    "# record sessions 100 for 2 different context, record the relevant variables \n",
    "weight ='weights2/rnn_1515tanh512_checkpoint300_0_5'\n",
    "States1, Poss1, Hiddens1, Actions1, Context1 = Data_record(weight, T = 100, epsilon = 1)\n",
    "y, Features, Features_A, Features_Y, Features_X, Features_M, Features_S, Features_C = Feature_preprocessing(States1, Poss1, Hiddens1, Actions1,\\\n",
    "                                                                                                           Context1)\n",
    "clf = Lasso(alpha = 1e-3)\n",
    "cv_scores_all = cross_validate(clf, Features, y, cv = 5, scoring=('r2'), return_train_score = True)\n",
    "print ('total variance', np.mean(cv_scores_all['train_score']), np.mean(cv_scores_all['test_score']))\n",
    "importances = []\n",
    "importances_std = []\n",
    "for i, feature in enumerate([Features_A, Features_Y, Features_X, Features_M, Features_S, Features_C]):\n",
    "    clf = Lasso(alpha = 1e-3)\n",
    "    cv_scores = cross_validate(clf, feature, y, cv = 5, scoring=('r2'), return_train_score = True)\n",
    "    print ('total variance', np.mean(cv_scores_all['train_score'] -  cv_scores['train_score']), \\\n",
    "           np.mean(cv_scores_all['test_score'] - cv_scores['test_score']))\n",
    "    importances.append(np.mean(cv_scores_all['test_score'] - cv_scores['test_score']))\n",
    "    importances_std.append(np.std(cv_scores_all['test_score'] - cv_scores['test_score']))"
   ]
  },
  {
   "cell_type": "code",
   "execution_count": 10,
   "metadata": {},
   "outputs": [
    {
     "name": "stdout",
     "output_type": "stream",
     "text": [
      "total variance 0.263835760615 0.246202651582\n",
      "6 total variance 0.0330993475463 0.0330267717793\n",
      "6 total variance 0.0166299845228 0.0115547615138\n",
      "6 total variance 0.0342568915644 0.029740167261\n",
      "6 total variance 0.086325525197 0.0837202552752\n",
      "6 total variance 0.0238203440926 0.023532200563\n",
      "6 total variance 0.0172765100837 0.01720197913\n",
      "total variance 0.259006366327 0.24263884189\n",
      "7 total variance 0.0344710416859 0.0344546439895\n",
      "7 total variance 0.0166122376176 0.0123312409496\n",
      "7 total variance 0.0288617542136 0.0245406637203\n",
      "7 total variance 0.0777833917927 0.0767762510815\n",
      "7 total variance 0.0223652614062 0.022109506729\n",
      "7 total variance 0.0250069140333 0.0255848284447\n",
      "total variance 0.245831691012 0.228471145487\n",
      "8 total variance 0.0329786182708 0.0331592687301\n",
      "8 total variance 0.0172987044385 0.0124891656321\n",
      "8 total variance 0.0295301043236 0.024334748635\n",
      "8 total variance 0.065817113178 0.0637173803546\n",
      "8 total variance 0.0221273835384 0.0218954531737\n",
      "8 total variance 0.0245831083966 0.0247112980798\n",
      "total variance 0.248182248919 0.229669996027\n",
      "9 total variance 0.0359584628995 0.0358217718807\n",
      "9 total variance 0.0166445587237 0.0110202970631\n",
      "9 total variance 0.0294677566528 0.0258107484827\n",
      "9 total variance 0.0622178906205 0.0611149627564\n",
      "9 total variance 0.0199587537917 0.0194410356875\n",
      "9 total variance 0.0262773076503 0.0266613493794\n"
     ]
    }
   ],
   "source": [
    "# record sessions 100 for 2 different context, record the relevant variables \n",
    "Importance = []\n",
    "Importance_std = []\n",
    "for trial in range(6, 10):\n",
    "    weight ='weights2/rnn_1515tanh512_checkpoint300_0_{}'.format(trial)\n",
    "    States1, Poss1, Hiddens1, Actions1, Context1 = Data_record(weight)\n",
    "    y, Features, Features_A, Features_Y, Features_X, Features_M, Features_S, Features_C = Feature_preprocessing(States1, Poss1, Hiddens1, Actions1,\\\n",
    "                                                                                                               Context1)\n",
    "    clf = Lasso(alpha = 1e-3)\n",
    "    cv_scores_all = cross_validate(clf, Features, y, cv = 5, scoring=('r2'), return_train_score = True)\n",
    "    print ('total variance', np.mean(cv_scores_all['train_score']), np.mean(cv_scores_all['test_score']))\n",
    "    importances = []\n",
    "    importances_std = []\n",
    "    for i, feature in enumerate([Features_A, Features_Y, Features_X, Features_M, Features_S, Features_C]):\n",
    "        clf = Lasso(alpha = 1e-3)\n",
    "        cv_scores = cross_validate(clf, feature, y, cv = 5, scoring=('r2'), return_train_score = True)\n",
    "        print (trial, 'total variance', np.mean(cv_scores_all['train_score'] -  cv_scores['train_score']), \\\n",
    "               np.mean(cv_scores_all['test_score'] - cv_scores['test_score']))\n",
    "        importances.append(np.mean(cv_scores_all['test_score'] - cv_scores['test_score']))\n",
    "        importances_std.append(np.std(cv_scores_all['test_score'] - cv_scores['test_score']))\n",
    "    Importance.append(importances)\n",
    "    Importance_std.append(importances_std)"
   ]
  },
  {
   "cell_type": "code",
   "execution_count": 6,
   "metadata": {},
   "outputs": [],
   "source": [
    "np.save('importance_pos_early', importances)\n",
    "np.save('importance_pos_early_std', importances_std)"
   ]
  },
  {
   "cell_type": "code",
   "execution_count": 7,
   "metadata": {},
   "outputs": [
    {
     "data": {
      "text/plain": [
       "([<matplotlib.axis.YTick at 0x7fc3a58d0940>,\n",
       "  <matplotlib.axis.YTick at 0x7fc3a59e95c0>,\n",
       "  <matplotlib.axis.YTick at 0x7fc3a3f7e8d0>,\n",
       "  <matplotlib.axis.YTick at 0x7fc3a5857390>,\n",
       "  <matplotlib.axis.YTick at 0x7fc3a5857588>,\n",
       "  <matplotlib.axis.YTick at 0x7fc3a58431d0>,\n",
       "  <matplotlib.axis.YTick at 0x7fc3a5843860>],\n",
       " <a list of 7 Text yticklabel objects>)"
      ]
     },
     "execution_count": 7,
     "metadata": {},
     "output_type": "execute_result"
    },
    {
     "data": {
      "image/png": "[encoded data removed]",
      "text/plain": [
       "<matplotlib.figure.Figure at 0x7fc3a8f89390>"
      ]
     },
     "metadata": {},
     "output_type": "display_data"
    }
   ],
   "source": [
    "# 009\n",
    "ax = subplot(1, 1, 1)\n",
    "ax.spines['top'].set_visible(False)\n",
    "ax.spines['right'].set_visible(False)\n",
    "imp = np.load('importance_pos_early.npy')\n",
    "imp_std = np.load('importance_pos_early_std.npy')\n",
    "plt.bar(np.arange(6), height = imp, yerr = imp_std)\n",
    "plt.xticks([0, 1, 2, 3, 4, 5], ['A', 'Y', 'X', 'M', 'S', 'C'], size = 15)\n",
    "plt.yticks([0, 0, 0.02, 0.04, 0.06, 0.08, 0.1], size = 15)"
   ]
  },
  {
   "cell_type": "code",
   "execution_count": 4,
   "metadata": {},
   "outputs": [
    {
     "name": "stdout",
     "output_type": "stream",
     "text": [
      "total variance 0.327173256837 0.315465829693\n",
      "0 total variance 0.0200030498896 0.0199374490446\n",
      "0 total variance 0.0434335523015 0.0407579854156\n",
      "0 total variance 0.0423444327337 0.0392834183068\n",
      "0 total variance 0.0819554186831 0.0817873473891\n",
      "0 total variance 0.0209799443483 0.0209045771207\n",
      "0 total variance 0.0193840080559 0.0194643506655\n",
      "total variance 0.274697116699 0.259807793637\n",
      "1 total variance 0.023817539858 0.0234344440381\n",
      "1 total variance 0.0141232696955 0.0104529531129\n",
      "1 total variance 0.0535874556938 0.0503814058933\n",
      "1 total variance 0.0841223391817 0.0824486868924\n",
      "1 total variance 0.0241352803477 0.0239896130271\n",
      "1 total variance 0.021315470648 0.0214167850055\n",
      "total variance 0.277993900908 0.259667266125\n",
      "2 total variance 0.0238230959259 0.023627762112\n",
      "2 total variance 0.0145787893602 0.00974019379151\n",
      "2 total variance 0.0375416887193 0.0342517891959\n",
      "2 total variance 0.0880396702831 0.0871252232568\n",
      "2 total variance 0.0224758165583 0.0221920932845\n",
      "2 total variance 0.0213754943196 0.0220586618233\n"
     ]
    }
   ],
   "source": [
    "# record sessions 100 for 2 different context, record the relevant variables \n",
    "Importance = []\n",
    "Importance_std = []\n",
    "for trial in range(3):\n",
    "    weight ='weights2/rnn_1515tanh512_checkpoint300_0_{}'.format(trial)\n",
    "    States1, Poss1, Hiddens1, Actions1, Context1 = Data_record(weight)\n",
    "    y, Features, Features_A, Features_Y, Features_X, Features_M, Features_S, Features_C = Feature_preprocessing(States1, Poss1, Hiddens1, Actions1,\\\n",
    "                                                                                                               Context1)\n",
    "    clf = Lasso(alpha = 1e-3)\n",
    "    cv_scores_all = cross_validate(clf, Features, y, cv = 5, scoring=('r2'), return_train_score = True)\n",
    "    print ('total variance', np.mean(cv_scores_all['train_score']), np.mean(cv_scores_all['test_score']))\n",
    "    importances = []\n",
    "    importances_std = []\n",
    "    for i, feature in enumerate([Features_A, Features_Y, Features_X, Features_M, Features_S, Features_C]):\n",
    "        clf = Lasso(alpha = 1e-3)\n",
    "        cv_scores = cross_validate(clf, feature, y, cv = 5, scoring=('r2'), return_train_score = True)\n",
    "        print (trial, 'total variance', np.mean(cv_scores_all['train_score'] -  cv_scores['train_score']), \\\n",
    "               np.mean(cv_scores_all['test_score'] - cv_scores['test_score']))\n",
    "        importances.append(np.mean(cv_scores_all['test_score'] - cv_scores['test_score']))\n",
    "        importances_std.append(np.std(cv_scores_all['test_score'] - cv_scores['test_score']))\n",
    "    Importance.append(importances)\n",
    "    Importance_std.append(importances_std)"
   ]
  },
  {
   "cell_type": "code",
   "execution_count": 9,
   "metadata": {},
   "outputs": [
    {
     "name": "stdout",
     "output_type": "stream",
     "text": [
      "total variance 0.3900987683273135 0.3734116620426762\n",
      "total variance 0.007412913894201567 0.006524081372758017\n",
      "total variance 0.00871587652987571 0.003744449241153458\n",
      "total variance 0.019627994153965954 0.017682182678894633\n",
      "total variance 0.03783858737817891 0.03711714335277766\n",
      "total variance 0.05536294711007096 0.056180287701844675\n",
      "total variance 0.008143078767178147 0.007955799192881752\n"
     ]
    }
   ],
   "source": [
    "# record sessions 100 for 2 different context, record the relevant variables \n",
    "# record sessions 100 for 2 different context, record the relevant variables \n",
    "weight ='weights_fix/weights1/rnn_1515tanh512_checkpoint0_2_9'\n",
    "States1, Poss1, Hiddens1, Actions1, Context1 = Data_record(weight)\n",
    "y, Features, Features_A, Features_Y, Features_X, Features_M, Features_S, Features_C = Feature_preprocessing(States1, Poss1, Hiddens1, Actions1,\\\n",
    "                                                                                                           Context1)\n",
    "clf = Lasso(alpha = 1e-3)\n",
    "cv_scores_all = cross_validate(clf, Features, y, cv = 5, scoring=('r2'), return_train_score = True)\n",
    "print ('total variance', np.mean(cv_scores_all['train_score']), np.mean(cv_scores_all['test_score']))\n",
    "importances = []\n",
    "importances_std = []\n",
    "for i, feature in enumerate([Features_A, Features_Y, Features_X, Features_M, Features_S, Features_C]):\n",
    "    clf = Lasso(alpha = 1e-3)\n",
    "    cv_scores = cross_validate(clf, feature, y, cv = 5, scoring=('r2'), return_train_score = True)\n",
    "    print ('total variance', np.mean(cv_scores_all['train_score'] -  cv_scores['train_score']), \\\n",
    "           np.mean(cv_scores_all['test_score'] - cv_scores['test_score']))\n",
    "    importances.append(np.mean(cv_scores_all['test_score'] - cv_scores['test_score']))\n",
    "    importances_std.append(np.std(cv_scores_all['test_score'] - cv_scores['test_score']))"
   ]
  },
  {
   "cell_type": "code",
   "execution_count": 10,
   "metadata": {},
   "outputs": [],
   "source": [
    "np.save('importance_echo', importances)\n",
    "np.save('importance_echo_std', importances_std)"
   ]
  },
  {
   "cell_type": "code",
   "execution_count": 30,
   "metadata": {},
   "outputs": [
    {
     "data": {
      "text/plain": [
       "([<matplotlib.axis.YTick at 0x7f96a0e64128>,\n",
       "  <matplotlib.axis.YTick at 0x7f96a0e641d0>],\n",
       " <a list of 2 Text yticklabel objects>)"
      ]
     },
     "execution_count": 30,
     "metadata": {},
     "output_type": "execute_result"
    },
    {
     "data": {
      "image/png": "[encoded data removed]",
      "text/plain": [
       "<matplotlib.figure.Figure at 0x7f96a0e18400>"
      ]
     },
     "metadata": {},
     "output_type": "display_data"
    }
   ],
   "source": [
    "# 009\n",
    "ax = subplot(1, 1, 1)\n",
    "ax.spines['top'].set_visible(False)\n",
    "ax.spines['right'].set_visible(False)\n",
    "imp = np.load('importance_echo.npy')\n",
    "imp_std = np.load('importance_echo_std.npy')\n",
    "plt.bar(np.arange(6), height = imp, yerr = imp_std)\n",
    "plt.xticks([0, 1, 2, 3, 4, 5], ['A', 'Y', 'X', 'M', 'S', 'C'], size = 15)\n",
    "plt.yticks([0, 0.1], size = 15)\n",
    "# plt.yscale('log')"
   ]
  },
  {
   "cell_type": "markdown",
   "metadata": {},
   "source": [
    "## Pretrain late"
   ]
  },
  {
   "cell_type": "code",
   "execution_count": 36,
   "metadata": {},
   "outputs": [
    {
     "name": "stdout",
     "output_type": "stream",
     "text": [
      "total variance 0.48573512471582847 0.4760540102841452\n",
      "total variance 0.006462179396043999 0.005937664058737535\n",
      "total variance 0.017844784688296467 0.01568026495057735\n",
      "total variance 0.0137360988308718 0.012141880430233131\n",
      "total variance 0.19824898015596476 0.20164431620665604\n",
      "total variance 0.07569310612763996 0.07648974476504691\n",
      "total variance 0.02935466421408215 0.02974562872647508\n"
     ]
    }
   ],
   "source": [
    "weight0 ='weights_cpu1/rnn_1515tanh512_checkpoint39'\n",
    "States1, Poss1, Hiddens1, Actions1, Context1 = Data_record(weight, epsilon=0)\n",
    "y, Features, Features_A, Features_Y, Features_X, Features_M, Features_S, Features_C = Feature_preprocessing(States1, Poss1, Hiddens1, Actions1,\\\n",
    "                                                                                                           Context1)\n",
    "clf = Lasso(alpha = 1e-3)\n",
    "cv_scores_all = cross_validate(clf, Features, y, cv = 5, scoring=('r2'), return_train_score = True)\n",
    "print ('total variance', np.mean(cv_scores_all['train_score']), np.mean(cv_scores_all['test_score']))\n",
    "importances = []\n",
    "importances_std = []\n",
    "for i, feature in enumerate([Features_A, Features_Y, Features_X, Features_M, Features_S, Features_C]):\n",
    "    clf = Lasso(alpha = 1e-3)\n",
    "    cv_scores = cross_validate(clf, feature, y, cv = 5, scoring=('r2'), return_train_score = True)\n",
    "    print ('total variance', np.mean(cv_scores_all['train_score'] -  cv_scores['train_score']), \\\n",
    "           np.mean(cv_scores_all['test_score'] - cv_scores['test_score']))\n",
    "    importances.append(np.mean(cv_scores_all['test_score'] - cv_scores['test_score']))\n",
    "    importances_std.append(np.std(cv_scores_all['test_score'] - cv_scores['test_score']))"
   ]
  },
  {
   "cell_type": "code",
   "execution_count": 33,
   "metadata": {},
   "outputs": [
    {
     "name": "stdout",
     "output_type": "stream",
     "text": [
      "total variance 0.6199333086024569 0.616098696369416\n",
      "total variance 0.0002084292386299813 0.00017799360267927166\n",
      "total variance 0.005637816634458548 0.005200699670664855\n",
      "total variance 0.003856031573089469 0.00349963747524884\n",
      "total variance 0.24456735652920597 0.25001901446643426\n",
      "total variance 0.08419576398176423 0.08454351574639349\n",
      "total variance 0.03750032346686545 0.03856816138832022\n"
     ]
    }
   ],
   "source": [
    "weight0 ='weights_cpu1/rnn_1515tanh512_checkpoint39'\n",
    "States1, Poss1, Hiddens1, Actions1, Context1 = Data_record(weight, epsilon=1)\n",
    "y, Features, Features_A, Features_Y, Features_X, Features_M, Features_S, Features_C = Feature_preprocessing(States1, Poss1, Hiddens1, Actions1,\\\n",
    "                                                                                                           Context1)\n",
    "clf = Lasso(alpha = 1e-3)\n",
    "cv_scores_all = cross_validate(clf, Features, y, cv = 5, scoring=('r2'), return_train_score = True)\n",
    "print ('total variance', np.mean(cv_scores_all['train_score']), np.mean(cv_scores_all['test_score']))\n",
    "importances = []\n",
    "importances_std = []\n",
    "for i, feature in enumerate([Features_A, Features_Y, Features_X, Features_M, Features_S, Features_C]):\n",
    "    clf = Lasso(alpha = 1e-3)\n",
    "    cv_scores = cross_validate(clf, feature, y, cv = 5, scoring=('r2'), return_train_score = True)\n",
    "    print ('total variance', np.mean(cv_scores_all['train_score'] -  cv_scores['train_score']), \\\n",
    "           np.mean(cv_scores_all['test_score'] - cv_scores['test_score']))\n",
    "    importances.append(np.mean(cv_scores_all['test_score'] - cv_scores['test_score']))\n",
    "    importances_std.append(np.std(cv_scores_all['test_score'] - cv_scores['test_score']))"
   ]
  },
  {
   "cell_type": "code",
   "execution_count": 34,
   "metadata": {},
   "outputs": [],
   "source": [
    "np.save('importance_39_ran', importances)\n",
    "np.save('importance_39_ran_std', importances_std)"
   ]
  },
  {
   "cell_type": "code",
   "execution_count": 35,
   "metadata": {},
   "outputs": [
    {
     "data": {
      "text/plain": [
       "([<matplotlib.axis.YTick at 0x7f96a19c2f98>,\n",
       "  <matplotlib.axis.YTick at 0x7f96a1b6e240>,\n",
       "  <matplotlib.axis.YTick at 0x7f96a116d2e8>,\n",
       "  <matplotlib.axis.YTick at 0x7f96a1b27ac8>,\n",
       "  <matplotlib.axis.YTick at 0x7f96a12f1828>,\n",
       "  <matplotlib.axis.YTick at 0x7f96a1058240>,\n",
       "  <matplotlib.axis.YTick at 0x7f96a12c32b0>],\n",
       " <a list of 7 Text yticklabel objects>)"
      ]
     },
     "execution_count": 35,
     "metadata": {},
     "output_type": "execute_result"
    },
    {
     "data": {
      "image/png": "[encoded data removed]",
      "text/plain": [
       "<matplotlib.figure.Figure at 0x7f96a1b27208>"
      ]
     },
     "metadata": {},
     "output_type": "display_data"
    }
   ],
   "source": [
    "ax = subplot(1, 1, 1)\n",
    "ax.spines['top'].set_visible(False)\n",
    "ax.spines['right'].set_visible(False)\n",
    "imp = np.load('importance_39_ran.npy')\n",
    "imp_std = np.load('importance_39_ran_std.npy')\n",
    "plt.bar(np.arange(6), height = imp, yerr = imp_std)\n",
    "plt.xticks([0, 1, 2, 3, 4, 5], ['A', 'Y', 'X', 'M', 'S', 'C'], size = 15)\n",
    "plt.yticks([0, 0, 0.02, 0.04, 0.06, 0.08, 0.1], size = 15)"
   ]
  },
  {
   "cell_type": "code",
   "execution_count": 15,
   "metadata": {},
   "outputs": [
    {
     "name": "stdout",
     "output_type": "stream",
     "text": [
      "total variance 0.31721267690645655 0.2942473889825306\n",
      "total variance 0.027002631190721216 0.026514853996747596\n",
      "total variance 0.012149880899032994 0.006382254638992124\n",
      "total variance 0.061483550335101576 0.05719279277966778\n",
      "total variance 0.04440506871493353 0.043728727474883745\n",
      "total variance 0.02152842744217217 0.021326007147972975\n",
      "total variance 0.02176225992520271 0.02195953498579638\n"
     ]
    }
   ],
   "source": [
    "# record sessions 100 for 2 different context, record the relevant variables \n",
    "weight ='weights_fix/weights1/rnn_1515tanh512_checkpoint39_2_9'\n",
    "States1, Poss1, Hiddens1, Actions1, Context1 = Data_record(weight)\n",
    "y, Features, Features_A, Features_Y, Features_X, Features_M, Features_S, Features_C = Feature_preprocessing(States1, Poss1, Hiddens1, Actions1,\\\n",
    "                                                                                                           Context1)\n",
    "clf = Lasso(alpha = 1e-3)\n",
    "cv_scores_all = cross_validate(clf, Features, y, cv = 5, scoring=('r2'), return_train_score = True)\n",
    "print ('total variance', np.mean(cv_scores_all['train_score']), np.mean(cv_scores_all['test_score']))\n",
    "importances = []\n",
    "importances_std = []\n",
    "for i, feature in enumerate([Features_A, Features_Y, Features_X, Features_M, Features_S, Features_C]):\n",
    "    clf = Lasso(alpha = 1e-3)\n",
    "    cv_scores = cross_validate(clf, feature, y, cv = 5, scoring=('r2'), return_train_score = True)\n",
    "    print ('total variance', np.mean(cv_scores_all['train_score'] -  cv_scores['train_score']), \\\n",
    "           np.mean(cv_scores_all['test_score'] - cv_scores['test_score']))\n",
    "    importances.append(np.mean(cv_scores_all['test_score'] - cv_scores['test_score']))\n",
    "    importances_std.append(np.std(cv_scores_all['test_score'] - cv_scores['test_score']))"
   ]
  },
  {
   "cell_type": "code",
   "execution_count": 16,
   "metadata": {},
   "outputs": [],
   "source": [
    "np.save('importance_39_early', importances)\n",
    "np.save('importance_39_early_std', importances_std)"
   ]
  },
  {
   "cell_type": "code",
   "execution_count": 17,
   "metadata": {},
   "outputs": [
    {
     "data": {
      "text/plain": [
       "([<matplotlib.axis.YTick at 0x7f96a21ab320>,\n",
       "  <matplotlib.axis.YTick at 0x7f96a1740dd8>,\n",
       "  <matplotlib.axis.YTick at 0x7f96a2080b70>,\n",
       "  <matplotlib.axis.YTick at 0x7f96a2866470>,\n",
       "  <matplotlib.axis.YTick at 0x7f96a13f0780>,\n",
       "  <matplotlib.axis.YTick at 0x7f96a13f0e10>,\n",
       "  <matplotlib.axis.YTick at 0x7f96a1fb54e0>],\n",
       " <a list of 7 Text yticklabel objects>)"
      ]
     },
     "execution_count": 17,
     "metadata": {},
     "output_type": "execute_result"
    },
    {
     "data": {
      "image/png": "[encoded data removed]",
      "text/plain": [
       "<matplotlib.figure.Figure at 0x7f96a1d1c6a0>"
      ]
     },
     "metadata": {},
     "output_type": "display_data"
    }
   ],
   "source": [
    "ax = subplot(1, 1, 1)\n",
    "ax.spines['top'].set_visible(False)\n",
    "ax.spines['right'].set_visible(False)\n",
    "imp = np.load('importance_39_early.npy')\n",
    "imp_std = np.load('importance_39_early_std.npy')\n",
    "plt.bar(np.arange(6), height = imp, yerr = imp_std)\n",
    "plt.xticks([0, 1, 2, 3, 4, 5], ['A', 'Y', 'X', 'M', 'S', 'C'], size = 15)\n",
    "plt.yticks([0, 0, 0.02, 0.04, 0.06, 0.08, 0.1], size = 15)"
   ]
  },
  {
   "cell_type": "code",
   "execution_count": 6,
   "metadata": {},
   "outputs": [
    {
     "name": "stdout",
     "output_type": "stream",
     "text": [
      "total variance 0.3293548604588767 0.302178242437437\n",
      "total variance 0.023281584548012914 0.02268872299490212\n",
      "total variance 0.010922114970701613 0.006340058649743708\n",
      "total variance 0.06191556487930637 0.058104443962850395\n",
      "total variance 0.05568991566761493 0.05317901535938727\n",
      "total variance 0.021861688208954243 0.02155693360398636\n",
      "total variance 0.028074375152168464 0.027763299692792842\n"
     ]
    }
   ],
   "source": [
    "# record sessions 100 for 2 different context, record the relevant variables \n",
    "weight ='weights_fix/weights1/rnn_1515tanh512_checkpoint39_2_9'\n",
    "States1, Poss1, Hiddens1, Actions1, Context1 = Data_record(weight)\n",
    "y, Features, Features_A, Features_Y, Features_X, Features_M, Features_S, Features_C = Feature_preprocessing(States1, Poss1, Hiddens1, Actions1,\\\n",
    "                                                                                                           Context1)\n",
    "clf = Lasso(alpha = 1e-3)\n",
    "cv_scores_all = cross_validate(clf, Features, y, cv = 5, scoring=('r2'), return_train_score = True)\n",
    "print ('total variance', np.mean(cv_scores_all['train_score']), np.mean(cv_scores_all['test_score']))\n",
    "importances = []\n",
    "importances_std = []\n",
    "for i, feature in enumerate([Features_A, Features_Y, Features_X, Features_M, Features_S, Features_C]):\n",
    "    clf = Lasso(alpha = 1e-3)\n",
    "    cv_scores = cross_validate(clf, feature, y, cv = 5, scoring=('r2'), return_train_score = True)\n",
    "    print ('total variance', np.mean(cv_scores_all['train_score'] -  cv_scores['train_score']), \\\n",
    "           np.mean(cv_scores_all['test_score'] - cv_scores['test_score']))\n",
    "    importances.append(np.mean(cv_scores_all['test_score'] - cv_scores['test_score']))\n",
    "    importances_std.append(np.std(cv_scores_all['test_score'] - cv_scores['test_score']))"
   ]
  },
  {
   "cell_type": "code",
   "execution_count": 7,
   "metadata": {},
   "outputs": [],
   "source": [
    "np.save('importance_39', importances)\n",
    "np.save('importance_39_std', importances_std)"
   ]
  },
  {
   "cell_type": "code",
   "execution_count": 31,
   "metadata": {},
   "outputs": [
    {
     "data": {
      "text/plain": [
       "([<matplotlib.axis.YTick at 0x7f96a0da35c0>,\n",
       "  <matplotlib.axis.YTick at 0x7f96a0da3d68>],\n",
       " <a list of 2 Text yticklabel objects>)"
      ]
     },
     "execution_count": 31,
     "metadata": {},
     "output_type": "execute_result"
    },
    {
     "data": {
      "image/png": "[encoded data removed]",
      "text/plain": [
       "<matplotlib.figure.Figure at 0x7f96a0dfbb70>"
      ]
     },
     "metadata": {},
     "output_type": "display_data"
    }
   ],
   "source": [
    "ax = subplot(1, 1, 1)\n",
    "ax.spines['top'].set_visible(False)\n",
    "ax.spines['right'].set_visible(False)\n",
    "imp = np.load('importance_39.npy')\n",
    "imp_std = np.load('importance_39_std.npy')\n",
    "plt.bar(np.arange(6), height = imp, yerr = imp_std)\n",
    "plt.xticks([0, 1, 2, 3, 4, 5], ['A', 'Y', 'X', 'M', 'S', 'C'], size = 15)\n",
    "plt.yticks([0, 0.1], size = 15)"
   ]
  },
  {
   "cell_type": "markdown",
   "metadata": {},
   "source": [
    "plt.hist(np.array(entropy1))\n",
    "plt.figure()\n",
    "plt.hist(np.array(entropy2))"
   ]
  },
  {
   "cell_type": "markdown",
   "metadata": {},
   "source": [
    "## Pretrain Net2"
   ]
  },
  {
   "cell_type": "code",
   "execution_count": 20,
   "metadata": {},
   "outputs": [
    {
     "name": "stdout",
     "output_type": "stream",
     "text": [
      "total variance 0.48801937512183163 0.47862559380930403\n",
      "total variance 0.0054364210886023836 0.0049760003762125745\n",
      "total variance 0.017238618699956965 0.015518189510648095\n",
      "total variance 0.013729599098896428 0.012327570184542547\n",
      "total variance 0.2047673708895889 0.21098770605324338\n",
      "total variance 0.07701052149262691 0.07779149437159348\n",
      "total variance 0.028704327767368153 0.02912998770702563\n"
     ]
    }
   ],
   "source": [
    "weight = 'weights_fix_pre2/weights1/rnn_1515tanh512_checkpoint49_0_9'\n",
    "# loadweight(weight_load = 'weights_cpu8/rnn_1515tanh512_checkpoint{}'.format(trial))\n",
    "States1, Poss1, Hiddens1, Actions1, Context1 = Data_record(weight)\n",
    "y, Features, Features_A, Features_Y, Features_X, Features_M, Features_S, Features_C = Feature_preprocessing(States1, Poss1, Hiddens1, Actions1,\\\n",
    "                                                                                                           Context1)\n",
    "clf = Lasso(alpha = 1e-3)\n",
    "cv_scores_all = cross_validate(clf, Features, y, cv = 5, scoring=('r2'), return_train_score = True)\n",
    "print ('total variance', np.mean(cv_scores_all['train_score']), np.mean(cv_scores_all['test_score']))\n",
    "importances = []\n",
    "importances_std = []\n",
    "for i, feature in enumerate([Features_A, Features_Y, Features_X, Features_M, Features_S, Features_C]):\n",
    "    clf = Lasso(alpha = 1e-3)\n",
    "    cv_scores = cross_validate(clf, feature, y, cv = 5, scoring=('r2'), return_train_score = True)\n",
    "    print ('total variance', np.mean(cv_scores_all['train_score'] -  cv_scores['train_score']), \\\n",
    "           np.mean(cv_scores_all['test_score'] - cv_scores['test_score']))\n",
    "    importances.append(np.mean(cv_scores_all['test_score'] - cv_scores['test_score']))\n",
    "    importances_std.append(np.std(cv_scores_all['test_score'] - cv_scores['test_score']))"
   ]
  },
  {
   "cell_type": "code",
   "execution_count": 22,
   "metadata": {},
   "outputs": [],
   "source": [
    "np.save('importance_49', importances)\n",
    "np.save('importance_49_std', importances_std)"
   ]
  },
  {
   "cell_type": "code",
   "execution_count": 43,
   "metadata": {},
   "outputs": [
    {
     "data": {
      "text/plain": [
       "([<matplotlib.axis.YTick at 0x7f96a0f92710>,\n",
       "  <matplotlib.axis.YTick at 0x7f96a0e43b70>],\n",
       " <a list of 2 Text yticklabel objects>)"
      ]
     },
     "execution_count": 43,
     "metadata": {},
     "output_type": "execute_result"
    },
    {
     "data": {
      "image/png": "[encoded data removed]",
      "text/plain": [
       "<matplotlib.figure.Figure at 0x7f96a0dfb748>"
      ]
     },
     "metadata": {},
     "output_type": "display_data"
    }
   ],
   "source": [
    "ax = subplot(1, 1, 1)\n",
    "ax.spines['top'].set_visible(False)\n",
    "ax.spines['right'].set_visible(False)\n",
    "imp = np.load('importance_49.npy')\n",
    "imp_std = np.load('importance_49_std.npy')\n",
    "plt.bar(np.arange(6), height = imp, yerr = imp_std)\n",
    "plt.xticks([0, 1, 2, 3, 4, 5], ['A', 'Y', 'X', 'M', 'S', 'C'], size = 15)\n",
    "plt.yticks([0, 0.1], size = 15)\n",
    "# plt.ylim(0, 0.1)"
   ]
  },
  {
   "cell_type": "markdown",
   "metadata": {},
   "source": [
    "## Build a SVM decoder "
   ]
  },
  {
   "cell_type": "markdown",
   "metadata": {},
   "source": [
    "### position"
   ]
  },
  {
   "cell_type": "code",
   "execution_count": 18,
   "metadata": {},
   "outputs": [],
   "source": [
    "# increasing action 10 times will increase decoding efficientcy by 10 %\n",
    "weight ='weights_cpu/rnn_1515tanh512_checkpoint0'\n",
    "# # change weights\n",
    "States, Poss, Hiddens, Actions, Context = Data_record(weight, k_action = 1, T = 500, seed_num = 1e6, epsilon = 1, size = 15)\n",
    "States, Poss, Hiddens, Actions, Status, Context = Transform(States, Poss, Hiddens, Actions, Context)\n",
    "X = np.array(Hiddens[Status>1])\n",
    "Y = Status[Status>1]\n",
    "score0 = cross_validate(model, X,Y, cv = 5)"
   ]
  },
  {
   "cell_type": "code",
   "execution_count": 14,
   "metadata": {},
   "outputs": [
    {
     "name": "stdout",
     "output_type": "stream",
     "text": [
      "0.9782879818594105\n"
     ]
    }
   ],
   "source": [
    "# increasing action 10 times will increase decoding efficientcy by 10 %\n",
    "weight ='weights_cpu_pre2/rnn_1515tanh512_checkpoint0'\n",
    "Pretest = PretrainTest(weight, holes = 0, inputs_type = (0, 0))\n",
    "Pretest.loadweight(weight)\n",
    "States, Poss, Hiddens, Actions, Context = Data_record(weight, k_action = 1, T = 500, seed_num = 1e6, epsilon = 1, size = 15)\n",
    "States, Poss, Hiddens, Actions, Status, Context = Transform(States, Poss, Hiddens, Actions, Context)\n",
    "X = np.array(Hiddens[Status>1])\n",
    "Y = Status[Status>1]\n",
    "score = cross_validate(model, X,Y, cv = 5)"
   ]
  },
  {
   "cell_type": "code",
   "execution_count": 19,
   "metadata": {},
   "outputs": [],
   "source": [
    "# increasing action 10 times will increase decoding efficientcy by 10 %\n",
    "\n",
    "weight ='weights_cpu/rnn_1515tanh512_checkpoint300'\n",
    "States, Poss, Hiddens, Actions, Context = Data_record(weight, k_action = 1, T = 500, seed_num = 1e6, epsilon = 1, size = 15)\n",
    "States, Poss, Hiddens, Actions, Status, Context = Transform(States, Poss, Hiddens, Actions, Context)\n",
    "X = np.array(Hiddens[Status>1])\n",
    "Y = Status[Status>1]\n",
    "score_pos = cross_validate(model, X,Y, cv = 5)"
   ]
  },
  {
   "cell_type": "code",
   "execution_count": 20,
   "metadata": {},
   "outputs": [],
   "source": [
    "test_echo = score0['test_score']\n",
    "test_pre2 = score['test_score']\n",
    "test_pos = score_pos['test_score']"
   ]
  },
  {
   "cell_type": "code",
   "execution_count": 32,
   "metadata": {},
   "outputs": [
    {
     "data": {
      "text/plain": [
       "([<matplotlib.axis.YTick at 0x7ff40730c588>,\n",
       "  <matplotlib.axis.YTick at 0x7ff4073b2e80>,\n",
       "  <matplotlib.axis.YTick at 0x7ff4073128d0>],\n",
       " <a list of 3 Text yticklabel objects>)"
      ]
     },
     "execution_count": 32,
     "metadata": {},
     "output_type": "execute_result"
    },
    {
     "data": {
      "image/png": "[encoded data removed]",
      "text/plain": [
       "<matplotlib.figure.Figure at 0x7ff414116048>"
      ]
     },
     "metadata": {},
     "output_type": "display_data"
    }
   ],
   "source": [
    "ax = subplot(1, 1, 1)\n",
    "ax.spines['top'].set_visible(False)\n",
    "ax.spines['right'].set_visible(False)\n",
    "\n",
    "barlist = plt.bar(np.arange(3), height = [np.mean(test_echo), np.mean(test_pos), np.mean(test_pre2)], yerr =  [np.std(test_echo), np.std(test_pos), np.std(test_pre2)])\n",
    "barlist[0].set_color('b')\n",
    "barlist[1].set_color('r')\n",
    "barlist[2].set_color('g')\n",
    "plt.xticks([0, 1, 2], ['echo', 'PosNet', 'MemNet'], size = 15)\n",
    "plt.yticks([0, 0.5, 1], size = 15)"
   ]
  },
  {
   "cell_type": "code",
   "execution_count": 6,
   "metadata": {},
   "outputs": [
    {
     "data": {
      "text/plain": [
       "0.07706672412554766"
      ]
     },
     "execution_count": 6,
     "metadata": {},
     "output_type": "execute_result"
    }
   ],
   "source": [
    "np.abs(np.array(y_test)//15 - model.predict(X_test)//15).mean() + np.abs(np.array(y_test)%15 -  model.predict(X_test)%15).mean()"
   ]
  },
  {
   "cell_type": "code",
   "execution_count": 11,
   "metadata": {},
   "outputs": [
    {
     "name": "stdout",
     "output_type": "stream",
     "text": [
      "0.6447786721873939\n"
     ]
    }
   ],
   "source": [
    "# increasing action 10 times will increase decoding efficientcy by 10 %\n",
    "weight ='weights_cpu/rnn_1515tanh512_checkpoint0'\n",
    "# # change weights\n",
    "States, Poss, Hiddens, Actions, Context = Data_record(weight, k_action = 1, T = 500, seed_num = 1e6, epsilon = 0.5, size  =15)\n",
    "States, Poss, Hiddens, Actions, Status, Context = Transform(States, Poss, Hiddens, Actions, Context)\n",
    "X = np.array(Hiddens[Status>1])\n",
    "Y = [p[0]/15 for p in Poss[Status>1]]\n",
    "from sklearn.model_selection import train_test_split\n",
    "from sklearn.metrics import f1_score\n",
    "X_train, X_test, y_train, y_test = train_test_split(X,Y,test_size=0.9, random_state=30)\n",
    " \n",
    "model = sklearn.linear_model.Lasso(alpha=1e-3)\n",
    "model.fit(X_train, y_train)\n",
    "print (r2_score(y_test, model.predict(X_test)))"
   ]
  },
  {
   "cell_type": "code",
   "execution_count": 12,
   "metadata": {},
   "outputs": [
    {
     "name": "stdout",
     "output_type": "stream",
     "text": [
      "0.6992427838530717\n"
     ]
    }
   ],
   "source": [
    "# increasing action 10 times will increase decoding efficientcy by 10 %\n",
    "weight ='weights_cpu/rnn_1515tanh512_checkpoint300'\n",
    "# # change weights\n",
    "States, Poss, Hiddens, Actions, Context = Data_record(weight, k_action = 1, T = 500, seed_num = 1e6, epsilon = 0.5, size  =15)\n",
    "States, Poss, Hiddens, Actions, Status, Context = Transform(States, Poss, Hiddens, Actions, Context)\n",
    "X = np.array(Hiddens[Status>1])\n",
    "Y = [p[0]/15 for p in Poss[Status>1]]\n",
    "from sklearn.model_selection import train_test_split\n",
    "from sklearn.metrics import f1_score\n",
    "X_train, X_test, y_train, y_test = train_test_split(X,Y,test_size=0.9, random_state=30)\n",
    " \n",
    "model = sklearn.linear_model.Lasso(alpha=1e-3)\n",
    "model.fit(X_train, y_train)\n",
    "print (r2_score(y_test, model.predict(X_test)))"
   ]
  },
  {
   "cell_type": "code",
   "execution_count": 57,
   "metadata": {},
   "outputs": [
    {
     "data": {
      "text/plain": [
       "0.13342626842487867"
      ]
     },
     "execution_count": 57,
     "metadata": {},
     "output_type": "execute_result"
    }
   ],
   "source": [
    "np.abs(np.array(y_test)//15 - model.predict(X_test)//15).mean() + np.abs(np.array(y_test)%15 -  model.predict(X_test)%15).mean()"
   ]
  },
  {
   "cell_type": "code",
   "execution_count": 3,
   "metadata": {},
   "outputs": [
    {
     "name": "stdout",
     "output_type": "stream",
     "text": [
      "0.039778307843412374\n"
     ]
    }
   ],
   "source": [
    "# increasing action 10 times will increase decoding efficientcy by 10 %\n",
    "weight ='weights_fix/weights1/rnn_1515tanh512_checkpoint39_0_9'\n",
    "# # change weights\n",
    "States, Poss, Hiddens, Actions, Context = Data_record(weight, k_action = 1, T = 800, seed_num = 1e6, epsilon = 1)\n",
    "States, Poss, Hiddens, Actions, Status, Context = Transform(States, Poss, Hiddens, Actions, Context)\n",
    "X = np.array(Hiddens[Status>0][:-2])\n",
    "Y = [p[1] + p[0] * 15 for p in Poss[Status>0][2:]]\n",
    "from sklearn.model_selection import train_test_split\n",
    "from sklearn.metrics import f1_score\n",
    "X_train, X_test, y_train, y_test = train_test_split(X,Y,test_size=0.5, random_state=30)\n",
    " \n",
    "gammas = [1e-2]\n",
    "for gamma in gammas:\n",
    "    model1 = sklearn.svm.SVC(C = 1e5, gamma = gamma, kernel = 'linear')\n",
    "    model1.fit(X_train, y_train)\n",
    "    print (f1_score(y_test, model1.predict(X_test), average = 'micro'))"
   ]
  },
  {
   "cell_type": "code",
   "execution_count": 5,
   "metadata": {},
   "outputs": [
    {
     "data": {
      "text/plain": [
       "5.5"
      ]
     },
     "execution_count": 5,
     "metadata": {},
     "output_type": "execute_result"
    }
   ],
   "source": [
    "np.abs(np.array(y_test[:100])//15 - model1.predict(X_test[:100])//15).mean() + np.abs(np.array(y_test[:100])%15 -  model1.predict(X_test[:100])%15).mean()"
   ]
  },
  {
   "cell_type": "code",
   "execution_count": 8,
   "metadata": {},
   "outputs": [
    {
     "name": "stdout",
     "output_type": "stream",
     "text": [
      "0.0569691829233814\n"
     ]
    }
   ],
   "source": [
    "# increasing action 10 times will increase decoding efficientcy by 10 %\n",
    "weight ='weights_fix/weights1/rnn_1515tanh512_checkpoint39_0_9'\n",
    "# # change weights\n",
    "States, Poss, Hiddens, Actions, Context = Data_record(weight, k_action = 1, T = 800, seed_num = 1e6, epsilon = 1)\n",
    "States, Poss, Hiddens, Actions, Status, Context = Transform(States, Poss, Hiddens, Actions, Context)\n",
    "X = np.array(Hiddens[Status>0])\n",
    "Y = [p[1] + p[0] * 15 for p in Poss[Status>0]]\n",
    "from sklearn.model_selection import train_test_split\n",
    "from sklearn.metrics import f1_score\n",
    "X_train, X_test, y_train, y_test = train_test_split(X,Y,test_size=0.5, random_state=30)\n",
    " \n",
    "gammas = [1e-2]\n",
    "for gamma in gammas:\n",
    "    model1 = sklearn.svm.SVC(C = 1e5, gamma = gamma, kernel = 'linear')\n",
    "    model1.fit(X_train, y_train)\n",
    "    print (f1_score(y_test, model1.predict(X_test), average = 'micro'))"
   ]
  },
  {
   "cell_type": "code",
   "execution_count": 10,
   "metadata": {},
   "outputs": [
    {
     "data": {
      "text/plain": [
       "3.45"
      ]
     },
     "execution_count": 10,
     "metadata": {},
     "output_type": "execute_result"
    }
   ],
   "source": [
    "np.abs(np.array(y_test[:100])//15 - model1.predict(X_test[:100])//15).mean() + np.abs(np.array(y_test[:100])%15 -  model1.predict(X_test[:100])%15).mean()"
   ]
  },
  {
   "cell_type": "code",
   "execution_count": 17,
   "metadata": {},
   "outputs": [
    {
     "name": "stdout",
     "output_type": "stream",
     "text": [
      "0.06090251464002756\n"
     ]
    }
   ],
   "source": [
    "weight ='weights_fix_pre2/weights1/rnn_1515tanh512_checkpoint49_1_9'\n",
    "# # change weights\n",
    "States, Poss, Hiddens, Actions, Context = Data_record(weight, k_action = 1, epsilon = 1, T = 800, seed_num = 1e6)\n",
    "States, Poss, Hiddens, Actions, Status, Context = Transform(States, Poss, Hiddens, Actions, Context)\n",
    "X = np.array(Hiddens[Status>0])\n",
    "Y = [p[1] + p[0] * 15 for p in Poss[Status>0]]\n",
    "from sklearn.model_selection import train_test_split\n",
    "from sklearn.metrics import f1_score\n",
    "X_train, X_test, y_train, y_test = train_test_split(X,Y,test_size=0.5, random_state=30)\n",
    " \n",
    "gammas = [1e-2]\n",
    "for gamma in gammas:\n",
    "    model1 = sklearn.svm.SVC(C = 1e5, gamma = gamma, kernel = 'linear')\n",
    "    model1.fit(X_train, y_train)\n",
    "    print (f1_score(y_test, model1.predict(X_test), average = 'micro'))"
   ]
  },
  {
   "cell_type": "code",
   "execution_count": 18,
   "metadata": {},
   "outputs": [
    {
     "data": {
      "text/plain": [
       "4.43"
      ]
     },
     "execution_count": 18,
     "metadata": {},
     "output_type": "execute_result"
    }
   ],
   "source": [
    "np.abs(np.array(y_test[:100])//15 - model1.predict(X_test[:100])//15).mean() + np.abs(np.array(y_test[:100])%15 -  model1.predict(X_test[:100])%15).mean()"
   ]
  },
  {
   "cell_type": "code",
   "execution_count": null,
   "metadata": {},
   "outputs": [],
   "source": [
    "### memory "
   ]
  },
  {
   "cell_type": "code",
   "execution_count": 85,
   "metadata": {},
   "outputs": [
    {
     "name": "stdout",
     "output_type": "stream",
     "text": [
      "0.6783576308190717\n"
     ]
    }
   ],
   "source": [
    "weight ='weights_fix/weights1/rnn_1515tanh512_checkpoint0_0_9'\n",
    "# # change weights\n",
    "States, Poss, Hiddens, Actions, Context = Data_record(weight, k_action = 1, epsilon = 1, T = 800, seed_num = 1e6, size = 30)\n",
    "States, Poss, Hiddens, Actions, Status, Context = Transform(States, Poss, Hiddens, Actions, Context, size = 15)\n",
    "X = np.array(Hiddens[Status>0])\n",
    "Y = Status[Status>0]\n",
    "from sklearn.model_selection import train_test_split\n",
    "from sklearn.metrics import f1_score\n",
    "X_train, X_test, y_train, y_test = train_test_split(X,Y,test_size=0.5, random_state=30)\n",
    " \n",
    "model = sklearn.linear_model.LogisticRegression(C = 1e5)\n",
    "model.fit(X_train, y_train)\n",
    "print (f1_score(y_test, model.predict(X_test), average = 'micro'))"
   ]
  },
  {
   "cell_type": "code",
   "execution_count": 87,
   "metadata": {},
   "outputs": [
    {
     "name": "stdout",
     "output_type": "stream",
     "text": [
      "0.630360236150882\n"
     ]
    }
   ],
   "source": [
    "weight ='weights_fix/weights1/rnn_1515tanh512_checkpoint39_0_9'\n",
    "# # change weights\n",
    "States, Poss, Hiddens, Actions, Context = Data_record(weight, k_action = 1, epsilon = 1, T = 800, seed_num = 1e6, size = 30)\n",
    "States, Poss, Hiddens, Actions, Status, Context = Transform(States, Poss, Hiddens, Actions, Context, size = 15)\n",
    "X = np.array(Hiddens[Status>0])\n",
    "Y = Status[Status>0]\n",
    "from sklearn.model_selection import train_test_split\n",
    "from sklearn.metrics import f1_score\n",
    "X_train, X_test, y_train, y_test = train_test_split(X,Y,test_size=0.5, random_state=30)\n",
    " \n",
    "model = sklearn.linear_model.LogisticRegression(C = 1e5)\n",
    "model.fit(X_train, y_train)\n",
    "print (f1_score(y_test, model.predict(X_test), average = 'micro'))"
   ]
  },
  {
   "cell_type": "code",
   "execution_count": 10,
   "metadata": {},
   "outputs": [
    {
     "ename": "FileNotFoundError",
     "evalue": "[Errno 2] No such file or directory: 'weights_fix_pre2/weights1/rnn_1515tanh512_checkpoint49_1_9'",
     "output_type": "error",
     "traceback": [
      "\u001b[0;31m----\u001b[0m",
      "\u001b[0;31mFileNotFoundError\u001b[0mTraceback (most recent call last)",
      "\u001b[0;32m<ipython-input-10-a317263ab427>\u001b[0m in \u001b[0;36m<module>\u001b[0;34m()\u001b[0m\n\u001b[1;32m      1\u001b[0m \u001b[0mweight\u001b[0m \u001b[0;34m=\u001b[0m\u001b[0;34m'weights_fix_pre2/weights1/rnn_1515tanh512_checkpoint49_1_9'\u001b[0m\u001b[0;34m\u001b[0m\u001b[0m\n\u001b[1;32m      2\u001b[0m \u001b[0;31m# # change weights\u001b[0m\u001b[0;34m\u001b[0m\u001b[0;34m\u001b[0m\u001b[0m\n\u001b[0;32m----> 3\u001b[0;31m \u001b[0mStates\u001b[0m\u001b[0;34m,\u001b[0m \u001b[0mPoss\u001b[0m\u001b[0;34m,\u001b[0m \u001b[0mHiddens\u001b[0m\u001b[0;34m,\u001b[0m \u001b[0mActions\u001b[0m\u001b[0;34m,\u001b[0m \u001b[0mContext\u001b[0m \u001b[0;34m=\u001b[0m \u001b[0mData_record\u001b[0m\u001b[0;34m(\u001b[0m\u001b[0mweight\u001b[0m\u001b[0;34m,\u001b[0m \u001b[0mk_action\u001b[0m \u001b[0;34m=\u001b[0m \u001b[0;36m1\u001b[0m\u001b[0;34m,\u001b[0m \u001b[0mepsilon\u001b[0m \u001b[0;34m=\u001b[0m \u001b[0;36m1\u001b[0m\u001b[0;34m,\u001b[0m \u001b[0mT\u001b[0m \u001b[0;34m=\u001b[0m \u001b[0;36m800\u001b[0m\u001b[0;34m,\u001b[0m \u001b[0mseed_num\u001b[0m \u001b[0;34m=\u001b[0m \u001b[0;36m1e6\u001b[0m\u001b[0;34m,\u001b[0m \u001b[0msize\u001b[0m \u001b[0;34m=\u001b[0m \u001b[0;36m50\u001b[0m\u001b[0;34m)\u001b[0m\u001b[0;34m\u001b[0m\u001b[0m\n\u001b[0m\u001b[1;32m      4\u001b[0m \u001b[0mStates\u001b[0m\u001b[0;34m,\u001b[0m \u001b[0mPoss\u001b[0m\u001b[0;34m,\u001b[0m \u001b[0mHiddens\u001b[0m\u001b[0;34m,\u001b[0m \u001b[0mActions\u001b[0m\u001b[0;34m,\u001b[0m \u001b[0mStatus\u001b[0m\u001b[0;34m,\u001b[0m \u001b[0mContext\u001b[0m \u001b[0;34m=\u001b[0m \u001b[0mTransform\u001b[0m\u001b[0;34m(\u001b[0m\u001b[0mStates\u001b[0m\u001b[0;34m,\u001b[0m \u001b[0mPoss\u001b[0m\u001b[0;34m,\u001b[0m \u001b[0mHiddens\u001b[0m\u001b[0;34m,\u001b[0m \u001b[0mActions\u001b[0m\u001b[0;34m,\u001b[0m \u001b[0mContext\u001b[0m\u001b[0;34m,\u001b[0m \u001b[0msize\u001b[0m \u001b[0;34m=\u001b[0m \u001b[0;36m15\u001b[0m\u001b[0;34m)\u001b[0m\u001b[0;34m\u001b[0m\u001b[0m\n\u001b[1;32m      5\u001b[0m \u001b[0mX\u001b[0m \u001b[0;34m=\u001b[0m \u001b[0mnp\u001b[0m\u001b[0;34m.\u001b[0m\u001b[0marray\u001b[0m\u001b[0;34m(\u001b[0m\u001b[0mHiddens\u001b[0m\u001b[0;34m[\u001b[0m\u001b[0mStatus\u001b[0m\u001b[0;34m>\u001b[0m\u001b[0;36m0\u001b[0m\u001b[0;34m]\u001b[0m\u001b[0;34m)\u001b[0m\u001b[0;34m\u001b[0m\u001b[0m\n",
      "\u001b[0;32m<ipython-input-9-c0d96b60e7ba>\u001b[0m in \u001b[0;36mData_record\u001b[0;34m(weight, k_action, epsilon, size, T, seed_num)\u001b[0m\n\u001b[1;32m     14\u001b[0m         game = ValueMaxGame(grid_size = (size, size), holes = 0, random_seed = 0 , set_reward = [(0.5, 0.25), (0.5, 0.75)], input_type = 0, discount = 0.9, alpha = 1\n\u001b[1;32m     15\u001b[0m                            ,lam = 0)\n\u001b[0;32m---> 16\u001b[0;31m         \u001b[0mgame\u001b[0m\u001b[0;34m.\u001b[0m\u001b[0mnet\u001b[0m\u001b[0;34m.\u001b[0m\u001b[0mload_state_dict\u001b[0m\u001b[0;34m(\u001b[0m\u001b[0mtorch\u001b[0m\u001b[0;34m.\u001b[0m\u001b[0mload\u001b[0m\u001b[0;34m(\u001b[0m\u001b[0mweight\u001b[0m\u001b[0;34m)\u001b[0m\u001b[0;34m)\u001b[0m\u001b[0;34m\u001b[0m\u001b[0m\n\u001b[0m\u001b[1;32m     17\u001b[0m         \u001b[0mgame\u001b[0m\u001b[0;34m.\u001b[0m\u001b[0mnet\u001b[0m\u001b[0;34m.\u001b[0m\u001b[0mk_action\u001b[0m \u001b[0;34m=\u001b[0m \u001b[0mk_action\u001b[0m\u001b[0;34m\u001b[0m\u001b[0m\n\u001b[1;32m     18\u001b[0m         \u001b[0mgrid\u001b[0m \u001b[0;34m=\u001b[0m \u001b[0mgame\u001b[0m\u001b[0;34m.\u001b[0m\u001b[0mgrid\u001b[0m\u001b[0;34m.\u001b[0m\u001b[0mgrid\u001b[0m\u001b[0;34m.\u001b[0m\u001b[0mcopy\u001b[0m\u001b[0;34m(\u001b[0m\u001b[0;34m)\u001b[0m\u001b[0;34m\u001b[0m\u001b[0m\n",
      "\u001b[0;32m~/anaconda3/lib/python3.6/site-packages/torch/serialization.py\u001b[0m in \u001b[0;36mload\u001b[0;34m(f, map_location, pickle_module)\u001b[0m\n\u001b[1;32m    299\u001b[0m             \u001b[0;34m(\u001b[0m\u001b[0msys\u001b[0m\u001b[0;34m.\u001b[0m\u001b[0mversion_info\u001b[0m\u001b[0;34m[\u001b[0m\u001b[0;36m0\u001b[0m\u001b[0;34m]\u001b[0m \u001b[0;34m==\u001b[0m \u001b[0;36m3\u001b[0m \u001b[0;32mand\u001b[0m \u001b[0misinstance\u001b[0m\u001b[0;34m(\u001b[0m\u001b[0mf\u001b[0m\u001b[0;34m,\u001b[0m \u001b[0mpathlib\u001b[0m\u001b[0;34m.\u001b[0m\u001b[0mPath\u001b[0m\u001b[0;34m)\u001b[0m\u001b[0;34m)\u001b[0m\u001b[0;34m:\u001b[0m\u001b[0;34m\u001b[0m\u001b[0m\n\u001b[1;32m    300\u001b[0m         \u001b[0mnew_fd\u001b[0m \u001b[0;34m=\u001b[0m \u001b[0;32mTrue\u001b[0m\u001b[0;34m\u001b[0m\u001b[0m\n\u001b[0;32m--> 301\u001b[0;31m         \u001b[0mf\u001b[0m \u001b[0;34m=\u001b[0m \u001b[0mopen\u001b[0m\u001b[0;34m(\u001b[0m\u001b[0mf\u001b[0m\u001b[0;34m,\u001b[0m \u001b[0;34m'rb'\u001b[0m\u001b[0;34m)\u001b[0m\u001b[0;34m\u001b[0m\u001b[0m\n\u001b[0m\u001b[1;32m    302\u001b[0m     \u001b[0;32mtry\u001b[0m\u001b[0;34m:\u001b[0m\u001b[0;34m\u001b[0m\u001b[0m\n\u001b[1;32m    303\u001b[0m         \u001b[0;32mreturn\u001b[0m \u001b[0m_load\u001b[0m\u001b[0;34m(\u001b[0m\u001b[0mf\u001b[0m\u001b[0;34m,\u001b[0m \u001b[0mmap_location\u001b[0m\u001b[0;34m,\u001b[0m \u001b[0mpickle_module\u001b[0m\u001b[0;34m)\u001b[0m\u001b[0;34m\u001b[0m\u001b[0m\n",
      "\u001b[0;31mFileNotFoundError\u001b[0m: [Errno 2] No such file or directory: 'weights_fix_pre2/weights1/rnn_1515tanh512_checkpoint49_1_9'"
     ]
    }
   ],
   "source": [
    "weight ='weights_fix_pre2/weights1/rnn_1515tanh512_checkpoint49_1_9'\n",
    "# # change weights\n",
    "States, Poss, Hiddens, Actions, Context = Data_record(weight, k_action = 1, epsilon = 1, T = 800, seed_num = 1e6, size = 50)\n",
    "States, Poss, Hiddens, Actions, Status, Context = Transform(States, Poss, Hiddens, Actions, Context, size = 15)\n",
    "X = np.array(Hiddens[Status>0])\n",
    "Y = Status[Status>0]\n",
    "from sklearn.model_selection import train_test_split\n",
    "from sklearn.metrics import f1_score\n",
    "X_train, X_test, y_train, y_test = train_test_split(X,Y,test_size=0.5, random_state=30)\n",
    " \n",
    "model = sklearn.linear_model.LogisticRegression(C = 1e5)\n",
    "model.fit(X_train, y_train)\n",
    "print (f1_score(y_test, model.predict(X_test), average = 'micro'))"
   ]
  },
  {
   "cell_type": "code",
   "execution_count": null,
   "metadata": {},
   "outputs": [],
   "source": [
    "### History "
   ]
  },
  {
   "cell_type": "code",
   "execution_count": 3,
   "metadata": {},
   "outputs": [
    {
     "name": "stdout",
     "output_type": "stream",
     "text": [
      "0.8517792098627066\n"
     ]
    }
   ],
   "source": [
    "weight ='weights_fix/weights1/rnn_1515tanh512_checkpoint0_0_9'\n",
    "# # change weights\n",
    "States, Poss, Hiddens, Actions, Context = Data_record(weight, epsilon = 1, k_action = 1, T = 400, seed_num = 1e6)\n",
    "States, Poss, Hiddens, Actions, Status, Context, Memory = Transform(States, Poss, Hiddens, Actions, Context, history = True)\n",
    "\n",
    "Mem = np.array([mem[1] + 4 * mem[0] for mem in Memory])\n",
    "\n",
    "X = np.array(Hiddens[Status>0])\n",
    "Y = Mem[Status>0]\n",
    "from sklearn.model_selection import train_test_split\n",
    "from sklearn.metrics import f1_score\n",
    "X_train, X_test, y_train, y_test = train_test_split(X,Y,test_size=0.5, random_state=30)\n",
    " \n",
    "gammas = [1e-2]\n",
    "for gamma in gammas:\n",
    "    model1 = sklearn.svm.SVC(C = 1e5, gamma = gamma, kernel = 'linear')\n",
    "    model1.fit(X_train, y_train)\n",
    "    print (f1_score(y_test, model1.predict(X_test), average = 'micro'))"
   ]
  },
  {
   "cell_type": "code",
   "execution_count": 4,
   "metadata": {},
   "outputs": [
    {
     "name": "stdout",
     "output_type": "stream",
     "text": [
      "0.6976256983240223\n"
     ]
    }
   ],
   "source": [
    "weight ='weights_fix/weights1/rnn_1515tanh512_checkpoint39_0_9'\n",
    "# # change weights\n",
    "States, Poss, Hiddens, Actions, Context = Data_record(weight, epsilon = 1, k_action = 1, T = 400, seed_num = 1e6)\n",
    "States, Poss, Hiddens, Actions, Status, Context, Memory = Transform(States, Poss, Hiddens, Actions, Context, history = True)\n",
    "\n",
    "Mem = np.array([mem[1] + 4 * mem[0] for mem in Memory])\n",
    "\n",
    "X = np.array(Hiddens[Status>0])\n",
    "Y = Mem[Status>0]\n",
    "from sklearn.model_selection import train_test_split\n",
    "from sklearn.metrics import f1_score\n",
    "X_train, X_test, y_train, y_test = train_test_split(X,Y,test_size=0.5, random_state=30)\n",
    " \n",
    "gammas = [1e-2]\n",
    "for gamma in gammas:\n",
    "    model1 = sklearn.svm.SVC(C = 1e5, gamma = gamma, kernel = 'linear')\n",
    "    model1.fit(X_train, y_train)\n",
    "    print (f1_score(y_test, model1.predict(X_test), average = 'micro'))"
   ]
  },
  {
   "cell_type": "code",
   "execution_count": 5,
   "metadata": {},
   "outputs": [
    {
     "name": "stdout",
     "output_type": "stream",
     "text": [
      "0.7255192878338279\n"
     ]
    }
   ],
   "source": [
    "weight ='weights_fix_pre2/weights1/rnn_1515tanh512_checkpoint49_1_9'\n",
    "# # change weights\n",
    "States, Poss, Hiddens, Actions, Context = Data_record(weight, epsilon = 1, k_action = 1, T = 400, seed_num = 1e6)\n",
    "States, Poss, Hiddens, Actions, Status, Context, Memory = Transform(States, Poss, Hiddens, Actions, Context, history = True)\n",
    "\n",
    "Mem = np.array([mem[1] + 4 * mem[0] for mem in Memory])\n",
    "\n",
    "X = np.array(Hiddens[Status>0])\n",
    "Y = Mem[Status>0]\n",
    "from sklearn.model_selection import train_test_split\n",
    "from sklearn.metrics import f1_score\n",
    "X_train, X_test, y_train, y_test = train_test_split(X,Y,test_size=0.5, random_state=30)\n",
    " \n",
    "gammas = [1e-2]\n",
    "for gamma in gammas:\n",
    "    model1 = sklearn.svm.SVC(C = 1e5, gamma = gamma, kernel = 'linear')\n",
    "    model1.fit(X_train, y_train)\n",
    "    print (f1_score(y_test, model1.predict(X_test), average = 'micro'))"
   ]
  },
  {
   "cell_type": "markdown",
   "metadata": {},
   "source": [
    "# Conclusion\n",
    "**The strongest property of pretrain net, no matter it is in the obstacle case or no hole case, is the strong presence of position/x signal in the code **"
   ]
  }
 ],
 "metadata": {
  "anaconda-cloud": {},
  "kernelspec": {
   "display_name": "Python 3",
   "language": "python",
   "name": "python3"
  },
  "language_info": {
   "codemirror_mode": {
    "name": "ipython",
    "version": 3
   },
   "file_extension": ".py",
   "mimetype": "text/x-python",
   "name": "python",
   "nbconvert_exporter": "python",
   "pygments_lexer": "ipython3",
   "version": "3.6.3"
  },
  "latex_envs": {
   "LaTeX_envs_menu_present": true,
   "autoclose": false,
   "autocomplete": true,
   "bibliofile": "biblio.bib",
   "cite_by": "apalike",
   "current_citInitial": 1,
   "eqLabelWithNumbers": true,
   "eqNumInitial": 1,
   "hotkeys": {
    "equation": "Ctrl-E",
    "itemize": "Ctrl-I"
   },
   "labels_anchors": false,
   "latex_user_defs": false,
   "report_style_numbering": false,
   "user_envs_cfg": false
  },
  "toc": {
   "nav_menu": {},
   "number_sections": true,
   "sideBar": true,
   "skip_h1_title": false,
   "title_cell": "Table of Contents",
   "title_sidebar": "Contents",
   "toc_cell": true,
   "toc_position": {
    "height": "759px",
    "left": "0px",
    "right": "1228px",
    "top": "67px",
    "width": "212px"
   },
   "toc_section_display": "block",
   "toc_window_display": true
  },
  "varInspector": {
   "cols": {
    "lenName": 16,
    "lenType": 16,
    "lenVar": 40
   },
   "kernels_config": {
    "python": {
     "delete_cmd_postfix": "",
     "delete_cmd_prefix": "del ",
     "library": "var_list.py",
     "varRefreshCmd": "print(var_dic_list())"
    },
    "r": {
     "delete_cmd_postfix": ") ",
     "delete_cmd_prefix": "rm(",
     "library": "var_list.r",
     "varRefreshCmd": "cat(var_dic_list()) "
    }
   },
   "types_to_exclude": [
    "module",
    "function",
    "builtin_function_or_method",
    "instance",
    "_Feature"
   ],
   "window_display": false
  }
 },
 "nbformat": 4,
 "nbformat_minor": 2
}
