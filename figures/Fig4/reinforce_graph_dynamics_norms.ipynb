{
 "cells": [
  {
   "cell_type": "markdown",
   "metadata": {
    "toc": "true"
   },
   "source": [
    "<h1>Table of Contents<span class=\"tocSkip\"></span></h1>\n",
    "<div class=\"toc\"><ul class=\"toc-item\"><li><span><a href=\"#quick-start\" data-toc-modified-id=\"quick-start-1\"><span class=\"toc-item-num\">1&nbsp;&nbsp;</span>quick start</a></span><ul class=\"toc-item\"><li><span><a href=\"#Resources\" data-toc-modified-id=\"Resources-1.1\"><span class=\"toc-item-num\">1.1&nbsp;&nbsp;</span>Resources</a></span></li></ul></li><li><span><a href=\"#FULL-MODEL\" data-toc-modified-id=\"FULL-MODEL-2\"><span class=\"toc-item-num\">2&nbsp;&nbsp;</span>FULL MODEL</a></span><ul class=\"toc-item\"><li><span><a href=\"#Packages\" data-toc-modified-id=\"Packages-2.1\"><span class=\"toc-item-num\">2.1&nbsp;&nbsp;</span>Packages</a></span><ul class=\"toc-item\"><li><span><a href=\"#Qnetwork\" data-toc-modified-id=\"Qnetwork-2.1.1\"><span class=\"toc-item-num\">2.1.1&nbsp;&nbsp;</span>Qnetwork</a></span></li></ul></li><li><span><a href=\"#POMDP-RNN-Game\" data-toc-modified-id=\"POMDP-RNN-Game-2.2\"><span class=\"toc-item-num\">2.2&nbsp;&nbsp;</span>POMDP RNN Game</a></span></li><li><span><a href=\"#Results\" data-toc-modified-id=\"Results-2.3\"><span class=\"toc-item-num\">2.3&nbsp;&nbsp;</span>Results</a></span><ul class=\"toc-item\"><li><span><a href=\"#Standard-setting：-grid-=--(3,7)，-holes-=-0\" data-toc-modified-id=\"Standard-setting：-grid-=--(3,7)，-holes-=-0-2.3.1\"><span class=\"toc-item-num\">2.3.1&nbsp;&nbsp;</span>Standard setting： grid =  (3,7)， holes = 0</a></span></li><li><span><a href=\"#Model-Tranining\" data-toc-modified-id=\"Model-Tranining-2.3.2\"><span class=\"toc-item-num\">2.3.2&nbsp;&nbsp;</span>Model Tranining</a></span></li><li><span><a href=\"#decoding-vs-performance\" data-toc-modified-id=\"decoding-vs-performance-2.3.3\"><span class=\"toc-item-num\">2.3.3&nbsp;&nbsp;</span>decoding vs performance</a></span></li><li><span><a href=\"#learning-rate-vs-performance\" data-toc-modified-id=\"learning-rate-vs-performance-2.3.4\"><span class=\"toc-item-num\">2.3.4&nbsp;&nbsp;</span>learning rate vs performance</a></span></li><li><span><a href=\"#Summary\" data-toc-modified-id=\"Summary-2.3.5\"><span class=\"toc-item-num\">2.3.5&nbsp;&nbsp;</span>Summary</a></span></li><li><span><a href=\"#Anlytic-part-,-check-the-behaviour-correspond-to-each-decoding-level-and-explain-why\" data-toc-modified-id=\"Anlytic-part-,-check-the-behaviour-correspond-to-each-decoding-level-and-explain-why-2.3.6\"><span class=\"toc-item-num\">2.3.6&nbsp;&nbsp;</span>Anlytic part , check the behaviour correspond to each decoding level and explain why</a></span></li></ul></li><li><span><a href=\"#PCA\" data-toc-modified-id=\"PCA-2.4\"><span class=\"toc-item-num\">2.4&nbsp;&nbsp;</span>PCA</a></span></li></ul></li></ul></div>"
   ]
  },
  {
   "cell_type": "markdown",
   "metadata": {},
   "source": [
    "# quick start "
   ]
  },
  {
   "cell_type": "markdown",
   "metadata": {},
   "source": [
    "**This study tries to loop upon each strategy on its own decoding/navigation performance**"
   ]
  },
  {
   "cell_type": "markdown",
   "metadata": {},
   "source": [
    "**Somethings to study**:\n",
    "1.  Take the overall statistics of results, compare what is qualitative change between echo state and pretrained network of different eigen values. Slightly better generalization of pretrained net in overall \n",
    "2.  Relation of decoding vs performance  Does decoding predicts small size performance?  Does decoding generalization performance? Does the decoding evolving in the q leanring predicts anything?   \n",
    "3.  Does the eigen values, which are the fingerprint of dynamics, predicts anything?   "
   ]
  },
  {
   "cell_type": "markdown",
   "metadata": {},
   "source": [
    "## Resources\n",
    "\n",
    "* [*The* Reinforcement learning book from Sutton & Barto](http://incompleteideas.net/sutton/book/the-book-2nd.html)\n",
    "* [The REINFORCE paper from Ronald J. Williams (1992)](http://www-anw.cs.umass.edu/~barto/courses/cs687/williams92simple.pdf)\n"
   ]
  },
  {
   "cell_type": "markdown",
   "metadata": {},
   "source": [
    "# FULL MODEL"
   ]
  },
  {
   "cell_type": "markdown",
   "metadata": {},
   "source": [
    "## Packages"
   ]
  },
  {
   "cell_type": "code",
   "execution_count": 1,
   "metadata": {},
   "outputs": [
    {
     "name": "stdout",
     "output_type": "stream",
     "text": [
      "Populating the interactive namespace from numpy and matplotlib\n"
     ]
    },
    {
     "name": "stderr",
     "output_type": "stream",
     "text": [
      "/home/tie/anaconda3/lib/python3.6/site-packages/IPython/core/magics/pylab.py:160: UserWarning: pylab import has clobbered these variables: ['random']\n",
      "`%matplotlib` prevents importing * from pylab and numpy\n",
      "  \"\\n`%matplotlib` prevents importing * from pylab and numpy\"\n"
     ]
    }
   ],
   "source": [
    "%load_ext autoreload\n",
    "%autoreload 2\n",
    "\n",
    "import numpy as np\n",
    "from itertools import count\n",
    "import random\n",
    "\n",
    "import torch\n",
    "import torch.nn as nn\n",
    "import torch.nn.functional as F\n",
    "import torch.optim as optim\n",
    "import torch.autograd as autograd\n",
    "from torch.autograd import Variable\n",
    "from torch.nn import init\n",
    "from torch.nn import DataParallel\n",
    "from torch.utils.data import DataLoader\n",
    "\n",
    "import matplotlib.mlab as mlab\n",
    "import matplotlib.pyplot as plt\n",
    "import matplotlib.animation\n",
    "import seaborn as sns\n",
    "from IPython.display import HTML\n",
    "\n",
    "import pretrain\n",
    "from pretrain import *\n",
    "\n",
    "import navigation2\n",
    "from navigation2 import *\n",
    "\n",
    "import sklearn\n",
    "from sklearn.svm import SVC\n",
    "\n",
    "import scipy\n",
    "from scipy.spatial import distance\n",
    "from scipy import signal\n",
    "\n",
    "import Nets\n",
    "from Nets import*\n",
    "\n",
    "%pylab inline\n",
    "import warnings\n",
    "warnings.filterwarnings('ignore')"
   ]
  },
  {
   "cell_type": "markdown",
   "metadata": {},
   "source": [
    "## Norm summary for different networks \n",
    "Try to get all performances 15, 35, 55, 85 here.  "
   ]
  },
  {
   "cell_type": "code",
   "execution_count": 2,
   "metadata": {},
   "outputs": [],
   "source": [
    "# try to understand the relation between principle component and the eigen vector = attractor here.   principle component should reflect this attractor state？  \n",
    "nets1 = np.arange(40)\n",
    "Nhh = []\n",
    "Nah = []\n",
    "Nih = []\n",
    "Nets = [nets1]\n",
    "for net in range(1):\n",
    "    nhhs= []\n",
    "    nahs = []\n",
    "    nihs = []\n",
    "    index = Nets[net]\n",
    "    for trial in index:\n",
    "#       readout weight as trained\n",
    "        Net = torch.load('weights_pre2/rnn_1515tanh512_checkpoint{}'.format(trial))\n",
    "        nhh = torch.norm(Net['h2h']).cpu().data.numpy().copy()\n",
    "        nah =  torch.norm(Net['a2h']).cpu().data.numpy().copy()\n",
    "        nih =  torch.norm(Net['i2h']).cpu().data.numpy().copy(0)\n",
    "        nhhs.append(nhh)\n",
    "        nahs.append(nah)\n",
    "        nihs.append(nih)\n",
    "    Nhh.append(np.array(nhhs))\n",
    "    Nah.append(np.array(nahs))\n",
    "    Nih.append(np.array(nihs))"
   ]
  },
  {
   "cell_type": "code",
   "execution_count": 3,
   "metadata": {},
   "outputs": [],
   "source": [
    "np.save('Nhh_pre2', Nhh)\n",
    "np.save('Nah_pre2', Nah)\n",
    "np.save('Nih_pre2', Nih)"
   ]
  },
  {
   "cell_type": "code",
   "execution_count": 21,
   "metadata": {},
   "outputs": [],
   "source": [
    "# try to understand the relation between principle component and the eigen vector = attractor here.   principle component should reflect this attractor state？  \n",
    "nets1 = np.arange(40)\n",
    "Nhh = []\n",
    "Nah = []\n",
    "Nih = []\n",
    "Nets = [nets1]\n",
    "for net in range(1):\n",
    "    nhhs= []\n",
    "    nahs = []\n",
    "    nihs = []\n",
    "    index = Nets[net]\n",
    "    for trial in index:\n",
    "#       readout weight as trained\n",
    "        Net = torch.load('weights_pre2_wah/rnn_1515tanh512_checkpoint{}'.format(trial))\n",
    "        nhh = torch.norm(Net['h2h']).cpu().data.numpy().copy()\n",
    "        nah =  torch.norm(Net['a2h']).cpu().data.numpy().copy()\n",
    "        nih =  torch.norm(Net['i2h']).cpu().data.numpy().copy(0)\n",
    "        nhhs.append(nhh)\n",
    "        nahs.append(nah)\n",
    "        nihs.append(nih)\n",
    "    Nhh.append(np.array(nhhs))\n",
    "    Nah.append(np.array(nahs))\n",
    "    Nih.append(np.array(nihs))"
   ]
  },
  {
   "cell_type": "code",
   "execution_count": 22,
   "metadata": {},
   "outputs": [],
   "source": [
    "np.save('Nhh_pre2_wah', Nhh)\n",
    "np.save('Nah_pre2_wah', Nah)\n",
    "np.save('Nih_pre2_wah', Nih)"
   ]
  },
  {
   "cell_type": "code",
   "execution_count": 9,
   "metadata": {},
   "outputs": [],
   "source": [
    "# try to understand the relation between principle component and the eigen vector = attractor here.   principle component should reflect this attractor state？  \n",
    "nets1 = np.arange(40)\n",
    "Nhh = []\n",
    "Nah = []\n",
    "Nih = []\n",
    "Nets = [nets1]\n",
    "for net in range(1):\n",
    "    nhhs= []\n",
    "    nahs = []\n",
    "    nihs = []\n",
    "    index = Nets[net]\n",
    "    for trial in index:\n",
    "#       readout weight as trained\n",
    "        Net = torch.load('weights_cpu1/rnn_1515tanh512_checkpoint{}'.format(trial))\n",
    "        nhh = torch.norm(Net['h2h']).cpu().data.numpy().copy()\n",
    "        nah =  torch.norm(Net['a2h']).cpu().data.numpy().copy()\n",
    "        nih =  torch.norm(Net['i2h']).cpu().data.numpy().copy(0)\n",
    "        nhhs.append(nhh)\n",
    "        nahs.append(nah)\n",
    "        nihs.append(nih)\n",
    "    Nhh.append(np.array(nhhs))\n",
    "    Nah.append(np.array(nahs))\n",
    "    Nih.append(np.array(nihs))"
   ]
  },
  {
   "cell_type": "code",
   "execution_count": 10,
   "metadata": {},
   "outputs": [],
   "source": [
    "np.save('Nhh_pre1', Nhh)\n",
    "np.save('Nah_pre1', Nah)\n",
    "np.save('Nih_pre1', Nih)"
   ]
  },
  {
   "cell_type": "code",
   "execution_count": 29,
   "metadata": {},
   "outputs": [],
   "source": [
    "# try to understand the relation between principle component and the eigen vector = attractor here.   principle component should reflect this attractor state？  \n",
    "nets1 = np.arange(40)\n",
    "Nhh = []\n",
    "Nah = []\n",
    "Nih = []\n",
    "Nets = [nets1]\n",
    "for net in range(1):\n",
    "    nhhs= []\n",
    "    nahs = []\n",
    "    nihs = []\n",
    "    index = Nets[net]\n",
    "    for trial in index:\n",
    "#       readout weight as trained\n",
    "        Net = torch.load('weights_cpu2/rnn_1515tanh512_checkpoint{}'.format(trial))\n",
    "        nhh = torch.norm(Net['h2h']).cpu().data.numpy().copy()\n",
    "        nah =  torch.norm(Net['a2h']).cpu().data.numpy().copy()\n",
    "        nih =  torch.norm(Net['i2h']).cpu().data.numpy().copy(0)\n",
    "        nhhs.append(nhh)\n",
    "        nahs.append(nah)\n",
    "        nihs.append(nih)\n",
    "    Nhh.append(np.array(nhhs))\n",
    "    Nah.append(np.array(nahs))\n",
    "    Nih.append(np.array(nihs))"
   ]
  },
  {
   "cell_type": "code",
   "execution_count": 30,
   "metadata": {},
   "outputs": [],
   "source": [
    "np.save('Nhh_pre1_2', Nhh)\n",
    "np.save('Nah_pre1_2', Nah)\n",
    "np.save('Nih_pre1_2', Nih)"
   ]
  },
  {
   "cell_type": "code",
   "execution_count": 37,
   "metadata": {},
   "outputs": [],
   "source": [
    "# try to understand the relation between principle component and the eigen vector = attractor here.   principle component should reflect this attractor state？  \n",
    "nets1 = np.arange(20)\n",
    "Nhh = []\n",
    "Nah = []\n",
    "Nih = []\n",
    "Nets = [nets1]\n",
    "for net in range(1):\n",
    "    nhhs= []\n",
    "    nahs = []\n",
    "    nihs = []\n",
    "    index = Nets[net]\n",
    "    for trial in index:\n",
    "#       readout weight as trained\n",
    "        Net = torch.load('weights_cpu_stim_xy/rnn_1515tanh512_checkpoint{}'.format(trial))\n",
    "        nhh = torch.norm(Net['h2h']).cpu().data.numpy().copy()\n",
    "        nah =  torch.norm(Net['a2h']).cpu().data.numpy().copy()\n",
    "        nih =  torch.norm(Net['i2h']).cpu().data.numpy().copy(0)\n",
    "        nhhs.append(nhh)\n",
    "        nahs.append(nah)\n",
    "        nihs.append(nih)\n",
    "    Nhh.append(np.array(nhhs))\n",
    "    Nah.append(np.array(nahs))\n",
    "    Nih.append(np.array(nihs))"
   ]
  },
  {
   "cell_type": "code",
   "execution_count": 38,
   "metadata": {},
   "outputs": [],
   "source": [
    "np.save('Nhh_pre_mix', Nhh)\n",
    "np.save('Nah_pre_mix', Nah)\n",
    "np.save('Nih_pre_mix', Nih)"
   ]
  },
  {
   "cell_type": "code",
   "execution_count": 51,
   "metadata": {},
   "outputs": [],
   "source": [
    "# try to understand the relation between principle component and the eigen vector = attractor here.   principle component should reflect this attractor state？  \n",
    "nets1 = np.arange(35)\n",
    "Nhh = []\n",
    "Nah = []\n",
    "Nih = []\n",
    "Nets = [nets1]\n",
    "for net in range(1):\n",
    "    nhhs= []\n",
    "    nahs = []\n",
    "    nihs = []\n",
    "    index = Nets[net]\n",
    "    for trial in index:\n",
    "#       readout weight as trained\n",
    "        Net = torch.load('weights_cpu_xy_noinfo/rnn_1515tanh512_checkpoint{}'.format(trial))\n",
    "        nhh = torch.norm(Net['h2h']).cpu().data.numpy().copy()\n",
    "        nah =  torch.norm(Net['a2h']).cpu().data.numpy().copy()\n",
    "        nih =  torch.norm(Net['i2h']).cpu().data.numpy().copy(0)\n",
    "        nhhs.append(nhh)\n",
    "        nahs.append(nah)\n",
    "        nihs.append(nih)\n",
    "    Nhh.append(np.array(nhhs))\n",
    "    Nah.append(np.array(nahs))\n",
    "    Nih.append(np.array(nihs))"
   ]
  },
  {
   "cell_type": "code",
   "execution_count": 52,
   "metadata": {},
   "outputs": [],
   "source": [
    "np.save('Nhh_xy_noinfo', Nhh)\n",
    "np.save('Nah_xy_noinfo', Nah)\n",
    "np.save('Nih_xy_noinfo', Nih)"
   ]
  },
  {
   "cell_type": "code",
   "execution_count": 9,
   "metadata": {},
   "outputs": [],
   "source": [
    "# try to understand the relation between principle component and the eigen vector = attractor here.   principle component should reflect this attractor state？  \n",
    "nets1 = np.arange(400)\n",
    "Nhh = []\n",
    "Nah = []\n",
    "Nih = []\n",
    "Nets = [nets1]\n",
    "for net in range(1):\n",
    "    nhhs= []\n",
    "    nahs = []\n",
    "    nihs = []\n",
    "    index = Nets[net]\n",
    "    for trial in index:\n",
    "#       readout weight as trained\n",
    "        Net = torch.load('weights_cpu_pos/rnn_1515tanh512_checkpoint{}'.format(trial))\n",
    "        nhh = torch.norm(Net['h2h']).cpu().data.numpy().copy()\n",
    "        nah =  torch.norm(Net['a2h']).cpu().data.numpy().copy()\n",
    "        nih =  torch.norm(Net['i2h']).cpu().data.numpy().copy(0)\n",
    "        nhhs.append(nhh)\n",
    "        nahs.append(nah)\n",
    "        nihs.append(nih)\n",
    "    Nhh.append(np.array(nhhs))\n",
    "    Nah.append(np.array(nahs))\n",
    "    Nih.append(np.array(nihs))"
   ]
  },
  {
   "cell_type": "code",
   "execution_count": 10,
   "metadata": {},
   "outputs": [],
   "source": [
    "np.save('Nhh_pos', Nhh)\n",
    "np.save('Nah_pos', Nah)\n",
    "np.save('Nih_pos', Nih)"
   ]
  },
  {
   "cell_type": "markdown",
   "metadata": {},
   "source": [
    "# taket the egien values corresponding to selected neurons\n",
    "ax = subplot(1, 1, 1)\n",
    "ax.spines['top'].set_visible(False)\n",
    "ax.spines['right'].set_visible(False)\n",
    "ax.yaxis.set_ticks_position('left')\n",
    "ax.xaxis.set_ticks_position('bottom')\n",
    "\n",
    "Eigen_img_pre1 = np.load('Eigen_img.npy')\n",
    "Eigen_real_min_pre1  =  np.load('Eigen_real_min.npy')\n",
    "Eigen_img_pre2 = np.array(Eigen_img)\n",
    "Eigen_real_max_pre2 = np.array(Eigen_real_max)\n",
    "Eigen_real_min_pre2 = np.array(Eigen_real_min)\n",
    "plt.plot(Eigen_img_pre2[0].ravel(), Eigen_real_min_pre2[0].ravel(), 'r.')\n",
    "plt.plot(Eigen_img_pre1[0].ravel(), Eigen_real_min_pre1[0].ravel(), 'g.')"
   ]
  },
  {
   "cell_type": "code",
   "execution_count": 12,
   "metadata": {},
   "outputs": [
    {
     "data": {
      "text/plain": [
       "[<matplotlib.lines.Line2D at 0x7ff4a95dedd8>]"
      ]
     },
     "execution_count": 12,
     "metadata": {},
     "output_type": "execute_result"
    },
    {
     "data": {
      "image/png": "[encoded data removed]",
      "text/plain": [
       "<matplotlib.figure.Figure at 0x7ff4ad0f8e48>"
      ]
     },
     "metadata": {},
     "output_type": "display_data"
    }
   ],
   "source": [
    "# pretrain2\n",
    "Nhh = np.load('Nhh_pre2.npy')\n",
    "Nah = np.load('Nah_pre2.npy')\n",
    "Nih = np.load('Nih_pre2.npy')\n",
    "ax = subplot(1, 1, 1)\n",
    "ax.spines['top'].set_visible(False)\n",
    "ax.spines['right'].set_visible(False)\n",
    "ax.yaxis.set_ticks_position('left')\n",
    "ax.xaxis.set_ticks_position('bottom')\n",
    "# plt.figure(0)\n",
    "plt.plot(np.array(Nhh).ravel()/Nhh[0, 0], np.array(Nah).ravel()/Nah[0, 0], 'g.')\n",
    "# pretrain1\n",
    "plt.plot(np.array(Nhh).ravel()/Nhh[0, 0], np.array(Nih).ravel()/Nih[0, 0], 'g.')\n",
    "Nhh = np.load('Nhh_pre1.npy')\n",
    "Nah = np.load('Nah_pre1.npy')\n",
    "Nih = np.load('Nih_pre1.npy')\n",
    "ax = subplot(1, 1, 1)\n",
    "ax.spines['top'].set_visible(False)\n",
    "ax.spines['right'].set_visible(False)\n",
    "ax.yaxis.set_ticks_position('left')\n",
    "ax.xaxis.set_ticks_position('bottom')\n",
    "# plt.figure(0)\n",
    "plt.plot(np.array(Nhh).ravel()/Nhh[0, 0], np.array(Nah).ravel()/Nah[0, 0], 'm.')\n",
    "plt.xticks([0.8, 1, 1.2], size = 15)\n",
    "plt.yticks([1, 3, 5], size = 15)\n",
    "\n",
    "Nhh = np.load('Nhh_pos.npy')\n",
    "Nah = np.load('Nah_pos.npy')\n",
    "Nih = np.load('Nih_pos.npy')\n",
    "plt.plot(np.array(Nhh).ravel()/Nhh[0, 0], np.array(Nah).ravel()/Nah[0, 0], 'r.', alpha = 0.3)"
   ]
  },
  {
   "cell_type": "markdown",
   "metadata": {},
   "source": [
    "### Performance compare "
   ]
  },
  {
   "cell_type": "code",
   "execution_count": 21,
   "metadata": {},
   "outputs": [
    {
     "data": {
      "text/plain": [
       "(5, 6)"
      ]
     },
     "execution_count": 21,
     "metadata": {},
     "output_type": "execute_result"
    }
   ],
   "source": [
    "# Performance_s_early_abs = np.load('performance_s_early_abs.npy')\n",
    "# Performance_l_early_3 = np.load('performance_l_early_net_3.npy')\n",
    "Performance_echo_abs = np.load('Performance_echo_position.npy')[0]\n",
    "Performance_echo_abs.shape"
   ]
  },
  {
   "cell_type": "code",
   "execution_count": 22,
   "metadata": {},
   "outputs": [],
   "source": [
    "Performance_exxl = np.concatenate((Performance_exxl_late_1[0], Performance_exxl_late_2[0], Performance_exxl_late_3[0]), axis = 0)\n",
    "Performance_exl = np.concatenate((Performance_exl_late_1[0], Performance_exl_late_2[0], Performance_exl_late_3[0]), axis = 0)\n",
    "Performance_l = np.concatenate((Performance_l_late_1[0], Performance_l_late_2[0], Performance_l_late_3[0]), axis = 0)\n",
    "Performance_m = np.concatenate((Performance_m_late_1[0], Performance_m_late_2[0], Performance_m_late_3[0]), axis = 0)\n",
    "Performance_s = np.concatenate((Performance_s_late_1[0], Performance_s_late_2[0], Performance_s_late_3[0]), axis = 0)"
   ]
  },
  {
   "cell_type": "markdown",
   "metadata": {},
   "source": [
    "### Pretrained Net\n",
    "draw pictures about the echo state and largest training samples performance evolution & generalization   Add path integrator or position network "
   ]
  },
  {
   "cell_type": "markdown",
   "metadata": {},
   "source": [
    "longer time, there is no pheonmean associate with multi-stability"
   ]
  },
  {
   "cell_type": "markdown",
   "metadata": {},
   "source": [
    "Here with action feedback, dynamics shift to a totally different regime which is around hopf bifurcation, but it is not hugely shaped by the stimulus"
   ]
  },
  {
   "cell_type": "markdown",
   "metadata": {},
   "source": [
    "From this graph of PC, we will see that the representation states of trajectory (3,5) and (14,5) are actually qutie close to each other , reflecting symmetry in real space, it is in spirit of predictive decoding, using least number of interal states to play well. "
   ]
  },
  {
   "cell_type": "markdown",
   "metadata": {},
   "source": [
    "# Conclusion\n",
    "**Internal dynamics rather than decoding performance influences more the performance in uncertain enviroments**\n",
    "\n",
    "**Consider to think in global loops rather than separated system, thus the coupled dynamical system.  This system, which has its genome on its internal weights, will have quite different different pheno-types from the global loops,  richness of internal dynamics turns into extenable phenotypes which supports behaviours across scales.   The different types of attractors, fix point, limit cycle becomes substrate of strategy in different size rooms.  Thus generalization can be done until certain size, which offers complicate behaviour with a \"simple mind\"**\n",
    "\n",
    "**The triangle between decoding, dynamics and navigation should be like: 1, dynamics coded by internal weight is most fundamental, it gives rise to different representations(phenotypes).   2,  The relation between decoding and navigation are reciprocal. not random behaviour gives better enviromental prediction(complement the free energy principle) 2,  we should distinguish internal dynamics and global dynamics**"
   ]
  },
  {
   "cell_type": "code",
   "execution_count": null,
   "metadata": {},
   "outputs": [],
   "source": []
  }
 ],
 "metadata": {
  "anaconda-cloud": {},
  "kernelspec": {
   "display_name": "Python 3",
   "language": "python",
   "name": "python3"
  },
  "language_info": {
   "codemirror_mode": {
    "name": "ipython",
    "version": 3
   },
   "file_extension": ".py",
   "mimetype": "text/x-python",
   "name": "python",
   "nbconvert_exporter": "python",
   "pygments_lexer": "ipython3",
   "version": "3.6.3"
  },
  "latex_envs": {
   "LaTeX_envs_menu_present": true,
   "autoclose": false,
   "autocomplete": true,
   "bibliofile": "biblio.bib",
   "cite_by": "apalike",
   "current_citInitial": 1,
   "eqLabelWithNumbers": true,
   "eqNumInitial": 1,
   "hotkeys": {
    "equation": "Ctrl-E",
    "itemize": "Ctrl-I"
   },
   "labels_anchors": false,
   "latex_user_defs": false,
   "report_style_numbering": false,
   "user_envs_cfg": false
  },
  "toc": {
   "nav_menu": {},
   "number_sections": true,
   "sideBar": true,
   "skip_h1_title": false,
   "title_cell": "Table of Contents",
   "title_sidebar": "Contents",
   "toc_cell": true,
   "toc_position": {
    "height": "759px",
    "left": "0px",
    "right": "1228px",
    "top": "67px",
    "width": "212px"
   },
   "toc_section_display": "block",
   "toc_window_display": true
  },
  "varInspector": {
   "cols": {
    "lenName": 16,
    "lenType": 16,
    "lenVar": 40
   },
   "kernels_config": {
    "python": {
     "delete_cmd_postfix": "",
     "delete_cmd_prefix": "del ",
     "library": "var_list.py",
     "varRefreshCmd": "print(var_dic_list())"
    },
    "r": {
     "delete_cmd_postfix": ") ",
     "delete_cmd_prefix": "rm(",
     "library": "var_list.r",
     "varRefreshCmd": "cat(var_dic_list()) "
    }
   },
   "types_to_exclude": [
    "module",
    "function",
    "builtin_function_or_method",
    "instance",
    "_Feature"
   ],
   "window_display": false
  }
 },
 "nbformat": 4,
 "nbformat_minor": 2
}
