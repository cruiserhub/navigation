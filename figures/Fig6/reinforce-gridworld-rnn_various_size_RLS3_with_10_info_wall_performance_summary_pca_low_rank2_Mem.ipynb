{
 "cells": [
  {
   "cell_type": "markdown",
   "metadata": {
    "toc": "true"
   },
   "source": [
    "<h1>Table of Contents<span class=\"tocSkip\"></span></h1>\n",
    "<div class=\"toc\"><ul class=\"toc-item\"><li><span><a href=\"#quick-start\" data-toc-modified-id=\"quick-start-1\"><span class=\"toc-item-num\">1&nbsp;&nbsp;</span>quick start</a></span><ul class=\"toc-item\"><li><span><a href=\"#Resources\" data-toc-modified-id=\"Resources-1.1\"><span class=\"toc-item-num\">1.1&nbsp;&nbsp;</span>Resources</a></span></li></ul></li><li><span><a href=\"#FULL-MODEL\" data-toc-modified-id=\"FULL-MODEL-2\"><span class=\"toc-item-num\">2&nbsp;&nbsp;</span>FULL MODEL</a></span><ul class=\"toc-item\"><li><span><a href=\"#Packages\" data-toc-modified-id=\"Packages-2.1\"><span class=\"toc-item-num\">2.1&nbsp;&nbsp;</span>Packages</a></span><ul class=\"toc-item\"><li><span><a href=\"#Qnetwork\" data-toc-modified-id=\"Qnetwork-2.1.1\"><span class=\"toc-item-num\">2.1.1&nbsp;&nbsp;</span>Qnetwork</a></span></li></ul></li><li><span><a href=\"#POMDP-RNN-Game\" data-toc-modified-id=\"POMDP-RNN-Game-2.2\"><span class=\"toc-item-num\">2.2&nbsp;&nbsp;</span>POMDP RNN Game</a></span></li><li><span><a href=\"#Results\" data-toc-modified-id=\"Results-2.3\"><span class=\"toc-item-num\">2.3&nbsp;&nbsp;</span>Results</a></span><ul class=\"toc-item\"><li><span><a href=\"#Standard-setting：-grid-=--(3,7)，-holes-=-0\" data-toc-modified-id=\"Standard-setting：-grid-=--(3,7)，-holes-=-0-2.3.1\"><span class=\"toc-item-num\">2.3.1&nbsp;&nbsp;</span>Standard setting： grid =  (3,7)， holes = 0</a></span></li><li><span><a href=\"#Model-Tranining\" data-toc-modified-id=\"Model-Tranining-2.3.2\"><span class=\"toc-item-num\">2.3.2&nbsp;&nbsp;</span>Model Tranining</a></span></li><li><span><a href=\"#decoding-vs-performance\" data-toc-modified-id=\"decoding-vs-performance-2.3.3\"><span class=\"toc-item-num\">2.3.3&nbsp;&nbsp;</span>decoding vs performance</a></span></li><li><span><a href=\"#learning-rate-vs-performance\" data-toc-modified-id=\"learning-rate-vs-performance-2.3.4\"><span class=\"toc-item-num\">2.3.4&nbsp;&nbsp;</span>learning rate vs performance</a></span></li><li><span><a href=\"#Summary\" data-toc-modified-id=\"Summary-2.3.5\"><span class=\"toc-item-num\">2.3.5&nbsp;&nbsp;</span>Summary</a></span></li><li><span><a href=\"#Anlytic-part-,-check-the-behaviour-correspond-to-each-decoding-level-and-explain-why\" data-toc-modified-id=\"Anlytic-part-,-check-the-behaviour-correspond-to-each-decoding-level-and-explain-why-2.3.6\"><span class=\"toc-item-num\">2.3.6&nbsp;&nbsp;</span>Anlytic part , check the behaviour correspond to each decoding level and explain why</a></span></li></ul></li><li><span><a href=\"#PCA\" data-toc-modified-id=\"PCA-2.4\"><span class=\"toc-item-num\">2.4&nbsp;&nbsp;</span>PCA</a></span></li></ul></li></ul></div>"
   ]
  },
  {
   "cell_type": "markdown",
   "metadata": {},
   "source": [
    "# quick start "
   ]
  },
  {
   "cell_type": "markdown",
   "metadata": {},
   "source": [
    "**Check relation betweeen dynamics and generalization.   Hypothesis to make: generalization can only be understood in level of joint dynamical system, there is a clear link between the two**\n",
    "\n",
    "**Dynamnics determines generalization , not decoding , same decoding level can have very different dynamics , thus different generalization level.  Only when the dynamics of RNN forms object correspond to real relevant objects for game, the generalization can be good.   For instance , in a varying size game, you extend the size of game from 10 to 30, what will happen?  You can do a kind of dynamical programing , according to which wall you have seen and how many steps you have passed , you decide future action.    This can be achieved robustly by the dynamical system where fix points are correspond to walls**"
   ]
  },
  {
   "cell_type": "markdown",
   "metadata": {},
   "source": [
    "## Resources\n",
    "\n",
    "* [*The* Reinforcement learning book from Sutton & Barto](http://incompleteideas.net/sutton/book/the-book-2nd.html)\n",
    "* [The REINFORCE paper from Ronald J. Williams (1992)](http://www-anw.cs.umass.edu/~barto/courses/cs687/williams92simple.pdf)\n"
   ]
  },
  {
   "cell_type": "markdown",
   "metadata": {},
   "source": [
    "# FULL MODEL"
   ]
  },
  {
   "cell_type": "markdown",
   "metadata": {},
   "source": [
    "## Packages"
   ]
  },
  {
   "cell_type": "code",
   "execution_count": 1,
   "metadata": {},
   "outputs": [
    {
     "name": "stdout",
     "output_type": "stream",
     "text": [
      "Populating the interactive namespace from numpy and matplotlib\n"
     ]
    },
    {
     "name": "stderr",
     "output_type": "stream",
     "text": [
      "/home/tie/anaconda3/lib/python3.6/site-packages/IPython/core/magics/pylab.py:160: UserWarning: pylab import has clobbered these variables: ['random']\n",
      "`%matplotlib` prevents importing * from pylab and numpy\n",
      "  \"\\n`%matplotlib` prevents importing * from pylab and numpy\"\n"
     ]
    }
   ],
   "source": [
    "%load_ext autoreload\n",
    "%autoreload 2\n",
    "\n",
    "import numpy as np\n",
    "from itertools import count\n",
    "import random\n",
    "\n",
    "import torch\n",
    "import torch.nn as nn\n",
    "import torch.nn.functional as F\n",
    "import torch.optim as optim\n",
    "import torch.autograd as autograd\n",
    "from torch.autograd import Variable\n",
    "from torch.nn import init\n",
    "from torch.nn import DataParallel\n",
    "from torch.utils.data import DataLoader\n",
    "\n",
    "import matplotlib.mlab as mlab\n",
    "import matplotlib.pyplot as plt\n",
    "import matplotlib.animation\n",
    "import seaborn as sns\n",
    "from IPython.display import HTML\n",
    "\n",
    "import pretrain\n",
    "from pretrain import *\n",
    "\n",
    "import navigation2\n",
    "from navigation2 import *\n",
    "\n",
    "import sklearn\n",
    "from sklearn.svm import SVC\n",
    "from sklearn.manifold import Isomap\n",
    "from sklearn.manifold import SpectralEmbedding\n",
    "from sklearn.manifold import TSNE\n",
    "from sklearn.linear_model import Lasso\n",
    "from sklearn.model_selection import train_test_split\n",
    "from sklearn.metrics import f1_score\n",
    "from sklearn.metrics import r2_score\n",
    "\n",
    "import scipy\n",
    "from scipy.spatial import distance\n",
    "from scipy import signal\n",
    "\n",
    "import dynamics\n",
    "from dynamics import*\n",
    "\n",
    "%pylab inline\n",
    "import warnings\n",
    "warnings.filterwarnings('ignore')"
   ]
  },
  {
   "cell_type": "markdown",
   "metadata": {},
   "source": [
    "For the liquid state approach to work, you need a lot of neurons as surplus or enough hidden to hidden connectivity to make it have an effect."
   ]
  },
  {
   "cell_type": "markdown",
   "metadata": {},
   "source": [
    "## PCA\n",
    "differ by speed, stability and final results on different sizes of arena, both for intra, and extrapolation"
   ]
  },
  {
   "cell_type": "code",
   "execution_count": 2,
   "metadata": {},
   "outputs": [],
   "source": [
    "class PretrainTest():\n",
    "    def __init__(self, weight_write, holes = 0, inputs_type = (1, 0)):\n",
    "        self.pregame = PretrainGame(grid_size = (15, 15), holes = holes, random_seed = 4 , set_reward = [(0.5, 0.25), (0.5, 0.75)], input_type = inputs_type[0])\n",
    "        self.game = ValueMaxGame(grid_size = (15, 15), holes = 0, random_seed = 4 , set_reward = [(0.5, 0.25), (0.5, 0.75)], input_type = inputs_type[1])\n",
    "        self.weight = weight_write\n",
    "            \n",
    "    def loadweight(self, weight_load):\n",
    "#       need to take the state dict as a new dict for updating \n",
    "        net_dict = torch.load(weight_load)\n",
    "        list_modules = [('h2h', net_dict['h2h']), ('a2h', net_dict['a2h']), ('i2h', net_dict['i2h']), ('r2h', net_dict['r2h']), ('bh', net_dict['bh'])]\n",
    "        select_dict = OrderedDict(list_modules)\n",
    "        net = self.pregame.net.state_dict()\n",
    "        net.update(select_dict)\n",
    "        self.pregame.net.load_state_dict(net)\n",
    "        torch.save(self.pregame.net.state_dict(), self.weight) \n",
    "    \n",
    "        \n",
    "    def pretrain(self, trial, weight = None, lr = 1e-5, pretrain = True):  \n",
    "        # start a pretrained game  \n",
    "        self.pregame.net.cuda()\n",
    "        if pretrain == True:\n",
    "            lr = float(lr)\n",
    "            if weight != None:\n",
    "                self.pregame.net.load_state_dict(torch.load(weight))\n",
    "            self.pregame.fulltrain(lr_rate = lr, trials = int(1e3), batchsize = 4)\n",
    "        print ('pretrain end', torch.norm(self.pregame.net.h2h))\n",
    "        if pretrain == True:\n",
    "            torch.save(self.pregame.net.state_dict(), self.weight[:-1]+'{}'.format(trial))\n",
    "        else:\n",
    "            torch.save(self.pregame.net.state_dict(), self.weight+'{}'.format(trial))\n",
    "        if pretrain == True and trial <= 10:\n",
    "            self.weight = self.weight[:-1]+'{}'.format(trial)\n",
    "        elif pretrain == True and trial > 10:\n",
    "            self.weight = self.weight[:-2]+'{}'.format(trial)\n",
    "        elif pretrain == False:\n",
    "            self.weight = self.weight +'{}'.format(trial)\n",
    "            \n",
    "    def decode(self, weight = None):\n",
    "        if weight != None:\n",
    "            self.pregame.net.load_state_dict(torch.load(weight))\n",
    "        else:\n",
    "             self.pregame.net.load_state_dict(torch.load(self.weight))\n",
    "        rls_q = RLS(1e2)\n",
    "        rls_sl = RLS(1e2)\n",
    "        self.game.net.cpu()\n",
    "        self.game.experiment(rls_q, rls_sl,20, epsilon = 0.5, train_hidden = False, train_q = False, size_range=(15, 16), test = True) \n",
    "        def precision():\n",
    "            prec0 = np.mean(decodetest(self.game, reward_control= 0, epsilon = 0)[0] + decodetest(self.game, reward_control = 1,  epsilon = 0)[0])\n",
    "            prec1 = np.mean(decodetest(self.game, reward_control= 0, epsilon = 0.5)[0] + decodetest(self.game, reward_control =  1,  epsilon = 0.5)[0])\n",
    "            prec2 = np.mean(decodetest(self.game, reward_control= 0, epsilon = 1)[0] + decodetest(self.game, reward_control =  1,  epsilon = 1)[0])\n",
    "            return (prec0 + prec1 + prec2)/3, (prec2 - prec0)\n",
    "        print ('decode train finish')\n",
    "        Prec, dif = precision()\n",
    "        print ('decode end', Prec, 'dif decode', dif)\n",
    "        return Prec, dif\n",
    "        # q learning session \n",
    "    \n",
    "        \n",
    "    def qlearn(self, weight_read, weight_write, iterations = 5, save = True, size_train = np.arange(10, 51, 10), \\\n",
    "               size_test = [10, 30], train_only = False, test_only = False, noise = 0.3, h2o = True,\n",
    "              k_action = 1, k_internal = 1, k_stim = 1):\n",
    "        self.game.net.load_state_dict(torch.load(weight_read))\n",
    "        if h2o == True:\n",
    "            self.game.net.h2o = nn.Parameter(torch.randn(512, 4) * 0.01 * np.sqrt(2.0/(512 + 4)))\n",
    "        self.game.net.k_action = k_action\n",
    "        self.game.net.k_internal = k_internal\n",
    "        self.game.net.k_stim = k_stim\n",
    "        e_rate = [noise for r in range(iterations)] \n",
    "        rls_q = RLS(1e2)\n",
    "        rls_sl = RLS(1e2)\n",
    "        Rewards = []\n",
    "        # q leanring phase\n",
    "        for n,e in enumerate(e_rate):\n",
    "            prob = np.ones(len(size_train)) \n",
    "            prob = prob/np.sum(prob)\n",
    "            if test_only == False:\n",
    "                self.game.experiment(rls_q, rls_sl, iterations = 50, epochs= 10, epsilon = e, size_range = size_train)    \n",
    "                if save == True:\n",
    "                    torch.save(self.game.net.state_dict(), weight_write + '_{}'.format(n))\n",
    "            def testing(game):\n",
    "                Rewards00 = Test(game, reward_control = 0, size = size_test[0], test = 1)\n",
    "                Rewards01 = Test(game, reward_control = 1, size = size_test[0], test = 1)\n",
    "                rewards_s = (np.sum(Rewards00) + np.sum(Rewards01))/2\n",
    "                Rewards10 = Test(game, reward_control = 0, size = size_test[1], test = 2)\n",
    "                Rewards11 = Test(game, reward_control = 1, size = size_test[1], test = 2)\n",
    "                rewards_l = (np.sum(Rewards10) + np.sum(Rewards11))/2\n",
    "                return rewards_s, rewards_l\n",
    "            # load weight if test only is true \n",
    "            if test_only == True:\n",
    "                self.game.net.load_state_dict(torch.load(weight_write))\n",
    "            if train_only == False:\n",
    "                rewards_s, rewards_l = testing(self.game)\n",
    "            print (n, 'rewards_s',  rewards_s, 'rewards_l', rewards_l)\n",
    "            Rewards.append((rewards_s, rewards_l))\n",
    "        return Rewards\n",
    "    \n",
    "    def TestAllSizes(self, size_range = np.arange(5, 50, 5), k_action = 1, k_internal = 1, \n",
    "                    k_stim = 1, limit_set = 4, test_size = 1):\n",
    "        self.game.net.load_state_dict(torch.load(self.weight))\n",
    "        self.game.net.cpu()\n",
    "        self.Performance = []\n",
    "        self.game.net.k_action = k_action\n",
    "        self.game.net.k_internal = k_internal\n",
    "        self.game.net.k_stim = k_stim\n",
    "        for size in size_range:\n",
    "            Rewards0 = Test(self.game, reward_control = 0, size = size, limit_set = limit_set, test = test_size)\n",
    "            Rewards1 = Test(self.game, reward_control = 1, size = size, limit_set = limit_set, test = test_size)\n",
    "            self.Performance.append((Rewards0 + Rewards1)/2)"
   ]
  },
  {
   "cell_type": "code",
   "execution_count": 4,
   "metadata": {},
   "outputs": [
    {
     "name": "stdout",
     "output_type": "stream",
     "text": [
      "1.0288283 1.3605248 -2.0522108\n"
     ]
    },
    {
     "data": {
      "text/plain": [
       "<matplotlib.axes._subplots.AxesSubplot at 0x7f6f40b842b0>"
      ]
     },
     "execution_count": 4,
     "metadata": {},
     "output_type": "execute_result"
    },
    {
     "data": {
      "image/png": "[encoded data removed]",
      "text/plain": [
       "<matplotlib.figure.Figure at 0x7f6f43a08e10>"
      ]
     },
     "metadata": {},
     "output_type": "display_data"
    },
    {
     "data": {
      "image/png": "[encoded data removed]",
      "text/plain": [
       "<matplotlib.figure.Figure at 0x7f6f43a06198>"
      ]
     },
     "metadata": {},
     "output_type": "display_data"
    },
    {
     "data": {
      "image/png": "[encoded data removed]",
      "text/plain": [
       "<matplotlib.figure.Figure at 0x7f6f40bef080>"
      ]
     },
     "metadata": {},
     "output_type": "display_data"
    },
    {
     "data": {
      "image/png": "[encoded data removed]",
      "text/plain": [
       "<matplotlib.figure.Figure at 0x7f6f40b84b00>"
      ]
     },
     "metadata": {},
     "output_type": "display_data"
    }
   ],
   "source": [
    "game = ValueMaxGame(grid_size = (15, 15), holes = 0, random_seed = 4 , set_reward = [(0.5, 0.25), (0.5, 0.75)],  alpha = 0.5, input_type = 0)\n",
    "Net = torch.load('weights_pre2/rnn_1515tanh512_checkpoint49')\n",
    "h2o = Net['h2o'].clone()\n",
    "Weff = Net['h2h'] + h2o.matmul(Net['a2h'])\n",
    "wreal = Weff.eig()[0][:,0].data.numpy().ravel() \n",
    "wimg = Weff.eig()[0][:,1].data.numpy().ravel()\n",
    "print (np.max(np.abs(wimg)), np.max(wreal), np.min(wreal))\n",
    "plt.scatter(Weff.eig()[0][:,0].data.numpy().ravel(), Weff.eig()[0][:,1].data.numpy().ravel())\n",
    "plt.figure()\n",
    "sns.distplot(Net['a2h'].data.numpy().ravel())\n",
    "plt.figure()\n",
    "sns.distplot(Net['i2h'].data.numpy().ravel())\n",
    "plt.figure()\n",
    "sns.distplot(Net['h2h'].data.numpy().ravel())"
   ]
  },
  {
   "cell_type": "code",
   "execution_count": 8,
   "metadata": {},
   "outputs": [
    {
     "data": {
      "text/plain": [
       "[<matplotlib.lines.Line2D at 0x7f95d4b3d7b8>]"
      ]
     },
     "execution_count": 8,
     "metadata": {},
     "output_type": "execute_result"
    },
    {
     "data": {
      "image/png": "[encoded data removed]",
      "text/plain": [
       "<matplotlib.figure.Figure at 0x7f95d4a79320>"
      ]
     },
     "metadata": {},
     "output_type": "display_data"
    }
   ],
   "source": [
    "## The rank of pertubation \n",
    "Net = torch.load('weights_net1/rnn_1515tanh512_checkpoint39_0_9')\n",
    "h2h_39 = Net['h2h'].clone()\n",
    "Net = torch.load('weights_cpu1/rnn_1515tanh512_checkpoint0')\n",
    "h2h_0 = Net['h2h'].clone()\n",
    "dW = h2h_39 - h2h_0\n",
    "dW = dW.data.numpy()\n",
    "dW_shuffle = np.random.permutation(dW.ravel()).reshape(512, 512)\n",
    "u, s, vh = np.linalg.svd(dW)\n",
    "u_shuffle, s_shuffle, vh_shuffle = np.linalg.svd(dW_shuffle)\n",
    "plt.figure()\n",
    "plt.plot(s[:100],'r.')\n",
    "plt.plot(s_shuffle[:100],'b.')"
   ]
  },
  {
   "cell_type": "code",
   "execution_count": 4,
   "metadata": {},
   "outputs": [],
   "source": [
    "weight ='weights_net1_shuffle/rnn_1515tanh512_checkpoint39_2_9'\n",
    "pca0 = PCA(weight = weight, size = 15)\n",
    "pca0.pca()\n",
    "\n",
    "\n",
    "pca1 = PCA(weight = weight, size = 50)\n",
    "pca1.pca()\n",
    "\n"
   ]
  },
  {
   "cell_type": "code",
   "execution_count": 17,
   "metadata": {},
   "outputs": [
    {
     "data": {
      "text/plain": [
       "(12.924904981241399, 5.227789533539041, 7.6683081006280087)"
      ]
     },
     "execution_count": 17,
     "metadata": {},
     "output_type": "execute_result"
    }
   ],
   "source": [
    "np.sum(pca0.vals) ** 2/np.sum(pca0.vals ** 2), np.sum(pca2.vals) ** 2/np.sum(pca2.vals ** 2), np.sum(pca4.vals) ** 2/np.sum(pca4.vals ** 2)"
   ]
  },
  {
   "cell_type": "code",
   "execution_count": 16,
   "metadata": {},
   "outputs": [],
   "source": [
    "weight ='weights_net1/weights2/rnn_1515tanh512_checkpoint0_0_9'\n",
    "pca4 = PCA(weight = weight, size = 15)\n",
    "pca4.pca()"
   ]
  },
  {
   "cell_type": "code",
   "execution_count": 7,
   "metadata": {},
   "outputs": [
    {
     "name": "stdout",
     "output_type": "stream",
     "text": [
      "2.9265144189113474\n"
     ]
    }
   ],
   "source": [
    "for n in np.arange(1, 2, 1):\n",
    "    weight ='weights_pre2/rnn_1515tanh512_checkpoint49'\n",
    "    pca = PCA(weight = weight, size = 15)\n",
    "    pca.pca(lowrank = np.arange(0, n, 1))\n",
    "\n",
    "    print (np.sum(pca.vals) ** 2/np.sum(pca.vals ** 2))"
   ]
  },
  {
   "cell_type": "code",
   "execution_count": 6,
   "metadata": {},
   "outputs": [
    {
     "name": "stdout",
     "output_type": "stream",
     "text": [
      "norm 9.064799\n",
      "4.670239034749396\n",
      "norm 5.949863\n",
      "6.470963097691991\n",
      "norm 5.493491\n",
      "3.6586112972900566\n",
      "norm 4.4421377\n",
      "4.781239985561119\n"
     ]
    }
   ],
   "source": [
    "for n in np.arange(0, 4, 1):\n",
    "    weight ='weights_cpu1/rnn_1515tanh512_checkpoint39_0_9'\n",
    "    pca = PCA(weight = weight, size = 15)\n",
    "    pca.pca(lowrank = [n])\n",
    "\n",
    "    print (np.sum(pca.vals) ** 2/np.sum(pca.vals ** 2))"
   ]
  },
  {
   "cell_type": "code",
   "execution_count": 41,
   "metadata": {},
   "outputs": [
    {
     "name": "stdout",
     "output_type": "stream",
     "text": [
      "5.261464378353845\n",
      "norm 10.843038\n",
      "3.4193307858976962\n",
      "norm 12.155242\n",
      "5.3722094331030785\n",
      "norm 12.941503\n",
      "13.700818430935378\n"
     ]
    },
    {
     "data": {
      "image/png": "[encoded data removed]",
      "text/plain": [
       "<matplotlib.figure.Figure at 0x7f29f65a7b38>"
      ]
     },
     "metadata": {},
     "output_type": "display_data"
    }
   ],
   "source": [
    "for n in np.arange(1, 5, 1):\n",
    "    weight ='weights_cpu1/rnn_1515tanh512_checkpoint39_0_9'\n",
    "    pca = PCA(weight = weight, size = 15)\n",
    "    pca.pca(lowrank = np.arange(0, n, 1))\n",
    "    print (np.sum(pca.vals) ** 2/np.sum(pca.vals ** 2))\n",
    "#     plt.figure()\n",
    "    ax = subplot(1, 1, 1)\n",
    "    ax.spines['top'].set_visible(False)\n",
    "    ax.spines['right'].set_visible(False)\n",
    "    plt.plot(pca.vals[:10]/np.sum(pca.vals), '-.', label = n)\n",
    "\n",
    "    plt.xlabel('pc component')\n",
    "    plt.ylabel('std explained')\n",
    "    plt.legend()\n"
   ]
  },
  {
   "cell_type": "code",
   "execution_count": 43,
   "metadata": {},
   "outputs": [
    {
     "data": {
      "text/plain": [
       "array([], dtype=int64)"
      ]
     },
     "execution_count": 43,
     "metadata": {},
     "output_type": "execute_result"
    }
   ],
   "source": [
    "np.arange(0, 0, 1)"
   ]
  },
  {
   "cell_type": "code",
   "execution_count": 5,
   "metadata": {},
   "outputs": [
    {
     "name": "stdout",
     "output_type": "stream",
     "text": [
      "2.2636007887812726\n",
      "norm 7.7956195\n",
      "4.342247039983342\n"
     ]
    },
    {
     "data": {
      "image/png": "[encoded data removed]",
      "text/plain": [
       "<matplotlib.figure.Figure at 0x7f06e69a8438>"
      ]
     },
     "metadata": {},
     "output_type": "display_data"
    }
   ],
   "source": [
    "color = ['r', 'g', 'b','k']\n",
    "for i, n in enumerate([0, 512]):\n",
    "    weight ='weights_cpu1/rnn_1515tanh512_checkpoint300'\n",
    "    pca = PCA(weight = weight, size = 15)\n",
    "    pca.pca(lowrank = np.arange(0, n, 1))\n",
    "    print (np.sum(pca.vals) ** 2/np.sum(pca.vals ** 2))\n",
    "#     plt.figure()\n",
    "    ax = subplot(1, 1, 1)\n",
    "    ax.spines['top'].set_visible(False)\n",
    "    ax.spines['right'].set_visible(False)\n",
    "    plt.plot(pca.vals[:10]/np.sum(pca.vals), '-.', label = n, color = color[i])\n",
    "    plt.xticks(size = 20)\n",
    "    plt.yticks([0, 0.2, 0.4], size = 20)\n",
    "#     plt.xlabel('pc component')\n",
    "#     plt.ylabel('std explained')\n",
    "    plt.legend()\n",
    "    \n",
    "   "
   ]
  },
  {
   "cell_type": "code",
   "execution_count": 3,
   "metadata": {},
   "outputs": [
    {
     "name": "stdout",
     "output_type": "stream",
     "text": [
      "norm 7.7956195\n"
     ]
    },
    {
     "data": {
      "text/plain": [
       "tensor(32.0788)"
      ]
     },
     "execution_count": 3,
     "metadata": {},
     "output_type": "execute_result"
    }
   ],
   "source": [
    "weight ='weights_cpu1/rnn_1515tanh512_checkpoint300'\n",
    "pca = PCA(weight = weight, size = 15)\n",
    "pca.pca(lowrank = np.arange(0, 512, 1))\n",
    "torch.norm(pca.game.net.state_dict()['h2h'])"
   ]
  },
  {
   "cell_type": "code",
   "execution_count": 6,
   "metadata": {},
   "outputs": [
    {
     "name": "stdout",
     "output_type": "stream",
     "text": [
      "norm 2.9960418\n",
      "norm 3.5372329\n",
      "norm 3.8674495\n",
      "norm 4.124839\n",
      "norm 4.322775\n",
      "norm 4.493528\n",
      "norm 4.640137\n",
      "norm 4.7659826\n"
     ]
    }
   ],
   "source": [
    "dims = []\n",
    "for i, n in enumerate(np.arange(10)):\n",
    "    weight ='weights_cpu1/rnn_1515tanh512_checkpoint300'\n",
    "    pca = PCA(weight = weight, size = 15)\n",
    "    pca.pca(lowrank = np.arange(0, n, 1))\n",
    "    dims.append(np.sum(pca.vals) ** 2/np.sum(pca.vals ** 2))\n"
   ]
  },
  {
   "cell_type": "markdown",
   "metadata": {},
   "source": [
    "## GLM"
   ]
  },
  {
   "cell_type": "code",
   "execution_count": 10,
   "metadata": {},
   "outputs": [],
   "source": [
    "def variance_decompose(pca, T, open_loop = True, alpha = 1e-4):\n",
    "    Actions = np.zeros((pca.Hiddens.shape[0], pca.Hiddens.shape[1], T))\n",
    "    Y = np.ones((pca.Hiddens.shape[0], pca.Hiddens.shape[1], T))\n",
    "    X = np.ones((pca.Hiddens.shape[0], pca.Hiddens.shape[1], T))\n",
    "    Stims = np.ones((pca.Hiddens.shape[0], pca.Hiddens.shape[1], T))\n",
    "    colors = ['b', 'g', 'r', 'm']\n",
    "    for i in range(pca.Hiddens.shape[0]):\n",
    "        for j in range(pca.Hiddens.shape[1]):\n",
    "            if open_loop == False:\n",
    "                Actions[i, j] = pca.Actions[i, j, :T]\n",
    "            else:\n",
    "                Actions[i, j] = j\n",
    "            Stims[i, j] = i\n",
    "            Y[i, j] = pca.Ys[i, j, :T]\n",
    "            X[i, j] = pca.Xs[i, j, :T]\n",
    "\n",
    "    x =  pca.Hiddens[:, :, :T, :].reshape(-1, 512)\n",
    "    z = (x - np.min(x))/(np.max(x) - np.min(x))\n",
    "    y = np.log(z/(1-z + 1e-3) + 1e-3)\n",
    "     ## features:\n",
    "    A = np.array([np.eye(4)[int(a)] for a in Actions.reshape(-1)]).reshape(-1, 4)\n",
    "    S = np.array([np.eye(4)[int(s)] for s in Stims.reshape(-1)]).reshape(-1, 4)\n",
    "    Y = Y.reshape(-1, 1)/np.max(np.abs(Y))\n",
    "    X = X.reshape(-1, 1)/np.max(np.abs(X))\n",
    "    Features = np.concatenate((A, S, Y, X), axis = 1)\n",
    "    Features_A = np.concatenate((S, Y, X), axis = 1)\n",
    "    Features_S = np.concatenate((A, Y, X), axis = 1)\n",
    "    Features_Y = np.concatenate((A, S, X), axis = 1)\n",
    "    Features_X = np.concatenate((A, S, Y), axis = 1)\n",
    "\n",
    "    clf1 = Lasso(alpha = alpha)\n",
    "    clf1.fit(Features, y)\n",
    "    y_pred = clf1.predict(Features)\n",
    "    Importances = []\n",
    "    importances = []\n",
    "    for feature in [Features_A, Features_S, Features_Y, Features_X]:\n",
    "        clf = Lasso(alpha= alpha)\n",
    "        clf.fit(feature, y)\n",
    "        y_pred_i = clf.predict(feature)\n",
    "#         print (r2_score(y, y_pred_i), r2_score(y, y_pred))\n",
    "        importances.append(r2_score(y, y_pred) - r2_score(y, y_pred_i))\n",
    "        Importance = []\n",
    "        for i in range(512):\n",
    "            dif =  r2_score(y[:, i], y_pred[:, i]) - r2_score(y[:, i], y_pred_i[:, i])\n",
    "            if dif<0:\n",
    "                dif = 0\n",
    "            Importance.append(dif)\n",
    "        Importances.append(Importance)\n",
    "    return importances\n",
    "\n",
    "def Memory(weight, k_action = 1, k_stim = 1, k_internal = 1, lowrank = [], descend = True):\n",
    "    Info_P = np.zeros(2)\n",
    "    Info_I = np.zeros(2)\n",
    "    Info_A = np.zeros(2)\n",
    "    pca = PCA(weight = weight)\n",
    "    if lowrank != []:\n",
    "        pca.pca(T_duration = 3, lowrank = lowrank, descend = descend)\n",
    "    else:\n",
    "        pca.pca(T_duration = 3)\n",
    "    pca.game.net.k_action = k_action\n",
    "    pca.game.net.k_internal = k_internal\n",
    "    pca.game.net.k_stim = k_stim\n",
    "    pca.Dynamics(Actions = 50 * [0], legend = True, T_total = 200, T_stim = 100, T_duration = 3, \\\n",
    "                 readout_random = True, open_loop = False, e = 1)\n",
    "    for i in range(2):\n",
    "        T = 10 + i * 40\n",
    "        importances = variance_decompose(pca, T, open_loop=False)\n",
    "        Info_A[i] = importances[0]\n",
    "        Info_I[i] = importances[1]\n",
    "        Info_P[i] = importances[2] + importances[3]                        \n",
    "    print (np.mean(Info_A), np.mean(Info_I), np.mean(Info_P))\n",
    "    return Info_A, Info_I, Info_P "
   ]
  },
  {
   "cell_type": "code",
   "execution_count": 13,
   "metadata": {},
   "outputs": [
    {
     "name": "stdout",
     "output_type": "stream",
     "text": [
      "0.00039519263966039664 0.4697043008248827 0.00018035577356140253\n",
      "decay 1.4980867583646147\n",
      "norm 5.2385874\n",
      "h2h norm tensor(27.5425)\n",
      "0.0006311073785968957 0.4705814488531141 0.0002484351365099058\n",
      "decay 1.488757469609937\n",
      "norm 7.126207\n",
      "h2h norm tensor(27.6269)\n",
      "norm 7.126207\n",
      "0.0005312516576228068 0.23394604435058006 0.0003240111137630258\n",
      "decay 0.1695670635563348\n",
      "norm 8.399252\n",
      "h2h norm tensor(27.7076)\n",
      "norm 8.399252\n",
      "0.0005125433456258724 0.22593514997635933 0.00041861499412751413\n",
      "decay 0.17928841871348455\n",
      "norm 9.471098\n",
      "h2h norm tensor(27.6471)\n",
      "norm 9.471098\n",
      "0.0006767720441509389 0.2210612636916197 0.00032925537436005736\n",
      "decay 0.413163294364889\n",
      "norm 10.309963\n",
      "h2h norm tensor(27.7525)\n",
      "norm 10.309963\n",
      "0.0004544768563869428 0.3530521392631936 0.000575481090400648\n",
      "decay 0.8444291727270662\n",
      "norm 11.006674\n",
      "h2h norm tensor(27.7734)\n",
      "norm 11.006674\n",
      "0.000405878735404569 0.2223625055434745 0.0006286539308040656\n",
      "decay 0.20670915909555848\n",
      "norm 11.6398735\n",
      "h2h norm tensor(27.8444)\n",
      "norm 11.6398735\n",
      "0.0007413641076239007 0.19186382942593194 0.00045018800539225676\n",
      "decay 0.18669745893754208\n",
      "norm 12.083405\n",
      "h2h norm tensor(27.9565)\n",
      "norm 12.083405\n",
      "0.0008568777377767484 0.1873034961731626 0.0003177325086647989\n",
      "decay 0.17514475151031855\n",
      "norm 12.477206\n",
      "h2h norm tensor(27.9807)\n",
      "norm 12.477206\n",
      "0.0005463594059579649 0.18458129180298471 0.000660699353960674\n",
      "decay 0.17183171466474556\n",
      "norm 12.845176\n",
      "h2h norm tensor(28.1043)\n"
     ]
    },
    {
     "data": {
      "image/png": "[encoded data removed]",
      "text/plain": [
       "<matplotlib.figure.Figure at 0x7f6f2b820630>"
      ]
     },
     "metadata": {},
     "output_type": "display_data"
    },
    {
     "data": {
      "image/png": "[encoded data removed]",
      "text/plain": [
       "<matplotlib.figure.Figure at 0x7f6f2b83ed30>"
      ]
     },
     "metadata": {},
     "output_type": "display_data"
    },
    {
     "data": {
      "image/png": "[encoded data removed]",
      "text/plain": [
       "<matplotlib.figure.Figure at 0x7f6f2b803828>"
      ]
     },
     "metadata": {},
     "output_type": "display_data"
    }
   ],
   "source": [
    "Info_Ps = []\n",
    "Info_Is = []\n",
    "Decay = []\n",
    "Norms = []\n",
    "for n in range(10):\n",
    "    weight = 'weights_pre2/rnn_1515tanh512_checkpoint{}'.format(49)\n",
    "    Info_A, Info_I, Info_P = Memory(weight, k_action = 1, k_stim = 1, k_internal = 1., lowrank = np.arange(0, n, 1))\n",
    "    print ('decay', Info_I[-1]/Info_I[0])\n",
    "    plt.figure(0)\n",
    "    plt.scatter(n, Info_I[-1]/Info_I[0])\n",
    "    Decay.append(Info_I[-1]/Info_I[0])\n",
    "    plt.figure(1)\n",
    "    plt.scatter(n, Info_P[0])\n",
    "    Info_Ps.append(Info_P[0])\n",
    "    plt.figure(2)\n",
    "    plt.scatter(n, Info_I[0])\n",
    "    Info_Is.append(Info_I[0])\n",
    "    game = ValueMaxGame(grid_size = (15, 15), holes = 0, random_seed = 4 , set_reward = [(0.5, 0.25), (0.5, 0.75)], input_type = 0, action_control = 1, discount = 0.9, alpha = 1, time_limit=8,\n",
    "                       lam = 0)\n",
    "    game.net.load_state_dict(torch.load(weight))\n",
    "    weight_lowrank(game.net, ranks = np.arange(0, (n+1), 1))\n",
    "    print ('h2h norm', torch.norm(game.net.h2h))\n",
    "    Norms.append( torch.norm(game.net.h2h))"
   ]
  },
  {
   "cell_type": "code",
   "execution_count": 16,
   "metadata": {},
   "outputs": [
    {
     "data": {
      "text/plain": [
       "([<matplotlib.axis.YTick at 0x7f6f4097f908>,\n",
       "  <matplotlib.axis.YTick at 0x7f6f40a0b7f0>,\n",
       "  <matplotlib.axis.YTick at 0x7f6f40a9a3c8>,\n",
       "  <matplotlib.axis.YTick at 0x7f6f43a08b38>,\n",
       "  <matplotlib.axis.YTick at 0x7f6f40b84630>],\n",
       " <a list of 5 Text yticklabel objects>)"
      ]
     },
     "execution_count": 16,
     "metadata": {},
     "output_type": "execute_result"
    },
    {
     "data": {
      "image/png": "[encoded data removed]",
      "text/plain": [
       "<matplotlib.figure.Figure at 0x7f6f2b7c8da0>"
      ]
     },
     "metadata": {},
     "output_type": "display_data"
    }
   ],
   "source": [
    "ax = subplot(1, 1, 1)\n",
    "ax.spines['top'].set_visible(False)\n",
    "ax.spines['right'].set_visible(False)\n",
    "plt.plot(Info_Ps[:10]/Info_Ps[0], 'r', label = 'path integration')\n",
    "plt.plot(Info_Is[:10]/Info_Is[0], 'm', label = 'stimulus')\n",
    "# plt.figure()\n",
    "plt.plot(Decay[:10]/Decay[0], 'k', label = 'memory decay')\n",
    "plt.xticks(size = 15)\n",
    "plt.yticks([0, 0.5, 1, 1.5, 2], size = 15)\n",
    "# plt.legend()"
   ]
  },
  {
   "cell_type": "code",
   "execution_count": null,
   "metadata": {},
   "outputs": [],
   "source": [
    "for trial in [39]:\n",
    "    print (trial)\n",
    "    weight = 'weights_cpu1/rnn_1515tanh512_checkpoint{}'.format(trial)\n",
    "  \n",
    "    Info_A, Info_I, Info_P = Memory(weight, k_action = 4, k_stim = 1, k_internal = 1.2, lowrank = [0])\n",
    "    print ('decay', Info_I[-1]/Info_I[0])"
   ]
  },
  {
   "cell_type": "markdown",
   "metadata": {},
   "source": [
    "# Conclusion\n",
    "**Internal dynamics rather than decoding performance influences more the performance in uncertain enviroments**\n",
    "\n",
    "**Consider to think in global loops rather than separated system, thus the coupled dynamical system.  This system, which has its genome on its internal weights, will have quite different different pheno-types from the global loops,  richness of internal dynamics turns into extenable phenotypes which supports behaviours across scales.   The different types of attractors, fix point, limit cycle becomes substrate of strategy in different size rooms.  Thus generalization can be done until certain size, which offers complicate behaviour with a \"simple mind\"**\n",
    "\n",
    "**The triangle between decoding, dynamics and navigation should be like: 1, dynamics coded by internal weight is most fundamental, it gives rise to different representations(phenotypes).   2,  The relation between decoding and navigation are reciprocal. not random behaviour gives better enviromental prediction(complement the free energy principle) 2,  we should distinguish internal dynamics and global dynamics**"
   ]
  },
  {
   "cell_type": "code",
   "execution_count": null,
   "metadata": {},
   "outputs": [],
   "source": []
  }
 ],
 "metadata": {
  "anaconda-cloud": {},
  "kernelspec": {
   "display_name": "Python 3",
   "language": "python",
   "name": "python3"
  },
  "language_info": {
   "codemirror_mode": {
    "name": "ipython",
    "version": 3
   },
   "file_extension": ".py",
   "mimetype": "text/x-python",
   "name": "python",
   "nbconvert_exporter": "python",
   "pygments_lexer": "ipython3",
   "version": "3.6.3"
  },
  "latex_envs": {
   "LaTeX_envs_menu_present": true,
   "autoclose": false,
   "autocomplete": true,
   "bibliofile": "biblio.bib",
   "cite_by": "apalike",
   "current_citInitial": 1,
   "eqLabelWithNumbers": true,
   "eqNumInitial": 1,
   "hotkeys": {
    "equation": "Ctrl-E",
    "itemize": "Ctrl-I"
   },
   "labels_anchors": false,
   "latex_user_defs": false,
   "report_style_numbering": false,
   "user_envs_cfg": false
  },
  "toc": {
   "nav_menu": {},
   "number_sections": true,
   "sideBar": true,
   "skip_h1_title": false,
   "title_cell": "Table of Contents",
   "title_sidebar": "Contents",
   "toc_cell": true,
   "toc_position": {
    "height": "759px",
    "left": "0px",
    "right": "1228px",
    "top": "67px",
    "width": "212px"
   },
   "toc_section_display": "block",
   "toc_window_display": true
  },
  "varInspector": {
   "cols": {
    "lenName": 16,
    "lenType": 16,
    "lenVar": 40
   },
   "kernels_config": {
    "python": {
     "delete_cmd_postfix": "",
     "delete_cmd_prefix": "del ",
     "library": "var_list.py",
     "varRefreshCmd": "print(var_dic_list())"
    },
    "r": {
     "delete_cmd_postfix": ") ",
     "delete_cmd_prefix": "rm(",
     "library": "var_list.r",
     "varRefreshCmd": "cat(var_dic_list()) "
    }
   },
   "types_to_exclude": [
    "module",
    "function",
    "builtin_function_or_method",
    "instance",
    "_Feature"
   ],
   "window_display": false
  }
 },
 "nbformat": 4,
 "nbformat_minor": 2
}
