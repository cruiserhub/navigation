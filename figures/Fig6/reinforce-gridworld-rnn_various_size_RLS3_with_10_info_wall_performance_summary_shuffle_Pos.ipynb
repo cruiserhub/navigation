{
 "cells": [
  {
   "cell_type": "markdown",
   "metadata": {
    "toc": "true"
   },
   "source": [
    "<h1>Table of Contents<span class=\"tocSkip\"></span></h1>\n",
    "<div class=\"toc\"><ul class=\"toc-item\"><li><span><a href=\"#quick-start\" data-toc-modified-id=\"quick-start-1\"><span class=\"toc-item-num\">1&nbsp;&nbsp;</span>quick start</a></span><ul class=\"toc-item\"><li><span><a href=\"#Resources\" data-toc-modified-id=\"Resources-1.1\"><span class=\"toc-item-num\">1.1&nbsp;&nbsp;</span>Resources</a></span></li></ul></li><li><span><a href=\"#FULL-MODEL\" data-toc-modified-id=\"FULL-MODEL-2\"><span class=\"toc-item-num\">2&nbsp;&nbsp;</span>FULL MODEL</a></span><ul class=\"toc-item\"><li><span><a href=\"#Packages\" data-toc-modified-id=\"Packages-2.1\"><span class=\"toc-item-num\">2.1&nbsp;&nbsp;</span>Packages</a></span><ul class=\"toc-item\"><li><span><a href=\"#Qnetwork\" data-toc-modified-id=\"Qnetwork-2.1.1\"><span class=\"toc-item-num\">2.1.1&nbsp;&nbsp;</span>Qnetwork</a></span></li></ul></li><li><span><a href=\"#POMDP-RNN-Game\" data-toc-modified-id=\"POMDP-RNN-Game-2.2\"><span class=\"toc-item-num\">2.2&nbsp;&nbsp;</span>POMDP RNN Game</a></span></li><li><span><a href=\"#Results\" data-toc-modified-id=\"Results-2.3\"><span class=\"toc-item-num\">2.3&nbsp;&nbsp;</span>Results</a></span><ul class=\"toc-item\"><li><span><a href=\"#Standard-setting：-grid-=--(3,7)，-holes-=-0\" data-toc-modified-id=\"Standard-setting：-grid-=--(3,7)，-holes-=-0-2.3.1\"><span class=\"toc-item-num\">2.3.1&nbsp;&nbsp;</span>Standard setting： grid =  (3,7)， holes = 0</a></span></li><li><span><a href=\"#Model-Tranining\" data-toc-modified-id=\"Model-Tranining-2.3.2\"><span class=\"toc-item-num\">2.3.2&nbsp;&nbsp;</span>Model Tranining</a></span></li><li><span><a href=\"#decoding-vs-performance\" data-toc-modified-id=\"decoding-vs-performance-2.3.3\"><span class=\"toc-item-num\">2.3.3&nbsp;&nbsp;</span>decoding vs performance</a></span></li><li><span><a href=\"#learning-rate-vs-performance\" data-toc-modified-id=\"learning-rate-vs-performance-2.3.4\"><span class=\"toc-item-num\">2.3.4&nbsp;&nbsp;</span>learning rate vs performance</a></span></li><li><span><a href=\"#Summary\" data-toc-modified-id=\"Summary-2.3.5\"><span class=\"toc-item-num\">2.3.5&nbsp;&nbsp;</span>Summary</a></span></li><li><span><a href=\"#Anlytic-part-,-check-the-behaviour-correspond-to-each-decoding-level-and-explain-why\" data-toc-modified-id=\"Anlytic-part-,-check-the-behaviour-correspond-to-each-decoding-level-and-explain-why-2.3.6\"><span class=\"toc-item-num\">2.3.6&nbsp;&nbsp;</span>Anlytic part , check the behaviour correspond to each decoding level and explain why</a></span></li></ul></li><li><span><a href=\"#PCA\" data-toc-modified-id=\"PCA-2.4\"><span class=\"toc-item-num\">2.4&nbsp;&nbsp;</span>PCA</a></span></li></ul></li></ul></div>"
   ]
  },
  {
   "cell_type": "markdown",
   "metadata": {},
   "source": [
    "# quick start "
   ]
  },
  {
   "cell_type": "markdown",
   "metadata": {},
   "source": [
    "**Check relation betweeen dynamics and generalization.   Hypothesis to make: generalization can only be understood in level of joint dynamical system, there is a clear link between the two**\n",
    "\n",
    "**Dynamnics determines generalization , not decoding , same decoding level can have very different dynamics , thus different generalization level.  Only when the dynamics of RNN forms object correspond to real relevant objects for game, the generalization can be good.   For instance , in a varying size game, you extend the size of game from 10 to 30, what will happen?  You can do a kind of dynamical programing , according to which wall you have seen and how many steps you have passed , you decide future action.    This can be achieved robustly by the dynamical system where fix points are correspond to walls**"
   ]
  },
  {
   "cell_type": "markdown",
   "metadata": {},
   "source": [
    "## Packages"
   ]
  },
  {
   "cell_type": "code",
   "execution_count": 1,
   "metadata": {},
   "outputs": [
    {
     "name": "stdout",
     "output_type": "stream",
     "text": [
      "Populating the interactive namespace from numpy and matplotlib\n"
     ]
    },
    {
     "name": "stderr",
     "output_type": "stream",
     "text": [
      "/home/tie/anaconda3/lib/python3.6/site-packages/IPython/core/magics/pylab.py:160: UserWarning: pylab import has clobbered these variables: ['random']\n",
      "`%matplotlib` prevents importing * from pylab and numpy\n",
      "  \"\\n`%matplotlib` prevents importing * from pylab and numpy\"\n"
     ]
    }
   ],
   "source": [
    "%load_ext autoreload\n",
    "%autoreload 2\n",
    "\n",
    "import numpy as np\n",
    "from itertools import count\n",
    "import random\n",
    "\n",
    "import torch\n",
    "import torch.nn as nn\n",
    "import torch.nn.functional as F\n",
    "import torch.optim as optim\n",
    "import torch.autograd as autograd\n",
    "from torch.autograd import Variable\n",
    "from torch.nn import init\n",
    "from torch.nn import DataParallel\n",
    "from torch.utils.data import DataLoader\n",
    "\n",
    "import matplotlib.mlab as mlab\n",
    "import matplotlib.pyplot as plt\n",
    "import matplotlib.animation\n",
    "import seaborn as sns\n",
    "from IPython.display import HTML\n",
    "\n",
    "import pretrain\n",
    "from pretrain import *\n",
    "\n",
    "import navigation2\n",
    "from navigation2 import *\n",
    "\n",
    "import sklearn\n",
    "from sklearn.svm import SVC\n",
    "from sklearn.manifold import Isomap\n",
    "from sklearn.manifold import SpectralEmbedding\n",
    "from sklearn.manifold import TSNE\n",
    "from sklearn.linear_model import Lasso\n",
    "from sklearn.model_selection import train_test_split\n",
    "from sklearn.metrics import f1_score\n",
    "from sklearn.metrics import r2_score\n",
    "from sklearn.model_selection import cross_validate\n",
    "\n",
    "import scipy\n",
    "from scipy.spatial import distance\n",
    "from scipy import signal\n",
    "\n",
    "import dynamics\n",
    "from dynamics import*\n",
    "\n",
    "%pylab inline\n",
    "import warnings\n",
    "warnings.filterwarnings('ignore')"
   ]
  },
  {
   "cell_type": "markdown",
   "metadata": {},
   "source": [
    "For the liquid state approach to work, you need a lot of neurons as surplus or enough hidden to hidden connectivity to make it have an effect."
   ]
  },
  {
   "cell_type": "markdown",
   "metadata": {},
   "source": [
    "## Performance analysis\n",
    "differ by speed, stability and final results on different sizes of arena, both for intra, and extrapolation"
   ]
  },
  {
   "cell_type": "code",
   "execution_count": 2,
   "metadata": {},
   "outputs": [],
   "source": [
    "class PretrainTest():\n",
    "    def __init__(self, weight_write, holes = 0, inputs_type = (1, 0)):\n",
    "        self.pregame = PretrainGame(grid_size = (15, 15), holes = holes, random_seed = 4 , set_reward = [(0.5, 0.25), (0.5, 0.75)], input_type = inputs_type[0])\n",
    "        self.game = ValueMaxGame(grid_size = (15, 15), holes = 0, random_seed = 4 , set_reward = [(0.5, 0.25), (0.5, 0.75)], input_type = inputs_type[1])\n",
    "        self.weight = weight_write\n",
    "            \n",
    "    def loadweight(self, weight_load):\n",
    "#       need to take the state dict as a new dict for updating \n",
    "        net_dict = torch.load(weight_load)\n",
    "        list_modules = [('h2h', net_dict['h2h']), ('a2h', net_dict['a2h']), ('i2h', net_dict['i2h']), ('r2h', net_dict['r2h']), ('bh', net_dict['bh'])]\n",
    "        select_dict = OrderedDict(list_modules)\n",
    "        net = self.pregame.net.state_dict()\n",
    "        net.update(select_dict)\n",
    "        self.pregame.net.load_state_dict(net)\n",
    "        torch.save(self.pregame.net.state_dict(), self.weight) \n",
    "    \n",
    "        \n",
    "    def pretrain(self, trial, weight = None, lr = 1e-5, pretrain = True):  \n",
    "        # start a pretrained game  \n",
    "        self.pregame.net.cuda()\n",
    "        if pretrain == True:\n",
    "            lr = float(lr)\n",
    "            if weight != None:\n",
    "                self.pregame.net.load_state_dict(torch.load(weight))\n",
    "            self.pregame.fulltrain(lr_rate = lr, trials = int(1e3), batchsize = 4)\n",
    "        print ('pretrain end', torch.norm(self.pregame.net.h2h))\n",
    "        if pretrain == True:\n",
    "            torch.save(self.pregame.net.state_dict(), self.weight[:-1]+'{}'.format(trial))\n",
    "        else:\n",
    "            torch.save(self.pregame.net.state_dict(), self.weight+'{}'.format(trial))\n",
    "        if pretrain == True and trial <= 10:\n",
    "            self.weight = self.weight[:-1]+'{}'.format(trial)\n",
    "        elif pretrain == True and trial > 10:\n",
    "            self.weight = self.weight[:-2]+'{}'.format(trial)\n",
    "        elif pretrain == False:\n",
    "            self.weight = self.weight +'{}'.format(trial)\n",
    "            \n",
    "    def decode(self, weight = None):\n",
    "        if weight != None:\n",
    "            self.pregame.net.load_state_dict(torch.load(weight))\n",
    "        else:\n",
    "             self.pregame.net.load_state_dict(torch.load(self.weight))\n",
    "        rls_q = RLS(1e2)\n",
    "        rls_sl = RLS(1e2)\n",
    "        self.game.net.cpu()\n",
    "        self.game.experiment(rls_q, rls_sl,20, epsilon = 0.5, train_hidden = False, train_q = False, size_range=(15, 16), test = True) \n",
    "        def precision():\n",
    "            prec0 = np.mean(decodetest(self.game, reward_control= 0, epsilon = 0)[0] + decodetest(self.game, reward_control = 1,  epsilon = 0)[0])\n",
    "            prec1 = np.mean(decodetest(self.game, reward_control= 0, epsilon = 0.5)[0] + decodetest(self.game, reward_control =  1,  epsilon = 0.5)[0])\n",
    "            prec2 = np.mean(decodetest(self.game, reward_control= 0, epsilon = 1)[0] + decodetest(self.game, reward_control =  1,  epsilon = 1)[0])\n",
    "            return (prec0 + prec1 + prec2)/3, (prec2 - prec0)\n",
    "        print ('decode train finish')\n",
    "        Prec, dif = precision()\n",
    "        print ('decode end', Prec, 'dif decode', dif)\n",
    "        return Prec, dif\n",
    "        # q learning session \n",
    "    \n",
    "        \n",
    "    def qlearn(self, weight_read, weight_write, iterations = 5, save = True, size_train = np.arange(10, 51, 10), \\\n",
    "               size_test = [10, 30], train_only = False, test_only = False, noise = 0.3, h2o = True,\n",
    "              k_action = 1, k_internal = 1, k_stim = 1):\n",
    "        self.game.net.load_state_dict(torch.load(weight_read))\n",
    "        if h2o == True:\n",
    "            self.game.net.h2o = nn.Parameter(torch.randn(512, 4) * 0.01 * np.sqrt(2.0/(512 + 4)))\n",
    "        self.game.net.k_action = k_action\n",
    "        self.game.net.k_internal = k_internal\n",
    "        self.game.net.k_stim = k_stim\n",
    "        e_rate = [noise for r in range(iterations)] \n",
    "        rls_q = RLS(1e2)\n",
    "        rls_sl = RLS(1e2)\n",
    "        Rewards = []\n",
    "        # q leanring phase\n",
    "        for n,e in enumerate(e_rate):\n",
    "            prob = np.ones(len(size_train)) \n",
    "            prob = prob/np.sum(prob)\n",
    "            if test_only == False:\n",
    "                self.game.experiment(rls_q, rls_sl, iterations = 50, epochs= 10, epsilon = e, size_range = size_train)    \n",
    "                if save == True:\n",
    "                    torch.save(self.game.net.state_dict(), weight_write + '_{}'.format(n))\n",
    "            def testing(game):\n",
    "                Rewards00 = Test(game, reward_control = 0, size = size_test[0], test = 1)\n",
    "                Rewards01 = Test(game, reward_control = 1, size = size_test[0], test = 1)\n",
    "                rewards_s = (np.sum(Rewards00) + np.sum(Rewards01))/2\n",
    "                Rewards10 = Test(game, reward_control = 0, size = size_test[1], test = 2)\n",
    "                Rewards11 = Test(game, reward_control = 1, size = size_test[1], test = 2)\n",
    "                rewards_l = (np.sum(Rewards10) + np.sum(Rewards11))/2\n",
    "                return rewards_s, rewards_l\n",
    "            # load weight if test only is true \n",
    "            if test_only == True:\n",
    "                self.game.net.load_state_dict(torch.load(weight_write))\n",
    "            if train_only == False:\n",
    "                rewards_s, rewards_l = testing(self.game)\n",
    "            print (n, 'rewards_s',  rewards_s, 'rewards_l', rewards_l)\n",
    "            Rewards.append((rewards_s, rewards_l))\n",
    "        return Rewards\n",
    "    \n",
    "    def TestAllSizes(self, size_range = np.arange(5, 50, 5), k_action = 1, k_internal = 1, \n",
    "                    k_stim = 1, limit_set = 4, test_size = 1):\n",
    "        self.game.net.load_state_dict(torch.load(self.weight))\n",
    "        self.game.net.cpu()\n",
    "        self.Performance = []\n",
    "        self.game.net.k_action = k_action\n",
    "        self.game.net.k_internal = k_internal\n",
    "        self.game.net.k_stim = k_stim\n",
    "        for size in size_range:\n",
    "            Rewards0 = Test(self.game, reward_control = 0, size = size, limit_set = limit_set, test = test_size)\n",
    "            Rewards1 = Test(self.game, reward_control = 1, size = size, limit_set = limit_set, test = test_size)\n",
    "            self.Performance.append((Rewards0 + Rewards1)/2)"
   ]
  },
  {
   "cell_type": "code",
   "execution_count": 4,
   "metadata": {},
   "outputs": [],
   "source": [
    "def performance_measure(size, test_size, trials = 3, \\\n",
    "                        shuffle = False, pretrain = False, random = False, k_action = 1, k_internal = 1, k_stim = 1, limit_set = 4):\n",
    "    performance = np.zeros((trials, 5))\n",
    "    for iters1 in np.arange(trials):\n",
    "        for iters2 in np.arange(5, 10):\n",
    "            if shuffle == True:\n",
    "                weight = 'weights2_shuffle/rnn_1515tanh512_checkpoint300_{}_{}'.format(iters1, iters2)\n",
    "            if random == True:\n",
    "                weight = 'weights_2_random/rnn_1515tanh512_checkpoint300_{}_{}'.format(iters1, iters2)\n",
    "            if pretrain == True:\n",
    "                weight = 'weights2/rnn_1515tanh512_checkpoint300_{}_{}'.format(iters1, iters2)\n",
    "            Pretest = PretrainTest(weight_write = weight)\n",
    "            Pretest.TestAllSizes(size_range = [size], limit_set = limit_set, test_size = test_size)\n",
    "            performance[iters1, iters2-5] = Pretest.Performance[0]\n",
    "    print(np.max(performance, axis = 1))\n",
    "    return performance\n",
    "# performance_measure(0, 0, 10, 0)"
   ]
  },
  {
   "cell_type": "code",
   "execution_count": 8,
   "metadata": {},
   "outputs": [
    {
     "data": {
      "text/plain": [
       "[<matplotlib.lines.Line2D at 0x7f95d4b3d7b8>]"
      ]
     },
     "execution_count": 8,
     "metadata": {},
     "output_type": "execute_result"
    },
    {
     "data": {
      "image/png": "[encoded data removed]",
      "text/plain": [
       "<matplotlib.figure.Figure at 0x7f95d4a79320>"
      ]
     },
     "metadata": {},
     "output_type": "display_data"
    }
   ],
   "source": [
    "## The rank of pertubation \n",
    "Net = torch.load('weights_net1/rnn_1515tanh512_checkpoint39_0_9')\n",
    "h2h_39 = Net['h2h'].clone()\n",
    "Net = torch.load('weights_cpu1/rnn_1515tanh512_checkpoint0')\n",
    "h2h_0 = Net['h2h'].clone()\n",
    "dW = h2h_39 - h2h_0\n",
    "dW = dW.data.numpy()\n",
    "dW_shuffle = np.random.permutation(dW.ravel()).reshape(512, 512)\n",
    "u, s, vh = np.linalg.svd(dW)\n",
    "u_shuffle, s_shuffle, vh_shuffle = np.linalg.svd(dW_shuffle)\n",
    "plt.figure()\n",
    "plt.plot(s[:100],'r.')\n",
    "plt.plot(s_shuffle[:100],'b.')"
   ]
  },
  {
   "cell_type": "markdown",
   "metadata": {},
   "source": [
    "## Learning History"
   ]
  },
  {
   "cell_type": "code",
   "execution_count": 17,
   "metadata": {},
   "outputs": [],
   "source": [
    "trial = 399\n",
    "\n",
    "for iters1, noise in enumerate(3 * [0.0]):\n",
    "    performance = []\n",
    "    for iters2 in np.arange(11):\n",
    "        if iters2 == 0:\n",
    "            Pretest = PretrainTest(weight_write = 'weights_cpu/rnn_1515tanh512_checkpoint{}'.format(trial))\n",
    "            Pretest.TestAllSizes(size_range = [10], limit_set = 4, test_size = 0)\n",
    "            performance.append(Pretest.Performance)\n",
    "        if iters2>0:\n",
    "            Pretest = PretrainTest(weight_write = 'weights2/rnn_1515tanh512_checkpoint{}_{}_{}'.format(trial, iters1, iters2-1))\n",
    "            Pretest.TestAllSizes(size_range = [10], limit_set = 4, test_size = 0)\n",
    "            performance.append(Pretest.Performance)\n",
    "    np.save('Rewards_s_{}_{}.npy'.format(iters1, 39), performance)"
   ]
  },
  {
   "cell_type": "code",
   "execution_count": 19,
   "metadata": {},
   "outputs": [
    {
     "data": {
      "text/plain": [
       "([<matplotlib.axis.XTick at 0x7f10b4079b70>,\n",
       "  <matplotlib.axis.XTick at 0x7f109ce1a2e8>,\n",
       "  <matplotlib.axis.XTick at 0x7f109ce1a438>],\n",
       " <a list of 3 Text xticklabel objects>)"
      ]
     },
     "execution_count": 19,
     "metadata": {},
     "output_type": "execute_result"
    },
    {
     "data": {
      "image/png": "[encoded data removed]",
      "text/plain": [
       "<matplotlib.figure.Figure at 0x7f109cd0b4e0>"
      ]
     },
     "metadata": {},
     "output_type": "display_data"
    }
   ],
   "source": [
    "ax = subplot(1, 1, 1)\n",
    "ax.spines['top'].set_visible(False)\n",
    "ax.spines['right'].set_visible(False)\n",
    "Performance_pos = []\n",
    "for iters, noise in enumerate(3 * [0.0]):\n",
    "    for trial in [39]: \n",
    "#         reward = np.load('Rewards_s_{}_{}_s.npy'.format(iters, trial))\n",
    "#         plt.plot(reward, 'c.--')\n",
    "        reward = np.load('Rewards_s_{}_{}.npy'.format(iters, trial))\n",
    "        plt.plot(reward, 'r.-')\n",
    "        Performance_pos.append(reward)\n",
    "np.save('Performance_pos', Performance_pos)\n",
    "# plt.xticks([0, 10, 20, 30], size = 15)\n",
    "# plt.yticks([-0.4, 0, 0.4, 0.8], size = 15)\n",
    "plt.title('scaling', size = 20)\n",
    "plt.yticks([0, 0.25, 0.5, 0.75, 1], size = 15)\n",
    "plt.xticks([0, 5, 10], size = 15)"
   ]
  },
  {
   "cell_type": "markdown",
   "metadata": {},
   "source": [
    "## Generalization"
   ]
  },
  {
   "cell_type": "code",
   "execution_count": 29,
   "metadata": {},
   "outputs": [
    {
     "name": "stdout",
     "output_type": "stream",
     "text": [
      "[0.89382289 0.88362879 0.63989213]\n"
     ]
    }
   ],
   "source": [
    "performance10s = performance_measure(10, 0, trials = 3, k_action=1, k_internal=1, k_stim=1, shuffle = True)"
   ]
  },
  {
   "cell_type": "code",
   "execution_count": 31,
   "metadata": {},
   "outputs": [
    {
     "name": "stdout",
     "output_type": "stream",
     "text": [
      "[0.66994826 0.63774505 0.5900243 ]\n"
     ]
    }
   ],
   "source": [
    "performance30s = performance_measure(30, 1, trials = 3, k_action=1, k_internal=1, k_stim=1, shuffle = True)"
   ]
  },
  {
   "cell_type": "code",
   "execution_count": 34,
   "metadata": {},
   "outputs": [
    {
     "name": "stdout",
     "output_type": "stream",
     "text": [
      "[0.04155628 0.16913799 0.41453743]\n"
     ]
    }
   ],
   "source": [
    "performance50s = performance_measure(50, 2, trials = 3, k_action=1, k_internal=1, k_stim=1, limit_set = 4, shuffle = True)"
   ]
  },
  {
   "cell_type": "code",
   "execution_count": 35,
   "metadata": {},
   "outputs": [
    {
     "name": "stdout",
     "output_type": "stream",
     "text": [
      "[-0.30221783 -0.34138944  0.14160454]\n"
     ]
    }
   ],
   "source": [
    "performance70s = performance_measure(70, 3, trials = 3, k_action=1, k_internal=1, k_stim=1, limit_set = 4, shuffle = True)"
   ]
  },
  {
   "cell_type": "code",
   "execution_count": 37,
   "metadata": {},
   "outputs": [
    {
     "name": "stdout",
     "output_type": "stream",
     "text": [
      "[-0.46954419 -0.4601164   0.05965583]\n"
     ]
    }
   ],
   "source": [
    "performance90s = performance_measure(90, 4, trials = 3, k_action=1, k_internal=1, k_stim=1, limit_set = 4, shuffle = True)"
   ]
  },
  {
   "cell_type": "code",
   "execution_count": 38,
   "metadata": {},
   "outputs": [],
   "source": [
    "np.save('performance10s', performance10s)\n",
    "np.save('performance30s', performance30s)\n",
    "np.save('performance50s', performance50s)\n",
    "np.save('performance70s', performance70s)\n",
    "np.save('performance90s', performance90s)"
   ]
  },
  {
   "cell_type": "code",
   "execution_count": 5,
   "metadata": {},
   "outputs": [],
   "source": [
    "performance10s = np.load('performance10s.npy')\n",
    "performance30s = np.load('performance30s.npy')\n",
    "performance50s = np.load('performance50s.npy') \n",
    "performance70s = np.load('performance70s.npy') \n",
    "performance90s = np.load('performance90s.npy')\n",
    "performance_g10_s = np.max(performance10s, axis = 1)\n",
    "performance_g30_s = np.max(performance30s, axis = 1)\n",
    "performance_g50_s = np.max(performance50s, axis = 1) \n",
    "performance_g70_s = np.max(performance70s, axis = 1) \n",
    "performance_g90_s = np.max(performance90s, axis = 1)"
   ]
  },
  {
   "cell_type": "code",
   "execution_count": 6,
   "metadata": {},
   "outputs": [],
   "source": [
    "performance_10 = np.load('performance_10_1.npy')\n",
    "performance_30 = np.load('performance_30_1.npy')\n",
    "performance_50 = np.load('performance_50_1.npy') \n",
    "performance_70 = np.load('performance_70_1.npy') \n",
    "performance_90 = np.load('performance_90_1.npy')\n",
    "performance_g10 = np.max(performance_10, axis = 1)\n",
    "performance_g30 = np.max(performance_30, axis = 1)\n",
    "performance_g50 = np.max(performance_50, axis = 1) \n",
    "performance_g70 = np.max(performance_70, axis = 1) \n",
    "performance_g90 = np.max(performance_90, axis = 1)"
   ]
  },
  {
   "cell_type": "code",
   "execution_count": 7,
   "metadata": {},
   "outputs": [],
   "source": [
    "# PG_s = [performance_g10_s, performance_g30_s, performance_g50_s, performance_g70_s, performance_g90_s]\n",
    "# pG_s = np.concatenate(PG_s)\n",
    "PGs = [performance_g10_s, performance_g30_s, performance_g50_s, performance_g70_s, performance_g90_s]\n",
    "PGs = np.concatenate(PGs).reshape(-1, 3)\n",
    "\n",
    "PG = [performance_g10, performance_g30, performance_g50, performance_g70, performance_g90]\n",
    "PG = np.concatenate(PG).reshape(-1, 3)"
   ]
  },
  {
   "cell_type": "code",
   "execution_count": 64,
   "metadata": {},
   "outputs": [
    {
     "data": {
      "text/plain": [
       "array([ 0.96773916,  0.28721932, -0.10550769, -0.22726694, -0.35475567])"
      ]
     },
     "execution_count": 64,
     "metadata": {},
     "output_type": "execute_result"
    }
   ],
   "source": [
    "np.mean(PG.reshape(-1, 3), axis = 1)"
   ]
  },
  {
   "cell_type": "code",
   "execution_count": 65,
   "metadata": {},
   "outputs": [],
   "source": [
    "np.save('PG_Scaling_PosNet', PG)\n",
    "np.save('PG_Scaling_PosNet_shuffle', PGs)"
   ]
  },
  {
   "cell_type": "code",
   "execution_count": 9,
   "metadata": {},
   "outputs": [],
   "source": [
    "PG_echo = np.load('PG_echo.npy')"
   ]
  },
  {
   "cell_type": "code",
   "execution_count": 10,
   "metadata": {},
   "outputs": [
    {
     "data": {
      "text/plain": [
       "<Container object of 3 artists>"
      ]
     },
     "execution_count": 10,
     "metadata": {},
     "output_type": "execute_result"
    },
    {
     "data": {
      "image/png": "[encoded data removed]",
      "text/plain": [
       "<matplotlib.figure.Figure at 0x7f40b56e14e0>"
      ]
     },
     "metadata": {},
     "output_type": "display_data"
    }
   ],
   "source": [
    "ax = subplot(1, 1, 1)\n",
    "ax.spines['top'].set_visible(False)\n",
    "ax.spines['right'].set_visible(False)\n",
    "plt.xticks([10, 30, 50, 70, 90], size = 15)\n",
    "plt.yticks([-0.6, -0.2, 0.2, 0.6, 1], size = 15)\n",
    "plt.errorbar(np.arange(10, 91, 20), np.mean(PG, axis = 1), yerr = np.std(PG, axis = 1), color = 'r')\n",
    "plt.errorbar(np.arange(10, 91, 20), np.mean(PGs, axis = 1), yerr = np.std(PGs, axis = 1), color = 'c')\n",
    "plt.errorbar(np.arange(10, 91, 20), np.mean(PG_echo, axis = 1), yerr = np.std(PG_echo, axis = 1), color = 'b')\n"
   ]
  },
  {
   "cell_type": "code",
   "execution_count": 58,
   "metadata": {},
   "outputs": [
    {
     "name": "stdout",
     "output_type": "stream",
     "text": [
      "[ 0.63905325  0.27810651 -0.00591716 -0.08284024  0.20710059]\n"
     ]
    }
   ],
   "source": [
    "performance = performance_measure(90, 4, trials = 5, k_action=1, k_internal=1, k_stim=1, limit_set = 16)"
   ]
  },
  {
   "cell_type": "code",
   "execution_count": 68,
   "metadata": {},
   "outputs": [],
   "source": [
    "np.save('performance90_shuffle', performance)"
   ]
  },
  {
   "cell_type": "code",
   "execution_count": 81,
   "metadata": {},
   "outputs": [
    {
     "name": "stdout",
     "output_type": "stream",
     "text": [
      "[ 0.07100592 -0.28994083  0.3964497   0.18343195 -0.25443787]\n"
     ]
    }
   ],
   "source": [
    "performance = performance_measure(90, 4, trials = 5, k_action=1, k_internal=1, k_stim=1, limit_set = 16,\n",
    "                                 pretrain = True)"
   ]
  },
  {
   "cell_type": "code",
   "execution_count": 82,
   "metadata": {},
   "outputs": [],
   "source": [
    "np.save('performance90', performance)"
   ]
  },
  {
   "cell_type": "code",
   "execution_count": 83,
   "metadata": {},
   "outputs": [
    {
     "name": "stdout",
     "output_type": "stream",
     "text": [
      "[0.76 0.28 0.58 0.74 0.52]\n"
     ]
    }
   ],
   "source": [
    "performance = performance_measure(30, 1, trials = 5, k_action=1, k_internal=1, k_stim=1, pretrain = True)"
   ]
  },
  {
   "cell_type": "code",
   "execution_count": 84,
   "metadata": {},
   "outputs": [],
   "source": [
    "np.save('performance30', performance)"
   ]
  },
  {
   "cell_type": "markdown",
   "metadata": {},
   "source": [
    "### Performance 30 as reference"
   ]
  },
  {
   "cell_type": "code",
   "execution_count": 77,
   "metadata": {},
   "outputs": [
    {
     "data": {
      "text/plain": [
       "0.6187999999999999"
      ]
     },
     "execution_count": 77,
     "metadata": {},
     "output_type": "execute_result"
    }
   ],
   "source": [
    "perform30 = np.load('performance30_shuffle.npy')\n",
    "np.mean(perform30[perform30>0.0]) "
   ]
  },
  {
   "cell_type": "code",
   "execution_count": 85,
   "metadata": {},
   "outputs": [
    {
     "data": {
      "text/plain": [
       "0.45875"
      ]
     },
     "execution_count": 85,
     "metadata": {},
     "output_type": "execute_result"
    }
   ],
   "source": [
    "perform30 = np.load('performance30.npy')\n",
    "np.mean(perform30[perform30>0.0]) "
   ]
  },
  {
   "cell_type": "markdown",
   "metadata": {},
   "source": [
    "### Performance 90 as test"
   ]
  },
  {
   "cell_type": "code",
   "execution_count": 78,
   "metadata": {},
   "outputs": [
    {
     "data": {
      "text/plain": [
       "-0.08001029071263185"
      ]
     },
     "execution_count": 78,
     "metadata": {},
     "output_type": "execute_result"
    }
   ],
   "source": [
    "perform90 = np.load('performance90_shuffle.npy')\n",
    "np.mean(perform90[perform30>0.3])"
   ]
  },
  {
   "cell_type": "code",
   "execution_count": 86,
   "metadata": {},
   "outputs": [
    {
     "data": {
      "text/plain": [
       "-0.1643655489809336"
      ]
     },
     "execution_count": 86,
     "metadata": {},
     "output_type": "execute_result"
    }
   ],
   "source": [
    "perform90 = np.load('performance90.npy')\n",
    "np.mean(perform90[perform30>0.3])"
   ]
  },
  {
   "cell_type": "markdown",
   "metadata": {},
   "source": [
    "## GLM"
   ]
  },
  {
   "cell_type": "code",
   "execution_count": 81,
   "metadata": {},
   "outputs": [],
   "source": [
    "\n",
    "def variance_decompose(pca, T, open_loop = True, alpha = 1e-4):\n",
    "    Actions = np.zeros((pca.Hiddens.shape[0], pca.Hiddens.shape[1], T))\n",
    "    Y = np.ones((pca.Hiddens.shape[0], pca.Hiddens.shape[1], T))\n",
    "    X = np.ones((pca.Hiddens.shape[0], pca.Hiddens.shape[1], T))\n",
    "    Stims = np.ones((pca.Hiddens.shape[0], pca.Hiddens.shape[1], T))\n",
    "    colors = ['b', 'g', 'r', 'm']\n",
    "    for i in range(pca.Hiddens.shape[0]):\n",
    "        for j in range(pca.Hiddens.shape[1]):\n",
    "            if open_loop == False:\n",
    "                Actions[i, j] = pca.Actions[i, j, :T]\n",
    "            else:\n",
    "                Actions[i, j] = j\n",
    "            Stims[i, j] = i\n",
    "            Y[i, j] = pca.Ys[i, j, :T]\n",
    "            X[i, j] = pca.Xs[i, j, :T]\n",
    "\n",
    "    x =  pca.Hiddens[:, :, :T, :].reshape(-1, 512)\n",
    "    z = (x - np.min(x))/(np.max(x) - np.min(x))\n",
    "    y = np.log(z/(1-z + 1e-3) + 1e-3)\n",
    "     ## features:\n",
    "    A = np.array([np.eye(4)[int(a)] for a in Actions.reshape(-1)]).reshape(-1, 4)\n",
    "    S = np.array([np.eye(4)[int(s)] for s in Stims.reshape(-1)]).reshape(-1, 4)\n",
    "    Y = Y.reshape(-1, 1)/np.max(np.abs(Y))\n",
    "    X = X.reshape(-1, 1)/np.max(np.abs(X))\n",
    "    Features = np.concatenate((A, S, Y, X), axis = 1)\n",
    "    Features_A = np.concatenate((S, Y, X), axis = 1)\n",
    "    Features_S = np.concatenate((A, Y, X), axis = 1)\n",
    "    Features_Y = np.concatenate((A, S, X), axis = 1)\n",
    "    Features_X = np.concatenate((A, S, Y), axis = 1)\n",
    "\n",
    "    clf1 = Lasso(alpha = alpha)\n",
    "    clf1.fit(Features, y)\n",
    "    y_pred = clf1.predict(Features)\n",
    "    Importances = []\n",
    "    importances = []\n",
    "    for feature in [Features_A, Features_S, Features_Y, Features_X]:\n",
    "        clf = Lasso(alpha= alpha)\n",
    "        clf.fit(feature, y)\n",
    "        y_pred_i = clf.predict(feature)\n",
    "#         print (r2_score(y, y_pred_i), r2_score(y, y_pred))\n",
    "        importances.append(r2_score(y, y_pred) - r2_score(y, y_pred_i))\n",
    "        Importance = []\n",
    "        for i in range(512):\n",
    "            dif =  r2_score(y[:, i], y_pred[:, i]) - r2_score(y[:, i], y_pred_i[:, i])\n",
    "            if dif<0:\n",
    "                dif = 0\n",
    "            Importance.append(dif)\n",
    "        Importances.append(Importance)\n",
    "    return importances\n",
    "\n",
    "def Memory(weight, k_action = 1, k_stim = 1, k_internal = 1, epsilon = 1, context_gain = 1, shuffle = False):\n",
    "    # reference from net 1 \n",
    "    def placefield(pos): \n",
    "        field =np.zeros((2, 19))\n",
    "        for k in range(2):\n",
    "            for i in range(field.shape[1]): \n",
    "            # distance generation \n",
    "                pos_relative = pos[k]\n",
    "                field[k, i] =  (i- pos_relative) ** 2 \n",
    "        field = - 0.1 * torch.from_numpy(field).resize(1, 2 * 19).float()\n",
    "        return field\n",
    "    Info_P = np.zeros(5)\n",
    "    Info_I = np.zeros(5)\n",
    "    Info_A = np.zeros(5)\n",
    "    pca = PCA(weight = weight)\n",
    "    pca.pca(T_duration = 3, shuffle = shuffle)\n",
    "    pca.game.net.k_action = k_action\n",
    "    pca.game.net.k_internal = k_internal\n",
    "    pca.game.net.k_stim = k_stim\n",
    "    for pos_reward in [(9, 5), (9, 13)]:\n",
    "        context = context_gain * placefield(pos_reward)\n",
    "        pca.Dynamics(Actions = 10 * [0], legend = True, T_total = 200, T_stim = 30, T_duration = 2, \\\n",
    "                     readout_random = True, open_loop = False, e = epsilon, context = context)\n",
    "        for i in range(2):\n",
    "            T = 20 + i * 40\n",
    "            importances = variance_decompose(pca, T, open_loop=False)\n",
    "            Info_A[i] += importances[0]\n",
    "            Info_I[i] += importances[1]\n",
    "            Info_P[i] += importances[2] + importances[3]  \n",
    "    Info_A = Info_A/2    \n",
    "    Info_P = Info_P/2  \n",
    "    Info_I = Info_I/2  \n",
    "    print (np.mean(Info_A), np.mean(Info_I), np.mean(Info_P))\n",
    "    return Info_A, Info_I, Info_P \n"
   ]
  },
  {
   "cell_type": "code",
   "execution_count": 82,
   "metadata": {},
   "outputs": [
    {
     "name": "stdout",
     "output_type": "stream",
     "text": [
      "0.0009806767845344899 0.03325936374254192 0.005272873362531587\n",
      "0.0010129733066417581 0.033704163693452575 0.004334576937217811\n",
      "0.0008487824905847013 0.03390596678911339 0.005436470960863353\n",
      "0.0009418417043063371 0.03684539257875271 0.0045978295593018265\n",
      "0.0010528428792267812 0.02866286515148251 0.005735939261711727\n"
     ]
    }
   ],
   "source": [
    "Infos_I_echo = []\n",
    "Infos_P_echo = []\n",
    "Decay_echo = []\n",
    "for i in range(5):\n",
    "    weight = 'weights_cpu/rnn_1515tanh512_checkpoint0'\n",
    "    Info_A_pre, Info_I_pre, Info_P_pre  = Memory(weight)\n",
    "    Infos_I_echo.append(Info_I_pre[0])\n",
    "    Infos_P_echo.append(np.mean(Info_P_pre))\n",
    "    Decay_echo.append(Info_I_pre[-1]/Info_I_pre[0])"
   ]
  },
  {
   "cell_type": "code",
   "execution_count": 59,
   "metadata": {},
   "outputs": [
    {
     "name": "stdout",
     "output_type": "stream",
     "text": [
      "0.0072990368639409 0.1729895019150659 0.24260646371925326\n",
      "0.008346171706992908 0.18365971300795442 0.27319088621041\n",
      "0.008303657220661703 0.1525216214653469 0.28045182734268037\n",
      "0.007198782369610773 0.16845257853785991 0.2659407594646659\n",
      "0.008543717361823772 0.15990268651300218 0.2695898384046197\n"
     ]
    }
   ],
   "source": [
    "Infos_I_pre1 = []\n",
    "Infos_P_pre1 = []\n",
    "Decay1 = []\n",
    "for i in range(5):\n",
    "    weight = 'weights_cpu/rnn_1515tanh512_checkpoint300'\n",
    "    Info_A_pre, Info_I_pre, Info_P_pre  = Memory(weight)\n",
    "    Infos_I_pre1.append(Info_I_pre[0])\n",
    "    Infos_P_pre1.append(np.mean(Info_P_pre))\n",
    "    Decay1.append(Info_I_pre[-1]/Info_I_pre[0])"
   ]
  },
  {
   "cell_type": "code",
   "execution_count": 80,
   "metadata": {},
   "outputs": [
    {
     "name": "stdout",
     "output_type": "stream",
     "text": [
      "0.0017804786292199726 0.05117631257092593 0.018513293824991933\n",
      "decay [0.10014294 0.06041809 0.03981417 0.03102742 0.02447894]\n",
      "0.002457124870230956 0.03859591485775725 0.02568724291946184\n",
      "decay [0.08801462 0.03905116 0.02748655 0.02145755 0.01696971]\n",
      "0.0018640547697918084 0.032199011150832305 0.0284397688539595\n",
      "decay [0.09238944 0.03338036 0.01693204 0.01081364 0.00747957]\n",
      "0.001699162600359888 0.04165743855105987 0.04192333200030145\n",
      "decay [0.08629969 0.04824998 0.03185256 0.0231373  0.01874765]\n",
      "0.0022524786336395306 0.04136796719515334 0.039997289422097695\n",
      "decay [0.09731481 0.04876652 0.02867858 0.0185888  0.01349112]\n"
     ]
    }
   ],
   "source": [
    "Infos_I_pre1s = []\n",
    "Infos_P_pre1s = []\n",
    "Decay1s = []\n",
    "for i in range(5):\n",
    "    weight = 'weights_cpu/rnn_1515tanh512_checkpoint300'\n",
    "    Info_A_pre, Info_I_pre, Info_P_pre  = Memory(weight, shuffle = True)\n",
    "    Infos_I_pre1s.append(Info_I_pre[0])\n",
    "    Infos_P_pre1s.append(np.mean(Info_P_pre))\n",
    "    Decay1s.append(Info_I_pre[-1]/Info_I_pre[0])\n",
    "    print ('decay', Info_I_pre)"
   ]
  },
  {
   "cell_type": "code",
   "execution_count": 61,
   "metadata": {},
   "outputs": [],
   "source": [
    "np.save('infos_I_pre1', Infos_I_pre1)\n",
    "np.save('infos_p_pre1', Infos_P_pre1)\n",
    "np.save('decay_pre1', Decay1)\n",
    "np.save('infos_I_pre1_shuffle', Infos_I_pre1s)\n",
    "np.save('infos_p_pre1_shuffle', Infos_P_pre1s)\n",
    "np.save('decay_pre1_shuffle', Decay1s)"
   ]
  },
  {
   "cell_type": "code",
   "execution_count": 62,
   "metadata": {},
   "outputs": [],
   "source": [
    "np.save('infos_I_echo', Infos_I_echo)\n",
    "np.save('infos_p_echo', Infos_P_echo)\n",
    "np.save('decay_echo', Decay_echo)"
   ]
  },
  {
   "cell_type": "code",
   "execution_count": 10,
   "metadata": {},
   "outputs": [],
   "source": [
    "Infos_I_pre1 = np.load('infos_I_pre1.npy')\n",
    "Infos_P_pre1 = np.load('infos_p_pre1.npy')\n",
    "Decays_pre1 = np.load('decay_pre1.npy')\n",
    "Infos_I_pre1s = np.load('infos_I_pre1_shuffle.npy')\n",
    "Infos_P_pre1s = np.load('infos_p_pre1_shuffle.npy')\n",
    "Decays_pre1s = np.load('decay_pre1_shuffle.npy')"
   ]
  },
  {
   "cell_type": "code",
   "execution_count": 14,
   "metadata": {},
   "outputs": [],
   "source": [
    "\n",
    "Infos_I_pre2 = np.load('infos_I_pre2.npy')\n",
    "Infos_P_pre2 = np.load('infos_p_pre2.npy')\n",
    "Decays_pre2 = np.load('decay_pre2.npy')\n",
    "Infos_I_pre2s = np.load('infos_I_pre2_shuffle.npy')\n",
    "Infos_P_pre2s = np.load('infos_p_pre2_shuffle.npy')\n",
    "Decays_pre2s = np.load('decay_pre2_shuffle.npy')"
   ]
  },
  {
   "cell_type": "code",
   "execution_count": 15,
   "metadata": {},
   "outputs": [],
   "source": [
    "Infos_I_echo = np.load('infos_I_echo.npy')\n",
    "Infos_P_echo = np.load('infos_p_echo.npy')\n",
    "Decays_echo = np.load('decay_echo.npy')"
   ]
  },
  {
   "cell_type": "code",
   "execution_count": 17,
   "metadata": {},
   "outputs": [
    {
     "data": {
      "text/plain": [
       "([<matplotlib.axis.YTick at 0x7f95144f44e0>,\n",
       "  <matplotlib.axis.YTick at 0x7f95144f4e48>,\n",
       "  <matplotlib.axis.YTick at 0x7f951448a780>],\n",
       " <a list of 3 Text yticklabel objects>)"
      ]
     },
     "execution_count": 17,
     "metadata": {},
     "output_type": "execute_result"
    },
    {
     "data": {
      "image/png": "[encoded data removed]",
      "text/plain": [
       "<matplotlib.figure.Figure at 0x7f952413afd0>"
      ]
     },
     "metadata": {},
     "output_type": "display_data"
    }
   ],
   "source": [
    "ax = subplot(1, 1, 1)\n",
    "ax.spines['top'].set_visible(False)\n",
    "ax.spines['right'].set_visible(False)\n",
    "set_stim = [np.mean(Infos_I_echo), np.mean(Infos_I_pre1), np.mean(Infos_I_pre1s), np.mean(Infos_I_pre2), np.mean(Infos_I_pre2s)]\n",
    "set_std = [np.std(Infos_I_echo), np.std(Infos_I_pre1), np.std(Infos_I_pre1s), np.std(Infos_I_pre2), np.std(Infos_I_pre2s)]\n",
    "barlist = plt.bar(np.arange(5), height = set_stim, yerr = set_std)\n",
    "barlist[0].set_color('b')\n",
    "barlist[1].set_color('r')\n",
    "barlist[2].set_color('m')\n",
    "barlist[3].set_color('g')\n",
    "barlist[4].set_color('y')\n",
    "plt.xticks([0, 1, 2, 3, 4], ['echo', 'PosNet', 'NP', 'MemNet', 'NM'], size = 15)\n",
    "plt.yticks([0, 0.2, 0.4], size = 15)"
   ]
  },
  {
   "cell_type": "code",
   "execution_count": 18,
   "metadata": {},
   "outputs": [
    {
     "data": {
      "text/plain": [
       "([<matplotlib.axis.YTick at 0x7f95144b1240>,\n",
       "  <matplotlib.axis.YTick at 0x7f95144b1ef0>,\n",
       "  <matplotlib.axis.YTick at 0x7f9514611588>],\n",
       " <a list of 3 Text yticklabel objects>)"
      ]
     },
     "execution_count": 18,
     "metadata": {},
     "output_type": "execute_result"
    },
    {
     "data": {
      "image/png": "[encoded data removed]",
      "text/plain": [
       "<matplotlib.figure.Figure at 0x7f952417df60>"
      ]
     },
     "metadata": {},
     "output_type": "display_data"
    }
   ],
   "source": [
    "ax = subplot(1, 1, 1)\n",
    "ax.spines['top'].set_visible(False)\n",
    "ax.spines['right'].set_visible(False)\n",
    "set_stim = [np.mean(Infos_P_echo), np.mean(Infos_P_pre1), np.mean(Infos_P_pre1s), np.mean(Infos_P_pre2), np.mean(Infos_P_pre2s)]\n",
    "set_std = [np.std(Infos_P_echo), np.std(Infos_P_pre1), np.std(Infos_P_pre1s), np.std(Infos_P_pre2), np.std(Infos_P_pre2s)]\n",
    "barlist = plt.bar(np.arange(5), height = set_stim, yerr = set_std)\n",
    "barlist[0].set_color('b')\n",
    "barlist[1].set_color('r')\n",
    "barlist[2].set_color('m')\n",
    "barlist[3].set_color('g')\n",
    "barlist[4].set_color('y')\n",
    "plt.xticks([0, 1, 2, 3, 4], ['echo', 'PosNet', 'NP', 'MemNet', 'NM'], size = 15)\n",
    "plt.yticks([0, 0.2, 0.4], size = 15)"
   ]
  },
  {
   "cell_type": "code",
   "execution_count": 19,
   "metadata": {},
   "outputs": [
    {
     "data": {
      "text/plain": [
       "([<matplotlib.axis.YTick at 0x7f95144c1dd8>,\n",
       "  <matplotlib.axis.YTick at 0x7f95144c1940>,\n",
       "  <matplotlib.axis.YTick at 0x7f9514640b70>],\n",
       " <a list of 3 Text yticklabel objects>)"
      ]
     },
     "execution_count": 19,
     "metadata": {},
     "output_type": "execute_result"
    },
    {
     "data": {
      "image/png": "[encoded data removed]",
      "text/plain": [
       "<matplotlib.figure.Figure at 0x7f95241a1e48>"
      ]
     },
     "metadata": {},
     "output_type": "display_data"
    }
   ],
   "source": [
    "ax = subplot(1, 1, 1)\n",
    "ax.spines['top'].set_visible(False)\n",
    "ax.spines['right'].set_visible(False)\n",
    "set_stim = [np.mean(Decays_echo), np.mean(Decays_pre1), np.mean(Decays_pre1s), np.mean(Decays_pre2), np.mean(Decays_pre2s)]\n",
    "set_std = [np.std(Decays_echo), np.std(Decays_pre1), np.std(Decays_pre1s), np.std(Decays_pre2), np.std(Decays_pre2s)]\n",
    "barlist = plt.bar(np.arange(5), height = set_stim, yerr = set_std)\n",
    "barlist[0].set_color('b')\n",
    "barlist[1].set_color('r')\n",
    "barlist[2].set_color('m')\n",
    "barlist[3].set_color('g')\n",
    "barlist[4].set_color('y')\n",
    "plt.xticks([0, 1, 2, 3, 4], ['echo', 'PosNet', 'NP', 'MemNet', 'NM'], size = 15)\n",
    "plt.yticks([0, 0.5, 1], size = 15)"
   ]
  },
  {
   "cell_type": "markdown",
   "metadata": {},
   "source": [
    "## Behaviour "
   ]
  },
  {
   "cell_type": "code",
   "execution_count": null,
   "metadata": {},
   "outputs": [],
   "source": [
    "torch.manual_seed(np.random.randint(1e5))\n",
    "hidden = torch.randn(1, 512)\n",
    "size = 10\n",
    "PC_traces = []\n",
    "start = (np.random.randint(2, size +2),  np.random.randint(2, size+2))\n",
    "for i in range(1):\n",
    "    weight ='weights_net1_shuffle/rnn_1515tanh512_checkpoint39_2_9'\n",
    "    game = ValueMaxGame(grid_size = (size, size), holes = 0, random_seed = 4 , set_reward = [(0.5, 0.25), (0.5, 0.75)], input_type = 0, action_control = 1, discount = 0.9, alpha = 1, time_limit=8,\n",
    "                       lam = 0)\n",
    "    game.net.load_state_dict(torch.load(weight))\n",
    "    grid = game.grid.grid.copy()\n",
    "    Pos1, hidden1, dH1, Action, state1, reward1 = trajectory(game, start, reward_control = 0, size = size, test = size//10-1, init_hidden = False, hidden = hidden)\n",
    "    Pos2, hidden2, dH2, Action, state2, reward2 = trajectory(game, start, reward_control = 1, size = size, test = size//10-1, init_hidden = False, hidden = hidden)\n",
    "   \n",
    "    if i == 0:\n",
    "        plt.matshow(grid)\n",
    "#         y1 = np.array([p[0] for p in Pos1])\n",
    "#         x1 = np.array([p[1] for p in Pos1])\n",
    "        y2 = np.array([p[0] for p in Pos2])\n",
    "        x2 = np.array([p[1] for p in Pos2])\n",
    "\n",
    "        plt.plot(start[1], start[0], 'rs')\n",
    "#         plt.quiver(x1[:-1], y1[:-1], x1[1:]-x1[:-1], y1[1:]-y1[:-1], scale_units='xy', angles='xy', scale=1, color = 'm')\n",
    "        plt.quiver(x2[:-1], y2[:-1], x2[1:]-x2[:-1], y2[1:]-y2[:-1], scale_units='xy', angles='xy', scale=1, color = 'm')\n",
    "    # plt.quiver(x3[:-1], y3[:-1], x3[1:]-x3[:-1], y3[1:]-y3[:-1], scale_units='xy', angles='xy', scale=1, color = 'r')\n",
    "    # plt.quiver(x4[:-1], y4[:-1], x4[1:]-x4[:-1], y4[1:]-y4[:-1], scale_units='xy', angles='xy', scale=1, color = 'k')\n",
    "\n",
    "\n",
    "size = 90\n",
    "PC_traces = []\n",
    "start = (np.random.randint(2, size +2),  np.random.randint(2, size+2))\n",
    "for i in range(1):\n",
    "    weight = 'weights_net1_shuffle/rnn_1515tanh512_checkpoint39_2_9'\n",
    "    game = ValueMaxGame(grid_size = (size, size), holes = 0, random_seed = 4 , set_reward = [(0.5, 0.25), (0.5, 0.75)], input_type = 0, action_control = 1, discount = 0.9, alpha = 1, time_limit=8,\n",
    "                       lam = 0)\n",
    "    game.net.load_state_dict(torch.load(weight))\n",
    "    grid = game.grid.grid.copy()\n",
    "    Pos1, hidden1, dH1, Action, state1, reward1 = trajectory(game, start, reward_control = 0, size = size, test = size//10-1, init_hidden = False, hidden = hidden)\n",
    "    Pos2, hidden2, dH2, Action, state2, reward2 = trajectory(game, start, reward_control = 1, size = size, test = size//10-1, init_hidden = False, hidden = hidden)\n",
    "    print (reward1, reward2)\n",
    "    if i == 0:\n",
    "        plt.matshow(grid)\n",
    "        y1 = np.array([p[0] for p in Pos1])\n",
    "        x1 = np.array([p[1] for p in Pos1])\n",
    "        y2 = np.array([p[0] for p in Pos2])\n",
    "        x2 = np.array([p[1] for p in Pos2])\n",
    "\n",
    "        plt.plot(start[1], start[0], 'rs')\n",
    "        plt.quiver(x1[:-1], y1[:-1], x1[1:]-x1[:-1], y1[1:]-y1[:-1], scale_units='xy', angles='xy', scale=1, color = 'c')\n",
    "        plt.quiver(x2[:-1], y2[:-1], x2[1:]-x2[:-1], y2[1:]-y2[:-1], scale_units='xy', angles='xy', scale=1, color = 'm')\n",
    "    # plt.quiver(x3[:-1], y3[:-1], x3[1:]-x3[:-1], y3[1:]-y3[:-1], scale_units='xy', angles='xy', scale=1, color = 'r')\n",
    "    # plt.quiver(x4[:-1], y4[:-1], x4[1:]-x4[:-1], y4[1:]-y4[:-1], scale_units='xy', angles='xy', scale=1, color = 'k')\n",
    "\n",
    "  \n"
   ]
  },
  {
   "cell_type": "markdown",
   "metadata": {},
   "source": [
    "# Conclusion\n",
    "**Internal dynamics rather than decoding performance influences more the performance in uncertain enviroments**\n",
    "\n",
    "**Consider to think in global loops rather than separated system, thus the coupled dynamical system.  This system, which has its genome on its internal weights, will have quite different different pheno-types from the global loops,  richness of internal dynamics turns into extenable phenotypes which supports behaviours across scales.   The different types of attractors, fix point, limit cycle becomes substrate of strategy in different size rooms.  Thus generalization can be done until certain size, which offers complicate behaviour with a \"simple mind\"**\n",
    "\n",
    "**The triangle between decoding, dynamics and navigation should be like: 1, dynamics coded by internal weight is most fundamental, it gives rise to different representations(phenotypes).   2,  The relation between decoding and navigation are reciprocal. not random behaviour gives better enviromental prediction(complement the free energy principle) 2,  we should distinguish internal dynamics and global dynamics**"
   ]
  },
  {
   "cell_type": "code",
   "execution_count": null,
   "metadata": {},
   "outputs": [],
   "source": []
  }
 ],
 "metadata": {
  "anaconda-cloud": {},
  "kernelspec": {
   "display_name": "Python 3",
   "language": "python",
   "name": "python3"
  },
  "language_info": {
   "codemirror_mode": {
    "name": "ipython",
    "version": 3
   },
   "file_extension": ".py",
   "mimetype": "text/x-python",
   "name": "python",
   "nbconvert_exporter": "python",
   "pygments_lexer": "ipython3",
   "version": "3.6.3"
  },
  "latex_envs": {
   "LaTeX_envs_menu_present": true,
   "autoclose": false,
   "autocomplete": true,
   "bibliofile": "biblio.bib",
   "cite_by": "apalike",
   "current_citInitial": 1,
   "eqLabelWithNumbers": true,
   "eqNumInitial": 1,
   "hotkeys": {
    "equation": "Ctrl-E",
    "itemize": "Ctrl-I"
   },
   "labels_anchors": false,
   "latex_user_defs": false,
   "report_style_numbering": false,
   "user_envs_cfg": false
  },
  "toc": {
   "nav_menu": {},
   "number_sections": true,
   "sideBar": true,
   "skip_h1_title": false,
   "title_cell": "Table of Contents",
   "title_sidebar": "Contents",
   "toc_cell": true,
   "toc_position": {
    "height": "759px",
    "left": "0px",
    "right": "1228px",
    "top": "67px",
    "width": "212px"
   },
   "toc_section_display": "block",
   "toc_window_display": true
  },
  "varInspector": {
   "cols": {
    "lenName": 16,
    "lenType": 16,
    "lenVar": 40
   },
   "kernels_config": {
    "python": {
     "delete_cmd_postfix": "",
     "delete_cmd_prefix": "del ",
     "library": "var_list.py",
     "varRefreshCmd": "print(var_dic_list())"
    },
    "r": {
     "delete_cmd_postfix": ") ",
     "delete_cmd_prefix": "rm(",
     "library": "var_list.r",
     "varRefreshCmd": "cat(var_dic_list()) "
    }
   },
   "types_to_exclude": [
    "module",
    "function",
    "builtin_function_or_method",
    "instance",
    "_Feature"
   ],
   "window_display": false
  }
 },
 "nbformat": 4,
 "nbformat_minor": 2
}
