{
 "cells": [
  {
   "cell_type": "markdown",
   "metadata": {
    "toc": "true"
   },
   "source": [
    "<h1>Table of Contents<span class=\"tocSkip\"></span></h1>\n",
    "<div class=\"toc\"><ul class=\"toc-item\"><li><span><a href=\"#quick-start\" data-toc-modified-id=\"quick-start-1\"><span class=\"toc-item-num\">1&nbsp;&nbsp;</span>quick start</a></span><ul class=\"toc-item\"><li><span><a href=\"#Resources\" data-toc-modified-id=\"Resources-1.1\"><span class=\"toc-item-num\">1.1&nbsp;&nbsp;</span>Resources</a></span></li></ul></li><li><span><a href=\"#FULL-MODEL\" data-toc-modified-id=\"FULL-MODEL-2\"><span class=\"toc-item-num\">2&nbsp;&nbsp;</span>FULL MODEL</a></span><ul class=\"toc-item\"><li><span><a href=\"#Packages\" data-toc-modified-id=\"Packages-2.1\"><span class=\"toc-item-num\">2.1&nbsp;&nbsp;</span>Packages</a></span><ul class=\"toc-item\"><li><span><a href=\"#Qnetwork\" data-toc-modified-id=\"Qnetwork-2.1.1\"><span class=\"toc-item-num\">2.1.1&nbsp;&nbsp;</span>Qnetwork</a></span></li></ul></li><li><span><a href=\"#POMDP-RNN-Game\" data-toc-modified-id=\"POMDP-RNN-Game-2.2\"><span class=\"toc-item-num\">2.2&nbsp;&nbsp;</span>POMDP RNN Game</a></span></li><li><span><a href=\"#Results\" data-toc-modified-id=\"Results-2.3\"><span class=\"toc-item-num\">2.3&nbsp;&nbsp;</span>Results</a></span><ul class=\"toc-item\"><li><span><a href=\"#Standard-setting：-grid-=--(3,7)，-holes-=-0\" data-toc-modified-id=\"Standard-setting：-grid-=--(3,7)，-holes-=-0-2.3.1\"><span class=\"toc-item-num\">2.3.1&nbsp;&nbsp;</span>Standard setting： grid =  (3,7)， holes = 0</a></span></li><li><span><a href=\"#Model-Tranining\" data-toc-modified-id=\"Model-Tranining-2.3.2\"><span class=\"toc-item-num\">2.3.2&nbsp;&nbsp;</span>Model Tranining</a></span></li><li><span><a href=\"#decoding-vs-performance\" data-toc-modified-id=\"decoding-vs-performance-2.3.3\"><span class=\"toc-item-num\">2.3.3&nbsp;&nbsp;</span>decoding vs performance</a></span></li><li><span><a href=\"#learning-rate-vs-performance\" data-toc-modified-id=\"learning-rate-vs-performance-2.3.4\"><span class=\"toc-item-num\">2.3.4&nbsp;&nbsp;</span>learning rate vs performance</a></span></li><li><span><a href=\"#Summary\" data-toc-modified-id=\"Summary-2.3.5\"><span class=\"toc-item-num\">2.3.5&nbsp;&nbsp;</span>Summary</a></span></li><li><span><a href=\"#Anlytic-part-,-check-the-behaviour-correspond-to-each-decoding-level-and-explain-why\" data-toc-modified-id=\"Anlytic-part-,-check-the-behaviour-correspond-to-each-decoding-level-and-explain-why-2.3.6\"><span class=\"toc-item-num\">2.3.6&nbsp;&nbsp;</span>Anlytic part , check the behaviour correspond to each decoding level and explain why</a></span></li></ul></li><li><span><a href=\"#PCA\" data-toc-modified-id=\"PCA-2.4\"><span class=\"toc-item-num\">2.4&nbsp;&nbsp;</span>PCA</a></span></li></ul></li></ul></div>"
   ]
  },
  {
   "cell_type": "markdown",
   "metadata": {},
   "source": [
    "# quick start "
   ]
  },
  {
   "cell_type": "markdown",
   "metadata": {},
   "source": [
    "Test what is the decoding change for single size training "
   ]
  },
  {
   "cell_type": "markdown",
   "metadata": {},
   "source": [
    "## Resources\n",
    "\n",
    "* [*The* Reinforcement learning book from Sutton & Barto](http://incompleteideas.net/sutton/book/the-book-2nd.html)\n",
    "* [The REINFORCE paper from Ronald J. Williams (1992)](http://www-anw.cs.umass.edu/~barto/courses/cs687/williams92simple.pdf)\n"
   ]
  },
  {
   "cell_type": "markdown",
   "metadata": {},
   "source": [
    "# FULL MODEL"
   ]
  },
  {
   "cell_type": "markdown",
   "metadata": {},
   "source": [
    "## Packages"
   ]
  },
  {
   "cell_type": "code",
   "execution_count": 1,
   "metadata": {},
   "outputs": [
    {
     "name": "stdout",
     "output_type": "stream",
     "text": [
      "Populating the interactive namespace from numpy and matplotlib\n"
     ]
    },
    {
     "name": "stderr",
     "output_type": "stream",
     "text": [
      "/home/tie/anaconda3/lib/python3.6/site-packages/IPython/core/magics/pylab.py:160: UserWarning: pylab import has clobbered these variables: ['random']\n",
      "`%matplotlib` prevents importing * from pylab and numpy\n",
      "  \"\\n`%matplotlib` prevents importing * from pylab and numpy\"\n"
     ]
    }
   ],
   "source": [
    "%load_ext autoreload\n",
    "%autoreload 2\n",
    "\n",
    "import numpy as np\n",
    "from itertools import count\n",
    "import random\n",
    "\n",
    "import torch\n",
    "import torch.nn as nn\n",
    "import torch.nn.functional as F\n",
    "import torch.optim as optim\n",
    "import torch.autograd as autograd\n",
    "from torch.autograd import Variable\n",
    "from torch.nn import init\n",
    "from torch.nn import DataParallel\n",
    "from torch.utils.data import DataLoader\n",
    "\n",
    "import matplotlib.mlab as mlab\n",
    "import matplotlib.pyplot as plt\n",
    "import matplotlib.animation\n",
    "import seaborn as sns\n",
    "from IPython.display import HTML\n",
    "\n",
    "import pretrain\n",
    "from pretrain import *\n",
    "\n",
    "import Nets\n",
    "from Nets import*\n",
    "\n",
    "import navigation2\n",
    "from navigation2 import *\n",
    "\n",
    "%pylab inline\n",
    "import warnings\n",
    "warnings.filterwarnings('ignore')"
   ]
  },
  {
   "cell_type": "markdown",
   "metadata": {},
   "source": [
    "### Qnetwork\n",
    "\n",
    "To select actions we take maximum of Q value, corresponding to certain move."
   ]
  },
  {
   "cell_type": "markdown",
   "metadata": {},
   "source": [
    "For the liquid state approach to work, you need a lot of neurons as surplus or enough hidden to hidden connectivity to make it have an effect."
   ]
  },
  {
   "cell_type": "markdown",
   "metadata": {},
   "source": [
    "##  POMDP RNN Game\n",
    "\n",
    "In this game , we use a new reward function determined by game, if the agent achieves the goal before 50, reward is 1. If time pass 50 reward is 0.5, once time pass 100 agent gets a reward of -0.5 .  Practically, this is found to be easier to learn than the rewards as a continous function of time.  Tf the agent learns to search in a efficient way, the largest possible way for search is to firstly arrive at corner then goes to the goal, which, takes about 50 steps, it is reasonble to make 50 and 100 as milestone thing.  Also in principe as the game doesn't have a timer , it is not if it can use a reward as funtion of time"
   ]
  },
  {
   "cell_type": "markdown",
   "metadata": {},
   "source": [
    "3 condition for ending , when pass time limit, game over"
   ]
  },
  {
   "cell_type": "markdown",
   "metadata": {},
   "source": [
    "For weight update, it seems to be better do it after episode, as it makes non-sense evaluate strategy during episode, but a the end. Also, it is much quicker. "
   ]
  },
  {
   "cell_type": "markdown",
   "metadata": {},
   "source": [
    "A programming of MDP here, hidden state is as state of enviroment"
   ]
  },
  {
   "cell_type": "code",
   "execution_count": 2,
   "metadata": {},
   "outputs": [],
   "source": [
    "pregame = PretrainGame(grid_size = (15, 15), holes = 0, random_seed = 4 , set_reward = [(0.5, 0.25), (0.5, 0.75)])\n",
    "pregame.reset(set_agent=(2,2))\n",
    "# rls_q = RLS(1)\n",
    "# rls_sl = RLS(1)\n",
    "# for i in range(1):\n",
    "#     pregame.fulltrain(trials = 4)\n",
    "    "
   ]
  },
  {
   "cell_type": "code",
   "execution_count": 3,
   "metadata": {},
   "outputs": [],
   "source": [
    "game = ValueMaxGame(pregame.net, grid_size = (15, 15), holes = 0, random_seed = 4 , set_reward =  [(0.5, 0.25), (0.5, 0.75)])\n",
    "game.reset()\n",
    "# game.experiment(rls_q, rls_sl, 20, epsilon = 0.5, lr = 1e-3, train_hidden = False, train_q = False) "
   ]
  },
  {
   "cell_type": "code",
   "execution_count": 4,
   "metadata": {},
   "outputs": [
    {
     "data": {
      "text/plain": [
       "<matplotlib.image.AxesImage at 0x7f4814a8d668>"
      ]
     },
     "execution_count": 4,
     "metadata": {},
     "output_type": "execute_result"
    },
    {
     "data": {
      "image/png": "[encoded data removed]",
      "text/plain": [
       "<matplotlib.figure.Figure at 0x7f4887dcd2b0>"
      ]
     },
     "metadata": {},
     "output_type": "display_data"
    }
   ],
   "source": [
    "plt.matshow(game.grid.grid)\n",
    "# plt.savefig('g16h3-map')"
   ]
  },
  {
   "cell_type": "markdown",
   "metadata": {},
   "source": [
    "## Test with noise  \n",
    "Pretranining is done with fixed size 15,  training is between 10 to 15, test on 19 "
   ]
  },
  {
   "cell_type": "code",
   "execution_count": 10,
   "metadata": {},
   "outputs": [
    {
     "name": "stdout",
     "output_type": "stream",
     "text": [
      "0.5256915032149069\n"
     ]
    },
    {
     "data": {
      "text/plain": [
       "(0.5145754663559762, 0.5368075400738375)"
      ]
     },
     "execution_count": 10,
     "metadata": {},
     "output_type": "execute_result"
    },
    {
     "data": {
      "image/png": "[encoded data removed]",
      "text/plain": [
       "<matplotlib.figure.Figure at 0x7f15795455c0>"
      ]
     },
     "metadata": {},
     "output_type": "display_data"
    }
   ],
   "source": [
    "# reward is between -1 to 1, for positive number it means propotion to optimal path,  for - 1 means fail(pass limit)\n",
    "Pretest =  PretrainTest(holes = 0, weight_write = 'weights_fix/weights1/rnn_1515tanh512_checkpoin0_0_9', inputs_type=(1, 0))   \n",
    "weight = 'weights_fix/weights1/rnn_1515tanh512_checkpoint0_0_9'\n",
    "Pretest.game.net.load_state_dict(torch.load(weight))\n",
    "Rewards0, r_matrix0 = Test(Pretest.game, reward_control = 0, size = 15, test = 0, limit_set = 8, matrix = True, epsilon = 0.5)\n",
    "Rewards1, r_matrix1 = Test(Pretest.game, reward_control = 1, size = 15, test = 0, limit_set = 8, matrix = True, epsilon = 0.5)\n",
    "sns.distplot(r_matrix0 + r_matrix1)\n",
    "print (np.mean(r_matrix0 + r_matrix1))\n",
    "Rewards0, Rewards1"
   ]
  },
  {
   "cell_type": "code",
   "execution_count": 21,
   "metadata": {},
   "outputs": [],
   "source": [
    "Rewards_0 = []\n",
    "for e in [0, 0.25, 0.5, 0.75, 1]:\n",
    "    Pretest =  PretrainTest(holes = 0, weight_write = 'weights_fix/weights1/rnn_1515tanh512_checkpoin0_0_9', inputs_type=(1, 0))   \n",
    "    weight = 'weights_fix/weights1/rnn_1515tanh512_checkpoint0_2_9'\n",
    "    Pretest.game.net.load_state_dict(torch.load(weight))\n",
    "    Rewards0, r_matrix0 = Test(Pretest.game, reward_control = 0, size = 15, test = 0, limit_set = 8, matrix = True, epsilon = e)\n",
    "    Rewards1, r_matrix1 = Test(Pretest.game, reward_control = 1, size = 15, test = 0, limit_set = 8, matrix = True, epsilon = e)\n",
    "    Rewards_0.append((Rewards0 + Rewards1)/2)"
   ]
  },
  {
   "cell_type": "code",
   "execution_count": 8,
   "metadata": {},
   "outputs": [
    {
     "data": {
      "text/plain": [
       "[<matplotlib.lines.Line2D at 0x7f42f969bdd8>]"
      ]
     },
     "execution_count": 8,
     "metadata": {},
     "output_type": "execute_result"
    },
    {
     "data": {
      "image/png": "[encoded data removed]",
      "text/plain": [
       "<matplotlib.figure.Figure at 0x7f42f96afbe0>"
      ]
     },
     "metadata": {},
     "output_type": "display_data"
    }
   ],
   "source": [
    "plt.plot(Rewards)"
   ]
  },
  {
   "cell_type": "code",
   "execution_count": 4,
   "metadata": {},
   "outputs": [
    {
     "data": {
      "text/plain": [
       "[<matplotlib.lines.Line2D at 0x7ffa3016cf60>]"
      ]
     },
     "execution_count": 4,
     "metadata": {},
     "output_type": "execute_result"
    },
    {
     "data": {
      "image/png": "[encoded data removed]",
      "text/plain": [
       "<matplotlib.figure.Figure at 0x7ffa309f58d0>"
      ]
     },
     "metadata": {},
     "output_type": "display_data"
    }
   ],
   "source": [
    "Rewards_1 = []\n",
    "for e in [0, 0.25, 0.5, 0.75, 1]:\n",
    "    Pretest =  PretrainTest(holes = 0, weight_write = 'weights_fix/weights1/rnn_1515tanh512_checkpoin1_0_9', inputs_type=(1, 0))   \n",
    "    weight = 'weights_fix/weights1/rnn_1515tanh512_checkpoint1_0_9'\n",
    "    Pretest.game.net.load_state_dict(torch.load(weight))\n",
    "    Rewards0, r_matrix0 = Test(Pretest.game, reward_control = 0, size = 15, test = 0, limit_set = 8, matrix = True, epsilon = e)\n",
    "    Rewards1, r_matrix1 = Test(Pretest.game, reward_control = 1, size = 15, test = 0, limit_set = 8, matrix = True, epsilon = e)\n",
    "    Rewards_1.append((Rewards0 + Rewards1)/2)\n",
    "plt.plot(Rewards_1)"
   ]
  },
  {
   "cell_type": "code",
   "execution_count": 10,
   "metadata": {},
   "outputs": [],
   "source": [
    "Rewards_39 = []\n",
    "for e in [0, 0.25, 0.5, 0.75, 1]:\n",
    "    Pretest =  PretrainTest(holes = 0, weight_write = 'weights_fix/weights1/rnn_1515tanh512_checkpoin39_0_9', inputs_type=(1, 0))   \n",
    "    weight = 'weights_fix/weights1/rnn_1515tanh512_checkpoint39_0_9'\n",
    "    Pretest.game.net.load_state_dict(torch.load(weight))\n",
    "    Rewards0, r_matrix0 = Test(Pretest.game, reward_control = 0, size = 15, test = 0, limit_set = 8, matrix = True, epsilon = e)\n",
    "    Rewards1, r_matrix1 = Test(Pretest.game, reward_control = 1, size = 15, test = 0, limit_set = 8, matrix = True, epsilon = e)\n",
    "    Rewards_39.append((Rewards0 + Rewards1)/2)"
   ]
  },
  {
   "cell_type": "code",
   "execution_count": 7,
   "metadata": {},
   "outputs": [],
   "source": [
    "Rewards_49 = []\n",
    "for e in [0, 0.25, 0.5, 0.75, 1]:\n",
    "    Pretest =  PretrainTest(holes = 0, weight_write = 'weights_fix/weights2/rnn_1515tanh512_checkpoin49_2_9', inputs_type=(1, 0))   \n",
    "    weight = 'weights_fix/weights2/rnn_1515tanh512_checkpoint49_2_9'\n",
    "    Pretest.loadweight_q(weight, weight)\n",
    "    Pretest.game.net.load_state_dict(torch.load(weight))\n",
    "    Rewards0, r_matrix0 = Test(Pretest.game, reward_control = 0, size = 15, test = 0, limit_set = 8, matrix = True, epsilon = e)\n",
    "    Rewards1, r_matrix1 = Test(Pretest.game, reward_control = 1, size = 15, test = 0, limit_set = 8, matrix = True, epsilon = e)\n",
    "    Rewards_49.append((Rewards0 + Rewards1)/2)"
   ]
  },
  {
   "cell_type": "code",
   "execution_count": 22,
   "metadata": {},
   "outputs": [
    {
     "data": {
      "text/plain": [
       "([<matplotlib.axis.YTick at 0x7f26587f1b00>,\n",
       "  <matplotlib.axis.YTick at 0x7f26587f1978>,\n",
       "  <matplotlib.axis.YTick at 0x7f26587b00f0>],\n",
       " <a list of 3 Text yticklabel objects>)"
      ]
     },
     "execution_count": 22,
     "metadata": {},
     "output_type": "execute_result"
    },
    {
     "data": {
      "image/png": "[encoded data removed]",
      "text/plain": [
       "<matplotlib.figure.Figure at 0x7f2658abd5c0>"
      ]
     },
     "metadata": {},
     "output_type": "display_data"
    }
   ],
   "source": [
    "noise =  [0, 0.25, 0.5, 0.75, 1]\n",
    "plt.plot(noise, Rewards_0, 'bs-')\n",
    "plt.plot(noise, Rewards_49, 'gs-')\n",
    "plt.plot(noise, Rewards_39, 'rs-')\n",
    "plt.ylabel('Performance', size = 20)\n",
    "plt.xlabel('noise', size = 20)\n",
    "plt.xticks([0, 0.25, 0.5, 0.75, 1], size = 15)\n",
    "plt.yticks([-0.8, 0, 0.8], size = 15)"
   ]
  },
  {
   "cell_type": "markdown",
   "metadata": {},
   "source": [
    "Training from zero seems to be better because it will allow the agent to explore from new"
   ]
  },
  {
   "cell_type": "code",
   "execution_count": 12,
   "metadata": {},
   "outputs": [],
   "source": [
    "pca = PCA(weight ='weights_fix/weights1/rnn_1515tanh512_checkpoint5_0_9')\n",
    "pca.pca()\n",
    "\n",
    "Pretest =  PretrainTest(holes = 0, weight_write = 'weights_fix/weights1/rnn_1515tanh512_checkpoin1_0_9', inputs_type=(1, 0))        "
   ]
  },
  {
   "cell_type": "markdown",
   "metadata": {},
   "source": [
    "## Test driven action Statistics "
   ]
  },
  {
   "cell_type": "code",
   "execution_count": 38,
   "metadata": {},
   "outputs": [],
   "source": [
    "# 2 clicks performance\n",
    "def Force_action(x, y, start, type_):\n",
    "    dict_a = {'up':0, 'right':1, 'down':2, 'left':3 }\n",
    "    if type_ == 0:\n",
    "        force_actions = (16 - start[1]) * [dict_a['right']] +  (14-x) * [dict_a['left']]\\\n",
    "        + (16 - start[0]) * [dict_a['down']] + (14-y) * [dict_a['up']]\n",
    "    elif type_ == 1:\n",
    "        force_actions = (16 - start[1]) * [dict_a['right']] +  (14-x) * [dict_a['left']] \\\n",
    "        + (start[0] - 2) * [dict_a['up']] + y * [dict_a['down']]\n",
    "    elif type_ == 2:\n",
    "        force_actions = (start[1] - 2) * [dict_a['left']] +  x * [dict_a['right']] \\\n",
    "        + (16 - start[0]) * [dict_a['down']]  + (14-y) * [dict_a['up']]\n",
    "    elif type_ == 3:\n",
    "        force_actions = (start[1] - 2) * [dict_a['left']] +  x * [dict_a['right']] \\\n",
    "        + (start[0] - 2) * [dict_a['up']] + y * [dict_a['down']]\n",
    "    elif type_ == 4:\n",
    "        force_actions = (16 - start[0]) * [dict_a['down']] +  (14-y) * [dict_a['up']] \\\n",
    "        + (16 - start[1]) * [dict_a['right']] + (14-x) * [dict_a['left']]\n",
    "    elif type_ == 5:\n",
    "        force_actions = (16 - start[0]) * [dict_a['down']] +  (14-y) * [dict_a['up']] \\\n",
    "        + (start[1] - 2) * [dict_a['left']]  + x * [dict_a['right']]\n",
    "    elif type_ == 6:\n",
    "        force_actions = (start[0] - 2) * [dict_a['up']] +  y * [dict_a['down']]\\\n",
    "        + (16 - start[1]) * [dict_a['right']]  + (14-x) * [dict_a['left']]\n",
    "    elif type_ == 7:\n",
    "        force_actions = (start[0] - 2) * [dict_a['up']] +  y * [dict_a['down']] \\\n",
    "        + (start[1] - 2) * [dict_a['left']]  + x * [dict_a['right']]\n",
    "    return force_actions\n",
    "\n",
    "def clicks_count(weight, type_ = 0):\n",
    "    size = 15\n",
    "    PC_traces = []\n",
    "    Pretest =  PretrainTest(holes = 0, weight_write = weight, inputs_type=(1, 0)) \n",
    "    Pretest.game.net.load_state_dict(torch.load(weight))\n",
    "    # torch.manual_seed(5)\n",
    "    hidden = torch.randn(1, 512)\n",
    "    score_2 = []\n",
    "    # scan different points\n",
    "    Score_2 = np.zeros((19, 19))\n",
    "    for y in np.arange(0, 15, 1):\n",
    "        for x in np.arange(0, 15, 1):\n",
    "            score = 0\n",
    "            for i in range(50):\n",
    "                start = (np.random.randint(2, size +2),  np.random.randint(2, size+2))\n",
    "#                 force_actions = (size+2-start[1]) * [1] +  x * [3] + (start[0]+1-2) * [0] + 2 * [1] + y * [2]\n",
    "#                 force_actions2 = (size+2-start[1]) * [1] +  x * [3] + size+1-start[0] * [2] + 2 * [1] + y * [0]\n",
    "                force_actions = Force_action(x, y, start, type_)\n",
    "                Pos1, hidden1, dH1, Action, State1, reward1 = trajectory(Pretest.game, start, reward_control = 0, size = size, test = 0, hidden = hidden,\n",
    "                                                                        force_actions = force_actions, limit_set = 16)\n",
    "                start_new = Pos1[len(force_actions)]\n",
    "                grid = Pretest.game.grid.grid.copy()\n",
    "                pos_r = (Pretest.game.pos_reward)\n",
    "                manhantondist = np.abs(pos_r[0] - start_new[0]) + np.abs(pos_r[1] - start_new[1]) \n",
    "                score_2.append(manhantondist/(len(Pos1)-len(force_actions)-1))\n",
    "                score += len(Pos1)-len(force_actions)-1\n",
    "            score = score/50.                                                             \n",
    "            Score_2[start_new[0], start_new[1]] = score                                                          \n",
    "    print (np.mean(score_2))\n",
    "    return score_2, Score_2  \n"
   ]
  },
  {
   "cell_type": "code",
   "execution_count": 6,
   "metadata": {},
   "outputs": [],
   "source": [
    "# 1clicks performance\n",
    "def Force_action_1(x, y, start, type_):\n",
    "    dict_a = {'up':0, 'right':1, 'down':2, 'left':3 }\n",
    "    if type_ == 0:\n",
    "        force_actions = (16 - start[0]) * [dict_a['down']] +  y * [dict_a['up']]\n",
    "    elif type_ == 1:\n",
    "        force_actions = (start[0] - 2) * [dict_a['up']] + y * [dict_a['down']]\n",
    "    elif type_ == 2:\n",
    "        force_actions = (16 - start[1]) * [dict_a['right']] + y * [dict_a['left']]\n",
    "    elif type_ == 3:\n",
    "        force_actions = (start[1] - 2) * [dict_a['left']]  + y * [dict_a['right']]\n",
    "    return force_actions"
   ]
  },
  {
   "cell_type": "code",
   "execution_count": 39,
   "metadata": {},
   "outputs": [],
   "source": [
    "# 1clicks performance\n",
    "def Force_action_1(x, y, start, type_):\n",
    "    dict_a = {'up':0, 'right':1, 'down':2, 'left':3 }\n",
    "    if type_ == 0:\n",
    "        force_actions = (16 - start[0]) * [dict_a['down']] +  (16 - start[0]) * [dict_a['up']]\n",
    "    elif type_ == 1:\n",
    "        force_actions = (start[0] - 2) * [dict_a['up']] + (start[0] - 2) * [dict_a['down']]\n",
    "    elif type_ == 2:\n",
    "        force_actions = (16 - start[1]) * [dict_a['right']] + (16 - start[1]) * [dict_a['left']]\n",
    "    elif type_ == 3:\n",
    "        force_actions = (start[1] - 2) * [dict_a['left']]  + (start[1] - 2) * [dict_a['right']]\n",
    "    return force_actions\n",
    "# try to compare from each new starting position, what is performance compared to \n",
    "# without driven action\n",
    "def clicks_count_1(weight, type_ = 0):\n",
    "    size = 15\n",
    "    PC_traces = []\n",
    "    Pretest =  PretrainTest(holes = 0, weight_write = weight, inputs_type=(1, 0)) \n",
    "    Pretest.game.net.load_state_dict(torch.load(weight))\n",
    "    # torch.manual_seed(5)\n",
    "    hidden = torch.randn(1, 512)\n",
    "    # for all points \n",
    "    score_1 = []\n",
    "    # scan different points\n",
    "    Score_1 = np.zeros((19, 19))\n",
    "    for y in np.arange(2, 17, 1):\n",
    "        for x in np.arange(2, 17, 1):\n",
    "            score = 0\n",
    "            for i in range(50):\n",
    "                start = (y, x)\n",
    "                force_actions = Force_action_1(x, y, start, type_)\n",
    "                Pos1, hidden1, dH1, Action, State1, reward1 = trajectory(Pretest.game, start, reward_control = 0, size = size, test = 0\\\n",
    "                                                                         ,force_actions = force_actions, limit_set = 16)\n",
    "                start_new = Pos1[len(force_actions)]\n",
    "               \n",
    "                pos_r = (Pretest.game.pos_reward)\n",
    "                manhantondist = np.abs(pos_r[0] - start_new[0]) + np.abs(pos_r[1] - start_new[1]) \n",
    "                score_1.append(manhantondist/(len(Pos1)-len(force_actions)-1))\n",
    "                score += len(Pos1)-len(force_actions)-1\n",
    "            score = score/50.                                                             \n",
    "            Score_1[start_new[0], start_new[1]] = score                                                          \n",
    "    print (np.mean(score_1))\n",
    "    return score_1, Score_1  "
   ]
  },
  {
   "cell_type": "code",
   "execution_count": 40,
   "metadata": {},
   "outputs": [],
   "source": [
    "\n",
    "def zero_click(weight):\n",
    "    size = 15\n",
    "    PC_traces = []\n",
    "    Pretest =  PretrainTest(holes = 0, weight_write = weight, inputs_type=(1, 0)) \n",
    "    Pretest.game.net.load_state_dict(torch.load(weight))\n",
    "    # torch.manual_seed(5)\n",
    "    hidden = torch.randn(1, 512)\n",
    "    score_0 = []\n",
    "    Scores = np.zeros((19, 19))\n",
    "    for y in np.arange(2, 17, 1):\n",
    "        for x in np.arange(2, 17, 1):\n",
    "            score = 0\n",
    "            for i in range(50):\n",
    "                start = (np.random.randint(2, size +2),  np.random.randint(2, size+2))\n",
    "                start = (y, x)\n",
    "                force_actions = []\n",
    "                Pos1, hidden1, dH1, Action, State1, reward1 = trajectory(Pretest.game, start, reward_control = 1, size = size, test = 0, hidden = hidden,\n",
    "                                                                        force_actions = force_actions, limit_set = 16)\n",
    "            #     Pos2, hidden2, dH2, Action, reward2 = trajectory(Pretest.game, start, reward_control = 1, size = size, test = 0)\n",
    "                start_new = Pos1[len(force_actions)]\n",
    "                grid = Pretest.game.grid.grid.copy()\n",
    "                pos_r = (Pretest.game.pos_reward)\n",
    "                manhantondist = np.abs(pos_r[0] - start_new[0]) + np.abs(pos_r[1] - start_new[1]) \n",
    "                score_0.append(manhantondist/(len(Pos1)-len(force_actions)-1))\n",
    "                score += len(Pos1)-1\n",
    "            score = score/50.                                                             \n",
    "            Scores[start[0], start[1]] = score                                                          \n",
    "    print (np.mean(score_0))\n",
    "    return score_0, Scores "
   ]
  },
  {
   "cell_type": "code",
   "execution_count": 41,
   "metadata": {},
   "outputs": [
    {
     "name": "stdout",
     "output_type": "stream",
     "text": [
      "0.5658934551266361\n"
     ]
    }
   ],
   "source": [
    "weight = 'weights_fix/weights1/rnn_1515tanh512_checkpoint39_0_5'\n",
    "Score_0, Scores0_matrix_0 = zero_click(weight)"
   ]
  },
  {
   "cell_type": "code",
   "execution_count": 42,
   "metadata": {},
   "outputs": [
    {
     "name": "stdout",
     "output_type": "stream",
     "text": [
      "0.49698470777454995\n",
      "0.563937558348051\n",
      "0.6000501286185178\n",
      "0.4155520214262029\n"
     ]
    }
   ],
   "source": [
    "weight = 'weights_fix/weights1/rnn_1515tanh512_checkpoint39_0_5'\n",
    "Score_1＿0 = []\n",
    "Scores1_matrix_0 = np.zeros((4, 19, 19))\n",
    "for i in range(4):\n",
    "    score_1, Scores = clicks_count_1(weight, type_ = i)\n",
    "    Scores1_matrix_0[i] = Scores\n",
    "    Score_1_0.append(score_1)"
   ]
  },
  {
   "cell_type": "code",
   "execution_count": 43,
   "metadata": {},
   "outputs": [
    {
     "name": "stdout",
     "output_type": "stream",
     "text": [
      "0.5845399784209782\n",
      "0.5588251295397131\n",
      "0.5737329303970724\n",
      "0.5719715920646313\n",
      "0.5960672257205785\n",
      "0.4620313415719492\n",
      "0.5867723094596238\n",
      "0.4637469601888946\n"
     ]
    }
   ],
   "source": [
    "weight = 'weights_fix/weights1/rnn_1515tanh512_checkpoint39_0_5'\n",
    "Score_2_0 = []\n",
    "Scores2_matrix_0 = np.zeros((8, 19, 19))\n",
    "for i in range(8):\n",
    "    score_2, Scores = clicks_count(weight, type_ = i)\n",
    "    Scores2_matrix_0[i] = Scores\n",
    "    Score_2_0.append(score_2)"
   ]
  },
  {
   "cell_type": "code",
   "execution_count": 20,
   "metadata": {},
   "outputs": [
    {
     "data": {
      "text/plain": [
       "(17.77546666666667, 19.715087719298243, 18.851391812865497)"
      ]
     },
     "execution_count": 20,
     "metadata": {},
     "output_type": "execute_result"
    },
    {
     "data": {
      "image/png": "[encoded data removed]",
      "text/plain": [
       "<matplotlib.figure.Figure at 0x7f4814346128>"
      ]
     },
     "metadata": {},
     "output_type": "display_data"
    }
   ],
   "source": [
    "plt.hist(Scores0_matrix_0[2:17, 2:17].ravel(), color = 'b')\n",
    "plt.hist(np.mean(Scores1_matrix_0[:, 2:17, 2:17], axis = 0).ravel(), color = 'g')\n",
    "plt.hist(np.mean(Scores2_matrix_0[:, 2:17, 2:17], axis = 0).ravel(), color = 'r', alpha = 0.6)\n",
    "np.mean(Scores0_matrix_0[2:17, 2:17]), np.mean(Scores1_matrix_0[2:17, 2:17]), np.mean(Scores2_matrix_0[2:17, 2:17])"
   ]
  },
  {
   "cell_type": "code",
   "execution_count": 37,
   "metadata": {},
   "outputs": [
    {
     "data": {
      "text/plain": [
       "0.3552457490280061"
      ]
     },
     "execution_count": 37,
     "metadata": {},
     "output_type": "execute_result"
    }
   ],
   "source": [
    "np.std(Scores1_matrix_0[:, 2:17, 2:17])/np.sqrt(225 * 4)"
   ]
  },
  {
   "cell_type": "code",
   "execution_count": 53,
   "metadata": {},
   "outputs": [],
   "source": [
    "Score_0_39 = np.load('Scores0_39.npy')\n",
    "Score_1_39 = np.load('Scores1_39.npy')\n",
    "Score_2_39 = np.load('Scores2_39.npy')"
   ]
  },
  {
   "cell_type": "code",
   "execution_count": 44,
   "metadata": {},
   "outputs": [],
   "source": [
    "np.save('Scores0_matrix_shuffle.npy', Scores0_matrix_0)\n",
    "np.save('Scores1_matrix_shuffle.npy', Scores1_matrix_0)\n",
    "np.save('Scores2_matrix_shuffle.npy', Scores2_matrix_0)"
   ]
  },
  {
   "cell_type": "code",
   "execution_count": 45,
   "metadata": {},
   "outputs": [],
   "source": [
    "np.save('Scores0_shuffle.npy', Score_0)\n",
    "np.save('Scores1_shuffle.npy', Score_1_0)\n",
    "np.save('Scores2_shuffle.npy', Score_2_0)"
   ]
  },
  {
   "cell_type": "code",
   "execution_count": 51,
   "metadata": {},
   "outputs": [
    {
     "data": {
      "text/plain": [
       "11250"
      ]
     },
     "execution_count": 51,
     "metadata": {},
     "output_type": "execute_result"
    }
   ],
   "source": [
    "len(Score_1_0[0])"
   ]
  },
  {
   "cell_type": "code",
   "execution_count": 57,
   "metadata": {},
   "outputs": [
    {
     "data": {
      "text/plain": [
       "([<matplotlib.axis.YTick at 0x7f481483e630>,\n",
       "  <matplotlib.axis.YTick at 0x7f481483e278>,\n",
       "  <matplotlib.axis.YTick at 0x7f481483e128>],\n",
       " <a list of 3 Text yticklabel objects>)"
      ]
     },
     "execution_count": 57,
     "metadata": {},
     "output_type": "execute_result"
    },
    {
     "data": {
      "image/png": "[encoded data removed]",
      "text/plain": [
       "<matplotlib.figure.Figure at 0x7f48149569e8>"
      ]
     },
     "metadata": {},
     "output_type": "display_data"
    }
   ],
   "source": [
    "ax = subplot(1, 1, 1)\n",
    "ax.spines['top'].set_visible(False)\n",
    "ax.spines['right'].set_visible(False)\n",
    "\n",
    "scores_shuffle = [np.mean(Score_0), np.mean(Score_1_0), np.mean(Score_2_0)]\n",
    "scores_39 = [np.mean(Score_0_39), np.mean(Score_1_39), np.mean(Score_2_39)]\n",
    "scores_shuffle_std = [np.std(Score_0), np.std(Score_1_0), np.std(Score_2_0)]\n",
    "scores_39_std = [np.std(Score_0_39), np.std(Score_1_39), np.std(Score_2_39)]\n",
    "plt.plot(np.arange(3), scores_shuffle, 'cs-')\n",
    "plt.plot(np.arange(3), scores_39, 'rs-')\n",
    "p1 = plt.errorbar(np.arange(3), y =scores_shuffle,  yerr = scores_shuffle_std/np.sqrt(225 * 50))\n",
    "p1 = plt.errorbar(np.arange(3), y =scores_39,  yerr = scores_39_std/np.sqrt(225 * 50))\n",
    "plt.xticks([0, 1, 2], size = 15)\n",
    "plt.yticks([0.5, 0.55, 0.6], size = 15)"
   ]
  },
  {
   "cell_type": "code",
   "execution_count": 316,
   "metadata": {},
   "outputs": [
    {
     "data": {
      "text/plain": [
       "([<matplotlib.axis.XTick at 0x7f0dc0debd30>,\n",
       "  <matplotlib.axis.XTick at 0x7f0dc16a5b70>,\n",
       "  <matplotlib.axis.XTick at 0x7f0dc17394e0>],\n",
       " <a list of 3 Text xticklabel objects>)"
      ]
     },
     "execution_count": 316,
     "metadata": {},
     "output_type": "execute_result"
    },
    {
     "data": {
      "image/png": "[encoded data removed]",
      "text/plain": [
       "<matplotlib.figure.Figure at 0x7f0d9b2cb908>"
      ]
     },
     "metadata": {},
     "output_type": "display_data"
    }
   ],
   "source": [
    "scores_echo = [np.mean(Score_echo_2), np.mean(Score_1_echo_2), np.mean(Score_2_echo_2)]\n",
    "scores_39 = [np.mean(Score_39), np.mean(Score_1_39), np.mean(Score_2_39)]\n",
    "scores_49 = [np.mean(Score_49), np.mean(Score_1_49), np.mean(Score_2_49)]\n",
    "plt.plot(np.arange(3), scores_echo, 'bs-')\n",
    "plt.plot(np.arange(3), scores_39, 'rs-')\n",
    "plt.plot(np.arange(3), scores_49, 'gs-')\n",
    "p1 = plt.errorbar(np.arange(3), scores_echo, yerr=np.std(Score_echo)/np.sqrt(225))\n",
    "p2 = plt.errorbar(np.arange(3), scores_39, yerr=np.std(Score_39)/np.sqrt(225))\n",
    "p3 = plt.errorbar(np.arange(3), scores_49, yerr=np.std(Score_49)/np.sqrt(225))\n",
    "plt.xticks([0, 1, 2])"
   ]
  }
 ],
 "metadata": {
  "anaconda-cloud": {},
  "kernelspec": {
   "display_name": "Python 3",
   "language": "python",
   "name": "python3"
  },
  "language_info": {
   "codemirror_mode": {
    "name": "ipython",
    "version": 3
   },
   "file_extension": ".py",
   "mimetype": "text/x-python",
   "name": "python",
   "nbconvert_exporter": "python",
   "pygments_lexer": "ipython3",
   "version": "3.6.3"
  },
  "latex_envs": {
   "LaTeX_envs_menu_present": true,
   "autoclose": false,
   "autocomplete": true,
   "bibliofile": "biblio.bib",
   "cite_by": "apalike",
   "current_citInitial": 1,
   "eqLabelWithNumbers": true,
   "eqNumInitial": 1,
   "hotkeys": {
    "equation": "Ctrl-E",
    "itemize": "Ctrl-I"
   },
   "labels_anchors": false,
   "latex_user_defs": false,
   "report_style_numbering": false,
   "user_envs_cfg": false
  },
  "toc": {
   "nav_menu": {},
   "number_sections": true,
   "sideBar": true,
   "skip_h1_title": false,
   "title_cell": "Table of Contents",
   "title_sidebar": "Contents",
   "toc_cell": true,
   "toc_position": {
    "height": "759px",
    "left": "0px",
    "right": "1228px",
    "top": "67px",
    "width": "212px"
   },
   "toc_section_display": "block",
   "toc_window_display": true
  },
  "varInspector": {
   "cols": {
    "lenName": 16,
    "lenType": 16,
    "lenVar": 40
   },
   "kernels_config": {
    "python": {
     "delete_cmd_postfix": "",
     "delete_cmd_prefix": "del ",
     "library": "var_list.py",
     "varRefreshCmd": "print(var_dic_list())"
    },
    "r": {
     "delete_cmd_postfix": ") ",
     "delete_cmd_prefix": "rm(",
     "library": "var_list.r",
     "varRefreshCmd": "cat(var_dic_list()) "
    }
   },
   "types_to_exclude": [
    "module",
    "function",
    "builtin_function_or_method",
    "instance",
    "_Feature"
   ],
   "window_display": false
  }
 },
 "nbformat": 4,
 "nbformat_minor": 2
}
