{
 "cells": [
  {
   "cell_type": "markdown",
   "metadata": {
    "toc": "true"
   },
   "source": [
    "<h1>Table of Contents<span class=\"tocSkip\"></span></h1>\n",
    "<div class=\"toc\"><ul class=\"toc-item\"><li><span><a href=\"#quick-start\" data-toc-modified-id=\"quick-start-1\"><span class=\"toc-item-num\">1&nbsp;&nbsp;</span>quick start</a></span><ul class=\"toc-item\"><li><span><a href=\"#Resources\" data-toc-modified-id=\"Resources-1.1\"><span class=\"toc-item-num\">1.1&nbsp;&nbsp;</span>Resources</a></span></li></ul></li><li><span><a href=\"#FULL-MODEL\" data-toc-modified-id=\"FULL-MODEL-2\"><span class=\"toc-item-num\">2&nbsp;&nbsp;</span>FULL MODEL</a></span><ul class=\"toc-item\"><li><span><a href=\"#Packages\" data-toc-modified-id=\"Packages-2.1\"><span class=\"toc-item-num\">2.1&nbsp;&nbsp;</span>Packages</a></span><ul class=\"toc-item\"><li><span><a href=\"#Qnetwork\" data-toc-modified-id=\"Qnetwork-2.1.1\"><span class=\"toc-item-num\">2.1.1&nbsp;&nbsp;</span>Qnetwork</a></span></li></ul></li><li><span><a href=\"#POMDP-RNN-Game\" data-toc-modified-id=\"POMDP-RNN-Game-2.2\"><span class=\"toc-item-num\">2.2&nbsp;&nbsp;</span>POMDP RNN Game</a></span></li><li><span><a href=\"#Results\" data-toc-modified-id=\"Results-2.3\"><span class=\"toc-item-num\">2.3&nbsp;&nbsp;</span>Results</a></span><ul class=\"toc-item\"><li><span><a href=\"#Standard-setting：-grid-=--(3,7)，-holes-=-0\" data-toc-modified-id=\"Standard-setting：-grid-=--(3,7)，-holes-=-0-2.3.1\"><span class=\"toc-item-num\">2.3.1&nbsp;&nbsp;</span>Standard setting： grid =  (3,7)， holes = 0</a></span></li><li><span><a href=\"#Model-Tranining\" data-toc-modified-id=\"Model-Tranining-2.3.2\"><span class=\"toc-item-num\">2.3.2&nbsp;&nbsp;</span>Model Tranining</a></span></li><li><span><a href=\"#decoding-vs-performance\" data-toc-modified-id=\"decoding-vs-performance-2.3.3\"><span class=\"toc-item-num\">2.3.3&nbsp;&nbsp;</span>decoding vs performance</a></span></li><li><span><a href=\"#learning-rate-vs-performance\" data-toc-modified-id=\"learning-rate-vs-performance-2.3.4\"><span class=\"toc-item-num\">2.3.4&nbsp;&nbsp;</span>learning rate vs performance</a></span></li><li><span><a href=\"#Summary\" data-toc-modified-id=\"Summary-2.3.5\"><span class=\"toc-item-num\">2.3.5&nbsp;&nbsp;</span>Summary</a></span></li><li><span><a href=\"#Anlytic-part-,-check-the-behaviour-correspond-to-each-decoding-level-and-explain-why\" data-toc-modified-id=\"Anlytic-part-,-check-the-behaviour-correspond-to-each-decoding-level-and-explain-why-2.3.6\"><span class=\"toc-item-num\">2.3.6&nbsp;&nbsp;</span>Anlytic part , check the behaviour correspond to each decoding level and explain why</a></span></li></ul></li><li><span><a href=\"#PCA\" data-toc-modified-id=\"PCA-2.4\"><span class=\"toc-item-num\">2.4&nbsp;&nbsp;</span>PCA</a></span></li></ul></li></ul></div>"
   ]
  },
  {
   "cell_type": "markdown",
   "metadata": {},
   "source": [
    "# quick start "
   ]
  },
  {
   "cell_type": "markdown",
   "metadata": {},
   "source": [
    "**Check relation betweeen dynamics and generalization.   Hypothesis to make: generalization can only be understood in level of joint dynamical system, there is a clear link between the two**\n",
    "\n",
    "**Dynamnics determines generalization , not decoding , same decoding level can have very different dynamics , thus different generalization level.  Only when the dynamics of RNN forms object correspond to real relevant objects for game, the generalization can be good.   For instance , in a varying size game, you extend the size of game from 10 to 30, what will happen?  You can do a kind of dynamical programing , according to which wall you have seen and how many steps you have passed , you decide future action.    This can be achieved robustly by the dynamical system where fix points are correspond to walls**"
   ]
  },
  {
   "cell_type": "markdown",
   "metadata": {},
   "source": [
    "## Resources\n",
    "\n",
    "* [*The* Reinforcement learning book from Sutton & Barto](http://incompleteideas.net/sutton/book/the-book-2nd.html)\n",
    "* [The REINFORCE paper from Ronald J. Williams (1992)](http://www-anw.cs.umass.edu/~barto/courses/cs687/williams92simple.pdf)\n"
   ]
  },
  {
   "cell_type": "markdown",
   "metadata": {},
   "source": [
    "# FULL MODEL"
   ]
  },
  {
   "cell_type": "markdown",
   "metadata": {},
   "source": [
    "## Packages"
   ]
  },
  {
   "cell_type": "code",
   "execution_count": 1,
   "metadata": {},
   "outputs": [
    {
     "name": "stdout",
     "output_type": "stream",
     "text": [
      "Populating the interactive namespace from numpy and matplotlib\n"
     ]
    },
    {
     "name": "stderr",
     "output_type": "stream",
     "text": [
      "/home/tie/anaconda3/lib/python3.6/site-packages/IPython/core/magics/pylab.py:160: UserWarning: pylab import has clobbered these variables: ['random']\n",
      "`%matplotlib` prevents importing * from pylab and numpy\n",
      "  \"\\n`%matplotlib` prevents importing * from pylab and numpy\"\n"
     ]
    }
   ],
   "source": [
    "%load_ext autoreload\n",
    "%autoreload 2\n",
    "\n",
    "import numpy as np\n",
    "from itertools import count\n",
    "import random\n",
    "\n",
    "import torch\n",
    "import torch.nn as nn\n",
    "import torch.nn.functional as F\n",
    "import torch.optim as optim\n",
    "import torch.autograd as autograd\n",
    "from torch.autograd import Variable\n",
    "from torch.nn import init\n",
    "from torch.nn import DataParallel\n",
    "from torch.utils.data import DataLoader\n",
    "\n",
    "import matplotlib.mlab as mlab\n",
    "import matplotlib.pyplot as plt\n",
    "import matplotlib.animation\n",
    "import seaborn as sns\n",
    "from IPython.display import HTML\n",
    "\n",
    "import pretrain\n",
    "from pretrain import *\n",
    "\n",
    "import navigation2\n",
    "from navigation2 import *\n",
    "\n",
    "import Nets \n",
    "from Nets import *\n",
    "\n",
    "import GLM\n",
    "from GLM import *\n",
    "\n",
    "import sklearn\n",
    "from sklearn.svm import SVC\n",
    "from sklearn.model_selection import cross_validate\n",
    "\n",
    "import scipy\n",
    "from scipy.spatial import distance\n",
    "from scipy import signal\n",
    "\n",
    "%pylab inline\n",
    "import warnings\n",
    "warnings.filterwarnings('ignore')"
   ]
  },
  {
   "cell_type": "markdown",
   "metadata": {},
   "source": [
    "For the liquid state approach to work, you need a lot of neurons as surplus or enough hidden to hidden connectivity to make it have an effect."
   ]
  },
  {
   "cell_type": "markdown",
   "metadata": {},
   "source": [
    "##  POMDP RNN Game\n",
    "\n",
    "In this game , we use a new reward function determined by game, if the agent achieves the goal before 50, reward is 1. If time pass 50 reward is 0.5, once time pass 100 agent gets a reward of -0.5 .  Practically, this is found to be easier to learn than the rewards as a continous function of time.  Tf the agent learns to search in a efficient way, the largest possible way for search is to firstly arrive at corner then goes to the goal, which, takes about 50 steps, it is reasonble to make 50 and 100 as milestone thing.  Also in principe as the game doesn't have a timer , it is not if it can use a reward as funtion of time"
   ]
  },
  {
   "cell_type": "markdown",
   "metadata": {},
   "source": [
    "3 condition for ending , when pass time limit, game over"
   ]
  },
  {
   "cell_type": "markdown",
   "metadata": {},
   "source": [
    "For weight update, it seems to be better do it after episode, as it makes non-sense evaluate strategy during episode, but a the end. Also, it is much quicker. "
   ]
  },
  {
   "cell_type": "markdown",
   "metadata": {},
   "source": [
    "A programming of MDP here, hidden state is as state of enviroment"
   ]
  },
  {
   "cell_type": "markdown",
   "metadata": {},
   "source": [
    "Training from zero seems to be better because it will allow the agent to explore from new"
   ]
  },
  {
   "cell_type": "markdown",
   "metadata": {},
   "source": [
    "**A coherent result here is threhold kind behaviour of decode vs performance, after decode smaller than 10, the performance rises.  The resutls is showeing that the learning rate vs performance doesn't characterize the threshold kind behaviour of performance change.  It is only after lr = -5, the performance begins to rise , while the learning rate - performance curve creates a fake trends for first few points.  This is not shown by explaination factor calculated by covariance.  **"
   ]
  },
  {
   "cell_type": "markdown",
   "metadata": {},
   "source": [
    "If look carefully, the slow timescale here is a very long transient,  it will not return to baseline in a very long run of game, that is different from gru, which maintains a baseline.  If the system is a true integrator,  it should not loose the baseline, because there is no concept of return in this case. \n",
    "\n",
    "The very slow timescale could make the system harder to reset, except I use a strong input.  So reset upon input and remember is always contradictory.  If I design a task also need to pay attention to fast timescale , this will fail more throughly "
   ]
  },
  {
   "cell_type": "markdown",
   "metadata": {},
   "source": [
    "# Real Game Dynamics analysis  \n",
    "The real game dynamcis shows huge difference performance in speed, stability of results, and also statistics of strategy "
   ]
  },
  {
   "cell_type": "markdown",
   "metadata": {},
   "source": [
    "**What is the relation to head direction, this order kept in limit cycle**\n",
    "**Could we define the order parameter for behaviour and link it to dynamics?**"
   ]
  },
  {
   "cell_type": "code",
   "execution_count": 2,
   "metadata": {
    "scrolled": false
   },
   "outputs": [],
   "source": [
    "weight ='weights_fix/weights1/rnn_1515tanh512_checkpoint0_0_9'\n",
    "pregame = PretrainGame(grid_size = (15, 15), holes = 0, random_seed = 4 , set_reward = [(0.5, 0.25), (0.5, 0.75)], input_type = 1)\n",
    "pregame.net.load_state_dict(torch.load(weight))"
   ]
  },
  {
   "cell_type": "markdown",
   "metadata": {},
   "source": [
    "## Game Performance analysis"
   ]
  },
  {
   "cell_type": "markdown",
   "metadata": {},
   "source": [
    "## Evolution\n",
    "**The behaviour is best analyzed by pwd and methods in different sizes of arena, in order to see the strategy is mediated by which loop, the big enviromental feedback(low freq related to size) or small action feedbakd(high freq)**\n",
    "\n",
    "we take what shows good performance and send it for analysis \n"
   ]
  },
  {
   "cell_type": "code",
   "execution_count": 46,
   "metadata": {},
   "outputs": [],
   "source": [
    "np.save('Performance_39', Performance_39)"
   ]
  },
  {
   "cell_type": "code",
   "execution_count": 3,
   "metadata": {},
   "outputs": [
    {
     "name": "stdout",
     "output_type": "stream",
     "text": [
      "[-0.4876305622802448]\n",
      "[-0.44488241134620443]\n",
      "[-0.3010627834162955]\n",
      "[-0.2529679294032691]\n",
      "[-0.4236720968489116]\n",
      "[-0.358900243669013]\n",
      "[-0.2772264885607813]\n",
      "[-0.37758255081754255]\n",
      "[-0.3196738296680284]\n",
      "[-0.22365672270446846]\n",
      "[-0.29513023266427624]\n",
      "[-0.160924793972676]\n",
      "[-0.2549320949529609]\n",
      "[-0.12670541740410446]\n",
      "[-0.19302246922210703]\n",
      "[-0.13188782569377197]\n",
      "[-0.18529157134741597]\n",
      "[-0.16923407815569128]\n",
      "[-0.0431706578040877]\n",
      "[-0.1510485731179439]\n",
      "[-0.10895359648701176]\n",
      "[-0.05257626042088745]\n",
      "[0.032717063038626364]\n",
      "[0.017416955248508004]\n",
      "[0.03880292073919073]\n",
      "[0.0943076270740923]\n",
      "[0.03050165727623419]\n",
      "[-0.021104440992422452]\n",
      "[0.09951269114154233]\n",
      "[0.03478042364380092]\n",
      "[0.049657894419424586]\n",
      "[0.11374301984879077]\n",
      "[0.07836559946600101]\n",
      "[0.05281121541930371]\n",
      "[0.16236472238072547]\n",
      "[0.218957888189616]\n",
      "[0.2577368578506249]\n",
      "[0.18561991080618928]\n",
      "[0.29687598683059363]\n",
      "[0.27640714987981607]\n",
      "[-0.5180817118130261]\n",
      "[-0.48176991758889126]\n",
      "[-0.4057221641587365]\n",
      "[-0.5220136174256964]\n",
      "[-0.43361119153290795]\n",
      "[-0.5220481837804941]\n",
      "[-0.514604107385848]\n",
      "[-0.4469492098075275]\n",
      "[-0.3917719643083845]\n",
      "[-0.34486011284633217]\n",
      "[-0.29517366662001454]\n",
      "[-0.31608948586744634]\n",
      "[-0.4332392268612635]\n",
      "[-0.32342064601295734]\n",
      "[-0.39850102116137875]\n",
      "[-0.3858579588503072]\n",
      "[-0.34472126374299983]\n",
      "[-0.4085364187162779]\n",
      "[-0.36829964552799316]\n",
      "[-0.2480975373185455]\n",
      "[-0.33992497423966894]\n",
      "[-0.2969919900372468]\n",
      "[-0.16334187184804094]\n",
      "[-0.08174696168503841]\n",
      "[-0.0831125197231845]\n",
      "[-0.13541233456001034]\n",
      "[-0.06460954122342419]\n",
      "[0.02202629585481053]\n",
      "[0.1140303083529488]\n",
      "[0.07428866508746965]\n",
      "[0.1909960493479398]\n",
      "[0.2785961475698065]\n",
      "[0.3176690429828479]\n",
      "[0.36156036961341315]\n",
      "[0.38327495618684765]\n",
      "[0.2831960878087149]\n",
      "[0.2983253356858496]\n",
      "[0.2521502350627706]\n",
      "[0.25661195169766676]\n",
      "[0.1763258892823984]\n",
      "[-0.47317098031853333]\n",
      "[-0.374363133379544]\n",
      "[-0.41776059217858175]\n",
      "[-0.28894427829955316]\n",
      "[-0.38260335589178285]\n",
      "[-0.22502625156996695]\n",
      "[-0.3323294904697389]\n",
      "[-0.3400245450230917]\n",
      "[-0.33164485665067994]\n",
      "[-0.3284961750296679]\n",
      "[-0.35765930658419626]\n",
      "[-0.30293519305879024]\n",
      "[-0.19570580473999488]\n",
      "[-0.04344642782254021]\n",
      "[-0.138077284286831]\n",
      "[-0.15995666938237937]\n",
      "[-0.02720278730083879]\n",
      "[-0.12247183595003139]\n",
      "[-0.0842493654802858]\n",
      "[0.03712874549983848]\n",
      "[-0.044318657562345244]\n",
      "[0.02620916654391072]\n",
      "[-0.05177633594180896]\n",
      "[0.02368842701315639]\n",
      "[0.019531014558619296]\n",
      "[0.13670023825408023]\n",
      "[0.28743529623630926]\n",
      "[0.1492746153533842]\n",
      "[0.13832679557903316]\n",
      "[0.2078104341257791]\n",
      "[0.05148278507915785]\n",
      "[0.24920179719350316]\n",
      "[0.27377061457062707]\n",
      "[0.11004903877733059]\n",
      "[0.23168248901223149]\n",
      "[0.14935631578199665]\n",
      "[0.1752572758101158]\n",
      "[0.25952285605444436]\n",
      "[0.25786688831765325]\n",
      "[0.13594262352290998]\n"
     ]
    }
   ],
   "source": [
    "Performance_0 = []\n",
    "for i in range(3):\n",
    "    for iters in np.arange(40):\n",
    "        weight ='weights_fix/rnn_1515tanh512_checkpoint0_{}_{}'.format(i, iters)\n",
    "        pregame = PretrainTest(weight_write = weight, holes = 0, inputs_type = (1, 0))\n",
    "        pregame.game.net.load_state_dict(torch.load(weight))\n",
    "    #     pregame.game.grid.grid[ry : ry + 1, rx + 4 : rx + 6] = 0\n",
    "        grid =  pregame.game.grid.grid.copy()\n",
    "        pregame.TestAllSizes(size_range = [15], limit_set = 4, test_size = 0, grid = grid)\n",
    "        print (pregame.Performance)\n",
    "        Performance_0.append(pregame.Performance)"
   ]
  },
  {
   "cell_type": "code",
   "execution_count": 4,
   "metadata": {},
   "outputs": [],
   "source": [
    "np.save('Performance_0', Performance_0)"
   ]
  },
  {
   "cell_type": "code",
   "execution_count": 5,
   "metadata": {},
   "outputs": [
    {
     "name": "stdout",
     "output_type": "stream",
     "text": [
      "[-0.37690527181624933]\n",
      "[-0.3853585514961403]\n",
      "[-0.24738630449211643]\n",
      "[-0.14410563397700837]\n",
      "[-0.049987564422301026]\n",
      "[0.02807614910384298]\n",
      "[-0.2031310164405531]\n",
      "[-0.3770223252231524]\n",
      "[0.04126726873319617]\n",
      "[0.04785939763860176]\n",
      "[-0.10490215484623992]\n",
      "[-0.08658002783911087]\n",
      "[0.16541108474407507]\n",
      "[0.19886020753808595]\n",
      "[-0.013206171989595176]\n",
      "[-0.01597083911134793]\n",
      "[0.13480724168540587]\n",
      "[0.10753568512478989]\n",
      "[0.22141361150545913]\n",
      "[0.0959299392009959]\n",
      "[0.3119179198038178]\n",
      "[0.3046653192953737]\n",
      "[0.20089113916053367]\n",
      "[0.026833632194722457]\n",
      "[0.1728257773974929]\n",
      "[0.11928141163308298]\n",
      "[0.3403537367986487]\n",
      "[0.31688559682826106]\n",
      "[0.2196924866260068]\n",
      "[0.42422932412180947]\n",
      "[0.35983895998270765]\n",
      "[0.3146582903019875]\n",
      "[0.23210461816772393]\n",
      "[0.281308620034325]\n",
      "[0.3130027442094282]\n",
      "[0.23423784405814924]\n",
      "[0.31510580002767896]\n",
      "[0.29539675263762794]\n",
      "[0.5352645708927153]\n",
      "[0.16703622846554206]\n",
      "[-0.5354277125957054]\n",
      "[-0.597081439028579]\n",
      "[-0.5107434302493987]\n",
      "[-0.2157645101413075]\n",
      "[-0.056036004151759966]\n",
      "[-0.23838385527489198]\n",
      "[-0.14502519022169041]\n",
      "[-0.11797642336470171]\n",
      "[-0.299076233572462]\n",
      "[-0.1569873926428739]\n",
      "[-0.20688496988955166]\n",
      "[-0.16614522666484924]\n",
      "[0.018665047181476685]\n",
      "[-0.03740902157465702]\n",
      "[-0.06525101464439702]\n",
      "[-0.03662896753759527]\n",
      "[-0.17856769722178933]\n",
      "[-0.15115342407233573]\n",
      "[0.07875339246771221]\n",
      "[0.132322920525745]\n",
      "[0.25859963271136477]\n",
      "[0.09629798670374749]\n",
      "[0.20501149958208784]\n",
      "[0.20543203937242058]\n",
      "[0.21037798698228766]\n",
      "[0.23218564274784514]\n",
      "[0.29608515968712323]\n",
      "[0.25323474610693103]\n",
      "[0.27219456133433273]\n",
      "[0.20986542325681826]\n",
      "[0.26731841566444087]\n",
      "[0.2591257250705351]\n",
      "[0.14260665877272877]\n",
      "[0.09248116540774434]\n",
      "[0.23439528419484024]\n",
      "[0.23977304582123637]\n",
      "[0.039543139318854656]\n",
      "[0.08392406090802473]\n",
      "[-0.04003327333565304]\n",
      "[0.048156323364194495]\n",
      "[-0.6298931516149833]\n",
      "[-0.254343155690964]\n",
      "[-0.37000519846061597]\n",
      "[-0.179513108179159]\n",
      "[-0.197048752495633]\n",
      "[-0.21548875876493287]\n",
      "[-0.1545813695970072]\n",
      "[-0.07527902611938277]\n",
      "[-0.10132247669656495]\n",
      "[-0.14501917446313878]\n",
      "[-0.11097373009896201]\n",
      "[-0.112414303596262]\n",
      "[0.12700617260679944]\n",
      "[0.1513336026239008]\n",
      "[0.18981401335493048]\n",
      "[0.03714390950869724]\n",
      "[0.20614260607794094]\n",
      "[0.14836826897535704]\n",
      "[0.3372199852759129]\n",
      "[0.27685305835183327]\n",
      "[0.0837025056901305]\n",
      "[0.014288459775220308]\n",
      "[0.2584744906856059]\n",
      "[0.18967127633763717]\n",
      "[0.17967151134015946]\n",
      "[0.06703155077160244]\n",
      "[0.056118918617375356]\n",
      "[0.18691331720929066]\n",
      "[0.0003586250820667783]\n",
      "[-0.01572344317217919]\n",
      "[-0.12613710241912168]\n",
      "[0.10925812341540314]\n",
      "[0.1300246174146395]\n",
      "[0.12172290352181347]\n",
      "[0.18023887260503535]\n",
      "[0.18276355265868263]\n",
      "[0.22623712188695583]\n",
      "[0.02486206442094843]\n",
      "[-0.06758483877535967]\n",
      "[0.012049980034641906]\n"
     ]
    }
   ],
   "source": [
    "Performance_49 = []\n",
    "for i in range(3):\n",
    "    for iters in np.arange(40):\n",
    "        weight ='weights_fix2/rnn_1515tanh512_checkpoint49_{}_{}'.format(i, iters)\n",
    "        pregame = PretrainTest(weight_write = weight, holes = 0, inputs_type = (1, 0))\n",
    "        pregame.game.net.load_state_dict(torch.load(weight))\n",
    "    #     pregame.game.grid.grid[ry : ry + 1, rx + 4 : rx + 6] = 0\n",
    "        grid =  pregame.game.grid.grid.copy()\n",
    "        pregame.TestAllSizes(size_range = [15], limit_set = 4, test_size = 0, grid = grid)\n",
    "        print (pregame.Performance)\n",
    "        Performance_49.append(pregame.Performance)\n",
    "np.save('Performance_49', Performance_49)"
   ]
  },
  {
   "cell_type": "code",
   "execution_count": 21,
   "metadata": {},
   "outputs": [
    {
     "data": {
      "text/plain": [
       "(array([-5.,  0.,  5., 10., 15., 20., 25., 30., 35., 40., 45.]),\n",
       " <a list of 11 Text xticklabel objects>)"
      ]
     },
     "execution_count": 21,
     "metadata": {},
     "output_type": "execute_result"
    },
    {
     "data": {
      "image/png": "[encoded data removed]",
      "text/plain": [
       "<matplotlib.figure.Figure at 0x7f9da39a2438>"
      ]
     },
     "metadata": {},
     "output_type": "display_data"
    }
   ],
   "source": [
    "ax = subplot(1, 1, 1)\n",
    "ax.spines['top'].set_visible(False)\n",
    "ax.spines['right'].set_visible(False)\n",
    "ax.yaxis.set_ticks_position('left')\n",
    "ax.xaxis.set_ticks_position('bottom')\n",
    "\n",
    "Performance_0 = np.load('Performance_0.npy').reshape(3,-1)\n",
    "plt.errorbar(x = np.arange(40), y = np.mean(Performance_0, axis = 0), yerr = np.std(Performance_0, axis = 0), color = 'b')\n",
    "Performance_49 = np.load('Performance_49.npy').reshape(3,-1)\n",
    "plt.errorbar(x = np.arange(40), y = np.mean(Performance_49, axis = 0), yerr = np.std(Performance_49, axis = 0), color = 'g')\n",
    "Performance_300 = np.load('Performance_300.npy').reshape(3,-1)\n",
    "plt.errorbar(x = np.arange(40), y = np.mean(Performance_300, axis = 0), yerr = np.std(Performance_300, axis = 0), color = 'r')\n",
    "\n",
    "plt.yticks([-0.5, 0, 0.5, 1], size = 15)\n",
    "plt.xticks(size = 15)"
   ]
  },
  {
   "cell_type": "code",
   "execution_count": 3,
   "metadata": {},
   "outputs": [
    {
     "data": {
      "text/plain": [
       "(array([-5.,  0.,  5., 10., 15., 20., 25., 30., 35., 40., 45.]),\n",
       " <a list of 11 Text xticklabel objects>)"
      ]
     },
     "execution_count": 3,
     "metadata": {},
     "output_type": "execute_result"
    },
    {
     "data": {
      "image/png": "[encoded data removed]",
      "text/plain": [
       "<matplotlib.figure.Figure at 0x7f5b5a528c18>"
      ]
     },
     "metadata": {},
     "output_type": "display_data"
    }
   ],
   "source": [
    "ax = subplot(1, 1, 1)\n",
    "ax.spines['top'].set_visible(False)\n",
    "ax.spines['right'].set_visible(False)\n",
    "ax.yaxis.set_ticks_position('left')\n",
    "ax.xaxis.set_ticks_position('bottom')\n",
    "\n",
    "Performance_300 = np.load('Performance_300.npy').reshape(3,-1)\n",
    "plt.errorbar(x = np.arange(40), y = np.mean(Performance_300, axis = 0), yerr = np.std(Performance_300, axis = 0), color = 'r')\n",
    "\n",
    "Performance_300_s = np.load ('Performance_300_shuffle.npy').reshape(3,-1)\n",
    "plt.errorbar(x = np.arange(40), y = np.mean(Performance_300_s, axis = 0), yerr = np.std(Performance_300_s, axis = 0), color = 'r', linestyle = '--')\n",
    "\n",
    "Performance_0 = np.load('Performance_0.npy').reshape(3,-1)\n",
    "plt.errorbar(x = np.arange(40), y = np.mean(Performance_0, axis = 0), yerr = np.std(Performance_0, axis = 0), color = 'b')\n",
    "\n",
    "plt.yticks([-0.5, 0, 0.5, 1], size = 15)\n",
    "plt.xticks(size = 15)"
   ]
  },
  {
   "cell_type": "code",
   "execution_count": 5,
   "metadata": {},
   "outputs": [
    {
     "data": {
      "text/plain": [
       "<Container object of 3 artists>"
      ]
     },
     "execution_count": 5,
     "metadata": {},
     "output_type": "execute_result"
    },
    {
     "data": {
      "image/png": "[encoded data removed]",
      "text/plain": [
       "<matplotlib.figure.Figure at 0x7f2e5e7b1da0>"
      ]
     },
     "metadata": {},
     "output_type": "display_data"
    }
   ],
   "source": [
    "Performance_300 = np.load('Performance_300.npy').reshape(3,-1)\n",
    "plt.errorbar(x = np.arange(40), y = np.mean(Performance_300, axis = 0), yerr = np.std(Performance_300, axis = 0), color = 'r')\n",
    "\n",
    "\n",
    "Performance_49 = np.load('Performance_49.npy').reshape(3,-1)\n",
    "plt.errorbar(x = np.arange(40), y = np.mean(Performance_49, axis = 0), yerr = np.std(Performance_49, axis = 0), color = 'g')\n",
    "Performance_49 = np.load('Performance_49_shuffle.npy').reshape(3,-1)\n",
    "plt.errorbar(x = np.arange(40), y = np.mean(Performance_49, axis = 0), yerr = np.std(Performance_49, axis = 0), color = 'y')\n",
    "Performance_0 = np.load('Performance_0.npy').reshape(3,-1)\n",
    "plt.errorbar(x = np.arange(40), y = np.mean(Performance_0, axis = 0), yerr = np.std(Performance_0, axis = 0), color = 'b')"
   ]
  },
  {
   "cell_type": "markdown",
   "metadata": {},
   "source": [
    "## Animation example \n",
    "Animation , normal vs shortcut"
   ]
  },
  {
   "cell_type": "code",
   "execution_count": 16,
   "metadata": {},
   "outputs": [
    {
     "data": {
      "image/png": "[encoded data removed]",
      "text/plain": [
       "<matplotlib.figure.Figure at 0x7ff56d087550>"
      ]
     },
     "metadata": {},
     "output_type": "display_data"
    }
   ],
   "source": [
    "size = 15\n",
    "PC_traces = []\n",
    "# torch.manual_seed(1)\n",
    "hidden = torch.randn(1, 512)\n",
    "for i in range(1):\n",
    "    start = (np.random.randint(2, size +2),  np.random.randint(2, size+2))\n",
    "    start = (2, 9)\n",
    "\n",
    "    weight = 'weights_fix4/rnn_1515tanh512_checkpoint39_1_32'\n",
    "    game = ValueMaxGame(grid_size = (size, size), holes = 50, random_seed = 4 , set_reward = [(0.5, 0.25), (0.5, 0.75)], input_type = 0, action_control = 1, discount = 0.9, alpha = 1, time_limit=8,\n",
    "                       lam = 0)\n",
    "    game.net.load_state_dict(torch.load(weight))\n",
    "  \n",
    "    start_w, stop_w = 6, 6\n",
    "#     Pos1, hidden1, dH1, Action, reward1 = trajectory(game, start, reward_control = 0, size = size, test = 0, hidden = hidden, wind = (start_w, stop_w))\n",
    "    Pos2, hidden2, dH2, Action, reward2 = trajectory(game, start, reward_control = 1, size = size, test = 0, hidden = hidden, wind = (start_w, stop_w))\n",
    "    grid = game.grid.grid.copy()\n",
    "    if i == 0:\n",
    "        plt.matshow(grid)\n",
    "        y1 = np.array([p[0] for p in Pos1])\n",
    "        x1 = np.array([p[1] for p in Pos1])\n",
    "        y2 = np.array([p[0] for p in Pos2])\n",
    "        x2 = np.array([p[1] for p in Pos2])\n",
    "\n",
    "        plt.plot(start[1], start[0], 'rs')\n",
    "#         plt.quiver(x1[:-1], y1[:-1], x1[1:]-x1[:-1], y1[1:]-y1[:-1], scale_units='xy', angles='xy', scale=1, color = 'b')\n",
    "        x_w, y_w = x1[start_w:stop_w], y1[start_w:stop_w]\n",
    "        plt.quiver(x_w[:-1], y_w[:-1], x_w[1:]-x_w[:-1], y_w[1:]-y_w[:-1], scale_units='xy', angles='xy', scale=1, color = 'r')\n",
    "        plt.quiver(x2[:-1], y2[:-1], x2[1:]-x2[:-1], y2[1:]-y2[:-1], scale_units='xy', angles='xy', scale=1, color = 'm')\n",
    ")\n"
   ]
  },
  {
   "cell_type": "code",
   "execution_count": 113,
   "metadata": {},
   "outputs": [
    {
     "data": {
      "image/png": "[encoded data removed]",
      "text/plain": [
       "<matplotlib.figure.Figure at 0x7f114d93b080>"
      ]
     },
     "metadata": {},
     "output_type": "display_data"
    }
   ],
   "source": [
    "size = 15\n",
    "PC_traces = []\n",
    "# torch.manual_seed(2)\n",
    "hidden = torch.randn(1, 512)\n",
    "for i in range(1):\n",
    "    start = (np.random.randint(2, size +2),  np.random.randint(2, size+2))\n",
    "    start = (4, 8)\n",
    "    weight = 'weights_fix4/rnn_1515tanh512_checkpoint39_1_32'\n",
    "    \n",
    "    game = ValueMaxGame(grid_size = (size, size), holes = 0, random_seed = 4 , set_reward = [(0.5, 0.25), (0.5, 0.75)], input_type = 0, action_control = 1, discount = 0.9, alpha = 1, time_limit=8,\n",
    "                       lam = 0)\n",
    "    game.net.load_state_dict(torch.load(weight))\n",
    "    ry, rx = 5, 5\n",
    "    game.grid.grid[ry - 1 : ry + 3, rx + 3 : rx + 6] = 0\n",
    "    grid = game.grid.grid.copy()\n",
    "   \n",
    "    start_w, stop_w = 6, 6\n",
    "    Pos1, hidden1, dH1, Action, State, reward1 = trajectory(game, start, reward_control = 0, size = size, test = 0, hidden = hidden, wind = (start_w, stop_w), map_set=grid)\n",
    "    Pos2, hidden2, dH2, Action, State, reward2 = trajectory(game, start, reward_control = 1, size = size, test = 0, hidden = hidden, wind = (start_w, stop_w), map_set=grid)\n",
    "    grid = game.grid.grid.copy()\n",
    "    plt.matshow(grid)\n",
    "    if i == 0:\n",
    "#         plt.matshow(grid)\n",
    "        y1 = np.array([p[0] for p in Pos1])\n",
    "        x1 = np.array([p[1] for p in Pos1])\n",
    "        y2 = np.array([p[0] for p in Pos2])\n",
    "        x2 = np.array([p[1] for p in Pos2])\n",
    "        plt.plot(start[1], start[0], 'rs')\n",
    "#         plt.quiver(x1[:-1], y1[:-1], x1[1:]-x1[:-1], y1[1:]-y1[:-1], scale_units='xy', angles='xy', scale=1, color = 'b')\n",
    "        x_w, y_w = x1[start_w:stop_w], y1[start_w:stop_w]\n",
    "        plt.quiver(x_w[:-1], y_w[:-1], x_w[1:]-x_w[:-1], y_w[1:]-y_w[:-1], scale_units='xy', angles='xy', scale=1, color = 'r')\n",
    "#         plt.figure()\n",
    "#         plt.matshow(grid)\n",
    "        plt.quiver(x2[:-1], y2[:-1], x2[1:]-x2[:-1], y2[1:]-y2[:-1], scale_units='xy', angles='xy', scale=1, color = 'm')"
   ]
  },
  {
   "cell_type": "code",
   "execution_count": 9,
   "metadata": {},
   "outputs": [
    {
     "name": "stdout",
     "output_type": "stream",
     "text": [
      "[0.7378328662087967]\n",
      "[0.7983255495490487]\n",
      "[0.766229242007837]\n",
      "[0.7100434097240458]\n",
      "[0.5612289497901258]\n",
      "[0.5423118727858698]\n",
      "[0.4903113928986702]\n",
      "[0.4179554766988741]\n",
      "[0.3889941291255138]\n",
      "[0.3534959769471993]\n",
      "[0.45412811702907896]\n",
      "[0.4098369203436567]\n",
      "[0.4375327336618552]\n",
      "[0.4386695534777501]\n",
      "[0.5091846680987208]\n"
     ]
    }
   ],
   "source": [
    "Performance_block = []\n",
    "for x in np.arange(2, 17):\n",
    "    performance= []\n",
    "    for y in np.arange(4, 5):\n",
    "        weight = 'weights_fix4/rnn_1515tanh512_checkpoint39_1_45'\n",
    "        pregame = PretrainTest(weight_write = weight, holes = 0, inputs_type = (1, 0))\n",
    "        pregame.game.net.load_state_dict(torch.load(weight))\n",
    "        y = 4\n",
    "#         pregame.game.grid.grid[ry-1 : ry + 3, rx + 4 : rx + 6] = 0\n",
    "        grid =  pregame.game.grid.grid.copy()\n",
    "        pregame.TestAllSizes(size_range = [15], limit_set = 8, test_size = 0, grid = grid, start = (y, x))\n",
    "#         print (y, x, pregame.Performance)\n",
    "        performance.append(pregame.Performance)\n",
    "        print (pregame.Performance)\n",
    "    Performance_block.append(performance)\n",
    "np.save('Performance_block', Performance_block)"
   ]
  },
  {
   "cell_type": "code",
   "execution_count": 14,
   "metadata": {},
   "outputs": [
    {
     "name": "stdout",
     "output_type": "stream",
     "text": [
      "[0.8424041205420589]\n",
      "[0.8315065678273073]\n",
      "[0.7919509768118265]\n",
      "[0.7814737075824414]\n",
      "[0.7158171419290944]\n",
      "[0.6894600119498442]\n",
      "[0.7635690583931132]\n",
      "[0.7533878844035052]\n",
      "[0.7278608484014615]\n",
      "[0.6780295886806711]\n",
      "[0.5929878666663566]\n",
      "[0.5998079369446518]\n",
      "[0.5899261189550812]\n",
      "[0.5952919811437872]\n",
      "[0.623430210403749]\n"
     ]
    }
   ],
   "source": [
    "ry = 5\n",
    "rx = 5\n",
    "Performance_block = []\n",
    "for x in np.arange(2, 17):\n",
    "    performance= []\n",
    "    for y in np.arange(4, 5):\n",
    "        weight = 'weights_fix4/rnn_1515tanh512_checkpoint39_1_45'\n",
    "        pregame = PretrainTest(weight_write = weight, holes = 0, inputs_type = (1, 0))\n",
    "        pregame.game.net.load_state_dict(torch.load(weight))\n",
    "        y = 4\n",
    "        pregame.game.grid.grid[ry-1 : ry + 3, rx + 3 : rx + 6] = 0\n",
    "        grid =  pregame.game.grid.grid.copy()\n",
    "        pregame.TestAllSizes(size_range = [15], limit_set = 8, test_size = 0, grid = grid, start = (y, x))\n",
    "#         print (y, x, pregame.Performance)\n",
    "        performance.append(pregame.Performance)\n",
    "        print (pregame.Performance)\n",
    "    Performance_block.append(performance)\n",
    "np.save('Performance_short', Performance_block)"
   ]
  },
  {
   "cell_type": "code",
   "execution_count": null,
   "metadata": {},
   "outputs": [],
   "source": [
    "Performance_short = np.load('Performance_short.npy')\n",
    "Performance_block = np.load('Performance_block.npy')\n",
    "# Performance_block2 = np.load('Performance_block2.npy')\n",
    "plt.plot(np.mean(Performance_block, axis = 1), 'b.-', label = 'block')\n",
    "# plt.plot(np.mean(Performance_block2, axis = 1), 'g.-', label = 'short block')\n",
    "plt.plot(np.mean(Performance_short, axis = 1), 'r.-', label = 'short cut')\n",
    "plt.xlabel('x')\n",
    "plt.ylabel('performance')\n",
    "plt.legend()"
   ]
  },
  {
   "cell_type": "code",
   "execution_count": 91,
   "metadata": {},
   "outputs": [
    {
     "name": "stdout",
     "output_type": "stream",
     "text": [
      "[0.4653242792032555]\n",
      "[0.47191763298661105]\n",
      "[0.4963136450161745]\n",
      "[0.332014858747753]\n",
      "[0.31775541841729066]\n",
      "[0.2803761302979868]\n",
      "[0.30664994399935824]\n",
      "[0.28523208618938306]\n",
      "[0.29249944423609153]\n",
      "[0.23626424137458327]\n",
      "[0.2689124585139465]\n",
      "[0.2575047470060651]\n",
      "[0.18819202812291463]\n",
      "[0.17731303714298324]\n",
      "[0.23564478776564363]\n"
     ]
    }
   ],
   "source": [
    "Performance_block = []\n",
    "for x in np.arange(2, 17):\n",
    "    performance= []\n",
    "    for y in np.arange(4, 5):\n",
    "        weight = 'weights_fix4/rnn_1515tanh512_checkpoint0_3_48'\n",
    "        pregame = PretrainTest(weight_write = weight, holes = 0, inputs_type = (1, 0))\n",
    "        pregame.game.net.load_state_dict(torch.load(weight))\n",
    "        y = 4\n",
    "#         pregame.game.grid.grid[ry-1 : ry + 3, rx + 4 : rx + 6] = 0\n",
    "        grid =  pregame.game.grid.grid.copy()\n",
    "        pregame.TestAllSizes(size_range = [15], limit_set = 8, test_size = 0, grid = grid, start = (y, x))\n",
    "#         print (y, x, pregame.Performance)\n",
    "        performance.append(pregame.Performance)\n",
    "        print (pregame.Performance)\n",
    "    Performance_block.append(performance)\n",
    "np.save('Performance_a5_block', Performance_block)"
   ]
  },
  {
   "cell_type": "code",
   "execution_count": 92,
   "metadata": {},
   "outputs": [
    {
     "name": "stdout",
     "output_type": "stream",
     "text": [
      "[0.4784318346170161]\n",
      "[0.3873550117252258]\n",
      "[0.4837837334348595]\n",
      "[0.37975754028959935]\n",
      "[0.2161823570291649]\n",
      "[0.30889043717988063]\n",
      "[0.1048914617872298]\n",
      "[0.3866157823449461]\n",
      "[0.22371466125763206]\n",
      "[0.13559944217335868]\n",
      "[0.16030178836264072]\n",
      "[0.19826715555445695]\n",
      "[0.20228484214678877]\n",
      "[0.16964487180439977]\n",
      "[0.1958456983695715]\n"
     ]
    }
   ],
   "source": [
    "Performance_block = []\n",
    "for x in np.arange(2, 17):\n",
    "    performance= []\n",
    "    for y in np.arange(4, 5):\n",
    "        weight = 'weights_fix4/rnn_1515tanh512_checkpoint0_3_48'\n",
    "        pregame = PretrainTest(weight_write = weight, holes = 0, inputs_type = (1, 0))\n",
    "        pregame.game.net.load_state_dict(torch.load(weight))\n",
    "        y = 4\n",
    "        pregame.game.grid.grid[ry-1 : ry + 3, rx + 4 : rx + 6] = 0\n",
    "        grid =  pregame.game.grid.grid.copy()\n",
    "        pregame.TestAllSizes(size_range = [15], limit_set = 8, test_size = 0, grid = grid, start = (y, x))\n",
    "#         print (y, x, pregame.Performance)\n",
    "        performance.append(pregame.Performance)\n",
    "        print (pregame.Performance)\n",
    "    Performance_block.append(performance)\n",
    "np.save('Performance_a5_short', Performance_block)"
   ]
  },
  {
   "cell_type": "code",
   "execution_count": 93,
   "metadata": {},
   "outputs": [
    {
     "data": {
      "text/plain": [
       "<matplotlib.legend.Legend at 0x7f114d57c358>"
      ]
     },
     "execution_count": 93,
     "metadata": {},
     "output_type": "execute_result"
    },
    {
     "data": {
      "image/png": "[encoded data removed]",
      "text/plain": [
       "<matplotlib.figure.Figure at 0x7f114d4d1f28>"
      ]
     },
     "metadata": {},
     "output_type": "display_data"
    }
   ],
   "source": [
    "Performance_short = np.load('Performance_a5_short.npy')\n",
    "Performance_block = np.load('Performance_a5_block.npy')\n",
    "# Performance_block2 = np.load('Performance_block2.npy')\n",
    "plt.plot(np.mean(Performance_block, axis = 1), 'b.-', label = 'block')\n",
    "# plt.plot(np.mean(Performance_block2, axis = 1), 'g.-', label = 'short block')\n",
    "plt.plot(np.mean(Performance_short, axis = 1), 'r.-', label = 'short cut')\n",
    "plt.xlabel('x')\n",
    "plt.ylabel('performance')\n",
    "plt.legend()"
   ]
  },
  {
   "cell_type": "code",
   "execution_count": 43,
   "metadata": {},
   "outputs": [
    {
     "name": "stdout",
     "output_type": "stream",
     "text": [
      "0.2671005824639054\n",
      "0.3158622733710225\n",
      "0.39480487333935677\n",
      "0.25226667307407885\n",
      "0.06886864254421532\n",
      "0.0379385059032818\n",
      "-0.004881460078489974\n",
      "-0.06327415568246278\n",
      "-0.10617597967358931\n",
      "-0.19011520529896683\n",
      "-0.26629898795902796\n",
      "-0.29182648715152537\n",
      "-0.27162252002350823\n",
      "-0.10394950679146105\n",
      "0.38678263865210133\n"
     ]
    }
   ],
   "source": [
    "Performance_block = []\n",
    "ry = 5\n",
    "rx = 5\n",
    "for x in np.arange(2, 17):\n",
    "    performance= []\n",
    "    y = 4\n",
    "    for k in np.arange(5):\n",
    "        weight = 'weights_fix2/rnn_1515tanh512_checkpoint49_0_38'\n",
    "        pregame = PretrainTest(weight_write = weight, holes = 0, inputs_type = (1, 0))\n",
    "        pregame.game.net.load_state_dict(torch.load(weight))\n",
    "        grid =  pregame.game.grid.grid.copy()\n",
    "        pregame.TestAllSizes(size_range = [15], limit_set = 4, test_size = 0, grid = grid, start = (y, x))\n",
    "#         print (y, x, pregame.Performance)\n",
    "        performance.append(pregame.Performance)\n",
    "    print (np.mean(performance))\n",
    "    Performance_block.append(performance)\n",
    "np.save('Performance_49_block', Performance_block)"
   ]
  },
  {
   "cell_type": "code",
   "execution_count": 45,
   "metadata": {},
   "outputs": [
    {
     "name": "stdout",
     "output_type": "stream",
     "text": [
      "0.29790499773837814\n",
      "0.24898521722209077\n",
      "0.34299466594855144\n",
      "0.103058561655897\n",
      "0.02462819854872797\n",
      "-0.10628487686015808\n",
      "-0.06744128032280565\n",
      "-0.06861381451820339\n",
      "-0.07925766834511792\n",
      "-0.2536862500027034\n",
      "-0.355352440570908\n",
      "-0.369756212533696\n",
      "-0.3903488505781135\n",
      "-0.2464993990966467\n",
      "0.3515540672612111\n"
     ]
    }
   ],
   "source": [
    "Performance_block = []\n",
    "ry = 5\n",
    "rx = 5\n",
    "for x in np.arange(2, 17):\n",
    "    performance= []\n",
    "    y = 4\n",
    "    for k in np.arange(5):\n",
    "        weight = 'weights_fix2/rnn_1515tanh512_checkpoint49_0_38'\n",
    "        pregame = PretrainTest(weight_write = weight, holes = 0, inputs_type = (1, 0))\n",
    "        pregame.game.net.load_state_dict(torch.load(weight))\n",
    "        y = 4\n",
    "        pregame.game.grid.grid[ry-1 : ry + 3, rx + 3 : rx + 6] = 0\n",
    "        grid =  pregame.game.grid.grid.copy()\n",
    "        pregame.TestAllSizes(size_range = [15], limit_set = 4, test_size = 0, grid = grid, start = (y, x))\n",
    "#         print (y, x, pregame.Performance)\n",
    "        performance.append(pregame.Performance)\n",
    "    print (np.mean(performance))\n",
    "    Performance_block.append(performance)\n",
    "np.save('Performance_49_short', Performance_block)"
   ]
  },
  {
   "cell_type": "code",
   "execution_count": 39,
   "metadata": {},
   "outputs": [
    {
     "name": "stdout",
     "output_type": "stream",
     "text": [
      "0.019695698869630397\n",
      "-0.0028595386325709015\n",
      "-0.06224793271005089\n",
      "-0.27561246617960905\n",
      "-0.3609494994164818\n",
      "-0.3862824240121681\n",
      "-0.50430311022492\n",
      "-0.6040037616823126\n",
      "-0.6321752224403312\n",
      "-0.6986632748514274\n",
      "-0.7607400330786345\n",
      "-0.8033645329908945\n",
      "-0.8070149018476084\n",
      "-0.8552556418987478\n",
      "-0.6324360841578859\n"
     ]
    }
   ],
   "source": [
    "Performance_block = []\n",
    "ry = 5\n",
    "rx = 5\n",
    "for x in np.arange(2, 17):\n",
    "    performance= []\n",
    "    y = 4\n",
    "    for k in np.arange(5):\n",
    "        weight = 'weights_fix/rnn_1515tanh512_checkpoint0_0_39'\n",
    "        pregame = PretrainTest(weight_write = weight, holes = 0, inputs_type = (1, 0))\n",
    "        pregame.game.net.load_state_dict(torch.load(weight))\n",
    "        grid =  pregame.game.grid.grid.copy()\n",
    "        pregame.TestAllSizes(size_range = [15], limit_set = 4, test_size = 0, grid = grid, start = (y, x))\n",
    "#         print (y, x, pregame.Performance)\n",
    "        performance.append(pregame.Performance)\n",
    "    print (np.mean(performance))\n",
    "    Performance_block.append(performance)\n",
    "np.save('Performance_0_block', Performance_block)"
   ]
  },
  {
   "cell_type": "code",
   "execution_count": 46,
   "metadata": {},
   "outputs": [
    {
     "name": "stdout",
     "output_type": "stream",
     "text": [
      "-0.017331244348292797\n",
      "0.07030555788802142\n",
      "0.043281685078356634\n",
      "-0.14887220837274864\n",
      "-0.07142738233732582\n",
      "-0.06538400231350486\n",
      "-0.0041047362477083325\n",
      "0.08198535907565932\n",
      "0.08144498893920779\n",
      "-0.2768340563889815\n",
      "-0.39043831572956833\n",
      "-0.48280629276637727\n",
      "-0.5916589131526054\n",
      "-0.7456106143301312\n",
      "-0.538748981787865\n"
     ]
    }
   ],
   "source": [
    "Performance_block = []\n",
    "ry = 5\n",
    "rx = 5\n",
    "for x in np.arange(2, 17):\n",
    "    performance= []\n",
    "    y = 4\n",
    "    for k in np.arange(5):\n",
    "        weight = 'weights_fix/rnn_1515tanh512_checkpoint0_0_39'\n",
    "        pregame = PretrainTest(weight_write = weight, holes = 0, inputs_type = (1, 0))\n",
    "        pregame.game.net.load_state_dict(torch.load(weight))\n",
    "        y = 4\n",
    "        pregame.game.grid.grid[ry-1 : ry + 3, rx + 3 : rx + 6] = 0\n",
    "        grid =  pregame.game.grid.grid.copy()\n",
    "        pregame.TestAllSizes(size_range = [15], limit_set = 4, test_size = 0, grid = grid, start = (y, x))\n",
    "#         print (y, x, pregame.Performance)\n",
    "        performance.append(pregame.Performance)\n",
    "    print (np.mean(performance))\n",
    "    Performance_block.append(performance)\n",
    "np.save('Performance_0_short', Performance_block)"
   ]
  },
  {
   "cell_type": "code",
   "execution_count": 5,
   "metadata": {},
   "outputs": [
    {
     "data": {
      "text/plain": [
       "<matplotlib.legend.Legend at 0x7f0a3af60668>"
      ]
     },
     "execution_count": 5,
     "metadata": {},
     "output_type": "execute_result"
    },
    {
     "data": {
      "image/png": "[encoded data removed]",
      "text/plain": [
       "<matplotlib.figure.Figure at 0x7f0a3ae6e2b0>"
      ]
     },
     "metadata": {},
     "output_type": "display_data"
    }
   ],
   "source": [
    "Performance_short_pre2 = np.load('Performance_49_short.npy')\n",
    "Performance_block_pre2 = np.load('Performance_49_block.npy')\n",
    "# Performance_block2 = np.load('Performance_block2.npy')\n",
    "plt.plot(np.mean(Performance_block_pre2, axis = 1), 'b.-', label = 'block')\n",
    "# plt.plot(np.mean(Performance_block2, axis = 1), 'g.-', label = 'short block')\n",
    "plt.plot(np.mean(Performance_short_pre2, axis = 1), 'r.-', label = 'short cut')\n",
    "plt.xlabel('x')\n",
    "plt.ylabel('performance')\n",
    "plt.legend()"
   ]
  },
  {
   "cell_type": "code",
   "execution_count": 12,
   "metadata": {},
   "outputs": [
    {
     "data": {
      "text/plain": [
       "(-1, 1)"
      ]
     },
     "execution_count": 12,
     "metadata": {},
     "output_type": "execute_result"
    },
    {
     "data": {
      "image/png": "[encoded data removed]",
      "text/plain": [
       "<matplotlib.figure.Figure at 0x7f0a3aea53c8>"
      ]
     },
     "metadata": {},
     "output_type": "display_data"
    }
   ],
   "source": [
    "Performance_short = np.load('Performance_0_short.npy')\n",
    "Performance_block = np.load('Performance_0_block.npy')\n",
    "# Performance_block2 = np.load('Performance_block2.npy')\n",
    "plt.plot(np.mean(Performance_block, axis = 1), 'b.-', label = 'block')\n",
    "# plt.plot(np.mean(Performance_block2, axis = 1), 'g.-', label = 'short block')\n",
    "plt.plot(np.mean(Performance_short, axis = 1), 'r.-', label = 'short cut')\n",
    "plt.xlabel('x')\n",
    "plt.ylabel('performance')\n",
    "plt.legend()\n",
    "plt.ylim(-1, 1)"
   ]
  },
  {
   "cell_type": "code",
   "execution_count": 11,
   "metadata": {},
   "outputs": [
    {
     "data": {
      "text/plain": [
       "(-1, 1)"
      ]
     },
     "execution_count": 11,
     "metadata": {},
     "output_type": "execute_result"
    },
    {
     "data": {
      "image/png": "[encoded data removed]",
      "text/plain": [
       "<matplotlib.figure.Figure at 0x7f0a3aca13c8>"
      ]
     },
     "metadata": {},
     "output_type": "display_data"
    }
   ],
   "source": [
    "Performance_short_pre1 = np.load('Performance_300_short.npy')\n",
    "Performance_block_pre1 = np.load('Performance_300_block.npy')\n",
    "# Performance_block2 = np.load('Performance_block2.npy')\n",
    "plt.plot(np.mean(Performance_block_pre1, axis = 1), 'b.-', label = 'block')\n",
    "# plt.plot(np.mean(Performance_block2, axis = 1), 'g.-', label = 'short block')\n",
    "plt.plot(np.mean(Performance_short_pre1, axis = 1), 'r.-', label = 'short cut')\n",
    "plt.xlabel('x')\n",
    "plt.ylabel('performance')\n",
    "plt.legend()\n",
    "plt.ylim(-1, 1)"
   ]
  },
  {
   "cell_type": "code",
   "execution_count": 21,
   "metadata": {},
   "outputs": [
    {
     "data": {
      "text/plain": [
       "([], <a list of 0 Text xticklabel objects>)"
      ]
     },
     "execution_count": 21,
     "metadata": {},
     "output_type": "execute_result"
    },
    {
     "data": {
      "image/png": "[encoded data removed]",
      "text/plain": [
       "<matplotlib.figure.Figure at 0x7f0a3a819eb8>"
      ]
     },
     "metadata": {},
     "output_type": "display_data"
    }
   ],
   "source": [
    "ax = subplot(1, 1, 1)\n",
    "ax.spines['top'].set_visible(False)\n",
    "ax.spines['right'].set_visible(False)\n",
    "S0 = Performance_block\n",
    "S1 = Performance_short\n",
    "\n",
    "width = 0.8\n",
    "plt.bar(np.arange(2), height = [np.mean(S0), np.mean(S1)], yerr = [np.std(S0)/np.sqrt(5), np.std(S1)/np.sqrt(5)], width = width, color = 'b')\n",
    "\n",
    "S0 = Performance_block_pre1\n",
    "S1 = Performance_short_pre1\n",
    "\n",
    "plt.bar(np.arange(2) + 2., height = [np.mean(S0), np.mean(S1)], yerr = [np.std(S0)/np.sqrt(5), np.std(S1)/np.sqrt(5)], width = width, color = 'r')\n",
    "\n",
    "S0 = Performance_block_pre2\n",
    "S1 = Performance_short_pre2\n",
    "\n",
    "plt.bar(np.arange(2) + 4, height = [np.mean(S0), np.mean(S1)], yerr = [np.std(S0)/np.sqrt(5), np.std(S1)/np.sqrt(5)], width = width, color = 'g')\n",
    "plt.yticks([-1, -0.5, 0, 0.5, 1])\n",
    "plt.xticks([])\n",
    "# plt.yticks([-0.1, 0, 0.1, 0.2], size = 15)"
   ]
  },
  {
   "cell_type": "markdown",
   "metadata": {},
   "source": [
    "## GLM "
   ]
  },
  {
   "cell_type": "code",
   "execution_count": 59,
   "metadata": {},
   "outputs": [
    {
     "name": "stdout",
     "output_type": "stream",
     "text": [
      "total variance 0.28974023031550156 0.23307010783928503\n",
      "total variance 0.0195050702971315 0.018335666486177633\n",
      "total variance 0.02006667418641924 0.009662795306387185\n",
      "total variance 0.06451546712575826 0.05145692787444463\n",
      "total variance 0.03173207871152208 0.01677201517588403\n",
      "total variance 0.02980202726293869 0.03004485852027964\n",
      "total variance 0.022926422123106548 0.023371167891154853\n"
     ]
    }
   ],
   "source": [
    "weight = 'weights_fix4/rnn_1515tanh512_checkpoint39_1_32'\n",
    "States1, Poss1, Hiddens1, Actions1, Context1 = Data_record(weight)\n",
    "y, Features, Features_A, Features_Y, Features_X, Features_M, Features_S, Features_C = Feature_preprocessing(States1, Poss1, Hiddens1, Actions1,\\\n",
    "                                                                                                           Context1)\n",
    "clf = Lasso(alpha = 1e-3)\n",
    "cv_scores_all = cross_validate(clf, Features, y, cv = 5, scoring=('r2'), return_train_score = True)\n",
    "print ('total variance', np.mean(cv_scores_all['train_score']), np.mean(cv_scores_all['test_score']))\n",
    "importances = []\n",
    "importances_std = []\n",
    "for i, feature in enumerate([Features_A, Features_Y, Features_X, Features_M, Features_S, Features_C]):\n",
    "    clf = Lasso(alpha = 1e-3)\n",
    "    cv_scores = cross_validate(clf, feature, y, cv = 5, scoring=('r2'), return_train_score = True)\n",
    "    print ('total variance', np.mean(cv_scores_all['train_score'] -  cv_scores['train_score']), \\\n",
    "           np.mean(cv_scores_all['test_score'] - cv_scores['test_score']))\n",
    "    importances.append(np.mean(cv_scores_all['test_score'] - cv_scores['test_score']))\n",
    "    importances_std.append(np.std(cv_scores_all['test_score'] - cv_scores['test_score']))"
   ]
  },
  {
   "cell_type": "code",
   "execution_count": 61,
   "metadata": {},
   "outputs": [
    {
     "data": {
      "text/plain": [
       "([<matplotlib.axis.YTick at 0x7ff56c1a2e48>,\n",
       "  <matplotlib.axis.YTick at 0x7ff56c17d860>,\n",
       "  <matplotlib.axis.YTick at 0x7ff55c4b7128>,\n",
       "  <matplotlib.axis.YTick at 0x7ff56c23f940>,\n",
       "  <matplotlib.axis.YTick at 0x7ff56c23fef0>,\n",
       "  <matplotlib.axis.YTick at 0x7ff55c4cf5c0>,\n",
       "  <matplotlib.axis.YTick at 0x7ff55c4cfc50>],\n",
       " <a list of 7 Text yticklabel objects>)"
      ]
     },
     "execution_count": 61,
     "metadata": {},
     "output_type": "execute_result"
    },
    {
     "data": {
      "image/png": "[encoded data removed]",
      "text/plain": [
       "<matplotlib.figure.Figure at 0x7ff55c4bc978>"
      ]
     },
     "metadata": {},
     "output_type": "display_data"
    }
   ],
   "source": [
    "np.save('importance_39', importances)\n",
    "np.save('importance_39_std', importances_std)\n",
    "ax = subplot(1, 1, 1)\n",
    "ax.spines['top'].set_visible(False)\n",
    "ax.spines['right'].set_visible(False)\n",
    "imp = np.load('importance_39.npy')\n",
    "imp_std = np.load('importance_39_std.npy')\n",
    "plt.bar(np.arange(6), height = imp, yerr = imp_std)\n",
    "plt.xticks([0, 1, 2, 3, 4, 5], ['A', 'Y', 'X', 'M', 'S', 'C'], size = 15)\n",
    "plt.yticks([0, 0, 0.02, 0.04, 0.06, 0.08, 0.1], size = 15)"
   ]
  },
  {
   "cell_type": "markdown",
   "metadata": {},
   "source": [
    "# Conclusion\n",
    "**Internal dynamics rather than decoding performance influences more the performance in uncertain enviroments**\n",
    "\n",
    "**Consider to think in global loops rather than separated system, thus the coupled dynamical system.  This system, which has its genome on its internal weights, will have quite different different pheno-types from the global loops,  richness of internal dynamics turns into extenable phenotypes which supports behaviours across scales.   The different types of attractors, fix point, limit cycle becomes substrate of strategy in different size rooms.  Thus generalization can be done until certain size, which offers complicate behaviour with a \"simple mind\"**\n",
    "\n",
    "**The triangle between decoding, dynamics and navigation should be like: 1, dynamics coded by internal weight is most fundamental, it gives rise to different representations(phenotypes).   2,  The relation between decoding and navigation are reciprocal. not random behaviour gives better enviromental prediction(complement the free energy principle) 2,  we should distinguish internal dynamics and global dynamics**"
   ]
  },
  {
   "cell_type": "code",
   "execution_count": null,
   "metadata": {},
   "outputs": [],
   "source": []
  }
 ],
 "metadata": {
  "anaconda-cloud": {},
  "kernelspec": {
   "display_name": "Python 3",
   "language": "python",
   "name": "python3"
  },
  "language_info": {
   "codemirror_mode": {
    "name": "ipython",
    "version": 3
   },
   "file_extension": ".py",
   "mimetype": "text/x-python",
   "name": "python",
   "nbconvert_exporter": "python",
   "pygments_lexer": "ipython3",
   "version": "3.6.3"
  },
  "latex_envs": {
   "LaTeX_envs_menu_present": true,
   "autoclose": false,
   "autocomplete": true,
   "bibliofile": "biblio.bib",
   "cite_by": "apalike",
   "current_citInitial": 1,
   "eqLabelWithNumbers": true,
   "eqNumInitial": 1,
   "hotkeys": {
    "equation": "Ctrl-E",
    "itemize": "Ctrl-I"
   },
   "labels_anchors": false,
   "latex_user_defs": false,
   "report_style_numbering": false,
   "user_envs_cfg": false
  },
  "toc": {
   "nav_menu": {},
   "number_sections": true,
   "sideBar": true,
   "skip_h1_title": false,
   "title_cell": "Table of Contents",
   "title_sidebar": "Contents",
   "toc_cell": true,
   "toc_position": {
    "height": "759px",
    "left": "0px",
    "right": "1228px",
    "top": "67px",
    "width": "212px"
   },
   "toc_section_display": "block",
   "toc_window_display": true
  },
  "varInspector": {
   "cols": {
    "lenName": 16,
    "lenType": 16,
    "lenVar": 40
   },
   "kernels_config": {
    "python": {
     "delete_cmd_postfix": "",
     "delete_cmd_prefix": "del ",
     "library": "var_list.py",
     "varRefreshCmd": "print(var_dic_list())"
    },
    "r": {
     "delete_cmd_postfix": ") ",
     "delete_cmd_prefix": "rm(",
     "library": "var_list.r",
     "varRefreshCmd": "cat(var_dic_list()) "
    }
   },
   "types_to_exclude": [
    "module",
    "function",
    "builtin_function_or_method",
    "instance",
    "_Feature"
   ],
   "window_display": false
  }
 },
 "nbformat": 4,
 "nbformat_minor": 2
}
