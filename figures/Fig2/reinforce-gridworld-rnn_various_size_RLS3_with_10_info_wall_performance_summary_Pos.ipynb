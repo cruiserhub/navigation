{
 "cells": [
  {
   "cell_type": "markdown",
   "metadata": {
    "toc": "true"
   },
   "source": [
    "<h1>Table of Contents<span class=\"tocSkip\"></span></h1>\n",
    "<div class=\"toc\"><ul class=\"toc-item\"><li><span><a href=\"#quick-start\" data-toc-modified-id=\"quick-start-1\"><span class=\"toc-item-num\">1&nbsp;&nbsp;</span>quick start</a></span><ul class=\"toc-item\"><li><span><a href=\"#Resources\" data-toc-modified-id=\"Resources-1.1\"><span class=\"toc-item-num\">1.1&nbsp;&nbsp;</span>Resources</a></span></li></ul></li><li><span><a href=\"#FULL-MODEL\" data-toc-modified-id=\"FULL-MODEL-2\"><span class=\"toc-item-num\">2&nbsp;&nbsp;</span>FULL MODEL</a></span><ul class=\"toc-item\"><li><span><a href=\"#Packages\" data-toc-modified-id=\"Packages-2.1\"><span class=\"toc-item-num\">2.1&nbsp;&nbsp;</span>Packages</a></span><ul class=\"toc-item\"><li><span><a href=\"#Qnetwork\" data-toc-modified-id=\"Qnetwork-2.1.1\"><span class=\"toc-item-num\">2.1.1&nbsp;&nbsp;</span>Qnetwork</a></span></li></ul></li><li><span><a href=\"#POMDP-RNN-Game\" data-toc-modified-id=\"POMDP-RNN-Game-2.2\"><span class=\"toc-item-num\">2.2&nbsp;&nbsp;</span>POMDP RNN Game</a></span></li><li><span><a href=\"#Results\" data-toc-modified-id=\"Results-2.3\"><span class=\"toc-item-num\">2.3&nbsp;&nbsp;</span>Results</a></span><ul class=\"toc-item\"><li><span><a href=\"#Standard-setting：-grid-=--(3,7)，-holes-=-0\" data-toc-modified-id=\"Standard-setting：-grid-=--(3,7)，-holes-=-0-2.3.1\"><span class=\"toc-item-num\">2.3.1&nbsp;&nbsp;</span>Standard setting： grid =  (3,7)， holes = 0</a></span></li><li><span><a href=\"#Model-Tranining\" data-toc-modified-id=\"Model-Tranining-2.3.2\"><span class=\"toc-item-num\">2.3.2&nbsp;&nbsp;</span>Model Tranining</a></span></li><li><span><a href=\"#decoding-vs-performance\" data-toc-modified-id=\"decoding-vs-performance-2.3.3\"><span class=\"toc-item-num\">2.3.3&nbsp;&nbsp;</span>decoding vs performance</a></span></li><li><span><a href=\"#learning-rate-vs-performance\" data-toc-modified-id=\"learning-rate-vs-performance-2.3.4\"><span class=\"toc-item-num\">2.3.4&nbsp;&nbsp;</span>learning rate vs performance</a></span></li><li><span><a href=\"#Summary\" data-toc-modified-id=\"Summary-2.3.5\"><span class=\"toc-item-num\">2.3.5&nbsp;&nbsp;</span>Summary</a></span></li><li><span><a href=\"#Anlytic-part-,-check-the-behaviour-correspond-to-each-decoding-level-and-explain-why\" data-toc-modified-id=\"Anlytic-part-,-check-the-behaviour-correspond-to-each-decoding-level-and-explain-why-2.3.6\"><span class=\"toc-item-num\">2.3.6&nbsp;&nbsp;</span>Anlytic part , check the behaviour correspond to each decoding level and explain why</a></span></li></ul></li><li><span><a href=\"#PCA\" data-toc-modified-id=\"PCA-2.4\"><span class=\"toc-item-num\">2.4&nbsp;&nbsp;</span>PCA</a></span></li></ul></li></ul></div>"
   ]
  },
  {
   "cell_type": "markdown",
   "metadata": {},
   "source": [
    "# quick start "
   ]
  },
  {
   "cell_type": "markdown",
   "metadata": {},
   "source": [
    "**Check relation betweeen dynamics and generalization.   Hypothesis to make: generalization can only be understood in level of joint dynamical system, there is a clear link between the two**\n",
    "\n",
    "**Dynamnics determines generalization , not decoding , same decoding level can have very different dynamics , thus different generalization level.  Only when the dynamics of RNN forms object correspond to real relevant objects for game, the generalization can be good.   For instance , in a varying size game, you extend the size of game from 10 to 30, what will happen?  You can do a kind of dynamical programing , according to which wall you have seen and how many steps you have passed , you decide future action.    This can be achieved robustly by the dynamical system where fix points are correspond to walls**"
   ]
  },
  {
   "cell_type": "markdown",
   "metadata": {},
   "source": [
    "## Resources\n",
    "\n",
    "* [*The* Reinforcement learning book from Sutton & Barto](http://incompleteideas.net/sutton/book/the-book-2nd.html)\n",
    "* [The REINFORCE paper from Ronald J. Williams (1992)](http://www-anw.cs.umass.edu/~barto/courses/cs687/williams92simple.pdf)\n"
   ]
  },
  {
   "cell_type": "markdown",
   "metadata": {},
   "source": [
    "# FULL MODEL"
   ]
  },
  {
   "cell_type": "markdown",
   "metadata": {},
   "source": [
    "## Packages"
   ]
  },
  {
   "cell_type": "code",
   "execution_count": 1,
   "metadata": {},
   "outputs": [
    {
     "name": "stdout",
     "output_type": "stream",
     "text": [
      "Populating the interactive namespace from numpy and matplotlib\n"
     ]
    },
    {
     "name": "stderr",
     "output_type": "stream",
     "text": [
      "/home/cruiser/anaconda3/lib/python3.6/site-packages/IPython/core/magics/pylab.py:160: UserWarning: pylab import has clobbered these variables: ['random']\n",
      "`%matplotlib` prevents importing * from pylab and numpy\n",
      "  \"\\n`%matplotlib` prevents importing * from pylab and numpy\"\n"
     ]
    }
   ],
   "source": [
    "%load_ext autoreload\n",
    "%autoreload 2\n",
    "\n",
    "import numpy as np\n",
    "from itertools import count\n",
    "import random\n",
    "\n",
    "import torch\n",
    "import torch.nn as nn\n",
    "import torch.nn.functional as F\n",
    "import torch.optim as optim\n",
    "import torch.autograd as autograd\n",
    "from torch.autograd import Variable\n",
    "from torch.nn import init\n",
    "from torch.nn import DataParallel\n",
    "from torch.utils.data import DataLoader\n",
    "\n",
    "import matplotlib.mlab as mlab\n",
    "import matplotlib.pyplot as plt\n",
    "import matplotlib.animation\n",
    "import seaborn as sns\n",
    "from IPython.display import HTML\n",
    "\n",
    "import pretrain\n",
    "from pretrain import *\n",
    "\n",
    "import navigation2\n",
    "from navigation2 import *\n",
    "\n",
    "import sklearn\n",
    "from sklearn.svm import SVC\n",
    "from sklearn.manifold import Isomap\n",
    "from sklearn.manifold import SpectralEmbedding\n",
    "from sklearn.manifold import TSNE\n",
    "from sklearn.linear_model import Lasso\n",
    "from sklearn.model_selection import train_test_split\n",
    "from sklearn.metrics import f1_score\n",
    "from sklearn.metrics import r2_score\n",
    "from sklearn.model_selection import cross_validate\n",
    "\n",
    "import scipy\n",
    "from scipy.spatial import distance\n",
    "from scipy import signal\n",
    "\n",
    "import dynamics\n",
    "from dynamics import*\n",
    "\n",
    "%pylab inline\n",
    "import warnings\n",
    "warnings.filterwarnings('ignore')"
   ]
  },
  {
   "cell_type": "markdown",
   "metadata": {},
   "source": [
    "For the liquid state approach to work, you need a lot of neurons as surplus or enough hidden to hidden connectivity to make it have an effect."
   ]
  },
  {
   "cell_type": "markdown",
   "metadata": {},
   "source": [
    "##  POMDP RNN Game\n",
    "\n",
    "In this game , we use a new reward function determined by game, if the agent achieves the goal before 50, reward is 1. If time pass 50 reward is 0.5, once time pass 100 agent gets a reward of -0.5 .  Practically, this is found to be easier to learn than the rewards as a continous function of time.  Tf the agent learns to search in a efficient way, the largest possible way for search is to firstly arrive at corner then goes to the goal, which, takes about 50 steps, it is reasonble to make 50 and 100 as milestone thing.  Also in principe as the game doesn't have a timer , it is not if it can use a reward as funtion of time"
   ]
  },
  {
   "cell_type": "markdown",
   "metadata": {},
   "source": [
    "3 condition for ending , when pass time limit, game over"
   ]
  },
  {
   "cell_type": "markdown",
   "metadata": {},
   "source": [
    "For weight update, it seems to be better do it after episode, as it makes non-sense evaluate strategy during episode, but a the end. Also, it is much quicker. "
   ]
  },
  {
   "cell_type": "markdown",
   "metadata": {},
   "source": [
    "A programming of MDP here, hidden state is as state of enviroment"
   ]
  },
  {
   "cell_type": "markdown",
   "metadata": {},
   "source": [
    "Training from zero seems to be better because it will allow the agent to explore from new"
   ]
  },
  {
   "cell_type": "markdown",
   "metadata": {},
   "source": [
    "**A coherent result here is threhold kind behaviour of decode vs performance, after decode smaller than 10, the performance rises.  The resutls is showeing that the learning rate vs performance doesn't characterize the threshold kind behaviour of performance change.  It is only after lr = -5, the performance begins to rise , while the learning rate - performance curve creates a fake trends for first few points.  This is not shown by explaination factor calculated by covariance.  **"
   ]
  },
  {
   "cell_type": "markdown",
   "metadata": {},
   "source": [
    "If look carefully, the slow timescale here is a very long transient,  it will not return to baseline in a very long run of game, that is different from gru, which maintains a baseline.  If the system is a true integrator,  it should not loose the baseline, because there is no concept of return in this case. \n",
    "\n",
    "The very slow timescale could make the system harder to reset, except I use a strong input.  So reset upon input and remember is always contradictory.  If I design a task also need to pay attention to fast timescale , this will fail more throughly "
   ]
  },
  {
   "cell_type": "markdown",
   "metadata": {},
   "source": [
    "# Real Game Dynamics analysis  \n",
    "The real game dynamcis shows huge difference performance in speed, stability of results, and also statistics of strategy "
   ]
  },
  {
   "cell_type": "markdown",
   "metadata": {},
   "source": [
    "**What is the relation to head direction, this order kept in limit cycle**\n",
    "**Could we define the order parameter for behaviour and link it to dynamics?**"
   ]
  },
  {
   "cell_type": "markdown",
   "metadata": {},
   "source": [
    "## Game Performance analysis"
   ]
  },
  {
   "cell_type": "markdown",
   "metadata": {},
   "source": [
    "## Performance analysis\n",
    "differ by speed, stability and final results on different sizes of arena, both for intra, and extrapolation"
   ]
  },
  {
   "cell_type": "markdown",
   "metadata": {},
   "source": [
    "### analysis on early stage\n",
    "**much faster learning speed of pretrained net on small size of arena, compare resutls on the first iteration for small and large size of arena. That rise in speed in small size is not necessarlily related to decoding, but should relie more dynamics **"
   ]
  },
  {
   "cell_type": "code",
   "execution_count": 2,
   "metadata": {},
   "outputs": [],
   "source": [
    "class PretrainTest():\n",
    "    def __init__(self, weight_write, holes = 0, inputs_type = (1, 0)):\n",
    "        self.pregame = PretrainGame(grid_size = (15, 15), holes = holes, random_seed = 4 , set_reward = [(0.5, 0.25), (0.5, 0.75)], input_type = inputs_type[0])\n",
    "        self.game = ValueMaxGame(grid_size = (15, 15), holes = 0, random_seed = 4 , set_reward = [(0.5, 0.25), (0.5, 0.75)], input_type = inputs_type[1])\n",
    "        self.weight = weight_write\n",
    "            \n",
    "    def loadweight(self, weight_load):\n",
    "#       need to take the state dict as a new dict for updating \n",
    "        net_dict = torch.load(weight_load)\n",
    "        list_modules = [('h2h', net_dict['h2h']), ('a2h', net_dict['a2h']), ('i2h', net_dict['i2h']), ('r2h', net_dict['r2h']), ('bh', net_dict['bh'])]\n",
    "        select_dict = OrderedDict(list_modules)\n",
    "        net = self.pregame.net.state_dict()\n",
    "        net.update(select_dict)\n",
    "        self.pregame.net.load_state_dict(net)\n",
    "        torch.save(self.pregame.net.state_dict(), self.weight) \n",
    "    \n",
    "        \n",
    "    def pretrain(self, trial, weight = None, lr = 1e-5, pretrain = True):  \n",
    "        # start a pretrained game  \n",
    "        self.pregame.net.cuda()\n",
    "        if pretrain == True:\n",
    "            lr = float(lr)\n",
    "            if weight != None:\n",
    "                self.pregame.net.load_state_dict(torch.load(weight))\n",
    "            self.pregame.fulltrain(lr_rate = lr, trials = int(1e3), batchsize = 4)\n",
    "        print ('pretrain end', torch.norm(self.pregame.net.h2h))\n",
    "        if pretrain == True:\n",
    "            torch.save(self.pregame.net.state_dict(), self.weight[:-1]+'{}'.format(trial))\n",
    "        else:\n",
    "            torch.save(self.pregame.net.state_dict(), self.weight+'{}'.format(trial))\n",
    "        if pretrain == True and trial <= 10:\n",
    "            self.weight = self.weight[:-1]+'{}'.format(trial)\n",
    "        elif pretrain == True and trial > 10:\n",
    "            self.weight = self.weight[:-2]+'{}'.format(trial)\n",
    "        elif pretrain == False:\n",
    "            self.weight = self.weight +'{}'.format(trial)\n",
    "            \n",
    "    def decode(self, weight = None):\n",
    "        if weight != None:\n",
    "            self.pregame.net.load_state_dict(torch.load(weight))\n",
    "        else:\n",
    "             self.pregame.net.load_state_dict(torch.load(self.weight))\n",
    "        rls_q = RLS(1e2)\n",
    "        rls_sl = RLS(1e2)\n",
    "        self.game.net.cpu()\n",
    "        self.game.experiment(rls_q, rls_sl,20, epsilon = 0.5, train_hidden = False, train_q = False, size_range=(15, 16), test = True) \n",
    "        def precision():\n",
    "            prec0 = np.mean(decodetest(self.game, reward_control= 0, epsilon = 0)[0] + decodetest(self.game, reward_control = 1,  epsilon = 0)[0])\n",
    "            prec1 = np.mean(decodetest(self.game, reward_control= 0, epsilon = 0.5)[0] + decodetest(self.game, reward_control =  1,  epsilon = 0.5)[0])\n",
    "            prec2 = np.mean(decodetest(self.game, reward_control= 0, epsilon = 1)[0] + decodetest(self.game, reward_control =  1,  epsilon = 1)[0])\n",
    "            return (prec0 + prec1 + prec2)/3, (prec2 - prec0)\n",
    "        print ('decode train finish')\n",
    "        Prec, dif = precision()\n",
    "        print ('decode end', Prec, 'dif decode', dif)\n",
    "        return Prec, dif\n",
    "        # q learning session \n",
    "    \n",
    "        \n",
    "    def qlearn(self, weight_read, weight_write, iterations = 5, save = True, size_train = np.arange(10, 51, 10), \\\n",
    "               size_test = [10, 30], train_only = False, test_only = False, noise = 0.3, h2o = True,\n",
    "              k_action = 1, k_internal = 1, k_stim = 1):\n",
    "        self.game.net.load_state_dict(torch.load(weight_read))\n",
    "        if h2o == True:\n",
    "            self.game.net.h2o = nn.Parameter(torch.randn(512, 4) * 0.01 * np.sqrt(2.0/(512 + 4)))\n",
    "        self.game.net.k_action = k_action\n",
    "        self.game.net.k_internal = k_internal\n",
    "        self.game.net.k_stim = k_stim\n",
    "        e_rate = [noise for r in range(iterations)] \n",
    "        rls_q = RLS(1e2)\n",
    "        rls_sl = RLS(1e2)\n",
    "        Rewards = []\n",
    "        # q leanring phase\n",
    "        for n,e in enumerate(e_rate):\n",
    "            prob = np.ones(len(size_train)) \n",
    "            prob = prob/np.sum(prob)\n",
    "            if test_only == False:\n",
    "                self.game.experiment(rls_q, rls_sl, iterations = 50, epochs= 10, epsilon = e, size_range = size_train)    \n",
    "                if save == True:\n",
    "                    torch.save(self.game.net.state_dict(), weight_write + '_{}'.format(n))\n",
    "            def testing(game):\n",
    "                Rewards00 = Test(game, reward_control = 0, size = size_test[0], test = 1)\n",
    "                Rewards01 = Test(game, reward_control = 1, size = size_test[0], test = 1)\n",
    "                rewards_s = (np.sum(Rewards00) + np.sum(Rewards01))/2\n",
    "                Rewards10 = Test(game, reward_control = 0, size = size_test[1], test = 2)\n",
    "                Rewards11 = Test(game, reward_control = 1, size = size_test[1], test = 2)\n",
    "                rewards_l = (np.sum(Rewards10) + np.sum(Rewards11))/2\n",
    "                return rewards_s, rewards_l\n",
    "            # load weight if test only is true \n",
    "            if test_only == True:\n",
    "                self.game.net.load_state_dict(torch.load(weight_write))\n",
    "            if train_only == False:\n",
    "                rewards_s, rewards_l = testing(self.game)\n",
    "            print (n, 'rewards_s',  rewards_s, 'rewards_l', rewards_l)\n",
    "            Rewards.append((rewards_s, rewards_l))\n",
    "        return Rewards\n",
    "    \n",
    "    def TestAllSizes(self, size_range = np.arange(5, 50, 5), k_action = 1, k_internal = 1, \n",
    "                    k_stim = 1, limit_set = 4, test_size = 1):\n",
    "        self.game.net.load_state_dict(torch.load(self.weight))\n",
    "        self.game.net.cpu()\n",
    "        self.Performance = []\n",
    "        self.game.net.k_action = k_action\n",
    "        self.game.net.k_internal = k_internal\n",
    "        self.game.net.k_stim = k_stim\n",
    "        for size in size_range:\n",
    "            Rewards0 = Test(self.game, reward_control = 0, size = size, limit_set = limit_set, test = test_size)\n",
    "            Rewards1 = Test(self.game, reward_control = 1, size = size, limit_set = limit_set, test = test_size)\n",
    "            self.Performance.append((Rewards0 + Rewards1)/2)"
   ]
  },
  {
   "cell_type": "code",
   "execution_count": 9,
   "metadata": {},
   "outputs": [],
   "source": [
    "def performance_measure(size, test_size, trial = 202, \\\n",
    "                        shuffle = False, pretrain = False, random = False, k_action = 1, k_internal = 1, k_stim = 1, limit_set = 4):\n",
    "    trials = 3\n",
    "    performance = np.zeros((trials, 5))\n",
    "    for iters1 in np.arange(trials):\n",
    "        for iters2 in np.arange(1, 10):\n",
    "            if shuffle == True:\n",
    "                weight = 'weights_2_shuffle/rnn_1515tanh512_checkpoint{}_{}_{}'.format(trial, iters1+3, iters2)\n",
    "            if random == True:\n",
    "                weight = 'weights_2_random/rnn_1515tanh512_checkpoint{}_{}_{}'.format(trial, iters1+3, iters2)\n",
    "            if pretrain == True:\n",
    "                weight = 'weights2/rnn_1515tanh512_checkpoint{}_{}_{}'.format(trial, iters1+2, iters2)\n",
    "            Pretest = PretrainTest(weight_write = weight)\n",
    "            Pretest.TestAllSizes(size_range = [size], limit_set = limit_set, test_size = test_size)\n",
    "            performance[iters1, iters2-5] = Pretest.Performance[0]\n",
    "    print(np.max(performance, axis = 1))\n",
    "    return performance\n",
    "# performance_measure(0, 0, 10, 0)"
   ]
  },
  {
   "cell_type": "markdown",
   "metadata": {},
   "source": [
    "## Learning History"
   ]
  },
  {
   "cell_type": "markdown",
   "metadata": {},
   "source": [
    "## Generalization"
   ]
  },
  {
   "cell_type": "code",
   "execution_count": 11,
   "metadata": {},
   "outputs": [
    {
     "name": "stdout",
     "output_type": "stream",
     "text": [
      "[ 0.914649    0.72247768  0.9266307 ]\n",
      "[ 0.49300664  0.58497735  0.80911788]\n",
      "[ 0.08038289  0.07272204 -0.20772036]\n",
      "[-0.14505663 -0.47861975 -0.5808235 ]\n",
      "[-0.47132511 -0.61134132 -0.62752985]\n"
     ]
    }
   ],
   "source": [
    "performance10 = performance_measure(10, 0, trial = 204, k_action=1, k_internal=1, k_stim=1, pretrain = True)\n",
    "\n",
    "performance30 = performance_measure(30, 1, trial = 204, k_action=1, k_internal=1, k_stim=1, shuffle = False, pretrain=True)\n",
    "\n",
    "performance50 = performance_measure(50, 2, trial = 204, k_action=1, k_internal=1, k_stim=1, limit_set = 4, pretrain = True)\n",
    "\n",
    "performance70 = performance_measure(70, 3, trial = 204, k_action=1, k_internal=1, k_stim=1, limit_set = 4, pretrain = True)\n",
    "\n",
    "performance90 = performance_measure(90, 4, trial = 204, k_action=1, k_internal=1, k_stim=1, limit_set = 4, pretrain = True)"
   ]
  },
  {
   "cell_type": "code",
   "execution_count": 45,
   "metadata": {},
   "outputs": [
    {
     "name": "stdout",
     "output_type": "stream",
     "text": [
      "[0.92248575 0.92775971 0.86464312]\n",
      "[-0.26638695  0.5382188   0.6097816 ]\n",
      "[-0.53105335 -0.14635161 -0.08262334]\n",
      "[-0.64453962 -0.26480227 -0.04513524]\n",
      "[-0.68389514 -0.51243748 -0.54872709]\n"
     ]
    }
   ],
   "source": [
    "performance10_2 = performance_measure(10, 0, trial = 399, k_action=1, k_internal=1, k_stim=1, pretrain = True)\n",
    "\n",
    "performance30_2 = performance_measure(30, 1, trial = 399, k_action=1, k_internal=1, k_stim=1, shuffle = False, pretrain=True)\n",
    "\n",
    "performance50_2 = performance_measure(50, 2, trial = 399, k_action=1, k_internal=1, k_stim=1, limit_set = 4, pretrain = True)\n",
    "\n",
    "performance70_2 = performance_measure(70, 3, trial = 399, k_action=1, k_internal=1, k_stim=1, limit_set = 4, pretrain = True)\n",
    "\n",
    "performance90_2 = performance_measure(90, 4, trial = 399, k_action=1, k_internal=1, k_stim=1, limit_set = 4, pretrain = True)"
   ]
  },
  {
   "cell_type": "code",
   "execution_count": 37,
   "metadata": {},
   "outputs": [],
   "source": [
    "np.save('performance90', performance90)"
   ]
  },
  {
   "cell_type": "code",
   "execution_count": 41,
   "metadata": {},
   "outputs": [],
   "source": [
    "np.save('performance_10_1', performance10)\n",
    "np.save('performance_30_1', performance30)\n",
    "# np.save('performance10_shuffle', performance10_s)\n",
    "# np.save('performance50_shuffle', performance50_s)\n",
    "np.save('performance_50_1', performance50)\n",
    "# np.save('performance70_shuffle', performance70_s)\n",
    "np.save('performance_70_1', performance70)\n",
    "# np.save('performance90_shuffle_f', performance90_s_f)\n",
    "np.save('performance_90_1', performance90)"
   ]
  },
  {
   "cell_type": "code",
   "execution_count": 46,
   "metadata": {},
   "outputs": [],
   "source": [
    "np.save('performance_10_2', performance10_2)\n",
    "np.save('performance_30_2', performance30_2)\n",
    "# np.save('performance10_shuffle', performance10_s)\n",
    "# np.save('performance50_shuffle', performance50_s)\n",
    "np.save('performance_50_2', performance50_2)\n",
    "# np.save('performance702shuffle', performance70_s)\n",
    "np.save('performance_70_2', performance70_2)\n",
    "# np.save('performance90_shuffle_f', performance90_s_f)\n",
    "np.save('performance_90_2', performance90_2)"
   ]
  },
  {
   "cell_type": "code",
   "execution_count": 65,
   "metadata": {},
   "outputs": [],
   "source": [
    "performance_10 = np.load('performance_10_1.npy')\n",
    "performance_30 = np.load('performance_30_1.npy')\n",
    "performance_50 = np.load('performance_50_1.npy') \n",
    "performance_70 = np.load('performance_70_1.npy') \n",
    "performance_90 = np.load('performance_90_1.npy')\n",
    "performance_10_2 = np.load('performance_10_2.npy')\n",
    "performance_30_2 = np.load('performance_30_2.npy')\n",
    "performance_50_2 = np.load('performance_50_2.npy') \n",
    "performance_70_2 = np.load('performance_70_2.npy') \n",
    "performance_90_2 = np.load('performance_90_2.npy')\n",
    "performance_10 = np.concatenate((performance_10, performance_10_2), axis = 0)\n",
    "performance_30 = np.concatenate((performance_30, performance_30_2), axis = 0)\n",
    "performance_50 = np.concatenate((performance_50, performance_50_2), axis = 0)\n",
    "performance_70 = np.concatenate((performance_70, performance_70_2), axis = 0)\n",
    "performance_90 = np.concatenate((performance_90, performance_90_2), axis = 0)\n",
    "performance_g10 = np.max(performance_10, axis = 1)\n",
    "performance_g30 = np.max(performance_30, axis = 1)\n",
    "performance_g50 = np.max(performance_50, axis = 1) \n",
    "performance_g70 = np.max(performance_70, axis = 1) \n",
    "performance_g90 = np.max(performance_90, axis = 1)"
   ]
  },
  {
   "cell_type": "code",
   "execution_count": 66,
   "metadata": {},
   "outputs": [],
   "source": [
    "# PG_s = [performance_g10_s, performance_g30_s, performance_g50_s, performance_g70_s, performance_g90_s]\n",
    "# pG_s = np.concatenate(PG_s)\n",
    "PG = [performance_g10, performance_g30, performance_g50, performance_g70, performance_g90]\n",
    "pG = np.concatenate(PG)"
   ]
  },
  {
   "cell_type": "code",
   "execution_count": 67,
   "metadata": {},
   "outputs": [
    {
     "data": {
      "text/plain": [
       "array([[ 0.90781511,  0.93652237,  0.96329207,  0.92052491,  0.92648432],\n",
       "       [ 0.91792286,  0.96345104,  0.96926579,  0.93471096,  0.90596227],\n",
       "       [ 0.9561858 ,  0.97065962,  0.92324865,  0.91592   ,  0.93365387],\n",
       "       [ 0.68421067, -0.11349664, -0.16439503,  0.16381306,  0.92248575],\n",
       "       [ 0.9075971 ,  0.88257277,  0.57032205,  0.92775971,  0.40752523],\n",
       "       [ 0.83016976,  0.85926838,  0.65623779,  0.86021167,  0.86464312]])"
      ]
     },
     "execution_count": 67,
     "metadata": {},
     "output_type": "execute_result"
    }
   ],
   "source": [
    "performance_10"
   ]
  },
  {
   "cell_type": "code",
   "execution_count": 68,
   "metadata": {},
   "outputs": [
    {
     "data": {
      "text/plain": [
       "[array([0.96329207, 0.96926579, 0.97065962, 0.92248575, 0.92775971,\n",
       "        0.86464312]),\n",
       " array([ 0.38521771,  0.52222303, -0.04578278, -0.26638695,  0.5382188 ,\n",
       "         0.6097816 ]),\n",
       " array([ 0.03957431, -0.03178359, -0.32431379, -0.53105335, -0.14635161,\n",
       "        -0.08262334]),\n",
       " array([-0.04569866, -0.21776189, -0.41834027, -0.64453962, -0.26480227,\n",
       "        -0.04513524]),\n",
       " array([-0.08724338, -0.32935053, -0.64767309, -0.68389514, -0.51243748,\n",
       "        -0.54872709])]"
      ]
     },
     "execution_count": 68,
     "metadata": {},
     "output_type": "execute_result"
    }
   ],
   "source": [
    "PG"
   ]
  },
  {
   "cell_type": "code",
   "execution_count": 71,
   "metadata": {},
   "outputs": [],
   "source": [
    "np.save('PG_Scaling_PosNet_2', PG)"
   ]
  },
  {
   "cell_type": "code",
   "execution_count": 58,
   "metadata": {},
   "outputs": [
    {
     "name": "stdout",
     "output_type": "stream",
     "text": [
      "[ 0.63905325  0.27810651 -0.00591716 -0.08284024  0.20710059]\n"
     ]
    }
   ],
   "source": [
    "performance = performance_measure(90, 4, trials = 5, k_action=1, k_internal=1, k_stim=1, limit_set = 16)"
   ]
  },
  {
   "cell_type": "code",
   "execution_count": 68,
   "metadata": {},
   "outputs": [],
   "source": [
    "np.save('performance90_shuffle', performance)"
   ]
  },
  {
   "cell_type": "code",
   "execution_count": 81,
   "metadata": {},
   "outputs": [
    {
     "name": "stdout",
     "output_type": "stream",
     "text": [
      "[ 0.07100592 -0.28994083  0.3964497   0.18343195 -0.25443787]\n"
     ]
    }
   ],
   "source": [
    "performance = performance_measure(90, 4, trials = 5, k_action=1, k_internal=1, k_stim=1, limit_set = 16,\n",
    "                                 pretrain = True)"
   ]
  },
  {
   "cell_type": "code",
   "execution_count": 82,
   "metadata": {},
   "outputs": [],
   "source": [
    "np.save('performance90', performance)"
   ]
  },
  {
   "cell_type": "code",
   "execution_count": 83,
   "metadata": {},
   "outputs": [
    {
     "name": "stdout",
     "output_type": "stream",
     "text": [
      "[0.76 0.28 0.58 0.74 0.52]\n"
     ]
    }
   ],
   "source": [
    "performance = performance_measure(30, 1, trials = 5, k_action=1, k_internal=1, k_stim=1, pretrain = True)"
   ]
  },
  {
   "cell_type": "code",
   "execution_count": 84,
   "metadata": {},
   "outputs": [],
   "source": [
    "np.save('performance30', performance)"
   ]
  },
  {
   "cell_type": "markdown",
   "metadata": {},
   "source": [
    "### Performance 30 as reference"
   ]
  },
  {
   "cell_type": "code",
   "execution_count": 77,
   "metadata": {},
   "outputs": [
    {
     "data": {
      "text/plain": [
       "0.6187999999999999"
      ]
     },
     "execution_count": 77,
     "metadata": {},
     "output_type": "execute_result"
    }
   ],
   "source": [
    "perform30 = np.load('performance30_shuffle.npy')\n",
    "np.mean(perform30[perform30>0.0]) "
   ]
  },
  {
   "cell_type": "code",
   "execution_count": 85,
   "metadata": {},
   "outputs": [
    {
     "data": {
      "text/plain": [
       "0.45875"
      ]
     },
     "execution_count": 85,
     "metadata": {},
     "output_type": "execute_result"
    }
   ],
   "source": [
    "perform30 = np.load('performance30.npy')\n",
    "np.mean(perform30[perform30>0.0]) "
   ]
  },
  {
   "cell_type": "markdown",
   "metadata": {},
   "source": [
    "### Performance 90 as test"
   ]
  },
  {
   "cell_type": "code",
   "execution_count": 78,
   "metadata": {},
   "outputs": [
    {
     "data": {
      "text/plain": [
       "-0.08001029071263185"
      ]
     },
     "execution_count": 78,
     "metadata": {},
     "output_type": "execute_result"
    }
   ],
   "source": [
    "perform90 = np.load('performance90_shuffle.npy')\n",
    "np.mean(perform90[perform30>0.3])"
   ]
  },
  {
   "cell_type": "code",
   "execution_count": 86,
   "metadata": {},
   "outputs": [
    {
     "data": {
      "text/plain": [
       "-0.1643655489809336"
      ]
     },
     "execution_count": 86,
     "metadata": {},
     "output_type": "execute_result"
    }
   ],
   "source": [
    "perform90 = np.load('performance90.npy')\n",
    "np.mean(perform90[perform30>0.3])"
   ]
  },
  {
   "cell_type": "markdown",
   "metadata": {},
   "source": [
    "## Behaviour \n",
    "Check best of PosNet and echo Net"
   ]
  },
  {
   "cell_type": "code",
   "execution_count": 40,
   "metadata": {},
   "outputs": [],
   "source": [
    "def performance_measure_fast(size, test_size,weight, limit_set = 4):\n",
    "    Pretest = PretrainTest(weight_write = weight)\n",
    "    Pretest.TestAllSizes(size_range = [size], limit_set = limit_set, test_size = test_size)\n",
    "    performance = Pretest.Performance[0]\n",
    "    print(performance)\n",
    "    return performance"
   ]
  },
  {
   "cell_type": "code",
   "execution_count": 55,
   "metadata": {},
   "outputs": [
    {
     "name": "stdout",
     "output_type": "stream",
     "text": [
      "1.0 -1\n",
      "-1 1.0\n"
     ]
    },
    {
     "data": {
      "image/png": "[encoded data removed]",
      "text/plain": [
       "<matplotlib.figure.Figure at 0x7f7cd69b0048>"
      ]
     },
     "metadata": {},
     "output_type": "display_data"
    },
    {
     "data": {
      "image/png": "[encoded data removed]",
      "text/plain": [
       "<matplotlib.figure.Figure at 0x7f7cd6c67160>"
      ]
     },
     "metadata": {},
     "output_type": "display_data"
    },
    {
     "data": {
      "image/png": "[encoded data removed]",
      "text/plain": [
       "<matplotlib.figure.Figure at 0x7f7ceb9f5b00>"
      ]
     },
     "metadata": {},
     "output_type": "display_data"
    }
   ],
   "source": [
    "torch.manual_seed(np.random.randint(1e5))\n",
    "hidden = torch.randn(1, 512)\n",
    "size = 10\n",
    "PC_traces = []\n",
    "start = (np.random.randint(2, size +2),  np.random.randint(2, size+2))\n",
    "for i in range(1):\n",
    "    weight ='weights2/rnn_1515tanh512_checkpoint270_0_9'\n",
    "    game = ValueMaxGame(grid_size = (size, size), holes = 0, random_seed = 4 , set_reward = [(0.5, 0.25), (0.5, 0.75)], input_type = 0, action_control = 1, discount = 0.9, alpha = 1, time_limit=8,\n",
    "                       lam = 0)\n",
    "    game.net.load_state_dict(torch.load(weight))\n",
    "    grid = game.grid.grid.copy()\n",
    "    Pos1, hidden1, dH1, Action, state1, reward1 = trajectory(game, start, reward_control = 0, size = size, test = size//10-1, init_hidden = False, hidden = hidden)\n",
    "    Pos2, hidden2, dH2, Action, state2, reward2 = trajectory(game, start, reward_control = 1, size = size, test = size//10-1, init_hidden = False, hidden = hidden)\n",
    "   \n",
    "    if i == 0:\n",
    "        plt.matshow(grid)\n",
    "#         y1 = np.array([p[0] for p in Pos1])\n",
    "#         x1 = np.array([p[1] for p in Pos1])\n",
    "        y2 = np.array([p[0] for p in Pos2])\n",
    "        x2 = np.array([p[1] for p in Pos2])\n",
    "\n",
    "        plt.plot(start[1], start[0], 'rs')\n",
    "#         plt.quiver(x1[:-1], y1[:-1], x1[1:]-x1[:-1], y1[1:]-y1[:-1], scale_units='xy', angles='xy', scale=1, color = 'm')\n",
    "        plt.quiver(x2[:-1], y2[:-1], x2[1:]-x2[:-1], y2[1:]-y2[:-1], scale_units='xy', angles='xy', scale=1, color = 'm')\n",
    "    # plt.quiver(x3[:-1], y3[:-1], x3[1:]-x3[:-1], y3[1:]-y3[:-1], scale_units='xy', angles='xy', scale=1, color = 'r')\n",
    "    # plt.quiver(x4[:-1], y4[:-1], x4[1:]-x4[:-1], y4[1:]-y4[:-1], scale_units='xy', angles='xy', scale=1, color = 'k')\n",
    "\n",
    "\n",
    "size = 90\n",
    "PC_traces = []\n",
    "start = (np.random.randint(2, size +2),  np.random.randint(2, size+2))\n",
    "for i in range(1):\n",
    "    weight ='weights2/rnn_1515tanh512_checkpoint270_2_9'\n",
    "    game = ValueMaxGame(grid_size = (size, size), holes = 0, random_seed = 4 , set_reward = [(0.5, 0.25), (0.5, 0.75)], input_type = 0, action_control = 1, discount = 0.9, alpha = 1, time_limit=8,\n",
    "                       lam = 0)\n",
    "    game.net.load_state_dict(torch.load(weight))\n",
    "    grid = game.grid.grid.copy()\n",
    "    Pos1, hidden1, dH1, Action, state1, reward1 = trajectory(game, start, reward_control = 0, size = size, test = size//10-1, init_hidden = False, hidden = hidden)\n",
    "    Pos2, hidden2, dH2, Action, state2, reward2 = trajectory(game, start, reward_control = 1, size = size, test = size//10-1, init_hidden = False, hidden = hidden)\n",
    "    print (reward1, reward2)\n",
    "    if i == 0:\n",
    "        plt.matshow(grid)\n",
    "        y1 = np.array([p[0] for p in Pos1])\n",
    "        x1 = np.array([p[1] for p in Pos1])\n",
    "        y2 = np.array([p[0] for p in Pos2])\n",
    "        x2 = np.array([p[1] for p in Pos2])\n",
    "\n",
    "        plt.plot(start[1], start[0], 'rs')\n",
    "        plt.quiver(x1[:-1], y1[:-1], x1[1:]-x1[:-1], y1[1:]-y1[:-1], scale_units='xy', angles='xy', scale=1, color = 'c')\n",
    "        plt.quiver(x2[:-1], y2[:-1], x2[1:]-x2[:-1], y2[1:]-y2[:-1], scale_units='xy', angles='xy', scale=1, color = 'm')\n",
    "\n",
    "size = 150\n",
    "PC_traces = []\n",
    "start = (np.random.randint(2, size +2),  np.random.randint(2, size+2))\n",
    "for i in range(1):\n",
    "    weight ='weights2/rnn_1515tanh512_checkpoint270_2_9'\n",
    "    game = ValueMaxGame(grid_size = (size, size), holes = 0, random_seed = 4 , set_reward = [(0.5, 0.25), (0.5, 0.75)], input_type = 0, action_control = 1, discount = 0.9, alpha = 1, time_limit=8,\n",
    "                       lam = 0)\n",
    "    game.net.load_state_dict(torch.load(weight))\n",
    "    grid = game.grid.grid.copy()\n",
    "    Pos1, hidden1, dH1, Action, state1, reward1 = trajectory(game, start, reward_control = 0, size = size, test = size//10-1, init_hidden = False, hidden = hidden)\n",
    "    Pos2, hidden2, dH2, Action, state2, reward2 = trajectory(game, start, reward_control = 1, size = size, test = size//10-1, init_hidden = False, hidden = hidden)\n",
    "    print (reward1, reward2)\n",
    "    if i == 0:\n",
    "        plt.matshow(grid)\n",
    "        y1 = np.array([p[0] for p in Pos1])\n",
    "        x1 = np.array([p[1] for p in Pos1])\n",
    "        y2 = np.array([p[0] for p in Pos2])\n",
    "        x2 = np.array([p[1] for p in Pos2])\n",
    "\n",
    "        plt.plot(start[1], start[0], 'rs')\n",
    "        plt.quiver(x1[:-1], y1[:-1], x1[1:]-x1[:-1], y1[1:]-y1[:-1], scale_units='xy', angles='xy', scale=1, color = 'c')\n",
    "        plt.quiver(x2[:-1], y2[:-1], x2[1:]-x2[:-1], y2[1:]-y2[:-1], scale_units='xy', angles='xy', scale=1, color = 'm')\n",
    "\n",
    "  \n"
   ]
  },
  {
   "cell_type": "code",
   "execution_count": 64,
   "metadata": {},
   "outputs": [
    {
     "name": "stdout",
     "output_type": "stream",
     "text": [
      "-0.338586410381\n"
     ]
    }
   ],
   "source": [
    "weight ='weights2/rnn_1515tanh512_checkpoint270_0_9'\n",
    "size = 90\n",
    "test_size = size//10-1\n",
    "perform =  performance_measure_fast(size, test_size, weight, limit_set = 4)"
   ]
  },
  {
   "cell_type": "code",
   "execution_count": 65,
   "metadata": {},
   "outputs": [
    {
     "name": "stdout",
     "output_type": "stream",
     "text": [
      "-0.326832522684\n"
     ]
    }
   ],
   "source": [
    "weight ='weights2/rnn_1515tanh512_checkpoint270_1_9'\n",
    "size = 90\n",
    "test_size = size//10-1\n",
    "perform =  performance_measure_fast(size, test_size, weight, limit_set = 4)"
   ]
  },
  {
   "cell_type": "code",
   "execution_count": 44,
   "metadata": {},
   "outputs": [
    {
     "name": "stdout",
     "output_type": "stream",
     "text": [
      "-0.285274294464\n"
     ]
    }
   ],
   "source": [
    "weight ='weights2/rnn_1515tanh512_checkpoint270_2_9'\n",
    "size = 90\n",
    "test_size = size//10-1\n",
    "perform =  performance_measure_fast(size, test_size, weight, limit_set = 4)"
   ]
  },
  {
   "cell_type": "code",
   "execution_count": 52,
   "metadata": {},
   "outputs": [
    {
     "name": "stdout",
     "output_type": "stream",
     "text": [
      "-1 1.0\n",
      "1.0 -1\n"
     ]
    },
    {
     "data": {
      "image/png": "[encoded data removed]",
      "text/plain": [
       "<matplotlib.figure.Figure at 0x7f7cdac36198>"
      ]
     },
     "metadata": {},
     "output_type": "display_data"
    },
    {
     "data": {
      "image/png": "[encoded data removed]",
      "text/plain": [
       "<matplotlib.figure.Figure at 0x7f7cf5db73c8>"
      ]
     },
     "metadata": {},
     "output_type": "display_data"
    },
    {
     "data": {
      "image/png": "[encoded data removed]",
      "text/plain": [
       "<matplotlib.figure.Figure at 0x7f7d70632c50>"
      ]
     },
     "metadata": {},
     "output_type": "display_data"
    }
   ],
   "source": [
    "torch.manual_seed(np.random.randint(1e5))\n",
    "hidden = torch.randn(1, 512)\n",
    "size = 10\n",
    "PC_traces = []\n",
    "start = (np.random.randint(2, size +2),  np.random.randint(2, size+2))\n",
    "for i in range(1):\n",
    "    weight ='weights2/rnn_1515tanh512_checkpoint204_2_2'\n",
    "    game = ValueMaxGame(grid_size = (size, size), holes = 0, random_seed = 4 , set_reward = [(0.5, 0.25), (0.5, 0.75)], input_type = 0, action_control = 1, discount = 0.9, alpha = 1, time_limit=8,\n",
    "                       lam = 0)\n",
    "    game.net.load_state_dict(torch.load(weight))\n",
    "    grid = game.grid.grid.copy()\n",
    "    Pos1, hidden1, dH1, Action, state1, reward1 = trajectory(game, start, reward_control = 0, size = size, test = size//10-1, init_hidden = False, hidden = hidden)\n",
    "    Pos2, hidden2, dH2, Action, state2, reward2 = trajectory(game, start, reward_control = 1, size = size, test = size//10-1, init_hidden = False, hidden = hidden)\n",
    "   \n",
    "    if i == 0:\n",
    "        plt.matshow(grid)\n",
    "#         y1 = np.array([p[0] for p in Pos1])\n",
    "#         x1 = np.array([p[1] for p in Pos1])\n",
    "        y2 = np.array([p[0] for p in Pos2])\n",
    "        x2 = np.array([p[1] for p in Pos2])\n",
    "\n",
    "        plt.plot(start[1], start[0], 'rs')\n",
    "#         plt.quiver(x1[:-1], y1[:-1], x1[1:]-x1[:-1], y1[1:]-y1[:-1], scale_units='xy', angles='xy', scale=1, color = 'm')\n",
    "        plt.quiver(x2[:-1], y2[:-1], x2[1:]-x2[:-1], y2[1:]-y2[:-1], scale_units='xy', angles='xy', scale=1, color = 'm')\n",
    "    # plt.quiver(x3[:-1], y3[:-1], x3[1:]-x3[:-1], y3[1:]-y3[:-1], scale_units='xy', angles='xy', scale=1, color = 'r')\n",
    "    # plt.quiver(x4[:-1], y4[:-1], x4[1:]-x4[:-1], y4[1:]-y4[:-1], scale_units='xy', angles='xy', scale=1, color = 'k')\n",
    "\n",
    "\n",
    "size = 90\n",
    "PC_traces = []\n",
    "start = (np.random.randint(2, size +2),  np.random.randint(2, size+2))\n",
    "for i in range(1):\n",
    "    weight ='weights2/rnn_1515tanh512_checkpoint204_2_2'\n",
    "    game = ValueMaxGame(grid_size = (size, size), holes = 0, random_seed = 4 , set_reward = [(0.5, 0.25), (0.5, 0.75)], input_type = 0, action_control = 1, discount = 0.9, alpha = 1, time_limit=8,\n",
    "                       lam = 0)\n",
    "    game.net.load_state_dict(torch.load(weight))\n",
    "    grid = game.grid.grid.copy()\n",
    "    Pos1, hidden1, dH1, Action, state1, reward1 = trajectory(game, start, reward_control = 0, size = size, test = size//10-1, init_hidden = False, hidden = hidden)\n",
    "    Pos2, hidden2, dH2, Action, state2, reward2 = trajectory(game, start, reward_control = 1, size = size, test = size//10-1, init_hidden = False, hidden = hidden)\n",
    "    print (reward1, reward2)\n",
    "    if i == 0:\n",
    "        plt.matshow(grid)\n",
    "        y1 = np.array([p[0] for p in Pos1])\n",
    "        x1 = np.array([p[1] for p in Pos1])\n",
    "        y2 = np.array([p[0] for p in Pos2])\n",
    "        x2 = np.array([p[1] for p in Pos2])\n",
    "\n",
    "        plt.plot(start[1], start[0], 'rs')\n",
    "        plt.quiver(x1[:-1], y1[:-1], x1[1:]-x1[:-1], y1[1:]-y1[:-1], scale_units='xy', angles='xy', scale=1, color = 'c')\n",
    "        plt.quiver(x2[:-1], y2[:-1], x2[1:]-x2[:-1], y2[1:]-y2[:-1], scale_units='xy', angles='xy', scale=1, color = 'm')\n",
    "\n",
    "size = 150\n",
    "PC_traces = []\n",
    "start = (np.random.randint(2, size +2),  np.random.randint(2, size+2))\n",
    "for i in range(1):\n",
    "    weight ='weights2/rnn_1515tanh512_checkpoint204_2_2'\n",
    "    game = ValueMaxGame(grid_size = (size, size), holes = 0, random_seed = 4 , set_reward = [(0.5, 0.25), (0.5, 0.75)], input_type = 0, action_control = 1, discount = 0.9, alpha = 1, time_limit=8,\n",
    "                       lam = 0)\n",
    "    game.net.load_state_dict(torch.load(weight))\n",
    "    grid = game.grid.grid.copy()\n",
    "    Pos1, hidden1, dH1, Action, state1, reward1 = trajectory(game, start, reward_control = 0, size = size, test = size//10-1, init_hidden = False, hidden = hidden)\n",
    "    Pos2, hidden2, dH2, Action, state2, reward2 = trajectory(game, start, reward_control = 1, size = size, test = size//10-1, init_hidden = False, hidden = hidden)\n",
    "    print (reward1, reward2)\n",
    "    if i == 0:\n",
    "        plt.matshow(grid)\n",
    "        y1 = np.array([p[0] for p in Pos1])\n",
    "        x1 = np.array([p[1] for p in Pos1])\n",
    "        y2 = np.array([p[0] for p in Pos2])\n",
    "        x2 = np.array([p[1] for p in Pos2])\n",
    "\n",
    "        plt.plot(start[1], start[0], 'rs')\n",
    "        plt.quiver(x1[:-1], y1[:-1], x1[1:]-x1[:-1], y1[1:]-y1[:-1], scale_units='xy', angles='xy', scale=1, color = 'c')\n",
    "        plt.quiver(x2[:-1], y2[:-1], x2[1:]-x2[:-1], y2[1:]-y2[:-1], scale_units='xy', angles='xy', scale=1, color = 'm')\n",
    "\n",
    "  \n"
   ]
  },
  {
   "cell_type": "code",
   "execution_count": 56,
   "metadata": {},
   "outputs": [
    {
     "name": "stdout",
     "output_type": "stream",
     "text": [
      "0.0870237392145\n"
     ]
    }
   ],
   "source": [
    "weight ='weights2/rnn_1515tanh512_checkpoint204_2_2'\n",
    "size = 90\n",
    "test_size = size//10-1\n",
    "perform =  performance_measure_fast(size, test_size, weight, limit_set = 4)"
   ]
  },
  {
   "cell_type": "code",
   "execution_count": 57,
   "metadata": {},
   "outputs": [
    {
     "name": "stdout",
     "output_type": "stream",
     "text": [
      "-0.174230570155\n"
     ]
    }
   ],
   "source": [
    "weight ='weights2/rnn_1515tanh512_checkpoint204_2_19'\n",
    "size = 90\n",
    "test_size = size//10-1\n",
    "perform =  performance_measure_fast(size, test_size, weight, limit_set = 4)"
   ]
  },
  {
   "cell_type": "code",
   "execution_count": 62,
   "metadata": {},
   "outputs": [
    {
     "name": "stdout",
     "output_type": "stream",
     "text": [
      "-0.393822076685\n"
     ]
    }
   ],
   "source": [
    "weight ='weights2/rnn_1515tanh512_checkpoint204_3_19'\n",
    "size = 90\n",
    "test_size = size//10-1\n",
    "perform =  performance_measure_fast(size, test_size, weight, limit_set = 4)"
   ]
  },
  {
   "cell_type": "code",
   "execution_count": 63,
   "metadata": {},
   "outputs": [
    {
     "name": "stdout",
     "output_type": "stream",
     "text": [
      "-0.4378698224852071\n"
     ]
    }
   ],
   "source": [
    "weight ='weights2/rnn_1515tanh512_checkpoint204_4_19'\n",
    "size = 90\n",
    "test_size = size//10-1\n",
    "perform =  performance_measure_fast(size, test_size, weight, limit_set = 4)"
   ]
  },
  {
   "cell_type": "code",
   "execution_count": 66,
   "metadata": {},
   "outputs": [
    {
     "name": "stdout",
     "output_type": "stream",
     "text": [
      "-0.151597734291\n"
     ]
    }
   ],
   "source": [
    "weight ='weights2/rnn_1515tanh512_checkpoint325_0_19'\n",
    "size = 90\n",
    "test_size = size//10-1\n",
    "perform =  performance_measure_fast(size, test_size, weight, limit_set = 4)"
   ]
  },
  {
   "cell_type": "code",
   "execution_count": 50,
   "metadata": {},
   "outputs": [
    {
     "name": "stdout",
     "output_type": "stream",
     "text": [
      "1.0 1.0\n",
      "-1 -1\n"
     ]
    },
    {
     "data": {
      "image/png": "[encoded data removed]",
      "text/plain": [
       "<matplotlib.figure.Figure at 0x7f7cfcb397f0>"
      ]
     },
     "metadata": {},
     "output_type": "display_data"
    },
    {
     "data": {
      "image/png": "[encoded data removed]",
      "text/plain": [
       "<matplotlib.figure.Figure at 0x7f7cd6c45a90>"
      ]
     },
     "metadata": {},
     "output_type": "display_data"
    },
    {
     "data": {
      "image/png": "[encoded data removed]",
      "text/plain": [
       "<matplotlib.figure.Figure at 0x7f7d706d6978>"
      ]
     },
     "metadata": {},
     "output_type": "display_data"
    }
   ],
   "source": [
    "torch.manual_seed(np.random.randint(1e5))\n",
    "hidden = torch.randn(1, 512)\n",
    "size = 10\n",
    "PC_traces = []\n",
    "start = (np.random.randint(2, size +2),  np.random.randint(2, size+2))\n",
    "for i in range(1):\n",
    "    weight ='weights2/rnn_1515tanh512_checkpoint0_0_19'\n",
    "    game = ValueMaxGame(grid_size = (size, size), holes = 0, random_seed = 4 , set_reward = [(0.5, 0.25), (0.5, 0.75)], input_type = 0, action_control = 1, discount = 0.9, alpha = 1, time_limit=8,\n",
    "                       lam = 0)\n",
    "    game.net.load_state_dict(torch.load(weight))\n",
    "    grid = game.grid.grid.copy()\n",
    "    Pos1, hidden1, dH1, Action, state1, reward1 = trajectory(game, start, reward_control = 0, size = size, test = size//10-1, init_hidden = False, hidden = hidden)\n",
    "    Pos2, hidden2, dH2, Action, state2, reward2 = trajectory(game, start, reward_control = 1, size = size, test = size//10-1, init_hidden = False, hidden = hidden)\n",
    "   \n",
    "    if i == 0:\n",
    "        plt.matshow(grid)\n",
    "#         y1 = np.array([p[0] for p in Pos1])\n",
    "#         x1 = np.array([p[1] for p in Pos1])\n",
    "        y2 = np.array([p[0] for p in Pos2])\n",
    "        x2 = np.array([p[1] for p in Pos2])\n",
    "\n",
    "        plt.plot(start[1], start[0], 'rs')\n",
    "#         plt.quiver(x1[:-1], y1[:-1], x1[1:]-x1[:-1], y1[1:]-y1[:-1], scale_units='xy', angles='xy', scale=1, color = 'm')\n",
    "        plt.quiver(x2[:-1], y2[:-1], x2[1:]-x2[:-1], y2[1:]-y2[:-1], scale_units='xy', angles='xy', scale=1, color = 'm')\n",
    "    # plt.quiver(x3[:-1], y3[:-1], x3[1:]-x3[:-1], y3[1:]-y3[:-1], scale_units='xy', angles='xy', scale=1, color = 'r')\n",
    "    # plt.quiver(x4[:-1], y4[:-1], x4[1:]-x4[:-1], y4[1:]-y4[:-1], scale_units='xy', angles='xy', scale=1, color = 'k')\n",
    "\n",
    "\n",
    "size = 90\n",
    "PC_traces = []\n",
    "start = (np.random.randint(2, size +2),  np.random.randint(2, size+2))\n",
    "for i in range(1):\n",
    "    weight ='weights2/rnn_1515tanh512_checkpoint0_0_19'\n",
    "    game = ValueMaxGame(grid_size = (size, size), holes = 0, random_seed = 4 , set_reward = [(0.5, 0.25), (0.5, 0.75)], input_type = 0, action_control = 1, discount = 0.9, alpha = 1, time_limit=8,\n",
    "                       lam = 0)\n",
    "    game.net.load_state_dict(torch.load(weight))\n",
    "    grid = game.grid.grid.copy()\n",
    "    Pos1, hidden1, dH1, Action, state1, reward1 = trajectory(game, start, reward_control = 0, size = size, test = size//10-1, init_hidden = False, hidden = hidden)\n",
    "    Pos2, hidden2, dH2, Action, state2, reward2 = trajectory(game, start, reward_control = 1, size = size, test = size//10-1, init_hidden = False, hidden = hidden)\n",
    "    print (reward1, reward2)\n",
    "    if i == 0:\n",
    "        plt.matshow(grid)\n",
    "        y1 = np.array([p[0] for p in Pos1])\n",
    "        x1 = np.array([p[1] for p in Pos1])\n",
    "        y2 = np.array([p[0] for p in Pos2])\n",
    "        x2 = np.array([p[1] for p in Pos2])\n",
    "\n",
    "        plt.plot(start[1], start[0], 'rs')\n",
    "        plt.quiver(x1[:-1], y1[:-1], x1[1:]-x1[:-1], y1[1:]-y1[:-1], scale_units='xy', angles='xy', scale=1, color = 'c')\n",
    "        plt.quiver(x2[:-1], y2[:-1], x2[1:]-x2[:-1], y2[1:]-y2[:-1], scale_units='xy', angles='xy', scale=1, color = 'm')\n",
    "    \n",
    "size = 150\n",
    "PC_traces = []\n",
    "start = (np.random.randint(2, size +2),  np.random.randint(2, size+2))\n",
    "for i in range(1):\n",
    "    weight ='weights2/rnn_1515tanh512_checkpoint0_0_19'\n",
    "    game = ValueMaxGame(grid_size = (size, size), holes = 0, random_seed = 4 , set_reward = [(0.5, 0.25), (0.5, 0.75)], input_type = 0, action_control = 1, discount = 0.9, alpha = 1, time_limit=8,\n",
    "                       lam = 0)\n",
    "    game.net.load_state_dict(torch.load(weight))\n",
    "    grid = game.grid.grid.copy()\n",
    "    Pos1, hidden1, dH1, Action, state1, reward1 = trajectory(game, start, reward_control = 0, size = size, test = size//10-1, init_hidden = False, hidden = hidden)\n",
    "    Pos2, hidden2, dH2, Action, state2, reward2 = trajectory(game, start, reward_control = 1, size = size, test = size//10-1, init_hidden = False, hidden = hidden)\n",
    "    print (reward1, reward2)\n",
    "    if i == 0:\n",
    "        plt.matshow(grid)\n",
    "        y1 = np.array([p[0] for p in Pos1])\n",
    "        x1 = np.array([p[1] for p in Pos1])\n",
    "        y2 = np.array([p[0] for p in Pos2])\n",
    "        x2 = np.array([p[1] for p in Pos2])\n",
    "\n",
    "        plt.plot(start[1], start[0], 'rs')\n",
    "        plt.quiver(x1[:-1], y1[:-1], x1[1:]-x1[:-1], y1[1:]-y1[:-1], scale_units='xy', angles='xy', scale=1, color = 'c')\n",
    "        plt.quiver(x2[:-1], y2[:-1], x2[1:]-x2[:-1], y2[1:]-y2[:-1], scale_units='xy', angles='xy', scale=1, color = 'm')"
   ]
  },
  {
   "cell_type": "code",
   "execution_count": 45,
   "metadata": {},
   "outputs": [
    {
     "name": "stdout",
     "output_type": "stream",
     "text": [
      "0.0859186713515\n"
     ]
    }
   ],
   "source": [
    "weight ='weights2/rnn_1515tanh512_checkpoint0_0_19'\n",
    "size = 90\n",
    "test_size = size//10-1\n",
    "perform =  performance_measure_fast(size, test_size, weight, limit_set = 4)"
   ]
  },
  {
   "cell_type": "code",
   "execution_count": 58,
   "metadata": {},
   "outputs": [
    {
     "name": "stdout",
     "output_type": "stream",
     "text": [
      "0.0750063909663\n"
     ]
    }
   ],
   "source": [
    "weight ='weights2/rnn_1515tanh512_checkpoint0_1_19'\n",
    "size = 90\n",
    "test_size = size//10-1\n",
    "perform =  performance_measure_fast(size, test_size, weight, limit_set = 4)"
   ]
  },
  {
   "cell_type": "code",
   "execution_count": 59,
   "metadata": {},
   "outputs": [
    {
     "name": "stdout",
     "output_type": "stream",
     "text": [
      "-0.271182105904\n"
     ]
    }
   ],
   "source": [
    "1weight ='weights2/rnn_1515tanh512_checkpoint0_2_19'\n",
    "size = 90\n",
    "test_size = size//10-1\n",
    "perform =  performance_measure_fast(size, test_size, weight, limit_set = 4)"
   ]
  },
  {
   "cell_type": "markdown",
   "metadata": {},
   "source": [
    "# Conclusion\n",
    "**Internal dynamics rather than decoding performance influences more the performance in uncertain enviroments**\n",
    "\n",
    "**Consider to think in global loops rather than separated system, thus the coupled dynamical system.  This system, which has its genome on its internal weights, will have quite different different pheno-types from the global loops,  richness of internal dynamics turns into extenable phenotypes which supports behaviours across scales.   The different types of attractors, fix point, limit cycle becomes substrate of strategy in different size rooms.  Thus generalization can be done until certain size, which offers complicate behaviour with a \"simple mind\"**\n",
    "\n",
    "**The triangle between decoding, dynamics and navigation should be like: 1, dynamics coded by internal weight is most fundamental, it gives rise to different representations(phenotypes).   2,  The relation between decoding and navigation are reciprocal. not random behaviour gives better enviromental prediction(complement the free energy principle) 2,  we should distinguish internal dynamics and global dynamics**"
   ]
  },
  {
   "cell_type": "code",
   "execution_count": null,
   "metadata": {},
   "outputs": [],
   "source": []
  }
 ],
 "metadata": {
  "anaconda-cloud": {},
  "kernelspec": {
   "display_name": "Python 3",
   "language": "python",
   "name": "python3"
  },
  "language_info": {
   "codemirror_mode": {
    "name": "ipython",
    "version": 3
   },
   "file_extension": ".py",
   "mimetype": "text/x-python",
   "name": "python",
   "nbconvert_exporter": "python",
   "pygments_lexer": "ipython3",
   "version": "3.6.2"
  },
  "latex_envs": {
   "LaTeX_envs_menu_present": true,
   "autoclose": false,
   "autocomplete": true,
   "bibliofile": "biblio.bib",
   "cite_by": "apalike",
   "current_citInitial": 1,
   "eqLabelWithNumbers": true,
   "eqNumInitial": 1,
   "hotkeys": {
    "equation": "Ctrl-E",
    "itemize": "Ctrl-I"
   },
   "labels_anchors": false,
   "latex_user_defs": false,
   "report_style_numbering": false,
   "user_envs_cfg": false
  },
  "toc": {
   "nav_menu": {},
   "number_sections": true,
   "sideBar": true,
   "skip_h1_title": false,
   "title_cell": "Table of Contents",
   "title_sidebar": "Contents",
   "toc_cell": true,
   "toc_position": {
    "height": "759px",
    "left": "0px",
    "right": "1228px",
    "top": "67px",
    "width": "212px"
   },
   "toc_section_display": "block",
   "toc_window_display": true
  },
  "varInspector": {
   "cols": {
    "lenName": 16,
    "lenType": 16,
    "lenVar": 40
   },
   "kernels_config": {
    "python": {
     "delete_cmd_postfix": "",
     "delete_cmd_prefix": "del ",
     "library": "var_list.py",
     "varRefreshCmd": "print(var_dic_list())"
    },
    "r": {
     "delete_cmd_postfix": ") ",
     "delete_cmd_prefix": "rm(",
     "library": "var_list.r",
     "varRefreshCmd": "cat(var_dic_list()) "
    }
   },
   "types_to_exclude": [
    "module",
    "function",
    "builtin_function_or_method",
    "instance",
    "_Feature"
   ],
   "window_display": false
  }
 },
 "nbformat": 4,
 "nbformat_minor": 2
}
