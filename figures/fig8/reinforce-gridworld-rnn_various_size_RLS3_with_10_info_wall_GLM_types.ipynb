{
 "cells": [
  {
   "cell_type": "markdown",
   "metadata": {
    "toc": "true"
   },
   "source": [
    "<h1>Table of Contents<span class=\"tocSkip\"></span></h1>\n",
    "<div class=\"toc\"><ul class=\"toc-item\"><li><span><a href=\"#quick-start\" data-toc-modified-id=\"quick-start-1\"><span class=\"toc-item-num\">1&nbsp;&nbsp;</span>quick start</a></span><ul class=\"toc-item\"><li><span><a href=\"#Resources\" data-toc-modified-id=\"Resources-1.1\"><span class=\"toc-item-num\">1.1&nbsp;&nbsp;</span>Resources</a></span></li></ul></li><li><span><a href=\"#FULL-MODEL\" data-toc-modified-id=\"FULL-MODEL-2\"><span class=\"toc-item-num\">2&nbsp;&nbsp;</span>FULL MODEL</a></span><ul class=\"toc-item\"><li><span><a href=\"#Packages\" data-toc-modified-id=\"Packages-2.1\"><span class=\"toc-item-num\">2.1&nbsp;&nbsp;</span>Packages</a></span><ul class=\"toc-item\"><li><span><a href=\"#Qnetwork\" data-toc-modified-id=\"Qnetwork-2.1.1\"><span class=\"toc-item-num\">2.1.1&nbsp;&nbsp;</span>Qnetwork</a></span></li></ul></li><li><span><a href=\"#POMDP-RNN-Game\" data-toc-modified-id=\"POMDP-RNN-Game-2.2\"><span class=\"toc-item-num\">2.2&nbsp;&nbsp;</span>POMDP RNN Game</a></span></li><li><span><a href=\"#Results\" data-toc-modified-id=\"Results-2.3\"><span class=\"toc-item-num\">2.3&nbsp;&nbsp;</span>Results</a></span><ul class=\"toc-item\"><li><span><a href=\"#Standard-setting：-grid-=--(3,7)，-holes-=-0\" data-toc-modified-id=\"Standard-setting：-grid-=--(3,7)，-holes-=-0-2.3.1\"><span class=\"toc-item-num\">2.3.1&nbsp;&nbsp;</span>Standard setting： grid =  (3,7)， holes = 0</a></span></li><li><span><a href=\"#Model-Tranining\" data-toc-modified-id=\"Model-Tranining-2.3.2\"><span class=\"toc-item-num\">2.3.2&nbsp;&nbsp;</span>Model Tranining</a></span></li><li><span><a href=\"#decoding-vs-performance\" data-toc-modified-id=\"decoding-vs-performance-2.3.3\"><span class=\"toc-item-num\">2.3.3&nbsp;&nbsp;</span>decoding vs performance</a></span></li><li><span><a href=\"#learning-rate-vs-performance\" data-toc-modified-id=\"learning-rate-vs-performance-2.3.4\"><span class=\"toc-item-num\">2.3.4&nbsp;&nbsp;</span>learning rate vs performance</a></span></li><li><span><a href=\"#Summary\" data-toc-modified-id=\"Summary-2.3.5\"><span class=\"toc-item-num\">2.3.5&nbsp;&nbsp;</span>Summary</a></span></li><li><span><a href=\"#Anlytic-part-,-check-the-behaviour-correspond-to-each-decoding-level-and-explain-why\" data-toc-modified-id=\"Anlytic-part-,-check-the-behaviour-correspond-to-each-decoding-level-and-explain-why-2.3.6\"><span class=\"toc-item-num\">2.3.6&nbsp;&nbsp;</span>Anlytic part , check the behaviour correspond to each decoding level and explain why</a></span></li></ul></li><li><span><a href=\"#PCA\" data-toc-modified-id=\"PCA-2.4\"><span class=\"toc-item-num\">2.4&nbsp;&nbsp;</span>PCA</a></span></li></ul></li></ul></div>"
   ]
  },
  {
   "cell_type": "markdown",
   "metadata": {},
   "source": [
    "# quick start "
   ]
  },
  {
   "cell_type": "markdown",
   "metadata": {},
   "source": [
    "**Check relation betweeen dynamics and generalization.   Hypothesis to make: generalization can only be understood in level of joint dynamical system, there is a clear link between the two**\n",
    "\n",
    "**Dynamnics determines generalization , not decoding , same decoding level can have very different dynamics , thus different generalization level.  Only when the dynamics of RNN forms object correspond to real relevant objects for game, the generalization can be good.   For instance , in a varying size game, you extend the size of game from 10 to 30, what will happen?  You can do a kind of dynamical programing , according to which wall you have seen and how many steps you have passed , you decide future action.    This can be achieved robustly by the dynamical system where fix points are correspond to walls**"
   ]
  },
  {
   "cell_type": "markdown",
   "metadata": {},
   "source": [
    "## Resources\n",
    "\n",
    "* [*The* Reinforcement learning book from Sutton & Barto](http://incompleteideas.net/sutton/book/the-book-2nd.html)\n",
    "* [The REINFORCE paper from Ronald J. Williams (1992)](http://www-anw.cs.umass.edu/~barto/courses/cs687/williams92simple.pdf)\n"
   ]
  },
  {
   "cell_type": "markdown",
   "metadata": {},
   "source": [
    "## Packages"
   ]
  },
  {
   "cell_type": "code",
   "execution_count": 47,
   "metadata": {},
   "outputs": [
    {
     "name": "stdout",
     "output_type": "stream",
     "text": [
      "The autoreload extension is already loaded. To reload it, use:\n",
      "  %reload_ext autoreload\n",
      "Populating the interactive namespace from numpy and matplotlib\n"
     ]
    }
   ],
   "source": [
    "%load_ext autoreload\n",
    "%autoreload 2\n",
    "\n",
    "import numpy as np\n",
    "from itertools import count\n",
    "import random\n",
    "\n",
    "import torch\n",
    "import torch.nn as nn\n",
    "import torch.nn.functional as F\n",
    "import torch.optim as optim\n",
    "import torch.autograd as autograd\n",
    "from torch.autograd import Variable\n",
    "from torch.nn import init\n",
    "from torch.nn import DataParallel\n",
    "from torch.utils.data import DataLoader\n",
    "\n",
    "import matplotlib.mlab as mlab\n",
    "import matplotlib.pyplot as plt\n",
    "import matplotlib.animation\n",
    "import seaborn as sns\n",
    "from IPython.display import HTML\n",
    "\n",
    "import pretrain\n",
    "from pretrain import *\n",
    "\n",
    "import navigation2\n",
    "from navigation2 import *\n",
    "\n",
    "import Nets \n",
    "from Nets import *\n",
    "\n",
    "import sklearn\n",
    "from sklearn.svm import SVC\n",
    "from sklearn.manifold import Isomap\n",
    "from sklearn.manifold import SpectralEmbedding\n",
    "from sklearn.manifold import TSNE\n",
    "from sklearn.linear_model import LinearRegression\n",
    "from sklearn.linear_model import Lasso\n",
    "from sklearn.metrics import r2_score\n",
    "from sklearn.model_selection import cross_validate\n",
    "from sklearn.model_selection import KFold\n",
    "\n",
    "import scipy\n",
    "from scipy.spatial import distance\n",
    "from scipy import signal\n",
    "\n",
    "from operator import itemgetter \n",
    "\n",
    "from collections import Counter \n",
    "from itertools import chain \n",
    "\n",
    "import GLM_cells\n",
    "from GLM_cells import *\n",
    "\n",
    "\n",
    "%pylab inline\n",
    "import warnings\n",
    "warnings.filterwarnings('ignore')"
   ]
  },
  {
   "cell_type": "markdown",
   "metadata": {},
   "source": [
    "For the liquid state approach to work, you need a lot of neurons as surplus or enough hidden to hidden connectivity to make it have an effect."
   ]
  },
  {
   "cell_type": "markdown",
   "metadata": {},
   "source": [
    "**What is the relation to head direction, this order kept in limit cycle**\n",
    "**Could we define the order parameter for behaviour and link it to dynamics?**"
   ]
  },
  {
   "cell_type": "markdown",
   "metadata": {},
   "source": [
    "# The GLM analysis of variance for different variables\n",
    "The features include x, y, sensory,  action, last click memory , last twice click memory, the last twice click has a very strong contribution to features, but it inludes the last one click. In a sense, the integrated memory is not equalling to memroy 1 plus memory2 "
   ]
  },
  {
   "cell_type": "code",
   "execution_count": 48,
   "metadata": {},
   "outputs": [],
   "source": [
    "# Put the stimulus memory(status) and action base for memory and navigation  \n",
    "def Transform(States, Poss, Hiddens, Actions, Context, history = False, size = 15):\n",
    "    # last click state\n",
    "    Borders = np.concatenate([State_transform(state, poss, size)[0] for state, poss in zip(States, Poss)])\n",
    "    Status = np.concatenate([State_transform(state, poss, size)[1] for state, poss in zip(States, Poss)])\n",
    "    Hiddens = np.concatenate(Hiddens)\n",
    "    Poss = np.concatenate(Poss)\n",
    "    Actions = np.concatenate(Actions)\n",
    "    Context = np.concatenate(Context)\n",
    "    # transform state to stim　\n",
    "    States = np.concatenate(States)\n",
    "    # transform status to memory\n",
    "    return Borders[Status>0], Poss[Status>0], Hiddens[Status>0], \\\n",
    "Actions[Status>0], Status[Status>0], Context[Status>0]\n",
    "\n",
    "# histroy memory of two \n",
    "def history_summary(Status):\n",
    "#     S = [p[0]  for s, p in zip(State, Poss)]\n",
    "    M = np.zeros((len(Status), 2))\n",
    "    m2 = 0\n",
    "    for i, (s1, s2) in enumerate(zip(Status[:-1], Status[1:])): \n",
    "        # if next clicks changes, then store this click as a memory value registed in m2  \n",
    "        if s2 != s1:\n",
    "            m2 = s1\n",
    "        # sore memory,  m0 as memory of stimulus, m1 as memory of second click    \n",
    "        M[i+1, 0] = s2\n",
    "        M[i+1, 1] = m2   \n",
    "#         print (s1)\n",
    "    return M  \n",
    "\n",
    "def Stage_transform(State):\n",
    "    S = np.cumsum([np.sum(s1 != s2) for (s1, s2) in zip(State[:-1], State[1:])] + [1]) \n",
    "    return S\n",
    "\n",
    "# transform to space section\n",
    "def wall_detection(pos, size):\n",
    "    if pos[0] == 2:\n",
    "        Stim = 1\n",
    "    elif pos[0] == 2 + size - 1:\n",
    "        Stim = 2\n",
    "    elif pos[1] == 2:\n",
    "        Stim = 3\n",
    "    elif pos[1] == 2 + size - 1:\n",
    "        Stim = 4\n",
    "    else:\n",
    "        Stim = 0 \n",
    "    return Stim \n",
    "\n",
    "# for the memory feature, a Msimple one is just the last click, a most complicate one should be click sequence     \n",
    "def State_transform(State, Poss, size):\n",
    "#     S = [p[0]  for s, p in zip(State, Poss)]\n",
    "    S = [wall_detection(pos, size) for pos in Poss]\n",
    "    Status = []\n",
    "    s1 = 0\n",
    "    for s in S: \n",
    "        if s != 0: \n",
    "            s1 = s\n",
    "#         print (s1)\n",
    "        Status.append(s1)\n",
    "    return S, Status\n",
    "# histroy memory of two \n",
    "def history_summary(Status):\n",
    "#     S = [p[0]  for s, p in zip(State, Poss)]\n",
    "    M = np.zeros((len(Status), 2))\n",
    "    m2 = 0\n",
    "    for i, (s1, s2) in enumerate(zip(Status[:-1], Status[1:])): \n",
    "        # if next clicks changes, then store this click as a memory value registed in m2  \n",
    "        if s2 != s1:\n",
    "            m2 = s1\n",
    "        # sore memory,  m0 as memory of stimulus, m1 as memory of second click    \n",
    "        M[i+1, 0] = s2\n",
    "        M[i+1, 1] = m2   \n",
    "#         print (s1)\n",
    "    return M"
   ]
  },
  {
   "cell_type": "code",
   "execution_count": 54,
   "metadata": {},
   "outputs": [],
   "source": [
    "def Feature_preprocessing(States, Poss, Hiddens, Actions, Context, size = 15):\n",
    "    States, Poss, Hiddens, Actions, Status, Context = Transform(States, Poss, Hiddens, \\\n",
    "                                                                        Actions, Context)\n",
    "    x =  Hiddens[:, :512]\n",
    "    z = (x - np.min(x))/(np.max(x) - np.min(x))\n",
    "    y = np.log(z/(1-z + 1e-3) + 1e-3)\n",
    "    A = np.array([np.eye(4)[a] for a in Actions]).reshape(-1, 4)\n",
    "    Y = np.array([(y - size/2.) for y in Poss[:, 0] -2]).reshape(-1, 1)\n",
    "    X = np.array([(x - size/2.) for x in Poss[:, 1] - 2]).reshape(-1, 1)\n",
    "    M = np.array([np.eye(5)[s] for s in Status]).reshape(-1, 5)\n",
    "    S = np.array([np.eye(5)[s] for s in States]).reshape(-1, 5)\n",
    "#     S = np.array(States).reshape(-1, 9)\n",
    "    C = np.array(Context).reshape(-1, 1)\n",
    "    # S_wall = np.array([np.eye(27)[s] for s in Stim_wall]).reshape(-1, 27)\n",
    "    Features = np.concatenate((A, Y, X, M, S, C), axis = 1)\n",
    "    Features_A = np.concatenate((Y, X, M, S, C), axis = 1)\n",
    "    Features_Y = np.concatenate((A, X, M, S, C), axis = 1)\n",
    "    Features_X = np.concatenate((A, Y, M, S, C), axis = 1)\n",
    "    Features_M = np.concatenate((A, Y, X, S, C), axis = 1)\n",
    "    Features_S = np.concatenate((A, Y, X, M, C), axis = 1)\n",
    "    Features_C = np.concatenate((A, Y, X, M, S), axis = 1)\n",
    "    return y, Features, Features_A, Features_Y, Features_X, Features_M, Features_S, Features_C\n",
    "\n",
    "def Feature_1_cell0(y, A, Y, X, M, S, C):\n",
    "    Matrix_encode = np.zeros((512, 6))\n",
    "    Clfs = []\n",
    "    for i, feature in enumerate([A, Y, X, M, S, C]):\n",
    "        clf = Lasso(alpha = 1e-3)\n",
    "        # featues to num neurons \n",
    "        clf.fit(feature, y)\n",
    "        y_pred = clf.predict(feature)\n",
    "        Clfs.append(clf.coef_)\n",
    "        for j in range(512):\n",
    "            Matrix_encode[j, i] = r2_score(y[:, j], y_pred[:, j]) #- r2_score(y[:, j], np.ones_like(y[:, j])* np.mean(y[:, j]))\n",
    "    return Matrix_encode, Clfs\n",
    "\n",
    "\n",
    "def Feature_1_cell(y, A, Y, X, M, S, C, size = 15):\n",
    "    # S_wall = np.array([np.eye(27)[s] for s in Stim_wall]).reshape(-1, 27)\n",
    "    Features = [A, Y, X, M, S, C]\n",
    "    Matrix_encode = np.zeros((512, 6))\n",
    "    #  features\n",
    "    Clfs = []\n",
    "    for i in range(6):\n",
    "        # neurons \n",
    "        clfs = []\n",
    "        index = i\n",
    "        # time x feature \n",
    "        features = Features[index].reshape(y.shape[0], -1)\n",
    "        for j in range(512):\n",
    "            # feature to 1 neuron\n",
    "            clf = Lasso(alpha = 1e-3)\n",
    "            clf.fit(features, y[:, j])\n",
    "            y_pred = clf.predict(features)\n",
    "            Matrix_encode[j, i] = r2_score(y[:, j] , y_pred[:])\n",
    "            clfs.append(clf.coef_)\n",
    "    Clfs.append(clfs)\n",
    "    return Matrix_encode, Clfs\n",
    "\n",
    "def Feature_1_cell_cv(y, A, Y, X, M, S, C, size = 15):\n",
    "    # S_wall = np.array([np.eye(27)[s] for s in Stim_wall]).reshape(-1, 27)\n",
    "    Features = [A, Y, X, M, S, C]\n",
    "    Matrix_encode_train = np.zeros((512, 6, 5))\n",
    "    Matrix_encode_test = np.zeros((512, 6, 5))\n",
    "    #  features\n",
    "    for i in range(6):\n",
    "        # neurons \n",
    "        index = i\n",
    "        # time x feature \n",
    "        features = Features[index].reshape(y.shape[0], -1)\n",
    "        for j in range(512):\n",
    "            # feature to 1 neuron\n",
    "            cv = KFold(5, random_state = 0) \n",
    "            clf = Lasso(alpha = 1e-3)\n",
    "            cv_scores = cross_validate(clf, features, y[:, j], cv=cv,\n",
    "                         scoring=('r2'),\n",
    "                         return_train_score = True)\n",
    "            Matrix_encode_train[j, i] = cv_scores['train_score']  \n",
    "            Matrix_encode_test[j, i] = cv_scores['test_score']  \n",
    "    return Matrix_encode_train, Matrix_encode_test\n",
    "\n",
    "def Feature_2_cell(y, A, Y, X, M, S, C, Matrix_encode, size = 15):\n",
    "    # S_wall = np.array([np.eye(27)[s] for s in Stim_wall]).reshape(-1, 27)\n",
    "    Features = [A, Y, X, M, S, C]\n",
    "    Features_select = np.argmax(Matrix_encode, axis = 1)\n",
    "    Matrix_encode = np.zeros((512, 6))\n",
    "    #  features\n",
    "    for i in range(6):\n",
    "        # neurons \n",
    "        for j in range(512):\n",
    "            # feature to 1 neuron\n",
    "            index = np.array([Features_select[j], i])\n",
    "            # time x feature \n",
    "            features = np.concatenate(itemgetter(*index)(Features), axis = 1).reshape(y.shape[0], -1)\n",
    "            clf = Lasso(alpha = 1e-3)\n",
    "            clf.fit(features, y[:, j])\n",
    "            y_pred = clf.predict(features)\n",
    "            Matrix_encode[j, i] = r2_score(y[:, j] , y_pred[:])\n",
    "    return Matrix_encode\n",
    "\n",
    "\n",
    "def Feature_2_cell_cv(y, A, Y, X, M, S, C, Matrix_encode, size = 15):\n",
    "    # S_wall = np.array([np.eye(27)[s] for s in Stim_wall]).reshape(-1, 27)\n",
    "    Features = [A, Y, X, M, S, C]\n",
    "    Features_select = np.argmax(Matrix_encode, axis = 1)\n",
    "    Matrix_encode_train = np.zeros((512, 6, 5))\n",
    "    Matrix_encode_test = np.zeros((512, 6, 5))\n",
    "    #  features\n",
    "    for i in range(6):\n",
    "        # neurons \n",
    "        for j in range(512):\n",
    "            # feature to 1 neuron\n",
    "            index = np.array([Features_select[j], i])\n",
    "            # time x feature \n",
    "            features = np.concatenate(itemgetter(*index)(Features), axis = 1).reshape(y.shape[0], -1)\n",
    "            clf = Lasso(alpha = 1e-3)\n",
    "            clf.fit(features, y[:, j])\n",
    "            cv = KFold(5, random_state = 0) \n",
    "            cv_scores = cross_validate(clf, features, y[:, j], cv=cv,\n",
    "                         scoring=('r2'),\n",
    "                         return_train_score = True)\n",
    "            Matrix_encode_train[j, i] = cv_scores['train_score']  \n",
    "            Matrix_encode_test[j, i] = cv_scores['test_score']   \n",
    "    return Matrix_encode_train, Matrix_encode_test\n",
    "\n",
    "\n",
    "\n",
    "def Feature_more(y, A, Y, X, M, S, C, Matrix_encodes, size = 15):\n",
    "    # S_wall = np.array([np.eye(27)[s] for s in Stim_wall]).reshape(-1, 27)\n",
    "    Features = [A, Y, X, M, S, C]\n",
    "    Matrix_encode = np.zeros((512, 6))\n",
    "    feature_selects = []\n",
    "    for matrix in Matrix_encodes:\n",
    "        feature_selects.append(np.argmax(matrix, axis = 1))\n",
    "    #  features\n",
    "    for i in range(6):\n",
    "        # neurons \n",
    "        for j in range(512):\n",
    "            # feature to 1 neuron\n",
    "            index = []\n",
    "            for k in range(len(Matrix_encodes)):\n",
    "                index.append(feature_selects[k][j])\n",
    "            index.append(i)\n",
    "            index = np.array(index)   \n",
    "            # time x feature \n",
    "            features = np.concatenate(itemgetter(*index)(Features), axis = 1).reshape(y.shape[0], -1)\n",
    "            clf = Lasso(alpha = 1e-3)\n",
    "            clf.fit(features, y[:, j])\n",
    "            y_pred = clf.predict(features)\n",
    "            Matrix_encode[j, i] = r2_score(y[:, j] , y_pred[:])\n",
    "    return Matrix_encode\n",
    "\n",
    "def Feature_more_cv(y, A, Y, X, M, S, C, Matrix_encodes, size = 15):\n",
    "    # S_wall = np.array([np.eye(27)[s] for s in Stim_wall]).reshape(-1, 27)\n",
    "    Features = [A, Y, X, M, S, C]\n",
    "    Matrix_encode_train = np.zeros((512, 6, 5))\n",
    "    Matrix_encode_test = np.zeros((512, 6, 5))\n",
    "    feature_selects = []\n",
    "    for matrix in Matrix_encodes:\n",
    "        feature_selects.append(np.argmax(matrix, axis = 1))\n",
    "    #  features\n",
    "    for i in range(6):\n",
    "        # neurons \n",
    "        for j in range(512):\n",
    "            # feature to 1 neuron\n",
    "            index = []\n",
    "            for k in range(len(Matrix_encodes)):\n",
    "                index.append(feature_selects[k][j])\n",
    "            index.append(i)\n",
    "            index = np.array(index)   \n",
    "            # time x feature \n",
    "            features = np.concatenate(itemgetter(*index)(Features), axis = 1).reshape(y.shape[0], -1)\n",
    "            clf = Lasso(alpha = 1e-3)\n",
    "            clf.fit(features, y[:, j])\n",
    "            cv = KFold(5, random_state = 0) \n",
    "            cv_scores = cross_validate(clf, features, y[:, j], cv=cv,\n",
    "                         scoring=('r2'),\n",
    "                         return_train_score = True)\n",
    "            Matrix_encode_train[j, i] = cv_scores['train_score']  \n",
    "            Matrix_encode_test[j, i] = cv_scores['test_score']    \n",
    "    return Matrix_encode_train, Matrix_encode_test"
   ]
  },
  {
   "cell_type": "code",
   "execution_count": 55,
   "metadata": {},
   "outputs": [],
   "source": [
    "# record sessions 100 for 2 different context, record the relevant variables \n",
    "def Data_record(weight, k_action = 1, epsilon = 0, size = 15, T = 200, seed_num = 1e3):\n",
    "    PC_traces = []\n",
    "    Hiddens = []\n",
    "    Poss = []\n",
    "    Actions = []\n",
    "    States = []\n",
    "    Context = []\n",
    "    for i in range(T):\n",
    "        torch.manual_seed(np.random.randint(seed_num))\n",
    "        hidden0 = torch.randn(1, 512)\n",
    "        c  = np.random.randint(2)\n",
    "        start = (np.random.randint(2, size +2),  np.random.randint(2, size+2))\n",
    "        game = ValueMaxGame(grid_size = (size, size), holes = 0, random_seed = 0 , set_reward = [(0.5, 0.25), (0.5, 0.75)], input_type = 0, discount = 0.9, alpha = 1\n",
    "                           ,lam = 0)\n",
    "        game.net.load_state_dict(torch.load(weight))\n",
    "        game.net.k_action = k_action \n",
    "        grid = game.grid.grid.copy()\n",
    "        Pos, hidden, dh, Action, State, reward = trajectory(game, start, reward_control = c, size = size, \\\n",
    "                                                                  test = 0, limit_set = 4, init_hidden = False, hidden = hidden0, epsilon = epsilon)\n",
    "        Hiddens.append(hidden)\n",
    "        Poss.append(Pos[1:])\n",
    "        Actions.append(Action)\n",
    "        States.append(State)\n",
    "        Context.append(c * np.ones(len(State)))\n",
    "    return States, Poss, Hiddens, Actions, Context"
   ]
  },
  {
   "cell_type": "markdown",
   "metadata": {},
   "source": [
    "## Echo Net"
   ]
  },
  {
   "cell_type": "code",
   "execution_count": 56,
   "metadata": {},
   "outputs": [],
   "source": [
    "# record sessions 500 for 2 different context, record the relevant variables \n",
    "weight ='weights_fix1/rnn_1515tanh512_checkpoint300_0_5'\n",
    "States1, Poss1, Hiddens1, Actions1, Context1 = Data_record(weight)\n",
    "y, F, A, Y, X, M, S, C = Feature_preprocessing(States1, Poss1, Hiddens1, Actions1, Context1)\n",
    "# Matrix_encode_echo, fs = Feature_1_cell0(y, A, Y, X, M, S, C)"
   ]
  },
  {
   "cell_type": "code",
   "execution_count": 57,
   "metadata": {},
   "outputs": [],
   "source": [
    "Matrix0_encode1_cv_train, Matrix0_encode1_cv_test  = Feature_1_cell_cv(y, A, Y, X, M, S, C)"
   ]
  },
  {
   "cell_type": "code",
   "execution_count": 58,
   "metadata": {},
   "outputs": [],
   "source": [
    "Matrix0_encode2_cv_train, Matrix0_encode2_cv_test  = Feature_2_cell_cv(y, A, Y, X, M, S, C, np.mean(Matrix0_encode1_cv_test, axis = 2))"
   ]
  },
  {
   "cell_type": "code",
   "execution_count": 59,
   "metadata": {},
   "outputs": [],
   "source": [
    "M1 = np.mean(Matrix0_encode1_cv_test, axis = 2)\n",
    "M2 = np.mean(Matrix0_encode2_cv_test, axis = 2)\n",
    "Matrix0_encode3_cv_train, Matrix0_encode3_cv_test = Feature_more_cv(y, A, Y, X, M, S, C, [M1, M2])\n",
    "M1 = np.mean(Matrix0_encode1_cv_test, axis = 2)\n",
    "M2 = np.mean(Matrix0_encode2_cv_test, axis = 2)\n",
    "M3 = np.mean(Matrix0_encode3_cv_test, axis = 2)\n",
    "Matrix0_encode4_cv_train, Matrix0_encode4_cv_test = Feature_more_cv(y, A, Y, X, M, S, C, [M1, M2, M3])\n",
    "M1 = np.mean(Matrix0_encode1_cv_test, axis = 2)\n",
    "M2 = np.mean(Matrix0_encode2_cv_test, axis = 2)\n",
    "M3 = np.mean(Matrix0_encode3_cv_test, axis = 2)\n",
    "M4 = np.mean(Matrix0_encode4_cv_test, axis = 2)\n",
    "Matrix0_encode5_cv_train, Matrix0_encode5_cv_test = Feature_more_cv(y, A, Y, X, M, S, C, [M1, M2, M3, M4])\n",
    "M1 = np.mean(Matrix0_encode1_cv_test, axis = 2)\n",
    "M2 = np.mean(Matrix0_encode2_cv_test, axis = 2)\n",
    "M3 = np.mean(Matrix0_encode3_cv_test, axis = 2)\n",
    "M4 = np.mean(Matrix0_encode4_cv_test, axis = 2)\n",
    "M5 = np.mean(Matrix0_encode5_cv_test, axis = 2)\n",
    "Matrix0_encode6_cv_train, Matrix0_encode6_cv_test = Feature_more_cv(y, A, Y, X, M, S, C, [M1, M2, M3, M4, M5])"
   ]
  },
  {
   "cell_type": "markdown",
   "metadata": {},
   "source": [
    "plt.hist(Matrix_encode.ravel())"
   ]
  },
  {
   "cell_type": "code",
   "execution_count": 31,
   "metadata": {},
   "outputs": [
    {
     "name": "stdout",
     "output_type": "stream",
     "text": [
      "0.2189291597428315 0.24342679087722635 0.24352467188316704 0.2435247285511726 0.2435247504427847 0.2435247452512104\n"
     ]
    },
    {
     "data": {
      "image/png": "[encoded data removed]",
      "text/plain": [
       "<matplotlib.figure.Figure at 0x7f99cd3e2a90>"
      ]
     },
     "metadata": {},
     "output_type": "display_data"
    },
    {
     "data": {
      "image/png": "[encoded data removed]",
      "text/plain": [
       "<matplotlib.figure.Figure at 0x7f99cd3e2278>"
      ]
     },
     "metadata": {},
     "output_type": "display_data"
    },
    {
     "data": {
      "image/png": "[encoded data removed]",
      "text/plain": [
       "<matplotlib.figure.Figure at 0x7f99ccca4748>"
      ]
     },
     "metadata": {},
     "output_type": "display_data"
    },
    {
     "data": {
      "image/png": "[encoded data removed]",
      "text/plain": [
       "<matplotlib.figure.Figure at 0x7f99ccaeb240>"
      ]
     },
     "metadata": {},
     "output_type": "display_data"
    },
    {
     "data": {
      "image/png": "[encoded data removed]",
      "text/plain": [
       "<matplotlib.figure.Figure at 0x7f99cd21bdd8>"
      ]
     },
     "metadata": {},
     "output_type": "display_data"
    },
    {
     "data": {
      "image/png": "[encoded data removed]",
      "text/plain": [
       "<matplotlib.figure.Figure at 0x7f99ccee06a0>"
      ]
     },
     "metadata": {},
     "output_type": "display_data"
    },
    {
     "data": {
      "image/png": "[encoded data removed]",
      "text/plain": [
       "<matplotlib.figure.Figure at 0x7f99cca5d198>"
      ]
     },
     "metadata": {},
     "output_type": "display_data"
    }
   ],
   "source": [
    "plt.hist(Matrix0_encode1_cv_test.ravel())\n",
    "plt.figure()\n",
    "plt.hist(Matrix0_encode2_cv_test.ravel())\n",
    "plt.figure()\n",
    "plt.hist(Matrix0_encode3_cv_test.ravel())\n",
    "plt.figure()\n",
    "plt.hist(Matrix0_encode4_cv_test.ravel())\n",
    "plt.figure()\n",
    "plt.hist(Matrix0_encode5_cv_test.ravel())\n",
    "plt.figure()\n",
    "plt.hist(Matrix0_encode6_cv_test.ravel())\n",
    "plt.figure()\n",
    "plt.hist(Matrix0_encode1_cv_test.ravel())\n",
    "print (np.mean(Matrix0_encode1_cv_test.ravel()), np.mean(Matrix0_encode2_cv_test.ravel()), np.mean(Matrix0_encode3_cv_test.ravel()),\n",
    "np.mean(Matrix0_encode4_cv_test.ravel()), np.mean(Matrix0_encode5_cv_test.ravel()), np.mean(Matrix0_encode6_cv_test.ravel()))"
   ]
  },
  {
   "cell_type": "code",
   "execution_count": 32,
   "metadata": {},
   "outputs": [],
   "source": [
    "np.save('Matrix0_encode1_cv_test', Matrix0_encode1_cv_test)\n",
    "np.save('Matrix0_encode2_cv_test', Matrix0_encode2_cv_test)\n",
    "np.save('Matrix0_encode3_cv_test', Matrix0_encode3_cv_test)\n",
    "np.save('Matrix0_encode4_cv_test', Matrix0_encode4_cv_test)\n",
    "np.save('Matrix0_encode5_cv_test', Matrix0_encode5_cv_test)\n",
    "np.save('Matrix0_encode6_cv_test', Matrix0_encode6_cv_test)"
   ]
  },
  {
   "cell_type": "code",
   "execution_count": 33,
   "metadata": {},
   "outputs": [],
   "source": [
    "Matrix0_encode1_cv_test = np.load('Matrix0_encode1_cv_test.npy')\n",
    "Matrix0_encode2_cv_test = np.load('Matrix0_encode2_cv_test.npy')\n",
    "Matrix0_encode3_cv_test = np.load('Matrix0_encode3_cv_test.npy')\n",
    "Matrix0_encode4_cv_test = np.load('Matrix0_encode4_cv_test.npy')\n",
    "Matrix0_encode5_cv_test = np.load('Matrix0_encode5_cv_test.npy')\n",
    "Matrix0_encode6_cv_test = np.load('Matrix0_encode6_cv_test.npy')"
   ]
  },
  {
   "cell_type": "code",
   "execution_count": 34,
   "metadata": {},
   "outputs": [
    {
     "data": {
      "text/plain": [
       "(array([ 39.,   0., 134.,   0.,  40.,   0., 131.,   0.,  12., 156.]),\n",
       " array([0. , 0.5, 1. , 1.5, 2. , 2.5, 3. , 3.5, 4. , 4.5, 5. ]),\n",
       " <a list of 10 Patch objects>)"
      ]
     },
     "execution_count": 34,
     "metadata": {},
     "output_type": "execute_result"
    },
    {
     "data": {
      "image/png": "[encoded data removed]",
      "text/plain": [
       "<matplotlib.figure.Figure at 0x7f99ccd34eb8>"
      ]
     },
     "metadata": {},
     "output_type": "display_data"
    }
   ],
   "source": [
    "plt.hist(np.argmax(np.mean(Matrix0_encode1_cv_test, axis = 2), axis = 1))\n"
   ]
  },
  {
   "cell_type": "code",
   "execution_count": 49,
   "metadata": {},
   "outputs": [
    {
     "name": "stdout",
     "output_type": "stream",
     "text": [
      "494\n"
     ]
    }
   ],
   "source": [
    "n = 5\n",
    "T = []\n",
    "Single = []\n",
    "Out = []\n",
    "Filter= []\n",
    "for i in range(512):\n",
    "    index_select1 = np.argmax(np.mean(Matrix0_encode1_cv_test, axis = 2)[i])\n",
    "    index_select2 = np.argmax(np.mean(Matrix0_encode2_cv_test, axis = 2)[i])\n",
    "#     print (Matrix0_encode1_cv_test[i, index_select1], Matrix0_encode2_cv_test[i, index_select2])\n",
    "    # difference\n",
    "    dif = (Matrix0_encode2_cv_test[i, index_select2] - Matrix0_encode1_cv_test[i, index_select1])\n",
    "    # std\n",
    "    var = np.std(dif)/np.sqrt(n - 1)\n",
    "    # t  \n",
    "    t = np.mean(dif)/var\n",
    "    T.append(t)\n",
    "    if t<=3.:\n",
    "        Single.append(index_select1)\n",
    "    if t>3.:\n",
    "        Filter.append(i)\n",
    "        Out.append((index_select1, index_select2))\n",
    "print (len(Single))\n",
    "n = 5\n",
    "T = []\n",
    "Duo = []\n",
    "Out2 = []\n",
    "Filter2 = []\n",
    "for i, index in zip(Filter, Out):\n",
    "    index_select2 = np.argmax(np.mean(Matrix0_encode2_cv_test, axis = 2)[i])\n",
    "    index_select3 = np.argmax(np.mean(Matrix0_encode3_cv_test, axis = 2)[i])\n",
    "#     print (Matrix0_encode1_cv_test[i, index_select1], Matrix0_encode2_cv_test[i, index_select2])\n",
    "    # difference\n",
    "    dif = (Matrix0_encode3_cv_test[i, index_select3] - Matrix0_encode2_cv_test[i, index_select2])\n",
    "    # std\n",
    "    var = np.std(dif)/np.sqrt(n - 1)\n",
    "    # t  \n",
    "    t = np.mean(dif)/var\n",
    "    T.append(t)\n",
    "    if t<=3:\n",
    "        Duo.append(index)\n",
    "    if t>3:\n",
    "        Filter2.append(i)\n",
    "        Out2.append((index[0], index[1], index_select3))\n",
    "        \n",
    "\n",
    "n = 5\n",
    "T = []\n",
    "Triple = []\n",
    "Out3 = []\n",
    "Filter3 = []\n",
    "for i, index in zip(Filter2, Out2):\n",
    "    index_select3 = np.argmax(np.mean(Matrix0_encode3_cv_test, axis = 2)[i])\n",
    "    index_select4 = np.argmax(np.mean(Matrix0_encode4_cv_test, axis = 2)[i])\n",
    "#     print (Matrix0_encode1_cv_test[i, index_select1], Matrix0_encode2_cv_test[i, index_select2])\n",
    "    # difference\n",
    "    dif = (Matrix0_encode4_cv_test[i, index_select4] - Matrix0_encode3_cv_test[i, index_select3])\n",
    "    # std\n",
    "    var = np.std(dif)/np.sqrt(n - 1)\n",
    "    # t  \n",
    "    t = np.mean(dif)/var\n",
    "    T.append(t)\n",
    "    if t<=3.:\n",
    "        Triple.append(index)\n",
    "    if t>3.:\n",
    "        Filter3.append(i)\n",
    "        Out3.append((index[0], index[1], index[2], index_select4))\n",
    "\n",
    "n = 5\n",
    "T = []\n",
    "Quadro = []\n",
    "Out4 = []\n",
    "Filter4 = []\n",
    "for i, index in zip(Filter3, Out3):\n",
    "    index_select4 = np.argmax(np.mean(Matrix0_encode4_cv_test, axis = 2)[i])\n",
    "    index_select5 = np.argmax(np.mean(Matrix0_encode5_cv_test, axis = 2)[i])\n",
    "#     print (Matrix0_encode1_cv_test[i, index_select1], Matrix0_encode2_cv_test[i, index_select2])\n",
    "    # difference\n",
    "    dif = (Matrix0_encode5_cv_test[i, index_select5] - Matrix0_encode4_cv_test[i, index_select4])\n",
    "    # std\n",
    "    var = np.std(dif)/np.sqrt(n - 1)\n",
    "    # t  \n",
    "    t = np.mean(dif)/var\n",
    "    T.append(t)\n",
    "    if t<=3.:\n",
    "        Quadro.append(index)\n",
    "    if t>3.:\n",
    "        Filter4.append(i)\n",
    "        Out4.append((index[0], index[1], index[2], index[3], index_select5))\n",
    "        \n",
    "        \n",
    "n = 5\n",
    "T = []\n",
    "Five = []\n",
    "Out5 = []\n",
    "Filter5 = []\n",
    "for i, index in zip(Filter4, Out4):\n",
    "    index_select5 = np.argmax(np.mean(Matrix0_encode5_cv_test, axis = 2)[i])\n",
    "    index_select6 = np.argmax(np.mean(Matrix0_encode6_cv_test, axis = 2)[i])\n",
    "#     print (Matrix_encode1_cv_test[i, index_select1], Matrix_encode2_cv_test[i, index_select2])\n",
    "    # difference\n",
    "    dif = (Matrix0_encode6_cv_test[i, index_select6] - Matrix0_encode5_cv_test[i, index_select5])\n",
    "    # std\n",
    "    var = np.std(dif)/np.sqrt(n - 1)\n",
    "    # t  \n",
    "    t = np.mean(dif)/var\n",
    "    T.append(t)\n",
    "    if t<=3.:\n",
    "        Five.append(index)\n",
    "    if t>3.:\n",
    "        Filter5.append(i)\n",
    "        Out5.append((index[0], index[1], index[2], index[3], index[4], index_select6))"
   ]
  },
  {
   "cell_type": "code",
   "execution_count": 53,
   "metadata": {},
   "outputs": [
    {
     "data": {
      "text/plain": [
       "494"
      ]
     },
     "execution_count": 53,
     "metadata": {},
     "output_type": "execute_result"
    }
   ],
   "source": [
    "len(Single)"
   ]
  },
  {
   "cell_type": "code",
   "execution_count": 50,
   "metadata": {},
   "outputs": [
    {
     "name": "stdout",
     "output_type": "stream",
     "text": [
      "[3. 3. 1. 2. 1. 1. 1. 1. 3. 2.] {(0, 0), (5, 5), (3, 3), (2, 1), (1, 5), (3, 4), (5, 1), (4, 1), (1, 1), (4, 0)}\n"
     ]
    },
    {
     "data": {
      "image/png": "[encoded data removed]",
      "text/plain": [
       "<matplotlib.figure.Figure at 0x7f99cc5c5eb8>"
      ]
     },
     "metadata": {},
     "output_type": "display_data"
    }
   ],
   "source": [
    "unique1, freq1 = np.unique(Single, return_counts = True)\n",
    "unique2, indice, inverse, freq2 = np.unique(Duo, return_counts = True, return_index = True, return_inverse = True)\n",
    "\n",
    "# freq = np.insert(freq, 1, 0)\n",
    "# freq\n",
    "len(freq1)\n",
    "ax = subplot(1, 1, 1)\n",
    "ax.spines['top'].set_visible(False)\n",
    "ax.spines['right'].set_visible(False)\n",
    "plt.bar(range(9), height = list(freq1) + list([5, 6, 1]), color = 'b')\n",
    "plt.yticks([0, 50, 100], size = 15)\n",
    "plt.xticks([0, 1, 2, 3, 4, 5, 6, 7, 8], ['A', 'Y', 'X', 'M', 'S', 'C', 'AS', 'XA', 'XY'], size = 15)\n",
    "num_s = np.zeros(len(set(list(Duo))))\n",
    "for i, s in enumerate(set(list(Duo))):\n",
    "#     print (s)\n",
    "    for d in Duo:\n",
    "#         print (d)\n",
    "#         print (d == s)\n",
    "        num_s[i] += int((d == s))\n",
    "\n",
    "print (num_s, set(list(Duo)))"
   ]
  },
  {
   "cell_type": "code",
   "execution_count": 43,
   "metadata": {},
   "outputs": [
    {
     "name": "stdout",
     "output_type": "stream",
     "text": [
      "(0, 0) 3\n",
      "(5, 5) 3\n",
      "(3, 3) 1\n",
      "(2, 1) 2\n",
      "(1, 5) 1\n",
      "(3, 4) 1\n",
      "(5, 1) 1\n",
      "(4, 1) 1\n",
      "(1, 1) 3\n",
      "(4, 0) 2\n"
     ]
    }
   ],
   "source": [
    "# Output = Counter(chain(*Duo)) \n",
    "Set = set(Duo)\n",
    "    \n",
    "dict_ = np.array(list(Set))\n",
    "Dict_ = {} \n",
    "for s in Set:\n",
    "\n",
    "    num =Duo.count((s[0], s[1]))\n",
    "    Dict_.update([(s, num)] )\n",
    "    print (s, num)\n",
    "# plt.bar(range(len(Dict_)), list(Dict_.values()), align='center')\n",
    "# plt.xticks(range(len(Dict_)), list(Dict_.keys()))\n",
    "\n"
   ]
  },
  {
   "cell_type": "code",
   "execution_count": 44,
   "metadata": {},
   "outputs": [],
   "source": [
    "Set = set(Triple)\n",
    "    \n",
    "dict_ = np.array(list(Set))\n",
    "Dict_ = {} \n",
    "for s in Set:\n",
    "\n",
    "    num =Duo.count((s[0], s[1]))\n",
    "    Dict_.update([(s, num)] )\n",
    "    print (s, num)\n",
    "# plt.bar(range(len(D"
   ]
  },
  {
   "cell_type": "markdown",
   "metadata": {},
   "source": [
    "for i in range(5):\n",
    "    index_select4 = np.argmax(np.mean(Matrix0_encode4_cv_test, axis = 2)[i])\n",
    "    index_select5 = np.argmax(np.mean(Matrix0_encode5_cv_test, axis = 2)[i])\n",
    "    dif = (Matrix0_encode4_cv_test[i, index_select4] - Matrix0_encode5_cv_test[i, index_select5])\n",
    "    print (Matrix0_encode4_cv_test[i, index_select4], Matrix0_encode5_cv_test[i, index_select5])\n",
    "    print (dif)\n",
    "    sign = (np.sign(dif))\n",
    "    print (sign)\n",
    "    rank =  (np.argsort(np.abs(dif)))\n",
    "    print (rank)\n",
    "    rank_sign = sign[rank] * rank\n",
    "    print (np.sum(rank_sign))"
   ]
  },
  {
   "cell_type": "code",
   "execution_count": 45,
   "metadata": {},
   "outputs": [
    {
     "data": {
      "text/plain": [
       "([<matplotlib.axis.XTick at 0x7f99cc8f0cc0>,\n",
       "  <matplotlib.axis.XTick at 0x7f99cc6f76a0>,\n",
       "  <matplotlib.axis.XTick at 0x7f99cc76f978>,\n",
       "  <matplotlib.axis.XTick at 0x7f99cc6b2630>,\n",
       "  <matplotlib.axis.XTick at 0x7f99cc6ba400>,\n",
       "  <matplotlib.axis.XTick at 0x7f99cc6baa90>],\n",
       " <a list of 6 Text xticklabel objects>)"
      ]
     },
     "execution_count": 45,
     "metadata": {},
     "output_type": "execute_result"
    },
    {
     "data": {
      "image/png": "[encoded data removed]",
      "text/plain": [
       "<matplotlib.figure.Figure at 0x7f99cc7b8e80>"
      ]
     },
     "metadata": {},
     "output_type": "display_data"
    }
   ],
   "source": [
    "ax = subplot(1, 1, 1)\n",
    "ax.spines['top'].set_visible(False)\n",
    "ax.spines['right'].set_visible(False)\n",
    "List = [len(Single), len(Duo), len(Triple), len(Quadro), len(Five), len(Out5)]\n",
    "plt.bar(range(6), height = List)\n",
    "plt.yticks([0, 50, 100, 150, 200], size = 15)\n",
    "plt.xticks([0, 1, 2, 3, 4, 5], [1, 2, 3, 4, 5, 6], size = 15)"
   ]
  },
  {
   "cell_type": "code",
   "execution_count": 46,
   "metadata": {},
   "outputs": [
    {
     "ename": "ValueError",
     "evalue": "shape mismatch: objects cannot be broadcast to a single shape",
     "output_type": "error",
     "traceback": [
      "\u001b[0;31m----\u001b[0m",
      "\u001b[0;31mValueError\u001b[0mTraceback (most recent call last)",
      "\u001b[0;32m<ipython-input-46-ad40fc50ac10>\u001b[0m in \u001b[0;36m<module>\u001b[0;34m()\u001b[0m\n\u001b[1;32m      6\u001b[0m \u001b[0max\u001b[0m\u001b[0;34m.\u001b[0m\u001b[0mspines\u001b[0m\u001b[0;34m[\u001b[0m\u001b[0;34m'top'\u001b[0m\u001b[0;34m]\u001b[0m\u001b[0;34m.\u001b[0m\u001b[0mset_visible\u001b[0m\u001b[0;34m(\u001b[0m\u001b[0;32mFalse\u001b[0m\u001b[0;34m)\u001b[0m\u001b[0;34m\u001b[0m\u001b[0m\n\u001b[1;32m      7\u001b[0m \u001b[0max\u001b[0m\u001b[0;34m.\u001b[0m\u001b[0mspines\u001b[0m\u001b[0;34m[\u001b[0m\u001b[0;34m'right'\u001b[0m\u001b[0;34m]\u001b[0m\u001b[0;34m.\u001b[0m\u001b[0mset_visible\u001b[0m\u001b[0;34m(\u001b[0m\u001b[0;32mFalse\u001b[0m\u001b[0;34m)\u001b[0m\u001b[0;34m\u001b[0m\u001b[0m\n\u001b[0;32m----> 8\u001b[0;31m \u001b[0mplt\u001b[0m\u001b[0;34m.\u001b[0m\u001b[0mbar\u001b[0m\u001b[0;34m(\u001b[0m\u001b[0mrange\u001b[0m\u001b[0;34m(\u001b[0m\u001b[0;36m6\u001b[0m\u001b[0;34m)\u001b[0m\u001b[0;34m,\u001b[0m \u001b[0mheight\u001b[0m \u001b[0;34m=\u001b[0m \u001b[0mfreq\u001b[0m\u001b[0;34m)\u001b[0m\u001b[0;34m\u001b[0m\u001b[0m\n\u001b[0m\u001b[1;32m      9\u001b[0m \u001b[0mplt\u001b[0m\u001b[0;34m.\u001b[0m\u001b[0myticks\u001b[0m\u001b[0;34m(\u001b[0m\u001b[0;34m[\u001b[0m\u001b[0;36m0\u001b[0m\u001b[0;34m,\u001b[0m \u001b[0;36m50\u001b[0m\u001b[0;34m,\u001b[0m \u001b[0;36m100\u001b[0m\u001b[0;34m]\u001b[0m\u001b[0;34m,\u001b[0m \u001b[0msize\u001b[0m \u001b[0;34m=\u001b[0m \u001b[0;36m15\u001b[0m\u001b[0;34m)\u001b[0m\u001b[0;34m\u001b[0m\u001b[0m\n\u001b[1;32m     10\u001b[0m \u001b[0mplt\u001b[0m\u001b[0;34m.\u001b[0m\u001b[0mxticks\u001b[0m\u001b[0;34m(\u001b[0m\u001b[0;34m[\u001b[0m\u001b[0;36m1\u001b[0m\u001b[0;34m,\u001b[0m \u001b[0;36m2\u001b[0m\u001b[0;34m,\u001b[0m \u001b[0;36m3\u001b[0m\u001b[0;34m,\u001b[0m \u001b[0;36m4\u001b[0m\u001b[0;34m,\u001b[0m \u001b[0;36m5\u001b[0m\u001b[0;34m,\u001b[0m \u001b[0;36m6\u001b[0m\u001b[0;34m]\u001b[0m\u001b[0;34m,\u001b[0m \u001b[0;34m[\u001b[0m\u001b[0;34m'A'\u001b[0m\u001b[0;34m,\u001b[0m \u001b[0;34m'Y'\u001b[0m\u001b[0;34m,\u001b[0m \u001b[0;34m'X'\u001b[0m\u001b[0;34m,\u001b[0m \u001b[0;34m'M'\u001b[0m\u001b[0;34m,\u001b[0m \u001b[0;34m'S'\u001b[0m\u001b[0;34m,\u001b[0m \u001b[0;34m'C'\u001b[0m\u001b[0;34m]\u001b[0m\u001b[0;34m,\u001b[0m \u001b[0msize\u001b[0m \u001b[0;34m=\u001b[0m \u001b[0;36m15\u001b[0m\u001b[0;34m)\u001b[0m\u001b[0;34m\u001b[0m\u001b[0m\n",
      "\u001b[0;32m~/anaconda3/lib/python3.6/site-packages/matplotlib/pyplot.py\u001b[0m in \u001b[0;36mbar\u001b[0;34m(*args, **kwargs)\u001b[0m\n\u001b[1;32m   2625\u001b[0m                       mplDeprecation)\n\u001b[1;32m   2626\u001b[0m     \u001b[0;32mtry\u001b[0m\u001b[0;34m:\u001b[0m\u001b[0;34m\u001b[0m\u001b[0m\n\u001b[0;32m-> 2627\u001b[0;31m         \u001b[0mret\u001b[0m \u001b[0;34m=\u001b[0m \u001b[0max\u001b[0m\u001b[0;34m.\u001b[0m\u001b[0mbar\u001b[0m\u001b[0;34m(\u001b[0m\u001b[0;34m*\u001b[0m\u001b[0margs\u001b[0m\u001b[0;34m,\u001b[0m \u001b[0;34m**\u001b[0m\u001b[0mkwargs\u001b[0m\u001b[0;34m)\u001b[0m\u001b[0;34m\u001b[0m\u001b[0m\n\u001b[0m\u001b[1;32m   2628\u001b[0m     \u001b[0;32mfinally\u001b[0m\u001b[0;34m:\u001b[0m\u001b[0;34m\u001b[0m\u001b[0m\n\u001b[1;32m   2629\u001b[0m         \u001b[0max\u001b[0m\u001b[0;34m.\u001b[0m\u001b[0m_hold\u001b[0m \u001b[0;34m=\u001b[0m \u001b[0mwashold\u001b[0m\u001b[0;34m\u001b[0m\u001b[0m\n",
      "\u001b[0;32m~/anaconda3/lib/python3.6/site-packages/matplotlib/__init__.py\u001b[0m in \u001b[0;36minner\u001b[0;34m(ax, *args, **kwargs)\u001b[0m\n\u001b[1;32m   1708\u001b[0m                     warnings.warn(msg % (label_namer, func.__name__),\n\u001b[1;32m   1709\u001b[0m                                   RuntimeWarning, stacklevel=2)\n\u001b[0;32m-> 1710\u001b[0;31m             \u001b[0;32mreturn\u001b[0m \u001b[0mfunc\u001b[0m\u001b[0;34m(\u001b[0m\u001b[0max\u001b[0m\u001b[0;34m,\u001b[0m \u001b[0;34m*\u001b[0m\u001b[0margs\u001b[0m\u001b[0;34m,\u001b[0m \u001b[0;34m**\u001b[0m\u001b[0mkwargs\u001b[0m\u001b[0;34m)\u001b[0m\u001b[0;34m\u001b[0m\u001b[0m\n\u001b[0m\u001b[1;32m   1711\u001b[0m         \u001b[0mpre_doc\u001b[0m \u001b[0;34m=\u001b[0m \u001b[0minner\u001b[0m\u001b[0;34m.\u001b[0m\u001b[0m__doc__\u001b[0m\u001b[0;34m\u001b[0m\u001b[0m\n\u001b[1;32m   1712\u001b[0m         \u001b[0;32mif\u001b[0m \u001b[0mpre_doc\u001b[0m \u001b[0;32mis\u001b[0m \u001b[0;32mNone\u001b[0m\u001b[0;34m:\u001b[0m\u001b[0;34m\u001b[0m\u001b[0m\n",
      "\u001b[0;32m~/anaconda3/lib/python3.6/site-packages/matplotlib/axes/_axes.py\u001b[0m in \u001b[0;36mbar\u001b[0;34m(self, *args, **kwargs)\u001b[0m\n\u001b[1;32m   2079\u001b[0m         x, height, width, y, linewidth = np.broadcast_arrays(\n\u001b[1;32m   2080\u001b[0m             \u001b[0;31m# Make args iterable too.\u001b[0m\u001b[0;34m\u001b[0m\u001b[0;34m\u001b[0m\u001b[0m\n\u001b[0;32m-> 2081\u001b[0;31m             np.atleast_1d(x), height, width, y, linewidth)\n\u001b[0m\u001b[1;32m   2082\u001b[0m \u001b[0;34m\u001b[0m\u001b[0m\n\u001b[1;32m   2083\u001b[0m         \u001b[0;32mif\u001b[0m \u001b[0morientation\u001b[0m \u001b[0;34m==\u001b[0m \u001b[0;34m'vertical'\u001b[0m\u001b[0;34m:\u001b[0m\u001b[0;34m\u001b[0m\u001b[0m\n",
      "\u001b[0;32m~/anaconda3/lib/python3.6/site-packages/numpy/lib/stride_tricks.py\u001b[0m in \u001b[0;36mbroadcast_arrays\u001b[0;34m(*args, **kwargs)\u001b[0m\n\u001b[1;32m    247\u001b[0m     \u001b[0margs\u001b[0m \u001b[0;34m=\u001b[0m \u001b[0;34m[\u001b[0m\u001b[0mnp\u001b[0m\u001b[0;34m.\u001b[0m\u001b[0marray\u001b[0m\u001b[0;34m(\u001b[0m\u001b[0m_m\u001b[0m\u001b[0;34m,\u001b[0m \u001b[0mcopy\u001b[0m\u001b[0;34m=\u001b[0m\u001b[0;32mFalse\u001b[0m\u001b[0;34m,\u001b[0m \u001b[0msubok\u001b[0m\u001b[0;34m=\u001b[0m\u001b[0msubok\u001b[0m\u001b[0;34m)\u001b[0m \u001b[0;32mfor\u001b[0m \u001b[0m_m\u001b[0m \u001b[0;32min\u001b[0m \u001b[0margs\u001b[0m\u001b[0;34m]\u001b[0m\u001b[0;34m\u001b[0m\u001b[0m\n\u001b[1;32m    248\u001b[0m \u001b[0;34m\u001b[0m\u001b[0m\n\u001b[0;32m--> 249\u001b[0;31m     \u001b[0mshape\u001b[0m \u001b[0;34m=\u001b[0m \u001b[0m_broadcast_shape\u001b[0m\u001b[0;34m(\u001b[0m\u001b[0;34m*\u001b[0m\u001b[0margs\u001b[0m\u001b[0;34m)\u001b[0m\u001b[0;34m\u001b[0m\u001b[0m\n\u001b[0m\u001b[1;32m    250\u001b[0m \u001b[0;34m\u001b[0m\u001b[0m\n\u001b[1;32m    251\u001b[0m     \u001b[0;32mif\u001b[0m \u001b[0mall\u001b[0m\u001b[0;34m(\u001b[0m\u001b[0marray\u001b[0m\u001b[0;34m.\u001b[0m\u001b[0mshape\u001b[0m \u001b[0;34m==\u001b[0m \u001b[0mshape\u001b[0m \u001b[0;32mfor\u001b[0m \u001b[0marray\u001b[0m \u001b[0;32min\u001b[0m \u001b[0margs\u001b[0m\u001b[0;34m)\u001b[0m\u001b[0;34m:\u001b[0m\u001b[0;34m\u001b[0m\u001b[0m\n",
      "\u001b[0;32m~/anaconda3/lib/python3.6/site-packages/numpy/lib/stride_tricks.py\u001b[0m in \u001b[0;36m_broadcast_shape\u001b[0;34m(*args)\u001b[0m\n\u001b[1;32m    182\u001b[0m     \u001b[0;31m# use the old-iterator because np.nditer does not handle size 0 arrays\u001b[0m\u001b[0;34m\u001b[0m\u001b[0;34m\u001b[0m\u001b[0m\n\u001b[1;32m    183\u001b[0m     \u001b[0;31m# consistently\u001b[0m\u001b[0;34m\u001b[0m\u001b[0;34m\u001b[0m\u001b[0m\n\u001b[0;32m--> 184\u001b[0;31m     \u001b[0mb\u001b[0m \u001b[0;34m=\u001b[0m \u001b[0mnp\u001b[0m\u001b[0;34m.\u001b[0m\u001b[0mbroadcast\u001b[0m\u001b[0;34m(\u001b[0m\u001b[0;34m*\u001b[0m\u001b[0margs\u001b[0m\u001b[0;34m[\u001b[0m\u001b[0;34m:\u001b[0m\u001b[0;36m32\u001b[0m\u001b[0;34m]\u001b[0m\u001b[0;34m)\u001b[0m\u001b[0;34m\u001b[0m\u001b[0m\n\u001b[0m\u001b[1;32m    185\u001b[0m     \u001b[0;31m# unfortunately, it cannot handle 32 or more arguments directly\u001b[0m\u001b[0;34m\u001b[0m\u001b[0;34m\u001b[0m\u001b[0m\n\u001b[1;32m    186\u001b[0m     \u001b[0;32mfor\u001b[0m \u001b[0mpos\u001b[0m \u001b[0;32min\u001b[0m \u001b[0mrange\u001b[0m\u001b[0;34m(\u001b[0m\u001b[0;36m32\u001b[0m\u001b[0;34m,\u001b[0m \u001b[0mlen\u001b[0m\u001b[0;34m(\u001b[0m\u001b[0margs\u001b[0m\u001b[0;34m)\u001b[0m\u001b[0;34m,\u001b[0m \u001b[0;36m31\u001b[0m\u001b[0;34m)\u001b[0m\u001b[0;34m:\u001b[0m\u001b[0;34m\u001b[0m\u001b[0m\n",
      "\u001b[0;31mValueError\u001b[0m: shape mismatch: objects cannot be broadcast to a single shape"
     ]
    },
    {
     "data": {
      "image/png": "[encoded data removed]",
      "text/plain": [
       "<matplotlib.figure.Figure at 0x7f99cc78afd0>"
      ]
     },
     "metadata": {},
     "output_type": "display_data"
    }
   ],
   "source": [
    "unique, freq = np.unique(Single, return_counts = True)\n",
    "unique, freq\n",
    "freq = np.insert(freq, 1, 0)\n",
    "freq\n",
    "ax = subplot(1, 1, 1)\n",
    "ax.spines['top'].set_visible(False)\n",
    "ax.spines['right'].set_visible(False)\n",
    "plt.bar(range(6), height = freq)\n",
    "plt.yticks([0, 50, 100], size = 15)\n",
    "plt.xticks([1, 2, 3, 4, 5, 6], ['A', 'Y', 'X', 'M', 'S', 'C'], size = 15)"
   ]
  },
  {
   "cell_type": "code",
   "execution_count": 39,
   "metadata": {},
   "outputs": [
    {
     "ename": "ValueError",
     "evalue": "all the input array dimensions except for the concatenation axis must match exactly",
     "output_type": "error",
     "traceback": [
      "\u001b[0;31m---------------------------------------------------------------------------\u001b[0m",
      "\u001b[0;31mValueError\u001b[0m                                Traceback (most recent call last)",
      "\u001b[0;32m<ipython-input-39-503c169e5d33>\u001b[0m in \u001b[0;36m<module>\u001b[0;34m()\u001b[0m\n\u001b[1;32m      5\u001b[0m \u001b[0mindex3\u001b[0m \u001b[0;34m=\u001b[0m \u001b[0mnp\u001b[0m\u001b[0;34m.\u001b[0m\u001b[0mwhere\u001b[0m\u001b[0;34m(\u001b[0m\u001b[0mM_dif\u001b[0m\u001b[0;34m>\u001b[0m\u001b[0;36m0.2\u001b[0m\u001b[0;34m)\u001b[0m\u001b[0;34m\u001b[0m\u001b[0m\n\u001b[1;32m      6\u001b[0m \u001b[0;31m# index_0[index[0]], Matrix_encode_2[M_dif>0.1], index[1]\u001b[0m\u001b[0;34m\u001b[0m\u001b[0;34m\u001b[0m\u001b[0m\n\u001b[0;32m----> 7\u001b[0;31m \u001b[0mType\u001b[0m \u001b[0;34m=\u001b[0m \u001b[0mnp\u001b[0m\u001b[0;34m.\u001b[0m\u001b[0mconcatenate\u001b[0m\u001b[0;34m(\u001b[0m\u001b[0;34m(\u001b[0m\u001b[0mindex_0\u001b[0m\u001b[0;34m[\u001b[0m\u001b[0mindex\u001b[0m\u001b[0;34m[\u001b[0m\u001b[0;36m0\u001b[0m\u001b[0;34m]\u001b[0m\u001b[0;34m]\u001b[0m\u001b[0;34m.\u001b[0m\u001b[0mreshape\u001b[0m\u001b[0;34m(\u001b[0m\u001b[0;34m-\u001b[0m\u001b[0;36m1\u001b[0m\u001b[0;34m,\u001b[0m \u001b[0;36m1\u001b[0m\u001b[0;34m)\u001b[0m\u001b[0;34m,\u001b[0m \u001b[0mindex2\u001b[0m\u001b[0;34m[\u001b[0m\u001b[0;36m1\u001b[0m\u001b[0;34m]\u001b[0m\u001b[0;34m.\u001b[0m\u001b[0mreshape\u001b[0m\u001b[0;34m(\u001b[0m\u001b[0;34m-\u001b[0m\u001b[0;36m1\u001b[0m\u001b[0;34m,\u001b[0m \u001b[0;36m1\u001b[0m\u001b[0;34m)\u001b[0m\u001b[0;34m,\u001b[0m \u001b[0mindex3\u001b[0m\u001b[0;34m[\u001b[0m\u001b[0;36m1\u001b[0m\u001b[0;34m]\u001b[0m\u001b[0;34m.\u001b[0m\u001b[0mreshape\u001b[0m\u001b[0;34m(\u001b[0m\u001b[0;34m-\u001b[0m\u001b[0;36m1\u001b[0m\u001b[0;34m,\u001b[0m \u001b[0;36m1\u001b[0m\u001b[0;34m)\u001b[0m\u001b[0;34m)\u001b[0m\u001b[0;34m,\u001b[0m \u001b[0maxis\u001b[0m \u001b[0;34m=\u001b[0m \u001b[0;36m1\u001b[0m\u001b[0;34m)\u001b[0m\u001b[0;34m\u001b[0m\u001b[0m\n\u001b[0m\u001b[1;32m      8\u001b[0m \u001b[0mdict_\u001b[0m \u001b[0;34m=\u001b[0m \u001b[0;34m{\u001b[0m\u001b[0;36m0\u001b[0m\u001b[0;34m:\u001b[0m \u001b[0;34m'A'\u001b[0m\u001b[0;34m,\u001b[0m \u001b[0;36m1\u001b[0m\u001b[0;34m:\u001b[0m\u001b[0;34m'Y'\u001b[0m\u001b[0;34m,\u001b[0m \u001b[0;36m2\u001b[0m\u001b[0;34m:\u001b[0m\u001b[0;34m'X'\u001b[0m\u001b[0;34m,\u001b[0m \u001b[0;36m3\u001b[0m\u001b[0;34m:\u001b[0m\u001b[0;34m'M'\u001b[0m\u001b[0;34m,\u001b[0m \u001b[0;36m4\u001b[0m\u001b[0;34m:\u001b[0m\u001b[0;34m'S'\u001b[0m\u001b[0;34m,\u001b[0m \u001b[0;36m5\u001b[0m\u001b[0;34m:\u001b[0m\u001b[0;34m'C'\u001b[0m\u001b[0;34m}\u001b[0m\u001b[0;34m\u001b[0m\u001b[0m\n\u001b[1;32m      9\u001b[0m \u001b[0mType_\u001b[0m \u001b[0;34m=\u001b[0m \u001b[0;34m[\u001b[0m\u001b[0;34m(\u001b[0m\u001b[0mdict_\u001b[0m\u001b[0;34m[\u001b[0m\u001b[0mtype_\u001b[0m\u001b[0;34m[\u001b[0m\u001b[0;36m0\u001b[0m\u001b[0;34m]\u001b[0m\u001b[0;34m]\u001b[0m\u001b[0;34m,\u001b[0m \u001b[0mdict_\u001b[0m\u001b[0;34m[\u001b[0m\u001b[0mtype_\u001b[0m\u001b[0;34m[\u001b[0m\u001b[0;36m1\u001b[0m\u001b[0;34m]\u001b[0m\u001b[0;34m]\u001b[0m\u001b[0;34m,\u001b[0m \u001b[0mdict_\u001b[0m\u001b[0;34m[\u001b[0m\u001b[0mtype_\u001b[0m\u001b[0;34m[\u001b[0m\u001b[0;36m2\u001b[0m\u001b[0;34m]\u001b[0m\u001b[0;34m]\u001b[0m\u001b[0;34m)\u001b[0m \u001b[0;32mfor\u001b[0m \u001b[0mtype_\u001b[0m \u001b[0;32min\u001b[0m \u001b[0mType\u001b[0m\u001b[0;34m]\u001b[0m\u001b[0;34m\u001b[0m\u001b[0m\n",
      "\u001b[0;31mValueError\u001b[0m: all the input array dimensions except for the concatenation axis must match exactly"
     ]
    }
   ],
   "source": [
    "M_dif = Matrix_encode2_echo - Matrix_encode_echo\n",
    "index2 = np.where(M_dif>0.2)\n",
    "\n",
    "M_dif = Matrix_encode3_echo - Matrix_encode2_echo\n",
    "index3 = np.where(M_dif>0.2)\n",
    "# index_0[index[0]], Matrix_encode_2[M_dif>0.1], index[1]\n",
    "Type = np.concatenate((index_0[index[0]].reshape(-1, 1), index2[1].reshape(-1, 1), index3[1].reshape(-1, 1)), axis = 1)\n",
    "dict_ = {0: 'A', 1:'Y', 2:'X', 3:'M', 4:'S', 5:'C'}\n",
    "Type_ = [(dict_[type_[0]], dict_[type_[1]], dict_[type_[2]]) for type_ in Type]\n",
    "Type_"
   ]
  },
  {
   "cell_type": "code",
   "execution_count": 50,
   "metadata": {},
   "outputs": [],
   "source": [
    "M_dif = Matrix_encode2 - Matrix_encode\n",
    "index = np.where(M_dif>0.1)\n",
    "# index_0[index[0]], Matrix_encode_2[M_dif>0.1], index[1]\n",
    "Type = np.concatenate((index_0[index[0]].reshape(-1, 1), index[1].reshape(-1, 1)), axis = 1)\n",
    "dict_ = {0: 'A', 1:'Y', 2:'X', 3:'M', 4:'S', 5:'C'}\n",
    "Type_ = [(dict_[type_[0]], dict_[type_[1]]) for type_ in Type]\n",
    "# Type_"
   ]
  },
  {
   "cell_type": "code",
   "execution_count": 8,
   "metadata": {},
   "outputs": [
    {
     "ename": "NameError",
     "evalue": "name 'Matrix_encode3' is not defined",
     "output_type": "error",
     "traceback": [
      "\u001b[0;31m---------------------------------------------------------------------------\u001b[0m",
      "\u001b[0;31mNameError\u001b[0m                                 Traceback (most recent call last)",
      "\u001b[0;32m<ipython-input-8-33af02a4c9b9>\u001b[0m in \u001b[0;36m<module>\u001b[0;34m()\u001b[0m\n\u001b[0;32m----> 1\u001b[0;31m \u001b[0mM_dif\u001b[0m \u001b[0;34m=\u001b[0m \u001b[0mMatrix_encode3\u001b[0m \u001b[0;34m-\u001b[0m \u001b[0mMatrix_encode2\u001b[0m\u001b[0;34m\u001b[0m\u001b[0m\n\u001b[0m\u001b[1;32m      2\u001b[0m \u001b[0mindex2\u001b[0m \u001b[0;34m=\u001b[0m \u001b[0mnp\u001b[0m\u001b[0;34m.\u001b[0m\u001b[0mwhere\u001b[0m\u001b[0;34m(\u001b[0m\u001b[0mM_dif\u001b[0m\u001b[0;34m>\u001b[0m\u001b[0;36m0.1\u001b[0m\u001b[0;34m)\u001b[0m\u001b[0;34m\u001b[0m\u001b[0m\n\u001b[1;32m      3\u001b[0m \u001b[0;31m# print (len(index2))\u001b[0m\u001b[0;34m\u001b[0m\u001b[0;34m\u001b[0m\u001b[0m\n\u001b[1;32m      4\u001b[0m \u001b[0;31m# index_0[index[0]], Matrix_encode_2[M_dif>0.1], index[1]\u001b[0m\u001b[0;34m\u001b[0m\u001b[0;34m\u001b[0m\u001b[0m\n\u001b[1;32m      5\u001b[0m \u001b[0mType\u001b[0m \u001b[0;34m=\u001b[0m \u001b[0mnp\u001b[0m\u001b[0;34m.\u001b[0m\u001b[0mconcatenate\u001b[0m\u001b[0;34m(\u001b[0m\u001b[0;34m(\u001b[0m\u001b[0mindex_0\u001b[0m\u001b[0;34m[\u001b[0m\u001b[0mindex\u001b[0m\u001b[0;34m[\u001b[0m\u001b[0;36m0\u001b[0m\u001b[0;34m]\u001b[0m\u001b[0;34m]\u001b[0m\u001b[0;34m.\u001b[0m\u001b[0mreshape\u001b[0m\u001b[0;34m(\u001b[0m\u001b[0;34m-\u001b[0m\u001b[0;36m1\u001b[0m\u001b[0;34m,\u001b[0m \u001b[0;36m1\u001b[0m\u001b[0;34m)\u001b[0m\u001b[0;34m,\u001b[0m \u001b[0mindex\u001b[0m\u001b[0;34m[\u001b[0m\u001b[0;36m1\u001b[0m\u001b[0;34m]\u001b[0m\u001b[0;34m.\u001b[0m\u001b[0mreshape\u001b[0m\u001b[0;34m(\u001b[0m\u001b[0;34m-\u001b[0m\u001b[0;36m1\u001b[0m\u001b[0;34m,\u001b[0m \u001b[0;36m1\u001b[0m\u001b[0;34m)\u001b[0m\u001b[0;34m,\u001b[0m \u001b[0mindex2\u001b[0m\u001b[0;34m[\u001b[0m\u001b[0;36m1\u001b[0m\u001b[0;34m]\u001b[0m\u001b[0;34m.\u001b[0m\u001b[0mreshape\u001b[0m\u001b[0;34m(\u001b[0m\u001b[0;34m-\u001b[0m\u001b[0;36m1\u001b[0m\u001b[0;34m,\u001b[0m \u001b[0;36m1\u001b[0m\u001b[0;34m)\u001b[0m\u001b[0;34m)\u001b[0m\u001b[0;34m,\u001b[0m \u001b[0maxis\u001b[0m \u001b[0;34m=\u001b[0m \u001b[0;36m1\u001b[0m\u001b[0;34m)\u001b[0m\u001b[0;34m\u001b[0m\u001b[0m\n",
      "\u001b[0;31mNameError\u001b[0m: name 'Matrix_encode3' is not defined"
     ]
    }
   ],
   "source": [
    "M_dif = Matrix_encode3 - Matrix_encode2\n",
    "index2 = np.where(M_dif>0.1)\n",
    "# print (len(index2))\n",
    "# index_0[index[0]], Matrix_encode_2[M_dif>0.1], index[1]\n",
    "Type = np.concatenate((index_0[index[0]].reshape(-1, 1), index[1].reshape(-1, 1), index2[1].reshape(-1, 1)), axis = 1)\n",
    "dict_ = {0: 'A', 1:'Y', 2:'X', 3:'M', 4:'S', 5:'C'}\n",
    "Type2_ = [(dict_[type_[0]], dict_[type_[1]],  dict_[type_[2]]) for type_ in Type]"
   ]
  },
  {
   "cell_type": "markdown",
   "metadata": {},
   "source": [
    "### Pretrain Net"
   ]
  },
  {
   "cell_type": "code",
   "execution_count": 32,
   "metadata": {},
   "outputs": [
    {
     "name": "stdout",
     "output_type": "stream",
     "text": [
      "(4332, 9) (4332, 2)\n"
     ]
    }
   ],
   "source": [
    "# record sessions 500 for 2 different context, record the relevant variables \n",
    "weight ='weights_fix/weights1/rnn_1515tanh512_checkpoint39_2_9'\n",
    "States1, Poss1, Hiddens1, Actions1, Context1 = Data_record(weight)\n",
    "y, A, Y, X, M, S, C = Feature_preprocessing(States1, Poss1, Hiddens1, Actions1, Context1)\n",
    "Matrix_encode1_cv_train, Matrix_encode1_cv_test  = Feature_1_cell_cv(y, A, Y, X, M, S, C)"
   ]
  },
  {
   "cell_type": "code",
   "execution_count": 39,
   "metadata": {},
   "outputs": [
    {
     "data": {
      "text/plain": [
       "0.09226096785125347"
      ]
     },
     "execution_count": 39,
     "metadata": {},
     "output_type": "execute_result"
    },
    {
     "data": {
      "image/png": "[encoded data removed]",
      "text/plain": [
       "<matplotlib.figure.Figure at 0x7f49f009a5c0>"
      ]
     },
     "metadata": {},
     "output_type": "display_data"
    }
   ],
   "source": [
    "plt.hist(Matrix_encode1_cv_train.ravel())\n",
    "np.mean(Matrix_encode1_cv_train.ravel())"
   ]
  },
  {
   "cell_type": "code",
   "execution_count": 40,
   "metadata": {},
   "outputs": [
    {
     "data": {
      "text/plain": [
       "0.07135714760294196"
      ]
     },
     "execution_count": 40,
     "metadata": {},
     "output_type": "execute_result"
    },
    {
     "data": {
      "image/png": "[encoded data removed]",
      "text/plain": [
       "<matplotlib.figure.Figure at 0x7f49e39a4f98>"
      ]
     },
     "metadata": {},
     "output_type": "display_data"
    }
   ],
   "source": [
    "plt.hist(Matrix_encode1_cv_test.ravel())\n",
    "np.mean(Matrix_encode1_cv_test.ravel())"
   ]
  },
  {
   "cell_type": "code",
   "execution_count": 41,
   "metadata": {},
   "outputs": [
    {
     "data": {
      "text/plain": [
       "(array([ 19.,   0.,   1.,   0., 348.,   0.,  93.,   0.,  39.,  12.]),\n",
       " array([0. , 0.5, 1. , 1.5, 2. , 2.5, 3. , 3.5, 4. , 4.5, 5. ]),\n",
       " <a list of 10 Patch objects>)"
      ]
     },
     "execution_count": 41,
     "metadata": {},
     "output_type": "execute_result"
    },
    {
     "data": {
      "image/png": "[encoded data removed]",
      "text/plain": [
       "<matplotlib.figure.Figure at 0x7f49f46d58d0>"
      ]
     },
     "metadata": {},
     "output_type": "display_data"
    }
   ],
   "source": [
    "plt.hist(np.argmax(np.mean(Matrix_encode1_cv_test, axis = 2), axis = 1))\n"
   ]
  },
  {
   "cell_type": "code",
   "execution_count": 33,
   "metadata": {},
   "outputs": [],
   "source": [
    "Matrix_encode2_cv_train, Matrix_encode2_cv_test  = Feature_2_cell_cv(y, A, Y, X, M, S, C, np.mean(Matrix_encode1_cv_test, axis = 2))"
   ]
  },
  {
   "cell_type": "code",
   "execution_count": 42,
   "metadata": {},
   "outputs": [
    {
     "data": {
      "text/plain": [
       "0.22384057687307077"
      ]
     },
     "execution_count": 42,
     "metadata": {},
     "output_type": "execute_result"
    },
    {
     "data": {
      "image/png": "[encoded data removed]",
      "text/plain": [
       "<matplotlib.figure.Figure at 0x7f49e3905908>"
      ]
     },
     "metadata": {},
     "output_type": "display_data"
    }
   ],
   "source": [
    "plt.hist(Matrix_encode2_cv_test.ravel())\n",
    "np.mean(Matrix_encode2_cv_test.ravel())"
   ]
  },
  {
   "cell_type": "code",
   "execution_count": 34,
   "metadata": {},
   "outputs": [],
   "source": [
    "M1 = np.mean(Matrix_encode1_cv_test, axis = 2)\n",
    "M2 = np.mean(Matrix_encode2_cv_test, axis = 2)\n",
    "Matrix_encode3_cv_train, Matrix_encode3_cv_test = Feature_more_cv(y, A, Y, X, M, S, C, [M1, M2])"
   ]
  },
  {
   "cell_type": "code",
   "execution_count": 43,
   "metadata": {},
   "outputs": [
    {
     "data": {
      "text/plain": [
       "0.2648143560305032"
      ]
     },
     "execution_count": 43,
     "metadata": {},
     "output_type": "execute_result"
    },
    {
     "data": {
      "image/png": "[encoded data removed]",
      "text/plain": [
       "<matplotlib.figure.Figure at 0x7f49e3bf9828>"
      ]
     },
     "metadata": {},
     "output_type": "display_data"
    }
   ],
   "source": [
    "plt.hist(Matrix_encode3_cv_test.ravel())\n",
    "np.mean(Matrix_encode3_cv_test.ravel())"
   ]
  },
  {
   "cell_type": "code",
   "execution_count": 35,
   "metadata": {},
   "outputs": [],
   "source": [
    "M1 = np.mean(Matrix_encode1_cv_test, axis = 2)\n",
    "M2 = np.mean(Matrix_encode2_cv_test, axis = 2)\n",
    "M3 = np.mean(Matrix_encode3_cv_test, axis = 2)\n",
    "Matrix_encode4_cv_train, Matrix_encode4_cv_test = Feature_more_cv(y, A, Y, X, M, S, C, [M1, M2, M3])"
   ]
  },
  {
   "cell_type": "code",
   "execution_count": 44,
   "metadata": {},
   "outputs": [
    {
     "data": {
      "text/plain": [
       "0.28734502859686584"
      ]
     },
     "execution_count": 44,
     "metadata": {},
     "output_type": "execute_result"
    },
    {
     "data": {
      "image/png": "[encoded data removed]",
      "text/plain": [
       "<matplotlib.figure.Figure at 0x7f49e3cb8470>"
      ]
     },
     "metadata": {},
     "output_type": "display_data"
    }
   ],
   "source": [
    "plt.hist(Matrix_encode4_cv_test.ravel())\n",
    "np.mean(Matrix_encode4_cv_test.ravel())"
   ]
  },
  {
   "cell_type": "code",
   "execution_count": 36,
   "metadata": {},
   "outputs": [],
   "source": [
    "M1 = np.mean(Matrix_encode1_cv_test, axis = 2)\n",
    "M2 = np.mean(Matrix_encode2_cv_test, axis = 2)\n",
    "M3 = np.mean(Matrix_encode3_cv_test, axis = 2)\n",
    "M4 = np.mean(Matrix_encode4_cv_test, axis = 2)\n",
    "Matrix_encode5_cv_train, Matrix_encode5_cv_test = Feature_more_cv(y, A, Y, X, M, S, C, [M1, M2, M3, M4])"
   ]
  },
  {
   "cell_type": "code",
   "execution_count": 37,
   "metadata": {},
   "outputs": [],
   "source": [
    "M1 = np.mean(Matrix_encode1_cv_test, axis = 2)\n",
    "M2 = np.mean(Matrix_encode2_cv_test, axis = 2)\n",
    "M3 = np.mean(Matrix_encode3_cv_test, axis = 2)\n",
    "M4 = np.mean(Matrix_encode4_cv_test, axis = 2)\n",
    "M5 = np.mean(Matrix_encode5_cv_test, axis = 2)\n",
    "Matrix_encode6_cv_train, Matrix_encode6_cv_test = Feature_more_cv(y, A, Y, X, M, S, C, [M1, M2, M3, M4, M5])"
   ]
  },
  {
   "cell_type": "code",
   "execution_count": 306,
   "metadata": {},
   "outputs": [],
   "source": [
    "np.save('Matrix_encode1_cv_test', Matrix_encode1_cv_test)\n",
    "np.save('Matrix_encode2_cv_test', Matrix_encode2_cv_test)\n",
    "np.save('Matrix_encode3_cv_test', Matrix_encode3_cv_test)\n",
    "np.save('Matrix_encode4_cv_test', Matrix_encode4_cv_test)\n",
    "np.save('Matrix_encode5_cv_test', Matrix_encode5_cv_test)\n",
    "np.save('Matrix_encode6_cv_test', Matrix_encode6_cv_test)"
   ]
  },
  {
   "cell_type": "code",
   "execution_count": 56,
   "metadata": {},
   "outputs": [],
   "source": [
    "Matrix_encode1_cv_test = np.load('Matrix_encode1_cv_test.npy')\n",
    "Matrix_encode2_cv_test = np.load('Matrix_encode2_cv_test.npy')\n",
    "Matrix_encode3_cv_test = np.load('Matrix_encode3_cv_test.npy')\n",
    "Matrix_encode4_cv_test = np.load('Matrix_encode4_cv_test.npy')\n",
    "Matrix_encode5_cv_test = np.load('Matrix_encode5_cv_test.npy')\n",
    "Matrix_encode6_cv_test = np.load('Matrix_encode6_cv_test.npy')"
   ]
  },
  {
   "cell_type": "code",
   "execution_count": 97,
   "metadata": {},
   "outputs": [
    {
     "name": "stdout",
     "output_type": "stream",
     "text": [
      "148\n"
     ]
    }
   ],
   "source": [
    "n = 5\n",
    "T = []\n",
    "Single = []\n",
    "Out = []\n",
    "Filter= []\n",
    "for i in range(512):\n",
    "    index_select1 = np.argmax(np.mean(Matrix_encode1_cv_test, axis = 2)[i])\n",
    "    index_select2 = np.argmax(np.mean(Matrix_encode2_cv_test, axis = 2)[i])\n",
    "#     print (Matrix_encode1_cv_test[i, index_select1], Matrix_encode2_cv_test[i, index_select2])\n",
    "    # difference\n",
    "    dif = (Matrix_encode2_cv_test[i, index_select2] - Matrix_encode1_cv_test[i, index_select1])\n",
    "    # std\n",
    "    var = np.std(dif)/np.sqrt(n - 1)\n",
    "    # t  \n",
    "    t = np.mean(dif)/var\n",
    "    T.append(t)\n",
    "    if t<=3.:\n",
    "        Single.append(index_select1)\n",
    "    if t>3.:\n",
    "        Filter.append(i)\n",
    "        Out.append((index_select1, index_select2))\n",
    "print (len(Single))\n",
    "\n",
    "n = 5\n",
    "T = []\n",
    "Duo = []\n",
    "Out2 = []\n",
    "Filter2 = []\n",
    "for i, index in zip(Filter, Out):\n",
    "    index_select2 = np.argmax(np.mean(Matrix_encode2_cv_test, axis = 2)[i])\n",
    "    index_select3 = np.argmax(np.mean(Matrix_encode3_cv_test, axis = 2)[i])\n",
    "#     print (Matrix_encode1_cv_test[i, index_select1], Matrix_encode2_cv_test[i, index_select2])\n",
    "    # difference\n",
    "    dif = (Matrix_encode3_cv_test[i, index_select3] - Matrix_encode2_cv_test[i, index_select2])\n",
    "    # std\n",
    "    var = np.std(dif)/np.sqrt(n - 1)\n",
    "    # t  \n",
    "    t = np.mean(dif)/var\n",
    "    T.append(t)\n",
    "    if t<=3:\n",
    "        Duo.append(index)\n",
    "    if t>3.:\n",
    "        Filter2.append(i)\n",
    "        Out2.append((index[0], index[1], index_select3))\n",
    "        \n",
    "\n",
    "n = 5\n",
    "T = []\n",
    "Triple = []\n",
    "Out3 = []\n",
    "Filter3 = []\n",
    "for i, index in zip(Filter2, Out2):\n",
    "    index_select3 = np.argmax(np.mean(Matrix_encode3_cv_test, axis = 2)[i])\n",
    "    index_select4 = np.argmax(np.mean(Matrix_encode4_cv_test, axis = 2)[i])\n",
    "#     print (Matrix_encode1_cv_test[i, index_select1], Matrix_encode2_cv_test[i, index_select2])\n",
    "    # difference\n",
    "    dif = (Matrix_encode4_cv_test[i, index_select4] - Matrix_encode3_cv_test[i, index_select3])\n",
    "    # std\n",
    "    var = np.std(dif)/np.sqrt(n - 1)\n",
    "    # t  \n",
    "    t = np.mean(dif)/var\n",
    "    T.append(t)\n",
    "    if t<=3.:\n",
    "        Triple.append(index)\n",
    "    if t>3.:\n",
    "        Filter3.append(i)\n",
    "        Out3.append((index[0], index[1], index[2], index_select4))\n",
    "\n",
    "n = 5\n",
    "T = []\n",
    "Quadro = []\n",
    "Out4 = []\n",
    "Filter4 = []\n",
    "for i, index in zip(Filter3, Out3):\n",
    "    index_select4 = np.argmax(np.mean(Matrix_encode4_cv_test, axis = 2)[i])\n",
    "    index_select5 = np.argmax(np.mean(Matrix_encode5_cv_test, axis = 2)[i])\n",
    "#     print (Matrix_encode1_cv_test[i, index_select1], Matrix_encode2_cv_test[i, index_select2])\n",
    "    # difference\n",
    "    dif = (Matrix_encode5_cv_test[i, index_select5] - Matrix_encode4_cv_test[i, index_select4])\n",
    "    # std\n",
    "    var = np.std(dif)/np.sqrt(n - 1)\n",
    "    # t  \n",
    "    t = np.mean(dif)/var\n",
    "    T.append(t)\n",
    "    if t<=3.:\n",
    "        Quadro.append(index)\n",
    "    if t>3.:\n",
    "        Filter4.append(i)\n",
    "        Out4.append((index[0], index[1], index[2], index[3], index_select5))\n",
    "        \n",
    "n = 5\n",
    "T = []\n",
    "Five = []\n",
    "Out5 = []\n",
    "Filter5 = []\n",
    "for i, index in zip(Filter4, Out4):\n",
    "    index_select5 = np.argmax(np.mean(Matrix_encode5_cv_test, axis = 2)[i])\n",
    "    index_select6 = np.argmax(np.mean(Matrix_encode6_cv_test, axis = 2)[i])\n",
    "#     print (Matrix_encode1_cv_test[i, index_select1], Matrix_encode2_cv_test[i, index_select2])\n",
    "    # difference\n",
    "    dif = (Matrix_encode6_cv_test[i, index_select6] - Matrix_encode5_cv_test[i, index_select5])\n",
    "    # std\n",
    "    var = np.std(dif)/np.sqrt(n - 1)\n",
    "    # t  \n",
    "    t = np.mean(dif)/var\n",
    "    T.append(t)\n",
    "    if t<=3.:\n",
    "        Five.append(index)\n",
    "    if t>3.:\n",
    "        Filter5.append(i)\n",
    "        Out5.append((index[0], index[1], index[2], index[3], index[4], index_select6))"
   ]
  },
  {
   "cell_type": "code",
   "execution_count": 58,
   "metadata": {},
   "outputs": [
    {
     "data": {
      "text/plain": [
       "([<matplotlib.axis.XTick at 0x7f40a15eea20>,\n",
       "  <matplotlib.axis.XTick at 0x7f40a16439e8>,\n",
       "  <matplotlib.axis.XTick at 0x7f40a1834eb8>,\n",
       "  <matplotlib.axis.XTick at 0x7f40a16c1160>,\n",
       "  <matplotlib.axis.XTick at 0x7f40a16c15c0>,\n",
       "  <matplotlib.axis.XTick at 0x7f40a16c1208>],\n",
       " <a list of 6 Text xticklabel objects>)"
      ]
     },
     "execution_count": 58,
     "metadata": {},
     "output_type": "execute_result"
    },
    {
     "data": {
      "image/png": "[encoded data removed]",
      "text/plain": [
       "<matplotlib.figure.Figure at 0x7f40a17a7668>"
      ]
     },
     "metadata": {},
     "output_type": "display_data"
    }
   ],
   "source": [
    "ax = subplot(1, 1, 1)\n",
    "ax.spines['top'].set_visible(False)\n",
    "ax.spines['right'].set_visible(False)\n",
    "List = [len(Single), len(Duo), len(Triple), len(Quadro), len(Five), len(Out5)]\n",
    "plt.bar(range(6), height = List)\n",
    "plt.yticks([0, 50, 100, 150, 200], size = 15)\n",
    "plt.xticks([0, 1, 2, 3, 4, 5], [1, 2, 3, 4, 5, 6], size = 15)"
   ]
  },
  {
   "cell_type": "code",
   "execution_count": 100,
   "metadata": {},
   "outputs": [
    {
     "name": "stdout",
     "output_type": "stream",
     "text": [
      "[ 1.  1.  1.  2.  2.  2.  4. 22. 31.  5.  1. 27.  8.  9. 19.  2.  1.] {(5, 1), (3, 2), (5, 4), (3, 0), (3, 1), (4, 0), (2, 1), (2, 0), (2, 3), (0, 4), (4, 3), (2, 4), (4, 2), (2, 5), (3, 4), (0, 2), (0, 3)}\n"
     ]
    },
    {
     "data": {
      "image/png": "[encoded data removed]",
      "text/plain": [
       "<matplotlib.figure.Figure at 0x7f40a139b320>"
      ]
     },
     "metadata": {},
     "output_type": "display_data"
    }
   ],
   "source": [
    "\n",
    "unique1, freq1 = np.unique(Single, return_counts = True)\n",
    "unique2, indice, inverse, freq2 = np.unique(Duo, return_counts = True, return_index = True, return_inverse = True)\n",
    "\n",
    "freq1 = np.insert(freq1, 1, 0)\n",
    "# freq\n",
    "len(freq1)\n",
    "ax = subplot(1, 1, 1)\n",
    "ax.spines['top'].set_visible(False)\n",
    "ax.spines['right'].set_visible(False)\n",
    "plt.bar(range(9), height = list(freq1) + list([2, 22, 4]), color = 'b')\n",
    "plt.yticks([0, 50, 100], size = 15)\n",
    "plt.xticks([0, 1, 2, 3, 4, 5, 6, 7, 8], ['A', 'Y', 'X', 'M', 'S', 'C', 'AS', 'XA', 'XY'], size = 15)\n",
    "num_s = np.zeros(len(set(list(Duo))))\n",
    "for i, s in enumerate(set(list(Duo))):\n",
    "#     print (s)\n",
    "    for d in Duo:\n",
    "#         print (d)\n",
    "#         print (d == s)\n",
    "        num_s[i] += int((d == s))\n",
    "\n",
    "print (num_s, set(list(Duo)))"
   ]
  },
  {
   "cell_type": "code",
   "execution_count": 255,
   "metadata": {},
   "outputs": [
    {
     "data": {
      "text/plain": [
       "<Container object of 5 artists>"
      ]
     },
     "execution_count": 255,
     "metadata": {},
     "output_type": "execute_result"
    },
    {
     "data": {
      "image/png": "[encoded data removed]",
      "text/plain": [
       "<matplotlib.figure.Figure at 0x7f49e1a1f7f0>"
      ]
     },
     "metadata": {},
     "output_type": "display_data"
    }
   ],
   "source": [
    "List = [len(set(Single)), len(set(Duo)), len(set(Triple)), len(set(Quadro)), len(set(Five))]\n",
    "plt.bar(range(5), height = List)"
   ]
  },
  {
   "cell_type": "code",
   "execution_count": 283,
   "metadata": {},
   "outputs": [
    {
     "name": "stdout",
     "output_type": "stream",
     "text": [
      "(5, 1) 1\n",
      "(3, 2) 1\n",
      "(5, 4) 1\n",
      "(3, 0) 2\n",
      "(3, 1) 2\n",
      "(4, 0) 2\n",
      "(2, 1) 4\n",
      "(2, 0) 22\n",
      "(2, 3) 31\n",
      "(0, 4) 5\n",
      "(4, 3) 1\n",
      "(2, 4) 27\n",
      "(4, 2) 8\n",
      "(2, 5) 9\n",
      "(3, 4) 19\n",
      "(0, 2) 2\n",
      "(0, 3) 1\n"
     ]
    }
   ],
   "source": [
    "# Output = Counter(chain(*Duo)) \n",
    "Set = set(Duo)\n",
    "    \n",
    "dict_ = np.array(list(Set))\n",
    "Dict_ = {} \n",
    "for s in Set:\n",
    "\n",
    "    num =Duo.count((s[0], s[1]))\n",
    "    Dict_.update([(s, num)] )\n",
    "    print (s, num)"
   ]
  },
  {
   "cell_type": "code",
   "execution_count": null,
   "metadata": {},
   "outputs": [],
   "source": []
  }
 ],
 "metadata": {
  "anaconda-cloud": {},
  "kernelspec": {
   "display_name": "Python 3",
   "language": "python",
   "name": "python3"
  },
  "language_info": {
   "codemirror_mode": {
    "name": "ipython",
    "version": 3
   },
   "file_extension": ".py",
   "mimetype": "text/x-python",
   "name": "python",
   "nbconvert_exporter": "python",
   "pygments_lexer": "ipython3",
   "version": "3.6.3"
  },
  "latex_envs": {
   "LaTeX_envs_menu_present": true,
   "autoclose": false,
   "autocomplete": true,
   "bibliofile": "biblio.bib",
   "cite_by": "apalike",
   "current_citInitial": 1,
   "eqLabelWithNumbers": true,
   "eqNumInitial": 1,
   "hotkeys": {
    "equation": "Ctrl-E",
    "itemize": "Ctrl-I"
   },
   "labels_anchors": false,
   "latex_user_defs": false,
   "report_style_numbering": false,
   "user_envs_cfg": false
  },
  "toc": {
   "nav_menu": {},
   "number_sections": true,
   "sideBar": true,
   "skip_h1_title": false,
   "title_cell": "Table of Contents",
   "title_sidebar": "Contents",
   "toc_cell": true,
   "toc_position": {
    "height": "759px",
    "left": "0px",
    "right": "1228px",
    "top": "67px",
    "width": "212px"
   },
   "toc_section_display": "block",
   "toc_window_display": true
  },
  "varInspector": {
   "cols": {
    "lenName": 16,
    "lenType": 16,
    "lenVar": 40
   },
   "kernels_config": {
    "python": {
     "delete_cmd_postfix": "",
     "delete_cmd_prefix": "del ",
     "library": "var_list.py",
     "varRefreshCmd": "print(var_dic_list())"
    },
    "r": {
     "delete_cmd_postfix": ") ",
     "delete_cmd_prefix": "rm(",
     "library": "var_list.r",
     "varRefreshCmd": "cat(var_dic_list()) "
    }
   },
   "types_to_exclude": [
    "module",
    "function",
    "builtin_function_or_method",
    "instance",
    "_Feature"
   ],
   "window_display": false
  }
 },
 "nbformat": 4,
 "nbformat_minor": 2
}
