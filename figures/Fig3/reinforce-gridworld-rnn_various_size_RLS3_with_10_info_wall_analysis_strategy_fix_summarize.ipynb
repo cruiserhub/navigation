{
 "cells": [
  {
   "cell_type": "markdown",
   "metadata": {
    "toc": "true"
   },
   "source": [
    "<h1>Table of Contents<span class=\"tocSkip\"></span></h1>\n",
    "<div class=\"toc\"><ul class=\"toc-item\"><li><span><a href=\"#quick-start\" data-toc-modified-id=\"quick-start-1\"><span class=\"toc-item-num\">1&nbsp;&nbsp;</span>quick start</a></span><ul class=\"toc-item\"><li><span><a href=\"#Resources\" data-toc-modified-id=\"Resources-1.1\"><span class=\"toc-item-num\">1.1&nbsp;&nbsp;</span>Resources</a></span></li></ul></li><li><span><a href=\"#FULL-MODEL\" data-toc-modified-id=\"FULL-MODEL-2\"><span class=\"toc-item-num\">2&nbsp;&nbsp;</span>FULL MODEL</a></span><ul class=\"toc-item\"><li><span><a href=\"#Packages\" data-toc-modified-id=\"Packages-2.1\"><span class=\"toc-item-num\">2.1&nbsp;&nbsp;</span>Packages</a></span><ul class=\"toc-item\"><li><span><a href=\"#Qnetwork\" data-toc-modified-id=\"Qnetwork-2.1.1\"><span class=\"toc-item-num\">2.1.1&nbsp;&nbsp;</span>Qnetwork</a></span></li></ul></li><li><span><a href=\"#POMDP-RNN-Game\" data-toc-modified-id=\"POMDP-RNN-Game-2.2\"><span class=\"toc-item-num\">2.2&nbsp;&nbsp;</span>POMDP RNN Game</a></span></li><li><span><a href=\"#Results\" data-toc-modified-id=\"Results-2.3\"><span class=\"toc-item-num\">2.3&nbsp;&nbsp;</span>Results</a></span><ul class=\"toc-item\"><li><span><a href=\"#Standard-setting：-grid-=--(3,7)，-holes-=-0\" data-toc-modified-id=\"Standard-setting：-grid-=--(3,7)，-holes-=-0-2.3.1\"><span class=\"toc-item-num\">2.3.1&nbsp;&nbsp;</span>Standard setting： grid =  (3,7)， holes = 0</a></span></li><li><span><a href=\"#Model-Tranining\" data-toc-modified-id=\"Model-Tranining-2.3.2\"><span class=\"toc-item-num\">2.3.2&nbsp;&nbsp;</span>Model Tranining</a></span></li><li><span><a href=\"#decoding-vs-performance\" data-toc-modified-id=\"decoding-vs-performance-2.3.3\"><span class=\"toc-item-num\">2.3.3&nbsp;&nbsp;</span>decoding vs performance</a></span></li><li><span><a href=\"#learning-rate-vs-performance\" data-toc-modified-id=\"learning-rate-vs-performance-2.3.4\"><span class=\"toc-item-num\">2.3.4&nbsp;&nbsp;</span>learning rate vs performance</a></span></li><li><span><a href=\"#Summary\" data-toc-modified-id=\"Summary-2.3.5\"><span class=\"toc-item-num\">2.3.5&nbsp;&nbsp;</span>Summary</a></span></li><li><span><a href=\"#Anlytic-part-,-check-the-behaviour-correspond-to-each-decoding-level-and-explain-why\" data-toc-modified-id=\"Anlytic-part-,-check-the-behaviour-correspond-to-each-decoding-level-and-explain-why-2.3.6\"><span class=\"toc-item-num\">2.3.6&nbsp;&nbsp;</span>Anlytic part , check the behaviour correspond to each decoding level and explain why</a></span></li></ul></li><li><span><a href=\"#PCA\" data-toc-modified-id=\"PCA-2.4\"><span class=\"toc-item-num\">2.4&nbsp;&nbsp;</span>PCA</a></span></li></ul></li></ul></div>"
   ]
  },
  {
   "cell_type": "markdown",
   "metadata": {},
   "source": [
    "# quick start "
   ]
  },
  {
   "cell_type": "markdown",
   "metadata": {},
   "source": [
    "Test what is the decoding change for single size training "
   ]
  },
  {
   "cell_type": "markdown",
   "metadata": {},
   "source": [
    "## Resources\n",
    "\n",
    "* [*The* Reinforcement learning book from Sutton & Barto](http://incompleteideas.net/sutton/book/the-book-2nd.html)\n",
    "* [The REINFORCE paper from Ronald J. Williams (1992)](http://www-anw.cs.umass.edu/~barto/courses/cs687/williams92simple.pdf)\n"
   ]
  },
  {
   "cell_type": "markdown",
   "metadata": {},
   "source": [
    "# FULL MODEL"
   ]
  },
  {
   "cell_type": "markdown",
   "metadata": {},
   "source": [
    "## Packages"
   ]
  },
  {
   "cell_type": "code",
   "execution_count": 1,
   "metadata": {},
   "outputs": [
    {
     "name": "stdout",
     "output_type": "stream",
     "text": [
      "Populating the interactive namespace from numpy and matplotlib\n"
     ]
    },
    {
     "name": "stderr",
     "output_type": "stream",
     "text": [
      "/home/tie/anaconda3/lib/python3.6/site-packages/IPython/core/magics/pylab.py:160: UserWarning: pylab import has clobbered these variables: ['random']\n",
      "`%matplotlib` prevents importing * from pylab and numpy\n",
      "  \"\\n`%matplotlib` prevents importing * from pylab and numpy\"\n"
     ]
    }
   ],
   "source": [
    "%load_ext autoreload\n",
    "%autoreload 2\n",
    "\n",
    "import numpy as np\n",
    "from itertools import count\n",
    "import random\n",
    "\n",
    "import torch\n",
    "import torch.nn as nn\n",
    "import torch.nn.functional as F\n",
    "import torch.optim as optim\n",
    "import torch.autograd as autograd\n",
    "from torch.autograd import Variable\n",
    "from torch.nn import init\n",
    "from torch.nn import DataParallel\n",
    "from torch.utils.data import DataLoader\n",
    "\n",
    "import matplotlib.mlab as mlab\n",
    "import matplotlib.pyplot as plt\n",
    "import matplotlib.animation\n",
    "import seaborn as sns\n",
    "from IPython.display import HTML\n",
    "\n",
    "import pretrain\n",
    "from pretrain import *\n",
    "\n",
    "import Nets\n",
    "from Nets import*\n",
    "\n",
    "import navigation2\n",
    "from navigation2 import *\n",
    "\n",
    "%pylab inline\n",
    "import warnings\n",
    "warnings.filterwarnings('ignore')"
   ]
  },
  {
   "cell_type": "markdown",
   "metadata": {},
   "source": [
    "### Qnetwork\n",
    "\n",
    "To select actions we take maximum of Q value, corresponding to certain move."
   ]
  },
  {
   "cell_type": "markdown",
   "metadata": {},
   "source": [
    "For the liquid state approach to work, you need a lot of neurons as surplus or enough hidden to hidden connectivity to make it have an effect."
   ]
  },
  {
   "cell_type": "markdown",
   "metadata": {},
   "source": [
    "## Test driven action Statistics "
   ]
  },
  {
   "cell_type": "code",
   "execution_count": 36,
   "metadata": {},
   "outputs": [],
   "source": [
    "# 2 clicks performance\n",
    "def Force_action(x, y, start, type_):\n",
    "    dict_a = {'up':0, 'right':1, 'down':2, 'left':3 }\n",
    "    if type_ == 0:\n",
    "        force_actions = (16 - start[1]) * [dict_a['right']] +  (14-x) * [dict_a['left']]\\\n",
    "        + (16 - start[0]) * [dict_a['down']] + (14-y) * [dict_a['up']]\n",
    "    elif type_ == 1:\n",
    "        force_actions = (16 - start[1]) * [dict_a['right']] +  (14-x) * [dict_a['left']] \\\n",
    "        + (start[0] - 2) * [dict_a['up']] + y * [dict_a['down']]\n",
    "    elif type_ == 2:\n",
    "        force_actions = (start[1] - 2) * [dict_a['left']] +  x * [dict_a['right']] \\\n",
    "        + (16 - start[0]) * [dict_a['down']]  + (14-y) * [dict_a['up']]\n",
    "    elif type_ == 3:\n",
    "        force_actions = (start[1] - 2) * [dict_a['left']] +  x * [dict_a['right']] \\\n",
    "        + (start[0] - 2) * [dict_a['up']] + y * [dict_a['down']]\n",
    "    elif type_ == 4:\n",
    "        force_actions = (16 - start[0]) * [dict_a['down']] +  (14-y) * [dict_a['up']] \\\n",
    "        + (16 - start[1]) * [dict_a['right']] + (14-x) * [dict_a['left']]\n",
    "    elif type_ == 5:\n",
    "        force_actions = (16 - start[0]) * [dict_a['down']] +  (14-y) * [dict_a['up']] \\\n",
    "        + (start[1] - 2) * [dict_a['left']]  + x * [dict_a['right']]\n",
    "    elif type_ == 6:\n",
    "        force_actions = (start[0] - 2) * [dict_a['up']] +  y * [dict_a['down']]\\\n",
    "        + (16 - start[1]) * [dict_a['right']]  + (14-x) * [dict_a['left']]\n",
    "    elif type_ == 7:\n",
    "        force_actions = (start[0] - 2) * [dict_a['up']] +  y * [dict_a['down']] \\\n",
    "        + (start[1] - 2) * [dict_a['left']]  + x * [dict_a['right']]\n",
    "    return force_actions\n",
    "\n",
    "def clicks_count(weight, type_ = 0):\n",
    "    size = 15\n",
    "    PC_traces = []\n",
    "    Pretest =  PretrainTest(holes = 0, weight_write = weight, inputs_type=(1, 0)) \n",
    "    Pretest.game.net.load_state_dict(torch.load(weight))\n",
    "    # torch.manual_seed(5)\n",
    "    hidden = torch.randn(1, 512)\n",
    "    score_2 = []\n",
    "    # scan different points\n",
    "    Score_2 = np.zeros((19, 19))\n",
    "    for y in np.arange(0, 15, 1):\n",
    "        for x in np.arange(0, 15, 1):\n",
    "            score = 0\n",
    "            for i in range(50):\n",
    "                start = (np.random.randint(2, size +2),  np.random.randint(2, size+2))\n",
    "#                 force_actions = (size+2-start[1]) * [1] +  x * [3] + (start[0]+1-2) * [0] + 2 * [1] + y * [2]\n",
    "#                 force_actions2 = (size+2-start[1]) * [1] +  x * [3] + size+1-start[0] * [2] + 2 * [1] + y * [0]\n",
    "                force_actions = Force_action(x, y, start, type_)\n",
    "                Pos1, hidden1, dH1, Action, State1, reward1 = trajectory(Pretest.game, start, reward_control = 0, size = size, test = 0, hidden = hidden,\n",
    "                                                                        force_actions = force_actions, limit_set = 16)\n",
    "                start_new = Pos1[len(force_actions)]\n",
    "                grid = Pretest.game.grid.grid.copy()\n",
    "                pos_r = (Pretest.game.pos_reward)\n",
    "                manhantondist = np.abs(pos_r[0] - start_new[0]) + np.abs(pos_r[1] - start_new[1]) \n",
    "                score_2.append(manhantondist/(len(Pos1)-len(force_actions)-1))\n",
    "                score += len(Pos1)-len(force_actions)-1\n",
    "            score = score/50.                                                             \n",
    "            Score_2[start_new[0], start_new[1]] = score                                                          \n",
    "    print (np.mean(score_2))\n",
    "    return score_2, Score_2  \n"
   ]
  },
  {
   "cell_type": "code",
   "execution_count": 37,
   "metadata": {},
   "outputs": [],
   "source": [
    "# 1clicks performance\n",
    "def Force_action_1(x, y, start, type_):\n",
    "    dict_a = {'up':0, 'right':1, 'down':2, 'left':3 }\n",
    "    if type_ == 0:\n",
    "        force_actions = (16 - start[0]) * [dict_a['down']] +  y * [dict_a['up']]\n",
    "    elif type_ == 1:\n",
    "        force_actions = (start[0] - 2) * [dict_a['up']] + y * [dict_a['down']]\n",
    "    elif type_ == 2:\n",
    "        force_actions = (16 - start[1]) * [dict_a['right']] + y * [dict_a['left']]\n",
    "    elif type_ == 3:\n",
    "        force_actions = (start[1] - 2) * [dict_a['left']]  + y * [dict_a['right']]\n",
    "    return force_actions"
   ]
  },
  {
   "cell_type": "code",
   "execution_count": 38,
   "metadata": {},
   "outputs": [],
   "source": [
    "# 1clicks performance\n",
    "def Force_action_1(x, y, start, type_):\n",
    "    dict_a = {'up':0, 'right':1, 'down':2, 'left':3 }\n",
    "    if type_ == 0:\n",
    "        force_actions = (16 - start[0]) * [dict_a['down']] +  (16 - start[0]) * [dict_a['up']]\n",
    "    elif type_ == 1:\n",
    "        force_actions = (start[0] - 2) * [dict_a['up']] + (start[0] - 2) * [dict_a['down']]\n",
    "    elif type_ == 2:\n",
    "        force_actions = (16 - start[1]) * [dict_a['right']] + (16 - start[1]) * [dict_a['left']]\n",
    "    elif type_ == 3:\n",
    "        force_actions = (start[1] - 2) * [dict_a['left']]  + (start[1] - 2) * [dict_a['right']]\n",
    "    return force_actions\n",
    "# try to compare from each new starting position, what is performance compared to \n",
    "# without driven action\n",
    "def clicks_count_1(weight, type_ = 0):\n",
    "    size = 15\n",
    "    PC_traces = []\n",
    "    Pretest =  PretrainTest(holes = 0, weight_write = weight, inputs_type=(1, 0)) \n",
    "    Pretest.game.net.load_state_dict(torch.load(weight))\n",
    "    # torch.manual_seed(5)\n",
    "    hidden = torch.randn(1, 512)\n",
    "    # for all points \n",
    "    score_1 = []\n",
    "    # scan different points\n",
    "    Score_1 = np.zeros((19, 19))\n",
    "    for y in np.arange(2, 17, 1):\n",
    "        for x in np.arange(2, 17, 1):\n",
    "            score = 0\n",
    "            for i in range(50):\n",
    "                start = (y, x)\n",
    "                force_actions = Force_action_1(x, y, start, type_)\n",
    "                Pos1, hidden1, dH1, Action, State1, reward1 = trajectory(Pretest.game, start, reward_control = 0, size = size, test = 0\\\n",
    "                                                                         ,force_actions = force_actions, limit_set = 16)\n",
    "                start_new = Pos1[len(force_actions)]\n",
    "               \n",
    "                pos_r = (Pretest.game.pos_reward)\n",
    "                manhantondist = np.abs(pos_r[0] - start_new[0]) + np.abs(pos_r[1] - start_new[1]) \n",
    "                score_1.append(manhantondist/(len(Pos1)-len(force_actions)-1))\n",
    "                score += len(Pos1)-len(force_actions)-1\n",
    "            score = score/50.                                                             \n",
    "            Score_1[start_new[0], start_new[1]] = score                                                          \n",
    "    print (np.mean(score_1))\n",
    "    return score_1, Score_1  "
   ]
  },
  {
   "cell_type": "code",
   "execution_count": 39,
   "metadata": {},
   "outputs": [],
   "source": [
    "\n",
    "def zero_click(weight):\n",
    "    size = 15\n",
    "    PC_traces = []\n",
    "    Pretest =  PretrainTest(holes = 0, weight_write = weight, inputs_type=(1, 0)) \n",
    "    Pretest.game.net.load_state_dict(torch.load(weight))\n",
    "    # torch.manual_seed(5)\n",
    "    hidden = torch.randn(1, 512)\n",
    "    score_0 = []\n",
    "    Scores = np.zeros((19, 19))\n",
    "    for y in np.arange(2, 17, 1):\n",
    "        for x in np.arange(2, 17, 1):\n",
    "            score = 0\n",
    "            for i in range(50):\n",
    "                start = (np.random.randint(2, size +2),  np.random.randint(2, size+2))\n",
    "                start = (y, x)\n",
    "                force_actions = []\n",
    "                Pos1, hidden1, dH1, Action, State1, reward1 = trajectory(Pretest.game, start, reward_control = 1, size = size, test = 0, hidden = hidden,\n",
    "                                                                        force_actions = force_actions, limit_set = 16)\n",
    "            #     Pos2, hidden2, dH2, Action, reward2 = trajectory(Pretest.game, start, reward_control = 1, size = size, test = 0)\n",
    "                start_new = Pos1[len(force_actions)]\n",
    "                grid = Pretest.game.grid.grid.copy()\n",
    "                pos_r = (Pretest.game.pos_reward)\n",
    "                manhantondist = np.abs(pos_r[0] - start_new[0]) + np.abs(pos_r[1] - start_new[1]) \n",
    "                score_0.append(manhantondist/(len(Pos1)-len(force_actions)-1))\n",
    "                score += len(Pos1)-1\n",
    "            score = score/50.                                                             \n",
    "            Scores[start[0], start[1]] = score                                                          \n",
    "    print (np.mean(score_0))\n",
    "    return score_0, Scores "
   ]
  },
  {
   "cell_type": "code",
   "execution_count": 40,
   "metadata": {},
   "outputs": [
    {
     "name": "stdout",
     "output_type": "stream",
     "text": [
      "0.5067840186549837\n"
     ]
    }
   ],
   "source": [
    "weight = 'weights2/rnn_1515tanh512_checkpoint300_0_5'\n",
    "Score_0, Scores0_matrix_0 = zero_click(weight)"
   ]
  },
  {
   "cell_type": "code",
   "execution_count": 41,
   "metadata": {},
   "outputs": [
    {
     "name": "stdout",
     "output_type": "stream",
     "text": [
      "0.6424627875054978\n",
      "0.7357339015405493\n",
      "0.6073614388303603\n",
      "0.6127563755133529\n"
     ]
    }
   ],
   "source": [
    "weight = 'weights2/rnn_1515tanh512_checkpoint300_0_5'\n",
    "Score_1＿0 = []\n",
    "Scores1_matrix_0 = np.zeros((4, 19, 19))\n",
    "for i in range(4):\n",
    "    score_1, Scores = clicks_count_1(weight, type_ = i)\n",
    "    Scores1_matrix_0[i] = Scores\n",
    "    Score_1_0.append(score_1)"
   ]
  },
  {
   "cell_type": "code",
   "execution_count": 42,
   "metadata": {},
   "outputs": [
    {
     "name": "stdout",
     "output_type": "stream",
     "text": [
      "0.7043142560738856\n",
      "0.7885964830456569\n",
      "0.7385288844196563\n",
      "0.8190891151183887\n",
      "0.7145570377922831\n",
      "0.7536676918192262\n",
      "0.7823957969500824\n",
      "0.8052680506156357\n"
     ]
    }
   ],
   "source": [
    "weight = 'weights2/rnn_1515tanh512_checkpoint300_0_5'\n",
    "Score_2_0 = []\n",
    "Scores2_matrix_0 = np.zeros((8, 19, 19))\n",
    "for i in range(8):\n",
    "    score_2, Scores = clicks_count(weight, type_ = i)\n",
    "    Scores2_matrix_0[i] = Scores\n",
    "    Score_2_0.append(score_2)"
   ]
  },
  {
   "cell_type": "code",
   "execution_count": 53,
   "metadata": {},
   "outputs": [
    {
     "data": {
      "text/plain": [
       "(0.5067840186549837, 0.6495786258474402, 0.7633021644793518)"
      ]
     },
     "execution_count": 53,
     "metadata": {},
     "output_type": "execute_result"
    },
    {
     "data": {
      "image/png": "[encoded data removed]",
      "text/plain": [
       "<matplotlib.figure.Figure at 0x7f8bc12245f8>"
      ]
     },
     "metadata": {},
     "output_type": "display_data"
    }
   ],
   "source": [
    "plt.hist(Scores0_matrix_0[2:17, 2:17].ravel(), color = 'b')\n",
    "plt.hist(np.mean(Scores1_matrix_0[:, 2:17, 2:17], axis = 0).ravel(), color = 'g')\n",
    "plt.hist(np.mean(Scores2_matrix_0[:, 2:17, 2:17], axis = 0).ravel(), color = 'r', alpha = 0.6)\n",
    "np.mean(Score_0), np.mean(Score_1_0), np.mean(Score_2_0)"
   ]
  },
  {
   "cell_type": "code",
   "execution_count": 44,
   "metadata": {},
   "outputs": [],
   "source": [
    "np.save('Scores0_matrix_0.npy', Scores0_matrix_0)\n",
    "np.save('Scores1_matrix_0.npy', Scores1_matrix_0)\n",
    "np.save('Scores2_matrix_0.npy', Scores2_matrix_0)"
   ]
  },
  {
   "cell_type": "code",
   "execution_count": 45,
   "metadata": {},
   "outputs": [],
   "source": [
    "np.save('Scores0_0.npy', Score_0)\n",
    "np.save('Scores1_0.npy', Score_1_0)\n",
    "np.save('Scores2_0.npy', Score_2_0)"
   ]
  },
  {
   "cell_type": "code",
   "execution_count": 46,
   "metadata": {},
   "outputs": [],
   "source": [
    "np.save('Scores0_matrix_0_3.npy', Scores0_matrix_0)\n",
    "np.save('Scores1_matrix_0_3.npy', Scores1_matrix_0)\n",
    "np.save('Scores2_matrix_0_3.npy', Scores2_matrix_0)\n",
    "np.save('Scores0_0_3.npy', Score_0)\n",
    "np.save('Scores1_0_3.npy', Score_1_0)\n",
    "np.save('Scores2_0_3.npy', Score_2_0)"
   ]
  },
  {
   "cell_type": "code",
   "execution_count": 47,
   "metadata": {},
   "outputs": [],
   "source": [
    "np.save('Scores0_matrix_0_4.npy', Scores0_matrix_0)\n",
    "np.save('Scores1_matrix_0_4.npy', Scores1_matrix_0)\n",
    "np.save('Scores2_matrix_0_4.npy', Scores2_matrix_0)\n",
    "np.save('Scores0_0_4.npy', Score_0)\n",
    "np.save('Scores1_0_4.npy', Score_1_0)\n",
    "np.save('Scores2_0_4.npy', Score_2_0)"
   ]
  },
  {
   "cell_type": "markdown",
   "metadata": {},
   "source": [
    "## Compare three networks"
   ]
  },
  {
   "cell_type": "markdown",
   "metadata": {},
   "source": [
    "Score_0_0 = np.load('Scores0_0.npy')\n",
    "Score_1_0 = np.load('Scores1_0.npy')\n",
    "Score_2_0 = np.load('Scores2_0.npy')"
   ]
  },
  {
   "cell_type": "markdown",
   "metadata": {},
   "source": [
    "Scores_0_0 = []\n",
    "Scores_1_0 = []\n",
    "Scores_2_0 = []\n",
    "for  i in range(5):\n",
    "    if i == 0:\n",
    "        Scores_0_0.append(np.load('Scores0_0.npy'))\n",
    "        Scores_1_0.append(np.load('Scores1_0.npy'))\n",
    "        Scores_2_0.append(np.load('Scores2_0.npy'))\n",
    "    if i>0:\n",
    "        Scores_0_0.append(np.load('Scores0_0_{}.npy'.format(i+1)))\n",
    "        Scores_1_0.append(np.load('Scores1_0_{}.npy'.format(i+1)))\n",
    "        Scores_2_0.append(np.load('Scores2_0_{}.npy'.format(i+1)))"
   ]
  },
  {
   "cell_type": "markdown",
   "metadata": {},
   "source": [
    "Scores_0_49 = []\n",
    "Scores_1_49 = []\n",
    "Scores_2_49 = []\n",
    "for  i in range(5):\n",
    "    if i == 0:\n",
    "        Scores_0_49.append(np.load('score_pre2/Scores0_pre2.npy'))\n",
    "        Scores_1_49.append(np.load('score_pre2/Scores1_pre2.npy'))\n",
    "        Scores_2_49.append(np.load('score_pre2/Scores2_pre2.npy'))\n",
    "    if i>0:\n",
    "        Scores_0_49.append(np.load('score_pre2/Scores0_pre2_{}.npy'.format(i+1)))\n",
    "        Scores_1_49.append(np.load('score_pre2/Scores1_pre2_{}.npy'.format(i+1)))\n",
    "        Scores_2_49.append(np.load('score_pre2/Scores2_pre2_{}.npy'.format(i+1)))"
   ]
  },
  {
   "cell_type": "markdown",
   "metadata": {},
   "source": [
    "ax = subplot(1, 1, 1)\n",
    "ax.spines['top'].set_visible(False)\n",
    "ax.spines['right'].set_visible(False)\n",
    "S0 = np.array([np.mean(s) for s in Scores_0_0])\n",
    "S1 = np.array([np.mean(s) for s in Scores_1_0])\n",
    "S2 = np.array([np.mean(s) for s in Scores_2_0])\n",
    "dif1 = S1/S0 - 1\n",
    "dif2 = S2/S0 - 1\n",
    "width = 0.8\n",
    "plt.bar(np.arange(2), height = [np.mean(dif1), np.mean(dif2)], yerr = [np.std(dif1)/np.sqrt(5), np.std(dif2)/np.sqrt(5)], width = width)\n",
    "\n",
    "S0 = np.array([np.mean(s) for s in Scores_0_39])\n",
    "S1 = np.array([np.mean(s) for s in Scores_1_39])\n",
    "S2 = np.array([np.mean(s) for s in Scores_2_39])\n",
    "dif1 = S1/S0 - 1\n",
    "dif2 = S2/S0 - 1\n",
    "plt.bar(np.arange(2) + 2.5, height = [np.mean(dif1), np.mean(dif2)], yerr = [np.std(dif1)/np.sqrt(5), np.std(dif2)/np.sqrt(5)], width = width)\n",
    "\n",
    "S0 = np.array([np.mean(s) for s in Scores_0_49])\n",
    "S1 = np.array([np.mean(s) for s in Scores_1_49])\n",
    "S2 = np.array([np.mean(s) for s in Scores_2_49])\n",
    "dif1 = S1/S0 - 1\n",
    "dif2 = S2/S0 - 1\n",
    "plt.bar(np.arange(2) + 5, height = [np.mean(dif1), np.mean(dif2)], yerr = [np.std(dif1)/np.sqrt(5), np.std(dif2)/np.sqrt(5)], width = width)\n",
    "plt.xticks([])\n",
    "plt.yticks([-0.1, 0, 0.1, 0.2], size = 15)"
   ]
  },
  {
   "cell_type": "code",
   "execution_count": 74,
   "metadata": {},
   "outputs": [],
   "source": [
    "Score_0_echo = np.load('score_echo/Scores0_0.npy')\n",
    "Score_1_echo = np.load('score_echo/Scores1_0.npy')\n",
    "Score_2_echo = np.load('score_echo/Scores2_0.npy')"
   ]
  },
  {
   "cell_type": "code",
   "execution_count": 76,
   "metadata": {},
   "outputs": [
    {
     "data": {
      "text/plain": [
       "([<matplotlib.axis.YTick at 0x7f8bc04a3c88>,\n",
       "  <matplotlib.axis.YTick at 0x7f8bc04a3cf8>,\n",
       "  <matplotlib.axis.YTick at 0x7f8bc04976d8>],\n",
       " <a list of 3 Text yticklabel objects>)"
      ]
     },
     "execution_count": 76,
     "metadata": {},
     "output_type": "execute_result"
    },
    {
     "data": {
      "image/png": "[encoded data removed]",
      "text/plain": [
       "<matplotlib.figure.Figure at 0x7f8bc047df28>"
      ]
     },
     "metadata": {},
     "output_type": "display_data"
    }
   ],
   "source": [
    "ax = subplot(1, 1, 1)\n",
    "ax.spines['top'].set_visible(False)\n",
    "ax.spines['right'].set_visible(False)\n",
    "\n",
    "scores_echo = [np.mean(Score_0_echo), np.mean(Score_1_echo), np.mean(Score_2_echo)]\n",
    "scores_echo_std = [np.std(Score_0_echo), np.std(Score_1_echo), np.std(Score_2_echo)]\n",
    "\n",
    "scores_pre2 = [np.mean(Scores_0_49[0]), np.mean(Scores_1_49[0]), np.mean(Scores_2_49[0])]\n",
    "scores_pre2_std = [np.std(Scores_0_49[0]), np.std(Scores_1_49[0]), np.std(Scores_2_49[0])]\n",
    "\n",
    "scores_pre1 = [np.mean(Score_0), np.mean(Score_1_0), np.mean(Score_2_0)]\n",
    "scores_pre1_std = [np.std(Score_0), np.std(Score_1_0), np.std(Score_2_0)]\n",
    "plt.plot(np.arange(3), scores_echo, 'bs-')\n",
    "p1 = plt.errorbar(np.arange(3), scores_echo, yerr = scores_echo_std/np.sqrt(225))\n",
    "plt.plot(np.arange(3), scores_pre1, 'rs-')\n",
    "p1 = plt.errorbar(np.arange(3), scores_pre1, yerr = scores_pre1_std/np.sqrt(225))\n",
    "plt.plot(np.arange(3), scores_pre2, 'gs-')\n",
    "p1 = plt.errorbar(np.arange(3), scores_pre2, yerr = scores_pre2_std/np.sqrt(225))\n",
    "plt.xticks([0, 1, 2], size = 15)\n",
    "plt.yticks([0.4, 0.6, 0.8], size = 15)"
   ]
  },
  {
   "cell_type": "markdown",
   "metadata": {},
   "source": [
    "average score of 2 clicks "
   ]
  },
  {
   "cell_type": "markdown",
   "metadata": {},
   "source": [
    "### Animation and plot"
   ]
  },
  {
   "cell_type": "code",
   "execution_count": 134,
   "metadata": {},
   "outputs": [
    {
     "data": {
      "image/png": "[encoded data removed]",
      "text/plain": [
       "<matplotlib.figure.Figure at 0x7f01584a8320>"
      ]
     },
     "metadata": {},
     "output_type": "display_data"
    }
   ],
   "source": [
    "weight = 'weights2/rnn_1515tanh512_checkpoint300_0_5'\n",
    "size = 15\n",
    "PC_traces = []\n",
    "Pretest =  PretrainTest(holes = 0, weight_write = weight, inputs_type=(1, 0)) \n",
    "Pretest.game.net.load_state_dict(torch.load(weight))\n",
    "# torch.manual_seed(5)\n",
    "hidden = torch.randn(1, 512)\n",
    "score_2 = []\n",
    "Y, X = np.meshgrid(np.arange(3, 4, 1), np.arange(0, 17, 4))\n",
    "for pos in zip(Y, X):\n",
    "    for i in range(1):\n",
    "        start = (np.random.randint(2, size +2),  np.random.randint(2, size+2))\n",
    "        start = (5, 5)\n",
    "        y, x = pos\n",
    "        \n",
    "        force_actions = 3 * [3] +  x[0] * [1] + 13 * [2] + y[0] * [0]\n",
    "        Pos1, hidden1, dH1, Action, State1, reward1 = trajectory(Pretest.game, start, reward_control = 0, size = size, test = 0, hidden = hidden,\n",
    "                                                                force_actions = force_actions, limit_set = 16)\n",
    "    #     Pos2, hidden2, dH2, Action, reward2 = trajectory(Pretest.game, start, reward_control = 1, size = size, test = 0)\n",
    "        start_new = Pos1[len(force_actions)]\n",
    "        grid = Pretest.game.grid.grid.copy()\n",
    "        pos_r = (Pretest.game.pos_reward)\n",
    "        manhantondist = np.abs(pos_r[0] - start_new[0]) + np.abs(pos_r[1] - start_new[1]) \n",
    "        score_2.append(manhantondist/(len(Pos1)-(len(force_actions))))\n",
    "        if i == 0 and x == 0 :\n",
    "            plt.matshow(grid)\n",
    "        y1 = np.array([p[0] for p in Pos1])\n",
    "        x1 = np.array([p[1] for p in Pos1])\n",
    "        plt.plot(start[1], start[0], 'rs')\n",
    "        plt.plot(start_new[1], start_new[0], 'ks')\n",
    "        plt.quiver(x1[:-1], y1[:-1], x1[1:]-x1[:-1], y1[1:]-y1[:-1], scale_units='xy', angles='xy', scale=1, color = 'm')\n",
    "        plt.quiver(x1[len(force_actions):-1], y1[len(force_actions):-1], x1[len(force_actions)+1:]-x1[len(force_actions):-1], y1[len(force_actions)+1:]-y1[len(force_actions):-1], scale_units='xy', angles='xy', scale=1, color = 'b')\n"
   ]
  },
  {
   "cell_type": "code",
   "execution_count": 140,
   "metadata": {},
   "outputs": [
    {
     "data": {
      "image/png": "[encoded data removed]",
      "text/plain": [
       "<matplotlib.figure.Figure at 0x7f0150816898>"
      ]
     },
     "metadata": {},
     "output_type": "display_data"
    }
   ],
   "source": [
    "weight = 'weights_fix/weights1/rnn_1515tanh512_checkpoint39_25_4'\n",
    "size = 15\n",
    "PC_traces = []\n",
    "Pretest.game.net.load_state_dict(torch.load(weight))\n",
    "# torch.manual_seed(5)\n",
    "hidden = torch.randn(1, 512)\n",
    "score_2 = []\n",
    "Y, X = np.meshgrid(np.arange(3, 4, 1), np.arange(0, 17, 4))\n",
    "for pos in zip(Y, X):\n",
    "    for i in range(1):\n",
    "        start = (np.random.randint(2, size +2),  np.random.randint(2, size+2))\n",
    "        start = (5, 5)\n",
    "        y, x = pos\n",
    "        \n",
    "        force_actions = 3 * [3] +  x[0] * [1] + 13 * [2] + y[0] * [0]\n",
    "        Pos1, hidden1, dH1, Action, State1, reward1 = trajectory(Pretest.game, start, reward_control = 1, size = size, test = 0, hidden = hidden,\n",
    "                                                                force_actions = force_actions, limit_set = 16)\n",
    "    #     Pos2, hidden2, dH2, Action, reward2 = trajectory(Pretest.game, start, reward_control = 1, size = size, test = 0)\n",
    "        start_new = Pos1[len(force_actions)]\n",
    "        grid = Pretest.game.grid.grid.copy()\n",
    "        pos_r = (Pretest.game.pos_reward)\n",
    "        manhantondist = np.abs(pos_r[0] - start_new[0]) + np.abs(pos_r[1] - start_new[1]) \n",
    "        score_2.append(manhantondist/(len(Pos1)-(len(force_actions))))\n",
    "        if i == 0 and x == 0 :\n",
    "            plt.matshow(grid)\n",
    "        y1 = np.array([p[0] for p in Pos1])\n",
    "        x1 = np.array([p[1] for p in Pos1])\n",
    "        plt.plot(start[1], start[0], 'rs')\n",
    "        plt.plot(start_new[1], start_new[0], 'ks')\n",
    "        plt.quiver(x1[:-1], y1[:-1], x1[1:]-x1[:-1], y1[1:]-y1[:-1], scale_units='xy', angles='xy', scale=1, color = 'm')\n",
    "        plt.quiver(x1[len(force_actions):-1], y1[len(force_actions):-1], x1[len(force_actions)+1:]-x1[len(force_actions):-1], y1[len(force_actions)+1:]-y1[len(force_actions):-1], scale_units='xy', angles='xy', scale=1, color = 'b')\n"
   ]
  },
  {
   "cell_type": "markdown",
   "metadata": {},
   "source": [
    "Limit cycle is here to generalize, while it is not a exact limit cycle. It seems that each cycle is lightly different than others. For the first cycles, the structure looks quite a bit the same for 3 pcs for the size 15"
   ]
  }
 ],
 "metadata": {
  "anaconda-cloud": {},
  "kernelspec": {
   "display_name": "Python 3",
   "language": "python",
   "name": "python3"
  },
  "language_info": {
   "codemirror_mode": {
    "name": "ipython",
    "version": 3
   },
   "file_extension": ".py",
   "mimetype": "text/x-python",
   "name": "python",
   "nbconvert_exporter": "python",
   "pygments_lexer": "ipython3",
   "version": "3.6.3"
  },
  "latex_envs": {
   "LaTeX_envs_menu_present": true,
   "autoclose": false,
   "autocomplete": true,
   "bibliofile": "biblio.bib",
   "cite_by": "apalike",
   "current_citInitial": 1,
   "eqLabelWithNumbers": true,
   "eqNumInitial": 1,
   "hotkeys": {
    "equation": "Ctrl-E",
    "itemize": "Ctrl-I"
   },
   "labels_anchors": false,
   "latex_user_defs": false,
   "report_style_numbering": false,
   "user_envs_cfg": false
  },
  "toc": {
   "nav_menu": {},
   "number_sections": true,
   "sideBar": true,
   "skip_h1_title": false,
   "title_cell": "Table of Contents",
   "title_sidebar": "Contents",
   "toc_cell": true,
   "toc_position": {
    "height": "759px",
    "left": "0px",
    "right": "1228px",
    "top": "67px",
    "width": "212px"
   },
   "toc_section_display": "block",
   "toc_window_display": true
  },
  "varInspector": {
   "cols": {
    "lenName": 16,
    "lenType": 16,
    "lenVar": 40
   },
   "kernels_config": {
    "python": {
     "delete_cmd_postfix": "",
     "delete_cmd_prefix": "del ",
     "library": "var_list.py",
     "varRefreshCmd": "print(var_dic_list())"
    },
    "r": {
     "delete_cmd_postfix": ") ",
     "delete_cmd_prefix": "rm(",
     "library": "var_list.r",
     "varRefreshCmd": "cat(var_dic_list()) "
    }
   },
   "types_to_exclude": [
    "module",
    "function",
    "builtin_function_or_method",
    "instance",
    "_Feature"
   ],
   "window_display": false
  }
 },
 "nbformat": 4,
 "nbformat_minor": 2
}
