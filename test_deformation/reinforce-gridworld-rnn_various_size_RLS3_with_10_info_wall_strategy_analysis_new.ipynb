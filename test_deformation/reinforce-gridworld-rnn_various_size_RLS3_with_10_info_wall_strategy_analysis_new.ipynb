{
 "cells": [
  {
   "cell_type": "markdown",
   "metadata": {
    "toc": "true"
   },
   "source": [
    "<h1>Table of Contents<span class=\"tocSkip\"></span></h1>\n",
    "<div class=\"toc\"><ul class=\"toc-item\"><li><span><a href=\"#quick-start\" data-toc-modified-id=\"quick-start-1\"><span class=\"toc-item-num\">1&nbsp;&nbsp;</span>quick start</a></span><ul class=\"toc-item\"><li><span><a href=\"#Resources\" data-toc-modified-id=\"Resources-1.1\"><span class=\"toc-item-num\">1.1&nbsp;&nbsp;</span>Resources</a></span></li></ul></li><li><span><a href=\"#FULL-MODEL\" data-toc-modified-id=\"FULL-MODEL-2\"><span class=\"toc-item-num\">2&nbsp;&nbsp;</span>FULL MODEL</a></span><ul class=\"toc-item\"><li><span><a href=\"#Packages\" data-toc-modified-id=\"Packages-2.1\"><span class=\"toc-item-num\">2.1&nbsp;&nbsp;</span>Packages</a></span><ul class=\"toc-item\"><li><span><a href=\"#Qnetwork\" data-toc-modified-id=\"Qnetwork-2.1.1\"><span class=\"toc-item-num\">2.1.1&nbsp;&nbsp;</span>Qnetwork</a></span></li></ul></li><li><span><a href=\"#POMDP-RNN-Game\" data-toc-modified-id=\"POMDP-RNN-Game-2.2\"><span class=\"toc-item-num\">2.2&nbsp;&nbsp;</span>POMDP RNN Game</a></span></li><li><span><a href=\"#Results\" data-toc-modified-id=\"Results-2.3\"><span class=\"toc-item-num\">2.3&nbsp;&nbsp;</span>Results</a></span><ul class=\"toc-item\"><li><span><a href=\"#Standard-setting：-grid-=--(3,7)，-holes-=-0\" data-toc-modified-id=\"Standard-setting：-grid-=--(3,7)，-holes-=-0-2.3.1\"><span class=\"toc-item-num\">2.3.1&nbsp;&nbsp;</span>Standard setting： grid =  (3,7)， holes = 0</a></span></li><li><span><a href=\"#Model-Tranining\" data-toc-modified-id=\"Model-Tranining-2.3.2\"><span class=\"toc-item-num\">2.3.2&nbsp;&nbsp;</span>Model Tranining</a></span></li><li><span><a href=\"#decoding-vs-performance\" data-toc-modified-id=\"decoding-vs-performance-2.3.3\"><span class=\"toc-item-num\">2.3.3&nbsp;&nbsp;</span>decoding vs performance</a></span></li><li><span><a href=\"#learning-rate-vs-performance\" data-toc-modified-id=\"learning-rate-vs-performance-2.3.4\"><span class=\"toc-item-num\">2.3.4&nbsp;&nbsp;</span>learning rate vs performance</a></span></li><li><span><a href=\"#Summary\" data-toc-modified-id=\"Summary-2.3.5\"><span class=\"toc-item-num\">2.3.5&nbsp;&nbsp;</span>Summary</a></span></li><li><span><a href=\"#Anlytic-part-,-check-the-behaviour-correspond-to-each-decoding-level-and-explain-why\" data-toc-modified-id=\"Anlytic-part-,-check-the-behaviour-correspond-to-each-decoding-level-and-explain-why-2.3.6\"><span class=\"toc-item-num\">2.3.6&nbsp;&nbsp;</span>Anlytic part , check the behaviour correspond to each decoding level and explain why</a></span></li></ul></li><li><span><a href=\"#PCA\" data-toc-modified-id=\"PCA-2.4\"><span class=\"toc-item-num\">2.4&nbsp;&nbsp;</span>PCA</a></span></li></ul></li></ul></div>"
   ]
  },
  {
   "cell_type": "markdown",
   "metadata": {},
   "source": [
    "# quick start "
   ]
  },
  {
   "cell_type": "markdown",
   "metadata": {},
   "source": [
    "**Check relation betweeen dynamics and generalization.   Hypothesis to make: generalization can only be understood in level of joint dynamical system, there is a clear link between the two**\n",
    "\n",
    "**Dynamnics determines generalization , not decoding , same decoding level can have very different dynamics , thus different generalization level.  Only when the dynamics of RNN forms object correspond to real relevant objects for game, the generalization can be good.   For instance , in a varying size game, you extend the size of game from 10 to 30, what will happen?  You can do a kind of dynamical programing , according to which wall you have seen and how many steps you have passed , you decide future action.    This can be achieved robustly by the dynamical system where fix points are correspond to walls**"
   ]
  },
  {
   "cell_type": "markdown",
   "metadata": {},
   "source": [
    "## Resources\n",
    "\n",
    "* [*The* Reinforcement learning book from Sutton & Barto](http://incompleteideas.net/sutton/book/the-book-2nd.html)\n",
    "* [The REINFORCE paper from Ronald J. Williams (1992)](http://www-anw.cs.umass.edu/~barto/courses/cs687/williams92simple.pdf)\n"
   ]
  },
  {
   "cell_type": "markdown",
   "metadata": {},
   "source": [
    "# FULL MODEL"
   ]
  },
  {
   "cell_type": "markdown",
   "metadata": {},
   "source": [
    "## Packages"
   ]
  },
  {
   "cell_type": "code",
   "execution_count": 1,
   "metadata": {},
   "outputs": [
    {
     "name": "stdout",
     "output_type": "stream",
     "text": [
      "Populating the interactive namespace from numpy and matplotlib\n"
     ]
    },
    {
     "name": "stderr",
     "output_type": "stream",
     "text": [
      "/home/tie/anaconda3/lib/python3.6/site-packages/IPython/core/magics/pylab.py:160: UserWarning: pylab import has clobbered these variables: ['random']\n",
      "`%matplotlib` prevents importing * from pylab and numpy\n",
      "  \"\\n`%matplotlib` prevents importing * from pylab and numpy\"\n"
     ]
    }
   ],
   "source": [
    "%load_ext autoreload\n",
    "%autoreload 2\n",
    "\n",
    "import numpy as np\n",
    "from itertools import count\n",
    "import random\n",
    "\n",
    "import torch\n",
    "import torch.nn as nn\n",
    "import torch.nn.functional as F\n",
    "import torch.optim as optim\n",
    "import torch.autograd as autograd\n",
    "from torch.autograd import Variable\n",
    "from torch.nn import init\n",
    "from torch.nn import DataParallel\n",
    "from torch.utils.data import DataLoader\n",
    "\n",
    "import matplotlib.mlab as mlab\n",
    "import matplotlib.pyplot as plt\n",
    "import matplotlib.animation\n",
    "import seaborn as sns\n",
    "from IPython.display import HTML\n",
    "\n",
    "import pretrain\n",
    "from pretrain import *\n",
    "\n",
    "import navigation2\n",
    "from navigation2 import *\n",
    "\n",
    "import Nets \n",
    "from Nets import *\n",
    "\n",
    "import sklearn\n",
    "from sklearn.svm import SVC\n",
    "\n",
    "import scipy\n",
    "from scipy.spatial import distance\n",
    "from scipy import signal\n",
    "\n",
    "import dynamics\n",
    "from dynamics import *\n",
    "\n",
    "%pylab inline\n",
    "import warnings\n",
    "warnings.filterwarnings('ignore')"
   ]
  },
  {
   "cell_type": "markdown",
   "metadata": {},
   "source": [
    "For the liquid state approach to work, you need a lot of neurons as surplus or enough hidden to hidden connectivity to make it have an effect."
   ]
  },
  {
   "cell_type": "markdown",
   "metadata": {},
   "source": [
    "##  POMDP RNN Game\n",
    "\n",
    "In this game , we use a new reward function determined by game, if the agent achieves the goal before 50, reward is 1. If time pass 50 reward is 0.5, once time pass 100 agent gets a reward of -0.5 .  Practically, this is found to be easier to learn than the rewards as a continous function of time.  Tf the agent learns to search in a efficient way, the largest possible way for search is to firstly arrive at corner then goes to the goal, which, takes about 50 steps, it is reasonble to make 50 and 100 as milestone thing.  Also in principe as the game doesn't have a timer , it is not if it can use a reward as funtion of time"
   ]
  },
  {
   "cell_type": "markdown",
   "metadata": {},
   "source": [
    "3 condition for ending , when pass time limit, game over"
   ]
  },
  {
   "cell_type": "markdown",
   "metadata": {},
   "source": [
    "For weight update, it seems to be better do it after episode, as it makes non-sense evaluate strategy during episode, but a the end. Also, it is much quicker. "
   ]
  },
  {
   "cell_type": "markdown",
   "metadata": {},
   "source": [
    "A programming of MDP here, hidden state is as state of enviroment"
   ]
  },
  {
   "cell_type": "markdown",
   "metadata": {},
   "source": [
    "Training from zero seems to be better because it will allow the agent to explore from new"
   ]
  },
  {
   "cell_type": "markdown",
   "metadata": {},
   "source": [
    "**A coherent result here is threhold kind behaviour of decode vs performance, after decode smaller than 10, the performance rises.  The resutls is showeing that the learning rate vs performance doesn't characterize the threshold kind behaviour of performance change.  It is only after lr = -5, the performance begins to rise , while the learning rate - performance curve creates a fake trends for first few points.  This is not shown by explaination factor calculated by covariance.  **"
   ]
  },
  {
   "cell_type": "markdown",
   "metadata": {},
   "source": [
    "If look carefully, the slow timescale here is a very long transient,  it will not return to baseline in a very long run of game, that is different from gru, which maintains a baseline.  If the system is a true integrator,  it should not loose the baseline, because there is no concept of return in this case. \n",
    "\n",
    "The very slow timescale could make the system harder to reset, except I use a strong input.  So reset upon input and remember is always contradictory.  If I design a task also need to pay attention to fast timescale , this will fail more throughly "
   ]
  },
  {
   "cell_type": "markdown",
   "metadata": {},
   "source": [
    "## Learning histroy"
   ]
  },
  {
   "cell_type": "code",
   "execution_count": 11,
   "metadata": {},
   "outputs": [
    {
     "name": "stdout",
     "output_type": "stream",
     "text": [
      "[0.0859375]\n",
      "[0.078125]\n",
      "[0.1171875]\n",
      "[0.234375]\n",
      "[0.234375]\n",
      "[0.203125]\n",
      "[0.1484375]\n",
      "[0.1953125]\n",
      "[0.28125]\n",
      "[0.234375]\n",
      "[0.3203125]\n",
      "[0.234375]\n",
      "[0.296875]\n",
      "[0.3671875]\n",
      "[0.2578125]\n",
      "[0.359375]\n",
      "[0.3125]\n",
      "[0.2734375]\n",
      "[0.1953125]\n",
      "[0.1796875]\n",
      "[0.1484375]\n",
      "[0.140625]\n",
      "[0.234375]\n",
      "[0.1640625]\n",
      "[0.1953125]\n",
      "[0.390625]\n",
      "[0.3125]\n",
      "[0.171875]\n",
      "[0.2734375]\n",
      "[0.1953125]\n",
      "[0.1171875]\n",
      "[0.125]\n",
      "[0.109375]\n",
      "[0.1484375]\n",
      "[0.1015625]\n",
      "[0.1015625]\n",
      "[0.1328125]\n",
      "[0.1640625]\n",
      "[0.1875]\n",
      "[0.1953125]\n",
      "[0.15625]\n",
      "[0.1484375]\n",
      "[0.21875]\n",
      "[0.1328125]\n",
      "[0.203125]\n",
      "[0.296875]\n",
      "[0.296875]\n",
      "[0.34375]\n",
      "[0.2890625]\n",
      "[0.34375]\n",
      "[0.2890625]\n",
      "[0.3828125]\n",
      "[0.2890625]\n",
      "[0.1875]\n",
      "[0.328125]\n",
      "[0.2578125]\n",
      "[0.46875]\n",
      "[0.1953125]\n",
      "[0.4296875]\n",
      "[0.234375]\n",
      "[0.0546875]\n",
      "[0.125]\n",
      "[0.15625]\n",
      "[0.1171875]\n",
      "[0.109375]\n",
      "[0.078125]\n",
      "[0.15625]\n",
      "[0.09375]\n",
      "[0.1171875]\n",
      "[0.1328125]\n",
      "[0.1953125]\n",
      "[0.234375]\n",
      "[0.15625]\n",
      "[0.140625]\n",
      "[0.3203125]\n",
      "[0.234375]\n",
      "[0.203125]\n",
      "[0.234375]\n",
      "[0.2421875]\n",
      "[0.2578125]\n",
      "[0.234375]\n",
      "[0.3125]\n",
      "[0.3125]\n",
      "[0.265625]\n",
      "[0.3125]\n",
      "[0.234375]\n",
      "[0.28125]\n",
      "[0.3984375]\n",
      "[0.40625]\n",
      "[0.3984375]\n"
     ]
    }
   ],
   "source": [
    "Performance_0 = []\n",
    "for i in range(3):\n",
    "    for iters in np.arange(30):\n",
    "        weight ='weights2/rnn_1515tanh512_checkpoint0_{}_{}'.format(i, iters)\n",
    "        pregame = PretrainTest(weight_write = weight, holes = 0, inputs_type = (1, 0))\n",
    "        pregame.game.net.load_state_dict(torch.load(weight))\n",
    "    #     pregame.game.grid.grid[ry : ry + 1, rx + 4 : rx + 6] = 0\n",
    "        grid =  pregame.game.grid.grid.copy()\n",
    "        pregame.TestAllSizes(size_range = [15], limit_set = 4, test_size = 0, grid = grid, scale = 3)\n",
    "        print (pregame.Performance)\n",
    "        Performance_0.append(pregame.Performance)"
   ]
  },
  {
   "cell_type": "code",
   "execution_count": 12,
   "metadata": {},
   "outputs": [],
   "source": [
    "np.save('Performance_0', Performance_0)"
   ]
  },
  {
   "cell_type": "code",
   "execution_count": 13,
   "metadata": {},
   "outputs": [
    {
     "name": "stdout",
     "output_type": "stream",
     "text": [
      "[0.2265625]\n",
      "[0.1484375]\n",
      "[0.3046875]\n",
      "[0.3046875]\n",
      "[0.28125]\n",
      "[0.34375]\n",
      "[0.40625]\n",
      "[0.53125]\n",
      "[0.6484375]\n",
      "[0.6015625]\n",
      "[0.5703125]\n",
      "[0.5859375]\n",
      "[0.3828125]\n",
      "[0.3828125]\n",
      "[0.40625]\n",
      "[0.375]\n",
      "[0.3671875]\n",
      "[0.546875]\n",
      "[0.6328125]\n",
      "[0.5234375]\n",
      "[0.578125]\n",
      "[0.671875]\n",
      "[0.53125]\n",
      "[0.65625]\n",
      "[0.640625]\n",
      "[0.5703125]\n",
      "[0.609375]\n",
      "[0.65625]\n",
      "[0.515625]\n",
      "[0.5546875]\n",
      "[0.15625]\n",
      "[0.3671875]\n",
      "[0.359375]\n",
      "[0.328125]\n",
      "[0.25]\n",
      "[0.4765625]\n",
      "[0.3671875]\n",
      "[0.390625]\n",
      "[0.4296875]\n",
      "[0.453125]\n",
      "[0.546875]\n",
      "[0.546875]\n",
      "[0.4609375]\n",
      "[0.4609375]\n",
      "[0.3671875]\n",
      "[0.578125]\n",
      "[0.4375]\n",
      "[0.609375]\n",
      "[0.578125]\n",
      "[0.6328125]\n",
      "[0.4296875]\n",
      "[0.4765625]\n",
      "[0.3984375]\n",
      "[0.4921875]\n",
      "[0.484375]\n",
      "[0.5625]\n",
      "[0.640625]\n",
      "[0.609375]\n",
      "[0.5625]\n",
      "[0.53125]\n",
      "[0.203125]\n",
      "[0.1953125]\n",
      "[0.2109375]\n",
      "[0.53125]\n",
      "[0.4765625]\n",
      "[0.46875]\n",
      "[0.4375]\n",
      "[0.53125]\n",
      "[0.46875]\n",
      "[0.390625]\n",
      "[0.5078125]\n",
      "[0.4453125]\n",
      "[0.3515625]\n",
      "[0.3984375]\n",
      "[0.3515625]\n",
      "[0.4140625]\n",
      "[0.2734375]\n",
      "[0.34375]\n",
      "[0.4453125]\n",
      "[0.390625]\n",
      "[0.4765625]\n",
      "[0.4140625]\n",
      "[0.5859375]\n",
      "[0.453125]\n",
      "[0.3828125]\n",
      "[0.2109375]\n",
      "[0.3046875]\n",
      "[0.5859375]\n",
      "[0.53125]\n",
      "[0.4609375]\n"
     ]
    }
   ],
   "source": [
    "Performance_300 = []\n",
    "for i in range(3):\n",
    "    for iters in np.arange(30):\n",
    "        weight ='weights2/rnn_1515tanh512_checkpoint300_{}_{}'.format(i, iters)\n",
    "        pregame = PretrainTest(weight_write = weight, holes = 0, inputs_type = (1, 0))\n",
    "        pregame.game.net.load_state_dict(torch.load(weight))\n",
    "    #     pregame.game.grid.grid[ry : ry + 1, rx + 4 : rx + 6] = 0\n",
    "        grid =  pregame.game.grid.grid.copy()\n",
    "        pregame.TestAllSizes(size_range = [15], limit_set = 4, test_size = 0, grid = grid, scale = 3)\n",
    "        print (pregame.Performance)\n",
    "        Performance_300.append(pregame.Performance)"
   ]
  },
  {
   "cell_type": "code",
   "execution_count": 14,
   "metadata": {},
   "outputs": [],
   "source": [
    "np.save('Performance_300', Performance_300)"
   ]
  },
  {
   "cell_type": "code",
   "execution_count": 15,
   "metadata": {},
   "outputs": [
    {
     "data": {
      "text/plain": [
       "<Container object of 3 artists>"
      ]
     },
     "execution_count": 15,
     "metadata": {},
     "output_type": "execute_result"
    },
    {
     "data": {
      "image/png": "[encoded data removed]",
      "text/plain": [
       "<matplotlib.figure.Figure at 0x7fddf823c748>"
      ]
     },
     "metadata": {},
     "output_type": "display_data"
    }
   ],
   "source": [
    "Performance_0 = np.load('Performance_0.npy').reshape(3,-1)\n",
    "plt.errorbar(x = np.arange(30), y = np.mean(Performance_0, axis = 0), yerr = np.std(Performance_0, axis = 0), color = 'b')\n",
    "Perrformance_0 = np.load('Performance_300.npy').reshape(3,-1)\n",
    "plt.errorbar(x = np.arange(30), y = np.mean(Performance_0, axis = 0), yerr = np.std(Performance_0, axis = 0), color = 'r')"
   ]
  },
  {
   "cell_type": "markdown",
   "metadata": {},
   "source": [
    "# Real Game Dynamics analysis  \n",
    "The real game dynamcis shows huge difference performance in speed, stability of results, and also statistics of strategy "
   ]
  },
  {
   "cell_type": "markdown",
   "metadata": {},
   "source": [
    "**What is the relation to head direction, this order kept in limit cycle**\n",
    "**Could we define the order parameter for behaviour and link it to dynamics?**"
   ]
  },
  {
   "cell_type": "code",
   "execution_count": 53,
   "metadata": {},
   "outputs": [
    {
     "data": {
      "image/png": "[encoded data removed]",
      "text/plain": [
       "<matplotlib.figure.Figure at 0x7f382bd08cf8>"
      ]
     },
     "metadata": {},
     "output_type": "display_data"
    }
   ],
   "source": [
    "size = 15\n",
    "PC_traces = []\n",
    "# torch.manual_seed(1)\n",
    "hidden = torch.randn(1, 512)\n",
    "for i in range(1):\n",
    "    start = (np.random.randint(2, size +2),  np.random.randint(2, size+2))\n",
    "#     start = (2, 9)\n",
    "\n",
    "    weight = 'weights2/rnn_1515tanh512_checkpoint300_0_25'\n",
    "    game = ValueMaxGame(grid_size = (size, size), holes = 0, random_seed = 4 , set_reward = [(0.5, 0.25), (0.5, 0.75)], input_type = 0, action_control = 5, discount = 0.9, alpha = 1, time_limit=8,\n",
    "                       lam = 0)\n",
    "    game.net.load_state_dict(torch.load(weight))\n",
    "\n",
    "#     Pos1, hidden1, dH1, Action, state, reward1 = trajectory(game, start, reward_control = 0, size = size, test = 0, hidden = hidden)\n",
    "    Pos2, hidden2, dH2, Action, state, reward2 = trajectory(game, start, reward_control = 1, size = size, test = 0, hidden = hidden, scale = 4)\n",
    "    grid = game.grid.grid.copy()\n",
    "    if i == 0:\n",
    "        plt.matshow(grid)\n",
    "        y1 = np.array([p[0] for p in Pos1])\n",
    "        x1 = np.array([p[1] for p in Pos1])\n",
    "        y2 = np.array([p[0] for p in Pos2])\n",
    "        x2 = np.array([p[1] for p in Pos2])\n",
    "\n",
    "        plt.plot(start[1], start[0], 'rs')\n",
    "#         plt.quiver(x1[:-1], y1[:-1], x1[1:]-x1[:-1], y1[1:]-y1[:-1], scale_units='xy', angles='xy', scale=1, color = 'b')\n",
    "        plt.quiver(x2[:-1], y2[:-1], x2[1:]-x2[:-1], y2[1:]-y2[:-1], scale_units='xy', angles='xy', scale=1, color = 'm')\n"
   ]
  },
  {
   "cell_type": "code",
   "execution_count": 67,
   "metadata": {},
   "outputs": [
    {
     "data": {
      "image/png": "[encoded data removed]",
      "text/plain": [
       "<matplotlib.figure.Figure at 0x7f382be57fd0>"
      ]
     },
     "metadata": {},
     "output_type": "display_data"
    }
   ],
   "source": [
    "size = 15\n",
    "PC_traces = []\n",
    "# torch.manual_seed(1)\n",
    "hidden = torch.randn(1, 512)\n",
    "for i in range(1):\n",
    "    start = (np.random.randint(2, size +2),  np.random.randint(2, size+2))\n",
    "#     start = (2, 9)\n",
    "\n",
    "    weight = 'weights2/rnn_1515tanh512_checkpoint300_0_25'\n",
    "    game = ValueMaxGame(grid_size = (size, size), holes = 0, random_seed = 4 , set_reward = [(0.5, 0.25), (0.5, 0.75)], input_type = 0, action_control = 5, discount = 0.9, alpha = 1, time_limit=8,\n",
    "                       lam = 0)\n",
    "    game.net.load_state_dict(torch.load(weight))\n",
    "\n",
    "#     Pos1, hidden1, dH1, Action, state, reward1 = trajectory(game, start, reward_control = 0, size = size, test = 0, hidden = hidden)\n",
    "    Pos2, hidden2, dH2, Action, state, reward2 = trajectory(game, start, reward_control = 1, size = size, test = 0, hidden = hidden, scale = 4)\n",
    "    grid = game.grid.grid.copy()\n",
    "    if i == 0:\n",
    "        plt.matshow(grid)\n",
    "        y1 = np.array([p[0] for p in Pos1])\n",
    "        x1 = np.array([p[1] for p in Pos1])\n",
    "        y2 = np.array([p[0] for p in Pos2])\n",
    "        x2 = np.array([p[1] for p in Pos2])\n",
    "\n",
    "        plt.plot(start[1], start[0], 'rs')\n",
    "#         plt.quiver(x1[:-1], y1[:-1], x1[1:]-x1[:-1], y1[1:]-y1[:-1], scale_units='xy', angles='xy', scale=1, color = 'b')\n",
    "        plt.quiver(x2[:-1], y2[:-1], x2[1:]-x2[:-1], y2[1:]-y2[:-1], scale_units='xy', angles='xy', scale=1, color = 'm')\n"
   ]
  },
  {
   "cell_type": "code",
   "execution_count": 5,
   "metadata": {},
   "outputs": [
    {
     "data": {
      "image/png": "[encoded data removed]",
      "text/plain": [
       "<matplotlib.figure.Figure at 0x7fe4acfd7dd8>"
      ]
     },
     "metadata": {},
     "output_type": "display_data"
    }
   ],
   "source": [
    "size = 15\n",
    "PC_traces = []\n",
    "# torch.manual_seed(2)\n",
    "hidden = torch.randn(1, 512)\n",
    "for i in range(1):\n",
    "    start = (np.random.randint(2, size +2),  np.random.randint(2, size+2))\n",
    "    start = (4, 9)\n",
    "    weight = 'weights_fix3/weights3/rnn_1515tanh512_checkpoint0_0_15'\n",
    "    game = ValueMaxGame(grid_size = (size, size), holes = 0, random_seed = 4 , set_reward = [(0.5, 0.25), (0.5, 0.75)], input_type = 0, action_control = 1, discount = 0.9, alpha = 1, time_limit=8,\n",
    "                       lam = 0)\n",
    "    game.net.load_state_dict(torch.load(weight))\n",
    "    ry, rx = 5, 4\n",
    "    game.grid.grid[ry : ry + 1, rx : rx +11] = 0\n",
    "    grid = game.grid.grid.copy()\n",
    "    plt.matshow(grid)"
   ]
  },
  {
   "cell_type": "code",
   "execution_count": 20,
   "metadata": {},
   "outputs": [
    {
     "data": {
      "image/png": "[encoded data removed]",
      "text/plain": [
       "<matplotlib.figure.Figure at 0x7f0a71ff96a0>"
      ]
     },
     "metadata": {},
     "output_type": "display_data"
    }
   ],
   "source": [
    "size = 15\n",
    "PC_traces = []\n",
    "# torch.manual_seed(2)\n",
    "hidden = torch.randn(1, 512)\n",
    "for i in range(1):\n",
    "    start = (np.random.randint(2, size +2),  np.random.randint(2, size+2))\n",
    "    start = (4, 9)\n",
    "    weight = 'weights_fix4/rnn_1515tanh512_checkpoint0_0_15'\n",
    "    game = ValueMaxGame(grid_size = (size, size), holes = 50, random_seed = 4 , set_reward = [(0.5, 0.25), (0.5, 0.75)], input_type = 0, action_control = 5, discount = 0.9, alpha = 1, time_limit=8,\n",
    "                       lam = 0)\n",
    "    game.net.load_state_dict(torch.load(weight))\n",
    "    game.net.k_action = 5\n",
    "    ry, rx = 5, 4\n",
    "    game.grid.grid[ry : ry + 1, rx : rx +11] = 0\n",
    "    grid = game.grid.grid.copy()\n",
    "    plt.matshow(grid)\n",
    "    start_w, stop_w = 6, 6\n",
    "    Pos1, hidden1, dH1, Action, reward1 = trajectory(game, start, reward_control = 0, size = size, test = 0, hidden = hidden, wind = (start_w, stop_w), map_set=grid)\n",
    "    Pos2, hidden2, dH2, Action, reward2 = trajectory(game, start, reward_control = 1, size = size, test = 0, hidden = hidden, wind = (start_w, stop_w), map_set=grid)\n",
    "   \n",
    "    if i == 0:\n",
    "#         plt.matshow(grid)\n",
    "        y1 = np.array([p[0] for p in Pos1])\n",
    "        x1 = np.array([p[1] for p in Pos1])\n",
    "        y2 = np.array([p[0] for p in Pos2])\n",
    "        x2 = np.array([p[1] for p in Pos2])\n",
    "        plt.plot(start[1], start[0], 'rs')\n",
    "#         plt.quiver(x1[:-1], y1[:-1], x1[1:]-x1[:-1], y1[1:]-y1[:-1], scale_units='xy', angles='xy', scale=1, color = 'b')\n",
    "        x_w, y_w = x1[start_w:stop_w], y1[start_w:stop_w]\n",
    "        plt.quiver(x_w[:-1], y_w[:-1], x_w[1:]-x_w[:-1], y_w[1:]-y_w[:-1], scale_units='xy', angles='xy', scale=1, color = 'r')\n",
    "#         plt.figure()\n",
    "#         plt.matshow(grid)\n",
    "        plt.quiver(x2[:-1], y2[:-1], x2[1:]-x2[:-1], y2[1:]-y2[:-1], scale_units='xy', angles='xy', scale=1, color = 'm')"
   ]
  },
  {
   "cell_type": "code",
   "execution_count": 21,
   "metadata": {},
   "outputs": [
    {
     "data": {
      "image/png": "[encoded data removed]",
      "text/plain": [
       "<matplotlib.figure.Figure at 0x7f0a7226f668>"
      ]
     },
     "metadata": {},
     "output_type": "display_data"
    }
   ],
   "source": [
    "size = 15\n",
    "PC_traces = []\n",
    "# torch.manual_seed(2)\n",
    "hidden = torch.randn(1, 512)\n",
    "for i in range(1):\n",
    "    start = (np.random.randint(2, size +2),  np.random.randint(2, size+2))\n",
    "    start = (4, 8)\n",
    "    weight = 'weights_fix4/rnn_1515tanh512_checkpoint0_0_15'\n",
    "    game = ValueMaxGame(grid_size = (size, size), holes = 50, random_seed = 4 , set_reward = [(0.5, 0.25), (0.5, 0.75)], input_type = 0, action_control = 5, discount = 0.9, alpha = 1, time_limit=8,\n",
    "                       lam = 0)\n",
    "    game.net.load_state_dict(torch.load(weight))\n",
    "    game.net.k_action = 5\n",
    "    ry, rx = 5, 4\n",
    "    game.grid.grid[ry - 1 : ry + 3, rx + 4 : rx + 6] = 0\n",
    "    grid = game.grid.grid.copy()\n",
    "    plt.matshow(grid)"
   ]
  },
  {
   "cell_type": "code",
   "execution_count": 24,
   "metadata": {},
   "outputs": [
    {
     "data": {
      "image/png": "[encoded data removed]",
      "text/plain": [
       "<matplotlib.figure.Figure at 0x7f0a72471cc0>"
      ]
     },
     "metadata": {},
     "output_type": "display_data"
    }
   ],
   "source": [
    "size = 15\n",
    "PC_traces = []\n",
    "# torch.manual_seed(2)\n",
    "hidden = torch.randn(1, 512)\n",
    "for i in range(1):\n",
    "    start = (np.random.randint(2, size +2),  np.random.randint(2, size+2))\n",
    "    start = (4, 8)\n",
    "    weight = 'weights_fix3/weights3/rnn_1515tanh512_checkpoint0_0_15'\n",
    "    \n",
    "    weight = 'weights_fix4/rnn_1515tanh512_checkpoint0_0_15'\n",
    "    game = ValueMaxGame(grid_size = (size, size), holes = 50, random_seed = 4 , set_reward = [(0.5, 0.25), (0.5, 0.75)], input_type = 0, action_control = 5, discount = 0.9, alpha = 1, time_limit=8,\n",
    "                       lam = 0)\n",
    "    game.net.load_state_dict(torch.load(weight))\n",
    "    game.net.k_action = 5\n",
    "    ry, rx = 5, 4\n",
    "    game.grid.grid[ry - 1 : ry + 3, rx + 4 : rx + 6] = 0\n",
    "    grid = game.grid.grid.copy()\n",
    "    plt.matshow(grid)\n",
    "    start_w, stop_w = 6, 6\n",
    "    Pos1, hidden1, dH1, Action, reward1 = trajectory(game, start, reward_control = 0, size = size, test = 0, hidden = hidden, wind = (start_w, stop_w), map_set=grid)\n",
    "    Pos2, hidden2, dH2, Action, reward2 = trajectory(game, start, reward_control = 1, size = size, test = 0, hidden = hidden, wind = (start_w, stop_w), map_set=grid)\n",
    "   \n",
    "#     if i == 0:\n",
    "# #         plt.matshow(grid)\n",
    "#         y1 = np.array([p[0] for p in Pos1])\n",
    "#         x1 = np.array([p[1] for p in Pos1])\n",
    "#         y2 = np.array([p[0] for p in Pos2])\n",
    "#         x2 = np.array([p[1] for p in Pos2])\n",
    "#         plt.plot(start[1], start[0], 'rs')\n",
    "# #         plt.quiver(x1[:-1], y1[:-1], x1[1:]-x1[:-1], y1[1:]-y1[:-1], scale_units='xy', angles='xy', scale=1, color = 'b')\n",
    "#         x_w, y_w = x1[start_w:stop_w], y1[start_w:stop_w]\n",
    "#         plt.quiver(x_w[:-1], y_w[:-1], x_w[1:]-x_w[:-1], y_w[1:]-y_w[:-1], scale_units='xy', angles='xy', scale=1, color = 'r')\n",
    "# #         plt.figure()\n",
    "# #         plt.matshow(grid)\n",
    "#         plt.quiver(x2[:-1], y2[:-1], x2[1:]-x2[:-1], y2[1:]-y2[:-1], scale_units='xy', angles='xy', scale=1, color = 'm')\n",
    "    \n",
    "#     PC_traces1 = (pca.vect[:10] @ hidden1.T)\n",
    "#     PC_traces2 = (pca.vect[:10] @ hidden2.T)\n",
    "#     if reward1 == 1: \n",
    "#         PC_traces.extend(PC_traces1[0])\n",
    "#     if reward2 == 1:\n",
    "#         PC_traces.extend(PC_traces2[0])\n",
    "#     if i == 0:\n",
    "#         plt.figure()\n",
    "#         for pc in [0, 1, 2]:\n",
    "#             plt.plot(PC_traces2[pc], label = pc)\n",
    "#         plt.legend()\n",
    "#         plt.xlabel('time')\n",
    "#         plt.ylabel('pca')\n",
    "#         plt.figure()\n",
    "#         plt.plot(Action)\n",
    "# ff, pd = signal.periodogram(np.array(PC_traces), nfft = 100)\n",
    "# plt.figure()\n",
    "# plt.plot(ff, pd)\n",
    "# plt.xlim(0 , 0.1)"
   ]
  },
  {
   "cell_type": "code",
   "execution_count": 33,
   "metadata": {},
   "outputs": [
    {
     "data": {
      "image/png": "[encoded data removed]",
      "text/plain": [
       "<matplotlib.figure.Figure at 0x7f3787396e48>"
      ]
     },
     "metadata": {},
     "output_type": "display_data"
    }
   ],
   "source": [
    "size = 15\n",
    "PC_traces = []\n",
    "# torch.manual_seed(2)\n",
    "hidden = torch.randn(1, 512)\n",
    "for i in range(1):\n",
    "    start = (np.random.randint(2, size +2),  np.random.randint(2, size+2))\n",
    "    start = (4, 8)\n",
    "    weight = 'weights_fix3/weights3/rnn_1515tanh512_checkpoint0_0_15'\n",
    "    \n",
    "    game = ValueMaxGame(grid_size = (size, size), holes = 0, random_seed = 4 , set_reward = [(0.5, 0.25), (0.5, 0.75)], input_type = 0, action_control = 1, discount = 0.9, alpha = 1, time_limit=8,\n",
    "                       lam = 0)\n",
    "    game.net.load_state_dict(torch.load(weight))\n",
    "    ry, rx = 5, 4\n",
    "    game.grid.grid[ry - 1 : ry + 3, rx : rx + 2] = 0\n",
    "    game.grid.grid[ry - 1 : ry + 3, rx + 9 : rx + 11] = 0\n",
    "    grid = game.grid.grid.copy()\n",
    "    plt.matshow(grid)\n",
    "    start_w, stop_w = 6, 6\n",
    "    Pos1, hidden1, dH1, Action, reward1 = trajectory(game, start, reward_control = 0, size = size, test = 0, hidden = hidden, wind = (start_w, stop_w), map_set=grid)\n",
    "    Pos2, hidden2, dH2, Action, reward2 = trajectory(game, start, reward_control = 1, size = size, test = 0, hidden = hidden, wind = (start_w, stop_w), map_set=grid)\n",
    "   \n",
    "    if i == 0:\n",
    "#         plt.matshow(grid)\n",
    "        y1 = np.array([p[0] for p in Pos1])\n",
    "        x1 = np.array([p[1] for p in Pos1])\n",
    "        y2 = np.array([p[0] for p in Pos2])\n",
    "        x2 = np.array([p[1] for p in Pos2])\n",
    "        plt.plot(start[1], start[0], 'rs')\n",
    "#         plt.quiver(x1[:-1], y1[:-1], x1[1:]-x1[:-1], y1[1:]-y1[:-1], scale_units='xy', angles='xy', scale=1, color = 'b')\n",
    "        x_w, y_w = x1[start_w:stop_w], y1[start_w:stop_w]\n",
    "        plt.quiver(x_w[:-1], y_w[:-1], x_w[1:]-x_w[:-1], y_w[1:]-y_w[:-1], scale_units='xy', angles='xy', scale=1, color = 'r')\n",
    "#         plt.figure()\n",
    "#         plt.matshow(grid)\n",
    "        plt.quiver(x2[:-1], y2[:-1], x2[1:]-x2[:-1], y2[1:]-y2[:-1], scale_units='xy', angles='xy', scale=1, color = 'm')"
   ]
  },
  {
   "cell_type": "code",
   "execution_count": 40,
   "metadata": {},
   "outputs": [],
   "source": [
    "Performance_block = []\n",
    "for x in np.arange(2, 17):\n",
    "    performance= []\n",
    "    for y in np.arange(5):\n",
    "        weight ='weights_fix3/weights3/rnn_1515tanh512_checkpoint0_0_15'\n",
    "        pregame = PretrainTest(weight_write = weight, holes = 0, inputs_type = (1, 0))\n",
    "        pregame.game.net.load_state_dict(torch.load(weight))\n",
    "        y = 4\n",
    "#         pregame.game.grid.grid[ry-1 : ry + 3, rx + 4 : rx + 6] = 0\n",
    "        grid =  pregame.game.grid.grid.copy()\n",
    "        pregame.TestAllSizes(size_range = [15], limit_set = 2, test_size = 0, grid = grid, start = (y, x))\n",
    "#         print (y, x, pregame.Performance)\n",
    "        performance.append(pregame.Performance)\n",
    "    Performance_block.append(performance)\n",
    "np.save('Performance_block_echo', Performance_block)"
   ]
  },
  {
   "cell_type": "code",
   "execution_count": 41,
   "metadata": {},
   "outputs": [],
   "source": [
    "Performance_block2 = []\n",
    "for x in np.arange(2, 17):\n",
    "    performance= []\n",
    "    for y in np.arange(5):\n",
    "        weight ='weights_fix3/weights3/rnn_1515tanh512_checkpoint0_0_15'\n",
    "        pregame = PretrainTest(weight_write = weight, holes = 0, inputs_type = (1, 0))\n",
    "        pregame.game.net.load_state_dict(torch.load(weight))\n",
    "        y = 4\n",
    "        ry, rx = 5, 4\n",
    "        pregame.game.grid.grid[ry - 1 : ry + 3, rx : rx + 2] = 0\n",
    "        pregame.game.grid.grid[ry - 1 : ry + 3, rx + 9 : rx + 11] = 0\n",
    "        grid =  pregame.game.grid.grid.copy()\n",
    "        pregame.TestAllSizes(size_range = [15], limit_set = 2, test_size = 0, grid = grid, start = (y, x))\n",
    "#         print (y, x, pregame.Performance)\n",
    "        performance.append(pregame.Performance)\n",
    "    Performance_block2.append(performance)\n",
    "np.save('Performance_block2_echo', Performance_block2)"
   ]
  },
  {
   "cell_type": "code",
   "execution_count": 42,
   "metadata": {},
   "outputs": [
    {
     "name": "stdout",
     "output_type": "stream",
     "text": [
      "4 2 [-0.6178776464420996]\n",
      "4 2 [-0.7685546875]\n",
      "4 2 [-0.68857421875]\n",
      "4 2 [-0.6437034970238096]\n",
      "4 2 [-0.7365885416666667]\n",
      "4 3 [-0.6727057478205342]\n",
      "4 3 [-0.7831579137731481]\n",
      "4 3 [-0.6656314854725416]\n",
      "4 3 [-0.7234519675925926]\n",
      "4 3 [-0.8141637731481481]\n",
      "4 4 [-0.8625139508928572]\n",
      "4 4 [-0.8642113095238095]\n",
      "4 4 [-0.890625]\n",
      "4 4 [-0.796875]\n",
      "4 4 [-0.89169921875]\n",
      "4 5 [-0.9092158564814815]\n",
      "4 5 [-0.8287760416666667]\n",
      "4 5 [-0.8916352370689655]\n",
      "4 5 [-0.832040928320562]\n",
      "4 5 [-0.9083587311126373]\n",
      "4 6 [-0.9092494419642857]\n",
      "4 6 [-0.9375]\n",
      "4 6 [-0.893359375]\n",
      "4 6 [-0.9238978794642857]\n",
      "4 6 [-0.8768880208333334]\n",
      "4 7 [-0.9375]\n",
      "4 7 [-0.90625]\n",
      "4 7 [-0.9241698595146871]\n",
      "4 7 [-0.9416956018518519]\n",
      "4 7 [-0.9236260775862069]\n",
      "4 8 [-0.9238978794642857]\n",
      "4 8 [-0.9538922991071428]\n",
      "4 8 [-0.890625]\n",
      "4 8 [-0.953125]\n",
      "4 8 [-0.87734375]\n",
      "4 9 [-0.8594599184782609]\n",
      "4 9 [-0.7864593094077961]\n",
      "4 9 [-0.921875]\n",
      "4 9 [-0.8751027960526316]\n",
      "4 9 [-0.921875]\n",
      "4 10 [-0.84375]\n",
      "4 10 [-0.8613116845538721]\n",
      "4 10 [-0.9093889508928572]\n",
      "4 10 [-0.9248860677083333]\n",
      "4 10 [-0.876708984375]\n",
      "4 11 [-0.7532678973013494]\n",
      "4 11 [-0.9118544104064039]\n",
      "4 11 [-0.8460398706896551]\n",
      "4 11 [-0.8138671875]\n",
      "4 11 [-0.8472806490384616]\n",
      "4 12 [-0.7281366257440476]\n",
      "4 12 [-0.8176664806547619]\n",
      "4 12 [-0.8440755208333333]\n",
      "4 12 [-0.890625]\n",
      "4 12 [-0.8135917467948718]\n",
      "4 13 [-0.7721222512813534]\n",
      "4 13 [-0.7824977313974592]\n",
      "4 13 [-0.8438281249999999]\n",
      "4 13 [-0.8614979619565217]\n",
      "4 13 [-0.8021683928001277]\n",
      "4 14 [-0.7204337284482758]\n",
      "4 14 [-0.7825055803571428]\n",
      "4 14 [-0.6918294270833334]\n",
      "4 14 [-0.7217270359848484]\n",
      "4 14 [-0.703125]\n",
      "4 15 [-0.48613914830779054]\n",
      "4 15 [-0.6144401041666667]\n",
      "4 15 [-0.643203125]\n",
      "4 15 [-0.5967656378284072]\n",
      "4 15 [-0.6275524607487922]\n",
      "4 16 [-0.4863503196022727]\n",
      "4 16 [-0.5378510974702381]\n",
      "4 16 [-0.595361328125]\n",
      "4 16 [-0.6335675634655296]\n",
      "4 16 [-0.49006231398809524]\n"
     ]
    }
   ],
   "source": [
    "Performance_short = []\n",
    "for x in np.arange(2, 17):\n",
    "    performance_short = []\n",
    "    for y in np.arange(5):\n",
    "        weight ='weights_fix3/weights3/rnn_1515tanh512_checkpoint0_0_15'\n",
    "        pregame = PretrainTest(weight_write = weight, holes = 0, inputs_type = (1, 0))\n",
    "        pregame.game.net.load_state_dict(torch.load(weight))\n",
    "        y = 4\n",
    "        pregame.game.grid.grid[ry-1 : ry + 3, rx + 4 : rx + 6] = 0\n",
    "        grid =  pregame.game.grid.grid.copy()\n",
    "        pregame.TestAllSizes(size_range = [15], limit_set = 2, test_size = 0, grid = grid, start = (y, x))\n",
    "        print (y, x, pregame.Performance)\n",
    "        performance_short.append(pregame.Performance)\n",
    "    Performance_short.append(performance_short)\n",
    "np.save('Performance_short_echo', Performance_short)"
   ]
  },
  {
   "cell_type": "code",
   "execution_count": 2,
   "metadata": {},
   "outputs": [
    {
     "data": {
      "text/plain": [
       "<matplotlib.legend.Legend at 0x7fcabc374908>"
      ]
     },
     "execution_count": 2,
     "metadata": {},
     "output_type": "execute_result"
    },
    {
     "data": {
      "image/png": "[encoded data removed]",
      "text/plain": [
       "<matplotlib.figure.Figure at 0x7fcb28148198>"
      ]
     },
     "metadata": {},
     "output_type": "display_data"
    }
   ],
   "source": [
    "Performance_short = np.load('Performance_short_echo.npy')\n",
    "Performance_block = np.load('Performance_block_echo.npy')\n",
    "Performance_block2 = np.load('Performance_block2_echo.npy')\n",
    "plt.plot(np.mean(Performance_block, axis = 1), 'b.-', label = 'block')\n",
    "# plt.plot(np.mean(Performance_block2, axis = 1), 'g.-', label = 'short block')\n",
    "plt.plot(np.mean(Performance_short, axis = 1), 'r.-', label = 'short cut')\n",
    "plt.xlabel('x')\n",
    "plt.ylabel('performance')\n",
    "plt.legend()"
   ]
  },
  {
   "cell_type": "code",
   "execution_count": 153,
   "metadata": {},
   "outputs": [
    {
     "data": {
      "image/png": "[encoded data removed]",
      "text/plain": [
       "<matplotlib.figure.Figure at 0x7f04b9132a90>"
      ]
     },
     "metadata": {},
     "output_type": "display_data"
    }
   ],
   "source": [
    "size = 15\n",
    "PC_traces = []\n",
    "# torch.manual_seed(2)\n",
    "hidden = torch.randn(1, 512)\n",
    "for i in range(1):\n",
    "    start = (np.random.randint(2, size +2),  np.random.randint(2, size+2))\n",
    "    start = (3, 9)\n",
    "    weight = 'weights_fix3/weights3/rnn_1515tanh512_checkpoint39_0_20'\n",
    "    \n",
    "    game = ValueMaxGame(grid_size = (size, size), holes = 0, random_seed = 4 , set_reward = [(0.5, 0.25), (0.5, 0.75)], input_type = 0, action_control = 1, discount = 0.9, alpha = 1, time_limit=8,\n",
    "                       lam = 0)\n",
    "    game.net.load_state_dict(torch.load(weight))\n",
    "    ry, rx = 5, 4\n",
    "    game.grid.grid[ry - 1 : ry + 3, rx + 4 : rx + 6] = 0\n",
    "    grid = game.grid.grid.copy()\n",
    "    plt.matshow(grid)\n",
    "    start_w, stop_w = 6, 6\n",
    "    Pos1, hidden1, dH1, Action, reward1 = trajectory(game, start, reward_control = 0, size = size, test = 0, hidden = hidden, wind = (start_w, stop_w), map_set=grid)\n",
    "    Pos2, hidden2, dH2, Action, reward2 = trajectory(game, start, reward_control = 1, size = size, test = 0, hidden = hidden, wind = (start_w, stop_w), map_set=grid)\n",
    "   \n",
    "    if i == 0:\n",
    "#         plt.matshow(grid)\n",
    "        y1 = np.array([p[0] for p in Pos1])\n",
    "        x1 = np.array([p[1] for p in Pos1])\n",
    "        y2 = np.array([p[0] for p in Pos2])\n",
    "        x2 = np.array([p[1] for p in Pos2])\n",
    "        plt.plot(start[1], start[0], 'rs')\n",
    "#         plt.quiver(x1[:-1], y1[:-1], x1[1:]-x1[:-1], y1[1:]-y1[:-1], scale_units='xy', angles='xy', scale=1, color = 'b')\n",
    "        x_w, y_w = x1[start_w:stop_w], y1[start_w:stop_w]\n",
    "        plt.quiver(x_w[:-1], y_w[:-1], x_w[1:]-x_w[:-1], y_w[1:]-y_w[:-1], scale_units='xy', angles='xy', scale=1, color = 'r')\n",
    "#         plt.figure()\n",
    "#         plt.matshow(grid)\n",
    "        plt.quiver(x2[:-1], y2[:-1], x2[1:]-x2[:-1], y2[1:]-y2[:-1], scale_units='xy', angles='xy', scale=1, color = 'm')"
   ]
  },
  {
   "cell_type": "code",
   "execution_count": 89,
   "metadata": {},
   "outputs": [
    {
     "name": "stdout",
     "output_type": "stream",
     "text": [
      "[0.6761077685283823]\n",
      "[0.7922686226798004]\n",
      "[0.8902626654674337]\n",
      "[0.9096574658076826]\n",
      "[0.9255084771215962]\n",
      "[0.925142716484108]\n"
     ]
    }
   ],
   "source": [
    "for iters in np.arange(5, 16, 2):\n",
    "    weight ='weights_fix3/weights3/rnn_1515tanh512_checkpoint39_0_{}'.format(iters)\n",
    "    pregame = PretrainTest(weight_write = weight, holes = 0, inputs_type = (1, 0))\n",
    "    pregame.game.net.load_state_dict(torch.load(weight))\n",
    "    pregame.game.grid.grid[ry : ry + 1, rx + 4 : rx + 6] = 0\n",
    "    grid =  pregame.game.grid.grid.copy()\n",
    "    pregame.TestAllSizes(size_range = [15], limit_set = 8, test_size = 0, grid = grid)\n",
    "    print (pregame.Performance)"
   ]
  },
  {
   "cell_type": "code",
   "execution_count": 158,
   "metadata": {},
   "outputs": [
    {
     "name": "stdout",
     "output_type": "stream",
     "text": [
      "2 2 [0.07982683007097069]\n",
      "2 3 [0.24194211488005996]\n",
      "2 4 [0.12107868402251487]\n",
      "2 5 [0.03367039740918232]\n",
      "2 6 [0.15866370806503277]\n",
      "2 7 [0.1126483199372536]\n",
      "2 8 [0.41053728172868803]\n",
      "2 9 [0.28781070208129633]\n",
      "2 10 [0.470371344150641]\n",
      "2 11 [0.5051579393834829]\n",
      "2 12 [0.5950968139932984]\n",
      "2 13 [0.40138375752599886]\n",
      "2 14 [0.7730030548878205]\n",
      "2 15 [0.7002727049304296]\n",
      "2 16 [0.6977409903276072]\n",
      "3 2 [0.1614103972319396]\n",
      "3 3 [0.20624069940476192]\n",
      "3 4 [-0.06149698169888271]\n",
      "3 5 [0.09339612210705961]\n",
      "3 6 [0.0035628192848020657]\n",
      "3 7 [-0.01369715245691805]\n",
      "3 8 [0.10068579890770074]\n",
      "3 9 [0.07081515489718615]\n",
      "3 10 [0.17967345645753513]\n",
      "3 11 [0.2588187528617216]\n",
      "3 12 [0.20502001231527095]\n",
      "3 13 [0.39968103727869353]\n",
      "3 14 [0.32383907415809643]\n",
      "3 15 [0.447543211996337]\n",
      "3 16 [0.33449622411016716]\n",
      "4 2 [0.3743931361607143]\n",
      "4 3 [0.2414374911484686]\n",
      "4 4 [0.051051695338804715]\n",
      "4 5 [-0.011720273295891703]\n",
      "4 6 [0.17267138785693475]\n",
      "4 7 [0.14468004217137465]\n",
      "4 8 [0.11623101833062771]\n",
      "4 9 [0.1619301681975102]\n",
      "4 10 [0.18266220902939653]\n",
      "4 11 [0.39238649110203666]\n",
      "4 12 [0.460143551110348]\n",
      "4 13 [0.39834879869093226]\n",
      "4 14 [0.6626292977855478]\n",
      "4 15 [0.6953944165070243]\n",
      "4 16 [0.7912434697102666]\n"
     ]
    }
   ],
   "source": [
    "Performance_block = []\n",
    "for y in np.arange(2, 5):\n",
    "    for x in np.arange(2, 17):\n",
    "        weight ='weights_fix3/weights3/rnn_1515tanh512_checkpoint39_0_20'\n",
    "        pregame = PretrainTest(weight_write = weight, holes = 0, inputs_type = (1, 0))\n",
    "        pregame.game.net.load_state_dict(torch.load(weight))\n",
    "#         pregame.game.grid.grid[ry-1 : ry + 3, rx + 4 : rx + 6] = 0\n",
    "        grid =  pregame.game.grid.grid.copy()\n",
    "        pregame.TestAllSizes(size_range = [15], limit_set = 2, test_size = 0, grid = grid, start = (y, x))\n",
    "        print (y, x, pregame.Performance)\n",
    "        Performance_block.append(pregame.Performance)"
   ]
  },
  {
   "cell_type": "code",
   "execution_count": 157,
   "metadata": {},
   "outputs": [
    {
     "name": "stdout",
     "output_type": "stream",
     "text": [
      "2 2 [0.015293219150640969]\n",
      "2 3 [0.2228502643209645]\n",
      "2 4 [0.14103318892852834]\n",
      "2 5 [0.1714863369096702]\n",
      "2 6 [0.15493581938894438]\n",
      "2 7 [0.48953502050144515]\n",
      "2 8 [0.5078414153121185]\n",
      "2 9 [0.5659256794192773]\n",
      "2 10 [0.4902545262896825]\n",
      "2 11 [0.4913216894157088]\n",
      "2 12 [0.3963663289835165]\n",
      "2 13 [0.6134851170220811]\n",
      "2 14 [0.6164367858703796]\n",
      "2 15 [0.6967834906951287]\n",
      "2 16 [0.6008085826933484]\n",
      "3 2 [0.25177650118654127]\n",
      "3 3 [0.09503133585164833]\n",
      "3 4 [0.05069626815436523]\n",
      "3 5 [0.14478953988719612]\n",
      "3 6 [0.12674017096114643]\n",
      "3 7 [0.29610376602564104]\n",
      "3 8 [0.4107291624916447]\n",
      "3 9 [0.2578909913870851]\n",
      "3 10 [0.14696105568247625]\n",
      "3 11 [0.4433030998948968]\n",
      "3 12 [0.22788639400919197]\n",
      "3 13 [0.2850010666416916]\n",
      "3 14 [0.3485792650549725]\n",
      "3 15 [0.5699154361263736]\n",
      "3 16 [0.3696883979885058]\n",
      "4 2 [0.3190018286984208]\n",
      "4 3 [0.19385170796012252]\n",
      "4 4 [0.1371145265474468]\n",
      "4 5 [-0.07158285874423898]\n",
      "4 6 [0.2843666551971579]\n",
      "4 7 [0.14869789753658572]\n",
      "4 8 [0.30427195417429787]\n",
      "4 9 [0.6068016256204605]\n",
      "4 10 [0.3119325102290818]\n",
      "4 11 [0.4570298559086616]\n",
      "4 12 [0.45502876030219774]\n",
      "4 13 [0.6279358972743161]\n",
      "4 14 [0.6782986869900932]\n",
      "4 15 [0.8018236541451497]\n",
      "4 16 [0.7405423677884615]\n"
     ]
    }
   ],
   "source": [
    "Performance = []\n",
    "for y in np.arange(2, 5):\n",
    "    for x in np.arange(2, 17):\n",
    "        weight ='weights_fix3/weights3/rnn_1515tanh512_checkpoint39_0_20'.format(iters)\n",
    "        pregame = PretrainTest(weight_write = weight, holes = 0, inputs_type = (1, 0))\n",
    "        pregame.game.net.load_state_dict(torch.load(weight))\n",
    "        pregame.game.grid.grid[ry-1 : ry + 3, rx + 4 : rx + 6] = 0\n",
    "        grid =  pregame.game.grid.grid.copy()\n",
    "        pregame.TestAllSizes(size_range = [15], limit_set = 2, test_size = 0, grid = grid, start = (y, x))\n",
    "        print (y, x, pregame.Performance)\n",
    "        Performance.append(pregame.Performance)"
   ]
  },
  {
   "cell_type": "code",
   "execution_count": 159,
   "metadata": {},
   "outputs": [
    {
     "data": {
      "text/plain": [
       "(array([2., 2., 8., 5., 7., 4., 6., 6., 3., 2.]),\n",
       " array([-0.07158286,  0.01575779,  0.10309844,  0.1904391 ,  0.27777975,\n",
       "         0.3651204 ,  0.45246105,  0.5398017 ,  0.62714235,  0.714483  ,\n",
       "         0.80182365]),\n",
       " <a list of 10 Patch objects>)"
      ]
     },
     "execution_count": 159,
     "metadata": {},
     "output_type": "execute_result"
    },
    {
     "data": {
      "image/png": "[encoded data removed]",
      "text/plain": [
       "<matplotlib.figure.Figure at 0x7f04b9059f28>"
      ]
     },
     "metadata": {},
     "output_type": "display_data"
    }
   ],
   "source": [
    "plt.hist(np.array(Performance_block).ravel())\n",
    "plt.hist(np.array(Performance).ravel(), alpha = 0.5)"
   ]
  },
  {
   "cell_type": "code",
   "execution_count": 110,
   "metadata": {},
   "outputs": [
    {
     "name": "stdout",
     "output_type": "stream",
     "text": [
      "[-0.4159807965472028]\n",
      "[-0.22951007326007322]\n",
      "[-0.04555324233058608]\n",
      "[0.0728937815656566]\n",
      "[0.24225124114839902]\n",
      "[0.1171499399038462]\n",
      "[0.2119607605935731]\n",
      "[0.31483266082875455]\n",
      "[0.3626427934045121]\n",
      "[0.4568203768887363]\n",
      "[0.2586642686740343]\n",
      "[0.3024262033539378]\n",
      "[0.34956907242063495]\n",
      "[0.2684296064178876]\n"
     ]
    }
   ],
   "source": [
    "for iters in np.arange(5, 32, 2):\n",
    "    weight ='weights_fix3/weights3/rnn_1515tanh512_checkpoint39_0_{}'.format(iters)\n",
    "    pregame = PretrainTest(weight_write = weight, holes = 0, inputs_type = (1, 0))\n",
    "    pregame.game.net.load_state_32dict(torch.load(weight))\n",
    "    pregame.game.grid.grid[ry : ry + 1, rx + 4 : rx + 6] = 0\n",
    "    grid =  pregame.game.grid.grid.copy()\n",
    "    pregame.TestAllSizes(size_range = [15], limit_set = 2, test_size = 0, grid = grid, start = (3, 9))\n",
    "    print (pregame.Performance)"
   ]
  },
  {
   "cell_type": "code",
   "execution_count": 114,
   "metadata": {},
   "outputs": [
    {
     "name": "stdout",
     "output_type": "stream",
     "text": [
      "[0.4292240309787149]\n",
      "[0.49363544680836796]\n",
      "[0.4152296255456101]\n",
      "[0.5229377590976206]\n",
      "[0.44557531358589714]\n",
      "[0.5400592432676206]\n",
      "[0.5582717569786535]\n",
      "[0.4736456013586774]\n",
      "[0.3645851798998684]\n",
      "[0.36676668776487903]\n",
      "[0.34826056403841726]\n",
      "[0.31918330742340817]\n",
      "[0.39713098495114146]\n"
     ]
    }
   ],
   "source": [
    "for iters in np.arange(22, 35, 1):\n",
    "    weight ='weights_fix3/weights3/rnn_1515tanh512_checkpoint39_0_{}'.format(iters)\n",
    "    pregame = PretrainTest(weight_write = weight, holes = 0, inputs_type = (1, 0))\n",
    "    pregame.game.net.load_state_dict(torch.load(weight))\n",
    "    pregame.game.grid.grid[ry : ry + 1, rx + 4 : rx + 6] = 0\n",
    "    grid =  pregame.game.grid.grid.copy()\n",
    "    pregame.TestAllSizes(size_range = [15], limit_set = 2, test_size = 0, grid = grid, start = (4, 9))\n",
    "    print (pregame.Performance)"
   ]
  },
  {
   "cell_type": "code",
   "execution_count": 96,
   "metadata": {},
   "outputs": [
    {
     "name": "stdout",
     "output_type": "stream",
     "text": [
      "[-0.3185755459967475]\n",
      "[-0.08698671301210364]\n",
      "[0.03805279481822764]\n",
      "[0.39485825047348483]\n",
      "[0.47737768360411137]\n",
      "[0.5309222317820314]\n",
      "[0.6057025168841575]\n",
      "[0.6479216746794871]\n",
      "[0.7299669406114719]\n"
     ]
    }
   ],
   "source": [
    "for iters in np.arange(5, 22, 2):\n",
    "    weight ='weights_fix3/weights3/rnn_1515tanh512_checkpoint39_0_{}'.format(iters)\n",
    "    pregame = PretrainTest(weight_write = weight, holes = 0, inputs_type = (1, 0))\n",
    "    pregame.game.net.load_state_dict(torch.load(weight))\n",
    "    pregame.game.grid.grid[ry : ry + 1, rx + 4 : rx + 6] = 0\n",
    "    grid =  pregame.game.grid.grid.copy()\n",
    "    pregame.TestAllSizes(size_range = [15], limit_set = 2, test_size = 0, grid = grid, start = (5, 9))\n",
    "    print (pregame.Performance)"
   ]
  },
  {
   "cell_type": "code",
   "execution_count": 97,
   "metadata": {},
   "outputs": [
    {
     "name": "stdout",
     "output_type": "stream",
     "text": [
      "[-0.21875]\n",
      "[0.10410234645821931]\n",
      "[0.26019099019438696]\n",
      "[0.5562362308429118]\n",
      "[0.6695145730706076]\n",
      "[0.7428668478260869]\n",
      "[0.7014637001110513]\n",
      "[0.7949720731152281]\n",
      "[0.809526523320681]\n"
     ]
    }
   ],
   "source": [
    "for iters in np.arange(5, 22, 2):\n",
    "    weight ='weights_fix3/weights3/rnn_1515tanh512_checkpoint39_0_{}'.format(iters)\n",
    "    pregame = PretrainTest(weight_write = weight, holes = 0, inputs_type = (1, 0))\n",
    "    pregame.game.net.load_state_dict(torch.load(weight))\n",
    "    pregame.game.grid.grid[ry : ry + 1, rx + 4 : rx + 6] = 0\n",
    "    grid =  pregame.game.grid.grid.copy()\n",
    "    pregame.TestAllSizes(size_range = [15], limit_set = 2, test_size = 0, grid = grid, start = (6, 9))\n",
    "    print (pregame.Performance)"
   ]
  },
  {
   "cell_type": "code",
   "execution_count": 94,
   "metadata": {},
   "outputs": [
    {
     "name": "stdout",
     "output_type": "stream",
     "text": [
      "[-0.5809256390684866]\n",
      "[-0.6769049557252624]\n",
      "[-0.49528769591969435]\n",
      "[-0.4096888149117406]\n",
      "[0.06423189807866814]\n",
      "[0.20946735169612968]\n",
      "[0.3026228952116204]\n",
      "[0.3216399222263868]\n"
     ]
    }
   ],
   "source": [
    "for iters in np.arange(5, 20, 2):\n",
    "    weight ='weights_fix3/weights2/rnn_1515tanh512_checkpoint39_0_{}'.format(iters)\n",
    "    pregame = PretrainTest(weight_write = weight, holes = 0, inputs_type = (1, 0))\n",
    "    pregame.game.net.load_state_dict(torch.load(weight))\n",
    "    pregame.game.grid.grid[ry : ry + 1, rx + 4 : rx + 6] = 0\n",
    "    grid =  pregame.game.grid.grid.copy()\n",
    "    pregame.TestAllSizes(size_range = [15], limit_set = 2, test_size = 0, grid = grid, start = (4, 9))\n",
    "    print (pregame.Performance)"
   ]
  },
  {
   "cell_type": "code",
   "execution_count": 95,
   "metadata": {},
   "outputs": [
    {
     "name": "stdout",
     "output_type": "stream",
     "text": [
      "[-0.7533619691890165]\n",
      "[-0.844985710269865]\n",
      "[-0.7367571639527459]\n",
      "[-0.6596906073253057]\n",
      "[-0.3026487886813172]\n",
      "[-0.12058459020329931]\n",
      "[0.031890264491748976]\n",
      "[0.00923809579585208]\n"
     ]
    }
   ],
   "source": [
    "for iters in np.arange(5, 20, 2):\n",
    "    weight ='weights_fix3/weights2/rnn_1515tanh512_checkpoint39_0_{}'.format(iters)\n",
    "    pregame = PretrainTest(weight_write = weight, holes = 0, inputs_type = (1, 0))\n",
    "    pregame.game.net.load_state_dict(torch.load(weight))\n",
    "#     pregame.game.grid.grid[ry : ry + 1, rx + 4 : rx + 6] = 0\n",
    "    grid =  pregame.game.grid.grid.copy()\n",
    "    pregame.TestAllSizes(size_range = [15], limit_set = 2, test_size = 0, grid = grid, start = (4, 9))\n",
    "    print (pregame.Performance)"
   ]
  },
  {
   "cell_type": "markdown",
   "metadata": {},
   "source": [
    "**right corner is used as strategical point**\n",
    "**First time to see limit cycle used that way, think a bit outside navigation, limit cycle can characterize different features, for example orientation here , it is only one example. Need to check limit cycle used in general neuroscience**\n",
    "\n",
    "**The solution we see is a cross scale solution,  we have the limit cycles for larger size arena, and during one limit cycle , the trace is for scaning micro space corresponding to strategy in smaller arena**"
   ]
  },
  {
   "cell_type": "markdown",
   "metadata": {},
   "source": [
    "# Conclusion\n",
    "**Internal dynamics rather than decoding performance influences more the performance in uncertain enviroments**\n",
    "\n",
    "**Consider to think in global loops rather than separated system, thus the coupled dynamical system.  This system, which has its genome on its internal weights, will have quite different different pheno-types from the global loops,  richness of internal dynamics turns into extenable phenotypes which supports behaviours across scales.   The different types of attractors, fix point, limit cycle becomes substrate of strategy in different size rooms.  Thus generalization can be done until certain size, which offers complicate behaviour with a \"simple mind\"**\n",
    "\n",
    "**The triangle between decoding, dynamics and navigation should be like: 1, dynamics coded by internal weight is most fundamental, it gives rise to different representations(phenotypes).   2,  The relation between decoding and navigation are reciprocal. not random behaviour gives better enviromental prediction(complement the free energy principle) 2,  we should distinguish internal dynamics and global dynamics**"
   ]
  },
  {
   "cell_type": "code",
   "execution_count": null,
   "metadata": {},
   "outputs": [],
   "source": []
  }
 ],
 "metadata": {
  "anaconda-cloud": {},
  "kernelspec": {
   "display_name": "Python 3",
   "language": "python",
   "name": "python3"
  },
  "language_info": {
   "codemirror_mode": {
    "name": "ipython",
    "version": 3
   },
   "file_extension": ".py",
   "mimetype": "text/x-python",
   "name": "python",
   "nbconvert_exporter": "python",
   "pygments_lexer": "ipython3",
   "version": "3.6.3"
  },
  "latex_envs": {
   "LaTeX_envs_menu_present": true,
   "autoclose": false,
   "autocomplete": true,
   "bibliofile": "biblio.bib",
   "cite_by": "apalike",
   "current_citInitial": 1,
   "eqLabelWithNumbers": true,
   "eqNumInitial": 1,
   "hotkeys": {
    "equation": "Ctrl-E",
    "itemize": "Ctrl-I"
   },
   "labels_anchors": false,
   "latex_user_defs": false,
   "report_style_numbering": false,
   "user_envs_cfg": false
  },
  "toc": {
   "nav_menu": {},
   "number_sections": true,
   "sideBar": true,
   "skip_h1_title": false,
   "title_cell": "Table of Contents",
   "title_sidebar": "Contents",
   "toc_cell": true,
   "toc_position": {
    "height": "759px",
    "left": "0px",
    "right": "1228px",
    "top": "67px",
    "width": "212px"
   },
   "toc_section_display": "block",
   "toc_window_display": true
  },
  "varInspector": {
   "cols": {
    "lenName": 16,
    "lenType": 16,
    "lenVar": 40
   },
   "kernels_config": {
    "python": {
     "delete_cmd_postfix": "",
     "delete_cmd_prefix": "del ",
     "library": "var_list.py",
     "varRefreshCmd": "print(var_dic_list())"
    },
    "r": {
     "delete_cmd_postfix": ") ",
     "delete_cmd_prefix": "rm(",
     "library": "var_list.r",
     "varRefreshCmd": "cat(var_dic_list()) "
    }
   },
   "types_to_exclude": [
    "module",
    "function",
    "builtin_function_or_method",
    "instance",
    "_Feature"
   ],
   "window_display": false
  }
 },
 "nbformat": 4,
 "nbformat_minor": 2
}
