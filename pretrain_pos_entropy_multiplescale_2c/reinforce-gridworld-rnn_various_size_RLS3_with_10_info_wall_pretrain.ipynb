{
 "cells": [
  {
   "cell_type": "markdown",
   "metadata": {
    "toc": "true"
   },
   "source": [
    "<h1>Table of Contents<span class=\"tocSkip\"></span></h1>\n",
    "<div class=\"toc\"><ul class=\"toc-item\"><li><span><a href=\"#quick-start\" data-toc-modified-id=\"quick-start-1\"><span class=\"toc-item-num\">1&nbsp;&nbsp;</span>quick start</a></span><ul class=\"toc-item\"><li><span><a href=\"#Resources\" data-toc-modified-id=\"Resources-1.1\"><span class=\"toc-item-num\">1.1&nbsp;&nbsp;</span>Resources</a></span></li></ul></li><li><span><a href=\"#FULL-MODEL\" data-toc-modified-id=\"FULL-MODEL-2\"><span class=\"toc-item-num\">2&nbsp;&nbsp;</span>FULL MODEL</a></span><ul class=\"toc-item\"><li><span><a href=\"#Packages\" data-toc-modified-id=\"Packages-2.1\"><span class=\"toc-item-num\">2.1&nbsp;&nbsp;</span>Packages</a></span><ul class=\"toc-item\"><li><span><a href=\"#Qnetwork\" data-toc-modified-id=\"Qnetwork-2.1.1\"><span class=\"toc-item-num\">2.1.1&nbsp;&nbsp;</span>Qnetwork</a></span></li></ul></li><li><span><a href=\"#POMDP-RNN-Game\" data-toc-modified-id=\"POMDP-RNN-Game-2.2\"><span class=\"toc-item-num\">2.2&nbsp;&nbsp;</span>POMDP RNN Game</a></span></li><li><span><a href=\"#Results\" data-toc-modified-id=\"Results-2.3\"><span class=\"toc-item-num\">2.3&nbsp;&nbsp;</span>Results</a></span><ul class=\"toc-item\"><li><span><a href=\"#Standard-setting：-grid-=--(3,7)，-holes-=-0\" data-toc-modified-id=\"Standard-setting：-grid-=--(3,7)，-holes-=-0-2.3.1\"><span class=\"toc-item-num\">2.3.1&nbsp;&nbsp;</span>Standard setting： grid =  (3,7)， holes = 0</a></span></li><li><span><a href=\"#Model-Tranining\" data-toc-modified-id=\"Model-Tranining-2.3.2\"><span class=\"toc-item-num\">2.3.2&nbsp;&nbsp;</span>Model Tranining</a></span></li><li><span><a href=\"#decoding-vs-performance\" data-toc-modified-id=\"decoding-vs-performance-2.3.3\"><span class=\"toc-item-num\">2.3.3&nbsp;&nbsp;</span>decoding vs performance</a></span></li><li><span><a href=\"#learning-rate-vs-performance\" data-toc-modified-id=\"learning-rate-vs-performance-2.3.4\"><span class=\"toc-item-num\">2.3.4&nbsp;&nbsp;</span>learning rate vs performance</a></span></li><li><span><a href=\"#Summary\" data-toc-modified-id=\"Summary-2.3.5\"><span class=\"toc-item-num\">2.3.5&nbsp;&nbsp;</span>Summary</a></span></li><li><span><a href=\"#Anlytic-part-,-check-the-behaviour-correspond-to-each-decoding-level-and-explain-why\" data-toc-modified-id=\"Anlytic-part-,-check-the-behaviour-correspond-to-each-decoding-level-and-explain-why-2.3.6\"><span class=\"toc-item-num\">2.3.6&nbsp;&nbsp;</span>Anlytic part , check the behaviour correspond to each decoding level and explain why</a></span></li></ul></li><li><span><a href=\"#PCA\" data-toc-modified-id=\"PCA-2.4\"><span class=\"toc-item-num\">2.4&nbsp;&nbsp;</span>PCA</a></span></li></ul></li></ul></div>"
   ]
  },
  {
   "cell_type": "markdown",
   "metadata": {},
   "source": [
    "# quick start "
   ]
  },
  {
   "cell_type": "markdown",
   "metadata": {},
   "source": [
    "No information on wall, this very nature case which needs the exploration, try to see its relation of generalization to performance \n",
    "Pretrain from the full training, but then reduce it to h2h pre"
   ]
  },
  {
   "cell_type": "markdown",
   "metadata": {},
   "source": [
    "## Resources\n",
    "\n",
    "* [*The* Reinforcement learning book from Sutton & Barto](http://incompleteideas.net/sutton/book/the-book-2nd.html)\n",
    "* [The REINFORCE paper from Ronald J. Williams (1992)](http://www-anw.cs.umass.edu/~barto/courses/cs687/williams92simple.pdf)\n"
   ]
  },
  {
   "cell_type": "markdown",
   "metadata": {},
   "source": [
    "## Packages"
   ]
  },
  {
   "cell_type": "code",
   "execution_count": 1,
   "metadata": {},
   "outputs": [
    {
     "name": "stdout",
     "output_type": "stream",
     "text": [
      "Populating the interactive namespace from numpy and matplotlib\n"
     ]
    },
    {
     "name": "stderr",
     "output_type": "stream",
     "text": [
      "/home/cruiser/anaconda3/lib/python3.6/site-packages/IPython/core/magics/pylab.py:160: UserWarning: pylab import has clobbered these variables: ['random']\n",
      "`%matplotlib` prevents importing * from pylab and numpy\n",
      "  \"\\n`%matplotlib` prevents importing * from pylab and numpy\"\n"
     ]
    }
   ],
   "source": [
    "%load_ext autoreload\n",
    "%autoreload 2\n",
    "\n",
    "import numpy as np\n",
    "from itertools import count\n",
    "import random\n",
    "\n",
    "import torch\n",
    "import torch.nn as nn\n",
    "import torch.nn.functional as F\n",
    "import torch.optim as optim\n",
    "import torch.autograd as autograd\n",
    "from torch.autograd import Variable\n",
    "from torch.nn import init\n",
    "from torch.nn import DataParallel\n",
    "from torch.utils.data import DataLoader\n",
    "\n",
    "import matplotlib.mlab as mlab\n",
    "import matplotlib.pyplot as plt\n",
    "import matplotlib.animation\n",
    "import seaborn as sns\n",
    "from IPython.display import HTML\n",
    "\n",
    "from collections import OrderedDict\n",
    "\n",
    "\n",
    "import pretrain\n",
    "from pretrain import *\n",
    "\n",
    "import navigation2\n",
    "from navigation2 import *\n",
    "\n",
    "import Nets\n",
    "from Nets import *\n",
    "\n",
    "%pylab inline\n",
    "import warnings\n",
    "warnings.filterwarnings('ignore')"
   ]
  },
  {
   "cell_type": "markdown",
   "metadata": {},
   "source": [
    "### Qnetwork\n",
    "\n",
    "To select actions we take maximum of Q value, corresponding to certain move."
   ]
  },
  {
   "cell_type": "markdown",
   "metadata": {},
   "source": [
    "For the liquid state approach to work, you need a lot of neurons as surplus or enough hidden to hidden connectivity to make it have an effect."
   ]
  },
  {
   "cell_type": "markdown",
   "metadata": {},
   "source": [
    "##  POMDP RNN Game\n",
    "\n",
    "In this game , we use a new reward function determined by game, if the agent achieves the goal before 50, reward is 1. If time pass 50 reward is 0.5, once time pass 100 agent gets a reward of -0.5 .  Practically, this is found to be easier to learn than the rewards as a continous function of time.  Tf the agent learns to search in a efficient way, the largest possible way for search is to firstly arrive at corner then goes to the goal, which, takes about 50 steps, it is reasonble to make 50 and 100 as milestone thing.  Also in principe as the game doesn't have a timer , it is not if it can use a reward as funtion of time"
   ]
  },
  {
   "cell_type": "markdown",
   "metadata": {},
   "source": [
    "3 condition for ending , when pass time limit, game over"
   ]
  },
  {
   "cell_type": "markdown",
   "metadata": {},
   "source": [
    "For weight update, it seems to be better do it after episode, as it makes non-sense evaluate strategy during episode, but a the end. Also, it is much quicker. "
   ]
  },
  {
   "cell_type": "markdown",
   "metadata": {},
   "source": [
    "A programming of MDP here, hidden state is as state of enviroment"
   ]
  },
  {
   "cell_type": "markdown",
   "metadata": {},
   "source": [
    "## Model Tranining \n",
    "Pretranining is done with fixed size 15,  training is between 10 to 15, test on 19 "
   ]
  },
  {
   "cell_type": "markdown",
   "metadata": {},
   "source": [
    "Training from zero seems to be better because it will allow the agent to explore from new"
   ]
  },
  {
   "cell_type": "code",
   "execution_count": null,
   "metadata": {},
   "outputs": [
    {
     "name": "stdout",
     "output_type": "stream",
     "text": [
      "pretrain end tensor(31.9946, device='cuda:0') tensor(2.8776, device='cuda:0')\n",
      "loss for epoch: tensor(10484.0342, device='cuda:0') tensor(9993.3008, device='cuda:0') tensor(9625.2275, device='cuda:0')\n",
      "pretrain end tensor(32.0667, device='cuda:0') tensor(3.1028, device='cuda:0')\n",
      "loss for epoch: tensor(11509.4043, device='cuda:0') tensor(10747.3789, device='cuda:0') tensor(10082.6396, device='cuda:0')\n",
      "pretrain end tensor(32.1057, device='cuda:0') tensor(3.5496, device='cuda:0')\n",
      "loss for epoch: tensor(11160.5332, device='cuda:0') tensor(10377.2305, device='cuda:0') tensor(9571.4746, device='cuda:0')\n",
      "pretrain end tensor(32.1420, device='cuda:0') tensor(3.9931, device='cuda:0')\n",
      "loss for epoch: tensor(10965.7070, device='cuda:0') tensor(10154.2197, device='cuda:0') tensor(9293.7090, device='cuda:0')\n",
      "pretrain end tensor(32.1543, device='cuda:0') tensor(4.4247, device='cuda:0')\n",
      "loss for epoch: tensor(11066.2822, device='cuda:0') tensor(10247.7988, device='cuda:0') tensor(9375.5332, device='cuda:0')\n",
      "pretrain end tensor(32.1801, device='cuda:0') tensor(4.8133, device='cuda:0')\n",
      "loss for epoch: tensor(10555.4502, device='cuda:0') tensor(9743.0557, device='cuda:0') tensor(8857.8936, device='cuda:0')\n",
      "pretrain end tensor(32.2033, device='cuda:0') tensor(5.1633, device='cuda:0')\n",
      "loss for epoch: tensor(10169.4541, device='cuda:0') tensor(9384.2100, device='cuda:0') tensor(8517.9805, device='cuda:0')\n",
      "pretrain end tensor(32.2250, device='cuda:0') tensor(5.4470, device='cuda:0')\n",
      "loss for epoch: tensor(11192.8584, device='cuda:0') tensor(10334.4131, device='cuda:0') tensor(9384.8633, device='cuda:0')\n",
      "pretrain end tensor(32.2491, device='cuda:0') tensor(5.7043, device='cuda:0')\n",
      "loss for epoch: tensor(10705.4121, device='cuda:0') tensor(9907.1387, device='cuda:0') tensor(9034.5674, device='cuda:0')\n",
      "pretrain end tensor(32.2633, device='cuda:0') tensor(5.9595, device='cuda:0')\n",
      "loss for epoch: tensor(10292.7109, device='cuda:0') tensor(9524.2939, device='cuda:0') tensor(8684.6943, device='cuda:0')\n",
      "pretrain end tensor(32.2795, device='cuda:0') tensor(6.2365, device='cuda:0')\n",
      "loss for epoch: tensor(10148.1797, device='cuda:0') tensor(9335.5479, device='cuda:0') tensor(8430.5156, device='cuda:0')\n",
      "pretrain end tensor(32.2977, device='cuda:0') tensor(6.4233, device='cuda:0')\n",
      "loss for epoch: tensor(10998.8320, device='cuda:0') tensor(10137.9912, device='cuda:0') tensor(9170.1172, device='cuda:0')\n",
      "pretrain end tensor(32.3240, device='cuda:0') tensor(6.6384, device='cuda:0')\n",
      "loss for epoch: tensor(9765.2275, device='cuda:0') tensor(9025.3213, device='cuda:0') tensor(8202.4639, device='cuda:0')\n",
      "pretrain end tensor(32.3365, device='cuda:0') tensor(6.8736, device='cuda:0')\n",
      "loss for epoch: tensor(10157.9160, device='cuda:0') tensor(9347.6299, device='cuda:0') tensor(8431.1797, device='cuda:0')\n",
      "pretrain end tensor(32.3493, device='cuda:0') tensor(7.0809, device='cuda:0')\n",
      "loss for epoch: tensor(11644.0527, device='cuda:0') tensor(10756.5020, device='cuda:0') tensor(9753.9883, device='cuda:0')\n",
      "pretrain end tensor(32.3788, device='cuda:0') tensor(7.2882, device='cuda:0')\n",
      "loss for epoch: tensor(10525.7891, device='cuda:0') tensor(9716.1660, device='cuda:0') tensor(8778.8164, device='cuda:0')\n",
      "pretrain end tensor(32.3966, device='cuda:0') tensor(7.5112, device='cuda:0')\n",
      "loss for epoch: tensor(10987.1660, device='cuda:0') tensor(10128.3750, device='cuda:0') tensor(9167.8125, device='cuda:0')\n",
      "pretrain end tensor(32.4024, device='cuda:0') tensor(7.6474, device='cuda:0')\n",
      "loss for epoch: tensor(10172.9004, device='cuda:0') tensor(9373.0928, device='cuda:0') tensor(8468.8730, device='cuda:0')\n",
      "pretrain end tensor(32.4224, device='cuda:0') tensor(7.8377, device='cuda:0')\n",
      "loss for epoch: tensor(12493.9746, device='cuda:0') tensor(11528.9541, device='cuda:0') tensor(10426.1621, device='cuda:0')\n",
      "pretrain end tensor(32.4417, device='cuda:0') tensor(7.9812, device='cuda:0')\n",
      "loss for epoch: tensor(10494.7168, device='cuda:0') tensor(9657.1113, device='cuda:0') tensor(8683.0137, device='cuda:0')\n",
      "pretrain end tensor(32.4456, device='cuda:0') tensor(8.2267, device='cuda:0')\n",
      "loss for epoch: tensor(10593.6387, device='cuda:0') tensor(9769.1484, device='cuda:0') tensor(8813.4941, device='cuda:0')\n",
      "pretrain end tensor(32.4611, device='cuda:0') tensor(8.3601, device='cuda:0')\n",
      "loss for epoch: tensor(10532.2617, device='cuda:0') tensor(9713.9062, device='cuda:0') tensor(8809.8320, device='cuda:0')\n",
      "pretrain end tensor(32.4829, device='cuda:0') tensor(8.5227, device='cuda:0')\n",
      "loss for epoch: tensor(11149.8262, device='cuda:0') tensor(10239.1611, device='cuda:0') tensor(9209.3760, device='cuda:0')\n",
      "pretrain end tensor(32.4988, device='cuda:0') tensor(8.6899, device='cuda:0')\n",
      "loss for epoch: tensor(11442.4355, device='cuda:0') tensor(10542.5000, device='cuda:0') tensor(9533.0371, device='cuda:0')\n",
      "pretrain end tensor(32.5122, device='cuda:0') tensor(8.8558, device='cuda:0')\n",
      "loss for epoch: tensor(11061.3154, device='cuda:0') tensor(10207.7871, device='cuda:0') tensor(9266.5811, device='cuda:0')\n",
      "pretrain end tensor(32.5270, device='cuda:0') tensor(8.9689, device='cuda:0')\n",
      "loss for epoch: tensor(11393.2402, device='cuda:0') tensor(10486.6768, device='cuda:0') tensor(9420.7412, device='cuda:0')\n",
      "pretrain end tensor(32.5389, device='cuda:0') tensor(9.0858, device='cuda:0')\n",
      "loss for epoch: tensor(10362.1143, device='cuda:0') tensor(9562.3867, device='cuda:0') tensor(8637.7314, device='cuda:0')\n",
      "pretrain end tensor(32.5539, device='cuda:0') tensor(9.2345, device='cuda:0')\n",
      "loss for epoch: tensor(10587.5508, device='cuda:0') tensor(9761.4785, device='cuda:0') tensor(8838.6787, device='cuda:0')\n",
      "pretrain end tensor(32.5587, device='cuda:0') tensor(9.3803, device='cuda:0')\n",
      "loss for epoch: tensor(10270.0762, device='cuda:0') tensor(9454.4502, device='cuda:0') tensor(8483.2207, device='cuda:0')\n",
      "pretrain end tensor(32.5721, device='cuda:0') tensor(9.5232, device='cuda:0')\n",
      "loss for epoch: tensor(10213.4463, device='cuda:0') tensor(9370.0059, device='cuda:0') tensor(8428.6533, device='cuda:0')\n"
     ]
    }
   ],
   "source": [
    "Pretest =  PretrainTest(weight_write = 'weights_cpu/rnn_1515tanh512_checkpoint', holes = 0)\n",
    "beta = 1e-2  \n",
    "for i in range(400):\n",
    "    Pretest.pretrain(i, pretrain = (i!=0), lr = 1e-5, beta = beta, beta_min = 1e-2, beta_max = 1e-2)\n",
    "    net = Pretest.pregame.net.cpu()\n",
    "    torch.save(net.state_dict(), 'weights_cpu/rnn_1515tanh512_checkpoint{}'.format(i))\n",
    "    "
   ]
  },
  {
   "cell_type": "markdown",
   "metadata": {},
   "source": [
    "**A coherent result here is threhold kind behaviour of decode vs performance, after decode smaller than 10, the performance rises.  The resutls is showeing that the learning rate vs performance doesn't characterize the threshold kind behaviour of performance change.  It is only after lr = -5, the performance begins to rise , while the learning rate - performance curve creates a fake trends for first few points.  This is not shown by explaination factor calculated by covariance.  **"
   ]
  },
  {
   "cell_type": "code",
   "execution_count": null,
   "metadata": {},
   "outputs": [],
   "source": []
  }
 ],
 "metadata": {
  "anaconda-cloud": {},
  "kernelspec": {
   "display_name": "Python 3",
   "language": "python",
   "name": "python3"
  },
  "language_info": {
   "codemirror_mode": {
    "name": "ipython",
    "version": 3
   },
   "file_extension": ".py",
   "mimetype": "text/x-python",
   "name": "python",
   "nbconvert_exporter": "python",
   "pygments_lexer": "ipython3",
   "version": "3.6.2"
  },
  "latex_envs": {
   "LaTeX_envs_menu_present": true,
   "autoclose": false,
   "autocomplete": true,
   "bibliofile": "biblio.bib",
   "cite_by": "apalike",
   "current_citInitial": 1,
   "eqLabelWithNumbers": true,
   "eqNumInitial": 1,
   "hotkeys": {
    "equation": "Ctrl-E",
    "itemize": "Ctrl-I"
   },
   "labels_anchors": false,
   "latex_user_defs": false,
   "report_style_numbering": false,
   "user_envs_cfg": false
  },
  "toc": {
   "nav_menu": {},
   "number_sections": true,
   "sideBar": true,
   "skip_h1_title": false,
   "title_cell": "Table of Contents",
   "title_sidebar": "Contents",
   "toc_cell": true,
   "toc_position": {
    "height": "759px",
    "left": "0px",
    "right": "1228px",
    "top": "67px",
    "width": "212px"
   },
   "toc_section_display": "block",
   "toc_window_display": true
  },
  "varInspector": {
   "cols": {
    "lenName": 16,
    "lenType": 16,
    "lenVar": 40
   },
   "kernels_config": {
    "python": {
     "delete_cmd_postfix": "",
     "delete_cmd_prefix": "del ",
     "library": "var_list.py",
     "varRefreshCmd": "print(var_dic_list())"
    },
    "r": {
     "delete_cmd_postfix": ") ",
     "delete_cmd_prefix": "rm(",
     "library": "var_list.r",
     "varRefreshCmd": "cat(var_dic_list()) "
    }
   },
   "types_to_exclude": [
    "module",
    "function",
    "builtin_function_or_method",
    "instance",
    "_Feature"
   ],
   "window_display": false
  }
 },
 "nbformat": 4,
 "nbformat_minor": 2
}
