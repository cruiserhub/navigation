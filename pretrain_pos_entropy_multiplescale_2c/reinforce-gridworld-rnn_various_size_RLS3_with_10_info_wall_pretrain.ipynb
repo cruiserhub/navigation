{
 "cells": [
  {
   "cell_type": "markdown",
   "metadata": {
    "toc": "true"
   },
   "source": [
    "<h1>Table of Contents<span class=\"tocSkip\"></span></h1>\n",
    "<div class=\"toc\"><ul class=\"toc-item\"><li><span><a href=\"#quick-start\" data-toc-modified-id=\"quick-start-1\"><span class=\"toc-item-num\">1&nbsp;&nbsp;</span>quick start</a></span><ul class=\"toc-item\"><li><span><a href=\"#Resources\" data-toc-modified-id=\"Resources-1.1\"><span class=\"toc-item-num\">1.1&nbsp;&nbsp;</span>Resources</a></span></li></ul></li><li><span><a href=\"#FULL-MODEL\" data-toc-modified-id=\"FULL-MODEL-2\"><span class=\"toc-item-num\">2&nbsp;&nbsp;</span>FULL MODEL</a></span><ul class=\"toc-item\"><li><span><a href=\"#Packages\" data-toc-modified-id=\"Packages-2.1\"><span class=\"toc-item-num\">2.1&nbsp;&nbsp;</span>Packages</a></span><ul class=\"toc-item\"><li><span><a href=\"#Qnetwork\" data-toc-modified-id=\"Qnetwork-2.1.1\"><span class=\"toc-item-num\">2.1.1&nbsp;&nbsp;</span>Qnetwork</a></span></li></ul></li><li><span><a href=\"#POMDP-RNN-Game\" data-toc-modified-id=\"POMDP-RNN-Game-2.2\"><span class=\"toc-item-num\">2.2&nbsp;&nbsp;</span>POMDP RNN Game</a></span></li><li><span><a href=\"#Results\" data-toc-modified-id=\"Results-2.3\"><span class=\"toc-item-num\">2.3&nbsp;&nbsp;</span>Results</a></span><ul class=\"toc-item\"><li><span><a href=\"#Standard-setting：-grid-=--(3,7)，-holes-=-0\" data-toc-modified-id=\"Standard-setting：-grid-=--(3,7)，-holes-=-0-2.3.1\"><span class=\"toc-item-num\">2.3.1&nbsp;&nbsp;</span>Standard setting： grid =  (3,7)， holes = 0</a></span></li><li><span><a href=\"#Model-Tranining\" data-toc-modified-id=\"Model-Tranining-2.3.2\"><span class=\"toc-item-num\">2.3.2&nbsp;&nbsp;</span>Model Tranining</a></span></li><li><span><a href=\"#decoding-vs-performance\" data-toc-modified-id=\"decoding-vs-performance-2.3.3\"><span class=\"toc-item-num\">2.3.3&nbsp;&nbsp;</span>decoding vs performance</a></span></li><li><span><a href=\"#learning-rate-vs-performance\" data-toc-modified-id=\"learning-rate-vs-performance-2.3.4\"><span class=\"toc-item-num\">2.3.4&nbsp;&nbsp;</span>learning rate vs performance</a></span></li><li><span><a href=\"#Summary\" data-toc-modified-id=\"Summary-2.3.5\"><span class=\"toc-item-num\">2.3.5&nbsp;&nbsp;</span>Summary</a></span></li><li><span><a href=\"#Anlytic-part-,-check-the-behaviour-correspond-to-each-decoding-level-and-explain-why\" data-toc-modified-id=\"Anlytic-part-,-check-the-behaviour-correspond-to-each-decoding-level-and-explain-why-2.3.6\"><span class=\"toc-item-num\">2.3.6&nbsp;&nbsp;</span>Anlytic part , check the behaviour correspond to each decoding level and explain why</a></span></li></ul></li><li><span><a href=\"#PCA\" data-toc-modified-id=\"PCA-2.4\"><span class=\"toc-item-num\">2.4&nbsp;&nbsp;</span>PCA</a></span></li></ul></li></ul></div>"
   ]
  },
  {
   "cell_type": "markdown",
   "metadata": {},
   "source": [
    "# quick start "
   ]
  },
  {
   "cell_type": "markdown",
   "metadata": {},
   "source": [
    "No information on wall, this very nature case which needs the exploration, try to see its relation of generalization to performance \n",
    "Pretrain from the full training, but then reduce it to h2h pre"
   ]
  },
  {
   "cell_type": "markdown",
   "metadata": {},
   "source": [
    "## Resources\n",
    "\n",
    "* [*The* Reinforcement learning book from Sutton & Barto](http://incompleteideas.net/sutton/book/the-book-2nd.html)\n",
    "* [The REINFORCE paper from Ronald J. Williams (1992)](http://www-anw.cs.umass.edu/~barto/courses/cs687/williams92simple.pdf)\n"
   ]
  },
  {
   "cell_type": "markdown",
   "metadata": {},
   "source": [
    "## Packages"
   ]
  },
  {
   "cell_type": "code",
   "execution_count": 1,
   "metadata": {},
   "outputs": [
    {
     "name": "stdout",
     "output_type": "stream",
     "text": [
      "Populating the interactive namespace from numpy and matplotlib\n"
     ]
    },
    {
     "name": "stderr",
     "output_type": "stream",
     "text": [
      "/home/tie/anaconda3/lib/python3.6/site-packages/IPython/core/magics/pylab.py:160: UserWarning: pylab import has clobbered these variables: ['random']\n",
      "`%matplotlib` prevents importing * from pylab and numpy\n",
      "  \"\\n`%matplotlib` prevents importing * from pylab and numpy\"\n"
     ]
    }
   ],
   "source": [
    "%load_ext autoreload\n",
    "%autoreload 2\n",
    "\n",
    "import numpy as np\n",
    "from itertools import count\n",
    "import random\n",
    "\n",
    "import torch\n",
    "import torch.nn as nn\n",
    "import torch.nn.functional as F\n",
    "import torch.optim as optim\n",
    "import torch.autograd as autograd\n",
    "from torch.autograd import Variable\n",
    "from torch.nn import init\n",
    "from torch.nn import DataParallel\n",
    "from torch.utils.data import DataLoader\n",
    "\n",
    "import matplotlib.mlab as mlab\n",
    "import matplotlib.pyplot as plt\n",
    "import matplotlib.animation\n",
    "import seaborn as sns\n",
    "from IPython.display import HTML\n",
    "\n",
    "from collections import OrderedDict\n",
    "\n",
    "\n",
    "import pretrain\n",
    "from pretrain import *\n",
    "\n",
    "import navigation2\n",
    "from navigation2 import *\n",
    "\n",
    "import Nets\n",
    "from Nets import *\n",
    "\n",
    "%pylab inline\n",
    "import warnings\n",
    "warnings.filterwarnings('ignore')"
   ]
  },
  {
   "cell_type": "markdown",
   "metadata": {},
   "source": [
    "### Qnetwork\n",
    "\n",
    "To select actions we take maximum of Q value, corresponding to certain move."
   ]
  },
  {
   "cell_type": "markdown",
   "metadata": {},
   "source": [
    "For the liquid state approach to work, you need a lot of neurons as surplus or enough hidden to hidden connectivity to make it have an effect."
   ]
  },
  {
   "cell_type": "markdown",
   "metadata": {},
   "source": [
    "##  POMDP RNN Game\n",
    "\n",
    "In this game , we use a new reward function determined by game, if the agent achieves the goal before 50, reward is 1. If time pass 50 reward is 0.5, once time pass 100 agent gets a reward of -0.5 .  Practically, this is found to be easier to learn than the rewards as a continous function of time.  Tf the agent learns to search in a efficient way, the largest possible way for search is to firstly arrive at corner then goes to the goal, which, takes about 50 steps, it is reasonble to make 50 and 100 as milestone thing.  Also in principe as the game doesn't have a timer , it is not if it can use a reward as funtion of time"
   ]
  },
  {
   "cell_type": "markdown",
   "metadata": {},
   "source": [
    "3 condition for ending , when pass time limit, game over"
   ]
  },
  {
   "cell_type": "markdown",
   "metadata": {},
   "source": [
    "For weight update, it seems to be better do it after episode, as it makes non-sense evaluate strategy during episode, but a the end. Also, it is much quicker. "
   ]
  },
  {
   "cell_type": "markdown",
   "metadata": {},
   "source": [
    "A programming of MDP here, hidden state is as state of enviroment"
   ]
  },
  {
   "cell_type": "markdown",
   "metadata": {},
   "source": [
    "## Model Tranining \n",
    "Pretranining is done with fixed size 15,  training is between 10 to 15, test on 19 "
   ]
  },
  {
   "cell_type": "markdown",
   "metadata": {},
   "source": [
    "Training from zero seems to be better because it will allow the agent to explore from new"
   ]
  },
  {
   "cell_type": "code",
   "execution_count": null,
   "metadata": {},
   "outputs": [
    {
     "name": "stdout",
     "output_type": "stream",
     "text": [
      "pretrain end tensor(31.9848, device='cuda:0') tensor(2.8376, device='cuda:0')\n",
      "loss for epoch: tensor(10080.5117, device='cuda:0') tensor(9892.9707, device='cuda:0') tensor(10057.3213, device='cuda:0') tensor(357.1293, device='cuda:0')\n",
      "pretrain end tensor(31.9795, device='cuda:0') tensor(2.9004, device='cuda:0')\n",
      "loss for epoch: tensor(21277.2773, device='cuda:0') tensor(20232.8652, device='cuda:0') tensor(20261.2852, device='cuda:0') tensor(831.7833, device='cuda:0')\n",
      "pretrain end tensor(32.0012, device='cuda:0') tensor(3.0854, device='cuda:0')\n",
      "loss for epoch: tensor(21559.6699, device='cuda:0') tensor(20346.9902, device='cuda:0') tensor(19947.0547, device='cuda:0') tensor(814.2255, device='cuda:0')\n",
      "pretrain end tensor(32.0250, device='cuda:0') tensor(3.2889, device='cuda:0')\n",
      "loss for epoch: tensor(20612.3828, device='cuda:0') tensor(19311.3887, device='cuda:0') tensor(18628.6211, device='cuda:0') tensor(787.3779, device='cuda:0')\n",
      "pretrain end tensor(32.0464, device='cuda:0') tensor(3.5111, device='cuda:0')\n",
      "loss for epoch: tensor(20921.2031, device='cuda:0') tensor(19577.0508, device='cuda:0') tensor(18715.4961, device='cuda:0') tensor(772.8005, device='cuda:0')\n",
      "pretrain end tensor(32.0614, device='cuda:0') tensor(3.7196, device='cuda:0')\n",
      "loss for epoch: tensor(21525.5000, device='cuda:0') tensor(20090.2617, device='cuda:0') tensor(19116.4062, device='cuda:0') tensor(788.4350, device='cuda:0')\n",
      "pretrain end tensor(32.0851, device='cuda:0') tensor(3.9022, device='cuda:0')\n",
      "loss for epoch: tensor(21253.0371, device='cuda:0') tensor(19812.7305, device='cuda:0') tensor(18755.0977, device='cuda:0') tensor(775.1456, device='cuda:0')\n",
      "pretrain end tensor(32.1010, device='cuda:0') tensor(4.1055, device='cuda:0')\n",
      "loss for epoch: tensor(20386.5664, device='cuda:0') tensor(18936.2480, device='cuda:0') tensor(17822.0020, device='cuda:0') tensor(748.5935, device='cuda:0')\n",
      "pretrain end tensor(32.1177, device='cuda:0') tensor(4.2517, device='cuda:0')\n",
      "loss for epoch: tensor(21142.0762, device='cuda:0') tensor(19638.2520, device='cuda:0') tensor(18387.9805, device='cuda:0') tensor(763.5298, device='cuda:0')\n",
      "pretrain end tensor(32.1351, device='cuda:0') tensor(4.4150, device='cuda:0')\n",
      "loss for epoch: tensor(20168.8477, device='cuda:0') tensor(18680.7812, device='cuda:0') tensor(17443.9824, device='cuda:0') tensor(742.6340, device='cuda:0')\n",
      "pretrain end tensor(32.1491, device='cuda:0') tensor(4.5635, device='cuda:0')\n",
      "loss for epoch: tensor(22787.5430, device='cuda:0') tensor(21111.1641, device='cuda:0') tensor(19652.4648, device='cuda:0') tensor(795.0280, device='cuda:0')\n",
      "pretrain end tensor(32.1709, device='cuda:0') tensor(4.6935, device='cuda:0')\n",
      "loss for epoch: tensor(23201.2461, device='cuda:0') tensor(21431.3770, device='cuda:0') tensor(19900.5762, device='cuda:0') tensor(799.5978, device='cuda:0')\n",
      "pretrain end tensor(32.1928, device='cuda:0') tensor(4.8486, device='cuda:0')\n",
      "loss for epoch: tensor(21314.8242, device='cuda:0') tensor(19698.1367, device='cuda:0') tensor(18193.2734, device='cuda:0') tensor(766.0749, device='cuda:0')\n",
      "pretrain end tensor(32.2104, device='cuda:0') tensor(4.9815, device='cuda:0')\n",
      "loss for epoch: tensor(21460.2051, device='cuda:0') tensor(19861.9551, device='cuda:0') tensor(18386.2227, device='cuda:0') tensor(756.5024, device='cuda:0')\n",
      "pretrain end tensor(32.2245, device='cuda:0') tensor(5.0747, device='cuda:0')\n",
      "loss for epoch: tensor(21696.4258, device='cuda:0') tensor(20077.9492, device='cuda:0') tensor(18576.9238, device='cuda:0') tensor(756.2087, device='cuda:0')\n",
      "pretrain end tensor(32.2406, device='cuda:0') tensor(5.1944, device='cuda:0')\n",
      "loss for epoch: tensor(21392.7793, device='cuda:0') tensor(19797.4902, device='cuda:0') tensor(18296.4141, device='cuda:0') tensor(748.8149, device='cuda:0')\n",
      "pretrain end tensor(32.2525, device='cuda:0') tensor(5.3253, device='cuda:0')\n",
      "loss for epoch: tensor(20854.9688, device='cuda:0') tensor(19299.1953, device='cuda:0') tensor(17841.8984, device='cuda:0') tensor(736.1800, device='cuda:0')\n",
      "pretrain end tensor(32.2651, device='cuda:0') tensor(5.4091, device='cuda:0')\n",
      "loss for epoch: tensor(20187.8672, device='cuda:0') tensor(18674.3848, device='cuda:0') tensor(17207.3086, device='cuda:0') tensor(720.2999, device='cuda:0')\n",
      "pretrain end tensor(32.2785, device='cuda:0') tensor(5.5028, device='cuda:0')\n",
      "loss for epoch: tensor(20526.2539, device='cuda:0') tensor(18994.7910, device='cuda:0') tensor(17523.8164, device='cuda:0') tensor(728.7623, device='cuda:0')\n",
      "pretrain end tensor(32.2911, device='cuda:0') tensor(5.6130, device='cuda:0')\n",
      "loss for epoch: tensor(21602.3359, device='cuda:0') tensor(19951.4512, device='cuda:0') tensor(18338.4688, device='cuda:0') tensor(750.8708, device='cuda:0')\n",
      "pretrain end tensor(32.3066, device='cuda:0') tensor(5.6747, device='cuda:0')\n",
      "loss for epoch: tensor(21740.6055, device='cuda:0') tensor(20157.5840, device='cuda:0') tensor(18646.5840, device='cuda:0') tensor(744.4662, device='cuda:0')\n",
      "pretrain end tensor(32.3185, device='cuda:0') tensor(5.7406, device='cuda:0')\n",
      "loss for epoch: tensor(22928.4590, device='cuda:0') tensor(21189.9668, device='cuda:0') tensor(19428.7773, device='cuda:0') tensor(768.4079, device='cuda:0')\n",
      "pretrain end tensor(32.3331, device='cuda:0') tensor(5.8013, device='cuda:0')\n",
      "loss for epoch: tensor(21571.9883, device='cuda:0') tensor(19938.2695, device='cuda:0') tensor(18270.1543, device='cuda:0') tensor(732.5864, device='cuda:0')\n",
      "pretrain end tensor(32.3451, device='cuda:0') tensor(5.8685, device='cuda:0')\n",
      "loss for epoch: tensor(20806.0176, device='cuda:0') tensor(19216.0566, device='cuda:0') tensor(17663.6602, device='cuda:0') tensor(730.3935, device='cuda:0')\n",
      "pretrain end tensor(32.3594, device='cuda:0') tensor(5.9524, device='cuda:0')\n",
      "loss for epoch: tensor(21920.4238, device='cuda:0') tensor(20244.0020, device='cuda:0') tensor(18557.9082, device='cuda:0') tensor(746.7799, device='cuda:0')\n",
      "pretrain end tensor(32.3704, device='cuda:0') tensor(6.0369, device='cuda:0')\n",
      "loss for epoch: tensor(20265.4062, device='cuda:0') tensor(18703.1465, device='cuda:0') tensor(17086.2949, device='cuda:0') tensor(709.5965, device='cuda:0')\n",
      "pretrain end tensor(32.3818, device='cuda:0') tensor(6.0874, device='cuda:0')\n",
      "loss for epoch: tensor(20886.0449, device='cuda:0') tensor(19329.6660, device='cuda:0') tensor(17809.6387, device='cuda:0') tensor(717.1195, device='cuda:0')\n",
      "pretrain end tensor(32.4023, device='cuda:0') tensor(6.1288, device='cuda:0')\n",
      "loss for epoch: tensor(20241.6836, device='cuda:0') tensor(18676.4941, device='cuda:0') tensor(17161.3340, device='cuda:0') tensor(715.4720, device='cuda:0')\n",
      "pretrain end tensor(32.4142, device='cuda:0') tensor(6.1986, device='cuda:0')\n",
      "loss for epoch: tensor(21304.2676, device='cuda:0') tensor(19688.0137, device='cuda:0') tensor(18078.8906, device='cuda:0') tensor(723.9590, device='cuda:0')\n",
      "pretrain end tensor(32.4238, device='cuda:0') tensor(6.2683, device='cuda:0')\n",
      "loss for epoch: tensor(21579.4590, device='cuda:0') tensor(19903.0566, device='cuda:0') tensor(18196.3926, device='cuda:0') tensor(724.0018, device='cuda:0')\n",
      "pretrain end tensor(32.4317, device='cuda:0') tensor(6.3006, device='cuda:0')\n",
      "loss for epoch: tensor(20628.7129, device='cuda:0') tensor(19062.6035, device='cuda:0') tensor(17474.5625, device='cuda:0') tensor(714.2803, device='cuda:0')\n",
      "pretrain end tensor(32.4465, device='cuda:0') tensor(6.3789, device='cuda:0')\n",
      "loss for epoch: tensor(22360.1270, device='cuda:0') tensor(20604.2969, device='cuda:0') tensor(18801.6074, device='cuda:0') tensor(757.6687, device='cuda:0')\n",
      "pretrain end tensor(32.4607, device='cuda:0') tensor(6.4401, device='cuda:0')\n",
      "loss for epoch: tensor(22669.2012, device='cuda:0') tensor(20949.6348, device='cuda:0') tensor(19238.9766, device='cuda:0') tensor(756.3701, device='cuda:0')\n",
      "pretrain end tensor(32.4776, device='cuda:0') tensor(6.4934, device='cuda:0')\n",
      "loss for epoch: tensor(21623.1602, device='cuda:0') tensor(19973.8203, device='cuda:0') tensor(18327.2871, device='cuda:0') tensor(727.5517, device='cuda:0')\n",
      "pretrain end tensor(32.4930, device='cuda:0') tensor(6.5252, device='cuda:0')\n",
      "loss for epoch: tensor(19948.6172, device='cuda:0') tensor(18446.4609, device='cuda:0') tensor(16962.8535, device='cuda:0') tensor(687.1061, device='cuda:0')\n",
      "pretrain end tensor(32.5019, device='cuda:0') tensor(6.5926, device='cuda:0')\n",
      "loss for epoch: tensor(21556.5742, device='cuda:0') tensor(19889.5840, device='cuda:0') tensor(18165.9941, device='cuda:0') tensor(728.9769, device='cuda:0')\n",
      "pretrain end tensor(32.5149, device='cuda:0') tensor(6.6483, device='cuda:0')\n"
     ]
    }
   ],
   "source": [
    "Pretest =  PretrainTest(weight_write = 'weights_cpu/rnn_1515tanh512_checkpoint', holes = 0)\n",
    "beta = 1e-2\n",
    "for i in range(400):\n",
    "    Pretest.pretrain(i, pretrain = (i!=0), lr = 1e-5, beta = beta, beta_min = 1e-2, beta_max = 1e-2)\n",
    "    net = Pretest.pregame.net.cpu()\n",
    "    torch.save(net.state_dict(), 'weights_cpu/rnn_1515tanh512_checkpoint{}'.format(i))\n",
    "    "
   ]
  },
  {
   "cell_type": "markdown",
   "metadata": {},
   "source": [
    "**A coherent result here is threhold kind behaviour of decode vs performance, after decode smaller than 10, the performance rises.  The resutls is showeing that the learning rate vs performance doesn't characterize the threshold kind behaviour of performance change.  It is only after lr = -5, the performance begins to rise , while the learning rate - performance curve creates a fake trends for first few points.  This is not shown by explaination factor calculated by covariance.  **"
   ]
  }
 ],
 "metadata": {
  "anaconda-cloud": {},
  "kernelspec": {
   "display_name": "Python 3",
   "language": "python",
   "name": "python3"
  },
  "language_info": {
   "codemirror_mode": {
    "name": "ipython",
    "version": 3
   },
   "file_extension": ".py",
   "mimetype": "text/x-python",
   "name": "python",
   "nbconvert_exporter": "python",
   "pygments_lexer": "ipython3",
   "version": "3.6.3"
  },
  "latex_envs": {
   "LaTeX_envs_menu_present": true,
   "autoclose": false,
   "autocomplete": true,
   "bibliofile": "biblio.bib",
   "cite_by": "apalike",
   "current_citInitial": 1,
   "eqLabelWithNumbers": true,
   "eqNumInitial": 1,
   "hotkeys": {
    "equation": "Ctrl-E",
    "itemize": "Ctrl-I"
   },
   "labels_anchors": false,
   "latex_user_defs": false,
   "report_style_numbering": false,
   "user_envs_cfg": false
  },
  "toc": {
   "nav_menu": {},
   "number_sections": true,
   "sideBar": true,
   "skip_h1_title": false,
   "title_cell": "Table of Contents",
   "title_sidebar": "Contents",
   "toc_cell": true,
   "toc_position": {
    "height": "759px",
    "left": "0px",
    "right": "1228px",
    "top": "67px",
    "width": "212px"
   },
   "toc_section_display": "block",
   "toc_window_display": true
  },
  "varInspector": {
   "cols": {
    "lenName": 16,
    "lenType": 16,
    "lenVar": 40
   },
   "kernels_config": {
    "python": {
     "delete_cmd_postfix": "",
     "delete_cmd_prefix": "del ",
     "library": "var_list.py",
     "varRefreshCmd": "print(var_dic_list())"
    },
    "r": {
     "delete_cmd_postfix": ") ",
     "delete_cmd_prefix": "rm(",
     "library": "var_list.r",
     "varRefreshCmd": "cat(var_dic_list()) "
    }
   },
   "types_to_exclude": [
    "module",
    "function",
    "builtin_function_or_method",
    "instance",
    "_Feature"
   ],
   "window_display": false
  }
 },
 "nbformat": 4,
 "nbformat_minor": 2
}
