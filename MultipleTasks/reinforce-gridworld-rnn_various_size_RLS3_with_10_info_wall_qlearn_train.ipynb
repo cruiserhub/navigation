{
 "cells": [
  {
   "cell_type": "markdown",
   "metadata": {
    "toc": "true"
   },
   "source": [
    "<h1>Table of Contents<span class=\"tocSkip\"></span></h1>\n",
    "<div class=\"toc\"><ul class=\"toc-item\"><li><span><a href=\"#quick-start\" data-toc-modified-id=\"quick-start-1\"><span class=\"toc-item-num\">1&nbsp;&nbsp;</span>quick start</a></span><ul class=\"toc-item\"><li><span><a href=\"#Resources\" data-toc-modified-id=\"Resources-1.1\"><span class=\"toc-item-num\">1.1&nbsp;&nbsp;</span>Resources</a></span></li></ul></li><li><span><a href=\"#FULL-MODEL\" data-toc-modified-id=\"FULL-MODEL-2\"><span class=\"toc-item-num\">2&nbsp;&nbsp;</span>FULL MODEL</a></span><ul class=\"toc-item\"><li><span><a href=\"#Packages\" data-toc-modified-id=\"Packages-2.1\"><span class=\"toc-item-num\">2.1&nbsp;&nbsp;</span>Packages</a></span><ul class=\"toc-item\"><li><span><a href=\"#Qnetwork\" data-toc-modified-id=\"Qnetwork-2.1.1\"><span class=\"toc-item-num\">2.1.1&nbsp;&nbsp;</span>Qnetwork</a></span></li></ul></li><li><span><a href=\"#POMDP-RNN-Game\" data-toc-modified-id=\"POMDP-RNN-Game-2.2\"><span class=\"toc-item-num\">2.2&nbsp;&nbsp;</span>POMDP RNN Game</a></span></li><li><span><a href=\"#Results\" data-toc-modified-id=\"Results-2.3\"><span class=\"toc-item-num\">2.3&nbsp;&nbsp;</span>Results</a></span><ul class=\"toc-item\"><li><span><a href=\"#Standard-setting：-grid-=--(3,7)，-holes-=-0\" data-toc-modified-id=\"Standard-setting：-grid-=--(3,7)，-holes-=-0-2.3.1\"><span class=\"toc-item-num\">2.3.1&nbsp;&nbsp;</span>Standard setting： grid =  (3,7)， holes = 0</a></span></li><li><span><a href=\"#Model-Tranining\" data-toc-modified-id=\"Model-Tranining-2.3.2\"><span class=\"toc-item-num\">2.3.2&nbsp;&nbsp;</span>Model Tranining</a></span></li><li><span><a href=\"#decoding-vs-performance\" data-toc-modified-id=\"decoding-vs-performance-2.3.3\"><span class=\"toc-item-num\">2.3.3&nbsp;&nbsp;</span>decoding vs performance</a></span></li><li><span><a href=\"#learning-rate-vs-performance\" data-toc-modified-id=\"learning-rate-vs-performance-2.3.4\"><span class=\"toc-item-num\">2.3.4&nbsp;&nbsp;</span>learning rate vs performance</a></span></li><li><span><a href=\"#Summary\" data-toc-modified-id=\"Summary-2.3.5\"><span class=\"toc-item-num\">2.3.5&nbsp;&nbsp;</span>Summary</a></span></li><li><span><a href=\"#Anlytic-part-,-check-the-behaviour-correspond-to-each-decoding-level-and-explain-why\" data-toc-modified-id=\"Anlytic-part-,-check-the-behaviour-correspond-to-each-decoding-level-and-explain-why-2.3.6\"><span class=\"toc-item-num\">2.3.6&nbsp;&nbsp;</span>Anlytic part , check the behaviour correspond to each decoding level and explain why</a></span></li></ul></li><li><span><a href=\"#PCA\" data-toc-modified-id=\"PCA-2.4\"><span class=\"toc-item-num\">2.4&nbsp;&nbsp;</span>PCA</a></span></li></ul></li></ul></div>"
   ]
  },
  {
   "cell_type": "markdown",
   "metadata": {},
   "source": [
    "# quick start "
   ]
  },
  {
   "cell_type": "markdown",
   "metadata": {},
   "source": [
    "Test what is the decoding change for single size training "
   ]
  },
  {
   "cell_type": "markdown",
   "metadata": {},
   "source": [
    "## Resources\n",
    "\n",
    "* [*The* Reinforcement learning book from Sutton & Barto](http://incompleteideas.net/sutton/book/the-book-2nd.html)\n",
    "* [The REINFORCE paper from Ronald J. Williams (1992)](http://www-anw.cs.umass.edu/~barto/courses/cs687/williams92simple.pdf)\n"
   ]
  },
  {
   "cell_type": "markdown",
   "metadata": {},
   "source": [
    "# FULL MODEL"
   ]
  },
  {
   "cell_type": "markdown",
   "metadata": {},
   "source": [
    "## Packages"
   ]
  },
  {
   "cell_type": "code",
   "execution_count": 1,
   "metadata": {},
   "outputs": [],
   "source": [
    "%load_ext autoreload\n",
    "%autoreload 2\n",
    "\n",
    "import numpy as np\n",
    "from itertools import count\n",
    "import random\n",
    "\n",
    "import torch\n",
    "import torch.nn as nn\n",
    "import torch.nn.functional as F\n",
    "import torch.optim as optim\n",
    "import torch.autograd as autograd\n",
    "from torch.autograd import Variable\n",
    "from torch.nn import init\n",
    "from torch.nn import DataParallel\n",
    "\n",
    "import matplotlib.mlab as mlab\n",
    "import matplotlib.pyplot as plt\n",
    "import matplotlib.animation\n",
    "from IPython.display import HTML\n",
    "\n",
    "import POMDPgame_bars\n",
    "from POMDPgame_bars import*\n",
    "\n",
    "import POMDPgame_basic\n",
    "from POMDPgame_basic import*\n",
    "\n",
    "import POMDPgame_holes\n",
    "from POMDPgame_holes import*\n",
    "\n",
    "\n",
    "import RNN\n",
    "from RNN import *\n",
    "\n",
    "import navigation2\n",
    "from navigation2 import*\n",
    "\n",
    "import Nets\n",
    "from Nets import*\n",
    "\n",
    "%matplotlib inline"
   ]
  },
  {
   "cell_type": "markdown",
   "metadata": {},
   "source": [
    "### Qnetwork\n",
    "\n",
    "To select actions we take maximum of Q value, corresponding to certain move."
   ]
  },
  {
   "cell_type": "markdown",
   "metadata": {},
   "source": [
    "For the liquid state approach to work, you need a lot of neurons as surplus or enough hidden to hidden connectivity to make it have an effect."
   ]
  },
  {
   "cell_type": "markdown",
   "metadata": {},
   "source": [
    "##  POMDP RNN Game\n",
    "\n",
    "In this game , we use a new reward function determined by game, if the agent achieves the goal before 50, reward is 1. If time pass 50 reward is 0.5, once time pass 100 agent gets a reward of -0.5 .  Practically, this is found to be easier to learn than the rewards as a continous function of time.  Tf the agent learns to search in a efficient way, the largest possible way for search is to firstly arrive at corner then goes to the goal, which, takes about 50 steps, it is reasonble to make 50 and 100 as milestone thing.  Also in principe as the game doesn't have a timer , it is not if it can use a reward as funtion of time"
   ]
  },
  {
   "cell_type": "markdown",
   "metadata": {},
   "source": [
    "3 condition for ending , when pass time limit, game over"
   ]
  },
  {
   "cell_type": "markdown",
   "metadata": {},
   "source": [
    "For weight update, it seems to be better do it after episode, as it makes non-sense evaluate strategy during episode, but a the end. Also, it is much quicker. "
   ]
  },
  {
   "cell_type": "markdown",
   "metadata": {},
   "source": [
    "A programming of MDP here, hidden state is as state of enviroment"
   ]
  },
  {
   "cell_type": "code",
   "execution_count": 2,
   "metadata": {},
   "outputs": [
    {
     "name": "stdout",
     "output_type": "stream",
     "text": [
      "task <class 'POMDPgame_basic.GameBasic'>\n",
      "task <class 'POMDPgame_holes.GameHole'>\n",
      "task <class 'POMDPgame_bars.GameBar'>\n",
      "task <class 'POMDPgame_scale.GameScale'>\n",
      "task <class 'POMDPgame_scale_x.GameScale_x'>\n",
      "task <class 'POMDPgame_scale_y.GameScale_y'>\n",
      "task <class 'POMDPgame_implicit.GameImplicit'>\n"
     ]
    },
    {
     "data": {
      "text/plain": [
       "<matplotlib.image.AxesImage at 0x7fddd4d49cc0>"
      ]
     },
     "execution_count": 2,
     "metadata": {},
     "output_type": "execute_result"
    },
    {
     "data": {
      "image/png": "[encoded data removed]",
      "text/plain": [
       "<Figure size 288x288 with 1 Axes>"
      ]
     },
     "metadata": {
      "needs_background": "light"
     },
     "output_type": "display_data"
    },
    {
     "data": {
      "image/png": "[encoded data removed]",
      "text/plain": [
       "<Figure size 288x288 with 1 Axes>"
      ]
     },
     "metadata": {
      "needs_background": "light"
     },
     "output_type": "display_data"
    },
    {
     "data": {
      "image/png": "[encoded data removed]",
      "text/plain": [
       "<Figure size 288x288 with 1 Axes>"
      ]
     },
     "metadata": {
      "needs_background": "light"
     },
     "output_type": "display_data"
    },
    {
     "data": {
      "image/png": "[encoded data removed]",
      "text/plain": [
       "<Figure size 288x288 with 1 Axes>"
      ]
     },
     "metadata": {
      "needs_background": "light"
     },
     "output_type": "display_data"
    },
    {
     "data": {
      "image/png": "[encoded data removed]",
      "text/plain": [
       "<Figure size 515.368x288 with 1 Axes>"
      ]
     },
     "metadata": {
      "needs_background": "light"
     },
     "output_type": "display_data"
    },
    {
     "data": {
      "image/png": "[encoded data removed]",
      "text/plain": [
       "<Figure size 288x288 with 1 Axes>"
      ]
     },
     "metadata": {
      "needs_background": "light"
     },
     "output_type": "display_data"
    },
    {
     "data": {
      "image/png": "[encoded data removed]",
      "text/plain": [
       "<Figure size 288x288 with 1 Axes>"
      ]
     },
     "metadata": {
      "needs_background": "light"
     },
     "output_type": "display_data"
    }
   ],
   "source": [
    "basicgame = CreateGame(GameBasic, holes = 0)\n",
    "basicgame.reset(size = 15, reward_control=0)\n",
    "plt.matshow(basicgame.grid.grid)\n",
    "\n",
    "holegame = CreateGame(GameHole, holes = 50)\n",
    "holegame.reset(size = 15, reward_control=0)\n",
    "plt.matshow(holegame.grid.grid)\n",
    "\n",
    "bargame = CreateGame(GameBar, holes = 0)\n",
    "bargame.reset(size = 15, reward_control=0)\n",
    "plt.matshow(bargame.grid.grid)\n",
    "\n",
    "scalegame = CreateGame(GameScale, holes = 0)\n",
    "scalegame.reset(reward_control=0)\n",
    "plt.matshow(scalegame.grid.grid)\n",
    "\n",
    "scalegame_x = CreateGame(GameScale_x, holes = 0)\n",
    "scalegame_x.reset(reward_control=0)\n",
    "plt.matshow(scalegame_x.grid.grid)\n",
    "\n",
    "scalegame_y = CreateGame(GameScale_y, holes = 0)\n",
    "scalegame_y.reset(reward_control=0)\n",
    "plt.matshow(scalegame_y.grid.grid)\n",
    "\n",
    "Imp_game = CreateGame(GameImplicit, holes = 0)\n",
    "Imp_game.reset(size = 15, reward_control=0)\n",
    "plt.matshow(Imp_game.grid.grid)"
   ]
  },
  {
   "cell_type": "markdown",
   "metadata": {},
   "source": [
    "Think of how to make this traning stable, adding exploration noise , intenral noise or environmental variability like multiple mazes  "
   ]
  },
  {
   "cell_type": "code",
   "execution_count": 5,
   "metadata": {},
   "outputs": [
    {
     "name": "stdout",
     "output_type": "stream",
     "text": [
      "basic\n",
      "start [15]\n",
      "clear session data 49 2312249344\n",
      "basic performance -0.4362678030755621\n",
      "clear session data 49 2267299840\n",
      "basic performance 0.7863129466682323\n",
      "clear session data 49 2229624832\n",
      "basic performance 0.8822660454237549\n",
      "clear session data 49 2229624832\n",
      "basic performance 0.7897966028011119\n",
      "clear session data 49 2229624832\n",
      "basic performance 0.8801521127266848\n",
      "clear session data 49 2229624832\n",
      "basic performance 0.8884561716324313\n",
      "clear session data 49 2229624832\n",
      "basic performance 0.8840812047698173\n",
      "clear session data 49 2229624832\n",
      "basic performance 0.8646426871468114\n",
      "clear session data 49 2229624832\n",
      "basic performance 0.867948078965218\n",
      "clear session data 49 2229624832\n",
      "basic performance 0.8985777217841986\n",
      "hole\n",
      "start [15]\n",
      "clear session data 4 9539256320\n",
      "hole performance -0.046962344418426796\n",
      "clear session data 4 9997692928\n",
      "hole performance -0.05627743622210882\n",
      "clear session data 4 10032762880\n",
      "hole performance 0.2890648359464867\n",
      "clear session data 4 10094735360\n",
      "hole performance 0.4680161360623327\n",
      "clear session data 4 10064240640\n",
      "hole performance 0.5748369313325068\n",
      "clear session data 4 10063880192\n",
      "hole performance 0.5905884678378085\n",
      "clear session data 4 9972281344\n",
      "hole performance 0.637513409084698\n",
      "clear session data 4 10034253824\n",
      "hole performance 0.6684025838434573\n",
      "clear session data 4 9940344832\n",
      "hole performance 0.6686451135329318\n",
      "clear session data 4 10032775168\n",
      "hole performance 0.7284029858983271\n",
      "clear session data 4 9941147648\n",
      "hole performance 0.7326780864795088\n",
      "clear session data 4 10063654912\n",
      "hole performance 0.723356367076101\n",
      "clear session data 4 10064105472\n",
      "hole performance 0.7320148756385202\n",
      "clear session data 4 10033123328\n",
      "hole performance 0.8196028216906432\n",
      "clear session data 4 10033012736\n",
      "hole performance 0.7869310868470588\n",
      "clear session data 4 10094186496\n",
      "hole performance 0.7787637671420002\n",
      "clear session data 4 9972322304\n",
      "hole performance 0.7914753776115475\n",
      "clear session data 4 10033500160\n",
      "hole performance 0.7952570806352676\n",
      "clear session data 4 9940779008\n",
      "hole performance 0.7727954427952906\n",
      "clear session data 4 10033205248\n",
      "hole performance 0.7991960711272992\n",
      "clear session data 4 9941090304\n",
      "hole performance 0.7898262932707507\n",
      "clear session data 4 10033250304\n",
      "hole performance 0.8183181672641566\n",
      "clear session data 4 10095226880\n",
      "hole performance 0.7764968693873318\n",
      "clear session data 4 9971806208\n",
      "hole performance 0.7893186563608032\n",
      "clear session data 4 10032713728\n",
      "hole performance 0.797296391226451\n",
      "clear session data 4 10007121920\n",
      "hole performance 0.7690765153070214\n",
      "clear session data 4 10033803264\n",
      "hole performance 0.7595226920328692\n",
      "clear session data 4 10005803008\n",
      "hole performance 0.7290843206192132\n",
      "clear session data 4 10033016832\n",
      "hole performance 0.7348163639744094\n",
      "clear session data 4 10033471488\n",
      "hole performance 0.6960217206702675\n",
      "bar\n",
      "start [15]\n",
      "clear session data 49 9971916800\n"
     ]
    },
    {
     "ename": "AttributeError",
     "evalue": "'ValueMaxGame' object has no attribute 'Set_reward'",
     "output_type": "error",
     "traceback": [
      "\u001b[0;31m---------------------------------------------------------------------------\u001b[0m",
      "\u001b[0;31mAttributeError\u001b[0m                            Traceback (most recent call last)",
      "\u001b[0;32m<ipython-input-5-cbb4c63154fc>\u001b[0m in \u001b[0;36m<module>\u001b[0;34m\u001b[0m\n\u001b[1;32m     21\u001b[0m         \u001b[0mprint\u001b[0m \u001b[0;34m(\u001b[0m\u001b[0;34m'start'\u001b[0m\u001b[0;34m,\u001b[0m \u001b[0msize_train\u001b[0m\u001b[0;34m)\u001b[0m\u001b[0;34m\u001b[0m\u001b[0;34m\u001b[0m\u001b[0m\n\u001b[1;32m     22\u001b[0m         Task.qlearn(task, weight_read,  weight_write, episodes = n, noise = 0, size_train = size_train, size_test=[15], iterations = iterations\n\u001b[0;32m---> 23\u001b[0;31m                    , epochs = epochs)\n\u001b[0m",
      "\u001b[0;32m~/Research/PhD/NavigationPaper_905/Tasks/Nets.py\u001b[0m in \u001b[0;36mqlearn\u001b[0;34m(self, task, weight_read, weight_write, episodes, save, size_train, size_test, test_only, noise, k_action, h2o, iterations, epochs)\u001b[0m\n\u001b[1;32m    147\u001b[0m                     \u001b[0mtorch\u001b[0m\u001b[0;34m.\u001b[0m\u001b[0msave\u001b[0m\u001b[0;34m(\u001b[0m\u001b[0mself\u001b[0m\u001b[0;34m.\u001b[0m\u001b[0mgame\u001b[0m\u001b[0;34m.\u001b[0m\u001b[0mnet\u001b[0m\u001b[0;34m.\u001b[0m\u001b[0mstate_dict\u001b[0m\u001b[0;34m(\u001b[0m\u001b[0;34m)\u001b[0m\u001b[0;34m,\u001b[0m \u001b[0mweight_write\u001b[0m \u001b[0;34m+\u001b[0m \u001b[0;34m'_{}'\u001b[0m\u001b[0;34m.\u001b[0m\u001b[0mformat\u001b[0m\u001b[0;34m(\u001b[0m\u001b[0mn\u001b[0m\u001b[0;34m)\u001b[0m\u001b[0;34m)\u001b[0m\u001b[0;34m\u001b[0m\u001b[0;34m\u001b[0m\u001b[0m\n\u001b[1;32m    148\u001b[0m             \u001b[0;31m# plt.matshow(self.game.grid.grid)\u001b[0m\u001b[0;34m\u001b[0m\u001b[0;34m\u001b[0m\u001b[0;34m\u001b[0m\u001b[0m\n\u001b[0;32m--> 149\u001b[0;31m             \u001b[0mrewards\u001b[0m \u001b[0;34m=\u001b[0m \u001b[0mTest\u001b[0m\u001b[0;34m(\u001b[0m\u001b[0mtask\u001b[0m\u001b[0;34m,\u001b[0m \u001b[0mself\u001b[0m\u001b[0;34m.\u001b[0m\u001b[0mgame\u001b[0m\u001b[0;34m,\u001b[0m \u001b[0mweight\u001b[0m\u001b[0;34m=\u001b[0m \u001b[0mweight_write\u001b[0m \u001b[0;34m+\u001b[0m \u001b[0;34m'_{}'\u001b[0m\u001b[0;34m.\u001b[0m\u001b[0mformat\u001b[0m\u001b[0;34m(\u001b[0m\u001b[0mn\u001b[0m\u001b[0;34m)\u001b[0m\u001b[0;34m,\u001b[0m \u001b[0msize\u001b[0m \u001b[0;34m=\u001b[0m \u001b[0msize_test\u001b[0m\u001b[0;34m[\u001b[0m\u001b[0;36m0\u001b[0m\u001b[0;34m]\u001b[0m\u001b[0;34m)\u001b[0m\u001b[0;34m\u001b[0m\u001b[0;34m\u001b[0m\u001b[0m\n\u001b[0m\u001b[1;32m    150\u001b[0m             \u001b[0mlam\u001b[0m \u001b[0;34m=\u001b[0m \u001b[0;36m0.5\u001b[0m\u001b[0;34m\u001b[0m\u001b[0;34m\u001b[0m\u001b[0m\n\u001b[1;32m    151\u001b[0m             \u001b[0mrls_q\u001b[0m\u001b[0;34m.\u001b[0m\u001b[0mlam\u001b[0m \u001b[0;34m=\u001b[0m \u001b[0mlam\u001b[0m\u001b[0;34m\u001b[0m\u001b[0;34m\u001b[0m\u001b[0m\n",
      "\u001b[0;32m~/Research/PhD/NavigationPaper_905/Tasks/Tests.py\u001b[0m in \u001b[0;36mTest\u001b[0;34m(task, game, weight, size)\u001b[0m\n\u001b[1;32m    316\u001b[0m             \u001b[0mperformance\u001b[0m \u001b[0;34m+=\u001b[0m \u001b[0mTestHole\u001b[0m\u001b[0;34m(\u001b[0m\u001b[0mgame\u001b[0m\u001b[0;34m,\u001b[0m \u001b[0mreward_control\u001b[0m \u001b[0;34m=\u001b[0m \u001b[0mcontext\u001b[0m\u001b[0;34m,\u001b[0m \u001b[0mholes\u001b[0m\u001b[0;34m=\u001b[0m\u001b[0;36m50\u001b[0m\u001b[0;34m,\u001b[0m \u001b[0mseed\u001b[0m \u001b[0;34m=\u001b[0m \u001b[0;36m0\u001b[0m\u001b[0;34m,\u001b[0m \u001b[0msize\u001b[0m \u001b[0;34m=\u001b[0m \u001b[0msize\u001b[0m\u001b[0;34m)\u001b[0m\u001b[0;34m\u001b[0m\u001b[0;34m\u001b[0m\u001b[0m\n\u001b[1;32m    317\u001b[0m         \u001b[0;32mif\u001b[0m \u001b[0mtask\u001b[0m \u001b[0;34m==\u001b[0m \u001b[0;34m'bar'\u001b[0m\u001b[0;34m:\u001b[0m\u001b[0;34m\u001b[0m\u001b[0;34m\u001b[0m\u001b[0m\n\u001b[0;32m--> 318\u001b[0;31m             \u001b[0mperformance\u001b[0m \u001b[0;34m+=\u001b[0m \u001b[0mTestBar\u001b[0m\u001b[0;34m(\u001b[0m\u001b[0mgame\u001b[0m\u001b[0;34m,\u001b[0m \u001b[0mreward_control\u001b[0m \u001b[0;34m=\u001b[0m \u001b[0mcontext\u001b[0m\u001b[0;34m,\u001b[0m \u001b[0msize\u001b[0m \u001b[0;34m=\u001b[0m \u001b[0msize\u001b[0m\u001b[0;34m)\u001b[0m\u001b[0;34m\u001b[0m\u001b[0;34m\u001b[0m\u001b[0m\n\u001b[0m\u001b[1;32m    319\u001b[0m         \u001b[0;32mif\u001b[0m \u001b[0mtask\u001b[0m \u001b[0;34m==\u001b[0m \u001b[0;34m'scale'\u001b[0m\u001b[0;34m:\u001b[0m\u001b[0;34m\u001b[0m\u001b[0;34m\u001b[0m\u001b[0m\n\u001b[1;32m    320\u001b[0m             \u001b[0mperformance\u001b[0m \u001b[0;34m+=\u001b[0m \u001b[0mTestScale\u001b[0m\u001b[0;34m(\u001b[0m\u001b[0mgame\u001b[0m\u001b[0;34m,\u001b[0m \u001b[0mreward_control\u001b[0m \u001b[0;34m=\u001b[0m \u001b[0mcontext\u001b[0m\u001b[0;34m,\u001b[0m \u001b[0msize\u001b[0m \u001b[0;34m=\u001b[0m \u001b[0msize\u001b[0m\u001b[0;34m)\u001b[0m\u001b[0;34m\u001b[0m\u001b[0;34m\u001b[0m\u001b[0m\n",
      "\u001b[0;32m~/Research/PhD/NavigationPaper_905/Tasks/Tests.py\u001b[0m in \u001b[0;36mTestBar\u001b[0;34m(game, reward_control, cross, size, test, limit_set, map_set, start)\u001b[0m\n\u001b[1;32m     99\u001b[0m                 \u001b[0mdone\u001b[0m \u001b[0;34m=\u001b[0m \u001b[0;32mFalse\u001b[0m\u001b[0;34m\u001b[0m\u001b[0;34m\u001b[0m\u001b[0m\n\u001b[1;32m    100\u001b[0m                 \u001b[0mgame\u001b[0m\u001b[0;34m.\u001b[0m\u001b[0mhidden\u001b[0m \u001b[0;34m=\u001b[0m \u001b[0mgame\u001b[0m\u001b[0;34m.\u001b[0m\u001b[0mnet\u001b[0m\u001b[0;34m.\u001b[0m\u001b[0minitHidden\u001b[0m\u001b[0;34m(\u001b[0m\u001b[0;34m)\u001b[0m\u001b[0;34m\u001b[0m\u001b[0;34m\u001b[0m\u001b[0m\n\u001b[0;32m--> 101\u001b[0;31m                 \u001b[0mpos_r\u001b[0m \u001b[0;34m=\u001b[0m \u001b[0mgame\u001b[0m\u001b[0;34m.\u001b[0m\u001b[0mSet_reward\u001b[0m\u001b[0;34m[\u001b[0m\u001b[0mgame\u001b[0m\u001b[0;34m.\u001b[0m\u001b[0mreward_control\u001b[0m\u001b[0;34m]\u001b[0m\u001b[0;34m\u001b[0m\u001b[0;34m\u001b[0m\u001b[0m\n\u001b[0m\u001b[1;32m    102\u001b[0m                 \u001b[0;32mwhile\u001b[0m \u001b[0;32mnot\u001b[0m \u001b[0mdone\u001b[0m\u001b[0;34m:\u001b[0m\u001b[0;34m\u001b[0m\u001b[0;34m\u001b[0m\u001b[0m\n\u001b[1;32m    103\u001b[0m                     \u001b[0m_\u001b[0m\u001b[0;34m,\u001b[0m \u001b[0mstate\u001b[0m\u001b[0;34m,\u001b[0m \u001b[0mreward\u001b[0m\u001b[0;34m,\u001b[0m \u001b[0mdone\u001b[0m \u001b[0;34m=\u001b[0m \u001b[0mgame\u001b[0m\u001b[0;34m.\u001b[0m\u001b[0mstep\u001b[0m\u001b[0;34m(\u001b[0m\u001b[0mgame\u001b[0m\u001b[0;34m.\u001b[0m\u001b[0mmaxplay\u001b[0m\u001b[0;34m,\u001b[0m \u001b[0mepsilon\u001b[0m\u001b[0;34m=\u001b[0m\u001b[0;36m0.00\u001b[0m\u001b[0;34m,\u001b[0m \u001b[0mtest\u001b[0m\u001b[0;34m=\u001b[0m\u001b[0;32mTrue\u001b[0m\u001b[0;34m,\u001b[0m \u001b[0mcross\u001b[0m\u001b[0;34m=\u001b[0m\u001b[0mcross\u001b[0m\u001b[0;34m)\u001b[0m  \u001b[0;31m# Down\u001b[0m\u001b[0;34m\u001b[0m\u001b[0;34m\u001b[0m\u001b[0m\n",
      "\u001b[0;31mAttributeError\u001b[0m: 'ValueMaxGame' object has no attribute 'Set_reward'"
     ]
    }
   ],
   "source": [
    "# moving bar train, noise = 0.0\n",
    "trial = 399\n",
    "tasks = ['basic', 'hole']\n",
    "episodes = [10, 30, 30, 10, 30, 30, 30]\n",
    "# iterations = [1, 1, 1, 1, 1, 1, 1]\n",
    "for n, task in zip(episodes, tasks):\n",
    "        Task =  MultipleTasks(task = task, weight_write = 'weights_cpu/rnn_1515tanh512_checkpoint{}'.format(trial)\\\n",
    "                              , noise = 0.0)\n",
    "        weight_read = Task.weight\n",
    "        weight_write = 'weights_' + task + '/rnn_1515tanh512_checkpoint{}'.format(trial)\n",
    "        if task == 'scale':\n",
    "            size_train = np.arange(10, 51, 10)\n",
    "        else:\n",
    "            size_train = [15]\n",
    "        if task == 'hole':\n",
    "            iterations = 5\n",
    "            epochs = 100\n",
    "        else:\n",
    "            iterations = 50\n",
    "            epochs = 10\n",
    "        print ('start', size_train)\n",
    "        Task.qlearn(task, weight_read,  weight_write, episodes = n, noise = 0, size_train = size_train, size_test=[15], iterations = iterations\n",
    "                   , epochs = epochs)"
   ]
  },
  {
   "cell_type": "code",
   "execution_count": null,
   "metadata": {},
   "outputs": [
    {
     "name": "stdout",
     "output_type": "stream",
     "text": [
      "bar\n",
      "start [15]\n",
      "clear session data 4 17593364480\n",
      "bar performance -0.7213541666666667\n",
      "clear session data 4 17593364480\n",
      "bar performance -0.6455488445378151\n",
      "clear session data 4 17593364480\n",
      "bar performance -0.5384385131152372\n",
      "clear session data 4 17593364480\n",
      "bar performance -0.48932291666666666\n",
      "clear session data 4 17593364480\n",
      "bar performance -0.43525874035384904\n",
      "clear session data 4 17593364480\n",
      "bar performance -0.43126860119047616\n",
      "clear session data 4 17593364480\n",
      "bar performance -0.380967567431562\n",
      "clear session data 4 17593364480\n",
      "bar performance -0.33281926406926404\n",
      "clear session data 4 17593364480\n",
      "bar performance -0.3671640037593985\n",
      "clear session data 4 17593364480\n",
      "bar performance -0.3185374376780627\n",
      "clear session data 4 17593364480\n",
      "bar performance -0.21723211684149182\n",
      "clear session data 4 17593364480\n",
      "bar performance -0.015000949571262079\n",
      "clear session data 4 17593364480\n",
      "bar performance -0.08231894841269842\n",
      "clear session data 4 17593364480\n",
      "bar performance -0.07905362866300361\n",
      "clear session data 4 17593364480\n",
      "bar performance 0.1619182831970661\n",
      "clear session data 4 17593364480\n",
      "bar performance 0.13501706626706628\n",
      "clear session data 4 17593364480\n",
      "bar performance 0.08407542977855478\n",
      "clear session data 4 17593364480\n",
      "bar performance 0.07601604125041628\n",
      "clear session data 4 17593364480\n",
      "bar performance 0.27046855054667557\n",
      "clear session data 4 17593364480\n",
      "bar performance 0.3391060473091723\n",
      "clear session data 4 17593364480\n",
      "bar performance 0.31204132164530873\n",
      "clear session data 4 17593364480\n",
      "bar performance 0.18251540126540125\n",
      "clear session data 4 17593364480\n",
      "bar performance 0.3703517576173826\n",
      "clear session data 4 17593364480\n",
      "bar performance 0.27764742441466583\n",
      "clear session data 4 17593364480\n",
      "bar performance 0.37812953031164237\n",
      "clear session data 4 17593364480\n",
      "bar performance 0.41917124721542826\n",
      "clear session data 4 17593364480\n",
      "bar performance 0.2980561172842962\n",
      "clear session data 4 17593364480\n",
      "bar performance 0.21313816391941393\n",
      "clear session data 4 17593364480\n",
      "bar performance 0.3878335851195906\n",
      "clear session data 4 17593364480\n",
      "bar performance 0.37408163306600806\n",
      "scale\n",
      "start [10 20 30 40 50]\n"
     ]
    }
   ],
   "source": [
    "# moving bar train, noise = 0.0\n",
    "trial = 399\n",
    "tasks = ['bar']\n",
    "episodes = [30]\n",
    "# iterations = [1, 1, 1, 1, 1, 1, 1]\n",
    "for n, task in zip(episodes, tasks):\n",
    "        Task =  MultipleTasks(task = task, weight_write = 'weights_cpu/rnn_1515tanh512_checkpoint{}'.format(trial)\\\n",
    "                              , noise = 0.0)\n",
    "        weight_read = Task.weight\n",
    "        weight_write = 'weights_' + task + '/rnn_1515tanh512_checkpoint{}'.format(trial)\n",
    "        if task == 'scale':\n",
    "            size_train = np.arange(10, 51, 10)\n",
    "        else:\n",
    "            size_train = [15]\n",
    "        if (task == 'hole') or (task == 'bar'):\n",
    "            iterations = 5\n",
    "            epochs = 100\n",
    "        else:\n",
    "            iterations = 50\n",
    "            epochs = 10 \n",
    "        print ('start', size_train)\n",
    "        Task.qlearn(task, weight_read,  weight_write, episodes = n, noise = 0, size_train = size_train, size_test=[15], iterations = iterations\n",
    "                   , epochs = epochs)"
   ]
  },
  {
   "cell_type": "code",
   "execution_count": null,
   "metadata": {},
   "outputs": [
    {
     "name": "stdout",
     "output_type": "stream",
     "text": [
      "task <class 'POMDPgame_scale.GameScale'>\n",
      "scale\n",
      "start [10 20 30 40 50]\n"
     ]
    },
    {
     "name": "stderr",
     "output_type": "stream",
     "text": [
      "/home/tie/.conda/envs/torch/lib/python3.7/site-packages/torch/tensor.py:339: UserWarning: non-inplace resize is deprecated\n",
      "  warnings.warn(\"non-inplace resize is deprecated\")\n"
     ]
    },
    {
     "name": "stdout",
     "output_type": "stream",
     "text": [
      "clear session data 49 4953993216\n",
      "(9, 5)\n",
      "(9, 13)\n",
      "scale performance 0.33611628134796234\n"
     ]
    }
   ],
   "source": [
    "# moving bar train, noise = 0.0\n",
    "trial = 399\n",
    "tasks = ['scale']\n",
    "episodes = [10]\n",
    "# iterations = [1, 1, 1, 1, 1, 1, 1]\n",
    "for n, task in zip(episodes, tasks):\n",
    "        Task =  MultipleTasks(task = task, weight_write = 'weights_cpu/rnn_1515tanh512_checkpoint{}'.format(trial)\\\n",
    "                              , noise = 0.0)\n",
    "        weight_read = Task.weight\n",
    "        weight_write = 'weights_' + task + '/rnn_1515tanh512_checkpoint{}'.format(trial)\n",
    "        if task == 'scale':\n",
    "            size_train = np.arange(10, 51, 10)\n",
    "        else:\n",
    "            size_train = [15]\n",
    "        if (task == 'hole') or (task == 'bar'):\n",
    "            iterations = 5\n",
    "            epochs = 100\n",
    "        else:\n",
    "            iterations = 50\n",
    "            epochs = 10 \n",
    "        print ('start', size_train)\n",
    "        Task.qlearn(task, weight_read,  weight_write, episodes = n, noise = 0, size_train = size_train, size_test=[15], iterations = iterations\n",
    "                   , epochs = epochs)"
   ]
  },
  {
   "cell_type": "code",
   "execution_count": null,
   "metadata": {},
   "outputs": [
    {
     "name": "stdout",
     "output_type": "stream",
     "text": [
      "task <class 'POMDPgame_scale_x.GameScale_x'>\n",
      "scale_x\n",
      "start [15]\n"
     ]
    },
    {
     "name": "stderr",
     "output_type": "stream",
     "text": [
      "/home/tie/.conda/envs/torch/lib/python3.7/site-packages/torch/tensor.py:339: UserWarning: non-inplace resize is deprecated\n",
      "  warnings.warn(\"non-inplace resize is deprecated\")\n"
     ]
    },
    {
     "name": "stdout",
     "output_type": "stream",
     "text": [
      "clear session data 49 1602179072\n",
      "scale_x performance -0.614357049271784\n",
      "clear session data 49 1924890624\n",
      "scale_x performance -0.12836621780830826\n",
      "clear session data 49 1924898816\n",
      "scale_x performance -0.27205386307720514\n",
      "clear session data 49 1925128192\n",
      "scale_x performance 0.2289565362688739\n",
      "clear session data 49 1925128192\n",
      "scale_x performance 0.3723983833774887\n",
      "clear session data 49 1925398528\n",
      "scale_x performance 0.6268584164160191\n",
      "clear session data 49 1925668864\n",
      "scale_x performance 0.20934659639048744\n",
      "clear session data 49 1925808128\n",
      "scale_x performance 0.5387847803096268\n",
      "clear session data 49 1925808128\n",
      "scale_x performance 0.6466461672415948\n",
      "clear session data 49 1925808128\n",
      "scale_x performance 0.6581784130930551\n",
      "clear session data 49 1925808128\n",
      "scale_x performance 0.7641275677648225\n",
      "clear session data 49 1926078464\n",
      "scale_x performance 0.8739386962328441\n",
      "clear session data 49 1926348800\n",
      "scale_x performance 0.7818670661839535\n",
      "clear session data 49 1926348800\n",
      "scale_x performance 0.7978166249188479\n",
      "clear session data 49 1926619136\n",
      "scale_x performance 0.7734947396067984\n",
      "clear session data 49 1926619136\n",
      "scale_x performance 0.5878189990894322\n",
      "clear session data 49 1926619136\n",
      "scale_x performance 0.8319723890608604\n",
      "clear session data 49 1926619136\n",
      "scale_x performance 0.794746771987842\n",
      "clear session data 49 1926619136\n",
      "scale_x performance 0.8575655743877482\n",
      "clear session data 49 1926619136\n",
      "scale_x performance 0.7143507085124319\n",
      "clear session data 49 1926889472\n",
      "scale_x performance 0.7632832983317388\n",
      "clear session data 49 1927000064\n",
      "scale_x performance 0.829661704610472\n",
      "clear session data 49 1927000064\n",
      "scale_x performance 0.7440576681588773\n",
      "clear session data 49 1927000064\n",
      "scale_x performance 0.7894180577008618\n",
      "clear session data 49 1927000064\n",
      "scale_x performance 0.8038350046422484\n",
      "clear session data 49 1927000064\n",
      "scale_x performance 0.749031875038209\n",
      "clear session data 49 1927000064\n",
      "scale_x performance 0.5882537527880648\n",
      "clear session data 49 1927000064\n",
      "scale_x performance 0.6085816198259042\n",
      "clear session data 49 1927270400\n",
      "scale_x performance 0.3850398018392009\n",
      "clear session data 49 1927532544\n",
      "scale_x performance 0.3238181809915147\n",
      "task <class 'POMDPgame_scale_y.GameScale_y'>\n",
      "scale_y\n",
      "start [15]\n",
      "clear session data 49 1550450688\n",
      "scale_y performance -0.5560723298315322\n",
      "clear session data 49 1889357824\n",
      "scale_y performance -0.4011668009233818\n",
      "clear session data 49 1889628160\n",
      "scale_y performance 0.12202925902758979\n",
      "clear session data 49 1889628160\n",
      "scale_y performance 0.39929862424361046\n",
      "clear session data 49 1889628160\n",
      "scale_y performance -0.08844071550811587\n",
      "clear session data 49 1889890304\n",
      "scale_y performance -0.3895168047702663\n",
      "clear session data 49 1889628160\n",
      "scale_y performance 0.03810792497182805\n",
      "clear session data 49 1889628160\n",
      "scale_y performance -0.1214133632915887\n"
     ]
    }
   ],
   "source": [
    "# moving bar train, noise = 0.0\n",
    "trial = 399\n",
    "tasks = ['scale_x']\n",
    "episodes = [30]\n",
    "# iterations = [1, 1, 1, 1, 1, 1, 1]\n",
    "for n, task in zip(episodes, tasks):\n",
    "        Task =  MultipleTasks(task = task, weight_write = 'weights_cpu/rnn_1515tanh512_checkpoint{}'.format(trial)\\\n",
    "                              , noise = 0.0)\n",
    "        weight_read = Task.weight\n",
    "        weight_write = 'weights_' + task + '/rnn_1515tanh512_checkpoint{}'.format(trial)\n",
    "        if task == 'scale':\n",
    "            size_train = np.arange(10, 51, 10)\n",
    "        else:\n",
    "            size_train = [15]\n",
    "        if (task == 'hole') or (task == 'bar'):\n",
    "            iterations = 5\n",
    "            epochs = 100\n",
    "        else:\n",
    "            iterations = 50\n",
    "            epochs = 10 \n",
    "        print ('start', size_train)\n",
    "        Task.qlearn(task, weight_read,  weight_write, episodes = n, noise = 0, size_train = size_train, size_test=[15], iterations = iterations\n",
    "                   , epochs = epochs)"
   ]
  },
  {
   "cell_type": "code",
   "execution_count": 3,
   "metadata": {},
   "outputs": [
    {
     "name": "stdout",
     "output_type": "stream",
     "text": [
      "task <class 'POMDPgame_scale_y.GameScale_y'>\n",
      "scale_y\n",
      "start [15]\n"
     ]
    },
    {
     "name": "stderr",
     "output_type": "stream",
     "text": [
      "/home/tie/.conda/envs/torch/lib/python3.7/site-packages/torch/tensor.py:339: UserWarning: non-inplace resize is deprecated\n",
      "  warnings.warn(\"non-inplace resize is deprecated\")\n"
     ]
    },
    {
     "name": "stdout",
     "output_type": "stream",
     "text": [
      "clear session data 49 1552498688\n",
      "scale_y performance -0.1475947715941989\n",
      "clear session data 49 1778864128\n",
      "scale_y performance -0.2568936771122899\n",
      "clear session data 49 1822928896\n",
      "scale_y performance 0.34495650120797283\n",
      "clear session data 49 1823211520\n",
      "scale_y performance -0.029815214737947265\n",
      "clear session data 49 1823600640\n",
      "scale_y performance 0.17786481313832003\n",
      "clear session data 49 1823379456\n",
      "scale_y performance -0.17192887958217834\n",
      "clear session data 49 1823395840\n",
      "scale_y performance 0.04712986734727899\n",
      "clear session data 49 1823666176\n",
      "scale_y performance -0.1566897530812853\n",
      "clear session data 49 1823846400\n",
      "scale_y performance -0.09202431204261699\n",
      "clear session data 49 1823850496\n",
      "scale_y performance -0.09731937396222021\n",
      "clear session data 49 1824112640\n",
      "scale_y performance -0.2861627606267684\n",
      "clear session data 49 1824124928\n",
      "scale_y performance -0.4148447350206051\n",
      "clear session data 49 1899950080\n",
      "scale_y performance -0.3400537790079993\n",
      "clear session data 49 1899950080\n",
      "scale_y performance -0.21973814955865673\n",
      "clear session data 49 2012225536\n",
      "scale_y performance -0.36923393330052845\n",
      "clear session data 49 2012495872\n",
      "scale_y performance -0.31388688228417927\n",
      "clear session data 49 2013016064\n",
      "scale_y performance -0.011655137295458029\n",
      "clear session data 49 2013016064\n",
      "scale_y performance -0.409085634574022\n",
      "clear session data 49 2013024256\n",
      "scale_y performance -0.4646520961232352\n",
      "clear session data 49 2013286400\n",
      "scale_y performance -0.597283768280795\n",
      "clear session data 49 2121138176\n",
      "scale_y performance -0.5681285233219853\n",
      "clear session data 49 2121138176\n",
      "scale_y performance -0.13901090234118918\n",
      "clear session data 49 2121138176\n",
      "scale_y performance -0.22329000456301723\n",
      "clear session data 49 2121138176\n",
      "scale_y performance -0.15842937539442054\n",
      "clear session data 49 2121408512\n",
      "scale_y performance -0.14174776688944754\n",
      "clear session data 49 2121408512\n",
      "scale_y performance -0.5592541315718207\n",
      "clear session data 49 2121670656\n",
      "scale_y performance -0.2562418077803595\n",
      "clear session data 49 2173186048\n",
      "scale_y performance -0.5470125659635193\n",
      "clear session data 49 2121760768\n",
      "scale_y performance -0.22331028692386345\n",
      "clear session data 49 2121498624\n",
      "scale_y performance -0.34426547712030464\n"
     ]
    }
   ],
   "source": [
    "# moving bar train, noise = 0.0\n",
    "trial = 399\n",
    "tasks = ['scale_y']\n",
    "episodes = [30]\n",
    "# iterations = [1, 1, 1, 1, 1, 1, 1]\n",
    "for n, task in zip(episodes, tasks):\n",
    "        Task =  MultipleTasks(task = task, weight_write = 'weights_cpu/rnn_1515tanh512_checkpoint{}'.format(trial)\\\n",
    "                              , noise = 0.0)\n",
    "        weight_read = Task.weight\n",
    "        weight_write = 'weights_' + task + '/rnn_1515tanh512_checkpoint{}'.format(trial)\n",
    "        if task == 'scale':\n",
    "            size_train = np.arange(10, 51, 10)\n",
    "        else:\n",
    "            size_train = [15]\n",
    "        if (task == 'hole') or (task == 'bar'):\n",
    "            iterations = 5\n",
    "            epochs = 100\n",
    "        else:\n",
    "            iterations = 50\n",
    "            epochs = 10 \n",
    "        print ('start', size_train)\n",
    "        Task.qlearn(task, weight_read,  weight_write, episodes = n, noise = 0, size_train = size_train, size_test=[15], iterations = iterations\n",
    "                   , epochs = epochs)"
   ]
  },
  {
   "cell_type": "code",
   "execution_count": null,
   "metadata": {},
   "outputs": [
    {
     "name": "stdout",
     "output_type": "stream",
     "text": [
      "task <class 'POMDPgame_scale_xy.GameScale_xy'>\n",
      "scale_xy\n",
      "start [15] 0\n"
     ]
    },
    {
     "name": "stderr",
     "output_type": "stream",
     "text": [
      "/home/tie/.conda/envs/torch/lib/python3.7/site-packages/torch/tensor.py:339: UserWarning: non-inplace resize is deprecated\n",
      "  warnings.warn(\"non-inplace resize is deprecated\")\n"
     ]
    },
    {
     "name": "stdout",
     "output_type": "stream",
     "text": [
      "clear session data 49 2989703168\n",
      "scale_xy performance -0.5210801823640594\n",
      "clear session data 49 12056076288\n",
      "scale_xy performance -0.27990230575743485\n",
      "clear session data 49 12056084480\n"
     ]
    }
   ],
   "source": [
    "# moving bar train noise 0.2\n",
    "trial = 399\n",
    "tasks = [ 'scale_xy']\n",
    "episodes = [30]\n",
    "# iterations = [1, 1, 1, 1, 1, 1, 1]\n",
    "for n, task in zip(episodes, tasks):\n",
    "        Task =  MultipleTasks(task = task, weight_write = 'weights_cpu/rnn_1515tanh512_checkpoint{}'.format(trial)\\\n",
    "                              , noise = 0.0)\n",
    "        weight_read = Task.weight\n",
    "        weight_write = 'weights_' + task + '/rnn_1515tanh512_checkpoint{}'.format(trial)\n",
    "        if task == 'scale':\n",
    "            size_train = np.arange(10, 51, 10)\n",
    "        else:\n",
    "            size_train = [15]\n",
    "        if (task == 'hole') or (task == 'bar'):\n",
    "            iterations = 5\n",
    "            epochs = 100\n",
    "            print ('hole', iterations, epochs)\n",
    "        else:\n",
    "            iterations = 50\n",
    "            epochs = 20\n",
    "        print ('start', size_train, Task.game.holes)\n",
    "        Task.qlearn(task, weight_read,  weight_write, episodes = n, noise = 0, size_train = size_train, size_test=[15], iterations = iterations\n",
    "                   , epochs = epochs)"
   ]
  },
  {
   "cell_type": "markdown",
   "metadata": {},
   "source": [
    "### measure decoding "
   ]
  },
  {
   "cell_type": "markdown",
   "metadata": {},
   "source": [
    "Decoding accuracy decreases, there are two possible reasons: \n",
    "1, decoding has bias,  information of position is only refleted by decoding, if there is certain bias , it is not trustable\n",
    "2, it is the real measure of information, so there are less spatial information about space, or an effect decoupling/disentanglement of position. This can be due the network succeed at finding an even lower diemnsion object which gives successful performance.  The representation deceases its information to input in a sense. \n",
    "\n",
    "This can be linked to receptive field by looking at how space is represented. "
   ]
  },
  {
   "cell_type": "code",
   "execution_count": null,
   "metadata": {},
   "outputs": [],
   "source": []
  }
 ],
 "metadata": {
  "anaconda-cloud": {},
  "kernelspec": {
   "display_name": "Python 3",
   "language": "python",
   "name": "python3"
  },
  "language_info": {
   "codemirror_mode": {
    "name": "ipython",
    "version": 3
   },
   "file_extension": ".py",
   "mimetype": "text/x-python",
   "name": "python",
   "nbconvert_exporter": "python",
   "pygments_lexer": "ipython3",
   "version": "3.7.3"
  },
  "latex_envs": {
   "LaTeX_envs_menu_present": true,
   "autoclose": false,
   "autocomplete": true,
   "bibliofile": "biblio.bib",
   "cite_by": "apalike",
   "current_citInitial": 1,
   "eqLabelWithNumbers": true,
   "eqNumInitial": 1,
   "hotkeys": {
    "equation": "Ctrl-E",
    "itemize": "Ctrl-I"
   },
   "labels_anchors": false,
   "latex_user_defs": false,
   "report_style_numbering": false,
   "user_envs_cfg": false
  },
  "toc": {
   "nav_menu": {},
   "number_sections": true,
   "sideBar": true,
   "skip_h1_title": false,
   "title_cell": "Table of Contents",
   "title_sidebar": "Contents",
   "toc_cell": true,
   "toc_position": {
    "height": "759px",
    "left": "0px",
    "right": "1228px",
    "top": "67px",
    "width": "212px"
   },
   "toc_section_display": "block",
   "toc_window_display": true
  },
  "varInspector": {
   "cols": {
    "lenName": 16,
    "lenType": 16,
    "lenVar": 40
   },
   "kernels_config": {
    "python": {
     "delete_cmd_postfix": "",
     "delete_cmd_prefix": "del ",
     "library": "var_list.py",
     "varRefreshCmd": "print(var_dic_list())"
    },
    "r": {
     "delete_cmd_postfix": ") ",
     "delete_cmd_prefix": "rm(",
     "library": "var_list.r",
     "varRefreshCmd": "cat(var_dic_list()) "
    }
   },
   "types_to_exclude": [
    "module",
    "function",
    "builtin_function_or_method",
    "instance",
    "_Feature"
   ],
   "window_display": false
  }
 },
 "nbformat": 4,
 "nbformat_minor": 4
}
