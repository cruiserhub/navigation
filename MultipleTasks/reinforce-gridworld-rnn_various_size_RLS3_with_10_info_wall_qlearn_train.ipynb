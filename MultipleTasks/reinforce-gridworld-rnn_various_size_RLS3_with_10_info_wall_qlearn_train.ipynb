{
 "cells": [
  {
   "cell_type": "markdown",
   "metadata": {
    "toc": "true"
   },
   "source": [
    "<h1>Table of Contents<span class=\"tocSkip\"></span></h1>\n",
    "<div class=\"toc\"><ul class=\"toc-item\"><li><span><a href=\"#quick-start\" data-toc-modified-id=\"quick-start-1\"><span class=\"toc-item-num\">1&nbsp;&nbsp;</span>quick start</a></span><ul class=\"toc-item\"><li><span><a href=\"#Resources\" data-toc-modified-id=\"Resources-1.1\"><span class=\"toc-item-num\">1.1&nbsp;&nbsp;</span>Resources</a></span></li></ul></li><li><span><a href=\"#FULL-MODEL\" data-toc-modified-id=\"FULL-MODEL-2\"><span class=\"toc-item-num\">2&nbsp;&nbsp;</span>FULL MODEL</a></span><ul class=\"toc-item\"><li><span><a href=\"#Packages\" data-toc-modified-id=\"Packages-2.1\"><span class=\"toc-item-num\">2.1&nbsp;&nbsp;</span>Packages</a></span><ul class=\"toc-item\"><li><span><a href=\"#Qnetwork\" data-toc-modified-id=\"Qnetwork-2.1.1\"><span class=\"toc-item-num\">2.1.1&nbsp;&nbsp;</span>Qnetwork</a></span></li></ul></li><li><span><a href=\"#POMDP-RNN-Game\" data-toc-modified-id=\"POMDP-RNN-Game-2.2\"><span class=\"toc-item-num\">2.2&nbsp;&nbsp;</span>POMDP RNN Game</a></span></li><li><span><a href=\"#Results\" data-toc-modified-id=\"Results-2.3\"><span class=\"toc-item-num\">2.3&nbsp;&nbsp;</span>Results</a></span><ul class=\"toc-item\"><li><span><a href=\"#Standard-setting：-grid-=--(3,7)，-holes-=-0\" data-toc-modified-id=\"Standard-setting：-grid-=--(3,7)，-holes-=-0-2.3.1\"><span class=\"toc-item-num\">2.3.1&nbsp;&nbsp;</span>Standard setting： grid =  (3,7)， holes = 0</a></span></li><li><span><a href=\"#Model-Tranining\" data-toc-modified-id=\"Model-Tranining-2.3.2\"><span class=\"toc-item-num\">2.3.2&nbsp;&nbsp;</span>Model Tranining</a></span></li><li><span><a href=\"#decoding-vs-performance\" data-toc-modified-id=\"decoding-vs-performance-2.3.3\"><span class=\"toc-item-num\">2.3.3&nbsp;&nbsp;</span>decoding vs performance</a></span></li><li><span><a href=\"#learning-rate-vs-performance\" data-toc-modified-id=\"learning-rate-vs-performance-2.3.4\"><span class=\"toc-item-num\">2.3.4&nbsp;&nbsp;</span>learning rate vs performance</a></span></li><li><span><a href=\"#Summary\" data-toc-modified-id=\"Summary-2.3.5\"><span class=\"toc-item-num\">2.3.5&nbsp;&nbsp;</span>Summary</a></span></li><li><span><a href=\"#Anlytic-part-,-check-the-behaviour-correspond-to-each-decoding-level-and-explain-why\" data-toc-modified-id=\"Anlytic-part-,-check-the-behaviour-correspond-to-each-decoding-level-and-explain-why-2.3.6\"><span class=\"toc-item-num\">2.3.6&nbsp;&nbsp;</span>Anlytic part , check the behaviour correspond to each decoding level and explain why</a></span></li></ul></li><li><span><a href=\"#PCA\" data-toc-modified-id=\"PCA-2.4\"><span class=\"toc-item-num\">2.4&nbsp;&nbsp;</span>PCA</a></span></li></ul></li></ul></div>"
   ]
  },
  {
   "cell_type": "markdown",
   "metadata": {},
   "source": [
    "# quick start "
   ]
  },
  {
   "cell_type": "markdown",
   "metadata": {},
   "source": [
    "Test what is the decoding change for single size training "
   ]
  },
  {
   "cell_type": "markdown",
   "metadata": {},
   "source": [
    "## Resources\n",
    "\n",
    "* [*The* Reinforcement learning book from Sutton & Barto](http://incompleteideas.net/sutton/book/the-book-2nd.html)\n",
    "* [The REINFORCE paper from Ronald J. Williams (1992)](http://www-anw.cs.umass.edu/~barto/courses/cs687/williams92simple.pdf)\n"
   ]
  },
  {
   "cell_type": "markdown",
   "metadata": {},
   "source": [
    "# FULL MODEL"
   ]
  },
  {
   "cell_type": "markdown",
   "metadata": {},
   "source": [
    "## Packages"
   ]
  },
  {
   "cell_type": "code",
   "execution_count": 1,
   "metadata": {},
   "outputs": [],
   "source": [
    "# posnet without regulization \n",
    "\n",
    "%load_ext autoreload\n",
    "%autoreload 2\n",
    "\n",
    "import numpy as np\n",
    "from itertools import count\n",
    "import random\n",
    "\n",
    "import torch\n",
    "import torch.nn as nn\n",
    "import torch.nn.functional as F\n",
    "import torch.optim as optim\n",
    "import torch.autograd as autograd\n",
    "from torch.autograd import Variable\n",
    "from torch.nn import init\n",
    "from torch.nn import DataParallel\n",
    "\n",
    "import matplotlib.mlab as mlab\n",
    "import matplotlib.pyplot as plt\n",
    "import matplotlib.animation\n",
    "from IPython.display import HTML\n",
    "\n",
    "import POMDPgame_bars\n",
    "from POMDPgame_bars import*\n",
    "\n",
    "import POMDPgame_basic\n",
    "from POMDPgame_basic import*\n",
    "\n",
    "import POMDPgame_holes\n",
    "from POMDPgame_holes import*\n",
    "\n",
    "\n",
    "import RNN\n",
    "from RNN import *\n",
    "\n",
    "import navigation2\n",
    "from navigation2 import*\n",
    "\n",
    "import Nets\n",
    "from Nets import*\n",
    "\n",
    "%matplotlib inline"
   ]
  },
  {
   "cell_type": "markdown",
   "metadata": {},
   "source": [
    "### Qnetwork\n",
    "\n",
    "To select actions we take maximum of Q value, corresponding to certain move."
   ]
  },
  {
   "cell_type": "markdown",
   "metadata": {},
   "source": [
    "For the liquid state approach to work, you need a lot of neurons as surplus or enough hidden to hidden connectivity to make it have an effect."
   ]
  },
  {
   "cell_type": "markdown",
   "metadata": {},
   "source": [
    "##  POMDP RNN Game\n",
    "\n",
    "In this game , we use a new reward function determined by game, if the agent achieves the goal before 50, reward is 1. If time pass 50 reward is 0.5, once time pass 100 agent gets a reward of -0.5 .  Practically, this is found to be easier to learn than the rewards as a continous function of time.  Tf the agent learns to search in a efficient way, the largest possible way for search is to firstly arrive at corner then goes to the goal, which, takes about 50 steps, it is reasonble to make 50 and 100 as milestone thing.  Also in principe as the game doesn't have a timer , it is not if it can use a reward as funtion of time"
   ]
  },
  {
   "cell_type": "markdown",
   "metadata": {},
   "source": [
    "3 condition for ending , when pass time limit, game over"
   ]
  },
  {
   "cell_type": "markdown",
   "metadata": {},
   "source": [
    "For weight update, it seems to be better do it after episode, as it makes non-sense evaluate strategy during episode, but a the end. Also, it is much quicker. "
   ]
  },
  {
   "cell_type": "markdown",
   "metadata": {},
   "source": [
    "A programming of MDP here, hidden state is as state of enviroment"
   ]
  },
  {
   "cell_type": "code",
   "execution_count": 2,
   "metadata": {},
   "outputs": [
    {
     "data": {
      "text/plain": [
       "<matplotlib.image.AxesImage at 0x7fc931341470>"
      ]
     },
     "execution_count": 2,
     "metadata": {},
     "output_type": "execute_result"
    },
    {
     "data": {
      "image/png": "[encoded data removed]",
      "text/plain": [
       "<matplotlib.figure.Figure at 0x7fc9999a12e8>"
      ]
     },
     "metadata": {},
     "output_type": "display_data"
    },
    {
     "data": {
      "image/png": "[encoded data removed]",
      "text/plain": [
       "<matplotlib.figure.Figure at 0x7fc9314c14e0>"
      ]
     },
     "metadata": {},
     "output_type": "display_data"
    },
    {
     "data": {
      "image/png": "[encoded data removed]",
      "text/plain": [
       "<matplotlib.figure.Figure at 0x7fc93148b3c8>"
      ]
     },
     "metadata": {},
     "output_type": "display_data"
    },
    {
     "data": {
      "image/png": "[encoded data removed]",
      "text/plain": [
       "<matplotlib.figure.Figure at 0x7fc931442e80>"
      ]
     },
     "metadata": {},
     "output_type": "display_data"
    },
    {
     "data": {
      "image/png": "[encoded data removed]",
      "text/plain": [
       "<matplotlib.figure.Figure at 0x7fc931402518>"
      ]
     },
     "metadata": {},
     "output_type": "display_data"
    },
    {
     "data": {
      "image/png": "[encoded data removed]",
      "text/plain": [
       "<matplotlib.figure.Figure at 0x7fc931439fd0>"
      ]
     },
     "metadata": {},
     "output_type": "display_data"
    },
    {
     "data": {
      "image/png": "[encoded data removed]",
      "text/plain": [
       "<matplotlib.figure.Figure at 0x7fc9313ffc50>"
      ]
     },
     "metadata": {},
     "output_type": "display_data"
    }
   ],
   "source": [
    "basicgame = CreateGame(GameBasic, holes = 0)\n",
    "basicgame.reset(size = 15, reward_control=0)\n",
    "plt.matshow(basicgame.grid.grid)\n",
    "\n",
    "holegame = CreateGame(GameHole, holes = 50)\n",
    "holegame.reset(size = 15, reward_control=0)\n",
    "plt.matshow(holegame.grid.grid)\n",
    "\n",
    "bargame = CreateGame(GameBar, holes = 0)\n",
    "bargame.reset(size = 15, reward_control=0)\n",
    "plt.matshow(bargame.grid.grid)\n",
    "\n",
    "scalegame = CreateGame(GameScale, holes = 0)\n",
    "scalegame.reset(reward_control=0)\n",
    "plt.matshow(scalegame.grid.grid)\n",
    "\n",
    "scalegame_x = CreateGame(GameScale_x, holes = 0)\n",
    "scalegame_x.reset(reward_control=0)\n",
    "plt.matshow(scalegame_x.grid.grid)\n",
    "\n",
    "scalegame_y = CreateGame(GameScale_y, holes = 0)\n",
    "scalegame_y.reset(reward_control=0)\n",
    "plt.matshow(scalegame_y.grid.grid)\n",
    "\n",
    "Imp_game = CreateGame(GameImplicit, holes = 0)\n",
    "Imp_game.reset(size = 15, reward_control=0)\n",
    "plt.matshow(Imp_game.grid.grid)"
   ]
  },
  {
   "cell_type": "markdown",
   "metadata": {},
   "source": [
    "Think of how to make this traning stable, adding exploration noise , intenral noise or environmental variability like multiple mazes  "
   ]
  },
  {
   "cell_type": "code",
   "execution_count": null,
   "metadata": {},
   "outputs": [
    {
     "name": "stdout",
     "output_type": "stream",
     "text": [
      "basic\n",
      "start [15]\n"
     ]
    },
    {
     "name": "stderr",
     "output_type": "stream",
     "text": [
      "/home/tie/anaconda3/lib/python3.6/site-packages/torch/tensor.py:255: UserWarning: non-inplace resize is deprecated\n",
      "  warnings.warn(\"non-inplace resize is deprecated\")\n"
     ]
    },
    {
     "name": "stdout",
     "output_type": "stream",
     "text": [
      "clear session data 49 3030704128\n",
      "basic performance -0.005467232420357442\n",
      "clear session data 49 3031056384\n",
      "basic performance 0.07061079111860362\n",
      "clear session data 49 3031056384\n",
      "basic performance 0.0034708130411255644\n",
      "clear session data 49 3031056384\n",
      "basic performance 0.12279549877206128\n",
      "clear session data 49 3031056384\n",
      "basic performance 0.11846235361860363\n",
      "clear session data 49 3031056384\n",
      "basic performance 0.13506870733433235\n",
      "clear session data 49 3031056384\n",
      "basic performance -0.025810539287101808\n",
      "clear session data 49 3031056384\n",
      "basic performance 0.161115924006549\n",
      "clear session data 49 3031056384\n",
      "basic performance -0.12810371052558553\n",
      "clear session data 49 3031056384\n",
      "basic performance 0.18938162531912536\n",
      "hole\n",
      "start [15]\n",
      "clear session data 4 8006828032\n",
      "hole performance -0.7526968716289104\n",
      "clear session data 4 8021749760\n",
      "hole performance -0.5443320371436627\n",
      "clear session data 4 8121548800\n",
      "hole performance -0.49013083536050683\n",
      "clear session data 4 8182960128\n",
      "hole performance -0.34662132724145145\n",
      "clear session data 4 8183025664\n",
      "hole performance -0.36950149987438424\n",
      "clear session data 4 8146972672\n",
      "hole performance -0.35554090954291734\n",
      "clear session data 4 8178499584\n",
      "hole performance -0.23409664181153544\n",
      "clear session data 4 8178241536\n",
      "hole performance -0.16769174262564598\n",
      "clear session data 4 8147140608\n",
      "hole performance -0.19658243134943484\n",
      "clear session data 4 8178356224\n",
      "hole performance -0.08154777463038669\n",
      "clear session data 4 8178622464\n",
      "hole performance -0.11224092218166079\n",
      "clear session data 4 8147681280\n",
      "hole performance -0.15412650029461789\n",
      "clear session data 4 8147476480\n",
      "hole performance -0.09180721238169175\n",
      "clear session data 4 8054898688\n",
      "hole performance -0.12075143705852079\n",
      "clear session data 4 8147734528\n",
      "hole performance -0.03530708630058989\n",
      "clear session data 4 8209219584\n",
      "hole performance 0.06488055096289803\n",
      "clear session data 4 8208957440\n",
      "hole performance -0.03271084220823064\n",
      "clear session data 4 8147492864\n",
      "hole performance 0.02284521699403689\n",
      "clear session data 4 8209502208\n",
      "hole performance -0.022441909084722433\n",
      "clear session data 4 8209244160\n",
      "hole performance -0.09051951529748978\n",
      "clear session data 4 8147550208\n",
      "hole performance -0.12530454860950763\n",
      "clear session data 4 8147550208\n",
      "hole performance -0.08633410624560794\n",
      "clear session data 4 8178618368\n",
      "hole performance -0.19543652696726174\n",
      "clear session data 4 8178356224\n",
      "hole performance -0.10862246255358218\n",
      "clear session data 4 8147746816\n",
      "hole performance -0.1398298801795256\n",
      "clear session data 4 8178159616\n",
      "hole performance -0.393438641533693\n",
      "clear session data 4 8178159616\n",
      "hole performance -0.6446312508416585\n",
      "clear session data 4 8147529728\n",
      "hole performance -0.6619868594635563\n",
      "clear session data 4 8178483200\n",
      "hole performance -0.7144719061244807\n",
      "clear session data 4 8178221056\n",
      "hole performance -0.7543431487606246\n",
      "bar\n",
      "start [15]\n",
      "clear session data 4 7940546560\n",
      "bar performance -0.5828546136984418\n",
      "clear session data 4 8328298496\n",
      "bar performance -0.5728494986220545\n",
      "clear session data 4 8328560640\n",
      "bar performance -0.48471583689956516\n",
      "clear session data 4 8328302592\n",
      "bar performance -0.5164843784700335\n",
      "clear session data 4 8328306688\n",
      "bar performance -0.605613079029419\n",
      "clear session data 4 8328568832\n",
      "bar performance -0.6479499706055262\n",
      "clear session data 4 8328568832\n",
      "bar performance -0.6673627775658427\n",
      "clear session data 4 8328564736\n",
      "bar performance -0.6739731596350786\n",
      "clear session data 4 8328572928\n",
      "bar performance -0.6917315829819577\n",
      "clear session data 4 8328572928\n",
      "bar performance -0.6793277833277833\n",
      "clear session data 4 8328568832\n",
      "bar performance -0.6137627257799672\n",
      "clear session data 4 8328577024\n",
      "bar performance -0.612436758828563\n",
      "clear session data 4 8328310784\n",
      "bar performance -0.6572742941179723\n",
      "clear session data 4 8328314880\n",
      "bar performance -0.642084631758195\n",
      "clear session data 4 8328581120\n",
      "bar performance -0.6860832994166328\n",
      "clear session data 4 8328318976\n",
      "bar performance -0.7302900930487137\n",
      "clear session data 4 8328314880\n",
      "bar performance -0.6755555555555556\n",
      "clear session data 4 8328318976\n",
      "bar performance -0.6408314396932588\n",
      "clear session data 4 8328585216\n",
      "bar performance -0.667008547008547\n",
      "clear session data 4 8328585216\n",
      "bar performance -0.6979259259259258\n",
      "clear session data 4 8328323072\n",
      "bar performance -0.6893121693121693\n",
      "clear session data 4 8328327168\n",
      "bar performance -0.6719111111111111\n",
      "clear session data 4 8328585216\n",
      "bar performance -0.6630411329780659\n",
      "clear session data 4 8328585216\n",
      "bar performance -0.6871809523809524\n",
      "clear session data 4 8328585216\n",
      "bar performance -0.6305230048793267\n",
      "clear session data 4 8328294400\n",
      "bar performance -0.732079160989306\n",
      "clear session data 4 8328556544\n",
      "bar performance -0.6905539727761949\n",
      "clear session data 4 8328556544\n",
      "bar performance -0.7165873015873017\n",
      "clear session data 4 8328294400\n",
      "bar performance -0.6844444444444444\n",
      "clear session data 4 8328294400\n",
      "bar performance -0.7955555555555556\n",
      "scale\n",
      "start [10 20 30 40 50]\n",
      "clear session data 49 7688994816\n",
      "(9, 5)\n",
      "(9, 13)\n",
      "scale performance -0.40380328025108836\n",
      "clear session data 49 8201449472\n",
      "(9, 5)\n",
      "(9, 13)\n",
      "scale performance -0.24822162236908163\n",
      "clear session data 49 8201449472\n",
      "(9, 5)\n",
      "(9, 13)\n",
      "scale performance -0.20352898315148943\n",
      "clear session data 49 8201449472\n",
      "(9, 5)\n",
      "(9, 13)\n",
      "scale performance 0.22625405189663503\n",
      "clear session data 49 8201449472\n",
      "(9, 5)\n",
      "(9, 13)\n",
      "scale performance 0.5191530026182698\n",
      "clear session data 49 8201449472\n",
      "(9, 5)\n",
      "(9, 13)\n",
      "scale performance -0.10838212815355917\n",
      "clear session data 49 8201449472\n",
      "(9, 5)\n",
      "(9, 13)\n",
      "scale performance 0.27347603170365964\n",
      "clear session data 49 8201449472\n",
      "(9, 5)\n",
      "(9, 13)\n",
      "scale performance -0.02484278945253346\n",
      "clear session data 49 8201449472\n",
      "(9, 5)\n",
      "(9, 13)\n",
      "scale performance -0.11572170412243415\n",
      "clear session data 49 8201449472\n",
      "(9, 5)\n",
      "(9, 13)\n",
      "scale performance 0.23045760329709963\n",
      "scale_x\n",
      "start [15]\n",
      "clear session data 49 7689134080\n",
      "scale_x performance -0.6569197335803774\n",
      "clear session data 49 7689404416\n",
      "scale_x performance -0.6809413069195774\n",
      "clear session data 49 7689142272\n",
      "scale_x performance -0.6190703442532615\n",
      "clear session data 49 7689404416\n",
      "scale_x performance -0.39404277978878194\n",
      "clear session data 49 7689142272\n",
      "scale_x performance -0.4220987334432702\n",
      "clear session data 49 7689142272\n",
      "scale_x performance -0.5494259675284388\n",
      "clear session data 49 7689142272\n",
      "scale_x performance -0.5796042381595694\n",
      "clear session data 49 7689404416\n",
      "scale_x performance -0.6200985867075568\n",
      "clear session data 49 7689142272\n",
      "scale_x performance -0.47396270527555606\n",
      "clear session data 49 7689142272\n",
      "scale_x performance 0.13007350006755916\n",
      "clear session data 49 7689142272\n",
      "scale_x performance 0.18390220579585015\n",
      "clear session data 49 7689142272\n",
      "scale_x performance 0.1259142876972197\n",
      "clear session data 49 7689142272\n",
      "scale_x performance 0.10463990763663567\n",
      "clear session data 49 7689142272\n",
      "scale_x performance 0.5973079272910308\n",
      "clear session data 49 7689142272\n",
      "scale_x performance -0.00800224431744091\n",
      "clear session data 49 7689142272\n",
      "scale_x performance 0.07306994037236712\n",
      "clear session data 49 7689142272\n",
      "scale_x performance 0.4021873553099903\n",
      "clear session data 49 7689142272\n",
      "scale_x performance 0.11407890153598123\n",
      "clear session data 49 7689142272\n",
      "scale_x performance -0.020235371173643234\n",
      "clear session data 49 7689142272\n",
      "scale_x performance 0.41306683135350497\n",
      "clear session data 49 7689142272\n",
      "scale_x performance -0.4591600596453415\n",
      "clear session data 49 7689142272\n",
      "scale_x performance 0.49373702316087986\n",
      "clear session data 49 7689142272\n",
      "scale_x performance -0.09662484046002834\n",
      "clear session data 49 7689142272\n",
      "scale_x performance -0.3713410933442587\n",
      "clear session data 49 7689142272\n",
      "scale_x performance 0.0916052224328402\n",
      "clear session data 49 7689142272\n",
      "scale_x performance -0.4955100674993196\n",
      "clear session data 49 7689142272\n",
      "scale_x performance -0.3142589517581232\n",
      "clear session data 49 7689142272\n",
      "scale_x performance 0.34016497934352546\n",
      "clear session data 49 7689142272\n",
      "scale_x performance -0.31468663940903024\n",
      "clear session data 49 7689142272\n",
      "scale_x performance 0.07352547761774889\n",
      "scale_y\n",
      "start [15]\n",
      "clear session data 49 7689142272\n",
      "scale_y performance -0.6022899605028775\n"
     ]
    }
   ],
   "source": [
    "# moving bar train, noise = 0.0\n",
    "trial = 49\n",
    "tasks = ['basic', 'hole', 'bar', 'scale', 'scale_x', 'scale_y', 'implicit']\n",
    "episodes = [10, 30, 30, 10, 30, 30, 30]\n",
    "# iterations = [1, 1, 1, 1, 1, 1, 1]\n",
    "for n, task in zip(episodes, tasks):\n",
    "        Task =  MultipleTasks(task = task, weight_write = 'weights_cpu/rnn_1515tanh512_checkpoint{}'.format(trial)\\\n",
    "                              , noise = 0.0)\n",
    "        weight_read = Task.weight\n",
    "        weight_write = 'weights_' + task + '/rnn_1515tanh512_checkpoint{}'.format(trial)\n",
    "        if task == 'scale':\n",
    "            size_train = np.arange(10, 51, 10)\n",
    "        else:\n",
    "            size_train = [15]\n",
    "        if (task == 'hole') or (task == 'bar'):\n",
    "            iterations = 5\n",
    "            epochs = 100\n",
    "        else:\n",
    "            iterations = 50\n",
    "            epochs = 10\n",
    "        print ('start', size_train)\n",
    "        Task.qlearn(task, weight_read,  weight_write, episodes = n, noise = 0, size_train = size_train, size_test=[15], iterations = iterations\n",
    "                   , epochs = epochs)"
   ]
  },
  {
   "cell_type": "code",
   "execution_count": 16,
   "metadata": {},
   "outputs": [
    {
     "data": {
      "text/plain": [
       "tensor(26.2833, device='cuda:0')"
      ]
     },
     "execution_count": 16,
     "metadata": {},
     "output_type": "execute_result"
    }
   ],
   "source": [
    "net = torch.load('weights_cpu/rnn_1515tanh512_checkpoint49')\n",
    "torch.norm(net['h2h'])"
   ]
  },
  {
   "cell_type": "markdown",
   "metadata": {},
   "source": [
    "### measure decoding "
   ]
  },
  {
   "cell_type": "markdown",
   "metadata": {},
   "source": [
    "Decoding accuracy decreases, there are two possible reasons: \n",
    "1, decoding has bias,  information of position is only refleted by decoding, if there is certain bias , it is not trustable\n",
    "2, it is the real measure of information, so there are less spatial information about space, or an effect decoupling/disentanglement of position. This can be due the network succeed at finding an even lower diemnsion object which gives successful performance.  The representation deceases its information to input in a sense. \n",
    "\n",
    "This can be linked to receptive field by looking at how space is represented. "
   ]
  },
  {
   "cell_type": "code",
   "execution_count": null,
   "metadata": {},
   "outputs": [],
   "source": []
  }
 ],
 "metadata": {
  "anaconda-cloud": {},
  "kernelspec": {
   "display_name": "Python 3",
   "language": "python",
   "name": "python3"
  },
  "language_info": {
   "codemirror_mode": {
    "name": "ipython",
    "version": 3
   },
   "file_extension": ".py",
   "mimetype": "text/x-python",
   "name": "python",
   "nbconvert_exporter": "python",
   "pygments_lexer": "ipython3",
   "version": "3.6.3"
  },
  "latex_envs": {
   "LaTeX_envs_menu_present": true,
   "autoclose": false,
   "autocomplete": true,
   "bibliofile": "biblio.bib",
   "cite_by": "apalike",
   "current_citInitial": 1,
   "eqLabelWithNumbers": true,
   "eqNumInitial": 1,
   "hotkeys": {
    "equation": "Ctrl-E",
    "itemize": "Ctrl-I"
   },
   "labels_anchors": false,
   "latex_user_defs": false,
   "report_style_numbering": false,
   "user_envs_cfg": false
  },
  "toc": {
   "nav_menu": {},
   "number_sections": true,
   "sideBar": true,
   "skip_h1_title": false,
   "title_cell": "Table of Contents",
   "title_sidebar": "Contents",
   "toc_cell": true,
   "toc_position": {
    "height": "759px",
    "left": "0px",
    "right": "1228px",
    "top": "67px",
    "width": "212px"
   },
   "toc_section_display": "block",
   "toc_window_display": true
  },
  "varInspector": {
   "cols": {
    "lenName": 16,
    "lenType": 16,
    "lenVar": 40
   },
   "kernels_config": {
    "python": {
     "delete_cmd_postfix": "",
     "delete_cmd_prefix": "del ",
     "library": "var_list.py",
     "varRefreshCmd": "print(var_dic_list())"
    },
    "r": {
     "delete_cmd_postfix": ") ",
     "delete_cmd_prefix": "rm(",
     "library": "var_list.r",
     "varRefreshCmd": "cat(var_dic_list()) "
    }
   },
   "types_to_exclude": [
    "module",
    "function",
    "builtin_function_or_method",
    "instance",
    "_Feature"
   ],
   "window_display": false
  }
 },
 "nbformat": 4,
 "nbformat_minor": 4
}
