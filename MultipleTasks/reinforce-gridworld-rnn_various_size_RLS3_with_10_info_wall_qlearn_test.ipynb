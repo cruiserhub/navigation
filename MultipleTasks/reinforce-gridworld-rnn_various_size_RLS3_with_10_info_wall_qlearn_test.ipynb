{
 "cells": [
  {
   "cell_type": "markdown",
   "metadata": {
    "toc": "true"
   },
   "source": [
    "<h1>Table of Contents<span class=\"tocSkip\"></span></h1>\n",
    "<div class=\"toc\"><ul class=\"toc-item\"><li><span><a href=\"#quick-start\" data-toc-modified-id=\"quick-start-1\"><span class=\"toc-item-num\">1&nbsp;&nbsp;</span>quick start</a></span><ul class=\"toc-item\"><li><span><a href=\"#Resources\" data-toc-modified-id=\"Resources-1.1\"><span class=\"toc-item-num\">1.1&nbsp;&nbsp;</span>Resources</a></span></li></ul></li><li><span><a href=\"#FULL-MODEL\" data-toc-modified-id=\"FULL-MODEL-2\"><span class=\"toc-item-num\">2&nbsp;&nbsp;</span>FULL MODEL</a></span><ul class=\"toc-item\"><li><span><a href=\"#Packages\" data-toc-modified-id=\"Packages-2.1\"><span class=\"toc-item-num\">2.1&nbsp;&nbsp;</span>Packages</a></span><ul class=\"toc-item\"><li><span><a href=\"#Qnetwork\" data-toc-modified-id=\"Qnetwork-2.1.1\"><span class=\"toc-item-num\">2.1.1&nbsp;&nbsp;</span>Qnetwork</a></span></li></ul></li><li><span><a href=\"#POMDP-RNN-Game\" data-toc-modified-id=\"POMDP-RNN-Game-2.2\"><span class=\"toc-item-num\">2.2&nbsp;&nbsp;</span>POMDP RNN Game</a></span></li><li><span><a href=\"#Results\" data-toc-modified-id=\"Results-2.3\"><span class=\"toc-item-num\">2.3&nbsp;&nbsp;</span>Results</a></span><ul class=\"toc-item\"><li><span><a href=\"#Standard-setting：-grid-=--(3,7)，-holes-=-0\" data-toc-modified-id=\"Standard-setting：-grid-=--(3,7)，-holes-=-0-2.3.1\"><span class=\"toc-item-num\">2.3.1&nbsp;&nbsp;</span>Standard setting： grid =  (3,7)， holes = 0</a></span></li><li><span><a href=\"#Model-Tranining\" data-toc-modified-id=\"Model-Tranining-2.3.2\"><span class=\"toc-item-num\">2.3.2&nbsp;&nbsp;</span>Model Tranining</a></span></li><li><span><a href=\"#decoding-vs-performance\" data-toc-modified-id=\"decoding-vs-performance-2.3.3\"><span class=\"toc-item-num\">2.3.3&nbsp;&nbsp;</span>decoding vs performance</a></span></li><li><span><a href=\"#learning-rate-vs-performance\" data-toc-modified-id=\"learning-rate-vs-performance-2.3.4\"><span class=\"toc-item-num\">2.3.4&nbsp;&nbsp;</span>learning rate vs performance</a></span></li><li><span><a href=\"#Summary\" data-toc-modified-id=\"Summary-2.3.5\"><span class=\"toc-item-num\">2.3.5&nbsp;&nbsp;</span>Summary</a></span></li><li><span><a href=\"#Anlytic-part-,-check-the-behaviour-correspond-to-each-decoding-level-and-explain-why\" data-toc-modified-id=\"Anlytic-part-,-check-the-behaviour-correspond-to-each-decoding-level-and-explain-why-2.3.6\"><span class=\"toc-item-num\">2.3.6&nbsp;&nbsp;</span>Anlytic part , check the behaviour correspond to each decoding level and explain why</a></span></li></ul></li><li><span><a href=\"#PCA\" data-toc-modified-id=\"PCA-2.4\"><span class=\"toc-item-num\">2.4&nbsp;&nbsp;</span>PCA</a></span></li></ul></li></ul></div>"
   ]
  },
  {
   "cell_type": "markdown",
   "metadata": {},
   "source": [
    "# quick start "
   ]
  },
  {
   "cell_type": "markdown",
   "metadata": {},
   "source": [
    "Test what is the decoding change for single size training "
   ]
  },
  {
   "cell_type": "markdown",
   "metadata": {},
   "source": [
    "## Resources\n",
    "\n",
    "* [*The* Reinforcement learning book from Sutton & Barto](http://incompleteideas.net/sutton/book/the-book-2nd.html)\n",
    "* [The REINFORCE paper from Ronald J. Williams (1992)](http://www-anw.cs.umass.edu/~barto/courses/cs687/williams92simple.pdf)\n"
   ]
  },
  {
   "cell_type": "markdown",
   "metadata": {},
   "source": [
    "# FULL MODEL"
   ]
  },
  {
   "cell_type": "markdown",
   "metadata": {},
   "source": [
    "## Packages"
   ]
  },
  {
   "cell_type": "code",
   "execution_count": 1,
   "metadata": {},
   "outputs": [],
   "source": [
    "%load_ext autoreload\n",
    "%autoreload 2\n",
    "\n",
    "import numpy as np\n",
    "from itertools import count\n",
    "import random\n",
    "\n",
    "import torch\n",
    "import torch.nn as nn\n",
    "import torch.nn.functional as F\n",
    "import torch.optim as optim\n",
    "import torch.autograd as autograd\n",
    "from torch.autograd import Variable\n",
    "from torch.nn import init\n",
    "from torch.nn import DataParallel\n",
    "\n",
    "import matplotlib.mlab as mlab\n",
    "import matplotlib.pyplot as plt\n",
    "import matplotlib.animation\n",
    "from IPython.display import HTML\n",
    "\n",
    "import POMDPgame_bars\n",
    "from POMDPgame_bars import*\n",
    "\n",
    "import POMDPgame_basic\n",
    "from POMDPgame_basic import*\n",
    "\n",
    "import POMDPgame_holes\n",
    "from POMDPgame_holes import*\n",
    "\n",
    "import RNN\n",
    "from RNN import *\n",
    "\n",
    "import navigation2\n",
    "from navigation2 import*\n",
    "\n",
    "import Nets\n",
    "from Nets import*\n",
    "\n",
    "import Tests\n",
    "from Tests import*\n",
    "\n",
    "\n",
    "%matplotlib inline"
   ]
  },
  {
   "cell_type": "markdown",
   "metadata": {},
   "source": [
    "### Qnetwork\n",
    "\n",
    "To select actions we take maximum of Q value, corresponding to certain move."
   ]
  },
  {
   "cell_type": "markdown",
   "metadata": {},
   "source": [
    "For the liquid state approach to work, you need a lot of neurons as surplus or enough hidden to hidden connectivity to make it have an effect."
   ]
  },
  {
   "cell_type": "markdown",
   "metadata": {},
   "source": [
    "##  POMDP RNN Game\n",
    "\n",
    "In this game , we use a new reward function determined by game, if the agent achieves the goal before 50, reward is 1. If time pass 50 reward is 0.5, once time pass 100 agent gets a reward of -0.5 .  Practically, this is found to be easier to learn than the rewards as a continous function of time.  Tf the agent learns to search in a efficient way, the largest possible way for search is to firstly arrive at corner then goes to the goal, which, takes about 50 steps, it is reasonble to make 50 and 100 as milestone thing.  Also in principe as the game doesn't have a timer , it is not if it can use a reward as funtion of time"
   ]
  },
  {
   "cell_type": "markdown",
   "metadata": {},
   "source": [
    "3 condition for ending , when pass time limit, game over"
   ]
  },
  {
   "cell_type": "markdown",
   "metadata": {},
   "source": [
    "For weight update, it seems to be better do it after episode, as it makes non-sense evaluate strategy during episode, but a the end. Also, it is much quicker. "
   ]
  },
  {
   "cell_type": "markdown",
   "metadata": {},
   "source": [
    "A programming of MDP here, hidden state is as state of enviroment"
   ]
  },
  {
   "cell_type": "code",
   "execution_count": 4,
   "metadata": {},
   "outputs": [
    {
     "name": "stdout",
     "output_type": "stream",
     "text": [
      "task <class 'POMDPgame_basic.GameBasic'>\n",
      "task <class 'POMDPgame_holes.GameHole'>\n",
      "task <class 'POMDPgame_bars.GameBar'>\n",
      "task <class 'POMDPgame_scale.GameScale'>\n",
      "task <class 'POMDPgame_scale_x.GameScale_x'>\n",
      "task <class 'POMDPgame_scale_y.GameScale_y'>\n",
      "task <class 'POMDPgame_implicit.GameImplicit'>\n"
     ]
    },
    {
     "data": {
      "text/plain": [
       "<matplotlib.image.AxesImage at 0x7f291e9661d0>"
      ]
     },
     "execution_count": 4,
     "metadata": {},
     "output_type": "execute_result"
    },
    {
     "data": {
      "image/png": "[encoded data removed]",
      "text/plain": [
       "<Figure size 288x288 with 1 Axes>"
      ]
     },
     "metadata": {
      "needs_background": "light"
     },
     "output_type": "display_data"
    },
    {
     "data": {
      "image/png": "[encoded data removed]",
      "text/plain": [
       "<Figure size 288x288 with 1 Axes>"
      ]
     },
     "metadata": {
      "needs_background": "light"
     },
     "output_type": "display_data"
    },
    {
     "data": {
      "image/png": "[encoded data removed]",
      "text/plain": [
       "<Figure size 288x288 with 1 Axes>"
      ]
     },
     "metadata": {
      "needs_background": "light"
     },
     "output_type": "display_data"
    },
    {
     "data": {
      "image/png": "[encoded data removed]",
      "text/plain": [
       "<Figure size 288x288 with 1 Axes>"
      ]
     },
     "metadata": {
      "needs_background": "light"
     },
     "output_type": "display_data"
    },
    {
     "data": {
      "image/png": "[encoded data removed]",
      "text/plain": [
       "<Figure size 288x288 with 1 Axes>"
      ]
     },
     "metadata": {
      "needs_background": "light"
     },
     "output_type": "display_data"
    },
    {
     "data": {
      "image/png": "[encoded data removed]",
      "text/plain": [
       "<Figure size 288x515.368 with 1 Axes>"
      ]
     },
     "metadata": {
      "needs_background": "light"
     },
     "output_type": "display_data"
    },
    {
     "data": {
      "image/png": "[encoded data removed]",
      "text/plain": [
       "<Figure size 288x288 with 1 Axes>"
      ]
     },
     "metadata": {
      "needs_background": "light"
     },
     "output_type": "display_data"
    }
   ],
   "source": [
    "basicgame = CreateGame(GameBasic, holes = 0)\n",
    "basicgame.reset(size = 15, reward_control=0)\n",
    "plt.matshow(basicgame.grid.grid)\n",
    "\n",
    "holegame = CreateGame(GameHole, holes = 50)\n",
    "holegame.reset(size = 15, reward_control=0)\n",
    "plt.matshow(holegame.grid.grid)\n",
    "\n",
    "bargame = CreateGame(GameBar, holes = 0)\n",
    "bargame.reset(size = 15, reward_control=0)\n",
    "plt.matshow(bargame.grid.grid)\n",
    "\n",
    "scalegame = CreateGame(GameScale, holes = 0)\n",
    "scalegame.reset(reward_control=0)\n",
    "plt.matshow(scalegame.grid.grid)\n",
    "\n",
    "scalegame_x = CreateGame(GameScale_x, holes = 0)\n",
    "scalegame_x.reset(reward_control=0)\n",
    "plt.matshow(scalegame_x.grid.grid)\n",
    "\n",
    "scalegame_y = CreateGame(GameScale_y, holes = 0)\n",
    "scalegame_y.reset(reward_control=0)\n",
    "scalegame_y.grid.grid[scalegame_y.Set_reward[0]] = 1\n",
    "scalegame_y.grid.grid[scalegame_y.Set_reward[1]] = 1\n",
    "plt.matshow(scalegame_y.grid.grid)\n",
    "\n",
    "Imp_game = CreateGame(GameImplicit, holes = 0)\n",
    "Imp_game.reset(size = 15, reward_control=0)\n",
    "plt.matshow(Imp_game.grid.grid)"
   ]
  },
  {
   "cell_type": "markdown",
   "metadata": {},
   "source": [
    "Think of how to make this traning stable, adding exploration noise , intenral noise or environmental variability like multiple mazes  "
   ]
  },
  {
   "cell_type": "code",
   "execution_count": 3,
   "metadata": {},
   "outputs": [
    {
     "name": "stdout",
     "output_type": "stream",
     "text": [
      "task <class 'POMDPgame_basic.GameBasic'>\n",
      "basic\n"
     ]
    },
    {
     "name": "stderr",
     "output_type": "stream",
     "text": [
      "/home/tie/.conda/envs/torch/lib/python3.7/site-packages/torch/tensor.py:339: UserWarning: non-inplace resize is deprecated\n",
      "  warnings.warn(\"non-inplace resize is deprecated\")\n"
     ]
    },
    {
     "name": "stdout",
     "output_type": "stream",
     "text": [
      "basic performance 0.877166008764338\n",
      "basic performance 0.8920596995171903\n",
      "basic performance 0.8686538342158061\n",
      "basic performance 0.9079696317466609\n",
      "basic performance 0.8797161548616412\n",
      "task <class 'POMDPgame_holes.GameHole'>\n",
      "hole\n",
      "hole performance 0.7728545084799427\n",
      "hole performance 0.7099728705880587\n",
      "hole performance 0.7131300665298004\n",
      "hole performance 0.761337230575563\n",
      "hole performance 0.7901363995700019\n",
      "task <class 'POMDPgame_bars.GameBar'>\n",
      "bar\n",
      "bar performance 0.6953195213676353\n",
      "bar performance 0.721783535448729\n",
      "bar performance 0.6971094901713708\n",
      "bar performance 0.7287605989469887\n",
      "bar performance 0.6923765157128527\n",
      "task <class 'POMDPgame_scale.GameScale'>\n",
      "scale\n",
      "(27, 14)\n",
      "(27, 39)\n",
      "scale performance -0.3864431550816424\n",
      "(27, 14)\n",
      "(27, 39)\n",
      "scale performance -0.4210817946015294\n",
      "(27, 14)\n",
      "(27, 39)\n",
      "scale performance -0.35634949588386305\n",
      "(27, 14)\n",
      "(27, 39)\n",
      "scale performance -0.5204922058452784\n",
      "(27, 14)\n",
      "(27, 39)\n",
      "scale performance -0.4740589890269379\n",
      "task <class 'POMDPgame_scale_x.GameScale_x'>\n",
      "scale_x\n",
      "scale_x performance 0.7432251994837509\n",
      "scale_x performance 0.7050251544564508\n",
      "scale_x performance 0.8665326188936509\n",
      "scale_x performance 0.8287414530519354\n",
      "scale_x performance 0.8980667769900544\n",
      "task <class 'POMDPgame_scale_y.GameScale_y'>\n",
      "scale_y\n",
      "scale_y performance 0.04889005663577278\n",
      "scale_y performance 0.18951404248905646\n",
      "scale_y performance 0.010312819452640454\n",
      "scale_y performance 0.010978556612697171\n",
      "scale_y performance -0.3102040254615546\n",
      "task <class 'POMDPgame_implicit.GameImplicit'>\n",
      "implicit\n",
      "implicit performance 0.7840434835357246\n",
      "implicit performance 0.7713856393809475\n",
      "implicit performance 0.7263447313629032\n",
      "implicit performance 0.7410307606553707\n",
      "implicit performance 0.7440966683732568\n"
     ]
    }
   ],
   "source": [
    "# moving bar train\n",
    "trial = 399\n",
    "tasks = ['basic', 'hole', 'bar', 'scale', 'scale_x', 'scale_y', 'implicit']\n",
    "iterations = [9, 29, 29, 9, 29, 29, 29]\n",
    "# iterations = [1, 1, 1, 1, 1, 1, 1]\n",
    "Scores = np.zeros((7, 5))\n",
    "i = 0\n",
    "for iters, task in zip(iterations, tasks):\n",
    "        Task =  MultipleTasks(task = task, weight_write = 'weights_cpu_pos1/rnn_1515tanh512_checkpoint{}'.format(trial))\n",
    "        for k in range(5): \n",
    "            weight_read = 'weights_' + task + '/rnn_1515tanh512_checkpoint{}_{}'.format(trial, iters - k)\n",
    "            if task == 'scale':\n",
    "                score = Test(task, Task.game, weight = weight_read, size = 50, test_size = 2, limit_set = 4)\n",
    "            elif (task == 'scale_x') or (task == 'scale_y'):\n",
    "                score = Test(task, Task.game, weight = weight_read, test_size = 1, limit_set = 4)\n",
    "            else:\n",
    "                score = Test(task, Task.game, weight = weight_read)\n",
    "            Scores[i, k]= score\n",
    "        i += 1"
   ]
  },
  {
   "cell_type": "code",
   "execution_count": 4,
   "metadata": {},
   "outputs": [],
   "source": [
    "np.save('scores_pos_399_hyper0', Scores)"
   ]
  },
  {
   "cell_type": "code",
   "execution_count": 10,
   "metadata": {},
   "outputs": [
    {
     "name": "stdout",
     "output_type": "stream",
     "text": [
      "task <class 'POMDPgame_basic.GameBasic'>\n",
      "basic\n",
      "basic performance 0.9586473834862355\n",
      "basic performance 0.9613886604532162\n",
      "basic performance 0.9683135514779768\n",
      "task <class 'POMDPgame_holes.GameHole'>\n",
      "hole\n",
      "hole performance 0.7727815458987044\n",
      "hole performance 0.8036047684775365\n",
      "hole performance 0.8214945092119087\n",
      "task <class 'POMDPgame_bars.GameBar'>\n",
      "bar\n",
      "bar performance 0.6383251924014832\n",
      "bar performance 0.651613290491559\n",
      "bar performance 0.6840781564680479\n",
      "task <class 'POMDPgame_scale.GameScale'>\n",
      "scale\n",
      "(27, 14)\n",
      "(27, 39)\n",
      "scale performance -0.408181510382294\n",
      "(27, 14)\n",
      "(27, 39)\n",
      "scale performance 0.03178633736086875\n",
      "(27, 14)\n",
      "(27, 39)\n",
      "scale performance -0.16458891368539846\n",
      "task <class 'POMDPgame_scale_x.GameScale_x'>\n",
      "scale_x\n",
      "scale_x performance 0.8888107484640178\n",
      "scale_x performance 0.706654996194092\n",
      "scale_x performance 0.8348013059578627\n",
      "task <class 'POMDPgame_scale_y.GameScale_y'>\n",
      "scale_y\n",
      "scale_y performance 0.20550088717169804\n",
      "scale_y performance 0.1910784548343006\n",
      "scale_y performance -0.1890763782995557\n",
      "task <class 'POMDPgame_implicit.GameImplicit'>\n",
      "implicit\n",
      "implicit performance 0.6886342453368884\n",
      "implicit performance 0.5305885202984754\n",
      "implicit performance 0.2698752081859458\n"
     ]
    }
   ],
   "source": [
    "# moving bar train\n",
    "# moving bar train\n",
    "trial = 350\n",
    "tasks = ['basic', 'hole', 'bar', 'scale', 'scale_x', 'scale_y', 'implicit']\n",
    "iterations = [9, 29, 29, 9, 29, 29, 29]\n",
    "# iterations = [1, 1, 1, 1, 1, 1, 1]\n",
    "Scores = np.zeros((7, 3))\n",
    "i = 0\n",
    "for iters, task in zip(iterations, tasks):\n",
    "        Task =  MultipleTasks(task = task, weight_write = 'weights_cpu_pos1/rnn_1515tanh512_checkpoint{}'.format(trial))\n",
    "        for k in range(3): \n",
    "            weight_read = 'weights_' + task + '/rnn_1515tanh512_checkpoint{}_{}'.format(trial, iters - k)\n",
    "            if task == 'scale':\n",
    "                score = Test(task, Task.game, weight = weight_read, size = 50, test_size = 2, limit_set = 4)\n",
    "            elif (task == 'scale_x') or (task == 'scale_y'):\n",
    "                score = Test(task, Task.game, weight = weight_read, test_size = 1, limit_set = 4)\n",
    "            else:\n",
    "                score = Test(task, Task.game, weight = weight_read)\n",
    "            Scores[i, k]= score\n",
    "        i += 1\n",
    "np.save('scores_pos_350_hyper0', Scores)"
   ]
  },
  {
   "cell_type": "code",
   "execution_count": 5,
   "metadata": {},
   "outputs": [
    {
     "name": "stdout",
     "output_type": "stream",
     "text": [
      "task <class 'POMDPgame_basic.GameBasic'>\n",
      "basic\n",
      "basic performance 0.9489338334322148\n",
      "basic performance 0.9382299596339116\n",
      "basic performance 0.9356614869505493\n",
      "basic performance 0.9052015983940809\n",
      "basic performance 0.9199315553603905\n",
      "task <class 'POMDPgame_holes.GameHole'>\n",
      "hole\n",
      "hole performance 0.7207044098503947\n",
      "hole performance 0.6733539342749664\n",
      "hole performance 0.7276197230973912\n",
      "hole performance 0.7315589203612916\n",
      "hole performance 0.7364824189544037\n",
      "task <class 'POMDPgame_bars.GameBar'>\n",
      "bar\n",
      "bar performance -0.059807924213716446\n",
      "bar performance -0.11089801718733938\n",
      "bar performance -0.08208597068176582\n",
      "bar performance -0.10671466610009436\n",
      "bar performance -0.04396289328317071\n",
      "task <class 'POMDPgame_scale.GameScale'>\n",
      "scale\n",
      "(27, 14)\n",
      "(27, 39)\n",
      "scale performance -0.22050648919663512\n",
      "(27, 14)\n",
      "(27, 39)\n",
      "scale performance -0.20562873247445315\n",
      "(27, 14)\n",
      "(27, 39)\n",
      "scale performance -0.41961449681976015\n",
      "(27, 14)\n",
      "(27, 39)\n",
      "scale performance -0.15753618354473514\n",
      "(27, 14)\n",
      "(27, 39)\n",
      "scale performance -0.4393879074407112\n",
      "task <class 'POMDPgame_scale_x.GameScale_x'>\n",
      "scale_x\n",
      "scale_x performance 0.675387522260477\n",
      "scale_x performance 0.7000841780024547\n",
      "scale_x performance 0.5546039716624012\n",
      "scale_x performance 0.15404215738669635\n",
      "scale_x performance 0.19894377660009196\n",
      "task <class 'POMDPgame_scale_y.GameScale_y'>\n",
      "scale_y\n",
      "scale_y performance 0.044540755672641597\n",
      "scale_y performance 0.33266492322141544\n",
      "scale_y performance 0.6733438658915527\n",
      "scale_y performance 0.6530698353081427\n",
      "scale_y performance 0.7006484499549992\n",
      "task <class 'POMDPgame_implicit.GameImplicit'>\n",
      "implicit\n",
      "implicit performance 0.6560326143088075\n",
      "implicit performance 0.5188762346260118\n",
      "implicit performance 0.5327490657750684\n",
      "implicit performance 0.5160873532712504\n",
      "implicit performance 0.4819471884208091\n"
     ]
    }
   ],
   "source": [
    "# moving bar train\n",
    "trial = 300\n",
    "tasks = ['basic', 'hole', 'bar', 'scale', 'scale_x', 'scale_y', 'implicit']\n",
    "iterations = [9, 29, 29, 9, 29, 29, 29]\n",
    "# iterations = [1, 1, 1, 1, 1, 1, 1]\n",
    "Scores = np.zeros((7, 5))\n",
    "i = 0\n",
    "for iters, task in zip(iterations, tasks):\n",
    "        Task =  MultipleTasks(task = task, weight_write = 'weights_cpu_pos1/rnn_1515tanh512_checkpoint{}'.format(trial))\n",
    "        for k in range(5): \n",
    "            weight_read = 'weights_' + task + '/rnn_1515tanh512_checkpoint{}_{}'.format(trial, iters - k)\n",
    "            if task == 'scale':\n",
    "                score = Test(task, Task.game, weight = weight_read, size = 50, test_size = 2, limit_set = 4)\n",
    "            elif (task == 'scale_x') or (task == 'scale_y'):\n",
    "                score = Test(task, Task.game, weight = weight_read, test_size = 1, limit_set = 4)\n",
    "            else:\n",
    "                score = Test(task, Task.game, weight = weight_read)\n",
    "            Scores[i, k]= score\n",
    "        i += 1\n",
    "np.save('scores_pos_300_hyper0', Scores)"
   ]
  },
  {
   "cell_type": "markdown",
   "metadata": {},
   "source": [
    "### measure decoding "
   ]
  },
  {
   "cell_type": "markdown",
   "metadata": {},
   "source": [
    "Decoding accuracy decreases, there are two possible reasons: \n",
    "1, decoding has bias,  information of position is only refleted by decoding, if there is certain bias , it is not trustable\n",
    "2, it is the real measure of information, so there are less spatial information about space, or an effect decoupling/disentanglement of position. This can be due the network succeed at finding an even lower diemnsion object which gives successful performance.  The representation deceases its information to input in a sense. \n",
    "\n",
    "This can be linked to receptive field by looking at how space is represented. "
   ]
  },
  {
   "cell_type": "code",
   "execution_count": null,
   "metadata": {},
   "outputs": [],
   "source": [
    "!top"
   ]
  },
  {
   "cell_type": "code",
   "execution_count": null,
   "metadata": {},
   "outputs": [],
   "source": []
  }
 ],
 "metadata": {
  "anaconda-cloud": {},
  "kernelspec": {
   "display_name": "Python 3",
   "language": "python",
   "name": "python3"
  },
  "language_info": {
   "codemirror_mode": {
    "name": "ipython",
    "version": 3
   },
   "file_extension": ".py",
   "mimetype": "text/x-python",
   "name": "python",
   "nbconvert_exporter": "python",
   "pygments_lexer": "ipython3",
   "version": "3.7.3"
  },
  "latex_envs": {
   "LaTeX_envs_menu_present": true,
   "autoclose": false,
   "autocomplete": true,
   "bibliofile": "biblio.bib",
   "cite_by": "apalike",
   "current_citInitial": 1,
   "eqLabelWithNumbers": true,
   "eqNumInitial": 1,
   "hotkeys": {
    "equation": "Ctrl-E",
    "itemize": "Ctrl-I"
   },
   "labels_anchors": false,
   "latex_user_defs": false,
   "report_style_numbering": false,
   "user_envs_cfg": false
  },
  "toc": {
   "nav_menu": {},
   "number_sections": true,
   "sideBar": true,
   "skip_h1_title": false,
   "title_cell": "Table of Contents",
   "title_sidebar": "Contents",
   "toc_cell": true,
   "toc_position": {
    "height": "759px",
    "left": "0px",
    "right": "1228px",
    "top": "67px",
    "width": "212px"
   },
   "toc_section_display": "block",
   "toc_window_display": true
  },
  "varInspector": {
   "cols": {
    "lenName": 16,
    "lenType": 16,
    "lenVar": 40
   },
   "kernels_config": {
    "python": {
     "delete_cmd_postfix": "",
     "delete_cmd_prefix": "del ",
     "library": "var_list.py",
     "varRefreshCmd": "print(var_dic_list())"
    },
    "r": {
     "delete_cmd_postfix": ") ",
     "delete_cmd_prefix": "rm(",
     "library": "var_list.r",
     "varRefreshCmd": "cat(var_dic_list()) "
    }
   },
   "types_to_exclude": [
    "module",
    "function",
    "builtin_function_or_method",
    "instance",
    "_Feature"
   ],
   "window_display": false
  }
 },
 "nbformat": 4,
 "nbformat_minor": 4
}
