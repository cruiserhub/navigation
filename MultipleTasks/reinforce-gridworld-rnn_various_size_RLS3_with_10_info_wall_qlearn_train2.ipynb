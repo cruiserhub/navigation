{
 "cells": [
  {
   "cell_type": "markdown",
   "metadata": {
    "toc": "true"
   },
   "source": [
    "<h1>Table of Contents<span class=\"tocSkip\"></span></h1>\n",
    "<div class=\"toc\"><ul class=\"toc-item\"><li><span><a href=\"#quick-start\" data-toc-modified-id=\"quick-start-1\"><span class=\"toc-item-num\">1&nbsp;&nbsp;</span>quick start</a></span><ul class=\"toc-item\"><li><span><a href=\"#Resources\" data-toc-modified-id=\"Resources-1.1\"><span class=\"toc-item-num\">1.1&nbsp;&nbsp;</span>Resources</a></span></li></ul></li><li><span><a href=\"#FULL-MODEL\" data-toc-modified-id=\"FULL-MODEL-2\"><span class=\"toc-item-num\">2&nbsp;&nbsp;</span>FULL MODEL</a></span><ul class=\"toc-item\"><li><span><a href=\"#Packages\" data-toc-modified-id=\"Packages-2.1\"><span class=\"toc-item-num\">2.1&nbsp;&nbsp;</span>Packages</a></span><ul class=\"toc-item\"><li><span><a href=\"#Qnetwork\" data-toc-modified-id=\"Qnetwork-2.1.1\"><span class=\"toc-item-num\">2.1.1&nbsp;&nbsp;</span>Qnetwork</a></span></li></ul></li><li><span><a href=\"#POMDP-RNN-Game\" data-toc-modified-id=\"POMDP-RNN-Game-2.2\"><span class=\"toc-item-num\">2.2&nbsp;&nbsp;</span>POMDP RNN Game</a></span></li><li><span><a href=\"#Results\" data-toc-modified-id=\"Results-2.3\"><span class=\"toc-item-num\">2.3&nbsp;&nbsp;</span>Results</a></span><ul class=\"toc-item\"><li><span><a href=\"#Standard-setting：-grid-=--(3,7)，-holes-=-0\" data-toc-modified-id=\"Standard-setting：-grid-=--(3,7)，-holes-=-0-2.3.1\"><span class=\"toc-item-num\">2.3.1&nbsp;&nbsp;</span>Standard setting： grid =  (3,7)， holes = 0</a></span></li><li><span><a href=\"#Model-Tranining\" data-toc-modified-id=\"Model-Tranining-2.3.2\"><span class=\"toc-item-num\">2.3.2&nbsp;&nbsp;</span>Model Tranining</a></span></li><li><span><a href=\"#decoding-vs-performance\" data-toc-modified-id=\"decoding-vs-performance-2.3.3\"><span class=\"toc-item-num\">2.3.3&nbsp;&nbsp;</span>decoding vs performance</a></span></li><li><span><a href=\"#learning-rate-vs-performance\" data-toc-modified-id=\"learning-rate-vs-performance-2.3.4\"><span class=\"toc-item-num\">2.3.4&nbsp;&nbsp;</span>learning rate vs performance</a></span></li><li><span><a href=\"#Summary\" data-toc-modified-id=\"Summary-2.3.5\"><span class=\"toc-item-num\">2.3.5&nbsp;&nbsp;</span>Summary</a></span></li><li><span><a href=\"#Anlytic-part-,-check-the-behaviour-correspond-to-each-decoding-level-and-explain-why\" data-toc-modified-id=\"Anlytic-part-,-check-the-behaviour-correspond-to-each-decoding-level-and-explain-why-2.3.6\"><span class=\"toc-item-num\">2.3.6&nbsp;&nbsp;</span>Anlytic part , check the behaviour correspond to each decoding level and explain why</a></span></li></ul></li><li><span><a href=\"#PCA\" data-toc-modified-id=\"PCA-2.4\"><span class=\"toc-item-num\">2.4&nbsp;&nbsp;</span>PCA</a></span></li></ul></li></ul></div>"
   ]
  },
  {
   "cell_type": "markdown",
   "metadata": {},
   "source": [
    "# quick start "
   ]
  },
  {
   "cell_type": "markdown",
   "metadata": {},
   "source": [
    "Test what is the decoding change for single size training "
   ]
  },
  {
   "cell_type": "markdown",
   "metadata": {},
   "source": [
    "## Resources\n",
    "\n",
    "* [*The* Reinforcement learning book from Sutton & Barto](http://incompleteideas.net/sutton/book/the-book-2nd.html)\n",
    "* [The REINFORCE paper from Ronald J. Williams (1992)](http://www-anw.cs.umass.edu/~barto/courses/cs687/williams92simple.pdf)\n"
   ]
  },
  {
   "cell_type": "markdown",
   "metadata": {},
   "source": [
    "# FULL MODEL"
   ]
  },
  {
   "cell_type": "markdown",
   "metadata": {},
   "source": [
    "## Packages"
   ]
  },
  {
   "cell_type": "code",
   "execution_count": 1,
   "metadata": {},
   "outputs": [],
   "source": [
    "%load_ext autoreload\n",
    "%autoreload 2\n",
    "\n",
    "import numpy as np\n",
    "from itertools import count\n",
    "import random\n",
    "\n",
    "import torch\n",
    "import torch.nn as nn\n",
    "import torch.nn.functional as F\n",
    "import torch.optim as optim\n",
    "import torch.autograd as autograd\n",
    "from torch.autograd import Variable\n",
    "from torch.nn import init\n",
    "from torch.nn import DataParallel\n",
    "\n",
    "import matplotlib.mlab as mlab\n",
    "import matplotlib.pyplot as plt\n",
    "import matplotlib.animation\n",
    "from IPython.display import HTML\n",
    "\n",
    "import POMDPgame_bars\n",
    "from POMDPgame_bars import*\n",
    "\n",
    "import POMDPgame_basic\n",
    "from POMDPgame_basic import*\n",
    "\n",
    "import POMDPgame_holes\n",
    "from POMDPgame_holes import*\n",
    "\n",
    "\n",
    "import RNN\n",
    "from RNN import *\n",
    "\n",
    "import navigation2\n",
    "from navigation2 import*\n",
    "\n",
    "import Nets\n",
    "from Nets import*\n",
    "\n",
    "%matplotlib inline"
   ]
  },
  {
   "cell_type": "markdown",
   "metadata": {},
   "source": [
    "### Qnetwork\n",
    "\n",
    "To select actions we take maximum of Q value, corresponding to certain move."
   ]
  },
  {
   "cell_type": "markdown",
   "metadata": {},
   "source": [
    "For the liquid state approach to work, you need a lot of neurons as surplus or enough hidden to hidden connectivity to make it have an effect."
   ]
  },
  {
   "cell_type": "markdown",
   "metadata": {},
   "source": [
    "##  POMDP RNN Game\n",
    "\n",
    "In this game , we use a new reward function determined by game, if the agent achieves the goal before 50, reward is 1. If time pass 50 reward is 0.5, once time pass 100 agent gets a reward of -0.5 .  Practically, this is found to be easier to learn than the rewards as a continous function of time.  Tf the agent learns to search in a efficient way, the largest possible way for search is to firstly arrive at corner then goes to the goal, which, takes about 50 steps, it is reasonble to make 50 and 100 as milestone thing.  Also in principe as the game doesn't have a timer , it is not if it can use a reward as funtion of time"
   ]
  },
  {
   "cell_type": "markdown",
   "metadata": {},
   "source": [
    "3 condition for ending , when pass time limit, game over"
   ]
  },
  {
   "cell_type": "markdown",
   "metadata": {},
   "source": [
    "For weight update, it seems to be better do it after episode, as it makes non-sense evaluate strategy during episode, but a the end. Also, it is much quicker. "
   ]
  },
  {
   "cell_type": "markdown",
   "metadata": {},
   "source": [
    "A programming of MDP here, hidden state is as state of enviroment"
   ]
  },
  {
   "cell_type": "code",
   "execution_count": 3,
   "metadata": {},
   "outputs": [
    {
     "name": "stdout",
     "output_type": "stream",
     "text": [
      "task <class 'POMDPgame_basic.GameBasic'>\n",
      "task <class 'POMDPgame_holes.GameHole'>\n",
      "task <class 'POMDPgame_bars.GameBar'>\n",
      "task <class 'POMDPgame_scale.GameScale'>\n",
      "task <class 'POMDPgame_scale_x.GameScale_x'>\n",
      "task <class 'POMDPgame_scale_y.GameScale_y'>\n",
      "task <class 'POMDPgame_implicit.GameImplicit'>\n"
     ]
    },
    {
     "data": {
      "text/plain": [
       "<matplotlib.image.AxesImage at 0x7f2c3cd5ecf8>"
      ]
     },
     "execution_count": 3,
     "metadata": {},
     "output_type": "execute_result"
    },
    {
     "data": {
      "image/png": "[encoded data removed]",
      "text/plain": [
       "<Figure size 288x288 with 1 Axes>"
      ]
     },
     "metadata": {
      "needs_background": "light"
     },
     "output_type": "display_data"
    },
    {
     "data": {
      "image/png": "[encoded data removed]",
      "text/plain": [
       "<Figure size 288x288 with 1 Axes>"
      ]
     },
     "metadata": {
      "needs_background": "light"
     },
     "output_type": "display_data"
    },
    {
     "data": {
      "image/png": "[encoded data removed]",
      "text/plain": [
       "<Figure size 288x288 with 1 Axes>"
      ]
     },
     "metadata": {
      "needs_background": "light"
     },
     "output_type": "display_data"
    },
    {
     "data": {
      "image/png": "[encoded data removed]",
      "text/plain": [
       "<Figure size 288x288 with 1 Axes>"
      ]
     },
     "metadata": {
      "needs_background": "light"
     },
     "output_type": "display_data"
    },
    {
     "data": {
      "image/png": "[encoded data removed]",
      "text/plain": [
       "<Figure size 549.818x288 with 1 Axes>"
      ]
     },
     "metadata": {
      "needs_background": "light"
     },
     "output_type": "display_data"
    },
    {
     "data": {
      "image/png": "[encoded data removed]",
      "text/plain": [
       "<Figure size 288x549.818 with 1 Axes>"
      ]
     },
     "metadata": {
      "needs_background": "light"
     },
     "output_type": "display_data"
    },
    {
     "data": {
      "image/png": "[encoded data removed]",
      "text/plain": [
       "<Figure size 288x288 with 1 Axes>"
      ]
     },
     "metadata": {
      "needs_background": "light"
     },
     "output_type": "display_data"
    }
   ],
   "source": [
    "basicgame = CreateGame(GameBasic, holes = 0)\n",
    "basicgame.reset(size = 15, reward_control=0)\n",
    "plt.matshow(basicgame.grid.grid)\n",
    "\n",
    "holegame = CreateGame(GameHole, holes = 50)\n",
    "holegame.reset(size = 15, reward_control=0)\n",
    "plt.matshow(holegame.grid.grid)\n",
    "\n",
    "bargame = CreateGame(GameBar, holes = 0)\n",
    "bargame.reset(size = 15, reward_control=0)\n",
    "plt.matshow(bargame.grid.grid)\n",
    "\n",
    "scalegame = CreateGame(GameScale, holes = 0)\n",
    "scalegame.reset(reward_control=0)\n",
    "plt.matshow(scalegame.grid.grid)\n",
    "\n",
    "scalegame_x = CreateGame(GameScale_x, holes = 0)\n",
    "scalegame_x.reset(reward_control=0)\n",
    "plt.matshow(scalegame_x.grid.grid)\n",
    "\n",
    "scalegame_y = CreateGame(GameScale_y, holes = 0)\n",
    "scalegame_y.reset(reward_control=0)\n",
    "plt.matshow(scalegame_y.grid.grid)\n",
    "\n",
    "Imp_game = CreateGame(GameImplicit, holes = 0)\n",
    "Imp_game.reset(size = 15, reward_control=0)\n",
    "plt.matshow(Imp_game.grid.grid)"
   ]
  },
  {
   "cell_type": "markdown",
   "metadata": {},
   "source": [
    "Think of how to make this traning stable, adding exploration noise , intenral noise or environmental variability like multiple mazes  "
   ]
  },
  {
   "cell_type": "code",
   "execution_count": 4,
   "metadata": {},
   "outputs": [
    {
     "name": "stdout",
     "output_type": "stream",
     "text": [
      "basic\n",
      "start [15]\n"
     ]
    },
    {
     "name": "stderr",
     "output_type": "stream",
     "text": [
      "/home/tie/.conda/envs/torch/lib/python3.7/site-packages/torch/tensor.py:339: UserWarning: non-inplace resize is deprecated\n",
      "  warnings.warn(\"non-inplace resize is deprecated\")\n"
     ]
    },
    {
     "name": "stdout",
     "output_type": "stream",
     "text": [
      "clear session data 49 1164693504\n",
      "basic performance 0.3574504777629778\n",
      "clear session data 49 1159069696\n",
      "basic performance 0.7418229123307248\n",
      "clear session data 49 1159340032\n",
      "basic performance 0.7819428618256743\n",
      "clear session data 49 1159610368\n",
      "basic performance 0.8126098510864137\n",
      "clear session data 49 1159610368\n",
      "basic performance 0.6665068872100122\n",
      "clear session data 49 1159610368\n",
      "basic performance 0.705687108030858\n",
      "clear session data 49 1159610368\n",
      "basic performance 0.7195238572191697\n",
      "clear session data 49 1159610368\n",
      "basic performance 0.737269111097236\n",
      "clear session data 49 1159880704\n",
      "basic performance 0.7787082492160617\n",
      "clear session data 49 1159880704\n",
      "basic performance 0.8528817103035853\n",
      "hole\n",
      "start [15]\n",
      "clear session data 4 9221144576\n",
      "hole performance -0.581898424207167\n",
      "clear session data 4 9582415872\n",
      "hole performance -0.5031094716391317\n",
      "clear session data 4 9581821952\n",
      "hole performance -0.41596869635704947\n",
      "clear session data 4 9586151424\n",
      "hole performance -0.34663744257173656\n",
      "clear session data 4 9586061312\n",
      "hole performance -0.29236972290770624\n",
      "clear session data 4 9514217472\n",
      "hole performance -0.1724765665921674\n",
      "clear session data 4 9514598400\n",
      "hole performance -0.09696656550005622\n",
      "clear session data 4 9514508288\n",
      "hole performance -0.09975060108374584\n",
      "clear session data 4 9514758144\n",
      "hole performance 0.04018545070581596\n",
      "clear session data 4 9514127360\n",
      "hole performance 0.00592166993599938\n",
      "clear session data 4 9514778624\n",
      "hole performance -0.0010508232299724918\n",
      "clear session data 4 9514754048\n",
      "hole performance 0.0964574061107023\n",
      "clear session data 4 9514393600\n",
      "hole performance 0.11227080208803937\n",
      "clear session data 4 9514573824\n",
      "hole performance 0.14439966425097703\n",
      "clear session data 4 9514487808\n",
      "hole performance 0.03922824482962782\n",
      "clear session data 4 9514934272\n",
      "hole performance 0.15385727157896797\n",
      "clear session data 4 9514303488\n",
      "hole performance 0.15797791935685618\n",
      "clear session data 4 9514758144\n",
      "hole performance 0.15759163969813894\n",
      "clear session data 4 9514663936\n",
      "hole performance 0.14273232417485038\n",
      "clear session data 4 9514037248\n",
      "hole performance 0.22322730427077225\n",
      "clear session data 4 9514754048\n",
      "hole performance 0.1886778678337828\n",
      "clear session data 4 9514663936\n",
      "hole performance 0.1633238415518482\n",
      "clear session data 4 9514848256\n",
      "hole performance 0.2131853751085375\n",
      "clear session data 4 9514483712\n",
      "hole performance 0.04432328236042671\n",
      "clear session data 4 9514663936\n",
      "hole performance 0.1271898051305852\n",
      "clear session data 4 9514844160\n",
      "hole performance 0.11344693944318422\n",
      "clear session data 4 9514213376\n",
      "hole performance 0.09053679570048981\n",
      "clear session data 4 9514868736\n",
      "hole performance 0.0818249282838518\n",
      "clear session data 4 9514844160\n",
      "hole performance 0.11403153029585222\n",
      "clear session data 4 9514487808\n",
      "hole performance 0.1800324841695426\n",
      "bar\n",
      "start [15]\n",
      "clear session data 4 9187315712\n",
      "bar performance -0.48861655560874306\n",
      "clear session data 4 9187315712\n",
      "bar performance -0.4969869193306693\n",
      "clear session data 4 9187315712\n",
      "bar performance -0.5823390151515151\n",
      "clear session data 4 9187315712\n",
      "bar performance -0.5666666666666667\n",
      "clear session data 4 9187315712\n",
      "bar performance -0.5696428571428571\n",
      "clear session data 4 9187315712\n",
      "bar performance -0.65625\n",
      "clear session data 4 9187315712\n",
      "bar performance -0.5474330357142857\n",
      "clear session data 4 9187315712\n",
      "bar performance -0.5066608873047451\n",
      "clear session data 4 9187315712\n",
      "bar performance -0.5496651785714286\n",
      "clear session data 4 9187315712\n",
      "bar performance -0.6565624999999999\n",
      "clear session data 4 9187315712\n",
      "bar performance -0.5352983664417792\n",
      "clear session data 4 9187315712\n",
      "bar performance -0.6104166666666666\n",
      "clear session data 4 9187315712\n",
      "bar performance -0.5347952586206897\n",
      "clear session data 4 9187315712\n",
      "bar performance -0.43496863394844093\n",
      "clear session data 4 9187315712\n",
      "bar performance -0.506623427974276\n",
      "clear session data 4 9187315712\n",
      "bar performance -0.3749388025169275\n",
      "clear session data 4 9187315712\n",
      "bar performance -0.47955567002442\n",
      "clear session data 4 9187315712\n",
      "bar performance -0.46693543724793724\n",
      "clear session data 4 9187315712\n",
      "bar performance -0.44834193285163115\n",
      "clear session data 4 9187315712\n",
      "bar performance -0.4022205051892552\n",
      "clear session data 4 9187315712\n",
      "bar performance -0.43089017189001205\n",
      "clear session data 4 9187315712\n",
      "bar performance -0.4638305203510882\n",
      "clear session data 4 9187315712\n",
      "bar performance -0.5329049251355286\n",
      "clear session data 4 9187315712\n",
      "bar performance -0.393461336620304\n",
      "clear session data 4 9187315712\n",
      "bar performance -0.4367937226727753\n",
      "clear session data 4 9187315712\n",
      "bar performance -0.45154286924761067\n",
      "clear session data 4 9187315712\n",
      "bar performance -0.5289509323291651\n",
      "clear session data 4 9187315712\n",
      "bar performance -0.41321417297979796\n",
      "clear session data 4 9187315712\n",
      "bar performance -0.40729904972900666\n",
      "clear session data 4 9187315712\n",
      "bar performance -0.34258897756555173\n",
      "scale\n",
      "start [10 20 30 40 50]\n",
      "clear session data 49 9187053568\n",
      "scale performance 0.055265350968476\n",
      "clear session data 49 9187053568\n",
      "scale performance 0.35440206494894\n",
      "clear session data 49 9187323904\n",
      "scale performance 0.2479525249056499\n",
      "clear session data 49 9187323904\n",
      "scale performance 0.1482711299117549\n",
      "clear session data 49 9187323904\n",
      "scale performance -0.02654474431818181\n",
      "clear session data 49 9187323904\n",
      "scale performance 0.305293946504884\n",
      "clear session data 49 9187323904\n",
      "scale performance 0.23985248692279942\n",
      "clear session data 49 10418393088\n",
      "scale performance 0.1373142916111666\n",
      "clear session data 49 10418393088\n",
      "scale performance 0.2005806910103785\n",
      "clear session data 49 9154367488\n",
      "scale performance 0.031325358669108655\n",
      "scale_x\n",
      "start [15]\n",
      "clear session data 49 9154367488\n",
      "scale_x performance -0.7596249651616499\n",
      "clear session data 49 9154367488\n",
      "scale_x performance -0.5795747934413311\n",
      "clear session data 49 9154367488\n",
      "scale_x performance -0.2098380909121403\n",
      "clear session data 49 9154367488\n",
      "scale_x performance 0.15396963120036256\n",
      "clear session data 49 9154367488\n",
      "scale_x performance 0.3832944779104055\n",
      "clear session data 49 9154367488\n",
      "scale_x performance 0.2677539005246772\n",
      "clear session data 49 9154367488\n",
      "scale_x performance 0.4163337872627897\n",
      "clear session data 49 9154367488\n",
      "scale_x performance 0.3885071249632638\n",
      "clear session data 49 9154367488\n",
      "scale_x performance 0.19223926375988462\n",
      "clear session data 49 9154367488\n",
      "scale_x performance 0.3344503929597692\n",
      "clear session data 49 9154367488\n",
      "scale_x performance 0.38886147492025674\n",
      "clear session data 49 9154367488\n",
      "scale_x performance 0.6758655236381532\n",
      "clear session data 49 9154367488\n",
      "scale_x performance 0.5254186800270735\n",
      "clear session data 49 9154367488\n",
      "scale_x performance 0.6679179283471289\n",
      "clear session data 49 9154367488\n",
      "scale_x performance 0.4176909091247584\n",
      "clear session data 49 9154367488\n",
      "scale_x performance 0.511626079312957\n",
      "clear session data 49 9154367488\n",
      "scale_x performance 0.5474848781557347\n",
      "clear session data 49 9154367488\n",
      "scale_x performance 0.4913383545120542\n",
      "clear session data 49 9154367488\n",
      "scale_x performance -0.2821998236138501\n",
      "clear session data 49 9154367488\n",
      "scale_x performance 0.297820644615566\n",
      "clear session data 49 9154367488\n",
      "scale_x performance 0.35192028308904877\n",
      "clear session data 49 9154367488\n",
      "scale_x performance -0.20922261886160162\n",
      "clear session data 49 9154367488\n",
      "scale_x performance -0.11849316287381668\n",
      "clear session data 49 9154367488\n",
      "scale_x performance 0.11888321520105352\n",
      "clear session data 49 9154367488\n",
      "scale_x performance 0.3942609248778728\n",
      "clear session data 49 9154367488\n",
      "scale_x performance 0.06875426882988599\n",
      "clear session data 49 9154367488\n",
      "scale_x performance -0.5212871335460605\n",
      "clear session data 49 9154367488\n",
      "scale_x performance -0.09666178566901278\n",
      "clear session data 49 9154367488\n",
      "scale_x performance 0.23365077392039085\n",
      "clear session data 49 9154367488\n",
      "scale_x performance 0.31081629570895736\n",
      "scale_y\n",
      "start [15]\n",
      "clear session data 49 9154367488\n",
      "scale_y performance -0.40916637954639185\n",
      "clear session data 49 9154367488\n",
      "scale_y performance -0.444766764575953\n",
      "clear session data 49 9154367488\n",
      "scale_y performance -0.3580959623645146\n",
      "clear session data 49 9154367488\n",
      "scale_y performance -0.26781293845887966\n",
      "clear session data 49 9154367488\n",
      "scale_y performance -0.4603956380712104\n",
      "clear session data 49 9154367488\n",
      "scale_y performance -0.06442048658629895\n",
      "clear session data 49 9154367488\n",
      "scale_y performance -0.2849496271458575\n",
      "clear session data 49 9154367488\n",
      "scale_y performance -0.23805107453574795\n",
      "clear session data 49 9154367488\n",
      "scale_y performance -0.431036296321458\n",
      "clear session data 49 9154367488\n",
      "scale_y performance -0.6337650136155268\n",
      "clear session data 49 9154367488\n",
      "scale_y performance -0.6469888484586264\n",
      "clear session data 49 9154367488\n",
      "scale_y performance -0.4985199850963001\n",
      "clear session data 49 9154367488\n",
      "scale_y performance -0.5717246766261924\n",
      "clear session data 49 9154367488\n",
      "scale_y performance -0.49587923565346115\n",
      "clear session data 49 9154367488\n",
      "scale_y performance -0.41925449465079123\n",
      "clear session data 49 9154367488\n",
      "scale_y performance -0.1297102409756985\n",
      "clear session data 49 9154367488\n",
      "scale_y performance -0.4935891240942305\n",
      "clear session data 49 9154367488\n",
      "scale_y performance -0.6551442534167263\n",
      "clear session data 49 9154367488\n",
      "scale_y performance -0.6787252975020721\n",
      "clear session data 49 9154367488\n",
      "scale_y performance -0.5489582697911856\n",
      "clear session data 49 9154367488\n",
      "scale_y performance -0.681807489816641\n",
      "clear session data 49 9154367488\n",
      "scale_y performance -0.5592500024298593\n",
      "clear session data 49 9154367488\n",
      "scale_y performance -0.10727255669505495\n",
      "clear session data 49 9154367488\n",
      "scale_y performance -0.2616509636874597\n",
      "clear session data 49 9154367488\n",
      "scale_y performance 0.02008488251672344\n",
      "clear session data 49 9154367488\n",
      "scale_y performance 0.02949995203505118\n",
      "clear session data 49 9154367488\n",
      "scale_y performance -0.5099392639326716\n",
      "clear session data 49 9154367488\n",
      "scale_y performance 0.05150180712917206\n",
      "clear session data 49 9154367488\n",
      "scale_y performance -0.3905266924103955\n",
      "clear session data 49 9154367488\n",
      "scale_y performance -0.6157008669087651\n",
      "implicit\n",
      "start [15]\n",
      "clear session data 49 9154367488\n",
      "implicit performance -0.2617748787670663\n",
      "clear session data 49 9154367488\n",
      "implicit performance 0.2881766328537429\n",
      "clear session data 49 9154367488\n",
      "implicit performance 0.37131682383890263\n",
      "clear session data 49 9154367488\n",
      "implicit performance 0.3403357092825444\n",
      "clear session data 49 9154367488\n",
      "implicit performance 0.3795007864300449\n",
      "clear session data 49 9154367488\n",
      "implicit performance 0.514954705473353\n",
      "clear session data 49 9154367488\n",
      "implicit performance 0.4799092799604378\n",
      "clear session data 49 9154367488\n",
      "implicit performance 0.4758994433729291\n",
      "clear session data 49 9154367488\n",
      "implicit performance 0.3491016079738846\n",
      "clear session data 49 9154367488\n",
      "implicit performance 0.38956884025597716\n",
      "clear session data 49 9154367488\n",
      "implicit performance 0.1295879087985769\n",
      "clear session data 49 9154367488\n",
      "implicit performance 0.04351865582334333\n",
      "clear session data 49 9154367488\n",
      "implicit performance -0.33112373737373735\n",
      "clear session data 49 9154367488\n",
      "implicit performance -0.3544109623015873\n",
      "clear session data 49 9154367488\n",
      "implicit performance 0.009349072343098092\n",
      "clear session data 49 9154367488\n",
      "implicit performance 0.16758923801892553\n",
      "clear session data 49 9154367488\n",
      "implicit performance 0.015115772685505749\n",
      "clear session data 49 9154367488\n",
      "implicit performance -0.02393547303086778\n",
      "clear session data 49 9154367488\n",
      "implicit performance 0.05698703252157203\n",
      "clear session data 49 9154367488\n",
      "implicit performance 0.06341071353077068\n",
      "clear session data 49 9154367488\n",
      "implicit performance 0.040781385139534\n",
      "clear session data 49 9154367488\n",
      "implicit performance 0.06008123140476082\n",
      "clear session data 49 9154367488\n",
      "implicit performance 0.15765042398932488\n",
      "clear session data 49 9154367488\n",
      "implicit performance 0.0372918900951989\n",
      "clear session data 49 9154367488\n",
      "implicit performance 0.041755798137803\n",
      "clear session data 49 9154367488\n",
      "implicit performance -0.008763453380447383\n",
      "clear session data 49 9154367488\n",
      "implicit performance -0.1435675218878344\n",
      "clear session data 49 9154367488\n",
      "implicit performance -0.1104781834791026\n",
      "clear session data 49 9154367488\n",
      "implicit performance -0.07643164033279523\n",
      "clear session data 49 9154367488\n",
      "implicit performance 0.07358021752553001\n"
     ]
    }
   ],
   "source": [
    "# moving bar train, noise = 0.0\n",
    "trial = 300\n",
    "tasks = ['basic', 'hole', 'bar', 'scale', 'scale_x', 'scale_y', 'implicit']\n",
    "episodes = [10, 30, 30, 10, 30, 30, 30]\n",
    "# iterations = [1, 1, 1, 1, 1, 1, 1]\n",
    "for n, task in zip(episodes, tasks):\n",
    "        Task =  MultipleTasks(task = task, weight_write = 'weights_cpu/rnn_1515tanh512_checkpoint{}'.format(trial)\\\n",
    "                              , noise = 0.0)\n",
    "        weight_read = Task.weight\n",
    "        weight_write = 'weights_' + task + '/rnn_1515tanh512_checkpoint{}'.format(trial)\n",
    "        if task == 'scale':\n",
    "            size_train = np.arange(10, 51, 10)\n",
    "        else:\n",
    "            size_train = [15]\n",
    "        if (task == 'hole') or (task == 'bar'):\n",
    "            iterations = 5\n",
    "            epochs = 100\n",
    "        else:\n",
    "            iterations = 50\n",
    "            epochs = 10\n",
    "        print ('start', size_train)\n",
    "        Task.qlearn(task, weight_read,  weight_write, episodes = n, noise = 0, size_train = size_train, size_test=[15], iterations = iterations\n",
    "                   , epochs = epochs)"
   ]
  },
  {
   "cell_type": "code",
   "execution_count": null,
   "metadata": {},
   "outputs": [
    {
     "name": "stdout",
     "output_type": "stream",
     "text": [
      "task <class 'POMDPgame_bars.GameBar'>\n",
      "bar\n",
      "start [15]\n"
     ]
    },
    {
     "name": "stderr",
     "output_type": "stream",
     "text": [
      "/home/tie/.conda/envs/torch/lib/python3.7/site-packages/torch/tensor.py:339: UserWarning: non-inplace resize is deprecated\n",
      "  warnings.warn(\"non-inplace resize is deprecated\")\n"
     ]
    },
    {
     "name": "stdout",
     "output_type": "stream",
     "text": [
      "clear session data 4 8967696384\n",
      "bar performance -0.7106830556219144\n",
      "clear session data 4 9375588352\n",
      "bar performance -0.625\n",
      "clear session data 4 9662603264\n",
      "bar performance -0.4891030844155845\n",
      "clear session data 4 9663340544\n",
      "bar performance -0.38822279851374675\n",
      "clear session data 4 9590251520\n",
      "bar performance -0.3536973443223443\n",
      "clear session data 4 9589633024\n",
      "bar performance -0.42406116742054245\n",
      "clear session data 4 9590087680\n",
      "bar performance -0.19311191304842917\n",
      "clear session data 4 9589981184\n",
      "bar performance -0.20116281288156293\n",
      "clear session data 4 9590439936\n",
      "bar performance -0.25242127664002667\n",
      "clear session data 4 9590878208\n",
      "bar performance -0.1902645097957598\n",
      "clear session data 4 9590267904\n",
      "bar performance -0.1977807782495282\n",
      "clear session data 4 9590452224\n",
      "bar performance -0.41302872474747476\n",
      "clear session data 4 9590628352\n",
      "bar performance -0.35622281364468866\n"
     ]
    }
   ],
   "source": [
    "# moving bar train, noise = 0.0\n",
    "trial = 300\n",
    "tasks = [ 'bar']\n",
    "episodes = [30]\n",
    "# iterations = [1, 1, 1, 1, 1, 1, 1]\n",
    "for n, task in zip(episodes, tasks):\n",
    "        Task =  MultipleTasks(task = task, weight_write = 'weights_cpu/rnn_1515tanh512_checkpoint{}'.format(trial)\\\n",
    "                              , noise = 0.0)\n",
    "        weight_read = Task.weight\n",
    "        weight_write = 'weights_' + task + '/rnn_1515tanh512_checkpoint{}'.format(trial)\n",
    "        if task == 'scale':\n",
    "            size_train = np.arange(10, 51, 10)\n",
    "        else:\n",
    "            size_train = [15]\n",
    "        if (task == 'hole') or (task == 'bar'):\n",
    "            iterations = 5\n",
    "            epochs = 100\n",
    "        else:\n",
    "            iterations = 50\n",
    "            epochs = 10\n",
    "        print ('start', size_train)\n",
    "        Task.qlearn(task, weight_read,  weight_write, episodes = n, noise = 0, size_train = size_train, size_test=[15], iterations = iterations\n",
    "                   , epochs = epochs)"
   ]
  },
  {
   "cell_type": "code",
   "execution_count": null,
   "metadata": {},
   "outputs": [],
   "source": []
  },
  {
   "cell_type": "markdown",
   "metadata": {},
   "source": [
    "### measure decoding "
   ]
  },
  {
   "cell_type": "markdown",
   "metadata": {},
   "source": [
    "Decoding accuracy decreases, there are two possible reasons: \n",
    "1, decoding has bias,  information of position is only refleted by decoding, if there is certain bias , it is not trustable\n",
    "2, it is the real measure of information, so there are less spatial information about space, or an effect decoupling/disentanglement of position. This can be due the network succeed at finding an even lower diemnsion object which gives successful performance.  The representation deceases its information to input in a sense. \n",
    "\n",
    "This can be linked to receptive field by looking at how space is represented. "
   ]
  },
  {
   "cell_type": "code",
   "execution_count": null,
   "metadata": {},
   "outputs": [],
   "source": []
  }
 ],
 "metadata": {
  "anaconda-cloud": {},
  "kernelspec": {
   "display_name": "Python 3",
   "language": "python",
   "name": "python3"
  },
  "language_info": {
   "codemirror_mode": {
    "name": "ipython",
    "version": 3
   },
   "file_extension": ".py",
   "mimetype": "text/x-python",
   "name": "python",
   "nbconvert_exporter": "python",
   "pygments_lexer": "ipython3",
   "version": "3.7.3"
  },
  "latex_envs": {
   "LaTeX_envs_menu_present": true,
   "autoclose": false,
   "autocomplete": true,
   "bibliofile": "biblio.bib",
   "cite_by": "apalike",
   "current_citInitial": 1,
   "eqLabelWithNumbers": true,
   "eqNumInitial": 1,
   "hotkeys": {
    "equation": "Ctrl-E",
    "itemize": "Ctrl-I"
   },
   "labels_anchors": false,
   "latex_user_defs": false,
   "report_style_numbering": false,
   "user_envs_cfg": false
  },
  "toc": {
   "nav_menu": {},
   "number_sections": true,
   "sideBar": true,
   "skip_h1_title": false,
   "title_cell": "Table of Contents",
   "title_sidebar": "Contents",
   "toc_cell": true,
   "toc_position": {
    "height": "759px",
    "left": "0px",
    "right": "1228px",
    "top": "67px",
    "width": "212px"
   },
   "toc_section_display": "block",
   "toc_window_display": true
  },
  "varInspector": {
   "cols": {
    "lenName": 16,
    "lenType": 16,
    "lenVar": 40
   },
   "kernels_config": {
    "python": {
     "delete_cmd_postfix": "",
     "delete_cmd_prefix": "del ",
     "library": "var_list.py",
     "varRefreshCmd": "print(var_dic_list())"
    },
    "r": {
     "delete_cmd_postfix": ") ",
     "delete_cmd_prefix": "rm(",
     "library": "var_list.r",
     "varRefreshCmd": "cat(var_dic_list()) "
    }
   },
   "types_to_exclude": [
    "module",
    "function",
    "builtin_function_or_method",
    "instance",
    "_Feature"
   ],
   "window_display": false
  }
 },
 "nbformat": 4,
 "nbformat_minor": 4
}
