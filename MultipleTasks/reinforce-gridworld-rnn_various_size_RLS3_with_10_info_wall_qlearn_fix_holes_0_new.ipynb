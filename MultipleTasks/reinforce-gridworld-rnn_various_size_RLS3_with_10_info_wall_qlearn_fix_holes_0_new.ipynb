{
 "cells": [
  {
   "cell_type": "markdown",
   "metadata": {
    "toc": "true"
   },
   "source": [
    "<h1>Table of Contents<span class=\"tocSkip\"></span></h1>\n",
    "<div class=\"toc\"><ul class=\"toc-item\"><li><span><a href=\"#quick-start\" data-toc-modified-id=\"quick-start-1\"><span class=\"toc-item-num\">1&nbsp;&nbsp;</span>quick start</a></span><ul class=\"toc-item\"><li><span><a href=\"#Resources\" data-toc-modified-id=\"Resources-1.1\"><span class=\"toc-item-num\">1.1&nbsp;&nbsp;</span>Resources</a></span></li></ul></li><li><span><a href=\"#FULL-MODEL\" data-toc-modified-id=\"FULL-MODEL-2\"><span class=\"toc-item-num\">2&nbsp;&nbsp;</span>FULL MODEL</a></span><ul class=\"toc-item\"><li><span><a href=\"#Packages\" data-toc-modified-id=\"Packages-2.1\"><span class=\"toc-item-num\">2.1&nbsp;&nbsp;</span>Packages</a></span><ul class=\"toc-item\"><li><span><a href=\"#Qnetwork\" data-toc-modified-id=\"Qnetwork-2.1.1\"><span class=\"toc-item-num\">2.1.1&nbsp;&nbsp;</span>Qnetwork</a></span></li></ul></li><li><span><a href=\"#POMDP-RNN-Game\" data-toc-modified-id=\"POMDP-RNN-Game-2.2\"><span class=\"toc-item-num\">2.2&nbsp;&nbsp;</span>POMDP RNN Game</a></span></li><li><span><a href=\"#Results\" data-toc-modified-id=\"Results-2.3\"><span class=\"toc-item-num\">2.3&nbsp;&nbsp;</span>Results</a></span><ul class=\"toc-item\"><li><span><a href=\"#Standard-setting：-grid-=--(3,7)，-holes-=-0\" data-toc-modified-id=\"Standard-setting：-grid-=--(3,7)，-holes-=-0-2.3.1\"><span class=\"toc-item-num\">2.3.1&nbsp;&nbsp;</span>Standard setting： grid =  (3,7)， holes = 0</a></span></li><li><span><a href=\"#Model-Tranining\" data-toc-modified-id=\"Model-Tranining-2.3.2\"><span class=\"toc-item-num\">2.3.2&nbsp;&nbsp;</span>Model Tranining</a></span></li><li><span><a href=\"#decoding-vs-performance\" data-toc-modified-id=\"decoding-vs-performance-2.3.3\"><span class=\"toc-item-num\">2.3.3&nbsp;&nbsp;</span>decoding vs performance</a></span></li><li><span><a href=\"#learning-rate-vs-performance\" data-toc-modified-id=\"learning-rate-vs-performance-2.3.4\"><span class=\"toc-item-num\">2.3.4&nbsp;&nbsp;</span>learning rate vs performance</a></span></li><li><span><a href=\"#Summary\" data-toc-modified-id=\"Summary-2.3.5\"><span class=\"toc-item-num\">2.3.5&nbsp;&nbsp;</span>Summary</a></span></li><li><span><a href=\"#Anlytic-part-,-check-the-behaviour-correspond-to-each-decoding-level-and-explain-why\" data-toc-modified-id=\"Anlytic-part-,-check-the-behaviour-correspond-to-each-decoding-level-and-explain-why-2.3.6\"><span class=\"toc-item-num\">2.3.6&nbsp;&nbsp;</span>Anlytic part , check the behaviour correspond to each decoding level and explain why</a></span></li></ul></li><li><span><a href=\"#PCA\" data-toc-modified-id=\"PCA-2.4\"><span class=\"toc-item-num\">2.4&nbsp;&nbsp;</span>PCA</a></span></li></ul></li></ul></div>"
   ]
  },
  {
   "cell_type": "markdown",
   "metadata": {},
   "source": [
    "# quick start "
   ]
  },
  {
   "cell_type": "markdown",
   "metadata": {},
   "source": [
    "Test what is the decoding change for single size training "
   ]
  },
  {
   "cell_type": "markdown",
   "metadata": {},
   "source": [
    "## Resources\n",
    "\n",
    "* [*The* Reinforcement learning book from Sutton & Barto](http://incompleteideas.net/sutton/book/the-book-2nd.html)\n",
    "* [The REINFORCE paper from Ronald J. Williams (1992)](http://www-anw.cs.umass.edu/~barto/courses/cs687/williams92simple.pdf)\n"
   ]
  },
  {
   "cell_type": "markdown",
   "metadata": {},
   "source": [
    "# FULL MODEL"
   ]
  },
  {
   "cell_type": "markdown",
   "metadata": {},
   "source": [
    "## Packages"
   ]
  },
  {
   "cell_type": "code",
   "execution_count": 1,
   "metadata": {},
   "outputs": [],
   "source": [
    "%load_ext autoreload\n",
    "%autoreload 2\n",
    "\n",
    "import numpy as np\n",
    "from itertools import count\n",
    "import random\n",
    "\n",
    "import torch\n",
    "import torch.nn as nn\n",
    "import torch.nn.functional as F\n",
    "import torch.optim as optim\n",
    "import torch.autograd as autograd\n",
    "from torch.autograd import Variable\n",
    "from torch.nn import init\n",
    "from torch.nn import DataParallel\n",
    "\n",
    "import matplotlib.mlab as mlab\n",
    "import matplotlib.pyplot as plt\n",
    "import matplotlib.animation\n",
    "from IPython.display import HTML\n",
    "\n",
    "import POMDPgame_bars\n",
    "from POMDPgame_bars import*\n",
    "\n",
    "import POMDPgame_basic\n",
    "from POMDPgame_basic import*\n",
    "\n",
    "import POMDPgame_holes\n",
    "from POMDPgame_holes import*\n",
    "\n",
    "\n",
    "import RNN\n",
    "from RNN import *\n",
    "\n",
    "import navigation2\n",
    "from navigation2 import*\n",
    "\n",
    "import Nets\n",
    "from Nets import*"
   ]
  },
  {
   "cell_type": "markdown",
   "metadata": {},
   "source": [
    "### Qnetwork\n",
    "\n",
    "To select actions we take maximum of Q value, corresponding to certain move."
   ]
  },
  {
   "cell_type": "markdown",
   "metadata": {},
   "source": [
    "For the liquid state approach to work, you need a lot of neurons as surplus or enough hidden to hidden connectivity to make it have an effect."
   ]
  },
  {
   "cell_type": "markdown",
   "metadata": {},
   "source": [
    "##  POMDP RNN Game\n",
    "\n",
    "In this game , we use a new reward function determined by game, if the agent achieves the goal before 50, reward is 1. If time pass 50 reward is 0.5, once time pass 100 agent gets a reward of -0.5 .  Practically, this is found to be easier to learn than the rewards as a continous function of time.  Tf the agent learns to search in a efficient way, the largest possible way for search is to firstly arrive at corner then goes to the goal, which, takes about 50 steps, it is reasonble to make 50 and 100 as milestone thing.  Also in principe as the game doesn't have a timer , it is not if it can use a reward as funtion of time"
   ]
  },
  {
   "cell_type": "markdown",
   "metadata": {},
   "source": [
    "3 condition for ending , when pass time limit, game over"
   ]
  },
  {
   "cell_type": "markdown",
   "metadata": {},
   "source": [
    "For weight update, it seems to be better do it after episode, as it makes non-sense evaluate strategy during episode, but a the end. Also, it is much quicker. "
   ]
  },
  {
   "cell_type": "markdown",
   "metadata": {},
   "source": [
    "A programming of MDP here, hidden state is as state of enviroment"
   ]
  },
  {
   "cell_type": "code",
   "execution_count": 2,
   "metadata": {},
   "outputs": [
    {
     "data": {
      "text/plain": [
       "<matplotlib.image.AxesImage at 0x7fe33ee9fe48>"
      ]
     },
     "execution_count": 2,
     "metadata": {},
     "output_type": "execute_result"
    },
    {
     "data": {
      "image/png": "[encoded data removed]",
      "text/plain": [
       "<Figure size 288x288 with 1 Axes>"
      ]
     },
     "metadata": {
      "needs_background": "light"
     },
     "output_type": "display_data"
    },
    {
     "data": {
      "image/png": "[encoded data removed]",
      "text/plain": [
       "<Figure size 288x288 with 1 Axes>"
      ]
     },
     "metadata": {
      "needs_background": "light"
     },
     "output_type": "display_data"
    },
    {
     "data": {
      "image/png": "[encoded data removed]",
      "text/plain": [
       "<Figure size 288x288 with 1 Axes>"
      ]
     },
     "metadata": {
      "needs_background": "light"
     },
     "output_type": "display_data"
    },
    {
     "data": {
      "image/png": "[encoded data removed]",
      "text/plain": [
       "<Figure size 288x288 with 1 Axes>"
      ]
     },
     "metadata": {
      "needs_background": "light"
     },
     "output_type": "display_data"
    },
    {
     "data": {
      "image/png": "[encoded data removed]",
      "text/plain": [
       "<Figure size 768x288 with 1 Axes>"
      ]
     },
     "metadata": {
      "needs_background": "light"
     },
     "output_type": "display_data"
    },
    {
     "data": {
      "image/png": "[encoded data removed]",
      "text/plain": [
       "<Figure size 288x493.714 with 1 Axes>"
      ]
     },
     "metadata": {
      "needs_background": "light"
     },
     "output_type": "display_data"
    },
    {
     "data": {
      "image/png": "[encoded data removed]",
      "text/plain": [
       "<Figure size 288x288 with 1 Axes>"
      ]
     },
     "metadata": {
      "needs_background": "light"
     },
     "output_type": "display_data"
    }
   ],
   "source": [
    "basicgame = CreateGame(GameBasic, holes = 0)\n",
    "basicgame.reset(size = 15, reward_control=0)\n",
    "plt.matshow(basicgame.grid.grid)\n",
    "\n",
    "holegame = CreateGame(GameHole, holes = 50)\n",
    "holegame.reset(size = 15, reward_control=0)\n",
    "plt.matshow(holegame.grid.grid)\n",
    "\n",
    "bargame = CreateGame(GameBar, holes = 0)\n",
    "bargame.reset(size = 15, reward_control=0)\n",
    "plt.matshow(bargame.grid.grid)\n",
    "\n",
    "scalegame = CreateGame(GameScale, holes = 0)\n",
    "scalegame.reset(reward_control=0)\n",
    "plt.matshow(scalegame.grid.grid)\n",
    "\n",
    "scalegame_x = CreateGame(GameScale_x, holes = 0)\n",
    "scalegame_x.reset(reward_control=0)\n",
    "plt.matshow(scalegame_x.grid.grid)\n",
    "\n",
    "scalegame_y = CreateGame(GameScale_y, holes = 0)\n",
    "scalegame_y.reset(reward_control=0)\n",
    "plt.matshow(scalegame_y.grid.grid)\n",
    "\n",
    "Imp_game = CreateGame(GameImplicit, holes = 0)\n",
    "Imp_game.reset(size = 15, reward_control=0)\n",
    "plt.matshow(Imp_game.grid.grid)"
   ]
  },
  {
   "cell_type": "markdown",
   "metadata": {},
   "source": [
    "Think of how to make this traning stable, adding exploration noise , intenral noise or environmental variability like multiple mazes  "
   ]
  },
  {
   "cell_type": "code",
   "execution_count": 2,
   "metadata": {},
   "outputs": [
    {
     "name": "stdout",
     "output_type": "stream",
     "text": [
      "basic\n",
      "start [15]\n"
     ]
    },
    {
     "name": "stderr",
     "output_type": "stream",
     "text": [
      "/home/tie/.conda/envs/torch/lib/python3.7/site-packages/torch/tensor.py:339: UserWarning: non-inplace resize is deprecated\n",
      "  warnings.warn(\"non-inplace resize is deprecated\")\n"
     ]
    },
    {
     "name": "stdout",
     "output_type": "stream",
     "text": [
      "clear session data 49 1139494912\n",
      "0 rewards 0.3540274784482758\n",
      "clear session data 49 1133654016\n",
      "1 rewards 0.9644293369391026\n",
      "clear session data 49 1133654016\n",
      "2 rewards 0.9654296875\n",
      "clear session data 49 1134194688\n",
      "3 rewards 0.9833647629310345\n",
      "clear session data 49 1134465024\n",
      "4 rewards 0.953125\n",
      "clear session data 49 1134735360\n",
      "5 rewards 0.9375\n",
      "clear session data 49 1134735360\n",
      "6 rewards 0.9366736778846154\n",
      "clear session data 49 1134735360\n",
      "7 rewards 0.9970005580357143\n",
      "clear session data 49 1135005696\n",
      "8 rewards 0.968682650862069\n",
      "clear session data 49 1135005696\n",
      "9 rewards 0.9215494791666667\n",
      "hole\n",
      "start [15]\n",
      "clear session data 49 1145655296\n",
      "0 rewards -0.23478190104166669\n",
      "clear session data 49 1235206144\n",
      "1 rewards 0.07763671875\n",
      "clear session data 49 1235206144\n",
      "2 rewards 0.2740852864583333\n",
      "clear session data 49 1235206144\n",
      "3 rewards 0.41834095266712457\n",
      "clear session data 49 1235206144\n",
      "4 rewards 0.3716869836566092\n",
      "clear session data 49 1235206144\n",
      "5 rewards 0.33887899210164835\n",
      "clear session data 49 1235206144\n",
      "6 rewards 0.3852494348099817\n",
      "clear session data 49 1235206144\n",
      "7 rewards 0.1208320650703463\n",
      "clear session data 49 1235206144\n",
      "8 rewards 0.21091446314102563\n",
      "clear session data 49 1235206144\n",
      "9 rewards 0.15358072916666665\n",
      "clear session data 49 1240604672\n",
      "10 rewards -0.033071664663461536\n",
      "clear session data 49 1240604672\n",
      "11 rewards 0.1844540550595238\n",
      "clear session data 49 1240604672\n",
      "12 rewards 0.058691406249999994\n",
      "clear session data 49 1240875008\n",
      "13 rewards 0.20257411858974358\n",
      "clear session data 49 1240875008\n",
      "14 rewards 0.32361295930631867\n",
      "clear session data 49 1240875008\n",
      "15 rewards 0.33931365307644945\n",
      "clear session data 49 1240875008\n",
      "16 rewards 0.2883730532892036\n",
      "clear session data 49 1240875008\n",
      "17 rewards 0.21418706506765509\n",
      "clear session data 49 1240940544\n",
      "18 rewards 0.24932570684523808\n",
      "clear session data 49 1240940544\n",
      "19 rewards 0.2133675388558201\n",
      "clear session data 49 1240940544\n",
      "20 rewards 0.280029296875\n",
      "clear session data 49 1241210880\n",
      "21 rewards 0.029668898809523808\n",
      "clear session data 49 1241210880\n",
      "22 rewards 0.22853565705128204\n",
      "clear session data 49 1241210880\n",
      "23 rewards 0.15044559932255244\n",
      "clear session data 49 1241481216\n",
      "24 rewards 0.21117234002976193\n",
      "clear session data 49 1241481216\n",
      "25 rewards 0.24938933954091902\n",
      "clear session data 49 1241481216\n",
      "26 rewards 0.12143322172619048\n",
      "clear session data 49 1235361792\n",
      "27 rewards 0.12421650502873563\n",
      "clear session data 49 1241575424\n",
      "28 rewards 0.21634114583333333\n",
      "clear session data 49 1241575424\n",
      "29 rewards -0.037280801880411246\n",
      "bar\n",
      "start [15]\n",
      "clear session data 49 1244815360\n",
      "0 rewards -0.20370986435439561\n",
      "clear session data 49 1244815360\n",
      "1 rewards 0.35657085427593244\n",
      "clear session data 49 1244815360\n",
      "2 rewards 0.4493035478774299\n",
      "clear session data 49 1244815360\n",
      "3 rewards 0.3072239351435203\n",
      "clear session data 49 1244815360\n",
      "4 rewards 0.3575846354166667\n",
      "clear session data 49 1244815360\n",
      "5 rewards 0.544579326923077\n",
      "clear session data 49 1244815360\n",
      "6 rewards 0.32454427083333337\n",
      "clear session data 49 1244815360\n",
      "7 rewards 0.45106882406152693\n",
      "clear session data 49 1244815360\n",
      "8 rewards 0.21577440137987014\n",
      "clear session data 49 1244815360\n",
      "9 rewards 0.483154296875\n",
      "clear session data 49 1244815360\n",
      "10 rewards 0.37227973849067597\n",
      "clear session data 49 1244815360\n",
      "11 rewards 0.35258246527777776\n",
      "clear session data 49 1244815360\n",
      "12 rewards 0.3715635926573426\n",
      "clear session data 49 1244815360\n",
      "13 rewards 0.3407814926242236\n",
      "clear session data 49 1244815360\n",
      "14 rewards 0.404340337396978\n",
      "clear session data 49 1244815360\n",
      "15 rewards 0.24896441449175824\n",
      "clear session data 49 1244815360\n",
      "16 rewards 0.43343098958333337\n",
      "clear session data 49 1244815360\n",
      "17 rewards 0.3078812210648148\n",
      "clear session data 49 1244815360\n",
      "18 rewards 0.5461588541666667\n",
      "clear session data 49 1244815360\n",
      "19 rewards 0.29518229166666665\n",
      "clear session data 49 1244815360\n",
      "20 rewards 0.4482830780480295\n",
      "clear session data 49 1244815360\n",
      "21 rewards 0.42064742090017826\n",
      "clear session data 49 1244815360\n",
      "22 rewards 0.36975808118386244\n",
      "clear session data 49 1244815360\n",
      "23 rewards 0.3405459449404762\n",
      "clear session data 49 1244815360\n",
      "24 rewards 0.40304732646125424\n",
      "clear session data 49 1244815360\n",
      "25 rewards 0.4167993790064103\n",
      "clear session data 49 1244815360\n",
      "26 rewards 0.3419621394230769\n",
      "clear session data 49 1244815360\n",
      "27 rewards 0.46518930288461535\n",
      "clear session data 49 1244815360\n",
      "28 rewards 0.3539713541666667\n",
      "clear session data 49 1244815360\n",
      "29 rewards 0.4454630980998169\n",
      "scale\n",
      "start [10 20 30 40 50]\n",
      "clear session data 49 6107037696\n",
      "0 rewards 0.10914963942307693\n",
      "clear session data 49 6106775552\n",
      "1 rewards 0.4492911873282967\n",
      "clear session data 49 7674978304\n",
      "2 rewards 0.8245416019863757\n",
      "clear session data 49 7034757120\n",
      "3 rewards 0.5426552048494984\n",
      "clear session data 49 7034757120\n",
      "4 rewards 0.6026254973796584\n",
      "clear session data 49 7034494976\n",
      "5 rewards 0.2870774836310896\n",
      "clear session data 49 7034494976\n",
      "6 rewards 0.6415775955815018\n",
      "clear session data 49 7034494976\n",
      "7 rewards 0.6833174800459958\n",
      "clear session data 49 7034494976\n",
      "8 rewards 0.5459123883928572\n",
      "clear session data 49 7319584768\n",
      "9 rewards 0.6668046652421652\n",
      "scale_x\n",
      "start [15]\n",
      "clear session data 49 7034458112\n",
      "0 rewards -0.4942120507443306\n",
      "clear session data 49 7034458112\n",
      "1 rewards -0.25613492251572423\n",
      "clear session data 49 7034458112\n",
      "2 rewards -0.25911939786243565\n",
      "clear session data 49 7034458112\n",
      "3 rewards 0.3876007450355676\n",
      "clear session data 49 7034458112\n",
      "4 rewards 0.7233760408914006\n",
      "clear session data 49 7034458112\n",
      "5 rewards 0.599100693101793\n",
      "clear session data 49 7034458112\n",
      "6 rewards 0.3546640100351037\n",
      "clear session data 49 7034458112\n",
      "7 rewards 0.7490556576298373\n",
      "clear session data 49 7034458112\n",
      "8 rewards 0.8502419942500224\n",
      "clear session data 49 7034458112\n",
      "9 rewards 0.8603069340485666\n",
      "clear session data 49 7034458112\n",
      "10 rewards 0.6376323511175304\n",
      "clear session data 49 7034458112\n",
      "11 rewards 0.823091026513671\n",
      "clear session data 49 7034458112\n",
      "12 rewards 0.8160521880318667\n",
      "clear session data 49 7034458112\n",
      "13 rewards 0.7584697835011062\n",
      "clear session data 49 7034458112\n",
      "14 rewards 0.568608524275459\n",
      "clear session data 49 7034458112\n",
      "15 rewards 0.7964294977777298\n",
      "clear session data 49 7034458112\n",
      "16 rewards 0.8684982925356377\n",
      "clear session data 49 7034458112\n",
      "17 rewards 0.6715591140327696\n",
      "clear session data 49 7034458112\n",
      "18 rewards 0.7329664633378725\n",
      "clear session data 49 7034458112\n",
      "19 rewards 0.75802607866816\n",
      "clear session data 49 7034458112\n",
      "20 rewards 0.6764212093292427\n",
      "clear session data 49 7034458112\n",
      "21 rewards 0.7426498382876283\n",
      "clear session data 49 7034458112\n",
      "22 rewards 0.696225805164268\n",
      "clear session data 49 7034458112\n",
      "23 rewards 0.7092931004045968\n",
      "clear session data 49 7034458112\n",
      "24 rewards 0.7400857825571832\n",
      "clear session data 49 7034458112\n",
      "25 rewards 0.5921595982142858\n",
      "clear session data 49 7034458112\n",
      "26 rewards 0.7377351203058532\n",
      "clear session data 49 7034458112\n",
      "27 rewards 0.5735566319376308\n",
      "clear session data 49 7034458112\n",
      "28 rewards 0.699600883152174\n",
      "clear session data 49 7034458112\n",
      "29 rewards 0.6013967340837454\n",
      "scale_y\n",
      "start [15]\n",
      "clear session data 49 5799194624\n",
      "0 rewards -0.6266837284482758\n",
      "clear session data 49 5799194624\n",
      "1 rewards -0.5010789160203223\n",
      "clear session data 49 5799194624\n",
      "2 rewards -0.26932553292164013\n",
      "clear session data 49 5799194624\n",
      "3 rewards 0.2601554813703136\n",
      "clear session data 49 5799194624\n",
      "4 rewards 0.014784501763668412\n",
      "clear session data 49 5799194624\n",
      "5 rewards -0.11260801373106061\n",
      "clear session data 49 5799194624\n",
      "6 rewards 0.01540824127189469\n",
      "clear session data 49 5799194624\n",
      "7 rewards -0.014055540734399158\n",
      "clear session data 49 5799194624\n",
      "8 rewards 0.45469319325005564\n",
      "clear session data 49 5799194624\n",
      "9 rewards 0.4758213718271095\n",
      "clear session data 49 5799194624\n",
      "10 rewards 0.4674947590031055\n",
      "clear session data 49 5799194624\n",
      "11 rewards 0.3945126040279726\n",
      "clear session data 49 5799194624\n",
      "12 rewards 0.44592758719264214\n",
      "clear session data 49 5799194624\n",
      "13 rewards 0.42846860589112445\n",
      "clear session data 49 5799194624\n",
      "14 rewards 0.5337564156883818\n",
      "clear session data 49 5799194624\n",
      "15 rewards 0.4919727750361743\n",
      "clear session data 49 5799194624\n",
      "16 rewards 0.468361177109116\n",
      "clear session data 49 5799194624\n",
      "17 rewards 0.512245693966922\n",
      "clear session data 49 5799194624\n",
      "18 rewards 0.28640648113131306\n",
      "clear session data 49 5799194624\n",
      "19 rewards 0.5264584575671412\n",
      "clear session data 49 5799194624\n",
      "20 rewards -0.2113110958376314\n",
      "clear session data 49 5799194624\n",
      "21 rewards 0.20320219040138865\n",
      "clear session data 49 5799194624\n",
      "22 rewards -0.039905187585851654\n",
      "clear session data 49 5799194624\n",
      "23 rewards -0.09232158561417683\n",
      "clear session data 49 5799194624\n",
      "24 rewards -0.0078071536695927535\n",
      "clear session data 49 5799194624\n",
      "25 rewards 0.18333531247029303\n",
      "clear session data 49 5799194624\n",
      "26 rewards 0.41161443822377825\n",
      "clear session data 49 5799194624\n",
      "27 rewards 0.5395517176085014\n",
      "clear session data 49 5799194624\n",
      "28 rewards 0.19222194591806663\n",
      "clear session data 49 5799194624\n",
      "29 rewards 0.12851074793956235\n",
      "implicit\n",
      "start [15]\n",
      "clear session data 49 5799194624\n",
      "0 rewards 0.5301307091346154\n",
      "clear session data 49 5799194624\n",
      "1 rewards 0.9513392857142857\n",
      "clear session data 49 5799194624\n",
      "2 rewards 0.952530570652174\n",
      "clear session data 49 5799194624\n",
      "3 rewards 0.8861310040509258\n",
      "clear session data 49 5799194624\n",
      "4 rewards 0.8423510880077985\n",
      "clear session data 49 5799194624\n",
      "5 rewards 0.9504957932692308\n",
      "clear session data 49 5799194624\n",
      "6 rewards 0.9810073390151515\n",
      "clear session data 49 5799194624\n",
      "7 rewards 0.90625\n",
      "clear session data 49 5799194624\n",
      "8 rewards 0.9935759715544872\n",
      "clear session data 49 5799194624\n",
      "9 rewards 0.9354146447981366\n",
      "clear session data 49 5799194624\n",
      "10 rewards 0.902917736010467\n",
      "clear session data 49 5799194624\n",
      "11 rewards 0.9673549107142857\n",
      "clear session data 49 5799194624\n",
      "12 rewards 0.9055641612787356\n",
      "clear session data 49 5799194624\n",
      "13 rewards 0.9527994791666666\n",
      "clear session data 49 5799194624\n",
      "14 rewards 0.9043666294642857\n",
      "clear session data 49 5799194624\n",
      "15 rewards 0.9018289032567051\n",
      "clear session data 49 5799194624\n",
      "16 rewards 0.9285716670482296\n",
      "clear session data 49 5799194624\n",
      "17 rewards 0.9192082331730769\n",
      "clear session data 49 5799194624\n",
      "18 rewards 0.9811857045807453\n",
      "clear session data 49 5799194624\n",
      "19 rewards 0.921155427631579\n",
      "clear session data 49 5799194624\n",
      "20 rewards 0.9198400297619047\n",
      "clear session data 49 5799194624\n",
      "21 rewards 0.9022219479739011\n",
      "clear session data 49 5799194624\n",
      "22 rewards 0.9494091303661616\n",
      "clear session data 49 5799194624\n",
      "23 rewards 0.9950015458103942\n",
      "clear session data 49 5799194624\n",
      "24 rewards 0.9318672250493887\n",
      "clear session data 49 5799194624\n",
      "25 rewards 0.9602845992982711\n",
      "clear session data 49 5799194624\n",
      "26 rewards 0.9134167838168377\n",
      "clear session data 49 5799194624\n",
      "27 rewards 0.9652561334040322\n",
      "clear session data 49 5799194624\n",
      "28 rewards 0.9338578705879281\n",
      "clear session data 49 5799194624\n",
      "29 rewards 0.8101219654528479\n"
     ]
    }
   ],
   "source": [
    "# moving bar train\n",
    "trial = 399\n",
    "tasks = ['basic', 'hole', 'bar', 'scale', 'scale_x', 'scale_y', 'implicit']\n",
    "iterations = [10, 30, 30, 10, 30, 30, 30]\n",
    "# iterations = [1, 1, 1, 1, 1, 1, 1]\n",
    "for iters, task in zip(iterations, tasks):\n",
    "        Task =  MultipleTasks(task = task, weight_write = 'weights_cpu/rnn_1515tanh512_checkpoint{}'.format(trial))\n",
    "        weight_read = Task.weight\n",
    "        weight_write = 'weights_' + task + '/rnn_1515tanh512_checkpoint{}'.format(trial)\n",
    "        if task == 'scale':\n",
    "            size_train = np.arange(10, 51, 10)\n",
    "        else:\n",
    "            size_train = [15]\n",
    "        print ('start', size_train)\n",
    "        Task.qlearn(weight_read,  weight_write, iterations = iters, noise = 0, size_train = size_train, size_test=[15])"
   ]
  },
  {
   "cell_type": "markdown",
   "metadata": {},
   "source": [
    "### measure decoding "
   ]
  },
  {
   "cell_type": "markdown",
   "metadata": {},
   "source": [
    "Decoding accuracy decreases, there are two possible reasons: \n",
    "1, decoding has bias,  information of position is only refleted by decoding, if there is certain bias , it is not trustable\n",
    "2, it is the real measure of information, so there are less spatial information about space, or an effect decoupling/disentanglement of position. This can be due the network succeed at finding an even lower diemnsion object which gives successful performance.  The representation deceases its information to input in a sense. \n",
    "\n",
    "This can be linked to receptive field by looking at how space is represented. "
   ]
  },
  {
   "cell_type": "code",
   "execution_count": null,
   "metadata": {},
   "outputs": [],
   "source": []
  }
 ],
 "metadata": {
  "anaconda-cloud": {},
  "kernelspec": {
   "display_name": "Python 3",
   "language": "python",
   "name": "python3"
  },
  "language_info": {
   "codemirror_mode": {
    "name": "ipython",
    "version": 3
   },
   "file_extension": ".py",
   "mimetype": "text/x-python",
   "name": "python",
   "nbconvert_exporter": "python",
   "pygments_lexer": "ipython3",
   "version": "3.7.3"
  },
  "latex_envs": {
   "LaTeX_envs_menu_present": true,
   "autoclose": false,
   "autocomplete": true,
   "bibliofile": "biblio.bib",
   "cite_by": "apalike",
   "current_citInitial": 1,
   "eqLabelWithNumbers": true,
   "eqNumInitial": 1,
   "hotkeys": {
    "equation": "Ctrl-E",
    "itemize": "Ctrl-I"
   },
   "labels_anchors": false,
   "latex_user_defs": false,
   "report_style_numbering": false,
   "user_envs_cfg": false
  },
  "toc": {
   "nav_menu": {},
   "number_sections": true,
   "sideBar": true,
   "skip_h1_title": false,
   "title_cell": "Table of Contents",
   "title_sidebar": "Contents",
   "toc_cell": true,
   "toc_position": {
    "height": "759px",
    "left": "0px",
    "right": "1228px",
    "top": "67px",
    "width": "212px"
   },
   "toc_section_display": "block",
   "toc_window_display": true
  },
  "varInspector": {
   "cols": {
    "lenName": 16,
    "lenType": 16,
    "lenVar": 40
   },
   "kernels_config": {
    "python": {
     "delete_cmd_postfix": "",
     "delete_cmd_prefix": "del ",
     "library": "var_list.py",
     "varRefreshCmd": "print(var_dic_list())"
    },
    "r": {
     "delete_cmd_postfix": ") ",
     "delete_cmd_prefix": "rm(",
     "library": "var_list.r",
     "varRefreshCmd": "cat(var_dic_list()) "
    }
   },
   "types_to_exclude": [
    "module",
    "function",
    "builtin_function_or_method",
    "instance",
    "_Feature"
   ],
   "window_display": false
  }
 },
 "nbformat": 4,
 "nbformat_minor": 4
}
