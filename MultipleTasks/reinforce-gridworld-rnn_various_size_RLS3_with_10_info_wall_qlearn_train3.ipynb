{
 "cells": [
  {
   "cell_type": "markdown",
   "metadata": {
    "toc": "true"
   },
   "source": [
    "<h1>Table of Contents<span class=\"tocSkip\"></span></h1>\n",
    "<div class=\"toc\"><ul class=\"toc-item\"><li><span><a href=\"#quick-start\" data-toc-modified-id=\"quick-start-1\"><span class=\"toc-item-num\">1&nbsp;&nbsp;</span>quick start</a></span><ul class=\"toc-item\"><li><span><a href=\"#Resources\" data-toc-modified-id=\"Resources-1.1\"><span class=\"toc-item-num\">1.1&nbsp;&nbsp;</span>Resources</a></span></li></ul></li><li><span><a href=\"#FULL-MODEL\" data-toc-modified-id=\"FULL-MODEL-2\"><span class=\"toc-item-num\">2&nbsp;&nbsp;</span>FULL MODEL</a></span><ul class=\"toc-item\"><li><span><a href=\"#Packages\" data-toc-modified-id=\"Packages-2.1\"><span class=\"toc-item-num\">2.1&nbsp;&nbsp;</span>Packages</a></span><ul class=\"toc-item\"><li><span><a href=\"#Qnetwork\" data-toc-modified-id=\"Qnetwork-2.1.1\"><span class=\"toc-item-num\">2.1.1&nbsp;&nbsp;</span>Qnetwork</a></span></li></ul></li><li><span><a href=\"#POMDP-RNN-Game\" data-toc-modified-id=\"POMDP-RNN-Game-2.2\"><span class=\"toc-item-num\">2.2&nbsp;&nbsp;</span>POMDP RNN Game</a></span></li><li><span><a href=\"#Results\" data-toc-modified-id=\"Results-2.3\"><span class=\"toc-item-num\">2.3&nbsp;&nbsp;</span>Results</a></span><ul class=\"toc-item\"><li><span><a href=\"#Standard-setting：-grid-=--(3,7)，-holes-=-0\" data-toc-modified-id=\"Standard-setting：-grid-=--(3,7)，-holes-=-0-2.3.1\"><span class=\"toc-item-num\">2.3.1&nbsp;&nbsp;</span>Standard setting： grid =  (3,7)， holes = 0</a></span></li><li><span><a href=\"#Model-Tranining\" data-toc-modified-id=\"Model-Tranining-2.3.2\"><span class=\"toc-item-num\">2.3.2&nbsp;&nbsp;</span>Model Tranining</a></span></li><li><span><a href=\"#decoding-vs-performance\" data-toc-modified-id=\"decoding-vs-performance-2.3.3\"><span class=\"toc-item-num\">2.3.3&nbsp;&nbsp;</span>decoding vs performance</a></span></li><li><span><a href=\"#learning-rate-vs-performance\" data-toc-modified-id=\"learning-rate-vs-performance-2.3.4\"><span class=\"toc-item-num\">2.3.4&nbsp;&nbsp;</span>learning rate vs performance</a></span></li><li><span><a href=\"#Summary\" data-toc-modified-id=\"Summary-2.3.5\"><span class=\"toc-item-num\">2.3.5&nbsp;&nbsp;</span>Summary</a></span></li><li><span><a href=\"#Anlytic-part-,-check-the-behaviour-correspond-to-each-decoding-level-and-explain-why\" data-toc-modified-id=\"Anlytic-part-,-check-the-behaviour-correspond-to-each-decoding-level-and-explain-why-2.3.6\"><span class=\"toc-item-num\">2.3.6&nbsp;&nbsp;</span>Anlytic part , check the behaviour correspond to each decoding level and explain why</a></span></li></ul></li><li><span><a href=\"#PCA\" data-toc-modified-id=\"PCA-2.4\"><span class=\"toc-item-num\">2.4&nbsp;&nbsp;</span>PCA</a></span></li></ul></li></ul></div>"
   ]
  },
  {
   "cell_type": "markdown",
   "metadata": {},
   "source": [
    "# quick start "
   ]
  },
  {
   "cell_type": "markdown",
   "metadata": {},
   "source": [
    "Test what is the decoding change for single size training "
   ]
  },
  {
   "cell_type": "markdown",
   "metadata": {},
   "source": [
    "## Resources\n",
    "\n",
    "* [*The* Reinforcement learning book from Sutton & Barto](http://incompleteideas.net/sutton/book/the-book-2nd.html)\n",
    "* [The REINFORCE paper from Ronald J. Williams (1992)](http://www-anw.cs.umass.edu/~barto/courses/cs687/williams92simple.pdf)\n"
   ]
  },
  {
   "cell_type": "markdown",
   "metadata": {},
   "source": [
    "# FULL MODEL"
   ]
  },
  {
   "cell_type": "markdown",
   "metadata": {},
   "source": [
    "## Packages"
   ]
  },
  {
   "cell_type": "code",
   "execution_count": 1,
   "metadata": {},
   "outputs": [],
   "source": [
    "%load_ext autoreload\n",
    "%autoreload 2\n",
    "\n",
    "import numpy as np\n",
    "from itertools import count\n",
    "import random\n",
    "\n",
    "import torch\n",
    "import torch.nn as nn\n",
    "import torch.nn.functional as F\n",
    "import torch.optim as optim\n",
    "import torch.autograd as autograd\n",
    "from torch.autograd import Variable\n",
    "from torch.nn import init\n",
    "from torch.nn import DataParallel\n",
    "\n",
    "import matplotlib.mlab as mlab\n",
    "import matplotlib.pyplot as plt\n",
    "import matplotlib.animation\n",
    "from IPython.display import HTML\n",
    "\n",
    "import POMDPgame_bars\n",
    "from POMDPgame_bars import*\n",
    "\n",
    "import POMDPgame_basic\n",
    "from POMDPgame_basic import*\n",
    "\n",
    "import POMDPgame_holes\n",
    "from POMDPgame_holes import*\n",
    "\n",
    "\n",
    "import RNN\n",
    "from RNN import *\n",
    "\n",
    "import navigation2\n",
    "from navigation2 import*\n",
    "\n",
    "import Nets\n",
    "from Nets import*\n",
    "\n",
    "%matplotlib inline"
   ]
  },
  {
   "cell_type": "markdown",
   "metadata": {},
   "source": [
    "### Qnetwork\n",
    "\n",
    "To select actions we take maximum of Q value, corresponding to certain move."
   ]
  },
  {
   "cell_type": "markdown",
   "metadata": {},
   "source": [
    "For the liquid state approach to work, you need a lot of neurons as surplus or enough hidden to hidden connectivity to make it have an effect."
   ]
  },
  {
   "cell_type": "markdown",
   "metadata": {},
   "source": [
    "##  POMDP RNN Game\n",
    "\n",
    "In this game , we use a new reward function determined by game, if the agent achieves the goal before 50, reward is 1. If time pass 50 reward is 0.5, once time pass 100 agent gets a reward of -0.5 .  Practically, this is found to be easier to learn than the rewards as a continous function of time.  Tf the agent learns to search in a efficient way, the largest possible way for search is to firstly arrive at corner then goes to the goal, which, takes about 50 steps, it is reasonble to make 50 and 100 as milestone thing.  Also in principe as the game doesn't have a timer , it is not if it can use a reward as funtion of time"
   ]
  },
  {
   "cell_type": "markdown",
   "metadata": {},
   "source": [
    "3 condition for ending , when pass time limit, game over"
   ]
  },
  {
   "cell_type": "markdown",
   "metadata": {},
   "source": [
    "For weight update, it seems to be better do it after episode, as it makes non-sense evaluate strategy during episode, but a the end. Also, it is much quicker. "
   ]
  },
  {
   "cell_type": "markdown",
   "metadata": {},
   "source": [
    "A programming of MDP here, hidden state is as state of enviroment"
   ]
  },
  {
   "cell_type": "code",
   "execution_count": 2,
   "metadata": {},
   "outputs": [
    {
     "data": {
      "text/plain": [
       "<matplotlib.image.AxesImage at 0x7fa72c494898>"
      ]
     },
     "execution_count": 2,
     "metadata": {},
     "output_type": "execute_result"
    },
    {
     "data": {
      "image/png": "[encoded data removed]",
      "text/plain": [
       "<Figure size 288x288 with 1 Axes>"
      ]
     },
     "metadata": {
      "needs_background": "light"
     },
     "output_type": "display_data"
    },
    {
     "data": {
      "image/png": "[encoded data removed]",
      "text/plain": [
       "<Figure size 288x288 with 1 Axes>"
      ]
     },
     "metadata": {
      "needs_background": "light"
     },
     "output_type": "display_data"
    },
    {
     "data": {
      "image/png": "[encoded data removed]",
      "text/plain": [
       "<Figure size 288x288 with 1 Axes>"
      ]
     },
     "metadata": {
      "needs_background": "light"
     },
     "output_type": "display_data"
    },
    {
     "data": {
      "image/png": "[encoded data removed]",
      "text/plain": [
       "<Figure size 288x288 with 1 Axes>"
      ]
     },
     "metadata": {
      "needs_background": "light"
     },
     "output_type": "display_data"
    },
    {
     "data": {
      "image/png": "[encoded data removed]",
      "text/plain": [
       "<Figure size 554.667x288 with 1 Axes>"
      ]
     },
     "metadata": {
      "needs_background": "light"
     },
     "output_type": "display_data"
    },
    {
     "data": {
      "image/png": "[encoded data removed]",
      "text/plain": [
       "<Figure size 288x288 with 1 Axes>"
      ]
     },
     "metadata": {
      "needs_background": "light"
     },
     "output_type": "display_data"
    },
    {
     "data": {
      "image/png": "[encoded data removed]",
      "text/plain": [
       "<Figure size 288x288 with 1 Axes>"
      ]
     },
     "metadata": {
      "needs_background": "light"
     },
     "output_type": "display_data"
    }
   ],
   "source": [
    "basicgame = CreateGame(GameBasic, holes = 0)\n",
    "basicgame.reset(size = 15, reward_control=0)\n",
    "plt.matshow(basicgame.grid.grid)\n",
    "\n",
    "holegame = CreateGame(GameHole, holes = 50)\n",
    "holegame.reset(size = 15, reward_control=0)\n",
    "plt.matshow(holegame.grid.grid)\n",
    "\n",
    "bargame = CreateGame(GameBar, holes = 0)\n",
    "bargame.reset(size = 15, reward_control=0)\n",
    "plt.matshow(bargame.grid.grid)\n",
    "\n",
    "scalegame = CreateGame(GameScale, holes = 0)\n",
    "scalegame.reset(reward_control=0)\n",
    "plt.matshow(scalegame.grid.grid)\n",
    "\n",
    "scalegame_x = CreateGame(GameScale_x, holes = 0)\n",
    "scalegame_x.reset(reward_control=0)\n",
    "plt.matshow(scalegame_x.grid.grid)\n",
    "\n",
    "scalegame_y = CreateGame(GameScale_y, holes = 0)\n",
    "scalegame_y.reset(reward_control=0)\n",
    "plt.matshow(scalegame_y.grid.grid)\n",
    "\n",
    "Imp_game = CreateGame(GameImplicit, holes = 0)\n",
    "Imp_game.reset(size = 15, reward_control=0)\n",
    "plt.matshow(Imp_game.grid.grid)"
   ]
  },
  {
   "cell_type": "markdown",
   "metadata": {},
   "source": [
    "Think of how to make this traning stable, adding exploration noise , intenral noise or environmental variability like multiple mazes  "
   ]
  },
  {
   "cell_type": "code",
   "execution_count": null,
   "metadata": {},
   "outputs": [
    {
     "name": "stdout",
     "output_type": "stream",
     "text": [
      "basic\n",
      "start [15]\n"
     ]
    },
    {
     "name": "stderr",
     "output_type": "stream",
     "text": [
      "/home/tie/.conda/envs/torch/lib/python3.7/site-packages/torch/tensor.py:339: UserWarning: non-inplace resize is deprecated\n",
      "  warnings.warn(\"non-inplace resize is deprecated\")\n"
     ]
    },
    {
     "name": "stdout",
     "output_type": "stream",
     "text": [
      "clear session data 49 1210798080\n",
      "basic performance 0.7517686680536896\n",
      "clear session data 49 1204940800\n",
      "basic performance 0.8370619397963148\n",
      "clear session data 49 1204940800\n",
      "basic performance 0.9203314047064046\n",
      "clear session data 49 1205211136\n",
      "basic performance 0.8774539479617605\n",
      "clear session data 49 1205211136\n",
      "basic performance 0.9244897680444556\n",
      "clear session data 49 1205481472\n",
      "basic performance 0.8793055252039628\n",
      "clear session data 49 1205751808\n",
      "basic performance 0.8155631261100011\n",
      "clear session data 49 1205751808\n",
      "basic performance 0.8442307258713508\n",
      "clear session data 49 1205800960\n",
      "basic performance 0.9228416982323231\n",
      "clear session data 49 1205800960\n",
      "basic performance 0.7954435755217004\n",
      "hole\n",
      "start [15]\n",
      "clear session data 4 8824061952\n",
      "hole performance -0.5814051485339021\n",
      "clear session data 4 9496182784\n",
      "hole performance -0.6055113593315367\n",
      "clear session data 4 9526718464\n",
      "hole performance -0.34568718600091775\n",
      "clear session data 4 9588428800\n",
      "hole performance -0.2745229159457067\n",
      "clear session data 4 9531265024\n",
      "hole performance -0.3680493465850817\n",
      "clear session data 4 9531981824\n",
      "hole performance -0.25193801247253667\n",
      "clear session data 4 9496440832\n",
      "hole performance -0.18472991429220065\n",
      "clear session data 4 9557884928\n",
      "hole performance -0.1468530779837805\n",
      "clear session data 4 9531908096\n",
      "hole performance -0.04757624784059035\n",
      "clear session data 4 9527164928\n",
      "hole performance 0.011708743821456591\n",
      "clear session data 4 9588334592\n",
      "hole performance 0.11178788728242803\n",
      "clear session data 4 9589059584\n",
      "hole performance 0.13110803071914837\n",
      "clear session data 4 9589137408\n",
      "hole performance 0.2535821995139461\n",
      "clear session data 4 9588875264\n",
      "hole performance 0.24351759709740806\n",
      "clear session data 4 9588957184\n",
      "hole performance 0.34015126814426844\n",
      "clear session data 4 9588969472\n",
      "hole performance 0.26845102526305775\n",
      "clear session data 4 9589149696\n",
      "hole performance 0.2768447115784004\n",
      "clear session data 4 9588518912\n",
      "hole performance 0.37655716810665407\n",
      "clear session data 4 9531887616\n",
      "hole performance 0.4111386407423192\n",
      "clear session data 4 9527402496\n",
      "hole performance 0.383831178532119\n",
      "clear session data 4 9558507520\n",
      "hole performance 0.4182562916701048\n",
      "clear session data 4 9589129216\n",
      "hole performance 0.4157764537154207\n",
      "clear session data 4 9531686912\n",
      "hole performance 0.44916089245980434\n",
      "clear session data 4 9557823488\n",
      "hole performance 0.32126055913854346\n",
      "clear session data 4 9558274048\n",
      "hole performance 0.3526565781567286\n",
      "clear session data 4 9496850432\n",
      "hole performance 0.348339711131779\n",
      "clear session data 4 9558290432\n",
      "hole performance 0.3086390350789798\n",
      "clear session data 4 9527173120\n",
      "hole performance 0.3382574039976644\n",
      "clear session data 4 9588846592\n",
      "hole performance 0.2853201156802462\n",
      "clear session data 4 9589198848\n",
      "hole performance 0.2829320056150939\n",
      "bar\n",
      "start [15]\n",
      "clear session data 4 9255768064\n",
      "bar performance -0.7250868055555556\n",
      "clear session data 4 9804189696\n",
      "bar performance -0.7589546783625731\n",
      "clear session data 4 9833545728\n",
      "bar performance -0.6158075909961686\n",
      "clear session data 4 9833906176\n",
      "bar performance -0.3941404609882871\n",
      "clear session data 4 9834086400\n",
      "bar performance -0.4197129693223443\n",
      "clear session data 4 9833816064\n",
      "bar performance -0.3874955100574713\n",
      "clear session data 4 9833906176\n",
      "bar performance -0.43421188186813187\n",
      "clear session data 4 9834086400\n",
      "bar performance -0.357464215472028\n",
      "clear session data 4 9833816064\n",
      "bar performance -0.21207248933132086\n",
      "clear session data 4 9833459712\n",
      "bar performance -0.34886890453296704\n",
      "clear session data 4 9833910272\n",
      "bar performance -0.1902822437978688\n",
      "clear session data 4 9834090496\n",
      "bar performance -0.09710105592244601\n",
      "clear session data 4 9833459712\n",
      "bar performance -0.010488604427181997\n",
      "clear session data 4 9833910272\n",
      "bar performance 0.05397853015040513\n",
      "clear session data 4 9834090496\n",
      "bar performance 0.08666411979528756\n",
      "clear session data 4 9833459712\n",
      "bar performance 0.09703479070280045\n",
      "clear session data 4 9833639936\n",
      "bar performance 0.10302491436737041\n",
      "clear session data 4 9834086400\n",
      "bar performance 0.04792827253764756\n",
      "clear session data 4 9833906176\n",
      "bar performance 0.16259589019821774\n",
      "clear session data 4 9833816064\n",
      "bar performance 0.17784811273496617\n",
      "clear session data 4 9834086400\n",
      "bar performance 0.172830974002849\n",
      "clear session data 4 9833906176\n",
      "bar performance 0.19094171662867782\n",
      "clear session data 4 9833816064\n",
      "bar performance 0.14961056088664987\n",
      "clear session data 4 9833816064\n",
      "bar performance 0.08157923529017277\n",
      "clear session data 4 9834176512\n",
      "bar performance -0.10119266150516149\n",
      "clear session data 4 9833816064\n",
      "bar performance -0.36335546735163105\n",
      "clear session data 4 9834086400\n",
      "bar performance -0.6290922619047619\n",
      "clear session data 4 9834176512\n",
      "bar performance -0.828125\n",
      "clear session data 4 9833816064\n",
      "bar performance -0.8445581896551724\n",
      "clear session data 4 9833816064\n",
      "bar performance -0.7859375\n",
      "scale\n",
      "start [10 20 30 40 50]\n",
      "clear session data 49 9256103936\n",
      "scale performance -0.7996327645792106\n",
      "clear session data 49 10783158272\n",
      "scale performance -0.725484818725769\n",
      "clear session data 49 10709938176\n",
      "scale performance -0.869954689630966\n",
      "clear session data 49 10709938176\n",
      "scale performance -0.739838152689799\n",
      "clear session data 49 9256112128\n",
      "scale performance -0.7255974249995218\n",
      "clear session data 49 9256112128\n",
      "scale performance -0.7866527505630312\n",
      "clear session data 49 9256112128\n",
      "scale performance -0.7358722182977976\n",
      "clear session data 49 9307471872\n",
      "scale performance -0.8370049837918174\n",
      "clear session data 49 9307471872\n",
      "scale performance -0.7034869283254646\n",
      "clear session data 49 9307471872\n",
      "scale performance -0.8461538461538463\n",
      "scale_x\n",
      "start [15]\n",
      "clear session data 49 9307471872\n",
      "scale_x performance -0.368479925365374\n",
      "clear session data 49 9307471872\n",
      "scale_x performance 0.2617493162536461\n",
      "clear session data 49 9307471872\n",
      "scale_x performance 0.15439917692120164\n",
      "clear session data 49 9307471872\n",
      "scale_x performance 0.2718636280729413\n",
      "clear session data 49 9307471872\n",
      "scale_x performance 0.26639136977040245\n",
      "clear session data 49 9307471872\n",
      "scale_x performance 0.44651400561277044\n",
      "clear session data 49 9307471872\n",
      "scale_x performance 0.4322198646095423\n",
      "clear session data 49 9307471872\n",
      "scale_x performance 0.5907642146254545\n",
      "clear session data 49 9307471872\n",
      "scale_x performance 0.6309953794144365\n",
      "clear session data 49 9307471872\n",
      "scale_x performance 0.30063642413019387\n",
      "clear session data 49 9307471872\n",
      "scale_x performance 0.41638557137135296\n",
      "clear session data 49 9307471872\n",
      "scale_x performance 0.011132889763518707\n",
      "clear session data 49 9307471872\n",
      "scale_x performance 0.21877667337482837\n",
      "clear session data 49 9307471872\n",
      "scale_x performance 0.06328375984456397\n",
      "clear session data 49 9307471872\n",
      "scale_x performance -0.18221527166678705\n",
      "clear session data 49 9307471872\n",
      "scale_x performance 0.4507042701221864\n",
      "clear session data 49 9307471872\n",
      "scale_x performance 0.7283787441007682\n",
      "clear session data 49 9307471872\n",
      "scale_x performance 0.5229110827551381\n",
      "clear session data 49 9307471872\n",
      "scale_x performance 0.7782487810206441\n",
      "clear session data 49 9307471872\n",
      "scale_x performance 0.6037743761482359\n",
      "clear session data 49 9307471872\n",
      "scale_x performance 0.6936278430914957\n",
      "clear session data 49 9307471872\n",
      "scale_x performance 0.5880407355805175\n",
      "clear session data 49 9307471872\n",
      "scale_x performance 0.5269431476740583\n",
      "clear session data 49 9307471872\n",
      "scale_x performance 0.31707166782889434\n",
      "clear session data 49 9307471872\n",
      "scale_x performance 0.32830274118544134\n",
      "clear session data 49 9307471872\n",
      "scale_x performance 0.38114251647379044\n",
      "clear session data 49 9307471872\n",
      "scale_x performance 0.23592314636180717\n",
      "clear session data 49 9307471872\n",
      "scale_x performance 0.534669332116955\n",
      "clear session data 49 9307471872\n",
      "scale_x performance 0.15950242713470036\n",
      "clear session data 49 9307471872\n",
      "scale_x performance 0.5712071486544099\n",
      "scale_y\n",
      "start [15]\n",
      "clear session data 49 9307471872\n",
      "scale_y performance -0.5999197798017042\n",
      "clear session data 49 9307471872\n",
      "scale_y performance -0.602681612258261\n",
      "clear session data 49 9307471872\n",
      "scale_y performance -0.4111915752003198\n",
      "clear session data 49 9307471872\n",
      "scale_y performance -0.12302642173921133\n",
      "clear session data 49 9307471872\n",
      "scale_y performance -0.1849587309910925\n",
      "clear session data 49 9307471872\n",
      "scale_y performance -0.2388864800162358\n",
      "clear session data 49 9307471872\n",
      "scale_y performance -0.06832533685180561\n",
      "clear session data 49 9307471872\n",
      "scale_y performance -0.27652862557643987\n",
      "clear session data 49 9307471872\n",
      "scale_y performance -0.3348570944780741\n",
      "clear session data 49 9307471872\n",
      "scale_y performance -0.38326427979295075\n",
      "clear session data 49 9307471872\n",
      "scale_y performance -0.3617619138540509\n",
      "clear session data 49 9307471872\n",
      "scale_y performance -0.47506539575293827\n",
      "clear session data 49 9307471872\n",
      "scale_y performance -0.7071701785446605\n",
      "clear session data 49 9307471872\n",
      "scale_y performance -0.1573356695306889\n",
      "clear session data 49 9307471872\n",
      "scale_y performance -0.47734050839555625\n",
      "clear session data 49 9307471872\n",
      "scale_y performance -0.4908980038085751\n",
      "clear session data 49 9307471872\n",
      "scale_y performance -0.4215441488691932\n",
      "clear session data 49 9307471872\n",
      "scale_y performance -0.7787256044672075\n"
     ]
    }
   ],
   "source": [
    "# moving bar train, noise = 0.0\n",
    "trial = 350\n",
    "tasks = ['basic', 'hole', 'bar', 'scale', 'scale_x', 'scale_y', 'implicit']\n",
    "episodes = [10, 30, 30, 10, 30, 30, 30]\n",
    "# iterations = [1, 1, 1, 1, 1, 1, 1]\n",
    "for n, task in zip(episodes, tasks):\n",
    "        Task =  MultipleTasks(task = task, weight_write = 'weights_cpu/rnn_1515tanh512_checkpoint{}'.format(trial)\\\n",
    "                              , noise = 0.0)\n",
    "        weight_read = Task.weight\n",
    "        weight_write = 'weights_' + task + '/rnn_1515tanh512_checkpoint{}'.format(trial)\n",
    "        if task == 'scale':\n",
    "            size_train = np.arange(10, 51, 10)\n",
    "        else:\n",
    "            size_train = [15]\n",
    "        if (task == 'hole') or (task == 'bar'):\n",
    "            iterations = 5\n",
    "            epochs = 100\n",
    "        else:\n",
    "            iterations = 50\n",
    "            epochs = 10\n",
    "        print ('start', size_train)\n",
    "        Task.qlearn(task, weight_read,  weight_write, episodes = n, noise = 0, size_train = size_train, size_test=[15], iterations = iterations\n",
    "                   , epochs = epochs)"
   ]
  },
  {
   "cell_type": "code",
   "execution_count": null,
   "metadata": {},
   "outputs": [
    {
     "name": "stdout",
     "output_type": "stream",
     "text": [
      "task <class 'POMDPgame_bars.GameBar'>\n",
      "bar\n",
      "start [15]\n"
     ]
    },
    {
     "name": "stderr",
     "output_type": "stream",
     "text": [
      "/home/tie/.conda/envs/torch/lib/python3.7/site-packages/torch/tensor.py:339: UserWarning: non-inplace resize is deprecated\n",
      "  warnings.warn(\"non-inplace resize is deprecated\")\n"
     ]
    },
    {
     "name": "stdout",
     "output_type": "stream",
     "text": [
      "clear session data 4 8816222208\n",
      "bar performance -0.5506000905797102\n",
      "clear session data 4 9506226176\n",
      "bar performance -0.612139423076923\n",
      "clear session data 4 9641132032\n",
      "bar performance -0.34733344511092357\n",
      "clear session data 4 9672658944\n",
      "bar performance -0.28572911463536466\n",
      "clear session data 4 9672843264\n",
      "bar performance -0.3588596733127983\n",
      "clear session data 4 9642246144\n",
      "bar performance -0.3003303987678988\n",
      "clear session data 4 9641897984\n",
      "bar performance -0.32097886224584593\n",
      "clear session data 4 9641816064\n",
      "bar performance 0.084876042749157\n",
      "clear session data 4 9672724480\n",
      "bar performance 0.05261567425629926\n",
      "clear session data 4 9642663936\n",
      "bar performance 0.16304086538461537\n",
      "clear session data 4 9673187328\n",
      "bar performance 0.15470441017316017\n",
      "clear session data 4 9642323968\n",
      "bar performance 0.2024138621794872\n"
     ]
    }
   ],
   "source": [
    "# moving bar train, noise = 0.0\n",
    "trial = 350\n",
    "tasks = [ 'bar']\n",
    "episodes = [30]\n",
    "# iterations = [1, 1, 1, 1, 1, 1, 1]\n",
    "for n, task in zip(episodes, tasks):\n",
    "        Task =  MultipleTasks(task = task, weight_write = 'weights_cpu/rnn_1515tanh512_checkpoint{}'.format(trial)\\\n",
    "                              , noise = 0.0)\n",
    "        weight_read = Task.weight\n",
    "        weight_write = 'weights_' + task + '/rnn_1515tanh512_checkpoint{}'.format(trial)\n",
    "        if task == 'scale':\n",
    "            size_train = np.arange(10, 51, 10)\n",
    "        else:\n",
    "            size_train = [15]\n",
    "        if (task == 'hole') or (task == 'bar'):\n",
    "            iterations = 5\n",
    "            epochs = 100\n",
    "        else:\n",
    "            iterations = 50\n",
    "            epochs = 10\n",
    "        print ('start', size_train)\n",
    "        Task.qlearn(task, weight_read,  weight_write, episodes = n, noise = 0, size_train = size_train, size_test=[15], iterations = iterations\n",
    "                   , epochs = epochs)"
   ]
  },
  {
   "cell_type": "markdown",
   "metadata": {},
   "source": [
    "### measure decoding "
   ]
  },
  {
   "cell_type": "markdown",
   "metadata": {},
   "source": [
    "Decoding accuracy decreases, there are two possible reasons: \n",
    "1, decoding has bias,  information of position is only refleted by decoding, if there is certain bias , it is not trustable\n",
    "2, it is the real measure of information, so there are less spatial information about space, or an effect decoupling/disentanglement of position. This can be due the network succeed at finding an even lower diemnsion object which gives successful performance.  The representation deceases its information to input in a sense. \n",
    "\n",
    "This can be linked to receptive field by looking at how space is represented. "
   ]
  },
  {
   "cell_type": "code",
   "execution_count": null,
   "metadata": {},
   "outputs": [],
   "source": []
  }
 ],
 "metadata": {
  "anaconda-cloud": {},
  "kernelspec": {
   "display_name": "Python 3",
   "language": "python",
   "name": "python3"
  },
  "language_info": {
   "codemirror_mode": {
    "name": "ipython",
    "version": 3
   },
   "file_extension": ".py",
   "mimetype": "text/x-python",
   "name": "python",
   "nbconvert_exporter": "python",
   "pygments_lexer": "ipython3",
   "version": "3.7.3"
  },
  "latex_envs": {
   "LaTeX_envs_menu_present": true,
   "autoclose": false,
   "autocomplete": true,
   "bibliofile": "biblio.bib",
   "cite_by": "apalike",
   "current_citInitial": 1,
   "eqLabelWithNumbers": true,
   "eqNumInitial": 1,
   "hotkeys": {
    "equation": "Ctrl-E",
    "itemize": "Ctrl-I"
   },
   "labels_anchors": false,
   "latex_user_defs": false,
   "report_style_numbering": false,
   "user_envs_cfg": false
  },
  "toc": {
   "nav_menu": {},
   "number_sections": true,
   "sideBar": true,
   "skip_h1_title": false,
   "title_cell": "Table of Contents",
   "title_sidebar": "Contents",
   "toc_cell": true,
   "toc_position": {
    "height": "759px",
    "left": "0px",
    "right": "1228px",
    "top": "67px",
    "width": "212px"
   },
   "toc_section_display": "block",
   "toc_window_display": true
  },
  "varInspector": {
   "cols": {
    "lenName": 16,
    "lenType": 16,
    "lenVar": 40
   },
   "kernels_config": {
    "python": {
     "delete_cmd_postfix": "",
     "delete_cmd_prefix": "del ",
     "library": "var_list.py",
     "varRefreshCmd": "print(var_dic_list())"
    },
    "r": {
     "delete_cmd_postfix": ") ",
     "delete_cmd_prefix": "rm(",
     "library": "var_list.r",
     "varRefreshCmd": "cat(var_dic_list()) "
    }
   },
   "types_to_exclude": [
    "module",
    "function",
    "builtin_function_or_method",
    "instance",
    "_Feature"
   ],
   "window_display": false
  }
 },
 "nbformat": 4,
 "nbformat_minor": 4
}
