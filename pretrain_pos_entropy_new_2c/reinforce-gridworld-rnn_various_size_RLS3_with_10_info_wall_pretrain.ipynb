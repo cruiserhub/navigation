{
 "cells": [
  {
   "cell_type": "markdown",
   "metadata": {
    "toc": "true"
   },
   "source": [
    "<h1>Table of Contents<span class=\"tocSkip\"></span></h1>\n",
    "<div class=\"toc\"><ul class=\"toc-item\"><li><span><a href=\"#quick-start\" data-toc-modified-id=\"quick-start-1\"><span class=\"toc-item-num\">1&nbsp;&nbsp;</span>quick start</a></span><ul class=\"toc-item\"><li><span><a href=\"#Resources\" data-toc-modified-id=\"Resources-1.1\"><span class=\"toc-item-num\">1.1&nbsp;&nbsp;</span>Resources</a></span></li></ul></li><li><span><a href=\"#FULL-MODEL\" data-toc-modified-id=\"FULL-MODEL-2\"><span class=\"toc-item-num\">2&nbsp;&nbsp;</span>FULL MODEL</a></span><ul class=\"toc-item\"><li><span><a href=\"#Packages\" data-toc-modified-id=\"Packages-2.1\"><span class=\"toc-item-num\">2.1&nbsp;&nbsp;</span>Packages</a></span><ul class=\"toc-item\"><li><span><a href=\"#Qnetwork\" data-toc-modified-id=\"Qnetwork-2.1.1\"><span class=\"toc-item-num\">2.1.1&nbsp;&nbsp;</span>Qnetwork</a></span></li></ul></li><li><span><a href=\"#POMDP-RNN-Game\" data-toc-modified-id=\"POMDP-RNN-Game-2.2\"><span class=\"toc-item-num\">2.2&nbsp;&nbsp;</span>POMDP RNN Game</a></span></li><li><span><a href=\"#Results\" data-toc-modified-id=\"Results-2.3\"><span class=\"toc-item-num\">2.3&nbsp;&nbsp;</span>Results</a></span><ul class=\"toc-item\"><li><span><a href=\"#Standard-setting：-grid-=--(3,7)，-holes-=-0\" data-toc-modified-id=\"Standard-setting：-grid-=--(3,7)，-holes-=-0-2.3.1\"><span class=\"toc-item-num\">2.3.1&nbsp;&nbsp;</span>Standard setting： grid =  (3,7)， holes = 0</a></span></li><li><span><a href=\"#Model-Tranining\" data-toc-modified-id=\"Model-Tranining-2.3.2\"><span class=\"toc-item-num\">2.3.2&nbsp;&nbsp;</span>Model Tranining</a></span></li><li><span><a href=\"#decoding-vs-performance\" data-toc-modified-id=\"decoding-vs-performance-2.3.3\"><span class=\"toc-item-num\">2.3.3&nbsp;&nbsp;</span>decoding vs performance</a></span></li><li><span><a href=\"#learning-rate-vs-performance\" data-toc-modified-id=\"learning-rate-vs-performance-2.3.4\"><span class=\"toc-item-num\">2.3.4&nbsp;&nbsp;</span>learning rate vs performance</a></span></li><li><span><a href=\"#Summary\" data-toc-modified-id=\"Summary-2.3.5\"><span class=\"toc-item-num\">2.3.5&nbsp;&nbsp;</span>Summary</a></span></li><li><span><a href=\"#Anlytic-part-,-check-the-behaviour-correspond-to-each-decoding-level-and-explain-why\" data-toc-modified-id=\"Anlytic-part-,-check-the-behaviour-correspond-to-each-decoding-level-and-explain-why-2.3.6\"><span class=\"toc-item-num\">2.3.6&nbsp;&nbsp;</span>Anlytic part , check the behaviour correspond to each decoding level and explain why</a></span></li></ul></li><li><span><a href=\"#PCA\" data-toc-modified-id=\"PCA-2.4\"><span class=\"toc-item-num\">2.4&nbsp;&nbsp;</span>PCA</a></span></li></ul></li></ul></div>"
   ]
  },
  {
   "cell_type": "markdown",
   "metadata": {},
   "source": [
    "# quick start "
   ]
  },
  {
   "cell_type": "markdown",
   "metadata": {},
   "source": [
    "No information on wall, this very nature case which needs the exploration, try to see its relation of generalization to performance \n",
    "Pretrain from the full training, but then reduce it to h2h pre"
   ]
  },
  {
   "cell_type": "markdown",
   "metadata": {},
   "source": [
    "## Resources\n",
    "\n",
    "* [*The* Reinforcement learning book from Sutton & Barto](http://incompleteideas.net/sutton/book/the-book-2nd.html)\n",
    "* [The REINFORCE paper from Ronald J. Williams (1992)](http://www-anw.cs.umass.edu/~barto/courses/cs687/williams92simple.pdf)\n"
   ]
  },
  {
   "cell_type": "markdown",
   "metadata": {},
   "source": [
    "## Packages"
   ]
  },
  {
   "cell_type": "code",
   "execution_count": 1,
   "metadata": {},
   "outputs": [
    {
     "name": "stdout",
     "output_type": "stream",
     "text": [
      "Populating the interactive namespace from numpy and matplotlib\n"
     ]
    },
    {
     "name": "stderr",
     "output_type": "stream",
     "text": [
      "/home/xu/anaconda3/envs/torch/lib/python3.7/site-packages/IPython/core/magics/pylab.py:160: UserWarning: pylab import has clobbered these variables: ['random']\n",
      "`%matplotlib` prevents importing * from pylab and numpy\n",
      "  \"\\n`%matplotlib` prevents importing * from pylab and numpy\"\n"
     ]
    }
   ],
   "source": [
    "%load_ext autoreload\n",
    "%autoreload 2\n",
    "\n",
    "import numpy as np\n",
    "from itertools import count\n",
    "import random\n",
    "\n",
    "import torch\n",
    "import torch.nn as nn\n",
    "import torch.nn.functional as F\n",
    "import torch.optim as optim\n",
    "import torch.autograd as autograd\n",
    "from torch.autograd import Variable\n",
    "from torch.nn import init\n",
    "from torch.nn import DataParallel\n",
    "from torch.utils.data import DataLoader\n",
    "\n",
    "import matplotlib.mlab as mlab\n",
    "import matplotlib.pyplot as plt\n",
    "import matplotlib.animation\n",
    "import seaborn as sns\n",
    "from IPython.display import HTML\n",
    "\n",
    "from collections import OrderedDict\n",
    "\n",
    "\n",
    "import pretrain\n",
    "from pretrain import *\n",
    "\n",
    "import navigation2\n",
    "from navigation2 import *\n",
    "\n",
    "import Nets\n",
    "from Nets import *\n",
    "\n",
    "%pylab inline\n",
    "import warnings\n",
    "warnings.filterwarnings('ignore')"
   ]
  },
  {
   "cell_type": "markdown",
   "metadata": {},
   "source": [
    "### Qnetwork\n",
    "\n",
    "To select actions we take maximum of Q value, corresponding to certain move."
   ]
  },
  {
   "cell_type": "markdown",
   "metadata": {},
   "source": [
    "For the liquid state approach to work, you need a lot of neurons as surplus or enough hidden to hidden connectivity to make it have an effect."
   ]
  },
  {
   "cell_type": "markdown",
   "metadata": {},
   "source": [
    "##  POMDP RNN Game\n",
    "\n",
    "In this game , we use a new reward function determined by game, if the agent achieves the goal before 50, reward is 1. If time pass 50 reward is 0.5, once time pass 100 agent gets a reward of -0.5 .  Practically, this is found to be easier to learn than the rewards as a continous function of time.  Tf the agent learns to search in a efficient way, the largest possible way for search is to firstly arrive at corner then goes to the goal, which, takes about 50 steps, it is reasonble to make 50 and 100 as milestone thing.  Also in principe as the game doesn't have a timer , it is not if it can use a reward as funtion of time"
   ]
  },
  {
   "cell_type": "markdown",
   "metadata": {},
   "source": [
    "3 condition for ending , when pass time limit, game over"
   ]
  },
  {
   "cell_type": "markdown",
   "metadata": {},
   "source": [
    "For weight update, it seems to be better do it after episode, as it makes non-sense evaluate strategy during episode, but a the end. Also, it is much quicker. "
   ]
  },
  {
   "cell_type": "markdown",
   "metadata": {},
   "source": [
    "A programming of MDP here, hidden state is as state of enviroment"
   ]
  },
  {
   "cell_type": "markdown",
   "metadata": {},
   "source": [
    "## Model Tranining \n",
    "Pretranining is done with fixed size 15,  training is between 10 to 15, test on 19 "
   ]
  },
  {
   "cell_type": "markdown",
   "metadata": {},
   "source": [
    "Training from zero seems to be better because it will allow the agent to explore from new"
   ]
  },
  {
   "cell_type": "code",
   "execution_count": null,
   "metadata": {},
   "outputs": [
    {
     "name": "stdout",
     "output_type": "stream",
     "text": [
      "pretrain end tensor(32.0390, device='cuda:0', grad_fn=<NormBackward0>) tensor(2.8403, device='cuda:0', grad_fn=<NormBackward0>)\n",
      "loss for epoch: tensor(10865.5566, device='cuda:0', grad_fn=<AddBackward0>)\n",
      "pretrain end tensor(32.0511, device='cuda:0', grad_fn=<NormBackward0>) tensor(2.8584, device='cuda:0', grad_fn=<NormBackward0>)\n",
      "loss for epoch: tensor(10536.0068, device='cuda:0', grad_fn=<AddBackward0>)\n",
      "pretrain end tensor(32.0598, device='cuda:0', grad_fn=<NormBackward0>) tensor(2.8624, device='cuda:0', grad_fn=<NormBackward0>)\n",
      "loss for epoch: tensor(9805.2500, device='cuda:0', grad_fn=<AddBackward0>)\n",
      "pretrain end tensor(32.0647, device='cuda:0', grad_fn=<NormBackward0>) tensor(2.8728, device='cuda:0', grad_fn=<NormBackward0>)\n",
      "loss for epoch: tensor(10410.6553, device='cuda:0', grad_fn=<AddBackward0>)\n",
      "pretrain end tensor(32.0769, device='cuda:0', grad_fn=<NormBackward0>) tensor(2.8733, device='cuda:0', grad_fn=<NormBackward0>)\n",
      "loss for epoch: tensor(10337.3428, device='cuda:0', grad_fn=<AddBackward0>)\n",
      "pretrain end tensor(32.0848, device='cuda:0', grad_fn=<NormBackward0>) tensor(2.8885, device='cuda:0', grad_fn=<NormBackward0>)\n",
      "loss for epoch: tensor(11170.2803, device='cuda:0', grad_fn=<AddBackward0>)\n",
      "pretrain end tensor(32.0892, device='cuda:0', grad_fn=<NormBackward0>) tensor(2.8983, device='cuda:0', grad_fn=<NormBackward0>)\n",
      "loss for epoch: tensor(10840.6592, device='cuda:0', grad_fn=<AddBackward0>)\n",
      "pretrain end tensor(32.0830, device='cuda:0', grad_fn=<NormBackward0>) tensor(2.9183, device='cuda:0', grad_fn=<NormBackward0>)\n",
      "loss for epoch: tensor(10099.8887, device='cuda:0', grad_fn=<AddBackward0>)\n",
      "pretrain end tensor(32.0717, device='cuda:0', grad_fn=<NormBackward0>) tensor(2.9279, device='cuda:0', grad_fn=<NormBackward0>)\n",
      "loss for epoch: tensor(10388.0312, device='cuda:0', grad_fn=<AddBackward0>)\n",
      "pretrain end tensor(32.0521, device='cuda:0', grad_fn=<NormBackward0>) tensor(2.9323, device='cuda:0', grad_fn=<NormBackward0>)\n",
      "loss for epoch: tensor(9998.8359, device='cuda:0', grad_fn=<AddBackward0>)\n",
      "pretrain end tensor(32.0291, device='cuda:0', grad_fn=<NormBackward0>) tensor(2.9488, device='cuda:0', grad_fn=<NormBackward0>)\n",
      "loss for epoch: tensor(11003.9805, device='cuda:0', grad_fn=<AddBackward0>)\n",
      "pretrain end tensor(32.0201, device='cuda:0', grad_fn=<NormBackward0>) tensor(2.9617, device='cuda:0', grad_fn=<NormBackward0>)\n",
      "loss for epoch: tensor(11714.2734, device='cuda:0', grad_fn=<AddBackward0>)\n",
      "pretrain end tensor(32.0127, device='cuda:0', grad_fn=<NormBackward0>) tensor(2.9721, device='cuda:0', grad_fn=<NormBackward0>)\n",
      "loss for epoch: tensor(12255.7910, device='cuda:0', grad_fn=<AddBackward0>)\n",
      "pretrain end tensor(32.0079, device='cuda:0', grad_fn=<NormBackward0>) tensor(2.9724, device='cuda:0', grad_fn=<NormBackward0>)\n",
      "loss for epoch: tensor(11086.4189, device='cuda:0', grad_fn=<AddBackward0>)\n",
      "pretrain end tensor(32.0011, device='cuda:0', grad_fn=<NormBackward0>) tensor(2.9839, device='cuda:0', grad_fn=<NormBackward0>)\n",
      "loss for epoch: tensor(11264.7080, device='cuda:0', grad_fn=<AddBackward0>)\n",
      "pretrain end tensor(31.9954, device='cuda:0', grad_fn=<NormBackward0>) tensor(2.9888, device='cuda:0', grad_fn=<NormBackward0>)\n",
      "loss for epoch: tensor(11832.6416, device='cuda:0', grad_fn=<AddBackward0>)\n",
      "pretrain end tensor(31.9919, device='cuda:0', grad_fn=<NormBackward0>) tensor(2.9940, device='cuda:0', grad_fn=<NormBackward0>)\n",
      "loss for epoch: tensor(11631.3740, device='cuda:0', grad_fn=<AddBackward0>)\n",
      "pretrain end tensor(31.9991, device='cuda:0', grad_fn=<NormBackward0>) tensor(3.0120, device='cuda:0', grad_fn=<NormBackward0>)\n",
      "loss for epoch: tensor(11680.9658, device='cuda:0', grad_fn=<AddBackward0>)\n",
      "pretrain end tensor(32.0046, device='cuda:0', grad_fn=<NormBackward0>) tensor(3.0195, device='cuda:0', grad_fn=<NormBackward0>)\n",
      "loss for epoch: tensor(10189.5557, device='cuda:0', grad_fn=<AddBackward0>)\n",
      "pretrain end tensor(32.0032, device='cuda:0', grad_fn=<NormBackward0>) tensor(3.0352, device='cuda:0', grad_fn=<NormBackward0>)\n",
      "loss for epoch: tensor(11366.8926, device='cuda:0', grad_fn=<AddBackward0>)\n",
      "pretrain end tensor(32.0068, device='cuda:0', grad_fn=<NormBackward0>) tensor(3.0395, device='cuda:0', grad_fn=<NormBackward0>)\n",
      "loss for epoch: tensor(10397.2607, device='cuda:0', grad_fn=<AddBackward0>)\n",
      "pretrain end tensor(32.0102, device='cuda:0', grad_fn=<NormBackward0>) tensor(3.0599, device='cuda:0', grad_fn=<NormBackward0>)\n",
      "loss for epoch: tensor(11524.3701, device='cuda:0', grad_fn=<AddBackward0>)\n",
      "pretrain end tensor(32.0142, device='cuda:0', grad_fn=<NormBackward0>) tensor(3.0606, device='cuda:0', grad_fn=<NormBackward0>)\n",
      "loss for epoch: tensor(10913.2422, device='cuda:0', grad_fn=<AddBackward0>)\n",
      "pretrain end tensor(32.0145, device='cuda:0', grad_fn=<NormBackward0>) tensor(3.0646, device='cuda:0', grad_fn=<NormBackward0>)\n",
      "loss for epoch: tensor(11077.4336, device='cuda:0', grad_fn=<AddBackward0>)\n",
      "pretrain end tensor(32.0243, device='cuda:0', grad_fn=<NormBackward0>) tensor(3.0796, device='cuda:0', grad_fn=<NormBackward0>)\n",
      "loss for epoch: tensor(10678.6025, device='cuda:0', grad_fn=<AddBackward0>)\n",
      "pretrain end tensor(32.0297, device='cuda:0', grad_fn=<NormBackward0>) tensor(3.0935, device='cuda:0', grad_fn=<NormBackward0>)\n",
      "loss for epoch: tensor(10644.0068, device='cuda:0', grad_fn=<AddBackward0>)\n",
      "pretrain end tensor(32.0381, device='cuda:0', grad_fn=<NormBackward0>) tensor(3.1045, device='cuda:0', grad_fn=<NormBackward0>)\n",
      "loss for epoch: tensor(12676.4189, device='cuda:0', grad_fn=<AddBackward0>)\n",
      "pretrain end tensor(32.0492, device='cuda:0', grad_fn=<NormBackward0>) tensor(3.1052, device='cuda:0', grad_fn=<NormBackward0>)\n",
      "loss for epoch: tensor(11698.7715, device='cuda:0', grad_fn=<AddBackward0>)\n",
      "pretrain end tensor(32.0609, device='cuda:0', grad_fn=<NormBackward0>) tensor(3.1002, device='cuda:0', grad_fn=<NormBackward0>)\n",
      "loss for epoch: tensor(10878.1436, device='cuda:0', grad_fn=<AddBackward0>)\n",
      "pretrain end tensor(32.0682, device='cuda:0', grad_fn=<NormBackward0>) tensor(3.1074, device='cuda:0', grad_fn=<NormBackward0>)\n",
      "loss for epoch: tensor(11638.2461, device='cuda:0', grad_fn=<AddBackward0>)\n",
      "pretrain end tensor(32.0799, device='cuda:0', grad_fn=<NormBackward0>) tensor(3.1158, device='cuda:0', grad_fn=<NormBackward0>)\n",
      "loss for epoch: tensor(11425.2383, device='cuda:0', grad_fn=<AddBackward0>)\n",
      "pretrain end tensor(32.0835, device='cuda:0', grad_fn=<NormBackward0>) tensor(3.1297, device='cuda:0', grad_fn=<NormBackward0>)\n",
      "loss for epoch: tensor(11143.8311, device='cuda:0', grad_fn=<AddBackward0>)\n",
      "pretrain end tensor(32.0940, device='cuda:0', grad_fn=<NormBackward0>) tensor(3.1423, device='cuda:0', grad_fn=<NormBackward0>)\n",
      "loss for epoch: tensor(10924.3975, device='cuda:0', grad_fn=<AddBackward0>)\n",
      "pretrain end tensor(32.1044, device='cuda:0', grad_fn=<NormBackward0>) tensor(3.1395, device='cuda:0', grad_fn=<NormBackward0>)\n"
     ]
    }
   ],
   "source": [
    "# two different contexts\n",
    "Pretest =  PretrainTest(weight_write = 'weights_cpu/rnn_1515tanh512_checkpoint', holes = 0, k_action = 1, k_internal = 1.)\n",
    "beta = 1e-2\n",
    "for i in range(400):\n",
    "    Pretest.pretrain(i, pretrain = (i!=0), lr = 1e-5, beta = beta, beta_min = 1e-2, beta_max = 1e-2)\n",
    "    net = Pretest.pregame.net.cpu()\n",
    "    torch.save(net.state_dict(), 'weights_cpu/rnn_1515tanh512_checkpoint{}'.format(i))\n",
    "    "
   ]
  },
  {
   "cell_type": "code",
   "execution_count": 2,
   "metadata": {},
   "outputs": [
    {
     "name": "stdout",
     "output_type": "stream",
     "text": [
      "loss for epoch: tensor(10344.9082, device='cuda:0', grad_fn=<AddBackward0>)\n",
      "pretrain end tensor(32.0410, device='cuda:0', grad_fn=<NormBackward0>) tensor(2.9630, device='cuda:0', grad_fn=<NormBackward0>)\n",
      "loss for epoch: tensor(11765.4160, device='cuda:0', grad_fn=<AddBackward0>)\n",
      "pretrain end tensor(32.0448, device='cuda:0', grad_fn=<NormBackward0>) tensor(2.9636, device='cuda:0', grad_fn=<NormBackward0>)\n",
      "loss for epoch: tensor(10792.2178, device='cuda:0', grad_fn=<AddBackward0>)\n",
      "pretrain end tensor(32.0524, device='cuda:0', grad_fn=<NormBackward0>) tensor(2.9756, device='cuda:0', grad_fn=<NormBackward0>)\n",
      "loss for epoch: tensor(12005.4766, device='cuda:0', grad_fn=<AddBackward0>)\n",
      "pretrain end tensor(32.0587, device='cuda:0', grad_fn=<NormBackward0>) tensor(2.9738, device='cuda:0', grad_fn=<NormBackward0>)\n",
      "loss for epoch: tensor(11424.7568, device='cuda:0', grad_fn=<AddBackward0>)\n",
      "pretrain end tensor(32.0698, device='cuda:0', grad_fn=<NormBackward0>) tensor(2.9806, device='cuda:0', grad_fn=<NormBackward0>)\n",
      "loss for epoch: tensor(10707.7402, device='cuda:0', grad_fn=<AddBackward0>)\n",
      "pretrain end tensor(32.0782, device='cuda:0', grad_fn=<NormBackward0>) tensor(2.9866, device='cuda:0', grad_fn=<NormBackward0>)\n",
      "loss for epoch: tensor(10471.2256, device='cuda:0', grad_fn=<AddBackward0>)\n",
      "pretrain end tensor(32.0863, device='cuda:0', grad_fn=<NormBackward0>) tensor(3.0024, device='cuda:0', grad_fn=<NormBackward0>)\n",
      "loss for epoch: tensor(9850.9424, device='cuda:0', grad_fn=<AddBackward0>)\n",
      "pretrain end tensor(32.0916, device='cuda:0', grad_fn=<NormBackward0>) tensor(3.0167, device='cuda:0', grad_fn=<NormBackward0>)\n",
      "loss for epoch: tensor(10321.8154, device='cuda:0', grad_fn=<AddBackward0>)\n",
      "pretrain end tensor(32.0941, device='cuda:0', grad_fn=<NormBackward0>) tensor(3.0337, device='cuda:0', grad_fn=<NormBackward0>)\n",
      "loss for epoch: tensor(11145.1123, device='cuda:0', grad_fn=<AddBackward0>)\n",
      "pretrain end tensor(32.0973, device='cuda:0', grad_fn=<NormBackward0>) tensor(3.0296, device='cuda:0', grad_fn=<NormBackward0>)\n",
      "loss for epoch: tensor(9428.3330, device='cuda:0', grad_fn=<AddBackward0>)\n",
      "pretrain end tensor(32.1037, device='cuda:0', grad_fn=<NormBackward0>) tensor(3.0461, device='cuda:0', grad_fn=<NormBackward0>)\n",
      "loss for epoch: tensor(11436.2920, device='cuda:0', grad_fn=<AddBackward0>)\n",
      "pretrain end tensor(32.1151, device='cuda:0', grad_fn=<NormBackward0>) tensor(3.0610, device='cuda:0', grad_fn=<NormBackward0>)\n",
      "loss for epoch: tensor(9858.9395, device='cuda:0', grad_fn=<AddBackward0>)\n",
      "pretrain end tensor(32.1276, device='cuda:0', grad_fn=<NormBackward0>) tensor(3.0698, device='cuda:0', grad_fn=<NormBackward0>)\n",
      "loss for epoch: tensor(11114.1055, device='cuda:0', grad_fn=<AddBackward0>)\n",
      "pretrain end tensor(32.1327, device='cuda:0', grad_fn=<NormBackward0>) tensor(3.0796, device='cuda:0', grad_fn=<NormBackward0>)\n",
      "loss for epoch: tensor(9970.2646, device='cuda:0', grad_fn=<AddBackward0>)\n",
      "pretrain end tensor(32.1408, device='cuda:0', grad_fn=<NormBackward0>) tensor(3.0986, device='cuda:0', grad_fn=<NormBackward0>)\n",
      "loss for epoch: tensor(10781.2266, device='cuda:0', grad_fn=<AddBackward0>)\n",
      "pretrain end tensor(32.1507, device='cuda:0', grad_fn=<NormBackward0>) tensor(3.1077, device='cuda:0', grad_fn=<NormBackward0>)\n",
      "loss for epoch: tensor(11002.3086, device='cuda:0', grad_fn=<AddBackward0>)\n",
      "pretrain end tensor(32.1627, device='cuda:0', grad_fn=<NormBackward0>) tensor(3.1037, device='cuda:0', grad_fn=<NormBackward0>)\n",
      "loss for epoch: tensor(11628.3447, device='cuda:0', grad_fn=<AddBackward0>)\n",
      "pretrain end tensor(32.1690, device='cuda:0', grad_fn=<NormBackward0>) tensor(3.1169, device='cuda:0', grad_fn=<NormBackward0>)\n",
      "loss for epoch: tensor(11348.9277, device='cuda:0', grad_fn=<AddBackward0>)\n",
      "pretrain end tensor(32.1762, device='cuda:0', grad_fn=<NormBackward0>) tensor(3.1339, device='cuda:0', grad_fn=<NormBackward0>)\n",
      "loss for epoch: tensor(10434.8730, device='cuda:0', grad_fn=<AddBackward0>)\n",
      "pretrain end tensor(32.1870, device='cuda:0', grad_fn=<NormBackward0>) tensor(3.1552, device='cuda:0', grad_fn=<NormBackward0>)\n",
      "loss for epoch: tensor(12603.1260, device='cuda:0', grad_fn=<AddBackward0>)\n",
      "pretrain end tensor(32.1936, device='cuda:0', grad_fn=<NormBackward0>) tensor(3.1670, device='cuda:0', grad_fn=<NormBackward0>)\n",
      "loss for epoch: tensor(11281.0557, device='cuda:0', grad_fn=<AddBackward0>)\n",
      "pretrain end tensor(32.2085, device='cuda:0', grad_fn=<NormBackward0>) tensor(3.1764, device='cuda:0', grad_fn=<NormBackward0>)\n",
      "loss for epoch: tensor(12317.4609, device='cuda:0', grad_fn=<AddBackward0>)\n",
      "pretrain end tensor(32.2190, device='cuda:0', grad_fn=<NormBackward0>) tensor(3.1924, device='cuda:0', grad_fn=<NormBackward0>)\n",
      "loss for epoch: tensor(10717.2266, device='cuda:0', grad_fn=<AddBackward0>)\n",
      "pretrain end tensor(32.2274, device='cuda:0', grad_fn=<NormBackward0>) tensor(3.1983, device='cuda:0', grad_fn=<NormBackward0>)\n",
      "loss for epoch: tensor(10333.3789, device='cuda:0', grad_fn=<AddBackward0>)\n",
      "pretrain end tensor(32.2423, device='cuda:0', grad_fn=<NormBackward0>) tensor(3.2067, device='cuda:0', grad_fn=<NormBackward0>)\n",
      "loss for epoch: tensor(10330.2549, device='cuda:0', grad_fn=<AddBackward0>)\n",
      "pretrain end tensor(32.2582, device='cuda:0', grad_fn=<NormBackward0>) tensor(3.2132, device='cuda:0', grad_fn=<NormBackward0>)\n",
      "loss for epoch: tensor(9967.3955, device='cuda:0', grad_fn=<AddBackward0>)\n",
      "pretrain end tensor(32.2719, device='cuda:0', grad_fn=<NormBackward0>) tensor(3.2270, device='cuda:0', grad_fn=<NormBackward0>)\n",
      "loss for epoch: tensor(10389.3320, device='cuda:0', grad_fn=<AddBackward0>)\n",
      "pretrain end tensor(32.2874, device='cuda:0', grad_fn=<NormBackward0>) tensor(3.2321, device='cuda:0', grad_fn=<NormBackward0>)\n",
      "loss for epoch: tensor(8611.0059, device='cuda:0', grad_fn=<AddBackward0>)\n",
      "pretrain end tensor(32.3027, device='cuda:0', grad_fn=<NormBackward0>) tensor(3.2402, device='cuda:0', grad_fn=<NormBackward0>)\n"
     ]
    }
   ],
   "source": [
    "Pretest =  PretrainTest(weight_write = 'weights_cpu/rnn_1515tanh512_checkpoint', holes = 0)\n",
    "Pretest.pregame.net.load_state_dict(torch.load('weights_cpu/rnn_1515tanh512_checkpoint10'))\n",
    "beta = 2 * 1e-2\n",
    "for i in range(11, 40):\n",
    "    Pretest.pretrain(i, pretrain = True, lr = 1e-5, beta = beta, beta_min = 2 * 1e-2, beta_max = 2 * 1e-2)\n",
    "    net = Pretest.pregame.net.cpu()\n",
    "    torch.save(net.state_dict(), 'weights_cpu/rnn_1515tanh512_checkpoint{}'.format(i))"
   ]
  },
  {
   "cell_type": "code",
   "execution_count": null,
   "metadata": {},
   "outputs": [
    {
     "name": "stdout",
     "output_type": "stream",
     "text": [
      "loss for epoch: tensor(8599.2148, device='cuda:0', grad_fn=<AddBackward0>)\n"
     ]
    }
   ],
   "source": [
    "Pretest =  PretrainTest(weight_write = 'weights_cpu/rnn_1515tanh512_checkpoint39', holes = 0)\n",
    "Pretest.pregame.net.load_state_dict(torch.load('weights_cpu/rnn_1515tanh512_checkpoint39'))\n",
    "for i in range(40, 400):\n",
    "    k = (i//40 + 2) \n",
    "    beta = k * 1e-2\n",
    "    Pretest.pretrain(i, pretrain = True, lr = 1e-5, beta = beta, beta_min = k * 1e-2, beta_max = k * 1e-2)\n",
    "    net = Pretest.pregame.net.cpu()\n",
    "    torch.save(net.state_dict(), 'weights_cpu/rnn_1515tanh512_checkpoint{}'.format(i))"
   ]
  },
  {
   "cell_type": "code",
   "execution_count": 4,
   "metadata": {},
   "outputs": [
    {
     "data": {
      "text/plain": [
       "3"
      ]
     },
     "execution_count": 4,
     "metadata": {},
     "output_type": "execute_result"
    }
   ],
   "source": [
    "i = 41\n",
    "(i//40 + 2) "
   ]
  },
  {
   "cell_type": "markdown",
   "metadata": {},
   "source": [
    "**A coherent result here is threhold kind behaviour of decode vs performance, after decode smaller than 10, the performance rises.  The resutls is showeing that the learning rate vs performance doesn't characterize the threshold kind behaviour of performance change.  It is only after lr = -5, the performance begins to rise , while the learning rate - performance curve creates a fake trends for first few points.  This is not shown by explaination factor calculated by covariance.  **"
   ]
  }
 ],
 "metadata": {
  "anaconda-cloud": {},
  "kernelspec": {
   "display_name": "Python 3",
   "language": "python",
   "name": "python3"
  },
  "language_info": {
   "codemirror_mode": {
    "name": "ipython",
    "version": 3
   },
   "file_extension": ".py",
   "mimetype": "text/x-python",
   "name": "python",
   "nbconvert_exporter": "python",
   "pygments_lexer": "ipython3",
   "version": "3.7.2"
  },
  "latex_envs": {
   "LaTeX_envs_menu_present": true,
   "autoclose": false,
   "autocomplete": true,
   "bibliofile": "biblio.bib",
   "cite_by": "apalike",
   "current_citInitial": 1,
   "eqLabelWithNumbers": true,
   "eqNumInitial": 1,
   "hotkeys": {
    "equation": "Ctrl-E",
    "itemize": "Ctrl-I"
   },
   "labels_anchors": false,
   "latex_user_defs": false,
   "report_style_numbering": false,
   "user_envs_cfg": false
  },
  "toc": {
   "nav_menu": {},
   "number_sections": true,
   "sideBar": true,
   "skip_h1_title": false,
   "title_cell": "Table of Contents",
   "title_sidebar": "Contents",
   "toc_cell": true,
   "toc_position": {
    "height": "759px",
    "left": "0px",
    "right": "1228px",
    "top": "67px",
    "width": "212px"
   },
   "toc_section_display": "block",
   "toc_window_display": true
  },
  "varInspector": {
   "cols": {
    "lenName": 16,
    "lenType": 16,
    "lenVar": 40
   },
   "kernels_config": {
    "python": {
     "delete_cmd_postfix": "",
     "delete_cmd_prefix": "del ",
     "library": "var_list.py",
     "varRefreshCmd": "print(var_dic_list())"
    },
    "r": {
     "delete_cmd_postfix": ") ",
     "delete_cmd_prefix": "rm(",
     "library": "var_list.r",
     "varRefreshCmd": "cat(var_dic_list()) "
    }
   },
   "types_to_exclude": [
    "module",
    "function",
    "builtin_function_or_method",
    "instance",
    "_Feature"
   ],
   "window_display": false
  }
 },
 "nbformat": 4,
 "nbformat_minor": 2
}
