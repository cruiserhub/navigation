{
 "cells": [
  {
   "cell_type": "markdown",
   "metadata": {
    "toc": "true"
   },
   "source": [
    "<h1>Table of Contents<span class=\"tocSkip\"></span></h1>\n",
    "<div class=\"toc\"><ul class=\"toc-item\"><li><span><a href=\"#quick-start\" data-toc-modified-id=\"quick-start-1\"><span class=\"toc-item-num\">1&nbsp;&nbsp;</span>quick start</a></span><ul class=\"toc-item\"><li><span><a href=\"#Resources\" data-toc-modified-id=\"Resources-1.1\"><span class=\"toc-item-num\">1.1&nbsp;&nbsp;</span>Resources</a></span></li></ul></li><li><span><a href=\"#FULL-MODEL\" data-toc-modified-id=\"FULL-MODEL-2\"><span class=\"toc-item-num\">2&nbsp;&nbsp;</span>FULL MODEL</a></span><ul class=\"toc-item\"><li><span><a href=\"#Packages\" data-toc-modified-id=\"Packages-2.1\"><span class=\"toc-item-num\">2.1&nbsp;&nbsp;</span>Packages</a></span><ul class=\"toc-item\"><li><span><a href=\"#Qnetwork\" data-toc-modified-id=\"Qnetwork-2.1.1\"><span class=\"toc-item-num\">2.1.1&nbsp;&nbsp;</span>Qnetwork</a></span></li></ul></li><li><span><a href=\"#POMDP-RNN-Game\" data-toc-modified-id=\"POMDP-RNN-Game-2.2\"><span class=\"toc-item-num\">2.2&nbsp;&nbsp;</span>POMDP RNN Game</a></span></li><li><span><a href=\"#Results\" data-toc-modified-id=\"Results-2.3\"><span class=\"toc-item-num\">2.3&nbsp;&nbsp;</span>Results</a></span><ul class=\"toc-item\"><li><span><a href=\"#Standard-setting：-grid-=--(3,7)，-holes-=-0\" data-toc-modified-id=\"Standard-setting：-grid-=--(3,7)，-holes-=-0-2.3.1\"><span class=\"toc-item-num\">2.3.1&nbsp;&nbsp;</span>Standard setting： grid =  (3,7)， holes = 0</a></span></li><li><span><a href=\"#Model-Tranining\" data-toc-modified-id=\"Model-Tranining-2.3.2\"><span class=\"toc-item-num\">2.3.2&nbsp;&nbsp;</span>Model Tranining</a></span></li><li><span><a href=\"#decoding-vs-performance\" data-toc-modified-id=\"decoding-vs-performance-2.3.3\"><span class=\"toc-item-num\">2.3.3&nbsp;&nbsp;</span>decoding vs performance</a></span></li><li><span><a href=\"#learning-rate-vs-performance\" data-toc-modified-id=\"learning-rate-vs-performance-2.3.4\"><span class=\"toc-item-num\">2.3.4&nbsp;&nbsp;</span>learning rate vs performance</a></span></li><li><span><a href=\"#Summary\" data-toc-modified-id=\"Summary-2.3.5\"><span class=\"toc-item-num\">2.3.5&nbsp;&nbsp;</span>Summary</a></span></li><li><span><a href=\"#Anlytic-part-,-check-the-behaviour-correspond-to-each-decoding-level-and-explain-why\" data-toc-modified-id=\"Anlytic-part-,-check-the-behaviour-correspond-to-each-decoding-level-and-explain-why-2.3.6\"><span class=\"toc-item-num\">2.3.6&nbsp;&nbsp;</span>Anlytic part , check the behaviour correspond to each decoding level and explain why</a></span></li></ul></li><li><span><a href=\"#PCA\" data-toc-modified-id=\"PCA-2.4\"><span class=\"toc-item-num\">2.4&nbsp;&nbsp;</span>PCA</a></span></li></ul></li></ul></div>"
   ]
  },
  {
   "cell_type": "markdown",
   "metadata": {},
   "source": [
    "# quick start "
   ]
  },
  {
   "cell_type": "markdown",
   "metadata": {},
   "source": [
    "**Somethings to change**:\n",
    "\n",
    "1.  find the eigen point correspoing mode, W and PC relation\n",
    "\n",
    "2.  Make the analysis more stable by using last three weights\n",
    "\n",
    "3.  Try to find decoding performance in 10-50 setting\n",
    "\n",
    "4.  Use more range to measure not only 15 55 85\n",
    "\n",
    "5.  Same trends of increasing img, but failed prediction, what is other factors?  What really predicts the limit cycle type strategy? \n",
    "\n",
    "6.  Relation of PC dimension and real trace shape, if too high D will make the real game hard? "
   ]
  },
  {
   "cell_type": "markdown",
   "metadata": {},
   "source": [
    "## Resources\n",
    "\n",
    "* [*The* Reinforcement learning book from Sutton & Barto](http://incompleteideas.net/sutton/book/the-book-2nd.html)\n",
    "* [The REINFORCE paper from Ronald J. Williams (1992)](http://www-anw.cs.umass.edu/~barto/courses/cs687/williams92simple.pdf)\n"
   ]
  },
  {
   "cell_type": "markdown",
   "metadata": {},
   "source": [
    "# FULL MODEL"
   ]
  },
  {
   "cell_type": "markdown",
   "metadata": {},
   "source": [
    "## Packages"
   ]
  },
  {
   "cell_type": "code",
   "execution_count": 1,
   "metadata": {},
   "outputs": [
    {
     "name": "stdout",
     "output_type": "stream",
     "text": [
      "Populating the interactive namespace from numpy and matplotlib\n"
     ]
    },
    {
     "name": "stderr",
     "output_type": "stream",
     "text": [
      "/home/tie/anaconda3/lib/python3.6/site-packages/IPython/core/magics/pylab.py:160: UserWarning: pylab import has clobbered these variables: ['random']\n",
      "`%matplotlib` prevents importing * from pylab and numpy\n",
      "  \"\\n`%matplotlib` prevents importing * from pylab and numpy\"\n"
     ]
    }
   ],
   "source": [
    "%load_ext autoreload\n",
    "%autoreload 2\n",
    "\n",
    "import numpy as np\n",
    "from itertools import count\n",
    "import random\n",
    "\n",
    "import torch\n",
    "import torch.nn as nn\n",
    "import torch.nn.functional as F\n",
    "import torch.optim as optim\n",
    "import torch.autograd as autograd\n",
    "from torch.autograd import Variable\n",
    "from torch.nn import init\n",
    "from torch.nn import DataParallel\n",
    "from torch.utils.data import DataLoader\n",
    "\n",
    "import matplotlib.mlab as mlab\n",
    "import matplotlib.pyplot as plt\n",
    "import matplotlib.animation\n",
    "import seaborn as sns\n",
    "from IPython.display import HTML\n",
    "\n",
    "import pretrain\n",
    "from pretrain import *\n",
    "\n",
    "import pandas as pd\n",
    "\n",
    "import navigation2\n",
    "from navigation2 import *\n",
    "\n",
    "import sklearn\n",
    "from sklearn.svm import SVC\n",
    "\n",
    "import scipy\n",
    "from scipy.spatial import distance\n",
    "from scipy import signal\n",
    "\n",
    "import Nets \n",
    "from Nets import *\n",
    "\n",
    "import dynamics\n",
    "from dynamics import * \n",
    "\n",
    "import GLM\n",
    "from GLM import *\n",
    "\n",
    "%pylab inline\n",
    "import warnings\n",
    "warnings.filterwarnings('ignore')"
   ]
  },
  {
   "cell_type": "markdown",
   "metadata": {},
   "source": [
    "### Qnetwork\n",
    "\n",
    "To select actions we take maximum of Q value, corresponding to certain move."
   ]
  },
  {
   "cell_type": "markdown",
   "metadata": {},
   "source": [
    "For the liquid state approach to work, you need a lot of neurons as surplus or enough hidden to hidden connectivity to make it have an effect."
   ]
  },
  {
   "cell_type": "markdown",
   "metadata": {},
   "source": [
    "##  test Pretrain loss\n",
    "In this game , we use a new reward function determined by game, if the agent achieves the goal before 50, reward is 1. If time pass 50 reward is 0.5, once time pass 100 agent gets a reward of -0.5 .  Practically, this is found to be easier to learn than the rewards as a continous function of time.  Tf the agent learns to search in a efficient way, the largest possible way for search is to firstly arrive at corner then goes to the goal, which, takes about 50 steps, it is reasonble to make 50 and 100 as milestone thing.  Also in principe as the game doesn't have a timer , it is not if it can use a reward as funtion of time"
   ]
  },
  {
   "cell_type": "markdown",
   "metadata": {},
   "source": [
    "3 condition for ending , when pass time limit, game over"
   ]
  },
  {
   "cell_type": "markdown",
   "metadata": {},
   "source": [
    "For weight update, it seems to be better do it after episode, as it makes non-sense evaluate strategy during episode, but a the end. Also, it is much quicker. "
   ]
  },
  {
   "cell_type": "markdown",
   "metadata": {},
   "source": [
    "A programming of MDP here, hidden state is as state of enviroment"
   ]
  },
  {
   "cell_type": "markdown",
   "metadata": {},
   "source": [
    "Training from zero seems to be better because it will allow the agent to explore from new"
   ]
  },
  {
   "cell_type": "markdown",
   "metadata": {},
   "source": [
    "**A coherent result here is threhold kind behaviour of decode vs performance, after decode smaller than 10, the performance rises.  The resutls is showeing that the learning rate vs performance doesn't characterize the threshold kind behaviour of performance change.  It is only after lr = -5, the performance begins to rise , while the learning rate - performance curve creates a fake trends for first few points.  This is not shown by explaination factor calculated by covariance.  **"
   ]
  },
  {
   "cell_type": "markdown",
   "metadata": {},
   "source": [
    "## Spectre & Low rank analysis "
   ]
  },
  {
   "cell_type": "code",
   "execution_count": 3,
   "metadata": {},
   "outputs": [
    {
     "data": {
      "image/png": "[encoded data removed]",
      "text/plain": [
       "<matplotlib.figure.Figure at 0x7f81823b7240>"
      ]
     },
     "metadata": {},
     "output_type": "display_data"
    },
    {
     "data": {
      "image/png": "[encoded data removed]",
      "text/plain": [
       "<matplotlib.figure.Figure at 0x7f81823affd0>"
      ]
     },
     "metadata": {},
     "output_type": "display_data"
    },
    {
     "data": {
      "image/png": "[encoded data removed]",
      "text/plain": [
       "<matplotlib.figure.Figure at 0x7f81801d67b8>"
      ]
     },
     "metadata": {},
     "output_type": "display_data"
    },
    {
     "data": {
      "image/png": "[encoded data removed]",
      "text/plain": [
       "<matplotlib.figure.Figure at 0x7f8180151588>"
      ]
     },
     "metadata": {},
     "output_type": "display_data"
    }
   ],
   "source": [
    "dWs = []\n",
    "for iters, trial in enumerate(np.arange(0, 301, 100)):\n",
    "    game = ValueMaxGame(grid_size = (15, 15), holes = 0, random_seed = 4 , set_reward = [(0.5, 0.25), (0.5, 0.75)],  alpha = 0.5, input_type = 0)\n",
    "    game.net.load_state_dict(torch.load('weights_cpu/rnn_1515tanh512_checkpoint{}'.format(trial)))\n",
    "    game.net.h2o = nn.Parameter(torch.randn(512, 4) * 1 * np.sqrt(2.0/(512+4)))\n",
    "    if iters == 0:\n",
    "        W0 = game.net.h2h \n",
    "    W = game.net.h2h \n",
    "    dWs.append(W - W0)\n",
    "    Weff = game.net.h2h + game.net.h2o.matmul(game.net.a2h)\n",
    "    plt.figure()\n",
    "    plt.scatter (W.eig()[0][:,0].data.numpy(), W.eig()[0][:,1].data.numpy(), label = trial, color = 'r')\n",
    "#     plt.figure()\n",
    "#     plt.scatter (Weff.eig()[0][:,0].data.numpy(), Weff.eig()[0][:,1].data.numpy(), label = trial, color = 'b')\n",
    "    \n",
    "#     plt.legend()\n",
    "#     plt.xlim(-2, 2)\n",
    "#     plt.ylim(-3, 3)\n",
    "\n",
    "    plt.xlabel('eigen real')\n",
    "    plt.ylabel('eigen img')\n",
    "    plt.savefig('eigen{}'.format(trial))\n",
    "#     print (Weff)"
   ]
  },
  {
   "cell_type": "code",
   "execution_count": 4,
   "metadata": {},
   "outputs": [
    {
     "name": "stdout",
     "output_type": "stream",
     "text": [
      "100 0.39087936 -0.0077583306 -0.023033777\n",
      "100 -0.35095876 -0.0049547525 -0.023033777\n",
      "100 -0.36860266 0.06619975 -0.023033777\n",
      "100 0.41238436 0.031995893 -0.023033777\n",
      "200 -0.1817752 -0.08043407 0.03723478\n",
      "200 0.32433614 -0.0031942604 0.03723478\n",
      "200 0.22594944 0.044715352 0.03723478\n",
      "200 -0.27185404 0.016290054 0.03723478\n",
      "300 -0.03550171 0.022606151 0.036227085\n",
      "300 0.18898071 0.07466147 0.036227085\n",
      "300 0.094034076 0.04272938 0.036227085\n",
      "300 -0.1287412 0.0033626016 0.036227085\n"
     ]
    },
    {
     "data": {
      "image/png": "[encoded data removed]",
      "text/plain": [
       "<matplotlib.figure.Figure at 0x7f81800eba58>"
      ]
     },
     "metadata": {},
     "output_type": "display_data"
    }
   ],
   "source": [
    "trial = np.arange(0, 301, 100)\n",
    "for dW, trial in zip(dWs[1:], trial[1:]):\n",
    "    dW = dW.data.numpy()\n",
    "    dW_shuffle = np.random.permutation(dW.ravel()).reshape(512, 512)\n",
    "    u, s, vh = np.linalg.svd(dW)\n",
    "    u_shuffle, s_shuffle, vh_shuffle = np.linalg.svd(dW_shuffle)\n",
    "\n",
    "    game.net.load_state_dict(torch.load('weights_cpu/rnn_1515tanh512_checkpoint{}'.format(trial)))\n",
    "    for i in range(4):\n",
    "        wah0 = game.net.state_dict()['a2h'].data.numpy()[i] \n",
    "        theta1 = np.dot(wah0, vh[2])/(np.linalg.norm(vh[2]) * np.linalg.norm(wah0))\n",
    "        theta2 = np.dot(wah0, u[2])/(np.linalg.norm(u[2]) * np.linalg.norm(wah0))\n",
    "        theta3 = np.dot(u[2], vh[2])/(np.linalg.norm(u[2]) * np.linalg.norm(vh[2]))\n",
    "        print (trial, theta1, theta2, theta3)\n",
    "    if trial == 300:\n",
    "        ax = subplot(1, 1, 1)\n",
    "        ax.spines['top'].set_visible(False)\n",
    "        ax.spines['right'].set_visible(False)\n",
    "        plt.plot(s[:100],'r.')\n",
    "        plt.plot(s_shuffle[:100],'r--')\n",
    "        plt.xticks(size = 15)\n",
    "        plt.yticks([0, 2, 4, 6, 8], size = 15)\n"
   ]
  },
  {
   "cell_type": "code",
   "execution_count": 5,
   "metadata": {},
   "outputs": [
    {
     "data": {
      "text/plain": [
       "([<matplotlib.axis.YTick at 0x7f8180038a90>,\n",
       "  <matplotlib.axis.YTick at 0x7f8180038e10>,\n",
       "  <matplotlib.axis.YTick at 0x7f816f8d8550>,\n",
       "  <matplotlib.axis.YTick at 0x7f8180059588>],\n",
       " <a list of 4 Text yticklabel objects>)"
      ]
     },
     "execution_count": 5,
     "metadata": {},
     "output_type": "execute_result"
    },
    {
     "data": {
      "image/png": "[encoded data removed]",
      "text/plain": [
       "<matplotlib.figure.Figure at 0x7f818244e8d0>"
      ]
     },
     "metadata": {},
     "output_type": "display_data"
    }
   ],
   "source": [
    "# ax = subplot(1, 1, 1)\n",
    "# ax.spines['top'].set_visible(False)\n",
    "# ax.spines['right'].set_visible(False)\n",
    "for r in np.arange(100):\n",
    "    game.net.load_state_dict(torch.load('weights_cpu/rnn_1515tanh512_checkpoint{}'.format(300)))\n",
    "    theta = 0\n",
    "    for i in range(4):\n",
    "        wah0 = game.net.state_dict()['a2h'].data.numpy()[i] \n",
    "        theta1 = np.dot(wah0, vh[r])/(np.linalg.norm(vh[r]) * np.linalg.norm(wah0))\n",
    "        theta2 = np.dot(wah0, u[r])/(np.linalg.norm(u[r]) * np.linalg.norm(wah0))\n",
    "        theta3 = np.dot(u[0], vh[r])/(np.linalg.norm(u[r]) * np.linalg.norm(vh[0]))\n",
    "        theta += np.abs(theta1)\n",
    "    ax = subplot(1, 1, 1)\n",
    "    ax.spines['top'].set_visible(False)\n",
    "    ax.spines['right'].set_visible(False)\n",
    "    plt.scatter(r, theta/4, color = 'r')\n",
    "#         print (trial, theta1, theta2, theta3)\n",
    "plt.xticks(size = 15)\n",
    "plt.yticks([0, 0.1, 0.2, 0.3], size = 15)\n",
    "# plt.title('wah pre1')"
   ]
  },
  {
   "cell_type": "code",
   "execution_count": 7,
   "metadata": {},
   "outputs": [
    {
     "data": {
      "text/plain": [
       "([<matplotlib.axis.YTick at 0x7f81800f4898>,\n",
       "  <matplotlib.axis.YTick at 0x7f816f7b2da0>,\n",
       "  <matplotlib.axis.YTick at 0x7f81801a2c18>,\n",
       "  <matplotlib.axis.YTick at 0x7f81801fe240>],\n",
       " <a list of 4 Text yticklabel objects>)"
      ]
     },
     "execution_count": 7,
     "metadata": {},
     "output_type": "execute_result"
    },
    {
     "data": {
      "image/png": "[encoded data removed]",
      "text/plain": [
       "<matplotlib.figure.Figure at 0x7f816f7e11d0>"
      ]
     },
     "metadata": {},
     "output_type": "display_data"
    }
   ],
   "source": [
    "# ax = subplot(1, 1, 1)\n",
    "# ax.spines['top'].set_visible(False)\n",
    "# ax.spines['right'].set_visible(False)\n",
    "for r in np.arange(100):\n",
    "    game.net.load_state_dict(torch.load('weights_cpu/rnn_1515tanh512_checkpoint{}'.format(300)))\n",
    "    theta = np.zeros(9)\n",
    "    for i in range(9):\n",
    "        wah0 = game.net.state_dict()['i2h'].data.numpy()[i] \n",
    "        theta1 = np.dot(wah0, vh[r])/(np.linalg.norm(vh[r]) * np.linalg.norm(wah0))\n",
    "        theta2 = np.dot(wah0, u[r])/(np.linalg.norm(u[r]) * np.linalg.norm(wah0))\n",
    "        theta3 = np.dot(u[0], vh[r])/(np.linalg.norm(u[r]) * np.linalg.norm(vh[0]))\n",
    "        theta [i] = np.abs(theta1)\n",
    "    ax = subplot(1, 1, 1)\n",
    "    ax.spines['top'].set_visible(False)\n",
    "    ax.spines['right'].set_visible(False)\n",
    "    plt.scatter(r, np.mean(theta), color = 'r')\n",
    "#         print (trial, theta1, theta2, theta3)\n",
    "plt.xticks(size = 15)\n",
    "plt.yticks([0, 0.1, 0.2, 0.3], size = 15)"
   ]
  },
  {
   "cell_type": "markdown",
   "metadata": {},
   "source": [
    "If look carefully, the slow timescale here is a very long transient,  it will not return to baseline in a very long run of game, that is different from gru, which maintains a baseline.  If the system is a true integrator,  it should not loose the baseline, because there is no concept of return in this case. \n",
    "\n",
    "The very slow timescale could make the system harder to reset, except I use a strong input.  So reset upon input and remember is always contradictory.  If I design a task also need to pay attention to fast timescale , this will fail more throughly "
   ]
  },
  {
   "cell_type": "markdown",
   "metadata": {},
   "source": [
    "# Timescale, Spatial Information & Performance"
   ]
  },
  {
   "cell_type": "markdown",
   "metadata": {},
   "source": [
    "**There is change associate with the pretraining, but if coupling all factors and use short stimlus pulses, there is no big effect**\n",
    "\n",
    "**charaterize the system by timescale in this case, and input - output correlation with random action, use these two parameters to predict learning** \n",
    "\n",
    "**Another approach is the random readout compare,  the specific readout is related to one network, if we look at things statistically, something related to Whh will truly reveal.  The distribution also permits us to give continouse number as probability of bi-stability**\n",
    "\n",
    "**Characterize the limit cycle by period and shape/complexity/dimension of wave**"
   ]
  },
  {
   "cell_type": "code",
   "execution_count": 38,
   "metadata": {},
   "outputs": [],
   "source": [
    "def findslowpoint(weight, hidden0, stim = torch.zeros(1, 9) , action = 4):\n",
    "    for i in range(int(5 * 1e3)):\n",
    "        hidden0 = Variable(hidden0,requires_grad=True)\n",
    "        velocity = fixpoints(weight, hidden0, stim = stim, action = action)\n",
    "        if i%2000 == 0:\n",
    "            print (i, velocity)\n",
    "    #     print (hidden0.requires_grad)\n",
    "        velocity.backward()\n",
    "    #     print ('grad0', hidden0.grad[0][0])\n",
    "        hidden0 = torch.add(hidden0, -1e-2 * (hidden0.grad))\n",
    "        hidden0 = Variable(hidden0,requires_grad=True)\n",
    "    return hidden0, velocity\n",
    "    #     print ('grad', hidden0.grad)"
   ]
  },
  {
   "cell_type": "code",
   "execution_count": 39,
   "metadata": {},
   "outputs": [],
   "source": [
    "# preprare initial hidden states for all stimuli  \n",
    "weight = 'weights_cpu/rnn_1515tanh512_checkpoint{}'.format(300)\n",
    "pca = PCA(weight, size = 15)\n",
    "pca.pca(T_duration = 5)\n",
    "States, Poss, Hiddens, Actions, Context = Data_record(weight, k_action = 1, epsilon = 1, size = 15, T = 10, seed_num = 1e3)\n",
    "# Pos2, hidden2, dH2, Action, state2, reward2 = trajectory(game, start, reward_control = 1, size = size, test = size//10-1, init_hidden = False, hidden = hidden)\n",
    "Hiddens0 = []\n",
    "for hs in Hiddens:\n",
    "    for h in hs:\n",
    "#         hidden = pca.relaxation()\n",
    "        Hiddens0.append(h)\n",
    "\n",
    "# long dynamics for different stimulus\n",
    "\n",
    "States, Poss, Hiddens, Actions, Status, Context = Transform(States, Poss, Hiddens, Actions, Context, history = False, size = 15)\n",
    "\n"
   ]
  },
  {
   "cell_type": "code",
   "execution_count": 41,
   "metadata": {},
   "outputs": [
    {
     "data": {
      "text/plain": [
       "496"
      ]
     },
     "execution_count": 41,
     "metadata": {},
     "output_type": "execute_result"
    }
   ],
   "source": [
    "len(Context)"
   ]
  },
  {
   "cell_type": "code",
   "execution_count": null,
   "metadata": {},
   "outputs": [
    {
     "name": "stdout",
     "output_type": "stream",
     "text": [
      "0 tensor(0.3154)\n",
      "2000 tensor(1.00000e-02 *\n",
      "       7.2370)\n",
      "4000 tensor(1.00000e-02 *\n",
      "       7.0877)\n",
      "0 tensor(0.1827)\n",
      "2000 tensor(1.00000e-02 *\n",
      "       5.0111)\n",
      "4000 tensor(1.00000e-02 *\n",
      "       5.0208)\n",
      "0 tensor(0.2708)\n",
      "2000 tensor(1.00000e-02 *\n",
      "       6.4193)\n",
      "4000 tensor(1.00000e-02 *\n",
      "       6.1751)\n",
      "0 tensor(0.2943)\n",
      "2000 tensor(1.00000e-02 *\n",
      "       7.0491)\n",
      "4000 tensor(1.00000e-02 *\n",
      "       6.9812)\n",
      "0 tensor(0.2129)\n",
      "2000 tensor(1.00000e-02 *\n",
      "       5.0650)\n",
      "4000 tensor(1.00000e-02 *\n",
      "       4.9362)\n",
      "0 tensor(0.3516)\n",
      "2000 tensor(1.00000e-02 *\n",
      "       7.0864)\n",
      "4000 tensor(1.00000e-02 *\n",
      "       6.9372)\n",
      "0 tensor(0.2534)\n",
      "2000 tensor(1.00000e-02 *\n",
      "       5.1257)\n",
      "4000 tensor(1.00000e-02 *\n",
      "       5.1262)\n",
      "0 tensor(0.3463)\n",
      "2000 tensor(1.00000e-02 *\n",
      "       7.3732)\n",
      "4000 tensor(1.00000e-02 *\n",
      "       7.2873)\n",
      "0 tensor(0.2010)\n",
      "2000 tensor(1.00000e-02 *\n",
      "       5.1179)\n",
      "4000 tensor(1.00000e-02 *\n",
      "       5.1204)\n",
      "0 tensor(0.3722)\n",
      "2000 tensor(1.00000e-02 *\n",
      "       8.9332)\n",
      "4000 tensor(1.00000e-02 *\n",
      "       8.6383)\n",
      "0 tensor(0.1644)\n",
      "2000 tensor(1.00000e-02 *\n",
      "       5.1228)\n",
      "4000 tensor(1.00000e-02 *\n",
      "       5.1212)\n",
      "0 tensor(0.4818)\n",
      "2000 tensor(0.1094)\n",
      "4000 tensor(0.1055)\n",
      "0 tensor(0.2925)\n",
      "2000 tensor(1.00000e-02 *\n",
      "       4.9734)\n",
      "4000 tensor(1.00000e-02 *\n",
      "       5.0474)\n",
      "0 tensor(0.5559)\n",
      "2000 tensor(0.1195)\n",
      "4000 tensor(0.1151)\n",
      "0 tensor(0.6441)\n",
      "2000 tensor(0.1131)\n",
      "4000 tensor(1.00000e-02 *\n",
      "       8.7830)\n",
      "0 tensor(0.2267)\n",
      "2000 tensor(1.00000e-02 *\n",
      "       5.0291)\n",
      "4000 tensor(1.00000e-02 *\n",
      "       4.9976)\n",
      "0 tensor(0.5135)\n",
      "2000 tensor(1.00000e-02 *\n",
      "       7.9120)\n",
      "4000 tensor(1.00000e-02 *\n",
      "       4.9683)\n",
      "0 tensor(0.6348)\n",
      "2000 tensor(0.1297)\n",
      "4000 tensor(0.1243)\n",
      "0 tensor(0.2200)\n",
      "2000 tensor(1.00000e-02 *\n",
      "       5.0622)\n",
      "4000 tensor(1.00000e-02 *\n",
      "       5.0703)\n",
      "0 tensor(0.2019)\n",
      "2000 tensor(1.00000e-02 *\n",
      "       4.9138)\n",
      "4000 tensor(1.00000e-02 *\n",
      "       4.9262)\n",
      "0 tensor(0.2634)\n",
      "2000 tensor(1.00000e-02 *\n",
      "       5.8457)\n",
      "4000 tensor(1.00000e-02 *\n",
      "       4.9320)\n",
      "0 tensor(0.3293)\n",
      "2000 tensor(1.00000e-02 *\n",
      "       7.5191)\n",
      "4000 tensor(1.00000e-02 *\n",
      "       6.9733)\n",
      "0 tensor(0.3046)\n",
      "2000 tensor(1.00000e-02 *\n",
      "       7.3709)\n",
      "4000 tensor(1.00000e-02 *\n",
      "       7.1075)\n",
      "0 tensor(0.2978)\n",
      "2000 tensor(1.00000e-02 *\n",
      "       6.8847)\n",
      "4000 tensor(1.00000e-02 *\n",
      "       6.0572)\n",
      "0 tensor(0.2343)\n",
      "2000 tensor(1.00000e-02 *\n",
      "       5.0208)\n",
      "4000 tensor(1.00000e-02 *\n",
      "       5.0477)\n",
      "0 tensor(0.6651)\n",
      "2000 tensor(0.1173)\n",
      "4000 tensor(0.1081)\n",
      "0 tensor(1.00000e-02 *\n",
      "       8.2415)\n",
      "2000 tensor(1.00000e-02 *\n",
      "       5.0751)\n",
      "4000 tensor(1.00000e-02 *\n",
      "       5.8055)\n",
      "0 tensor(1.00000e-02 *\n",
      "       7.6796)\n",
      "2000 tensor(1.00000e-02 *\n",
      "       5.1332)\n",
      "4000 tensor(1.00000e-02 *\n",
      "       6.0781)\n",
      "0 tensor(1.00000e-02 *\n",
      "       5.3247)\n",
      "2000 tensor(1.00000e-02 *\n",
      "       5.2393)\n",
      "4000 tensor(1.00000e-02 *\n",
      "       6.5151)\n",
      "0 tensor(0.1677)\n",
      "2000 tensor(1.00000e-02 *\n",
      "       4.9825)\n",
      "4000 tensor(1.00000e-02 *\n",
      "       5.1381)\n",
      "0 tensor(0.2940)\n",
      "2000 tensor(1.00000e-02 *\n",
      "       4.9687)\n",
      "4000 tensor(1.00000e-02 *\n",
      "       4.9310)\n",
      "0 tensor(0.6593)\n",
      "2000 tensor(0.1313)\n",
      "4000 tensor(0.1216)\n",
      "0 tensor(0.1818)\n",
      "2000 tensor(1.00000e-02 *\n",
      "       5.0463)\n",
      "4000 tensor(1.00000e-02 *\n",
      "       5.0613)\n",
      "0 tensor(0.3540)\n",
      "2000 tensor(1.00000e-02 *\n",
      "       6.0112)\n",
      "4000 tensor(1.00000e-02 *\n",
      "       5.1224)\n",
      "0 tensor(0.3228)\n",
      "2000 tensor(1.00000e-02 *\n",
      "       7.3810)\n",
      "4000 tensor(1.00000e-02 *\n",
      "       7.1599)\n",
      "0 tensor(0.1667)\n",
      "2000 tensor(1.00000e-02 *\n",
      "       5.0917)\n",
      "4000 tensor(1.00000e-02 *\n",
      "       5.0854)\n",
      "0 tensor(0.2270)\n",
      "2000 tensor(1.00000e-02 *\n",
      "       5.7636)\n",
      "4000 tensor(1.00000e-02 *\n",
      "       4.9576)\n",
      "0 tensor(0.1329)\n",
      "2000 tensor(1.00000e-02 *\n",
      "       4.7849)\n",
      "4000 tensor(1.00000e-02 *\n",
      "       4.8014)\n",
      "0 tensor(0.1360)\n",
      "2000 tensor(1.00000e-02 *\n",
      "       4.8114)\n",
      "4000 tensor(1.00000e-02 *\n",
      "       4.8215)\n",
      "0 tensor(0.1530)\n",
      "2000 tensor(1.00000e-02 *\n",
      "       5.0769)\n",
      "4000 tensor(1.00000e-02 *\n",
      "       5.0749)\n",
      "0 tensor(0.2366)\n",
      "2000 tensor(1.00000e-02 *\n",
      "       6.0151)\n",
      "4000 tensor(1.00000e-02 *\n",
      "       5.1321)\n",
      "0 tensor(0.1390)\n",
      "2000 tensor(1.00000e-02 *\n",
      "       4.7796)\n",
      "4000 tensor(1.00000e-02 *\n",
      "       4.7920)\n",
      "0 tensor(0.1609)\n",
      "2000 tensor(1.00000e-02 *\n",
      "       4.7560)\n",
      "4000 tensor(1.00000e-02 *\n",
      "       4.7722)\n",
      "0 tensor(0.2755)\n",
      "2000 tensor(1.00000e-02 *\n",
      "       7.2189)\n",
      "4000 tensor(1.00000e-02 *\n",
      "       7.0774)\n",
      "0 tensor(0.2320)\n",
      "2000 tensor(1.00000e-02 *\n",
      "       5.0794)\n",
      "4000 tensor(1.00000e-02 *\n",
      "       5.0944)\n",
      "0 tensor(0.2494)\n",
      "2000 tensor(1.00000e-02 *\n",
      "       6.9330)\n",
      "4000 tensor(1.00000e-02 *\n",
      "       6.8747)\n",
      "0 tensor(0.2954)\n",
      "2000 tensor(1.00000e-02 *\n",
      "       7.9177)\n",
      "4000 tensor(1.00000e-02 *\n",
      "       7.5043)\n",
      "0 tensor(0.2560)\n",
      "2000 tensor(1.00000e-02 *\n",
      "       7.1348)\n",
      "4000 tensor(1.00000e-02 *\n",
      "       7.1143)\n",
      "0 tensor(0.3075)\n",
      "2000 tensor(1.00000e-02 *\n",
      "       8.1306)\n",
      "4000 tensor(1.00000e-02 *\n",
      "       7.6237)\n",
      "0 tensor(0.5031)\n",
      "2000 tensor(0.1188)\n",
      "4000 tensor(0.1105)\n",
      "0 tensor(0.6655)\n",
      "2000 tensor(0.1593)\n",
      "4000 tensor(0.1376)\n",
      "0 tensor(0.2984)\n",
      "2000 tensor(1.00000e-02 *\n",
      "       5.2427)\n",
      "4000 tensor(1.00000e-02 *\n",
      "       5.2326)\n",
      "0 tensor(0.3129)\n",
      "2000 tensor(1.00000e-02 *\n",
      "       7.6156)\n",
      "4000 tensor(1.00000e-02 *\n",
      "       7.2674)\n",
      "0 tensor(0.1562)\n",
      "2000 tensor(1.00000e-02 *\n",
      "       4.7583)\n",
      "4000 tensor(1.00000e-02 *\n",
      "       4.7745)\n",
      "0 tensor(0.2780)\n",
      "2000 tensor(1.00000e-02 *\n",
      "       7.2218)\n",
      "4000 tensor(1.00000e-02 *\n",
      "       7.0436)\n",
      "0 tensor(0.2791)\n",
      "2000 tensor(1.00000e-02 *\n",
      "       7.6927)\n",
      "4000 tensor(1.00000e-02 *\n",
      "       7.4772)\n",
      "0 tensor(0.6285)\n",
      "2000 tensor(0.1434)\n",
      "4000 tensor(0.1312)\n",
      "0 tensor(0.3097)\n",
      "2000 tensor(1.00000e-02 *\n",
      "       8.3852)\n",
      "4000 tensor(1.00000e-02 *\n",
      "       8.1085)\n",
      "0 tensor(0.4137)\n",
      "2000 tensor(1.00000e-02 *\n",
      "       9.2218)\n",
      "4000 tensor(1.00000e-02 *\n",
      "       8.6063)\n",
      "0 tensor(0.1173)\n",
      "2000 tensor(1.00000e-02 *\n",
      "       5.1990)\n",
      "4000 tensor(1.00000e-02 *\n",
      "       5.1868)\n",
      "0 tensor(0.6180)\n",
      "2000 tensor(1.00000e-02 *\n",
      "       6.4636)\n",
      "4000 tensor(1.00000e-02 *\n",
      "       4.9392)\n",
      "0 tensor(0.6929)\n",
      "2000 tensor(0.1066)\n",
      "4000 tensor(1.00000e-02 *\n",
      "       8.1533)\n",
      "0 tensor(0.8466)\n",
      "2000 tensor(0.1700)\n",
      "4000 tensor(0.1569)\n",
      "0 tensor(1.0028)\n",
      "2000 tensor(0.1945)\n",
      "4000 tensor(0.1839)\n",
      "0 tensor(1.0729)\n"
     ]
    }
   ],
   "source": [
    "weight = 'weights_cpu/rnn_1515tanh512_checkpoint{}'.format(300)\n",
    "Hidden300 = []\n",
    "Pos_r = [(9, 5), (9, 13)]\n",
    "for hidden0, c in zip(Hiddens0, Context):\n",
    "    context = pca.game.placefield(Pos_r[int(c)])\n",
    "    hidden0 = torch.from_numpy(hidden0).type(torch.FloatTensor)\n",
    "    hidden0 = pca.relaxation(T = 50, hidden0 = hidden0, context = context)\n",
    "    hidden = findslowpoint(weight, hidden0)\n",
    "    Hidden300.append(hidden)\n",
    "\n",
    "# np.save('fixpoints_300', Hidden300)"
   ]
  },
  {
   "cell_type": "code",
   "execution_count": 59,
   "metadata": {},
   "outputs": [
    {
     "data": {
      "image/png": "[encoded data removed]",
      "text/plain": [
       "<matplotlib.figure.Figure at 0x7f1f041c79b0>"
      ]
     },
     "metadata": {},
     "output_type": "display_data"
    }
   ],
   "source": [
    "pca = PCA(weight)\n",
    "pca.pca(T_duration = 5)\n",
    "color = ['c', 'r', 'b', 'g', 'm']\n",
    "for i, (hidden, statu) in enumerate(zip(Hidden300, Status)):\n",
    "    plt.figure(0)\n",
    "    plt.scatter(hidden[0].data.numpy() @ pca.vect[0], hidden[0].data.numpy() @ pca.vect[1], color = color[statu])"
   ]
  },
  {
   "cell_type": "code",
   "execution_count": 41,
   "metadata": {},
   "outputs": [
    {
     "data": {
      "image/png": "[encoded data removed]",
      "text/plain": [
       "<matplotlib.figure.Figure at 0x7f1ef18ef320>"
      ]
     },
     "metadata": {},
     "output_type": "display_data"
    }
   ],
   "source": [
    "# pca = PCA(weight)\n",
    "# pca.pca(T_duration = 5)\n",
    "color = ['r', 'g', 'b', 'm', 'c']\n",
    "for i, (hidden, statu) in enumerate(zip(Hidden300, Status)):\n",
    "    plt.figure(0)\n",
    "    plt.scatter(hidden[0].data.numpy() @ pca.vect[0], hidden[0].data.numpy() @ pca.vect[2], color = color[statu])"
   ]
  },
  {
   "cell_type": "code",
   "execution_count": 42,
   "metadata": {},
   "outputs": [
    {
     "data": {
      "image/png": "[encoded data removed]",
      "text/plain": [
       "<matplotlib.figure.Figure at 0x7f1ef17b65f8>"
      ]
     },
     "metadata": {},
     "output_type": "display_data"
    }
   ],
   "source": [
    "# pca = PCA(weight)\n",
    "# pca.pca(T_duration = 5)\n",
    "color = ['r', 'g', 'b', 'm', 'c']\n",
    "for i, (hidden, statu) in enumerate(zip(Hidden300, Status)):\n",
    "    plt.figure(0)\n",
    "    plt.scatter(hidden[0].data.numpy() @ pca.vect[0], hidden[0].data.numpy() @ pca.vect[3], color = color[statu])"
   ]
  },
  {
   "cell_type": "code",
   "execution_count": 44,
   "metadata": {},
   "outputs": [
    {
     "data": {
      "image/png": "[encoded data removed]",
      "text/plain": [
       "<matplotlib.figure.Figure at 0x7f1ef1618be0>"
      ]
     },
     "metadata": {},
     "output_type": "display_data"
    }
   ],
   "source": [
    "color = ['r', 'g', 'b', 'm', 'c']\n",
    "for i, (hidden, statu) in enumerate(zip(Hidden300, Status)):\n",
    "    plt.figure(0)\n",
    "    plt.scatter(hidden[0].data.numpy() @ pca.vect[0], hidden[0].data.numpy() @ pca.vect[4], color = color[statu])"
   ]
  },
  {
   "cell_type": "code",
   "execution_count": 45,
   "metadata": {},
   "outputs": [
    {
     "data": {
      "image/png": "[encoded data removed]",
      "text/plain": [
       "<matplotlib.figure.Figure at 0x7f1ef1618358>"
      ]
     },
     "metadata": {},
     "output_type": "display_data"
    }
   ],
   "source": [
    "color = ['r', 'g', 'b', 'm', 'c']\n",
    "for i, (hidden, statu) in enumerate(zip(Hidden300, Status)):\n",
    "    plt.figure(0)\n",
    "    plt.scatter(hidden[0].data.numpy() @ pca.vect[0], hidden[0].data.numpy() @ pca.vect[5], color = color[statu])"
   ]
  },
  {
   "cell_type": "markdown",
   "metadata": {},
   "source": [
    "### Summary\n",
    "\n",
    "**0 The strategy is directly reflecting the internal dynamics**\n",
    "\n",
    "**1 The ability to model the external world lies in richness of internal dynamics, for example the distribution of timescales forms during the pretraining**\n",
    "\n",
    "**2 To characterize the rich internal timescales , there are 5 features, 1,  the ratio limit cycle/fix point 2,  the mean of relaxation time to fix point 3, the variance of relaxation timescale to fix point  4, the distribution of timescales of limit cycles 5,  The multi-stablity from stimulus**\n",
    "\n",
    "**3 The performance are : extrapolation performance(small, large),  intrapolation performance(small , middle , large),  learning speed, learning stability,  Try to to connect the 5 features of dynamics to the performance metrix**\n",
    "\n",
    "**4, Until now ratio limit cycle/fix point during the close loop form seems to indicates best the performance but with noise.**  \n"
   ]
  },
  {
   "cell_type": "markdown",
   "metadata": {},
   "source": [
    "**what is the relation between close loop and open loop analysis?**"
   ]
  },
  {
   "cell_type": "markdown",
   "metadata": {},
   "source": [
    "longer time, there is no pheonmean associate with multi-stability"
   ]
  },
  {
   "cell_type": "markdown",
   "metadata": {},
   "source": [
    "Here with action feedback, dynamics shift to a totally different regime which is around hopf bifurcation, but it is not hugely shaped by the stimulus"
   ]
  },
  {
   "cell_type": "markdown",
   "metadata": {},
   "source": [
    "From this graph of PC, we will see that the representation states of trajectory (3,5) and (14,5) are actually qutie close to each other , reflecting symmetry in real space, it is in spirit of predictive decoding, using least number of interal states to play well. "
   ]
  },
  {
   "cell_type": "markdown",
   "metadata": {},
   "source": [
    "# Conclusion\n",
    "**Internal dynamics rather than decoding performance influences more the performance in uncertain enviroments**\n",
    "\n",
    "**Consider to think in global loops rather than separated system, thus the coupled dynamical system.  This system, which has its genome on its internal weights, will have quite different different pheno-types from the global loops,  richness of internal dynamics turns into extenable phenotypes which supports behaviours across scales.   The different types of attractors, fix point, limit cycle becomes substrate of strategy in different size rooms.  Thus generalization can be done until certain size, which offers complicate behaviour with a \"simple mind\"**\n",
    "\n",
    "**The triangle between decoding, dynamics and navigation should be like: 1, dynamics coded by internal weight is most fundamental, it gives rise to different representations(phenotypes).   2,  The relation between decoding and navigation are reciprocal. not random behaviour gives better enviromental prediction(complement the free energy principle) 2,  we should distinguish internal dynamics and global dynamics**"
   ]
  },
  {
   "cell_type": "code",
   "execution_count": null,
   "metadata": {},
   "outputs": [],
   "source": []
  }
 ],
 "metadata": {
  "anaconda-cloud": {},
  "kernelspec": {
   "display_name": "Python 3",
   "language": "python",
   "name": "python3"
  },
  "language_info": {
   "codemirror_mode": {
    "name": "ipython",
    "version": 3
   },
   "file_extension": ".py",
   "mimetype": "text/x-python",
   "name": "python",
   "nbconvert_exporter": "python",
   "pygments_lexer": "ipython3",
   "version": "3.6.3"
  },
  "latex_envs": {
   "LaTeX_envs_menu_present": true,
   "autoclose": false,
   "autocomplete": true,
   "bibliofile": "biblio.bib",
   "cite_by": "apalike",
   "current_citInitial": 1,
   "eqLabelWithNumbers": true,
   "eqNumInitial": 1,
   "hotkeys": {
    "equation": "Ctrl-E",
    "itemize": "Ctrl-I"
   },
   "labels_anchors": false,
   "latex_user_defs": false,
   "report_style_numbering": false,
   "user_envs_cfg": false
  },
  "toc": {
   "nav_menu": {},
   "number_sections": true,
   "sideBar": true,
   "skip_h1_title": false,
   "title_cell": "Table of Contents",
   "title_sidebar": "Contents",
   "toc_cell": true,
   "toc_position": {
    "height": "759px",
    "left": "0px",
    "right": "1228px",
    "top": "67px",
    "width": "212px"
   },
   "toc_section_display": "block",
   "toc_window_display": true
  },
  "varInspector": {
   "cols": {
    "lenName": 16,
    "lenType": 16,
    "lenVar": 40
   },
   "kernels_config": {
    "python": {
     "delete_cmd_postfix": "",
     "delete_cmd_prefix": "del ",
     "library": "var_list.py",
     "varRefreshCmd": "print(var_dic_list())"
    },
    "r": {
     "delete_cmd_postfix": ") ",
     "delete_cmd_prefix": "rm(",
     "library": "var_list.r",
     "varRefreshCmd": "cat(var_dic_list()) "
    }
   },
   "types_to_exclude": [
    "module",
    "function",
    "builtin_function_or_method",
    "instance",
    "_Feature"
   ],
   "window_display": false
  }
 },
 "nbformat": 4,
 "nbformat_minor": 2
}
